{
 "cells": [
  {
   "cell_type": "markdown",
   "metadata": {},
   "source": [
    "# Geodesics in Kerr spacetime\n",
    "## Computation with `kerrgeodesic_gw`\n",
    "\n",
    "This Jupyter notebook requires [SageMath](http://www.sagemath.org/) (version $\\geq$ 8.2), with the package [kerrgeodesic_gw](https://github.com/BlackHolePerturbationToolkit/kerrgeodesic_gw) (version $\\geq$ 0.3). To install the latter, simply run \n",
    "```\n",
    "sage -pip install kerrgeodesic_gw\n",
    "```\n",
    "in a terminal."
   ]
  },
  {
   "cell_type": "code",
   "execution_count": 1,
   "metadata": {},
   "outputs": [
    {
     "data": {
      "text/plain": [
       "'SageMath version 9.4, Release Date: 2021-08-22'"
      ]
     },
     "execution_count": 1,
     "metadata": {},
     "output_type": "execute_result"
    }
   ],
   "source": [
    "version()"
   ]
  },
  {
   "cell_type": "markdown",
   "metadata": {},
   "source": [
    "First, we set up the notebook to use LaTeX-formatted display:"
   ]
  },
  {
   "cell_type": "code",
   "execution_count": 2,
   "metadata": {},
   "outputs": [],
   "source": [
    "%display latex"
   ]
  },
  {
   "cell_type": "markdown",
   "metadata": {},
   "source": [
    "and we ask for CPU demanding computations to be performed in parallel on 8 processes:"
   ]
  },
  {
   "cell_type": "code",
   "execution_count": 3,
   "metadata": {},
   "outputs": [],
   "source": [
    "Parallelism().set(nproc=8)"
   ]
  },
  {
   "cell_type": "markdown",
   "metadata": {},
   "source": [
    "A Kerr black bole is entirely defined by two parameters $(m, a)$, where $m$ is the black hole mass and $a$ is the black hole angular momentum divided by $m$.\n",
    "In this notebook, we shall set $m=1$ and we denote the angular momentum parameter $a$ by the symbolic variable `a`, using `a0` for a specific numerical value:"
   ]
  },
  {
   "cell_type": "code",
   "execution_count": 4,
   "metadata": {},
   "outputs": [],
   "source": [
    "a = var('a')\n",
    "a0 = 0.998"
   ]
  },
  {
   "cell_type": "markdown",
   "metadata": {},
   "source": [
    "The spacetime object is created as an instance of the class `KerrBH`:"
   ]
  },
  {
   "cell_type": "code",
   "execution_count": 5,
   "metadata": {},
   "outputs": [
    {
     "name": "stdout",
     "output_type": "stream",
     "text": [
      "Kerr spacetime M\n"
     ]
    }
   ],
   "source": [
    "from kerrgeodesic_gw import KerrBH\n",
    "M = KerrBH(a)\n",
    "print(M)"
   ]
  },
  {
   "cell_type": "markdown",
   "metadata": {},
   "source": [
    "The object `M` is endowed with many methods, which can be discovered via the TAB key:"
   ]
  },
  {
   "cell_type": "code",
   "execution_count": 6,
   "metadata": {},
   "outputs": [],
   "source": [
    "# M.<TAB>"
   ]
  },
  {
   "cell_type": "markdown",
   "metadata": {},
   "source": [
    "One of them returns the Boyer-Lindquist coordinate $r$ of the event horizon:"
   ]
  },
  {
   "cell_type": "code",
   "execution_count": 7,
   "metadata": {},
   "outputs": [
    {
     "data": {
      "text/html": [
       "<html>\\[\\newcommand{\\Bold}[1]{\\mathbf{#1}}\\sqrt{-a^{2} + 1} + 1\\]</html>"
      ],
      "text/latex": [
       "$$\\newcommand{\\Bold}[1]{\\mathbf{#1}}\\sqrt{-a^{2} + 1} + 1$$"
      ],
      "text/plain": [
       "sqrt(-a^2 + 1) + 1"
      ]
     },
     "execution_count": 7,
     "metadata": {},
     "output_type": "execute_result"
    }
   ],
   "source": [
    "rH = M.event_horizon_radius()\n",
    "rH"
   ]
  },
  {
   "cell_type": "code",
   "execution_count": 8,
   "metadata": {},
   "outputs": [
    {
     "data": {
      "text/html": [
       "<html>\\[\\newcommand{\\Bold}[1]{\\mathbf{#1}}1.06321392251712\\]</html>"
      ],
      "text/latex": [
       "$$\\newcommand{\\Bold}[1]{\\mathbf{#1}}1.06321392251712$$"
      ],
      "text/plain": [
       "1.06321392251712"
      ]
     },
     "execution_count": 8,
     "metadata": {},
     "output_type": "execute_result"
    }
   ],
   "source": [
    "rH0 = rH.subs({a: a0})\n",
    "rH0"
   ]
  },
  {
   "cell_type": "markdown",
   "metadata": {},
   "source": [
    "Another one returns the chart of Boyer-Lindquist coordinates and allows the user to instanciate the Python variables `(t, r, th, ph)` to the coordinates $(t,r,\\theta,\\phi)$:"
   ]
  },
  {
   "cell_type": "code",
   "execution_count": 9,
   "metadata": {},
   "outputs": [
    {
     "data": {
      "text/html": [
       "<html>\\[\\newcommand{\\Bold}[1]{\\mathbf{#1}}\\left(M,(t, r, {\\theta}, {\\phi})\\right)\\]</html>"
      ],
      "text/latex": [
       "$$\\newcommand{\\Bold}[1]{\\mathbf{#1}}\\left(M,(t, r, {\\theta}, {\\phi})\\right)$$"
      ],
      "text/plain": [
       "Chart (M, (t, r, th, ph))"
      ]
     },
     "execution_count": 9,
     "metadata": {},
     "output_type": "execute_result"
    }
   ],
   "source": [
    "BL.<t, r, th, ph> = M.boyer_lindquist_coordinates()\n",
    "BL"
   ]
  },
  {
   "cell_type": "markdown",
   "metadata": {},
   "source": [
    "The metric tensor is naturally returned by the method `metric()`:"
   ]
  },
  {
   "cell_type": "code",
   "execution_count": 10,
   "metadata": {
    "scrolled": true
   },
   "outputs": [
    {
     "data": {
      "text/html": [
       "<html>\\[\\newcommand{\\Bold}[1]{\\mathbf{#1}}g = \\left( -\\frac{a^{2} \\cos\\left({\\theta}\\right)^{2} + r^{2} - 2 \\, r}{a^{2} \\cos\\left({\\theta}\\right)^{2} + r^{2}} \\right) \\mathrm{d} t\\otimes \\mathrm{d} t + \\left( -\\frac{2 \\, a r \\sin\\left({\\theta}\\right)^{2}}{a^{2} \\cos\\left({\\theta}\\right)^{2} + r^{2}} \\right) \\mathrm{d} t\\otimes \\mathrm{d} {\\phi} + \\left( \\frac{a^{2} \\cos\\left({\\theta}\\right)^{2} + r^{2}}{a^{2} + r^{2} - 2 \\, r} \\right) \\mathrm{d} r\\otimes \\mathrm{d} r + \\left( a^{2} \\cos\\left({\\theta}\\right)^{2} + r^{2} \\right) \\mathrm{d} {\\theta}\\otimes \\mathrm{d} {\\theta} + \\left( -\\frac{2 \\, a r \\sin\\left({\\theta}\\right)^{2}}{a^{2} \\cos\\left({\\theta}\\right)^{2} + r^{2}} \\right) \\mathrm{d} {\\phi}\\otimes \\mathrm{d} t + \\left( \\frac{2 \\, a^{2} r \\sin\\left({\\theta}\\right)^{4} + {\\left(a^{2} r^{2} + r^{4} + {\\left(a^{4} + a^{2} r^{2}\\right)} \\cos\\left({\\theta}\\right)^{2}\\right)} \\sin\\left({\\theta}\\right)^{2}}{a^{2} \\cos\\left({\\theta}\\right)^{2} + r^{2}} \\right) \\mathrm{d} {\\phi}\\otimes \\mathrm{d} {\\phi}\\]</html>"
      ],
      "text/latex": [
       "$$\\newcommand{\\Bold}[1]{\\mathbf{#1}}g = \\left( -\\frac{a^{2} \\cos\\left({\\theta}\\right)^{2} + r^{2} - 2 \\, r}{a^{2} \\cos\\left({\\theta}\\right)^{2} + r^{2}} \\right) \\mathrm{d} t\\otimes \\mathrm{d} t + \\left( -\\frac{2 \\, a r \\sin\\left({\\theta}\\right)^{2}}{a^{2} \\cos\\left({\\theta}\\right)^{2} + r^{2}} \\right) \\mathrm{d} t\\otimes \\mathrm{d} {\\phi} + \\left( \\frac{a^{2} \\cos\\left({\\theta}\\right)^{2} + r^{2}}{a^{2} + r^{2} - 2 \\, r} \\right) \\mathrm{d} r\\otimes \\mathrm{d} r + \\left( a^{2} \\cos\\left({\\theta}\\right)^{2} + r^{2} \\right) \\mathrm{d} {\\theta}\\otimes \\mathrm{d} {\\theta} + \\left( -\\frac{2 \\, a r \\sin\\left({\\theta}\\right)^{2}}{a^{2} \\cos\\left({\\theta}\\right)^{2} + r^{2}} \\right) \\mathrm{d} {\\phi}\\otimes \\mathrm{d} t + \\left( \\frac{2 \\, a^{2} r \\sin\\left({\\theta}\\right)^{4} + {\\left(a^{2} r^{2} + r^{4} + {\\left(a^{4} + a^{2} r^{2}\\right)} \\cos\\left({\\theta}\\right)^{2}\\right)} \\sin\\left({\\theta}\\right)^{2}}{a^{2} \\cos\\left({\\theta}\\right)^{2} + r^{2}} \\right) \\mathrm{d} {\\phi}\\otimes \\mathrm{d} {\\phi}$$"
      ],
      "text/plain": [
       "g = -(a^2*cos(th)^2 + r^2 - 2*r)/(a^2*cos(th)^2 + r^2) dt⊗dt - 2*a*r*sin(th)^2/(a^2*cos(th)^2 + r^2) dt⊗dph + (a^2*cos(th)^2 + r^2)/(a^2 + r^2 - 2*r) dr⊗dr + (a^2*cos(th)^2 + r^2) dth⊗dth - 2*a*r*sin(th)^2/(a^2*cos(th)^2 + r^2) dph⊗dt + (2*a^2*r*sin(th)^4 + (a^2*r^2 + r^4 + (a^4 + a^2*r^2)*cos(th)^2)*sin(th)^2)/(a^2*cos(th)^2 + r^2) dph⊗dph"
      ]
     },
     "execution_count": 10,
     "metadata": {},
     "output_type": "execute_result"
    }
   ],
   "source": [
    "g = M.metric()\n",
    "g.display()"
   ]
  },
  {
   "cell_type": "markdown",
   "metadata": {},
   "source": [
    "Again many methods are available on metric objects and one can discover them via the TAB key:"
   ]
  },
  {
   "cell_type": "code",
   "execution_count": 11,
   "metadata": {},
   "outputs": [],
   "source": [
    "# g.<TAB>"
   ]
  },
  {
   "cell_type": "markdown",
   "metadata": {},
   "source": [
    "For instance `christoffel_symbols_display()` computes the Christofell symbols with respect to the default chart (Boyer-Lindquist) and displays them:"
   ]
  },
  {
   "cell_type": "code",
   "execution_count": 12,
   "metadata": {},
   "outputs": [
    {
     "data": {
      "text/html": [
       "<html>\\[\\newcommand{\\Bold}[1]{\\mathbf{#1}}\\begin{array}{lcl} \\Gamma_{ \\phantom{\\, t} \\, t \\, r }^{ \\, t \\phantom{\\, t} \\phantom{\\, r} } & = & -\\frac{a^{4} - r^{4} - {\\left(a^{4} + a^{2} r^{2}\\right)} \\sin\\left({\\theta}\\right)^{2}}{a^{2} r^{4} + r^{6} - 2 \\, r^{5} + {\\left(a^{6} + a^{4} r^{2} - 2 \\, a^{4} r\\right)} \\cos\\left({\\theta}\\right)^{4} + 2 \\, {\\left(a^{4} r^{2} + a^{2} r^{4} - 2 \\, a^{2} r^{3}\\right)} \\cos\\left({\\theta}\\right)^{2}} \\\\ \\Gamma_{ \\phantom{\\, t} \\, t \\, {\\theta} }^{ \\, t \\phantom{\\, t} \\phantom{\\, {\\theta}} } & = & -\\frac{2 \\, a^{2} r \\cos\\left({\\theta}\\right) \\sin\\left({\\theta}\\right)}{a^{4} \\cos\\left({\\theta}\\right)^{4} + 2 \\, a^{2} r^{2} \\cos\\left({\\theta}\\right)^{2} + r^{4}} \\\\ \\Gamma_{ \\phantom{\\, t} \\, r \\, {\\phi} }^{ \\, t \\phantom{\\, r} \\phantom{\\, {\\phi}} } & = & -\\frac{{\\left(a^{3} r^{2} + 3 \\, a r^{4} - {\\left(a^{5} - a^{3} r^{2}\\right)} \\cos\\left({\\theta}\\right)^{2}\\right)} \\sin\\left({\\theta}\\right)^{2}}{a^{2} r^{4} + r^{6} - 2 \\, r^{5} + {\\left(a^{6} + a^{4} r^{2} - 2 \\, a^{4} r\\right)} \\cos\\left({\\theta}\\right)^{4} + 2 \\, {\\left(a^{4} r^{2} + a^{2} r^{4} - 2 \\, a^{2} r^{3}\\right)} \\cos\\left({\\theta}\\right)^{2}} \\\\ \\Gamma_{ \\phantom{\\, t} \\, {\\theta} \\, {\\phi} }^{ \\, t \\phantom{\\, {\\theta}} \\phantom{\\, {\\phi}} } & = & -\\frac{2 \\, {\\left(a^{5} r \\cos\\left({\\theta}\\right) \\sin\\left({\\theta}\\right)^{5} - {\\left(a^{5} r + a^{3} r^{3}\\right)} \\cos\\left({\\theta}\\right) \\sin\\left({\\theta}\\right)^{3}\\right)}}{a^{6} \\cos\\left({\\theta}\\right)^{6} + 3 \\, a^{4} r^{2} \\cos\\left({\\theta}\\right)^{4} + 3 \\, a^{2} r^{4} \\cos\\left({\\theta}\\right)^{2} + r^{6}} \\\\ \\Gamma_{ \\phantom{\\, r} \\, t \\, t }^{ \\, r \\phantom{\\, t} \\phantom{\\, t} } & = & \\frac{a^{2} r^{2} + r^{4} - 2 \\, r^{3} - {\\left(a^{4} + a^{2} r^{2} - 2 \\, a^{2} r\\right)} \\cos\\left({\\theta}\\right)^{2}}{a^{6} \\cos\\left({\\theta}\\right)^{6} + 3 \\, a^{4} r^{2} \\cos\\left({\\theta}\\right)^{4} + 3 \\, a^{2} r^{4} \\cos\\left({\\theta}\\right)^{2} + r^{6}} \\\\ \\Gamma_{ \\phantom{\\, r} \\, t \\, {\\phi} }^{ \\, r \\phantom{\\, t} \\phantom{\\, {\\phi}} } & = & -\\frac{{\\left(a^{3} r^{2} + a r^{4} - 2 \\, a r^{3} - {\\left(a^{5} + a^{3} r^{2} - 2 \\, a^{3} r\\right)} \\cos\\left({\\theta}\\right)^{2}\\right)} \\sin\\left({\\theta}\\right)^{2}}{a^{6} \\cos\\left({\\theta}\\right)^{6} + 3 \\, a^{4} r^{2} \\cos\\left({\\theta}\\right)^{4} + 3 \\, a^{2} r^{4} \\cos\\left({\\theta}\\right)^{2} + r^{6}} \\\\ \\Gamma_{ \\phantom{\\, r} \\, r \\, r }^{ \\, r \\phantom{\\, r} \\phantom{\\, r} } & = & \\frac{{\\left(a^{2} r - a^{2}\\right)} \\sin\\left({\\theta}\\right)^{2} + a^{2} - r^{2}}{a^{2} r^{2} + r^{4} - 2 \\, r^{3} + {\\left(a^{4} + a^{2} r^{2} - 2 \\, a^{2} r\\right)} \\cos\\left({\\theta}\\right)^{2}} \\\\ \\Gamma_{ \\phantom{\\, r} \\, r \\, {\\theta} }^{ \\, r \\phantom{\\, r} \\phantom{\\, {\\theta}} } & = & -\\frac{a^{2} \\cos\\left({\\theta}\\right) \\sin\\left({\\theta}\\right)}{a^{2} \\cos\\left({\\theta}\\right)^{2} + r^{2}} \\\\ \\Gamma_{ \\phantom{\\, r} \\, {\\theta} \\, {\\theta} }^{ \\, r \\phantom{\\, {\\theta}} \\phantom{\\, {\\theta}} } & = & -\\frac{a^{2} r + r^{3} - 2 \\, r^{2}}{a^{2} \\cos\\left({\\theta}\\right)^{2} + r^{2}} \\\\ \\Gamma_{ \\phantom{\\, r} \\, {\\phi} \\, {\\phi} }^{ \\, r \\phantom{\\, {\\phi}} \\phantom{\\, {\\phi}} } & = & \\frac{{\\left(a^{4} r^{2} + a^{2} r^{4} - 2 \\, a^{2} r^{3} - {\\left(a^{6} + a^{4} r^{2} - 2 \\, a^{4} r\\right)} \\cos\\left({\\theta}\\right)^{2}\\right)} \\sin\\left({\\theta}\\right)^{4} - {\\left(a^{2} r^{5} + r^{7} - 2 \\, r^{6} + {\\left(a^{6} r + a^{4} r^{3} - 2 \\, a^{4} r^{2}\\right)} \\cos\\left({\\theta}\\right)^{4} + 2 \\, {\\left(a^{4} r^{3} + a^{2} r^{5} - 2 \\, a^{2} r^{4}\\right)} \\cos\\left({\\theta}\\right)^{2}\\right)} \\sin\\left({\\theta}\\right)^{2}}{a^{6} \\cos\\left({\\theta}\\right)^{6} + 3 \\, a^{4} r^{2} \\cos\\left({\\theta}\\right)^{4} + 3 \\, a^{2} r^{4} \\cos\\left({\\theta}\\right)^{2} + r^{6}} \\\\ \\Gamma_{ \\phantom{\\, {\\theta}} \\, t \\, t }^{ \\, {\\theta} \\phantom{\\, t} \\phantom{\\, t} } & = & -\\frac{2 \\, a^{2} r \\cos\\left({\\theta}\\right) \\sin\\left({\\theta}\\right)}{a^{6} \\cos\\left({\\theta}\\right)^{6} + 3 \\, a^{4} r^{2} \\cos\\left({\\theta}\\right)^{4} + 3 \\, a^{2} r^{4} \\cos\\left({\\theta}\\right)^{2} + r^{6}} \\\\ \\Gamma_{ \\phantom{\\, {\\theta}} \\, t \\, {\\phi} }^{ \\, {\\theta} \\phantom{\\, t} \\phantom{\\, {\\phi}} } & = & \\frac{2 \\, {\\left(a^{3} r + a r^{3}\\right)} \\cos\\left({\\theta}\\right) \\sin\\left({\\theta}\\right)}{a^{6} \\cos\\left({\\theta}\\right)^{6} + 3 \\, a^{4} r^{2} \\cos\\left({\\theta}\\right)^{4} + 3 \\, a^{2} r^{4} \\cos\\left({\\theta}\\right)^{2} + r^{6}} \\\\ \\Gamma_{ \\phantom{\\, {\\theta}} \\, r \\, r }^{ \\, {\\theta} \\phantom{\\, r} \\phantom{\\, r} } & = & \\frac{a^{2} \\cos\\left({\\theta}\\right) \\sin\\left({\\theta}\\right)}{a^{2} r^{2} + r^{4} - 2 \\, r^{3} + {\\left(a^{4} + a^{2} r^{2} - 2 \\, a^{2} r\\right)} \\cos\\left({\\theta}\\right)^{2}} \\\\ \\Gamma_{ \\phantom{\\, {\\theta}} \\, r \\, {\\theta} }^{ \\, {\\theta} \\phantom{\\, r} \\phantom{\\, {\\theta}} } & = & \\frac{r}{a^{2} \\cos\\left({\\theta}\\right)^{2} + r^{2}} \\\\ \\Gamma_{ \\phantom{\\, {\\theta}} \\, {\\theta} \\, {\\theta} }^{ \\, {\\theta} \\phantom{\\, {\\theta}} \\phantom{\\, {\\theta}} } & = & -\\frac{a^{2} \\cos\\left({\\theta}\\right) \\sin\\left({\\theta}\\right)}{a^{2} \\cos\\left({\\theta}\\right)^{2} + r^{2}} \\\\ \\Gamma_{ \\phantom{\\, {\\theta}} \\, {\\phi} \\, {\\phi} }^{ \\, {\\theta} \\phantom{\\, {\\phi}} \\phantom{\\, {\\phi}} } & = & -\\frac{{\\left({\\left(a^{6} + a^{4} r^{2} - 2 \\, a^{4} r\\right)} \\cos\\left({\\theta}\\right)^{5} + 2 \\, {\\left(a^{4} r^{2} + a^{2} r^{4} - 2 \\, a^{2} r^{3}\\right)} \\cos\\left({\\theta}\\right)^{3} + {\\left(a^{2} r^{4} + r^{6} + 2 \\, a^{4} r + 4 \\, a^{2} r^{3}\\right)} \\cos\\left({\\theta}\\right)\\right)} \\sin\\left({\\theta}\\right)}{a^{6} \\cos\\left({\\theta}\\right)^{6} + 3 \\, a^{4} r^{2} \\cos\\left({\\theta}\\right)^{4} + 3 \\, a^{2} r^{4} \\cos\\left({\\theta}\\right)^{2} + r^{6}} \\\\ \\Gamma_{ \\phantom{\\, {\\phi}} \\, t \\, r }^{ \\, {\\phi} \\phantom{\\, t} \\phantom{\\, r} } & = & -\\frac{a^{3} \\cos\\left({\\theta}\\right)^{2} - a r^{2}}{a^{2} r^{4} + r^{6} - 2 \\, r^{5} + {\\left(a^{6} + a^{4} r^{2} - 2 \\, a^{4} r\\right)} \\cos\\left({\\theta}\\right)^{4} + 2 \\, {\\left(a^{4} r^{2} + a^{2} r^{4} - 2 \\, a^{2} r^{3}\\right)} \\cos\\left({\\theta}\\right)^{2}} \\\\ \\Gamma_{ \\phantom{\\, {\\phi}} \\, t \\, {\\theta} }^{ \\, {\\phi} \\phantom{\\, t} \\phantom{\\, {\\theta}} } & = & -\\frac{2 \\, a r \\cos\\left({\\theta}\\right)}{{\\left(a^{4} \\cos\\left({\\theta}\\right)^{4} + 2 \\, a^{2} r^{2} \\cos\\left({\\theta}\\right)^{2} + r^{4}\\right)} \\sin\\left({\\theta}\\right)} \\\\ \\Gamma_{ \\phantom{\\, {\\phi}} \\, r \\, {\\phi} }^{ \\, {\\phi} \\phantom{\\, r} \\phantom{\\, {\\phi}} } & = & \\frac{r^{5} + {\\left(a^{4} r - a^{4}\\right)} \\cos\\left({\\theta}\\right)^{4} - a^{2} r^{2} - 2 \\, r^{4} + {\\left(2 \\, a^{2} r^{3} + a^{4} - a^{2} r^{2}\\right)} \\cos\\left({\\theta}\\right)^{2}}{a^{2} r^{4} + r^{6} - 2 \\, r^{5} + {\\left(a^{6} + a^{4} r^{2} - 2 \\, a^{4} r\\right)} \\cos\\left({\\theta}\\right)^{4} + 2 \\, {\\left(a^{4} r^{2} + a^{2} r^{4} - 2 \\, a^{2} r^{3}\\right)} \\cos\\left({\\theta}\\right)^{2}} \\\\ \\Gamma_{ \\phantom{\\, {\\phi}} \\, {\\theta} \\, {\\phi} }^{ \\, {\\phi} \\phantom{\\, {\\theta}} \\phantom{\\, {\\phi}} } & = & \\frac{a^{4} \\cos\\left({\\theta}\\right)^{5} + 2 \\, {\\left(a^{2} r^{2} - a^{2} r\\right)} \\cos\\left({\\theta}\\right)^{3} + {\\left(r^{4} + 2 \\, a^{2} r\\right)} \\cos\\left({\\theta}\\right)}{{\\left(a^{4} \\cos\\left({\\theta}\\right)^{4} + 2 \\, a^{2} r^{2} \\cos\\left({\\theta}\\right)^{2} + r^{4}\\right)} \\sin\\left({\\theta}\\right)} \\end{array}\\]</html>"
      ],
      "text/latex": [
       "$$\\newcommand{\\Bold}[1]{\\mathbf{#1}}\\begin{array}{lcl} \\Gamma_{ \\phantom{\\, t} \\, t \\, r }^{ \\, t \\phantom{\\, t} \\phantom{\\, r} } & = & -\\frac{a^{4} - r^{4} - {\\left(a^{4} + a^{2} r^{2}\\right)} \\sin\\left({\\theta}\\right)^{2}}{a^{2} r^{4} + r^{6} - 2 \\, r^{5} + {\\left(a^{6} + a^{4} r^{2} - 2 \\, a^{4} r\\right)} \\cos\\left({\\theta}\\right)^{4} + 2 \\, {\\left(a^{4} r^{2} + a^{2} r^{4} - 2 \\, a^{2} r^{3}\\right)} \\cos\\left({\\theta}\\right)^{2}} \\\\ \\Gamma_{ \\phantom{\\, t} \\, t \\, {\\theta} }^{ \\, t \\phantom{\\, t} \\phantom{\\, {\\theta}} } & = & -\\frac{2 \\, a^{2} r \\cos\\left({\\theta}\\right) \\sin\\left({\\theta}\\right)}{a^{4} \\cos\\left({\\theta}\\right)^{4} + 2 \\, a^{2} r^{2} \\cos\\left({\\theta}\\right)^{2} + r^{4}} \\\\ \\Gamma_{ \\phantom{\\, t} \\, r \\, {\\phi} }^{ \\, t \\phantom{\\, r} \\phantom{\\, {\\phi}} } & = & -\\frac{{\\left(a^{3} r^{2} + 3 \\, a r^{4} - {\\left(a^{5} - a^{3} r^{2}\\right)} \\cos\\left({\\theta}\\right)^{2}\\right)} \\sin\\left({\\theta}\\right)^{2}}{a^{2} r^{4} + r^{6} - 2 \\, r^{5} + {\\left(a^{6} + a^{4} r^{2} - 2 \\, a^{4} r\\right)} \\cos\\left({\\theta}\\right)^{4} + 2 \\, {\\left(a^{4} r^{2} + a^{2} r^{4} - 2 \\, a^{2} r^{3}\\right)} \\cos\\left({\\theta}\\right)^{2}} \\\\ \\Gamma_{ \\phantom{\\, t} \\, {\\theta} \\, {\\phi} }^{ \\, t \\phantom{\\, {\\theta}} \\phantom{\\, {\\phi}} } & = & -\\frac{2 \\, {\\left(a^{5} r \\cos\\left({\\theta}\\right) \\sin\\left({\\theta}\\right)^{5} - {\\left(a^{5} r + a^{3} r^{3}\\right)} \\cos\\left({\\theta}\\right) \\sin\\left({\\theta}\\right)^{3}\\right)}}{a^{6} \\cos\\left({\\theta}\\right)^{6} + 3 \\, a^{4} r^{2} \\cos\\left({\\theta}\\right)^{4} + 3 \\, a^{2} r^{4} \\cos\\left({\\theta}\\right)^{2} + r^{6}} \\\\ \\Gamma_{ \\phantom{\\, r} \\, t \\, t }^{ \\, r \\phantom{\\, t} \\phantom{\\, t} } & = & \\frac{a^{2} r^{2} + r^{4} - 2 \\, r^{3} - {\\left(a^{4} + a^{2} r^{2} - 2 \\, a^{2} r\\right)} \\cos\\left({\\theta}\\right)^{2}}{a^{6} \\cos\\left({\\theta}\\right)^{6} + 3 \\, a^{4} r^{2} \\cos\\left({\\theta}\\right)^{4} + 3 \\, a^{2} r^{4} \\cos\\left({\\theta}\\right)^{2} + r^{6}} \\\\ \\Gamma_{ \\phantom{\\, r} \\, t \\, {\\phi} }^{ \\, r \\phantom{\\, t} \\phantom{\\, {\\phi}} } & = & -\\frac{{\\left(a^{3} r^{2} + a r^{4} - 2 \\, a r^{3} - {\\left(a^{5} + a^{3} r^{2} - 2 \\, a^{3} r\\right)} \\cos\\left({\\theta}\\right)^{2}\\right)} \\sin\\left({\\theta}\\right)^{2}}{a^{6} \\cos\\left({\\theta}\\right)^{6} + 3 \\, a^{4} r^{2} \\cos\\left({\\theta}\\right)^{4} + 3 \\, a^{2} r^{4} \\cos\\left({\\theta}\\right)^{2} + r^{6}} \\\\ \\Gamma_{ \\phantom{\\, r} \\, r \\, r }^{ \\, r \\phantom{\\, r} \\phantom{\\, r} } & = & \\frac{{\\left(a^{2} r - a^{2}\\right)} \\sin\\left({\\theta}\\right)^{2} + a^{2} - r^{2}}{a^{2} r^{2} + r^{4} - 2 \\, r^{3} + {\\left(a^{4} + a^{2} r^{2} - 2 \\, a^{2} r\\right)} \\cos\\left({\\theta}\\right)^{2}} \\\\ \\Gamma_{ \\phantom{\\, r} \\, r \\, {\\theta} }^{ \\, r \\phantom{\\, r} \\phantom{\\, {\\theta}} } & = & -\\frac{a^{2} \\cos\\left({\\theta}\\right) \\sin\\left({\\theta}\\right)}{a^{2} \\cos\\left({\\theta}\\right)^{2} + r^{2}} \\\\ \\Gamma_{ \\phantom{\\, r} \\, {\\theta} \\, {\\theta} }^{ \\, r \\phantom{\\, {\\theta}} \\phantom{\\, {\\theta}} } & = & -\\frac{a^{2} r + r^{3} - 2 \\, r^{2}}{a^{2} \\cos\\left({\\theta}\\right)^{2} + r^{2}} \\\\ \\Gamma_{ \\phantom{\\, r} \\, {\\phi} \\, {\\phi} }^{ \\, r \\phantom{\\, {\\phi}} \\phantom{\\, {\\phi}} } & = & \\frac{{\\left(a^{4} r^{2} + a^{2} r^{4} - 2 \\, a^{2} r^{3} - {\\left(a^{6} + a^{4} r^{2} - 2 \\, a^{4} r\\right)} \\cos\\left({\\theta}\\right)^{2}\\right)} \\sin\\left({\\theta}\\right)^{4} - {\\left(a^{2} r^{5} + r^{7} - 2 \\, r^{6} + {\\left(a^{6} r + a^{4} r^{3} - 2 \\, a^{4} r^{2}\\right)} \\cos\\left({\\theta}\\right)^{4} + 2 \\, {\\left(a^{4} r^{3} + a^{2} r^{5} - 2 \\, a^{2} r^{4}\\right)} \\cos\\left({\\theta}\\right)^{2}\\right)} \\sin\\left({\\theta}\\right)^{2}}{a^{6} \\cos\\left({\\theta}\\right)^{6} + 3 \\, a^{4} r^{2} \\cos\\left({\\theta}\\right)^{4} + 3 \\, a^{2} r^{4} \\cos\\left({\\theta}\\right)^{2} + r^{6}} \\\\ \\Gamma_{ \\phantom{\\, {\\theta}} \\, t \\, t }^{ \\, {\\theta} \\phantom{\\, t} \\phantom{\\, t} } & = & -\\frac{2 \\, a^{2} r \\cos\\left({\\theta}\\right) \\sin\\left({\\theta}\\right)}{a^{6} \\cos\\left({\\theta}\\right)^{6} + 3 \\, a^{4} r^{2} \\cos\\left({\\theta}\\right)^{4} + 3 \\, a^{2} r^{4} \\cos\\left({\\theta}\\right)^{2} + r^{6}} \\\\ \\Gamma_{ \\phantom{\\, {\\theta}} \\, t \\, {\\phi} }^{ \\, {\\theta} \\phantom{\\, t} \\phantom{\\, {\\phi}} } & = & \\frac{2 \\, {\\left(a^{3} r + a r^{3}\\right)} \\cos\\left({\\theta}\\right) \\sin\\left({\\theta}\\right)}{a^{6} \\cos\\left({\\theta}\\right)^{6} + 3 \\, a^{4} r^{2} \\cos\\left({\\theta}\\right)^{4} + 3 \\, a^{2} r^{4} \\cos\\left({\\theta}\\right)^{2} + r^{6}} \\\\ \\Gamma_{ \\phantom{\\, {\\theta}} \\, r \\, r }^{ \\, {\\theta} \\phantom{\\, r} \\phantom{\\, r} } & = & \\frac{a^{2} \\cos\\left({\\theta}\\right) \\sin\\left({\\theta}\\right)}{a^{2} r^{2} + r^{4} - 2 \\, r^{3} + {\\left(a^{4} + a^{2} r^{2} - 2 \\, a^{2} r\\right)} \\cos\\left({\\theta}\\right)^{2}} \\\\ \\Gamma_{ \\phantom{\\, {\\theta}} \\, r \\, {\\theta} }^{ \\, {\\theta} \\phantom{\\, r} \\phantom{\\, {\\theta}} } & = & \\frac{r}{a^{2} \\cos\\left({\\theta}\\right)^{2} + r^{2}} \\\\ \\Gamma_{ \\phantom{\\, {\\theta}} \\, {\\theta} \\, {\\theta} }^{ \\, {\\theta} \\phantom{\\, {\\theta}} \\phantom{\\, {\\theta}} } & = & -\\frac{a^{2} \\cos\\left({\\theta}\\right) \\sin\\left({\\theta}\\right)}{a^{2} \\cos\\left({\\theta}\\right)^{2} + r^{2}} \\\\ \\Gamma_{ \\phantom{\\, {\\theta}} \\, {\\phi} \\, {\\phi} }^{ \\, {\\theta} \\phantom{\\, {\\phi}} \\phantom{\\, {\\phi}} } & = & -\\frac{{\\left({\\left(a^{6} + a^{4} r^{2} - 2 \\, a^{4} r\\right)} \\cos\\left({\\theta}\\right)^{5} + 2 \\, {\\left(a^{4} r^{2} + a^{2} r^{4} - 2 \\, a^{2} r^{3}\\right)} \\cos\\left({\\theta}\\right)^{3} + {\\left(a^{2} r^{4} + r^{6} + 2 \\, a^{4} r + 4 \\, a^{2} r^{3}\\right)} \\cos\\left({\\theta}\\right)\\right)} \\sin\\left({\\theta}\\right)}{a^{6} \\cos\\left({\\theta}\\right)^{6} + 3 \\, a^{4} r^{2} \\cos\\left({\\theta}\\right)^{4} + 3 \\, a^{2} r^{4} \\cos\\left({\\theta}\\right)^{2} + r^{6}} \\\\ \\Gamma_{ \\phantom{\\, {\\phi}} \\, t \\, r }^{ \\, {\\phi} \\phantom{\\, t} \\phantom{\\, r} } & = & -\\frac{a^{3} \\cos\\left({\\theta}\\right)^{2} - a r^{2}}{a^{2} r^{4} + r^{6} - 2 \\, r^{5} + {\\left(a^{6} + a^{4} r^{2} - 2 \\, a^{4} r\\right)} \\cos\\left({\\theta}\\right)^{4} + 2 \\, {\\left(a^{4} r^{2} + a^{2} r^{4} - 2 \\, a^{2} r^{3}\\right)} \\cos\\left({\\theta}\\right)^{2}} \\\\ \\Gamma_{ \\phantom{\\, {\\phi}} \\, t \\, {\\theta} }^{ \\, {\\phi} \\phantom{\\, t} \\phantom{\\, {\\theta}} } & = & -\\frac{2 \\, a r \\cos\\left({\\theta}\\right)}{{\\left(a^{4} \\cos\\left({\\theta}\\right)^{4} + 2 \\, a^{2} r^{2} \\cos\\left({\\theta}\\right)^{2} + r^{4}\\right)} \\sin\\left({\\theta}\\right)} \\\\ \\Gamma_{ \\phantom{\\, {\\phi}} \\, r \\, {\\phi} }^{ \\, {\\phi} \\phantom{\\, r} \\phantom{\\, {\\phi}} } & = & \\frac{r^{5} + {\\left(a^{4} r - a^{4}\\right)} \\cos\\left({\\theta}\\right)^{4} - a^{2} r^{2} - 2 \\, r^{4} + {\\left(2 \\, a^{2} r^{3} + a^{4} - a^{2} r^{2}\\right)} \\cos\\left({\\theta}\\right)^{2}}{a^{2} r^{4} + r^{6} - 2 \\, r^{5} + {\\left(a^{6} + a^{4} r^{2} - 2 \\, a^{4} r\\right)} \\cos\\left({\\theta}\\right)^{4} + 2 \\, {\\left(a^{4} r^{2} + a^{2} r^{4} - 2 \\, a^{2} r^{3}\\right)} \\cos\\left({\\theta}\\right)^{2}} \\\\ \\Gamma_{ \\phantom{\\, {\\phi}} \\, {\\theta} \\, {\\phi} }^{ \\, {\\phi} \\phantom{\\, {\\theta}} \\phantom{\\, {\\phi}} } & = & \\frac{a^{4} \\cos\\left({\\theta}\\right)^{5} + 2 \\, {\\left(a^{2} r^{2} - a^{2} r\\right)} \\cos\\left({\\theta}\\right)^{3} + {\\left(r^{4} + 2 \\, a^{2} r\\right)} \\cos\\left({\\theta}\\right)}{{\\left(a^{4} \\cos\\left({\\theta}\\right)^{4} + 2 \\, a^{2} r^{2} \\cos\\left({\\theta}\\right)^{2} + r^{4}\\right)} \\sin\\left({\\theta}\\right)} \\end{array}$$"
      ],
      "text/plain": [
       "Gam^t_t,r = -(a^4 - r^4 - (a^4 + a^2*r^2)*sin(th)^2)/(a^2*r^4 + r^6 - 2*r^5 + (a^6 + a^4*r^2 - 2*a^4*r)*cos(th)^4 + 2*(a^4*r^2 + a^2*r^4 - 2*a^2*r^3)*cos(th)^2) \n",
       "Gam^t_t,th = -2*a^2*r*cos(th)*sin(th)/(a^4*cos(th)^4 + 2*a^2*r^2*cos(th)^2 + r^4) \n",
       "Gam^t_r,ph = -(a^3*r^2 + 3*a*r^4 - (a^5 - a^3*r^2)*cos(th)^2)*sin(th)^2/(a^2*r^4 + r^6 - 2*r^5 + (a^6 + a^4*r^2 - 2*a^4*r)*cos(th)^4 + 2*(a^4*r^2 + a^2*r^4 - 2*a^2*r^3)*cos(th)^2) \n",
       "Gam^t_th,ph = -2*(a^5*r*cos(th)*sin(th)^5 - (a^5*r + a^3*r^3)*cos(th)*sin(th)^3)/(a^6*cos(th)^6 + 3*a^4*r^2*cos(th)^4 + 3*a^2*r^4*cos(th)^2 + r^6) \n",
       "Gam^r_t,t = (a^2*r^2 + r^4 - 2*r^3 - (a^4 + a^2*r^2 - 2*a^2*r)*cos(th)^2)/(a^6*cos(th)^6 + 3*a^4*r^2*cos(th)^4 + 3*a^2*r^4*cos(th)^2 + r^6) \n",
       "Gam^r_t,ph = -(a^3*r^2 + a*r^4 - 2*a*r^3 - (a^5 + a^3*r^2 - 2*a^3*r)*cos(th)^2)*sin(th)^2/(a^6*cos(th)^6 + 3*a^4*r^2*cos(th)^4 + 3*a^2*r^4*cos(th)^2 + r^6) \n",
       "Gam^r_r,r = ((a^2*r - a^2)*sin(th)^2 + a^2 - r^2)/(a^2*r^2 + r^4 - 2*r^3 + (a^4 + a^2*r^2 - 2*a^2*r)*cos(th)^2) \n",
       "Gam^r_r,th = -a^2*cos(th)*sin(th)/(a^2*cos(th)^2 + r^2) \n",
       "Gam^r_th,th = -(a^2*r + r^3 - 2*r^2)/(a^2*cos(th)^2 + r^2) \n",
       "Gam^r_ph,ph = ((a^4*r^2 + a^2*r^4 - 2*a^2*r^3 - (a^6 + a^4*r^2 - 2*a^4*r)*cos(th)^2)*sin(th)^4 - (a^2*r^5 + r^7 - 2*r^6 + (a^6*r + a^4*r^3 - 2*a^4*r^2)*cos(th)^4 + 2*(a^4*r^3 + a^2*r^5 - 2*a^2*r^4)*cos(th)^2)*sin(th)^2)/(a^6*cos(th)^6 + 3*a^4*r^2*cos(th)^4 + 3*a^2*r^4*cos(th)^2 + r^6) \n",
       "Gam^th_t,t = -2*a^2*r*cos(th)*sin(th)/(a^6*cos(th)^6 + 3*a^4*r^2*cos(th)^4 + 3*a^2*r^4*cos(th)^2 + r^6) \n",
       "Gam^th_t,ph = 2*(a^3*r + a*r^3)*cos(th)*sin(th)/(a^6*cos(th)^6 + 3*a^4*r^2*cos(th)^4 + 3*a^2*r^4*cos(th)^2 + r^6) \n",
       "Gam^th_r,r = a^2*cos(th)*sin(th)/(a^2*r^2 + r^4 - 2*r^3 + (a^4 + a^2*r^2 - 2*a^2*r)*cos(th)^2) \n",
       "Gam^th_r,th = r/(a^2*cos(th)^2 + r^2) \n",
       "Gam^th_th,th = -a^2*cos(th)*sin(th)/(a^2*cos(th)^2 + r^2) \n",
       "Gam^th_ph,ph = -((a^6 + a^4*r^2 - 2*a^4*r)*cos(th)^5 + 2*(a^4*r^2 + a^2*r^4 - 2*a^2*r^3)*cos(th)^3 + (a^2*r^4 + r^6 + 2*a^4*r + 4*a^2*r^3)*cos(th))*sin(th)/(a^6*cos(th)^6 + 3*a^4*r^2*cos(th)^4 + 3*a^2*r^4*cos(th)^2 + r^6) \n",
       "Gam^ph_t,r = -(a^3*cos(th)^2 - a*r^2)/(a^2*r^4 + r^6 - 2*r^5 + (a^6 + a^4*r^2 - 2*a^4*r)*cos(th)^4 + 2*(a^4*r^2 + a^2*r^4 - 2*a^2*r^3)*cos(th)^2) \n",
       "Gam^ph_t,th = -2*a*r*cos(th)/((a^4*cos(th)^4 + 2*a^2*r^2*cos(th)^2 + r^4)*sin(th)) \n",
       "Gam^ph_r,ph = (r^5 + (a^4*r - a^4)*cos(th)^4 - a^2*r^2 - 2*r^4 + (2*a^2*r^3 + a^4 - a^2*r^2)*cos(th)^2)/(a^2*r^4 + r^6 - 2*r^5 + (a^6 + a^4*r^2 - 2*a^4*r)*cos(th)^4 + 2*(a^4*r^2 + a^2*r^4 - 2*a^2*r^3)*cos(th)^2) \n",
       "Gam^ph_th,ph = (a^4*cos(th)^5 + 2*(a^2*r^2 - a^2*r)*cos(th)^3 + (r^4 + 2*a^2*r)*cos(th))/((a^4*cos(th)^4 + 2*a^2*r^2*cos(th)^2 + r^4)*sin(th)) "
      ]
     },
     "execution_count": 12,
     "metadata": {},
     "output_type": "execute_result"
    }
   ],
   "source": [
    "g.christoffel_symbols_display()"
   ]
  },
  {
   "cell_type": "markdown",
   "metadata": {},
   "source": [
    "The Riemann curvature tensor is naturally returned by the method `riemann()`"
   ]
  },
  {
   "cell_type": "code",
   "execution_count": 13,
   "metadata": {},
   "outputs": [
    {
     "name": "stdout",
     "output_type": "stream",
     "text": [
      "Tensor field Riem(g) of type (1,3) on the Kerr spacetime M\n"
     ]
    }
   ],
   "source": [
    "Riem = g.riemann()\n",
    "print(Riem)"
   ]
  },
  {
   "cell_type": "markdown",
   "metadata": {},
   "source": [
    "The $R^t_{rtr}$ and $R^t_{r\\theta\\phi}$ components:"
   ]
  },
  {
   "cell_type": "code",
   "execution_count": 14,
   "metadata": {},
   "outputs": [
    {
     "data": {
      "text/html": [
       "<html>\\[\\newcommand{\\Bold}[1]{\\mathbf{#1}}\\frac{3 \\, a^{4} r \\cos\\left({\\theta}\\right)^{4} + 3 \\, a^{2} r^{3} + 2 \\, r^{5} - {\\left(9 \\, a^{4} r + 7 \\, a^{2} r^{3}\\right)} \\cos\\left({\\theta}\\right)^{2}}{a^{2} r^{6} + r^{8} - 2 \\, r^{7} + {\\left(a^{8} + a^{6} r^{2} - 2 \\, a^{6} r\\right)} \\cos\\left({\\theta}\\right)^{6} + 3 \\, {\\left(a^{6} r^{2} + a^{4} r^{4} - 2 \\, a^{4} r^{3}\\right)} \\cos\\left({\\theta}\\right)^{4} + 3 \\, {\\left(a^{4} r^{4} + a^{2} r^{6} - 2 \\, a^{2} r^{5}\\right)} \\cos\\left({\\theta}\\right)^{2}}\\]</html>"
      ],
      "text/latex": [
       "$$\\newcommand{\\Bold}[1]{\\mathbf{#1}}\\frac{3 \\, a^{4} r \\cos\\left({\\theta}\\right)^{4} + 3 \\, a^{2} r^{3} + 2 \\, r^{5} - {\\left(9 \\, a^{4} r + 7 \\, a^{2} r^{3}\\right)} \\cos\\left({\\theta}\\right)^{2}}{a^{2} r^{6} + r^{8} - 2 \\, r^{7} + {\\left(a^{8} + a^{6} r^{2} - 2 \\, a^{6} r\\right)} \\cos\\left({\\theta}\\right)^{6} + 3 \\, {\\left(a^{6} r^{2} + a^{4} r^{4} - 2 \\, a^{4} r^{3}\\right)} \\cos\\left({\\theta}\\right)^{4} + 3 \\, {\\left(a^{4} r^{4} + a^{2} r^{6} - 2 \\, a^{2} r^{5}\\right)} \\cos\\left({\\theta}\\right)^{2}}$$"
      ],
      "text/plain": [
       "(3*a^4*r*cos(th)^4 + 3*a^2*r^3 + 2*r^5 - (9*a^4*r + 7*a^2*r^3)*cos(th)^2)/(a^2*r^6 + r^8 - 2*r^7 + (a^8 + a^6*r^2 - 2*a^6*r)*cos(th)^6 + 3*(a^6*r^2 + a^4*r^4 - 2*a^4*r^3)*cos(th)^4 + 3*(a^4*r^4 + a^2*r^6 - 2*a^2*r^5)*cos(th)^2)"
      ]
     },
     "execution_count": 14,
     "metadata": {},
     "output_type": "execute_result"
    }
   ],
   "source": [
    "Riem[0,1,0,1]"
   ]
  },
  {
   "cell_type": "code",
   "execution_count": 15,
   "metadata": {},
   "outputs": [
    {
     "data": {
      "text/html": [
       "<html>\\[\\newcommand{\\Bold}[1]{\\mathbf{#1}}-\\frac{{\\left({\\left(a^{7} + a^{5} r^{2} - 2 \\, a^{5} r\\right)} \\cos\\left({\\theta}\\right)^{5} - {\\left(3 \\, a^{7} + 8 \\, a^{5} r^{2} + 5 \\, a^{3} r^{4} - 2 \\, a^{5} r - 6 \\, a^{3} r^{3}\\right)} \\cos\\left({\\theta}\\right)^{3} + 3 \\, {\\left(3 \\, a^{5} r^{2} + 5 \\, a^{3} r^{4} + 2 \\, a r^{6} - 2 \\, a^{3} r^{3}\\right)} \\cos\\left({\\theta}\\right)\\right)} \\sin\\left({\\theta}\\right)}{a^{2} r^{6} + r^{8} - 2 \\, r^{7} + {\\left(a^{8} + a^{6} r^{2} - 2 \\, a^{6} r\\right)} \\cos\\left({\\theta}\\right)^{6} + 3 \\, {\\left(a^{6} r^{2} + a^{4} r^{4} - 2 \\, a^{4} r^{3}\\right)} \\cos\\left({\\theta}\\right)^{4} + 3 \\, {\\left(a^{4} r^{4} + a^{2} r^{6} - 2 \\, a^{2} r^{5}\\right)} \\cos\\left({\\theta}\\right)^{2}}\\]</html>"
      ],
      "text/latex": [
       "$$\\newcommand{\\Bold}[1]{\\mathbf{#1}}-\\frac{{\\left({\\left(a^{7} + a^{5} r^{2} - 2 \\, a^{5} r\\right)} \\cos\\left({\\theta}\\right)^{5} - {\\left(3 \\, a^{7} + 8 \\, a^{5} r^{2} + 5 \\, a^{3} r^{4} - 2 \\, a^{5} r - 6 \\, a^{3} r^{3}\\right)} \\cos\\left({\\theta}\\right)^{3} + 3 \\, {\\left(3 \\, a^{5} r^{2} + 5 \\, a^{3} r^{4} + 2 \\, a r^{6} - 2 \\, a^{3} r^{3}\\right)} \\cos\\left({\\theta}\\right)\\right)} \\sin\\left({\\theta}\\right)}{a^{2} r^{6} + r^{8} - 2 \\, r^{7} + {\\left(a^{8} + a^{6} r^{2} - 2 \\, a^{6} r\\right)} \\cos\\left({\\theta}\\right)^{6} + 3 \\, {\\left(a^{6} r^{2} + a^{4} r^{4} - 2 \\, a^{4} r^{3}\\right)} \\cos\\left({\\theta}\\right)^{4} + 3 \\, {\\left(a^{4} r^{4} + a^{2} r^{6} - 2 \\, a^{2} r^{5}\\right)} \\cos\\left({\\theta}\\right)^{2}}$$"
      ],
      "text/plain": [
       "-((a^7 + a^5*r^2 - 2*a^5*r)*cos(th)^5 - (3*a^7 + 8*a^5*r^2 + 5*a^3*r^4 - 2*a^5*r - 6*a^3*r^3)*cos(th)^3 + 3*(3*a^5*r^2 + 5*a^3*r^4 + 2*a*r^6 - 2*a^3*r^3)*cos(th))*sin(th)/(a^2*r^6 + r^8 - 2*r^7 + (a^8 + a^6*r^2 - 2*a^6*r)*cos(th)^6 + 3*(a^6*r^2 + a^4*r^4 - 2*a^4*r^3)*cos(th)^4 + 3*(a^4*r^4 + a^2*r^6 - 2*a^2*r^5)*cos(th)^2)"
      ]
     },
     "execution_count": 15,
     "metadata": {},
     "output_type": "execute_result"
    }
   ],
   "source": [
    "Riem[0,1,2,3]"
   ]
  },
  {
   "cell_type": "markdown",
   "metadata": {},
   "source": [
    "Of course, since the Kerr metric is a solution of the **vacuum Einstein equation**, the Ricci tensor identically vanishes:"
   ]
  },
  {
   "cell_type": "code",
   "execution_count": 16,
   "metadata": {},
   "outputs": [
    {
     "data": {
      "text/html": [
       "<html>\\[\\newcommand{\\Bold}[1]{\\mathbf{#1}}\\mathrm{Ric}\\left(g\\right) = 0\\]</html>"
      ],
      "text/latex": [
       "$$\\newcommand{\\Bold}[1]{\\mathbf{#1}}\\mathrm{Ric}\\left(g\\right) = 0$$"
      ],
      "text/plain": [
       "Ric(g) = 0"
      ]
     },
     "execution_count": 16,
     "metadata": {},
     "output_type": "execute_result"
    }
   ],
   "source": [
    "g.ricci().display()"
   ]
  },
  {
   "cell_type": "markdown",
   "metadata": {},
   "source": [
    "## Bound timelike geodesic"
   ]
  },
  {
   "cell_type": "markdown",
   "metadata": {},
   "source": [
    "Let us choose the initial point $P$ for the geodesic:"
   ]
  },
  {
   "cell_type": "code",
   "execution_count": 17,
   "metadata": {},
   "outputs": [
    {
     "name": "stdout",
     "output_type": "stream",
     "text": [
      "Point P on the Kerr spacetime M\n"
     ]
    }
   ],
   "source": [
    "P = M.point((0, 6, pi/2, 0), name='P')\n",
    "print(P)"
   ]
  },
  {
   "cell_type": "markdown",
   "metadata": {},
   "source": [
    "A geodesic is constructed by providing the range $[\\lambda_{\\rm min},\\lambda_{\\rm max}]$ of the affine parameter $\\lambda$, the initial point and either \n",
    " - (i) the Boyer-Lindquist components $(p^t_0, p^r_0, p^\\theta_0, p^\\phi_0)$ of the initial 4-momentum vector\n",
    "   $p_0 = \\left. \\frac{\\mathrm{d}x}{\\mathrm{d}\\lambda}\\right| _{\\lambda_{\\rm min}}$,\n",
    " - (ii) the four integral of motions $(\\mu, E, L, Q)$\n",
    " - or (iii) some of the components of $p_0$ along with with some integrals of motion. \n",
    "We shall also specify some numerical value for the Kerr spin parameter $a$.\n",
    "\n",
    "Examples of (i) and (iii) are provided below. Here, we choose $\\lambda\\in[0, 300\\, m]$, the option (ii) and \n",
    "$a=0.998 \\,m$, where $m$ in the black hole mass::\n"
   ]
  },
  {
   "cell_type": "code",
   "execution_count": 18,
   "metadata": {},
   "outputs": [
    {
     "name": "stdout",
     "output_type": "stream",
     "text": [
      "Initial tangent vector: \n"
     ]
    },
    {
     "data": {
      "text/html": [
       "<html>\\[\\newcommand{\\Bold}[1]{\\mathbf{#1}}p = 1.29225788954106 \\frac{\\partial}{\\partial t } + 0.00438084990626460 \\frac{\\partial}{\\partial r } + 0.0189826106258554 \\frac{\\partial}{\\partial {\\theta} } + 0.0646134478134985 \\frac{\\partial}{\\partial {\\phi} }\\]</html>"
      ],
      "text/latex": [
       "$$\\newcommand{\\Bold}[1]{\\mathbf{#1}}p = 1.29225788954106 \\frac{\\partial}{\\partial t } + 0.00438084990626460 \\frac{\\partial}{\\partial r } + 0.0189826106258554 \\frac{\\partial}{\\partial {\\theta} } + 0.0646134478134985 \\frac{\\partial}{\\partial {\\phi} }$$"
      ],
      "text/plain": [
       "p = 1.29225788954106 ∂/∂t + 0.00438084990626460 ∂/∂r + 0.0189826106258554 ∂/∂th + 0.0646134478134985 ∂/∂ph"
      ]
     },
     "metadata": {},
     "output_type": "display_data"
    },
    {
     "name": "stdout",
     "output_type": "stream",
     "text": [
      "The curve was correctly set.\n",
      "Parameters appearing in the differential system defining the curve are [a].\n"
     ]
    }
   ],
   "source": [
    "Li = M.geodesic([0, 300], P, mu=1, E=0.883, L=1.982, Q=0.467, a_num=0.998,\n",
    "                name='Li', latex_name=r'\\mathcal{L}', verbose=True)"
   ]
  },
  {
   "cell_type": "code",
   "execution_count": 19,
   "metadata": {},
   "outputs": [
    {
     "name": "stdout",
     "output_type": "stream",
     "text": [
      "Geodesic Li of the Kerr spacetime M\n"
     ]
    }
   ],
   "source": [
    "print(Li)"
   ]
  },
  {
   "cell_type": "markdown",
   "metadata": {},
   "source": [
    "The numerical integration of the geodesic equation is performed via `integrate()`, by providing the integration step $\\delta\\lambda$ in units of $m$:"
   ]
  },
  {
   "cell_type": "code",
   "execution_count": 20,
   "metadata": {},
   "outputs": [],
   "source": [
    "Li.integrate(step=0.005)"
   ]
  },
  {
   "cell_type": "markdown",
   "metadata": {},
   "source": [
    "We can then plot the geodesic:"
   ]
  },
  {
   "cell_type": "code",
   "execution_count": 21,
   "metadata": {},
   "outputs": [
    {
     "data": {
      "text/html": [
       "\n",
       "<iframe srcdoc=\"<!DOCTYPE html>\n",
       "<html>\n",
       "<head>\n",
       "<title></title>\n",
       "<meta charset=&quot;utf-8&quot;>\n",
       "<meta name=viewport content=&quot;width=device-width, user-scalable=no, minimum-scale=1.0, maximum-scale=1.0&quot;>\n",
       "<style>\n",
       "\n",
       "    body { margin: 0px; overflow: hidden; }\n",
       "\n",
       "    #menu-container { position: absolute; bottom: 30px; right: 40px; cursor: default; }\n",
       "\n",
       "    #menu-message { position: absolute; bottom: 0px; right: 0px; white-space: nowrap;\n",
       "                    display: none; background-color: #F5F5F5; padding: 10px; }\n",
       "\n",
       "    #menu-content { position: absolute; bottom: 0px; right: 0px;\n",
       "                    display: none; background-color: #F5F5F5; border-bottom: 1px solid black;\n",
       "                    border-right: 1px solid black; border-left: 1px solid black; }\n",
       "\n",
       "    #menu-content div { border-top: 1px solid black; padding: 10px; white-space: nowrap; }\n",
       "\n",
       "    #menu-content div:hover { background-color: #FEFEFE; }\n",
       "\n",
       "    .dark-theme #menu-container { color: white; }\n",
       "\n",
       "    .dark-theme #menu-message { background-color: #181818; }\n",
       "\n",
       "    .dark-theme #menu-content { background-color: #181818; border-color: white; }\n",
       "\n",
       "    .dark-theme #menu-content div { border-color: white; }\n",
       "\n",
       "    .dark-theme #menu-content div:hover { background-color: #303030; }\n",
       "\n",
       "</style>\n",
       "\n",
       "</head>\n",
       "\n",
       "<body>\n",
       "\n",
       "<script src=&quot;/nbextensions/threejs-sage/r122/three.min.js&quot;></script>\n",
       "<script>\n",
       "  if ( !window.THREE ) document.write(' \\\n",
       "<script src=&quot;https://cdn.jsdelivr.net/gh/sagemath/threejs-sage@r122/build/three.min.js&quot;><\\/script> \\\n",
       "            ');\n",
       "</script>\n",
       "        \n",
       "<script>\n",
       "\n",
       "    var options = {&quot;animate&quot;: false, &quot;animationControls&quot;: true, &quot;aspectRatio&quot;: [1.0, 1.0, 1.0], &quot;autoPlay&quot;: true, &quot;axes&quot;: false, &quot;axesLabels&quot;: [&quot;x&quot;, &quot;y&quot;, &quot;z&quot;], &quot;axesLabelsStyle&quot;: null, &quot;decimals&quot;: 2, &quot;delay&quot;: 20, &quot;frame&quot;: true, &quot;loop&quot;: true, &quot;projection&quot;: &quot;perspective&quot;, &quot;theme&quot;: &quot;light&quot;, &quot;viewpoint&quot;: false};\n",
       "    var animate = options.animate;\n",
       "\n",
       "    if ( options.theme === 'dark' )\n",
       "        document.body.className = 'dark-theme';\n",
       "\n",
       "    var scene = new THREE.Scene();\n",
       "\n",
       "    var renderer = new THREE.WebGLRenderer( { antialias: true, preserveDrawingBuffer: true } );\n",
       "    renderer.setPixelRatio( window.devicePixelRatio );\n",
       "    renderer.setSize( window.innerWidth, window.innerHeight );\n",
       "    renderer.setClearColor( options.theme === 'dark' ? 0 : 0xffffff, 1 );\n",
       "    document.body.appendChild( renderer.domElement );\n",
       "\n",
       "    var b = [{&quot;x&quot;:-5.6883413029991505, &quot;y&quot;:-5.805055430675608, &quot;z&quot;:-1.4843349975748577}, {&quot;x&quot;:6.0, &quot;y&quot;:5.912337987926515, &quot;z&quot;:1.9094053559646458}]; // bounds\n",
       "\n",
       "    if ( b[0].x === b[1].x ) {\n",
       "        b[0].x -= 1;\n",
       "        b[1].x += 1;\n",
       "    }\n",
       "    if ( b[0].y === b[1].y ) {\n",
       "        b[0].y -= 1;\n",
       "        b[1].y += 1;\n",
       "    }\n",
       "    if ( b[0].z === b[1].z ) {\n",
       "        b[0].z -= 1;\n",
       "        b[1].z += 1;\n",
       "    }\n",
       "\n",
       "    var rRange = Math.sqrt( Math.pow( b[1].x - b[0].x, 2 )\n",
       "                            + Math.pow( b[1].y - b[0].y, 2 ) );\n",
       "    var xRange = b[1].x - b[0].x;\n",
       "    var yRange = b[1].y - b[0].y;\n",
       "    var zRange = b[1].z - b[0].z;\n",
       "\n",
       "    var ar = options.aspectRatio;\n",
       "    var a = [ ar[0], ar[1], ar[2] ]; // aspect multipliers\n",
       "    var autoAspect = 2.5;\n",
       "    if ( zRange > autoAspect * rRange && a[2] === 1 ) a[2] = autoAspect * rRange / zRange;\n",
       "\n",
       "    // Distance from (xMid,yMid,zMid) to any corner of the bounding box, after applying aspectRatio\n",
       "    var midToCorner = Math.sqrt( a[0]*a[0]*xRange*xRange + a[1]*a[1]*yRange*yRange + a[2]*a[2]*zRange*zRange ) / 2;\n",
       "\n",
       "    var xMid = ( b[0].x + b[1].x ) / 2;\n",
       "    var yMid = ( b[0].y + b[1].y ) / 2;\n",
       "    var zMid = ( b[0].z + b[1].z ) / 2;\n",
       "\n",
       "    var box = new THREE.Geometry();\n",
       "    box.vertices.push( new THREE.Vector3( a[0]*b[0].x, a[1]*b[0].y, a[2]*b[0].z ) );\n",
       "    box.vertices.push( new THREE.Vector3( a[0]*b[1].x, a[1]*b[1].y, a[2]*b[1].z ) );\n",
       "    var boxMesh = new THREE.Line( box );\n",
       "    var boxColor = options.theme === 'dark' ? 'white' : 'black';\n",
       "    if ( options.frame ) scene.add( new THREE.BoxHelper( boxMesh, boxColor ) );\n",
       "\n",
       "    if ( options.axesLabels ) {\n",
       "\n",
       "        var d = options.decimals; // decimals\n",
       "        var offsetRatio = 0.1;\n",
       "        var al = options.axesLabels;\n",
       "        var als = options.axesLabelsStyle || [{}, {}, {}];\n",
       "\n",
       "        var offset = offsetRatio * a[1]*( b[1].y - b[0].y );\n",
       "        var xm = xMid.toFixed(d);\n",
       "        if ( /^-0.?0*$/.test(xm) ) xm = xm.substr(1);\n",
       "        addLabel( al[0] + '=' + xm, a[0]*xMid, a[1]*b[1].y+offset, a[2]*b[0].z, als[0] );\n",
       "        addLabel( ( b[0].x ).toFixed(d), a[0]*b[0].x, a[1]*b[1].y+offset, a[2]*b[0].z, als[0] );\n",
       "        addLabel( ( b[1].x ).toFixed(d), a[0]*b[1].x, a[1]*b[1].y+offset, a[2]*b[0].z, als[0] );\n",
       "\n",
       "        var offset = offsetRatio * a[0]*( b[1].x - b[0].x );\n",
       "        var ym = yMid.toFixed(d);\n",
       "        if ( /^-0.?0*$/.test(ym) ) ym = ym.substr(1);\n",
       "        addLabel( al[1] + '=' + ym, a[0]*b[1].x+offset, a[1]*yMid, a[2]*b[0].z, als[1] );\n",
       "        addLabel( ( b[0].y ).toFixed(d), a[0]*b[1].x+offset, a[1]*b[0].y, a[2]*b[0].z, als[1] );\n",
       "        addLabel( ( b[1].y ).toFixed(d), a[0]*b[1].x+offset, a[1]*b[1].y, a[2]*b[0].z, als[1] );\n",
       "\n",
       "        var offset = offsetRatio * a[1]*( b[1].y - b[0].y );\n",
       "        var zm = zMid.toFixed(d);\n",
       "        if ( /^-0.?0*$/.test(zm) ) zm = zm.substr(1);\n",
       "        addLabel( al[2] + '=' + zm, a[0]*b[1].x, a[1]*b[0].y-offset, a[2]*zMid, als[2] );\n",
       "        addLabel( ( b[0].z ).toFixed(d), a[0]*b[1].x, a[1]*b[0].y-offset, a[2]*b[0].z, als[2] );\n",
       "        addLabel( ( b[1].z ).toFixed(d), a[0]*b[1].x, a[1]*b[0].y-offset, a[2]*b[1].z, als[2] );\n",
       "\n",
       "    }\n",
       "\n",
       "    function addLabel( text, x, y, z, style ) {\n",
       "\n",
       "        var color = style.color || 'black';\n",
       "        var fontSize = style.fontSize || 14;\n",
       "        var fontFamily = style.fontFamily || 'monospace';\n",
       "        var fontStyle = style.fontStyle || 'normal';\n",
       "        var fontWeight = style.fontWeight || 'normal';\n",
       "        var opacity = style.opacity || 1;\n",
       "\n",
       "        if ( options.theme === 'dark' )\n",
       "            if ( color === 'black' || color === '#000000' )\n",
       "                color = 'white';\n",
       "\n",
       "        if ( Array.isArray( fontStyle ) ) {\n",
       "            fontFamily = fontFamily.map( function( f ) {\n",
       "                // Need to put quotes around fonts that have whitespace in their names.\n",
       "                return /\\s/.test( f ) ? '&quot;' + f + '&quot;' : f;\n",
       "            }).join(', ');\n",
       "        }\n",
       "\n",
       "        var canvas = document.createElement( 'canvas' );\n",
       "        var context = canvas.getContext( '2d' );\n",
       "        var pixelRatio = Math.round( window.devicePixelRatio );\n",
       "\n",
       "        // For example: italic bold 20px &quot;Times New Roman&quot;, Georgia, serif\n",
       "        var font = [fontStyle, fontWeight, fontSize + 'px', fontFamily].join(' ');\n",
       "\n",
       "        context.font = font;\n",
       "        var width = context.measureText( text ).width;\n",
       "        var height = fontSize;\n",
       "\n",
       "        // The dimensions of the canvas's underlying image data need to be powers\n",
       "        // of two in order for the resulting texture to support mipmapping.\n",
       "        canvas.width = THREE.MathUtils.ceilPowerOfTwo( width * pixelRatio );\n",
       "        canvas.height = THREE.MathUtils.ceilPowerOfTwo( height * pixelRatio );\n",
       "\n",
       "        // Re-compute the unscaled dimensions after the power of two conversion.\n",
       "        width = canvas.width / pixelRatio;\n",
       "        height = canvas.height / pixelRatio;\n",
       "\n",
       "        canvas.style.width = width + 'px';\n",
       "        canvas.style.height = height + 'px';\n",
       "\n",
       "        context.scale( pixelRatio, pixelRatio );\n",
       "        context.fillStyle = color;\n",
       "        context.font = font; // Must be set again after measureText.\n",
       "        context.textAlign = 'center';\n",
       "        context.textBaseline = 'middle';\n",
       "        context.fillText( text, width/2, height/2 );\n",
       "\n",
       "        var texture = new THREE.Texture( canvas );\n",
       "        texture.needsUpdate = true;\n",
       "\n",
       "        var materialOptions = { map: texture, sizeAttenuation: false, depthWrite: false };\n",
       "        if ( opacity < 1 ) {\n",
       "            // Setting opacity=1 would cause the texture's alpha component to be\n",
       "            // discarded, giving the text a black background instead of the\n",
       "            // background being transparent.\n",
       "            materialOptions.opacity = opacity;\n",
       "        }\n",
       "        var sprite = new THREE.Sprite( new THREE.SpriteMaterial( materialOptions ) );\n",
       "        sprite.position.set( x, y, z );\n",
       "\n",
       "        // Scaling factor, chosen somewhat arbitrarily so that the size of the text\n",
       "        // is consistent with previously generated plots.\n",
       "        var scale = 1/625;\n",
       "        if ( options.projection === 'orthographic' ) {\n",
       "            scale = midToCorner/256; // Needs to scale along with the plot itself.\n",
       "        }\n",
       "        sprite.scale.set( scale * width, scale * height, 1 );\n",
       "\n",
       "        scene.add( sprite );\n",
       "\n",
       "        return sprite;\n",
       "\n",
       "    }\n",
       "\n",
       "    if ( options.axes ) scene.add( new THREE.AxesHelper( Math.min( a[0]*b[1].x, a[1]*b[1].y, a[2]*b[1].z ) ) );\n",
       "\n",
       "    var camera = createCamera();\n",
       "    camera.up.set( 0, 0, 1 );\n",
       "    camera.position.set( a[0]*xMid, a[1]*yMid, a[2]*zMid );\n",
       "\n",
       "    var offset = new THREE.Vector3( a[0]*xRange, a[1]*yRange, a[2]*zRange );\n",
       "\n",
       "    if ( options.viewpoint ) {\n",
       "\n",
       "        var aa = options.viewpoint;\n",
       "        var axis = new THREE.Vector3( aa[0][0], aa[0][1], aa[0][2] ).normalize();\n",
       "        var angle = aa[1] * Math.PI / 180;\n",
       "        var q = new THREE.Quaternion().setFromAxisAngle( axis, angle ).inverse();\n",
       "\n",
       "        offset.set( 0, 0, offset.length() );\n",
       "        offset.applyQuaternion( q );\n",
       "\n",
       "    }\n",
       "\n",
       "    camera.position.add( offset );\n",
       "\n",
       "    function createCamera() {\n",
       "\n",
       "        var aspect = window.innerWidth / window.innerHeight;\n",
       "\n",
       "        // Scale the near and far clipping planes along with the overall plot size.\n",
       "        var nearClip = 0.01 * midToCorner;\n",
       "        var farClip = 100 * midToCorner;\n",
       "\n",
       "        if ( options.projection === 'orthographic' ) {\n",
       "            var camera = new THREE.OrthographicCamera( -1, 1, 1, -1, -farClip, farClip );\n",
       "            updateCameraAspect( camera, aspect );\n",
       "            return camera;\n",
       "        }\n",
       "\n",
       "        return new THREE.PerspectiveCamera( 45, aspect, nearClip, farClip );\n",
       "\n",
       "    }\n",
       "\n",
       "    function updateCameraAspect( camera, aspect ) {\n",
       "\n",
       "        if ( camera.isPerspectiveCamera ) {\n",
       "            camera.aspect = aspect;\n",
       "        } else if ( camera.isOrthographicCamera ) {\n",
       "            // Fit the camera frustum to the bounding box's diagonal so that the entire plot fits\n",
       "            // within at the default zoom level and camera position.\n",
       "            if ( aspect > 1 ) { // Wide window\n",
       "                camera.top = midToCorner;\n",
       "                camera.right = midToCorner * aspect;\n",
       "            } else { // Tall or square window\n",
       "                camera.top = midToCorner / aspect;\n",
       "                camera.right = midToCorner;\n",
       "            }\n",
       "            camera.bottom = -camera.top;\n",
       "            camera.left = -camera.right;\n",
       "        }\n",
       "\n",
       "        camera.updateProjectionMatrix();\n",
       "\n",
       "    }\n",
       "\n",
       "    var lights = [{&quot;x&quot;:-5, &quot;y&quot;:3, &quot;z&quot;:0, &quot;color&quot;:&quot;#7f7f7f&quot;, &quot;parent&quot;:&quot;camera&quot;}];\n",
       "    for ( var i=0 ; i < lights.length ; i++ ) {\n",
       "        var light = new THREE.DirectionalLight( lights[i].color, 1 );\n",
       "        light.position.set( a[0]*lights[i].x, a[1]*lights[i].y, a[2]*lights[i].z );\n",
       "        if ( lights[i].parent === 'camera' ) {\n",
       "            light.target.position.set( a[0]*xMid, a[1]*yMid, a[2]*zMid );\n",
       "            scene.add( light.target );\n",
       "            camera.add( light );\n",
       "        } else scene.add( light );\n",
       "    }\n",
       "    scene.add( camera );\n",
       "\n",
       "    var ambient = {&quot;color&quot;:&quot;#7f7f7f&quot;};\n",
       "    scene.add( new THREE.AmbientLight( ambient.color, 1 ) );\n",
       "\n",
       "    var controls = new THREE.OrbitControls( camera, renderer.domElement );\n",
       "    controls.target.set( a[0]*xMid, a[1]*yMid, a[2]*zMid );\n",
       "    controls.addEventListener( 'change', function() { if ( !animate ) render(); } );\n",
       "\n",
       "    window.addEventListener( 'resize', function() {\n",
       "\n",
       "        renderer.setSize( window.innerWidth, window.innerHeight );\n",
       "        updateCameraAspect( camera, window.innerWidth / window.innerHeight );\n",
       "        if ( window.rescaleFatLines ) rescaleFatLines();\n",
       "        if ( !animate ) render();\n",
       "\n",
       "    } );\n",
       "\n",
       "    var texts = [];\n",
       "    for ( var i=0 ; i < texts.length ; i++ ) addText( texts[i] );\n",
       "\n",
       "    function addText( json ) {\n",
       "        var sprite = addLabel( json.text, a[0]*json.x, a[1]*json.y, a[2]*json.z, json );\n",
       "        sprite.userData = json;\n",
       "    }\n",
       "\n",
       "    var points = [];\n",
       "    for ( var i=0 ; i < points.length ; i++ ) addPoint( points[i] );\n",
       "\n",
       "    function addPoint( json ) {\n",
       "\n",
       "        var geometry = new THREE.Geometry();\n",
       "        var v = json.point;\n",
       "        geometry.vertices.push( new THREE.Vector3( a[0]*v[0], a[1]*v[1], a[2]*v[2] ) );\n",
       "\n",
       "        var canvas = document.createElement( 'canvas' );\n",
       "        canvas.width = 128;\n",
       "        canvas.height = 128;\n",
       "\n",
       "        var context = canvas.getContext( '2d' );\n",
       "        context.arc( 64, 64, 64, 0, 2 * Math.PI );\n",
       "        context.fillStyle = json.color;\n",
       "        context.fill();\n",
       "\n",
       "        var texture = new THREE.Texture( canvas );\n",
       "        texture.needsUpdate = true;\n",
       "\n",
       "        var transparent = json.opacity < 1 ? true : false;\n",
       "        var size = camera.isOrthographicCamera ? json.size : json.size/100;\n",
       "        var material = new THREE.PointsMaterial( { size: size, map: texture,\n",
       "                                                   transparent: transparent, opacity: json.opacity,\n",
       "                                                   alphaTest: .1 } );\n",
       "\n",
       "        var c = new THREE.Vector3();\n",
       "        geometry.computeBoundingBox();\n",
       "        geometry.boundingBox.getCenter( c );\n",
       "        geometry.translate( -c.x, -c.y, -c.z );\n",
       "\n",
       "        var mesh = new THREE.Points( geometry, material );\n",
       "        mesh.position.set( c.x, c.y, c.z );\n",
       "        mesh.userData = json;\n",
       "        scene.add( mesh );\n",
       "\n",
       "    }\n",
       "\n",
       "    var lines = [{&quot;points&quot;: [[6.0, 0.0, 3.6739403974420594e-16], [5.999629945101917, 0.11640780863946723, -0.03420018996671775], [5.995889952772937, 0.23274757154770725, -0.06838411204928574], [5.988781968212649, 0.3489556868982533, -0.10253550366353947], [5.978307905292911, 0.46496851344969314, -0.13663809335395372], [5.964469650436714, 0.5807222991547647, -0.17067558479214856], [5.947269068386355, 0.6961531077961738, -0.2046316410751297], [5.926708009105573, 0.8111967515617038, -0.23848986768948965], [5.902788317395782, 0.9257887130401126, -0.2722337973043217], [5.875511843620224, 1.0398640744839784, -0.30584687283832285], [5.844880456622203, 1.1533574429200308, -0.3393124309383411], [5.810896058600079, 1.2662028745396725, -0.3726136851075194], [5.773560602170413, 1.3783337969877028, -0.40573370887295673], [5.732876109545955, 1.4896829313026032, -0.438655418105663], [5.688844694129208, 1.600182211214147, -0.4713615533332139], [5.641468584703095, 1.7097627001453604, -0.5038346617654507], [5.59075015224582, 1.8183545064778641, -0.5360570786506229], [5.536691939602485, 1.9258866964446102, -0.5680109080744234], [5.479296694487688, 2.0322872032996364, -0.5996780036472775], [5.41856740582909, 2.137482733859283, -0.6310399484469572], [5.354507343501694, 2.241398672727777, -0.6620780338642626], [5.287120102464372, 2.3439589813046, -0.6927732384992916], [5.21640965141988, 2.4450860925981437, -0.7231062064992062], [5.142380385055379, 2.544700805384933, -0.7530572233687388], [5.065037183069803, 2.642722168665684, -0.782606193381228], [4.984385473897959, 2.7390673644581387, -0.8117326145340901], [4.90043130491662, 2.8336515844131496, -0.8404155529323448], [4.8131814195450575, 2.9263879005660054, -0.8686336162043274], [4.722643341856943, 3.0171871299983195, -0.8963649257920112], [4.6288254694843625, 3.1059576929433796, -0.9235870880417929], [4.531737175609527, 3.1926054638977, -0.9502771639967293], [4.431388921318669, 3.2770336146648935, -0.9764116381396897], [4.327792378096852, 3.359142451220207, -1.0019663846391955], [4.220960564546681, 3.4388292382574024, -1.0269166341661422], [4.110907995165937, 3.5159880177807996, -1.0512369372941694], [3.997650844880705, 3.590509416673828, -1.0749011268974697], [3.881207130382015, 3.6622804438853676, -1.0978822787367464], [3.761596910076376, 3.731184276614267, -1.1201526700650695], [3.6388425049396975, 3.7971000346840227, -1.1416837363075212], [3.512968742503041, 3.859902542509516, -1.1624460255981388], [3.384003227085401, 3.9194620773230415, -1.1824091516916369], [3.2519766380821924, 3.9756441049266273, -1.2015417432715716], [3.1169230610054313, 4.028309000016674, -1.2198113917201867], [2.9788803550813174, 4.077311750839187, -1.2371845967056296], [2.8378905605383493, 4.122501649097854, -1.2536267082749735], [2.69400035196612, 4.16372196260595, -1.2691018670168461], [2.547261542172387, 4.200809591908836, -1.2835729406197838], [2.397731643817475, 4.233594709135019, -1.2970014582916638], [2.245474495263911, 4.261900380112976, -1.309347541609375], [2.0905609595517696, 4.285542169014613, -1.3205698329215652], [1.9330697053971957, 4.304327726623312, -1.3306254205014463], [1.7730880809099168, 4.318056363065847, -1.3394697606658377], [1.610713092754631, 4.326518606039583, -1.3470565975689401], [1.4460525036586145, 4.329495747902714, -1.3533378795643036], [1.279226065392058, 4.32675938367146, -1.358263673907938], [1.1103669045987568, 4.318070945440036, -1.3617820789383448], [0.9396230822361867, 4.3031812391670075, -1.3638391347183403], [0.7671593518681663, 4.28182999145351, -1.3643787331520805], [0.5931591416239417, 4.253745418456783, -1.363342527491455], [0.41782679413788026, 4.218643829619433, -1.3606698436236837], [0.2413900984803512, 4.176229285866445, -1.3562975934231103], [0.06410315420811322, 4.126193335718575, -1.350160193069516], [-0.1137503836705021, 4.06821485951903, -1.3421894883249446], [-0.291853624259383, 4.001960061634435, -1.3323146896855602], [-0.4698522704853835, 3.9270826615530607, -1.3204623217091753], [-0.6473498830634598, 3.8432243469163168, -1.306556191707715], [-0.8239025062449791, 3.7500155719614985, -1.2905173831677432], [-0.9990125691132276, 3.6470768058181022, -1.2722642832293056], [-1.172121965866509, 3.5340203639075494, -1.2517126529602678], [-1.3426042145880122, 3.410452993114544, -1.228775753929072], [-1.5097555846610862, 3.275979425935265, -1.203364547162943], [-1.6727850794942187, 3.130207179699506, -1.1753879834452523], [-1.8308031681901655, 2.972752947858536, -1.144753412120947], [-1.9828091677926962, 2.803251025918186, -1.1113671391651891], [-2.127677209375559, 2.6213643292693414, -1.0751351756900227], [-2.2641407717039677, 2.426798705679873, -1.0359642278297436], [-2.3907758541891293, 2.2193214232347334, -0.9937629922661895], [-2.505983001693677, 1.9987849308233365, -0.9484438385176717], [-2.6079686117493885, 1.7651572463378413, -0.8999249786472769], [-2.6947262851640215, 1.5185606244620211, -0.8481332509256118], [-2.7640194694266587, 1.2593204842595018, -0.7930076726442093], [-2.813367354769944, 0.9880269090966024, -0.7345039520489429], [-2.84003699499673, 0.7056113173364527, -0.6726001868863227], [-2.8410460366774744, 0.4134410465822339, -0.6073040176432912], [-2.8131823623538543, 0.11343442540608657, -0.5386615319569592], [-2.753049471412429, -0.19180183170196244, -0.46676824428695196], [-2.6571495881548057, -0.4988128141422864, -0.3917824515478268], [-2.5220201694143145, -0.8031164253890597, -0.3139411983317181], [-2.3444432816891725, -1.099014181276767, -0.23357890982665583], [-2.1217502691191497, -1.379409817069834, -0.15114843274661124], [-1.852244460987477, -1.6356669186667938, -0.06724370738911076], [-1.5357594915861665, -1.8575543246416368, 0.017377460317132148], [-1.174356136356937, -2.0333485164212273, 0.10177302800991143], [-0.7731319892453103, -2.1501814147233516, 0.18480230956009522], [-0.3410728377839489, -2.1947317212575475, 0.2651219619192449], [0.10818602386144834, -2.154346079425657, 0.3411970198228456], [0.5558857603822253, -2.01862972301627, 0.4113307060872362], [0.9782040937237683, -1.7814572713890375, 0.4737143847197234], [1.3471030933766512, -1.4432290768433276, 0.5264955249205466], [1.6321595448812007, -1.0130615001622765, 0.5678579963100024], [1.8034444283809294, -0.5104874087592388, 0.5961070358135907], [1.8353387200122104, 0.03381163203108379, 0.6097521814653307], [1.7109720597564673, 0.5787054735272995, 0.6075855112897433], [1.4267662946660378, 1.0751337337998275, 0.5887581671502378], [0.9963509708300202, 1.470683673645962, 0.5528625792644662], [0.45288502210480386, 1.716211021955585, 0.5000277378019731], [-0.15137597781840956, 1.7740209026733877, 0.4310274187716897], [-0.7493903469477626, 1.6263798261951574, 0.34738542004990736], [-1.2680433111593794, 1.282228117592526, 0.25144103321297495], [-1.640381758090707, 0.7794098235511691, 0.1463231240313168], [-1.8185699628348113, 0.18032580637988302, 0.03578914252990659], [-1.7834462010605878, -0.4389352033974831, -0.0760736753326593], [-1.5471821879249332, -1.0030352121036892, -0.18522781438413133], [-1.1482723998278288, -1.4506944785442935, -0.2880477751697149], [-0.641269891666574, -1.7429184160506863, -0.3815761222833327], [-0.08526465344698712, -1.8648278849840503, -0.46363521945494657], [0.4655395592258861, -1.8223702048583756, -0.5328123534025749], [0.9676133521081136, -1.636370310631468, -0.5883659290503072], [1.3903636362442406, -1.336156042845936, -0.6301007647509892], [1.7158218546522948, -0.9541231583771039, -0.6582449276157214], [1.93684719801863, -0.5217670299918937, -0.67334325073225], [2.0547115798082856, -0.06717199844412879, -0.6761706693933804], [2.076630630584349, 0.38629603289400055, -0.6676626677622733], [2.0135526628881837, 0.8204102730615401, -0.6488586409168942], [1.8783452535042449, 1.2219086085412698, -0.620854723985835], [1.684413755702438, 1.5819612822809783, -0.5847640600563933], [1.4447262905194664, 1.8954602942425678, -0.5416836950404831], [1.1711887401771142, 2.1602584992421483, -0.4926679631706743], [0.8743003832454892, 2.376442981849373, -0.43870837200534435], [0.5630196791342892, 2.5456923718633866, -0.38071979253955285], [0.24477603924205105, 2.670741138859631, -0.31953242504627305], [-0.07442609359916548, 2.7549550792239454, -0.255888711124566], [-0.389852532249303, 2.802010258778392, -0.19044418607894403], [-0.6978640761649955, 2.8156612809778623, -0.1237712298183401], [-0.9957407463968487, 2.7995824208973623, -0.05636475229090403], [-1.2815176614963897, 2.7572654801873995, 0.01135100284959198], [-1.5538388845322448, 2.6919600084618622, 0.07901517621821076], [-1.8118316167230675, 2.6066439521961082, 0.1463230000665351], [-2.055000626941848, 2.504015286467593, 0.21301881083497096], [-2.283141395215453, 2.3864974540632193, 0.2788895607128306], [-2.4962697720807525, 2.256253347402908, 0.3437589298817943], [-2.694565748613781, 2.1152040933347114, 0.4074820756548003], [-2.8783290005630433, 1.9650500692660664, 0.4699410109111644], [-3.0479440841613465, 1.807292444589348, 0.5310405777067952], [-3.203853435370831, 1.6432541668338714, 0.5907049662379467], [-3.3465366106833128, 1.474099749379667, 0.648874723497026], [-3.4764944763214576, 1.3008535183781513, 0.7055041942028244], [-3.5942372921540673, 1.1244161756983162, 0.7605593390684054], [-3.7002758416194235, 0.9455796629069778, 0.8140158797121941], [-3.795114930433608, 0.76504038991012, 0.8658577240516919], [-3.8792487174103565, 0.5834109362830711, 0.9160756316274157], [-3.9531574546176986, 0.40123035551345243, 0.9646660833660874], [-4.017305305267677, 0.21897321995175528, 1.0116303251298397], [-4.072138980453321, 0.03705754247806073, 1.0569735584185198], [-4.118086993031704, -0.1441482956729954, 1.1007042561664746], [-4.155559372408209, -0.3243194918221645, 1.1428335839658237], [-4.184947719187998, -0.503169535093199, 1.1833749108216978], [-4.206625506526522, -0.6804455892028125, 1.2223433955385492], [-4.2209485565935845, -0.8559244589256876, 1.259755637152945], [-4.228255637432827, -1.029409064660225, 1.295629379609773], [-4.228869138552276, -1.2007253592776506, 1.3299832621897185], [-4.2230957938670715, -1.3697196286897013, 1.3628366092852553], [-4.211227428338821, -1.5362561271006905, 1.3942092527877976], [-4.193541710817256, -1.7002150025621887, 1.4241213827663912], [-4.170302900318548, -1.861490475563835, 1.4525934218096457], [-4.14176257646938, -2.019989237712209, 1.4796459196790597], [-4.10816034773603, -2.175629042282292, 1.5052994651621427], [-4.069724533085259, -2.3283374621185464, 1.5295746125751897], [-4.026672814344192, -2.4780507936619083, 1.5524918207385643], [-3.979212857771921, -2.6247130886668697, 1.57407140258809], [-3.9275429041344747, -2.768275297791359, 1.5943334838134962], [-3.8718523274444365, -2.9086945120254075, 1.613297969249016], [-3.8123221627801467, -3.0459332901250087, 1.6309845158145364], [-3.7491256041113474, -3.1799590614885784, 1.647412511080139], [-3.6824284732078088, -3.3107435954432334, 1.662601056601678], [-3.6123896608896464, -3.4382625289941577, 1.6765689553302827], [-3.539161541964921, -3.562494946138462, 1.6893347024875855], [-3.462890365244586, -3.6834230027096164, 1.7009164793898897], [-3.383716620035793, -3.80103159147643, 1.711332149779278], [-3.301775380504551, -3.915308042878917, 1.720599258282175], [-3.217196629278689, -4.026241857341749, 1.7287350306720004], [-3.1301055614643927, -4.133824465706239, 1.7357563756655883], [-3.0406228707057994, -4.238049014411398, 1.7416798879865583], [-2.948865017992252, -4.33891017301184, 1.7465218525398798], [-2.854944484762554, -4.436403961343938, 1.7502982494703572], [-2.758970011106362, -4.530527594373925, 1.75302476000431], [-2.6610468201629374, -4.621279342792592, 1.7547167729403317], [-2.561276829801476, -4.708658407629014, 1.7553893916388323], [-2.4597588523512397, -4.792664807481058, 1.7550574414505697], [-2.3565887830494483, -4.873299277102278, 1.7537354775635858], [-2.2518597789886154, -4.950563175897094, 1.7514377928849822], [-2.1456624269070748, -5.024458405993897, 1.7481784266661633], [-2.03808490379014, -5.094987338028564, 1.7439711727711011], [-1.9292131281617568, -5.162152744624982, 1.7388295884541634], [-1.8191309040600885, -5.225957740461474, 1.7327670031436138], [-1.7079200582501182, -5.286405728321279, 1.7257965272022073], [-1.5956605701631443, -5.343500350707645, 1.7179310610309904], [-1.4824306964458647, -5.3972454463284905, 1.7091833039813467], [-1.3683070897361207, -5.44764501111774, 1.699565763369981], [-1.2533649118660566, -5.494703163375426, 1.6890907636943593], [-1.1376779427591306, -5.538424112610107, 1.677770455701563], [-1.0213186853476854, -5.5788121318170445, 1.6656168253222479], [-0.9043584649688725, -5.615871532928767, 1.6526417032321488], [-0.7868675268540001, -5.649606645109994, 1.6388567737334503], [-0.6689151286965171, -5.680021795730354, 1.6242735843021554], [-0.5505696318317403, -5.7071212938458, 1.6089035544975172], [-0.4318985876275901, -5.7309094159083, 1.5927579857310492], [-0.31296882344260163, -5.751390393720152, 1.5758480702661495], [-0.1938465245249033, -5.768568404285666, 1.5581849010184667], [-0.07459731533643175, -5.782447561699104, 1.5397794808659657], [0.04471366185508537, -5.793031910749801, 1.520642732451051], [0.16402166941129387, -5.80032542230721, 1.5007855078903956], [0.283262298128421, -5.804331990373366, 1.4802185986557754], [0.4023713926730709, -5.805055430675608, 1.4589527457762859], [0.5212849761574437, -5.8024994811312025, 1.4369986496197402], [0.639939178070945, -5.796667803439138, 1.4143669807717658], [0.7582701607448967, -5.787563986504436, 1.3910683904992582], [0.8762140462228006, -5.775191551478156, 1.3671135214375876], [0.9937068445503625, -5.759553958039639, 1.342513019008381], [1.1106843794409127, -5.740654612863804, 1.3172775423506193], [1.227082217356437, -5.718496878845384, 1.2914177766593569], [1.3428355914292636, -5.69308408715569, 1.2649444445780087], [1.4578793297032324, -5.664419549800229, 1.2378683192877873], [1.5721477775317945, -5.632506575310223, 1.210200236806584], [1.6855747234144194, -5.597348485158972, 1.1819511097922342], [1.798093319724879, -5.558948633287895, 1.153131941017887], [1.9096360046603404, -5.517310427044328, 1.1237538379494503], [2.0201344210753085, -5.472437350831253, 1.0938280276569785], [2.1295193325637043, -5.424332992637951, 1.0633658721832475], [2.2377205414023735, -5.373001071713005, 1.032378885418619], [2.3446667985074794, -5.3184454711822635, 1.0008787496312732], [2.4502857134931992, -5.260670272903039, 0.9688773333553586], [2.554503663078341, -5.199679795122425, 0.9363867104228063], [2.657245693997093, -5.135478634799398, 0.9034191794779742], [2.7584354234383492, -5.068071713564389, 0.8699872847337139], [2.8579949357918095, -4.9974643280218025, 0.8361038378656327], [2.955844675219243, -4.923662204976613, 0.8017819410783592], [3.051903333682609, -4.846671561995344, 0.7670350114515452], [3.146087734534039, -4.766499173594028, 0.731876806762301], [3.2383127110015786, -4.6831524438200764, 0.6963214528259417], [3.328490978858151, -4.596639486054594, 0.6603834723923808], [3.416533004020081, -4.506969210038135, 0.6240778160131525], [3.5023468634475554, -4.414151417659751, 0.5874198947331245], [3.5858380992217693, -4.318196908262074, 0.5504256147940841], [3.6669095664269404, -4.219117593626349, 0.5131114148657511], [3.7454612727158483, -4.116926624943647, 0.4754943054957055], [3.8213902100235044, -4.011638532360591, 0.4375919112129947], [3.894590178674903, -3.9032693777644423, 0.39942251583169697], [3.9649516014218733, -3.7918369240154877, 0.3610051104597064], [4.032361328631676, -3.6773608209101347, 0.3223594450606444], [4.096702434133276, -3.559862809616609, 0.2835060839831847], [4.157853999327087, -3.4393669496267214, 0.2444664648634134], [4.21569088753793, -3.315899868218068, 0.2052629623271713], [4.2700835070015986, -3.1894910361232536, 0.1659189564704026], [4.320897560821944, -3.060173073981023, 0.1264589056773103], [4.367993786563366, -2.9279820894564565, 0.08690842597437282], [4.411227682354816, -2.7929580520488124, 0.04729437588543635], [4.4504492196478544, -2.655145209833705, 0.007644947165278782], [4.48550254543677, -2.5145925489918106, -0.032010235746336074], [4.516225669699426, -2.3713543075040633, -0.07164001008308916], [4.542450140858552, -2.2254905461923675, -0.11121156082534982], [4.564000711584323, -2.077067781042527, -0.1506902956335105], [4.580694991033946, -1.9261596926855111, -0.19003971266317957], [4.592343089099641, -1.772847915848451, -0.22922125695680978], [4.598747255423996, -1.6172229168901735, -0.26819416247729055], [4.599701511240093, -1.4593849798377394, -0.30691528504149757], [4.594991281115471, -1.2994453088529057, -0.3453389214700744], [4.584393031098657, -1.1375272580304574, -0.3834166114574361], [4.567673916143948, -0.9737677128906499, -0.42109692525817294], [4.544591447063853, -0.8083186385968705, -0.45832523406117737], [4.514893187386084, -0.6413488173492424, -0.49504346172184904], [4.478316493531701, -0.4730457995881497, -0.531189816802237], [4.434588315412167, -0.3036180961513972, -0.5666985029506683], [4.383425079150686, -0.13329764247137962, -0.6014994057045601], [4.324532678154151, 0.037657427884807075, -0.6355177571518688], [4.257606607311052, 0.20895966345572245, -0.6686737744377897], [4.1823322826340705, 0.3802887850693749, -0.7008822703734633], [4.098385598800977, 0.5512877352810013, -0.7320522375358434], [4.0054337910922415, 0.7215582351090313, -0.7620864032172907], [3.903136683857135, 0.89065578865495, -0.7908807554210826], [3.7911484277979235, 1.0580840727198697, -0.8183240404636132], [3.6691198539321235, 1.2232886445182511, -0.8442972306801443], [3.536701601003488, 1.3856498981023755, -0.8686729694801884], [3.393548213506588, 1.5444752014098018, -0.8913149904698909], [3.239323452072352, 1.698990148669814, -0.9120775203215727], [3.073707116117151, 1.8483288746896538, -0.9308046706162494], [2.8964037491207844, 1.9915233946242739, -0.9473298287173231], [2.7071536808219694, 2.1274919676368653, -0.9614750628821702], [2.505746964746709, 2.25502653111281, -0.9730505586408685], [2.292040892631572, 2.3727793302800575, -0.9818541123130141], [2.0659819139770423, 2.479248982261034, -0.9876707129800277], [1.8276329601937489, 2.5727663781622505, -0.990272257809451], [1.5772073644283118, 2.6514810709756986, -0.989417452581681], [1.3151107864790335, 2.7133491278234048, -0.9848519733886669], [1.0419927699221456, 2.7561239076698323, -0.9763089801885907], [0.7588097667161732, 2.777351882069728, -0.9635101072634566], [0.4669016133093747, 2.774376527710921, -0.946167087984053], [0.16808345387438248, 2.7443545527366053, -0.923984227859195], [-0.13524513238063204, 2.684290373830483, -0.8966619959659048], [-0.4399727628244409, 2.5910969259923715, -0.863902102862667], [-0.7421311058114106, 2.4616936463033934, -0.8254145382528776], [-1.0367352262442995, 2.2931558258250986, -0.7809271877400877], [-1.3176175243679094, 2.0829332983511213, -0.7301988218732176], [-1.5772712488426983, 1.8291600875663634, -0.6730364405214146], [-1.8067317569886758, 1.531078916337028, -0.6093181402130478], [-1.9955414700586023, 1.1896029601736686, -0.5390227687917787], [-2.131868448591393, 0.8080276310107981, -0.4622675166169975], [-2.202877153722663, 0.39288089831484635, -0.37935404046012755], [-2.19547690984378, -0.0451469393912233, -0.290822410019221], [-2.097583929809539, -0.4903320191889589, -0.19750975560986056], [-1.899999945718064, -0.9213525455326868, -0.10060678934379372], [-1.5988988243576816, -1.3114007334331648, -0.0017007374227222542], [-1.1986936045429397, -1.629416178514036, 0.09721089781514315], [-0.7147447333010747, -1.8428232808150777, 0.19375221211489996], [-0.17506522289849524, -1.9218630004132733, 0.2852573962633735], [0.379933674288624, -1.8450809987364927, 0.36891385851119374], [0.9003486634243427, -1.604931243966705, 0.4419410837454443], [1.3323760083770544, -1.2120765463532732, 0.5017737546919592], [1.6258043139661609, -0.6970682732120616, 0.5462174011695389], [1.7420160114258607, -0.1086624700335686, 0.5735581711648817], [1.6609423144493163, 0.49119413299660547, 0.5826279925152024], [1.385651629099224, 1.0350161803603213, 0.5728417942790006], [0.9436608641523759, 1.4589677785449902, 0.5442274059881959], [0.38447885145399097, 1.7122389500054842, 0.49746022214114083], [-0.22664663924954792, 1.7650556911421793, 0.4338974793755346], [-0.8181446069295669, 1.613640482582719, 0.35558799910412264], [-1.323156122126222, 1.2806628805117424, 0.2652221620121736], [-1.689788085999859, 0.810606643219066, 0.16599370680574366], [-1.887988474539485, 0.2609841817535564, 0.06137280555071471], [-1.9113668005639441, -0.30820081536673904, -0.045172575558130874], [-1.7740490906641169, -0.8438121990613253, -0.1504451479702383], [-1.5043019851641397, -1.3056124714304913, -0.25171884948046813], [-1.137302489384282, -1.668365312729696, -0.34684265684120436], [-0.7089655049358423, -1.9207728861536209, -0.4342528747229687], [-0.25174551444966353, -2.0626159809959064, -0.5129207074490088], [0.20755807253912306, -2.101360142589485, -0.5822666147176954], [0.6484460084457733, -2.049048786952979, -0.6420664555327181], [1.0563846716937795, -1.9198544900897554, -0.6923645013257669], [1.4219731883319935, -1.7283511167515122, -0.7333999605800294], [1.7399422105657545, -1.4884122387708678, -0.7655482651127546], [2.0081769373287863, -1.2125892410253258, -0.7892756781840098], [2.2268583552460743, -0.9118263906774382, -0.8051048558776864], [2.3977555904164864, -0.5953961658224942, -0.8135889903165104], [2.5236688274809578, -0.27096815792479884, -0.8152925332282857], [2.6080064618967067, 0.05524884729812942, -0.8107769438094138], [2.6544745206763385, 0.3783316085391857, -0.8005902960028723], [2.666856080311771, 0.694459205234069, -0.7852598800507655], [2.64886057753103, 1.000736829574643, -0.7652871471008362], [2.6040259841518556, 1.2950347179464694, -0.7411444937207616], [2.535660000447664, 1.5758459048837485, -0.7132734862277336], [2.446809337726704, 1.8421637138831741, -0.6820841990995838], [2.3402486661389745, 2.0933782607753226, -0.6479553995392578], [2.218482868691093, 2.329190358435886, -0.6112353566453641], [2.083757896358164, 2.549540807676062, -0.5722430938133247], [1.9380768125751449, 2.7545529577043326, -0.5312699377443324], [1.7832186075177479, 2.944486496425474, -0.48858124760418314], [1.6207581093954342, 3.1197006044121247, -0.44441823405919234], [1.4520858734222515, 3.2806248231490867, -0.3989997996189799], [1.2784273309758305, 3.4277362160522156, -0.35252435026514733], [1.1008607686843312, 3.5615416197096215, -0.3051715430270208], [0.9203339081361024, 3.6825639826479164, -0.25710394598244846], [0.7376789932143667, 3.7913319653902797, -0.2084685961124903], [0.5536263840232335, 3.8883721268079574, -0.15939844758129754], [0.36881671240684577, 3.9742031500603803, -0.11001370796645427], [0.18381168858717445, 4.049331667911495, -0.060423063663684884], [-0.000896333564343076, 4.114249334831187, -0.010724798243258631], [-0.18487591835048317, 4.169430864966234, 0.03899219076118093], [-0.36774912310253305, 4.215332813023658, 0.08864747049437277], [-0.5491849761602147, 4.252392921871304, 0.13816823964480038], [-0.7288937556055405, 4.28102989803704, 0.1874885766813281], [-0.9066219746302717, 4.301643506310794, 0.236548762404428], [-1.0821479883578642, 4.3146148983290225, 0.2852946701440245], [-1.255278145841788, 4.3203071089972696, 0.33367721725143545], [-1.4258434193951128, 4.3190656694765215, 0.3816518719456287], [-1.5936964512514893, 4.3112192972970735, 0.42917821012515855], [-1.7587089651665258, 4.297080633315606, 0.47621951657484024], [-1.9207694958656119, 4.276947002829018, 0.522742427395704], [-2.0797813969516814, 4.251101183410236, 0.568716607638716], [-2.235661091272204, 4.219812166887731, 0.6141144617271512], [-2.3883365332753286, 4.183335906108986, 0.6589108728059109], [-2.537745856441666, 4.1419160399561985, 0.7030829679948652], [-2.6838361824688457, 4.095784592136575, 0.7466099071006561], [-2.8265625720102063, 4.045162640772591, 0.789472691996999], [-2.9658870992710793, 3.990260957140395, 0.8316539946930764], [-3.101778035097073, 3.931280612764142, 0.873138002119569], [-3.234209125205952, 3.8684135547682663, 0.9139102758699605], [-3.3631589518092992, 3.8018431499704626, 0.9539576254858897], [-3.488610368729645, 3.7317446983288316, 0.9932679936132107], [-3.610550000841393, 3.658285916986068, 1.0318303521463896], [-3.728967800380242, 3.581627395927928, 1.0696346080029209], [-3.8438566532099925, 3.501923026698897, 1.1066715176693565], [-3.9552120291106188, 3.4193204055907445, 1.1429326096842338], [-4.063031671176255, 3.3339612124607045, 1.1784101140913923], [-4.1673153195574555, 3.245981566795621, 1.2130968983329278], [-4.26806446565683, 3.1555123623344348, 1.2469864089065283], [-4.365282133311795, 3.0626795815561514, 1.280072618212237], [-4.458972683945569, 2.967604591260448, 1.3123499760777055], [-4.549141642902569, 2.8704044205900585, 1.3438133655575017], [-4.6357955447144565, 2.771192022510135, 1.3744580625432252], [-4.718941795092127, 2.670076520023676, 1.404279698889529], [-4.798588547930846, 2.5671634379806756, 1.4332742286617195], [-4.874744595619846, 2.462554921588985, 1.4614378972592368], [-4.947419271249246, 2.356349942514954, 1.4887672131391374], [-5.016622361453077, 2.248644493443264, 1.5152589218982149], [-5.082364028764492, 2.1395317718920355, 1.5409099825030974], [-5.144654742488909, 2.0291023540633986, 1.5657175454769436], [-5.203505217206794, 1.9174443594620838, 1.589678932873039], [-5.2589263581754135, 1.8046436068048433, 1.612791619858543], [-5.310929212824098, 1.6907837621732253, 1.6350532178134918], [-5.359524927870308, 1.5759464796029872, 1.656461458754709], [-5.4047247113832455, 1.4602115350604907, 1.6770141810267614], [-5.446539799480858, 1.3436569536311298, 1.6967093161146583], [-5.48498142698604, 1.226359131480618, 1.7155448765029169], [-5.520060801920861, 1.1083929518846702, 1.7335189444981793], [-5.551789083320666, 0.9898318965222351, 1.750629661931539], [-5.580177362123509, 0.8707481523384121, 1.7668752206626255], [-5.605236644923577, 0.7512127138501739, 1.7822538538453097], [-5.626977840285953, 0.6312954817730504, 1.796763827879772], [-5.645411747434034, 0.5110653584789028, 1.8104034349848224], [-5.660549047192084, 0.390590339348365, 1.8231709864067593], [-5.6724002949271215, 0.2699376021232407, 1.835064806137335], [-5.680975915440653, 0.14917359329797536, 1.846083225160675], [-5.6862861996527005, 0.02836411183735082, 1.8562245761969864], [-5.6883413029991505, -0.09242560859296214, 1.865487188866353], [-5.687151245445001, -0.21313081976498932, 1.8738693853047077], [-5.682725913066134, -0.333687180441731, 1.8813694761675133], [-5.6750750611576635, -0.45403067914834894, 1.887985757011586], [-5.664208318778505, -0.5740975585289031, 1.8937165050549174], [-5.650135194795152, -0.6938242401807244, 1.89855997626802], [-5.632865085336345, -0.8131472505211473, 1.902514402815244], [-5.6124072826938445, -0.9320031471416992, 1.9055779908149169], [-5.58877098571078, -1.0503284452984785, 1.9077489184223135], [-5.561965311618174, -1.1680595447645046, 1.9090253342284405], [-5.531999309413382, -1.2851326564944439, 1.9094053559646458], [-5.498881974841533, -1.4014837288821267, 1.9088870695296623], [-5.462622266966255, -1.5170483738078688, 1.907468528317307], [-5.423229126510042, -1.6317617917618972, 1.9051477528705831], [-5.380711496008593, -1.7455586961019047, 1.9019227308667999], [-5.335078341837214, -1.8583732364213448, 1.8977914174157875], [-5.286338678359509, -1.9701389203074477, 1.8927517357313905], [-5.234501594224975, -2.080788533742849, 1.8868015781527376], [-5.179576280993217, -2.1902540598250946, 1.879938807532565], [-5.121572064367569, -2.2984665952484487, 1.87216125905975], [-5.0604984380847595, -2.405356264822629, 1.863466742477543], [-4.996365100779086, -2.5108521334642924, 1.8538530447613717], [-4.929181996137551, -2.6148821152660586, 1.8433179333144334], [-4.858959356412776, -2.7173728799409904, 1.831859159636063], [-4.785707749846233, -2.818249755726812, 1.819474463595285], [-4.709438132277839, -2.9174366286987032, 1.806161578323815], [-4.630161903125271, -3.014855838599197, 1.7919182357206338], [-4.547890966525659, -3.1104280700789992, 1.7767421727435813], [-4.462637797972536, -3.2040722394090015, 1.760631138493396], [-4.374415516570587, -3.2957053769985856, 1.743582902073579], [-4.28323796447368, -3.385242503622125, 1.7255952615476011], [-4.189119792955617, -3.472596502103749, 1.7066660537929792], [-4.092076556876311, -3.5576779822764695, 1.6867931656049675], [-3.9921248180004634, -3.6403951395110044, 1.6659745460490971], [-3.889282257438571, -3.7206536071881087, 1.6442082201251946], [-3.7835677998466495, -3.7983563004594605, 1.6214923041211327], [-3.67500174852626, -3.873403253527896, 1.597825022519573], [-3.563605934207519, -3.945691447912382, 1.5732047268848126], [-3.449403878894838, -4.015114631468502, 1.5476299168397345], [-3.3324209745081825, -4.081563129569321, 1.5210992632756624], [-3.2126846813313388, -4.14492364450205, 1.493611634260864], [-3.090224745459456, -4.205079045596227, 1.4651661237237756], [-2.965073438327028, -4.261908148509535, 1.435762083365472], [-2.837265822795474, -4.315285481637219, 1.4053991581107788], [-2.706840044593321, -4.365081042557507, 1.3740773255277008], [-2.573837656858289, -4.411160040277578, 1.3417969396924396], [-2.4383039793583534, -4.453382624840584, 1.3085587798996516], [-2.300288494171626, -4.491603605275287, 1.274364105101918], [-2.15984528889882, -4.525672151548641, 1.2392147142879737], [-2.017033545975299, -4.5554314849497715, 1.2031130139143655], [-1.8719180873034122, -4.580718554757255, 1.1660620932269739], [-1.7245699804009684, -4.6013637019675935, 1.1280658082774306], [-1.5750672178154008, -4.617190309168915, 1.089128875405647], [-1.4234954691837818, -4.6280144422180935, 1.0492569763152684], [-1.2699489257651793, -4.633644480675611, 1.0084568752355445], [-1.1145312436411963, -4.633880742039341, 0.9667365501410365], [-0.957356599862602, -4.6285151025455, 0.9241053396923326], [-0.7985508748741154, -4.617330619625067, 0.880574108333169], [-0.638252980618612, -4.600101161008943, 0.8361554311751517], [-0.4766163514492394, -4.576591049203773, 0.7908638016614391], [-0.3138106209672431, -4.546554731267537, 0.7447158644656385], [-0.15002350188816138, -4.509736487594808, 0.6977306796450685], [0.014537087268535956, -4.465870194664346, 0.6499300164375331], [0.17964063483513373, -4.414679165387763, 0.601338686598176], [0.34503134273229097, -4.355876092612607, 0.5519849192194831], [0.5104250902070949, -4.289163130237558, 0.5019007831201421], [0.6755060108955572, -4.214232155148701, 0.4511226632467556], [0.8399226338958469, -4.1307652640240535, 0.39969179798078003], [1.0032835350779676, -4.038435572868489, 0.34765488506983355], [1.1651524397570752, -3.9369084047278484, 0.2950647642573053], [1.3250427190740854, -3.8258429705027446, 0.24198119006342725], [1.482411204446109, -3.7048946783968906, 0.18847169660712115], [1.6366512679283516, -3.573718233773943, 0.13461257591881295], [1.787085096289601, -3.431971736566387, 0.0804899746974918], [1.9329551088430745, -3.2793220287428806, 0.026201125108569], [2.0734144791744367, -3.115451604646062, -0.028144278569587858], [2.2075167495737795, -2.9400674677296657, -0.08242254583949853], [2.3342045708896877, -2.7529124011852653, -0.1364942834664747], [2.4522976628062665, -2.5537792211075536, -0.19020251717527273], [2.5604801916388036, -2.3425286914646595, -0.2433706260044666], [2.6572878957762343, -2.1191119118284907, -0.2958000985438557], [2.7410954873884776, -1.8835981238597344, -0.3472681196650994], [2.8101051248562863, -1.6362090272334626, -0.3975250076096991], [2.862337119519187, -1.3773608192485147, -0.4462915469346407], [2.895624520487236, -1.1077152755192712, -0.4932562720930717], [2.9076138615383096, -0.8282412104457519, -0.5380727935336446], [2.8957751640197276, -0.5402875647958002, -0.5803572855245706], [2.857425306693216, -0.24566907627858373, -0.6196862956200714], [2.789770107335936, 0.053235104790776505, -0.655595079321272], [2.6899719055237843, 0.3533705325231199, -0.6875767088455662], [2.5552510457226716, 0.6508866526189295, -0.7150822548626968], [2.383031335444577, 0.9410109304168301, -0.7375223873600643], [2.1711410909388293, 1.2179264687064653, -0.7542707899597993], [1.918082442990128, 1.4746668428997007, -0.7646698367430479], [1.6233815940266947, 1.7030489501970747, -0.7680390439913367], [1.2880307758481202, 1.8936740373897942, -0.7636869210504188], [0.9150272945235294, 2.0360390665256007, -0.7509270184365593], [0.5100039647448538, 2.1188151733204283, -0.7290992576704715], [0.08192493150413206, 2.130366223633912, -0.6975980570987376], [-0.35621355407219124, 2.0595952933470083, -0.6559093243324436], [-0.7867923211128864, 1.8972129499424206, -0.6036589594809562], [-1.1872825115043921, 1.6375037243528414, -0.5406757809870932], [-1.5305578769405304, 1.2806007230454788, -0.46707110760086845], [-1.786200726800133, 0.8351274948302443, -0.38333456998281745], [-1.9232322262076746, 0.32079897255738266, -0.2904398145992266], [-1.9145566932130897, -0.2297999699787317, -0.18994391120179102], [-1.7429529563304447, -0.7713981977935336, -0.08405203248008598], [-1.4076254517398201, -1.2493836862320504, 0.024389832390002315], [-0.9293797157118633, -1.6069051455791836, 0.13200691459183886], [-0.3520257680350515, -1.7949299596235504, 0.23511980571182767], [0.26168107576289545, -1.7827866690576546, 0.3300467936759714], [0.8393379359303794, -1.5658504048078075, 0.413415461021831], [1.3110599648536727, -1.1677712157490274, 0.4824105061905428], [1.6210936589745462, -0.6366690822914133, 0.5349157913361049], [1.7360188598839852, -0.03676937296125737, 0.5695534101464698], [1.6482139484439366, 0.562026861759749, 0.5856539908668453], [1.374742227272094, 1.0942691347118945, 0.5831987692700317], [0.9526851361279774, 1.5071309131083959, 0.5627609893059161], [0.4322372245578208, 1.7657329982225696, 0.5254543799548737], [-0.13111896360770384, 1.8552843601947633, 0.472879998172172], [-0.6841160246054646, 1.7801417092644984, 0.4070552747321264], [-1.1817830798727353, 1.560303870818631, 0.3303123946087381], [-1.591306209775803, 1.2262520451416246, 0.24516502876025933], [-1.8933641190731203, 0.8132909826487824, 0.15415690281694802], [-2.081211377338534, 0.3564970936480518, 0.059715218603904614], [-2.1582273125789606, -0.11297113528416604, -0.03596814236476672], [-2.1348067703013864, -0.5699428579314366, -0.13101338500836926], [-2.0253398427897156, -0.9958622227352121, -0.2238852113238636], [-1.8457408424989101, -1.3783914163038233, -0.31338815250046], [-1.611694051122444, -1.7104468263030814, -0.39863670227267045], [-1.3375771833622143, -1.9890376126052427, -0.47901216712662825], [-1.0359216054259777, -2.214145276263849, -0.5541155687730598], [-0.7172457283577451, -2.387765545993309, -0.6237226396617117], [-0.390118699279145, -2.51315187560474, -0.6877440866992547], [-0.06134746155746612, -2.5942527463207137, -0.746192275360296], [0.26378449799654363, -2.635313556202186, -0.7991542712794376], [0.5812703405708137, -2.6406081070332217, -0.8467705677232576], [0.8881488412466839, -2.614266928773789, -0.8892186041610484], [1.1823001785870433, -2.56017511254089, -0.926700172911886], [1.4622719505192072, -2.481918353262685, -0.9594319048051553], [1.7271346166728527, -2.3827613389813576, -0.9876381543446312], [1.976363523378103, -2.2656470571939447, -1.01154573521989], [2.209743894823354, -2.133208997851296, -1.031380072984539], [2.4272951005760848, -1.9877907553109297, -1.047362438221336], [2.629210786305076, -1.8314693478023132, -1.0597080008337185], [2.815811877871576, -1.666079853433752, -1.0686245065738724], [2.9875099269093845, -1.4932398484638083, -1.0743114232813356], [3.144778699959798, -1.3143727390885411, -1.076959441057969], [3.2881323011241896, -1.130729482040972, -1.0767502365731032], [3.418108447888324, -0.943408456313143, -1.0738564332875733], [3.5352557949802548, -0.7533734192361423, -1.0684417055153659], [3.640124427130505, -0.5614695853304613, -1.060660985740323], [3.7332588236751993, -0.3684379288339273, -1.0506607446077596], [3.815192744611126, -0.17492784365890715, -1.0385793199924183], [3.8864456045534626, 0.018491691188349993, -1.0245472770191502], [3.947519993727451, 0.21132229025735394, -1.0086877855760954], [3.998900078676289, 0.4031275388736848, -0.9911170049370588], [4.041050673340456, 0.5935254324001318, -0.9719444678425384], [4.074416816870767, 0.7821817521984825, -0.951273458473959], [4.099423730568634, 0.9688042648623155, -0.9292013802373937], [4.116477054683402, 1.1531376430309328, -0.9058201105358973], [4.125963287909547, 1.3349590179282325, -0.881216340743952], [4.128250370107947, 1.5140740836504327, -0.8554719000667319], [4.123688362258441, 1.6903136834699792, -0.8286640628487183], [4.112610188516437, 1.8635308167703084, -0.8008658390439514], [4.09533241358279, 2.03359801311592, -0.7721462480226061], [4.072156035186711, 2.2004050267247406, -0.7425705760432049], [4.043367276594041, 2.3638568106746574, -0.7122006179058031], [4.009238368043079, 2.5238717354260776, -0.6810949034085846], [3.9700283091050883, 2.680380020858515, -0.6493089092947748], [3.9259836063516382, 2.833322355026309, -0.6168952574591663], [3.8773389825769162, 2.9826486763177136, -0.5839039001415761], [3.8243180552773355, 3.1283170987040716, -0.5503822927417524], [3.7671339830093924, 3.270292962497569, -0.516375555259281], [3.705990079179092, 3.408547995230199, -0.4819266229924576], [3.6410803934908396, 3.5430595691881983, -0.44707638705262803], [3.572590261575788, 3.673810043971117, -0.4118638254965949], [3.5006968237073455, 3.800786183868906, -0.3763261256915721], [3.425569513721842, 3.9239786411513022, -0.3404987985183835], [3.3473705193999086, 4.043381497489767, -0.30441578499057714], [3.2662552156908733, 4.158991856677339, -0.2681095557964857], [3.1823725721500282, 4.270809482697944, -0.23161120429500862], [3.0958655360163374, 4.378836477901076, -0.19495053341613572], [3.006871392284916, 4.483076996715118, -0.1581561369358625], [2.9155221020841, 4.583536990890745, -0.12125547556470374], [2.8219446220659954, 4.680223982009505, -0.08427494733096375], [2.7262612014383585, 4.773146860584653, -0.04723995571853469], [2.6285896653138905, 4.862315705040155, -0.01017497079491263], [2.5290436785624024, 4.947741621849659, 0.026896411541239954], [2.4277329961192193, 5.029436602240675, 0.06395141522515548], [2.3247636971760812, 5.10741339520307, 0.1009680319571356], [2.220238406771048, 5.181685394035669, 0.13792497281968424], [2.114256504669768, 5.252266535474561, 0.17480162268987176], [2.0069143224895707, 5.319171209903286, 0.21157799726132928], [1.8983053299219796, 5.382414181581259, 0.24823470255030483], [1.7885203109238947, 5.442010517779564, 0.28475289676778803], [1.67764753042674, 5.497975525976823, 0.3211142542677011], [1.5657728921172573, 5.550324698318362, 0.35730093138432695], [1.4529800885752606, 5.599073662449229, 0.3932955343823588], [1.339350743327296, 5.6442381383549005, 0.42908108879868845], [1.2249645461773948, 5.685833900415674, 0.46464101052382056], [1.1098993820874823, 5.723876744248892, 0.4999590783671162], [0.9942314538490983, 5.758382457929579, 0.5350194078824345], [0.8780353994398473, 5.7893667971114695, 0.569806426564119], [0.7613844040218057, 5.816845463769622, 0.6043048501152729], [0.6443503073374741, 5.840834088195475, 0.63849965986108], [0.5270037067206127, 5.861348214003126, 0.6723760811505057], [0.40941405599180397, 5.8784032858960025, 0.7059195626498402], [0.2916497608254178, 5.892014639961782, 0.7391157565527942], [0.17377827058764744, 5.902197496336069, 0.7719504995214126], [0.0558661671851891, 5.908966954049324, 0.8044097943912042], [-0.06202074888882196, 5.912337987926515, 0.8364797925415765], [-0.179817375105787, 5.9123254474147915, 0.8681467768632031], [-0.2974592256302568, 5.908944057239799, 0.8993971453205247], [-0.41488235215905345, 5.902208419803001, 0.9302173950060054], [-0.5320232665970052, 5.892133019244125, 0.9605941066579523], [-0.6488188651874189, 5.878732227135419, 0.9905139296373208], [-0.7652063539990628, 5.862020309752164, 1.0199635672941678], [-0.8811231758485778, 5.842011436879566, 1.0489297625994656], [-0.9965069375367664, 5.818719692216976, 1.0773992842669409], [-1.111295338846909, 5.792159085210477, 1.1053589128663428], [-1.2254261009162402, 5.762343564585157, 1.132795427509308], [-1.338836895987472, 5.729287033323227, 1.1596955924592725], [-1.4514652766633536, 5.693003365354342, 1.1860461441055559], [-1.5632486053906647, 5.653506423878509, 1.211833778031503], [-1.6741239839365112, 5.610810081385519, 1.2370451361194348], [-1.7840281818620698, 5.564928241599696, 1.2616667939791881], [-1.892897565348207, 5.515874863145127, 1.2856852481013696], [-2.0006680245029256, 5.463663985358302, 1.3090869033300672], [-2.1072748997571233, 5.4083097562464, 1.3318580603357089], [-2.2126529076254275, 5.349826462572902, 1.3539849028928848], [-2.316736064629946, 5.288228562487343, 1.3754534853117142], [-2.4194576098527225, 5.2235307207149475, 1.3962497197408927], [-2.5207499257862738, 5.155747846515112, 1.416359363376412], [-2.6205444570342578, 5.084895134703509, 1.4357680056524824], [-2.7187716269720386, 5.01098810988529, 1.4544610552409147], [-2.8153607519554424, 4.934042674218658, 1.4724237269239826], [-2.9102399528697567, 4.854075158996414, 1.489641028307276], [-3.0033360635425033, 4.771102380462829, 1.5060977464841099], [-3.0945745357046235, 4.685141700295712, 1.5217784346693408], [-3.183879342331148, 4.5962110903114075, 1.536667397610953], [-3.2711728748550932, 4.504329203434526, 1.5507486781329058], [-3.356375837429266, 4.409515450257384, 1.564006042792581], [-3.4394071373074593, 4.311790081737479, 1.5764229671307386], [-3.520183769622228, 4.211174279463497, 1.587982621132868], [-3.5986206977674895, 4.107690253370161, 1.598667854147169], [-3.674630728621299, 4.001361347940103, 1.6084611794012644], [-3.7481243814852796, 3.8922121580356484, 1.6173447586005296], [-3.819009751495635, 3.780268654743323, 1.6253003859529591], [-3.887192366236624, 3.665558322780445, 1.6323094721001583], [-3.9525750355201112, 3.5481103104462357, 1.638353027800123], [-4.015057694222101, 3.4279555931911028, 1.643411647165345], [-4.0745372366144625, 3.30512715303226, 1.6474654911296307], [-4.130907343800526, 3.179660174034953, 1.6504942700650462], [-4.184058300781043, 3.0515922579604897, 1.65247722718463], [-4.233876806662995, 2.920963659016382, 1.6533931207863233], [-4.280245773836045, 2.787817543024946, 1.65322020724648], [-4.323044117373968, 2.6522002723507, 1.651936224095882], [-4.362146534963916, 2.5141617188509584, 1.6495183728616047], [-4.3974232759494765, 2.373755609065986, 1.6459433023668169], [-4.428739899480757, 2.2310399050736245, 1.6411870926209347], [-4.455957021522417, 2.086077225493429, 1.6352252393361586], [-4.478930051258796, 1.9389353103541782, 1.6280326391694566], [-4.497508916028558, 1.7896875367542255, 1.6195835763421518], [-4.511537776217752, 1.6384134897038303, 1.6098517105444394], [-4.520854729710253, 1.4851995962032611, 1.598810066868618], [-4.525291507213819, 1.330139830273085, 1.586431028062581], [-4.524673160455932, 1.1733364962461696, 1.572686329642582], [-4.518817743780715, 1.0149011035546343, 1.5575470587197546], [-4.507535993623762, 0.8549553400781323, 1.540983657128839], [-4.490631007723224, 0.6936321617532734, 1.5229659300341378], [-4.467897930157012, 0.5310770096119675, 1.5034630609682769], [-4.439123647794397, 0.3674491723198435, 1.4824436349552637], [-4.404086506024647, 0.20292331649210527, 1.4598756708460703], [-4.362556055213914, 0.037691197900359505, 1.4357266658586905], [-4.3142928393641995, -0.1280364091516923, 1.4099636534823539], [-4.259048245710371, -0.2940275442003116, 1.3825532782472867], [-4.196564436202452, -0.46002662332580585, 1.353461890988664], [-4.1265743877696055, -0.6257516889845466, 1.3226556682244044], [-4.048802076665909, -0.7908913114303737, 1.2901007606841892], [-3.9629628509023926, -0.9551010935888985, 1.2557634773246276], [-3.8687640455059187, -1.1179997260966539, 1.2196105114259315], [-3.7659059114564295, -1.2791645366123938, 1.1816092177730588], [-3.6540829459811532, -1.4381264689088995, 1.1417279512608978], [-3.5329857357359646, -1.594364422972864, 1.0999364793509507], [-3.402303453014192, -1.747298882927058, 1.0562064834419662], [-3.261727180870028, -1.896284757480148, 1.0105121677044608], [-3.1109542886843857, -2.040603357626417, 0.9628309969088696], [-2.949694135429226, -2.179453443665659, 0.9131445899704326], [-2.7776754477186585, -2.311941287442356, 0.8614398006399381], [-2.5946558052950723, -2.437069723687967, 0.8077100233157717], [-2.4004337712454924, -2.5537262101285165, 0.7519567688998107], [-2.1948643302287625, -2.660669989909666, 0.6941915638912985], [-1.977878447425629, -2.756518562782547, 0.6344382349376012], [-1.749507733662121, -2.8397338403700436, 0.5727356507250436], [-1.5099153949085837, -2.9086086073922113, 0.5091410027998511], [-1.2594348472598949, -2.961254264029894, 0.4437337154335891], [-0.9986175717384531, -2.995591320825251, 0.3766200813541186], [-0.7282919302370633, -3.0093448020733535, 0.3079387199226598], [-0.44963469834511377, -3.0000476362469493, 0.2378669448142743], [-0.16425690143634866, -2.9650563198923656, 0.16662810666830102], [0.12569499894197367, -2.9015846758112853, 0.09449992727595016], [0.4174226304237175, -2.8067633757631203, 0.02182376465060468], [0.7073460145996017, -2.6777349879200365, -0.05098537546585205], [0.9909659402881021, -2.5117964030843285, -0.12342843669870043], [1.2627285850694179, -2.3066021523862514, -0.1949121060526713], [1.5159094098487775, -2.0604425764572056, -0.26473967305829704], [1.7425422661819052, -1.7726089025289484, -0.33210412897337294], [1.9334302035182735, -1.443851520584274, -0.3960849574526824], [2.0782853718560217, -1.0769264487708496, -0.45565023539453886], [2.166054311394695, -0.6772067244508524, -0.5096656271179083], [2.185488292236667, -0.2533097687108861, -0.5569115088894087], [2.126011996626139, 0.18234022589703636, -0.596108843569552], [1.9789236570631408, 0.6131310090266348, -0.6259536014060447], [1.7389227738587645, 1.0182117644179707, -0.6451588200475312], [1.4059060026443064, 1.3729493966239035, -0.6525031905779367], [0.9868961133735438, 1.6500807676552354, -0.6468857052538917], [0.49786969845790735, 1.8217416069746086, -0.6273874951623752], [-0.034878323929482466, 1.862506130189845, -0.5933441032693672], [-0.5743498332431547, 1.753452789080892, -0.5444329698434628], [-1.074106217224099, 1.4870266438566297, -0.48077997244342247], [-1.4819015013491146, 1.0720415297516337, -0.4030830180737706], [-1.7461811066525545, 0.537565653683355, -0.312737928857493], [-1.8251978024370916, -0.06613719823371549, -0.2119331753723526], [-1.6971651962956054, -0.6714956842459137, -0.10366310286422628], [-1.3683943650069204, -1.2031677261914575, 0.008390337207933056], [-0.8758277204190709, -1.591744760199784, 0.12012512361341719], [-0.2818474366273673, -1.7876566356037142, 0.22739456259322777], [0.33758153155915743, -1.7704984014724565, 0.3263964265199874], [0.9074276302074461, -1.5508307894529376, 0.41397451161657933], [1.366064895063539, -1.164823098841825, 0.48777562124579216], [1.6726974310940883, -0.6646606823130708, 0.5462671107824772], [1.809253880242962, -0.10819353733062971, 0.5886610881008106], [1.778045114499561, 0.4496943726963776, 0.6147983177475528], [1.5970432736857227, 0.9629263125056727, 0.6250294926139486], [1.2943833154036906, 1.3972691235314718, 0.6201110169799663], [0.9031554693178652, 1.731073563634979, 0.6011172173856675], [0.45707481794064986, 1.9543751307150017, 0.5693636435460929], [-0.01272393156448608, 2.066978103629006, 0.5263353170478755], [-0.47973555429145287, 2.0760509563507727, 0.47361662946903643], [-0.923086658916322, 1.993651734363201, 0.4128234039047079], [-1.3276898848574528, 1.8344862986654649, 0.3455404575393352], [-1.68379345438279, 1.6140840406791281, 0.27326890461668446], [-1.986171668907951, 1.3474650227137404, 0.19738651163310839], [-2.2331683426710462, 1.048283417238487, 0.11912243933680303], [-2.4257502624302973, 0.7283742201639665, 0.039545617207892896], [-2.566668038367579, 0.39760436521387066, -0.04043553443772517], [-2.6597699499258667, 0.06392885781052174, -0.12006504544422426], [-2.709476937847734, -0.26643262538519585, -0.1987260260380792], [-2.7204043332162615, -0.5887623061282432, -0.27592457293038475], [-2.6971054160340313, -0.8995970497053121, -0.3512729054473532], [-2.643909534526244, -1.196493242519051, -0.4244730493636384], [-2.564829741968508, -1.477817256533496, -0.4953018511807887], [-2.463519136276598, -1.7425666482484277, -0.5635977030845727], [-2.3432597258626595, -1.9902222281284028, -0.6292490863330864], [-2.2069718657573643, -2.2206284541225356, -0.6921848726097527], [-2.0572357844354747, -2.43389842876943, -0.7523662308648209], [-1.8963194059327546, -2.630339507201647, -0.8097799468739915], [-1.726208652277072, -2.8103957374632187, -0.8644329543361857], [-1.548637820403847, -2.9746037949665967, -0.9163478863544766], [-1.3651186007734673, -3.1235595853811935, -0.965559474977306], [-1.1769669575268846, -3.257893191710445, -1.0121116490195006], [-0.9853275152466139, -3.3782502917641377, -1.056055202883893], [-0.7911953647609575, -3.48527855727178, -1.0974459297144885], [-0.5954353610014199, -3.5796178640775493, -1.1363431316308834], [-0.39879907574873524, -3.6618934010824975, -1.1728084343499208], [-0.20193961180972142, -3.732710970760983, -1.2069048477225557], [-0.005424500406817497, -3.792653936091683, -1.2386960246347662], [0.19025309857186007, -3.842281395268674, -1.2682456797638428], [0.3846646865360654, -3.8821272640692888, -1.2956171366233915], [0.5774380153282521, -3.912700021448266, -1.3208729786650857], [0.7682498056798608, -3.9344829331132667, -1.3440747829603792], [0.9568194427202618, -3.947934612326712, -1.3652829210527573], [1.1429035159993128, -3.9534898121906394, -1.3845564131983086], [1.3262910880509884, -3.9515603698451165, -1.4019528255874825], [1.506799591166964, -3.9425362434236826, -1.4175282018043502], [1.6842712656869647, -3.9267865979211654, -1.4313370215843129], [1.8585700651390293, -3.9046609079384784, -1.4434321812215767], [2.029578964033949, -3.8764900541586003, -1.4538649910627557], [2.1971976131685, -3.8425873971765423, -1.4626851863935337], [2.3613402950985725, -3.8032498173995597, -1.4699409487311004], [2.5219341391432315, -3.758758713564277, -1.4756789351065356], [2.678917561031874, -3.7093809552761448, -1.4799443133849572], [2.832238897222552, -3.655369787095485, -1.4827808020482272], [2.981855208131609, -3.596965683247334, -1.4842307131715833], [3.1277312281080416, -3.534397153159864, -1.4843349975748577], [3.269838443062378, -3.467881498838008, -1.4831332913311652], [3.408154279351107, -3.397625525565343, -1.4806639629824483], [3.5426613895668373, -3.323826208008736, -1.4769641609514128], [3.6733470231689127, -3.24667131366039, -1.4720698607276688], [3.8002024711577405, -3.166339986061573, -1.4660159115325329], [3.9232225757084827, -3.083003290028305, -1.458836082200855], [4.042405296717341, -2.996824721233245, -1.450563106107796], [4.157751328358756, -2.9079606824002386, -1.441228724997651], [4.2692637596123415, -2.816560928307994, -1.4308637316189938], [4.376947773507269, -2.722768981709208, -1.4194980110995474], [4.480810380531106, -2.6267225220817148, -1.407160581067803], [4.580860182113476, -2.528553749385345, -1.3938796303416725], [4.677107160799304, -2.4283897242741586, -1.3796825563780912], [4.7695624940074435, -2.3263526864935082, -1.3645960014630296], [4.858238388646242, -2.2225603532608664, -1.348645887513139], [4.9431479342804, -2.117126198880451, -1.3318574496560502], [5.024304972758505, -2.0101597170305507, -1.3142552685695608], [5.101723982491132, -1.901766666887236, -1.2958633016976893], [5.17541997575229, -1.7920493045005297, -1.2767049132080972], [5.245408407598897, -1.6811066006518385, -1.256802902636877], [5.311705095243992, -1.5690344445070308, -1.2361795335307302], [5.374326146579774, -1.4559258376363104, -1.2148565594347516], [5.433287897107897, -1.3418710752396286, -1.1928552502792453], [5.4886068542766315, -1.2269579183132244, -1.1701964170306818], [5.540299648492896, -1.1112717557193073, -1.1469004360002568], [5.588382990141546, -0.9948957579135286, -1.1229872720667031], [5.632873632049827, -0.8779110225251006, -1.0984765011726965], [5.673788336793584, -0.7603967124895432, -1.0733873321182856], [5.711143848432838, -0.6424301873002826, -1.0477386276564173], [5.744956868261299, -0.5240871279286334, -1.0215489249136338], [5.775244034184542, -0.4054416558640733, -0.9948364552229103], [5.802021903383255, -0.2865664465699743, -0.9676191635358344], [5.825306938023974, -0.1675328381008246, -0.9399147271848425], [5.845115493818282, -0.048410935416670645, -0.911740573909867], [5.861463810957581, 0.07073029037461388, -0.8831139001777537], [5.8743680076530165, 0.1898229055430982, -0.8540516881366305], [5.883844075606921, 0.3087999219623314, -0.8245707232097701], [5.889907877794697, 0.4275952075004483, -0.7946876104233697], [5.892575147953986, 0.5461434002281397, -0.7644187912018419], [5.891861492061013, 0.664379824716356, -0.733780559388018], [5.887782391451289, 0.7822404110545262, -0.702789077317736], [5.880353207624899, 0.8996616159497767, -0.6714603916346776], [5.86958918871047, 1.0165803456247218, -0.6398104488346017], [5.855505477395711, 1.132933880702322, -0.6078551109513222], [5.838117120550653, 1.248659802187313, -0.575610170789345], [5.817439080205129, 1.363695919127478, -0.5430913675054765], [5.793486246226636, 1.4779801969673105, -0.5103144017807826], [5.766273450389165, 1.5914506870731022, -0.4772949513282387], [5.735815482121504, 1.7040454567347012, -0.4440486861952098], [5.702127105760038, 1.8157025197988492, -0.4105912843411374], [5.6652230794989284, 1.9263597675552826, -0.37693844722241976], [5.625118176085055, 2.035954899708195, -0.34310591545536434], [5.58182720518935, 2.1444253554030244, -0.3091094848795521], [5.535365037730269, 2.2517082440353033, -0.2749650226476049], [5.485746632131471, 2.3577402755453263, -0.24068848368873294], [5.432987062663996, 2.4624576902969433, -0.20629592742538258], [5.377101550018449, 2.565796188112318, -0.17180353482516544], [5.318105494247788, 2.667690856338158, -0.1372276258574362], [5.256014510150887, 2.7680760971240637, -0.10258467743127286], [5.190844465549041, 2.866885552874374, -0.06789134165273569], [5.1226115222476345, 2.9640520308673657, -0.033164464820205845], [5.0513321803514355, 3.059507425706905, 0.0015788932109766904], [4.9770233259014365, 3.153182640140658, 0.03632143894569753], [4.899702282039635, 3.245007504134585, 0.07104562436021628], [4.819386864570073, 3.334910690904136, 0.10573362565744836], [4.736095441239724, 3.422819631666421, 0.14036732063387128], [4.649846996387007, 3.508660426526186, 0.17492826583240467], [4.560661200207629, 3.5923577534059694, 0.20939767224852088], [4.468558483731713, 3.673834773624492, 0.2437563801875357], [4.373560120293038, 3.7530130335642062, 0.2779848333955676], [4.275688312686204, 3.829812364229381, 0.3120630511104161], [4.17496628894254, 3.9041507750289393, 0.34597060016968395], [4.071418404702178, 3.975944345489885, 0.3796865644219138], [3.965070255248542, 4.045107111328587, 0.4131895136653497], [3.8559487969995834, 4.111550946196008, 0.44645747088069987], [3.744082478484124, 4.175185439839286, 0.4794678768608859], [3.629501384888465, 4.235917768723451, 0.512197555072433], [3.5122373926802117, 4.293652564464987, 0.5446226719887184], [3.3923243406586447, 4.348291773780099, 0.5767186979581708], [3.2697982148397835, 4.3997345144638365, 0.6084603642176375], [3.1446973502389586, 4.447876925283227, 0.6398216176254925], [3.0170626535150076, 4.492612007483235, 0.6707755750939165], [2.8869378426158905, 4.533829463637178, 0.7012944714255299], [2.7543697118811137, 4.571415527169815, 0.7313496072162141], [2.6194084230234855, 4.6052527848690135, 0.7609112940813623], [2.4821078227894513, 4.635219994071909, 0.7899487953499549], [2.3425257910234976, 4.66119189376191, 0.818430262546194], [2.2007246253404387, 4.683039007377278, 0.8463226702469403], [2.0567714631264535, 4.700627440453487, 0.8735917458160869], [1.9107387463090062, 4.71381867240784, 0.9002018951941531], [1.7627047341274678, 4.722469342904756, 0.9261161247389955], [1.6127540684795714, 4.726431034638701, 0.9512959573813533], [1.4609783992653425, 4.725550052412954, 0.975701345267146], [1.3074770749807225, 4.719667201637706, 0.9992905755323185], [1.1523579085081752, 4.708617566669287, 1.0220201727346165], [0.9957380242468382, 4.692230293953425, 1.0438447927611432], [0.8377447995807261, 4.67032838070041, 1.0647171138284812], [0.6785169088048195, 4.642728476286652, 1.0845877180776538], [0.5182054849803533, 4.6092406994157775, 1.103404969437541], [0.3569754116723956, 4.569668479996523, 1.1211148825846384], [0.1950067624557875, 4.523808432992326, 1.1376609863002345], [0.03249640536800073, 4.471450275674001, 1.1529841796738691], [-0.13034020684994546, 4.412376801934855, 1.167022580351505], [-0.2932670372460622, 4.346363929180727, 1.1797113682579499], [-0.4560252306619697, 4.2731808404997755, 1.1909826194922437], [-0.6183306153557095, 4.1925902459179865, 1.2007651360794251], [-0.7798709072493759, 4.104348794661348, 1.2089842721003854], [-0.9403025818438767, 4.008207679667809, 1.215561751817616], [-1.0992473718687137, 3.903913481095747, 1.2204154874316893], [-1.2562883465816785, 3.7912093102960003, 1.2234593961463887], [-1.4109655250510018, 3.6698363293106633, 1.224603218859318], [-1.5627709696623597, 3.5395357388772455, 1.2237523445368768], [-1.7111433061464407, 3.4000513494018447, 1.2208076465939464], [-1.855461611462903, 3.2511328794264043, 1.2156653350128355], [-1.995038613943932, 3.0925401577765657, 1.208216834466188], [-2.1291131528850307, 2.92404844966522, 1.1983486985667435], [-2.256841853626206, 2.7454551797518874, 1.1859425734228866], [-2.3772899934511287, 2.556588387543738, 1.170875230259876], [-2.4894215593544318, 2.357317336443413, 1.1530186858503506], [-2.5920885512693532, 2.1475657862445967, 1.1322404448817223], [-2.6840196510017464, 1.9273285640229039, 1.108403898895117], [-2.763808489397778, 1.6966922059121283, 1.0813689313244321], [-2.8299019032237682, 1.45586060768786, 1.0509927914721624], [-2.880588806426187, 1.205186812041018, 1.0171313180156192], [-2.9139906354532945, 0.9452122704103622, 0.9796406139777758], [-2.9280548038533363, 0.6767151271649511, 0.9383793075552869], [-2.920553268102093, 0.4007692691008677, 0.8932115667182916], [-2.8890892292687766, 0.118816000499939, 0.8440110822730966], [-2.8311162503157328, -0.16724984008846439, 0.7906662909711473], [-2.7439757419300843, -0.4549778553583321, 0.7330871678309357], [-2.624960927654603, -0.7412435981583342, 0.671213996131759], [-2.471418070325478, -1.0221148639393185, 0.605028584899604], [-2.2808988183635304, -1.292707272202231, 0.534568459523868], [-2.0513806547948428, -1.5470390593889227, 0.45994455228841563], [-1.7815747688353154, -1.7779034564453982, 0.3813628343272014], [-1.4713406169029197, -1.9767893729659285, 0.299150072884817], [-1.1222212675412313, -2.133897752410068, 0.21378338052857893], [-0.7380992824302651, -2.2383209467467564, 0.12592233608954084], [-0.3259443242695765, -2.278472052946392, 0.036441128719236354], [0.10342352644662092, -2.242862072254471, -0.05354354252957793], [0.5346968254697995, -2.1213111095224098, -0.14265490286687366], [0.9477874855836222, -1.9066278654145992, -0.229256226642833], [1.3181538318554937, -1.5966850928902752, -0.3114757664735043], [1.6180285552428002, -1.196660157579371, -0.38726091794383577], [1.8187358666878866, -0.7210328308067893, -0.45446075161294813], [1.8940827109828662, -0.19480178658233024, -0.5109294337012804], [1.8245292415613923, 0.34663172477404136, -0.5546378551087272], [1.601569086387111, 0.8593248974171065, -0.5837799437769319], [1.231565594815138, 1.2945473525337852, -0.5968648264810287], [0.7382336494181226, 1.6042607986447164, -0.5927944706603866], [0.16300515986918354, 1.7478453520026935, -0.5709346226834364], [-0.43736261158805523, 1.6992796474407441, -0.5311902236357094], [-0.9963479973223522, 1.4536209068375996, -0.474091767083376], [-1.4463339583926906, 1.0312410974091475, -0.40088524721095165], [-1.7294536390391193, 0.4780666935613243, -0.3135982335419783], [-1.8084818205412696, -0.13953022391347933, -0.21503706187258811], [-1.6746614161397284, -0.745154075099475, -0.10866988397911803], [-1.349520072463796, -1.265937476441737, 0.001620562600273656], [-0.8795915181242481, -1.6452810921341865, 0.11187829938652846], [-0.32578505538520686, -1.8508696079948448, 0.21842776929564045], [0.24882258453600106, -1.8761236865438657, 0.3181515417193124], [0.7890317181163036, -1.7360058307464639, 0.40864054320239596], [1.2533839348426636, -1.45981748303601, 0.48821750557045634], [1.6158354351863118, -1.0836925800268944, 0.5558703686783566], [1.8644391465105865, -0.6445132039114154, 0.6111412230971015], [1.99848654246856, -0.17585224579247277, 0.6540063937960239], [2.0252437133741528, 0.2942020674644026, 0.6847677341347786], [1.9569552972412154, 0.7438033347943144, 0.7039625234448372], [1.8084132924106904, 1.1571834010970181, 0.7122919453377963], [1.5951524901866319, 1.5239735769166995, 0.7105650657648993], [1.332215249662181, 1.8382969418410497, 0.6996547686210948], [1.033382551916117, 2.097814712059956, 0.6804627833973276], [0.7107612212368705, 2.3028332387819916, 0.6538918612614611], [0.37462762776636255, 2.455526137859222, 0.6208239008459799], [0.03344488855715865, 2.5592923649137447, 0.5821032731292709], [-0.30601172328661463, 2.6182502856106447, 0.5385247838310254], [-0.6384700810153942, 2.636855895891155, 0.4908257378093754], [-0.9599520375895071, 2.6196274776949253, 0.4396815280242932], [-1.2675630955373878, 2.5709571079736557, 0.3857041284457786], [-1.559295275352608, 2.4949900879400313, 0.32944286096119835], [-1.8338509495229405, 2.395555429060713, 0.2713868381178004], [-2.0904908166027094, 2.276133237759075, 0.21196854915948068], [-2.328906201992416, 2.139847656988719, 0.15156814254048667], [-2.54911409528544, 1.989476634073491, 0.09051805016644147], [-2.7513724183277968, 1.8274720318078828, 0.02910768655372372], [-2.9361126775684707, 1.655985432314665, -0.03241196638921728], [-3.1038871703486026, 1.4768964155115916, -0.09382401460018289], [-3.255328132205777, 1.2918411732039135, -0.15494162211606718], [-3.391116524168079, 1.1022401094032335, -0.2156043343878615], [-3.5119585001115587, 0.9093236366446332, -0.27567476571963506], [-3.6175699227909686, 0.7161155445486194, -0.33444586030470697]], &quot;color&quot;: &quot;#ff0000&quot;, &quot;opacity&quot;: 1.0, &quot;linewidth&quot;: 1.0}];\n",
       "    for ( var i=0 ; i < lines.length ; i++ ) addLine( lines[i] );\n",
       "\n",
       "    function addLine( json ) {\n",
       "\n",
       "        var geometry = new THREE.Geometry();\n",
       "        for ( var i=0 ; i < json.points.length ; i++ ) {\n",
       "            var v = json.points[i];\n",
       "            geometry.vertices.push( new THREE.Vector3( a[0]*v[0], a[1]*v[1], a[2]*v[2] ) );\n",
       "        }\n",
       "\n",
       "        var c = new THREE.Vector3();\n",
       "        geometry.computeBoundingBox();\n",
       "        geometry.boundingBox.getCenter( c );\n",
       "        geometry.translate( -c.x, -c.y, -c.z );\n",
       "\n",
       "        var transparent = json.opacity < 1 ? true : false;\n",
       "        var materialOptions = { color: json.color, linewidth: json.linewidth,\n",
       "                                transparent: transparent, opacity: json.opacity };\n",
       "\n",
       "        var mesh;\n",
       "        if ( json.linewidth > 1 && window.createFatLineStrip ) {\n",
       "            mesh = createFatLineStrip( geometry, materialOptions );\n",
       "        } else {\n",
       "            var material = new THREE.LineBasicMaterial( materialOptions );\n",
       "            mesh = new THREE.Line( geometry, material );\n",
       "        }\n",
       "\n",
       "        mesh.position.set( c.x, c.y, c.z );\n",
       "        mesh.userData = json;\n",
       "        scene.add( mesh );\n",
       "\n",
       "    }\n",
       "\n",
       "    var surfaces = [{&quot;vertices&quot;: [{&quot;x&quot;: 0.0, &quot;y&quot;: 0.0, &quot;z&quot;: -1.0632139225171164}, {&quot;x&quot;: 0.16379647652075244, &quot;y&quot;: 0.02888173815558925, &quot;z&quot;: -1.050123994828578}, {&quot;x&quot;: 0.16632330119229063, &quot;y&quot;: 0.0, &quot;z&quot;: -1.050123994828578}, {&quot;x&quot;: 0.1562927787951476, &quot;y&quot;: 0.05688591931218561, &quot;z&quot;: -1.050123994828578}, {&quot;x&quot;: 0.14404020407381432, &quot;y&quot;: 0.0831616505961453, &quot;z&quot;: -1.050123994828578}, {&quot;x&quot;: 0.12741104063955833, &quot;y&quot;: 0.10691055720856683, &quot;z&quot;: -1.050123994828578}, {&quot;x&quot;: 0.10691055720856685, &quot;y&quot;: 0.12741104063955833, &quot;z&quot;: -1.050123994828578}, {&quot;x&quot;: 0.08316165059614535, &quot;y&quot;: 0.1440402040738143, &quot;z&quot;: -1.050123994828578}, {&quot;x&quot;: 0.05688591931218563, &quot;y&quot;: 0.15629277879514758, &quot;z&quot;: -1.050123994828578}, {&quot;x&quot;: 0.028881738155589264, &quot;y&quot;: 0.16379647652075244, &quot;z&quot;: -1.050123994828578}, {&quot;x&quot;: 1.0184364921437994e-17, &quot;y&quot;: 0.16632330119229063, &quot;z&quot;: -1.050123994828578}, {&quot;x&quot;: -0.028881738155589247, &quot;y&quot;: 0.16379647652075244, &quot;z&quot;: -1.050123994828578}, {&quot;x&quot;: -0.056885919312185576, &quot;y&quot;: 0.1562927787951476, &quot;z&quot;: -1.050123994828578}, {&quot;x&quot;: -0.08316165059614529, &quot;y&quot;: 0.14404020407381432, &quot;z&quot;: -1.050123994828578}, {&quot;x&quot;: -0.10691055720856685, &quot;y&quot;: 0.12741104063955833, &quot;z&quot;: -1.050123994828578}, {&quot;x&quot;: -0.12741104063955833, &quot;y&quot;: 0.10691055720856686, &quot;z&quot;: -1.050123994828578}, {&quot;x&quot;: -0.1440402040738143, &quot;y&quot;: 0.08316165059614537, &quot;z&quot;: -1.050123994828578}, {&quot;x&quot;: -0.15629277879514758, &quot;y&quot;: 0.05688591931218564, &quot;z&quot;: -1.050123994828578}, {&quot;x&quot;: -0.16379647652075244, &quot;y&quot;: 0.028881738155589243, &quot;z&quot;: -1.050123994828578}, {&quot;x&quot;: -0.16632330119229063, &quot;y&quot;: 2.0368729842875988e-17, &quot;z&quot;: -1.050123994828578}, {&quot;x&quot;: -0.1637964765207525, &quot;y&quot;: -0.0288817381555892, &quot;z&quot;: -1.050123994828578}, {&quot;x&quot;: -0.1562927787951476, &quot;y&quot;: -0.056885919312185604, &quot;z&quot;: -1.050123994828578}, {&quot;x&quot;: -0.1440402040738143, &quot;y&quot;: -0.08316165059614535, &quot;z&quot;: -1.050123994828578}, {&quot;x&quot;: -0.12741104063955838, &quot;y&quot;: -0.10691055720856676, &quot;z&quot;: -1.050123994828578}, {&quot;x&quot;: -0.10691055720856686, &quot;y&quot;: -0.12741104063955833, &quot;z&quot;: -1.050123994828578}, {&quot;x&quot;: -0.08316165059614539, &quot;y&quot;: -0.14404020407381427, &quot;z&quot;: -1.050123994828578}, {&quot;x&quot;: -0.05688591931218559, &quot;y&quot;: -0.1562927787951476, &quot;z&quot;: -1.050123994828578}, {&quot;x&quot;: -0.02888173815558925, &quot;y&quot;: -0.16379647652075244, &quot;z&quot;: -1.050123994828578}, {&quot;x&quot;: -3.055309476431398e-17, &quot;y&quot;: -0.16632330119229063, &quot;z&quot;: -1.050123994828578}, {&quot;x&quot;: 0.02888173815558919, &quot;y&quot;: -0.1637964765207525, &quot;z&quot;: -1.050123994828578}, {&quot;x&quot;: 0.05688591931218566, &quot;y&quot;: -0.15629277879514758, &quot;z&quot;: -1.050123994828578}, {&quot;x&quot;: 0.08316165059614522, &quot;y&quot;: -0.14404020407381438, &quot;z&quot;: -1.050123994828578}, {&quot;x&quot;: 0.10691055720856683, &quot;y&quot;: -0.12741104063955835, &quot;z&quot;: -1.050123994828578}, {&quot;x&quot;: 0.1274110406395583, &quot;y&quot;: -0.10691055720856689, &quot;z&quot;: -1.050123994828578}, {&quot;x&quot;: 0.14404020407381435, &quot;y&quot;: -0.08316165059614528, &quot;z&quot;: -1.050123994828578}, {&quot;x&quot;: 0.1562927787951476, &quot;y&quot;: -0.0568859193121856, &quot;z&quot;: -1.050123994828578}, {&quot;x&quot;: 0.16379647652075244, &quot;y&quot;: -0.02888173815558926, &quot;z&quot;: -1.050123994828578}, {&quot;x&quot;: 0.32355974018022476, &quot;y&quot;: 0.05705231206479443, &quot;z&quot;: -1.011176529225634}, {&quot;x&quot;: 0.3285511707138376, &quot;y&quot;: 0.0, &quot;z&quot;: -1.011176529225634}, {&quot;x&quot;: 0.30873711067036447, &quot;y&quot;: 0.11237111849736299, &quot;z&quot;: -1.011176529225634}, {&quot;x&quot;: 0.2845336602813012, &quot;y&quot;: 0.16427558535691875, &quot;z&quot;: -1.011176529225634}, {&quot;x&quot;: 0.25168479860556997, &quot;y&quot;: 0.21118862168286176, &quot;z&quot;: -1.011176529225634}, {&quot;x&quot;: 0.21118862168286182, &quot;y&quot;: 0.25168479860556997, &quot;z&quot;: -1.011176529225634}, {&quot;x&quot;: 0.16427558535691883, &quot;y&quot;: 0.2845336602813012, &quot;z&quot;: -1.011176529225634}, {&quot;x&quot;: 0.11237111849736302, &quot;y&quot;: 0.3087371106703644, &quot;z&quot;: -1.011176529225634}, {&quot;x&quot;: 0.05705231206479445, &quot;y&quot;: 0.32355974018022476, &quot;z&quot;: -1.011176529225634}, {&quot;x&quot;: 2.011795697854084e-17, &quot;y&quot;: 0.3285511707138376, &quot;z&quot;: -1.011176529225634}, {&quot;x&quot;: -0.05705231206479442, &quot;y&quot;: 0.32355974018022476, &quot;z&quot;: -1.011176529225634}, {&quot;x&quot;: -0.11237111849736292, &quot;y&quot;: 0.30873711067036447, &quot;z&quot;: -1.011176529225634}, {&quot;x&quot;: -0.16427558535691872, &quot;y&quot;: 0.2845336602813012, &quot;z&quot;: -1.011176529225634}, {&quot;x&quot;: -0.21118862168286182, &quot;y&quot;: 0.25168479860556997, &quot;z&quot;: -1.011176529225634}, {&quot;x&quot;: -0.25168479860556997, &quot;y&quot;: 0.21118862168286184, &quot;z&quot;: -1.011176529225634}, {&quot;x&quot;: -0.28453366028130117, &quot;y&quot;: 0.16427558535691889, &quot;z&quot;: -1.011176529225634}, {&quot;x&quot;: -0.3087371106703644, &quot;y&quot;: 0.11237111849736303, &quot;z&quot;: -1.011176529225634}, {&quot;x&quot;: -0.32355974018022476, &quot;y&quot;: 0.05705231206479441, &quot;z&quot;: -1.011176529225634}, {&quot;x&quot;: -0.3285511707138376, &quot;y&quot;: 4.023591395708168e-17, &quot;z&quot;: -1.011176529225634}, {&quot;x&quot;: -0.3235597401802248, &quot;y&quot;: -0.057052312064794324, &quot;z&quot;: -1.011176529225634}, {&quot;x&quot;: -0.30873711067036447, &quot;y&quot;: -0.11237111849736296, &quot;z&quot;: -1.011176529225634}, {&quot;x&quot;: -0.2845336602813012, &quot;y&quot;: -0.16427558535691883, &quot;z&quot;: -1.011176529225634}, {&quot;x&quot;: -0.2516847986055701, &quot;y&quot;: -0.21118862168286162, &quot;z&quot;: -1.011176529225634}, {&quot;x&quot;: -0.21118862168286184, &quot;y&quot;: -0.25168479860556997, &quot;z&quot;: -1.011176529225634}, {&quot;x&quot;: -0.16427558535691894, &quot;y&quot;: -0.28453366028130117, &quot;z&quot;: -1.011176529225634}, {&quot;x&quot;: -0.11237111849736293, &quot;y&quot;: -0.30873711067036447, &quot;z&quot;: -1.011176529225634}, {&quot;x&quot;: -0.05705231206479443, &quot;y&quot;: -0.32355974018022476, &quot;z&quot;: -1.011176529225634}, {&quot;x&quot;: -6.035387093562251e-17, &quot;y&quot;: -0.3285511707138376, &quot;z&quot;: -1.011176529225634}, {&quot;x&quot;: 0.0570523120647943, &quot;y&quot;: -0.3235597401802248, &quot;z&quot;: -1.011176529225634}, {&quot;x&quot;: 0.11237111849736307, &quot;y&quot;: -0.3087371106703644, &quot;z&quot;: -1.011176529225634}, {&quot;x&quot;: 0.16427558535691858, &quot;y&quot;: -0.28453366028130134, &quot;z&quot;: -1.011176529225634}, {&quot;x&quot;: 0.21118862168286176, &quot;y&quot;: -0.25168479860557, &quot;z&quot;: -1.011176529225634}, {&quot;x&quot;: 0.2516847986055699, &quot;y&quot;: -0.21118862168286187, &quot;z&quot;: -1.011176529225634}, {&quot;x&quot;: 0.2845336602813013, &quot;y&quot;: -0.1642755853569187, &quot;z&quot;: -1.011176529225634}, {&quot;x&quot;: 0.30873711067036447, &quot;y&quot;: -0.11237111849736295, &quot;z&quot;: -1.011176529225634}, {&quot;x&quot;: 0.32355974018022476, &quot;y&quot;: -0.05705231206479444, &quot;z&quot;: -1.011176529225634}, {&quot;x&quot;: 0.4753558892032478, &quot;y&quot;: 0.08381806870519627, &quot;z&quot;: -0.9473305415706565}, {&quot;x&quot;: 0.4826890200135895, &quot;y&quot;: 0.0, &quot;z&quot;: -0.9473305415706565}, {&quot;x&quot;: 0.4535793102411517, &quot;y&quot;: 0.16508936780677447, &quot;z&quot;: -0.9473305415706565}, {&quot;x&quot;: 0.41802095345958384, &quot;y&quot;: 0.2413445100067947, &quot;z&quot;: -0.9473305415706565}, {&quot;x&quot;: 0.3697612415359554, &quot;y&quot;: 0.3102665213964733, &quot;z&quot;: -0.9473305415706565}, {&quot;x&quot;: 0.31026652139647337, &quot;y&quot;: 0.3697612415359554, &quot;z&quot;: -0.9473305415706565}, {&quot;x&quot;: 0.2413445100067948, &quot;y&quot;: 0.4180209534595838, &quot;z&quot;: -0.9473305415706565}, {&quot;x&quot;: 0.1650893678067745, &quot;y&quot;: 0.45357931024115167, &quot;z&quot;: -0.9473305415706565}, {&quot;x&quot;: 0.08381806870519631, &quot;y&quot;: 0.4753558892032478, &quot;z&quot;: -0.9473305415706565}, {&quot;x&quot;: 2.9556178167160755e-17, &quot;y&quot;: 0.4826890200135895, &quot;z&quot;: -0.9473305415706565}, {&quot;x&quot;: -0.08381806870519626, &quot;y&quot;: 0.4753558892032478, &quot;z&quot;: -0.9473305415706565}, {&quot;x&quot;: -0.16508936780677436, &quot;y&quot;: 0.4535793102411517, &quot;z&quot;: -0.9473305415706565}, {&quot;x&quot;: -0.24134451000679463, &quot;y&quot;: 0.41802095345958384, &quot;z&quot;: -0.9473305415706565}, {&quot;x&quot;: -0.31026652139647337, &quot;y&quot;: 0.3697612415359554, &quot;z&quot;: -0.9473305415706565}, {&quot;x&quot;: -0.36976124153595535, &quot;y&quot;: 0.3102665213964734, &quot;z&quot;: -0.9473305415706565}, {&quot;x&quot;: -0.41802095345958373, &quot;y&quot;: 0.24134451000679488, &quot;z&quot;: -0.9473305415706565}, {&quot;x&quot;: -0.45357931024115167, &quot;y&quot;: 0.16508936780677452, &quot;z&quot;: -0.9473305415706565}, {&quot;x&quot;: -0.4753558892032478, &quot;y&quot;: 0.08381806870519626, &quot;z&quot;: -0.9473305415706565}, {&quot;x&quot;: -0.4826890200135895, &quot;y&quot;: 5.911235633432151e-17, &quot;z&quot;: -0.9473305415706565}, {&quot;x&quot;: -0.4753558892032479, &quot;y&quot;: -0.08381806870519612, &quot;z&quot;: -0.9473305415706565}, {&quot;x&quot;: -0.4535793102411517, &quot;y&quot;: -0.16508936780677444, &quot;z&quot;: -0.9473305415706565}, {&quot;x&quot;: -0.4180209534595838, &quot;y&quot;: -0.2413445100067948, &quot;z&quot;: -0.9473305415706565}, {&quot;x&quot;: -0.3697612415359555, &quot;y&quot;: -0.3102665213964731, &quot;z&quot;: -0.9473305415706565}, {&quot;x&quot;: -0.3102665213964734, &quot;y&quot;: -0.36976124153595535, &quot;z&quot;: -0.9473305415706565}, {&quot;x&quot;: -0.24134451000679494, &quot;y&quot;: -0.4180209534595837, &quot;z&quot;: -0.9473305415706565}, {&quot;x&quot;: -0.16508936780677438, &quot;y&quot;: -0.4535793102411517, &quot;z&quot;: -0.9473305415706565}, {&quot;x&quot;: -0.08381806870519627, &quot;y&quot;: -0.4753558892032478, &quot;z&quot;: -0.9473305415706565}, {&quot;x&quot;: -8.866853450148226e-17, &quot;y&quot;: -0.4826890200135895, &quot;z&quot;: -0.9473305415706565}, {&quot;x&quot;: 0.0838180687051961, &quot;y&quot;: -0.4753558892032479, &quot;z&quot;: -0.9473305415706565}, {&quot;x&quot;: 0.16508936780677458, &quot;y&quot;: -0.45357931024115167, &quot;z&quot;: -0.9473305415706565}, {&quot;x&quot;: 0.24134451000679444, &quot;y&quot;: -0.418020953459584, &quot;z&quot;: -0.9473305415706565}, {&quot;x&quot;: 0.3102665213964733, &quot;y&quot;: -0.36976124153595546, &quot;z&quot;: -0.9473305415706565}, {&quot;x&quot;: 0.3697612415359553, &quot;y&quot;: -0.3102665213964735, &quot;z&quot;: -0.9473305415706565}, {&quot;x&quot;: 0.4180209534595839, &quot;y&quot;: -0.2413445100067946, &quot;z&quot;: -0.9473305415706565}, {&quot;x&quot;: 0.4535793102411517, &quot;y&quot;: -0.1650893678067744, &quot;z&quot;: -0.9473305415706565}, {&quot;x&quot;: 0.4753558892032478, &quot;y&quot;: -0.0838180687051963, &quot;z&quot;: -0.9473305415706565}, {&quot;x&quot;: 0.6154471986183391, &quot;y&quot;: 0.10851994631785468, &quot;z&quot;: -0.8601581319723958}, {&quot;x&quot;: 0.6249414636875933, &quot;y&quot;: 0.0, &quot;z&quot;: -0.8601581319723958}, {&quot;x&quot;: 0.5872528818503762, &quot;y&quot;: 0.21374256898058386, &quot;z&quot;: -0.8601581319723958}, {&quot;x&quot;: 0.5412151834316861, &quot;y&quot;: 0.3124707318437966, &quot;z&quot;: -0.8601581319723958}, {&quot;x&quot;: 0.4787329355325214, &quot;y&quot;: 0.4017046296377553, &quot;z&quot;: -0.8601581319723958}, {&quot;x&quot;: 0.40170462963775533, &quot;y&quot;: 0.4787329355325214, &quot;z&quot;: -0.8601581319723958}, {&quot;x&quot;: 0.3124707318437967, &quot;y&quot;: 0.5412151834316861, &quot;z&quot;: -0.8601581319723958}, {&quot;x&quot;: 0.2137425689805839, &quot;y&quot;: 0.587252881850376, &quot;z&quot;: -0.8601581319723958}, {&quot;x&quot;: 0.10851994631785473, &quot;y&quot;: 0.6154471986183391, &quot;z&quot;: -0.8601581319723958}, {&quot;x&quot;: 3.8266628157973647e-17, &quot;y&quot;: 0.6249414636875933, &quot;z&quot;: -0.8601581319723958}, {&quot;x&quot;: -0.10851994631785467, &quot;y&quot;: 0.6154471986183391, &quot;z&quot;: -0.8601581319723958}, {&quot;x&quot;: -0.21374256898058372, &quot;y&quot;: 0.5872528818503762, &quot;z&quot;: -0.8601581319723958}, {&quot;x&quot;: -0.3124707318437965, &quot;y&quot;: 0.5412151834316861, &quot;z&quot;: -0.8601581319723958}, {&quot;x&quot;: -0.40170462963775533, &quot;y&quot;: 0.4787329355325214, &quot;z&quot;: -0.8601581319723958}, {&quot;x&quot;: -0.47873293553252133, &quot;y&quot;: 0.4017046296377554, &quot;z&quot;: -0.8601581319723958}, {&quot;x&quot;: -0.541215183431686, &quot;y&quot;: 0.3124707318437968, &quot;z&quot;: -0.8601581319723958}, {&quot;x&quot;: -0.587252881850376, &quot;y&quot;: 0.21374256898058394, &quot;z&quot;: -0.8601581319723958}, {&quot;x&quot;: -0.6154471986183391, &quot;y&quot;: 0.10851994631785465, &quot;z&quot;: -0.8601581319723958}, {&quot;x&quot;: -0.6249414636875933, &quot;y&quot;: 7.653325631594729e-17, &quot;z&quot;: -0.8601581319723958}, {&quot;x&quot;: -0.6154471986183393, &quot;y&quot;: -0.10851994631785448, &quot;z&quot;: -0.8601581319723958}, {&quot;x&quot;: -0.5872528818503762, &quot;y&quot;: -0.2137425689805838, &quot;z&quot;: -0.8601581319723958}, {&quot;x&quot;: -0.5412151834316861, &quot;y&quot;: -0.3124707318437967, &quot;z&quot;: -0.8601581319723958}, {&quot;x&quot;: -0.4787329355325216, &quot;y&quot;: -0.401704629637755, &quot;z&quot;: -0.8601581319723958}, {&quot;x&quot;: -0.4017046296377554, &quot;y&quot;: -0.47873293553252133, &quot;z&quot;: -0.8601581319723958}, {&quot;x&quot;: -0.3124707318437969, &quot;y&quot;: -0.541215183431686, &quot;z&quot;: -0.8601581319723958}, {&quot;x&quot;: -0.21374256898058375, &quot;y&quot;: -0.5872528818503762, &quot;z&quot;: -0.8601581319723958}, {&quot;x&quot;: -0.10851994631785468, &quot;y&quot;: -0.6154471986183391, &quot;z&quot;: -0.8601581319723958}, {&quot;x&quot;: -1.1479988447392095e-16, &quot;y&quot;: -0.6249414636875933, &quot;z&quot;: -0.8601581319723958}, {&quot;x&quot;: 0.10851994631785446, &quot;y&quot;: -0.6154471986183393, &quot;z&quot;: -0.8601581319723958}, {&quot;x&quot;: 0.21374256898058402, &quot;y&quot;: -0.587252881850376, &quot;z&quot;: -0.8601581319723958}, {&quot;x&quot;: 0.31247073184379626, &quot;y&quot;: -0.5412151834316863, &quot;z&quot;: -0.8601581319723958}, {&quot;x&quot;: 0.4017046296377553, &quot;y&quot;: -0.4787329355325215, &quot;z&quot;: -0.8601581319723958}, {&quot;x&quot;: 0.4787329355325213, &quot;y&quot;: -0.40170462963775544, &quot;z&quot;: -0.8601581319723958}, {&quot;x&quot;: 0.5412151834316862, &quot;y&quot;: -0.3124707318437964, &quot;z&quot;: -0.8601581319723958}, {&quot;x&quot;: 0.5872528818503762, &quot;y&quot;: -0.21374256898058377, &quot;z&quot;: -0.8601581319723958}, {&quot;x&quot;: 0.6154471986183391, &quot;y&quot;: -0.10851994631785472, &quot;z&quot;: -0.8601581319723958}, {&quot;x&quot;: 0.7403841554512993, &quot;y&quot;: 0.13054970269511437, &quot;z&quot;: -0.7518057744638015}, {&quot;x&quot;: 0.7518057744638016, &quot;y&quot;: 0.0, &quot;z&quot;: -0.7518057744638015}, {&quot;x&quot;: 0.7064663385278693, &quot;y&quot;: 0.2571327187351748, &quot;z&quot;: -0.7518057744638015}, {&quot;x&quot;: 0.6510828993974864, &quot;y&quot;: 0.37590288723190074, &quot;z&quot;: -0.7518057744638015}, {&quot;x&quot;: 0.5759166358327549, &quot;y&quot;: 0.48325143671612447, &quot;z&quot;: -0.7518057744638015}, {&quot;x&quot;: 0.4832514367161246, &quot;y&quot;: 0.5759166358327549, &quot;z&quot;: -0.7518057744638015}, {&quot;x&quot;: 0.37590288723190085, &quot;y&quot;: 0.6510828993974863, &quot;z&quot;: -0.7518057744638015}, {&quot;x&quot;: 0.2571327187351749, &quot;y&quot;: 0.7064663385278692, &quot;z&quot;: -0.7518057744638015}, {&quot;x&quot;: 0.13054970269511443, &quot;y&quot;: 0.7403841554512993, &quot;z&quot;: -0.7518057744638015}, {&quot;x&quot;: 4.603482676387958e-17, &quot;y&quot;: 0.7518057744638016, &quot;z&quot;: -0.7518057744638015}, {&quot;x&quot;: -0.13054970269511434, &quot;y&quot;: 0.7403841554512993, &quot;z&quot;: -0.7518057744638015}, {&quot;x&quot;: -0.2571327187351746, &quot;y&quot;: 0.7064663385278693, &quot;z&quot;: -0.7518057744638015}, {&quot;x&quot;: -0.37590288723190063, &quot;y&quot;: 0.6510828993974864, &quot;z&quot;: -0.7518057744638015}, {&quot;x&quot;: -0.4832514367161246, &quot;y&quot;: 0.5759166358327549, &quot;z&quot;: -0.7518057744638015}, {&quot;x&quot;: -0.5759166358327548, &quot;y&quot;: 0.48325143671612464, &quot;z&quot;: -0.7518057744638015}, {&quot;x&quot;: -0.6510828993974863, &quot;y&quot;: 0.375902887231901, &quot;z&quot;: -0.7518057744638015}, {&quot;x&quot;: -0.7064663385278692, &quot;y&quot;: 0.2571327187351749, &quot;z&quot;: -0.7518057744638015}, {&quot;x&quot;: -0.7403841554512993, &quot;y&quot;: 0.13054970269511434, &quot;z&quot;: -0.7518057744638015}, {&quot;x&quot;: -0.7518057744638016, &quot;y&quot;: 9.206965352775916e-17, &quot;z&quot;: -0.7518057744638015}, {&quot;x&quot;: -0.7403841554512994, &quot;y&quot;: -0.13054970269511415, &quot;z&quot;: -0.7518057744638015}, {&quot;x&quot;: -0.7064663385278693, &quot;y&quot;: -0.25713271873517474, &quot;z&quot;: -0.7518057744638015}, {&quot;x&quot;: -0.6510828993974863, &quot;y&quot;: -0.37590288723190085, &quot;z&quot;: -0.7518057744638015}, {&quot;x&quot;: -0.5759166358327551, &quot;y&quot;: -0.4832514367161242, &quot;z&quot;: -0.7518057744638015}, {&quot;x&quot;: -0.48325143671612464, &quot;y&quot;: -0.5759166358327548, &quot;z&quot;: -0.7518057744638015}, {&quot;x&quot;: -0.37590288723190113, &quot;y&quot;: -0.6510828993974862, &quot;z&quot;: -0.7518057744638015}, {&quot;x&quot;: -0.2571327187351747, &quot;y&quot;: -0.7064663385278693, &quot;z&quot;: -0.7518057744638015}, {&quot;x&quot;: -0.13054970269511437, &quot;y&quot;: -0.7403841554512993, &quot;z&quot;: -0.7518057744638015}, {&quot;x&quot;: -1.3810448029163872e-16, &quot;y&quot;: -0.7518057744638016, &quot;z&quot;: -0.7518057744638015}, {&quot;x&quot;: 0.1305497026951141, &quot;y&quot;: -0.7403841554512994, &quot;z&quot;: -0.7518057744638015}, {&quot;x&quot;: 0.257132718735175, &quot;y&quot;: -0.7064663385278692, &quot;z&quot;: -0.7518057744638015}, {&quot;x&quot;: 0.37590288723190035, &quot;y&quot;: -0.6510828993974866, &quot;z&quot;: -0.7518057744638015}, {&quot;x&quot;: 0.48325143671612447, &quot;y&quot;: -0.575916635832755, &quot;z&quot;: -0.7518057744638015}, {&quot;x&quot;: 0.5759166358327548, &quot;y&quot;: -0.48325143671612475, &quot;z&quot;: -0.7518057744638015}, {&quot;x&quot;: 0.6510828993974865, &quot;y&quot;: -0.3759028872319006, &quot;z&quot;: -0.7518057744638015}, {&quot;x&quot;: 0.7064663385278693, &quot;y&quot;: -0.25713271873517474, &quot;z&quot;: -0.7518057744638015}, {&quot;x&quot;: 0.7403841554512993, &quot;y&quot;: -0.1305497026951144, &quot;z&quot;: -0.7518057744638015}, {&quot;x&quot;: 0.8470903971829133, &quot;y&quot;: 0.14936489212239748, &quot;z&quot;: -0.6249414636875933}, {&quot;x&quot;: 0.8601581319723958, &quot;y&quot;: 0.0, &quot;z&quot;: -0.6249414636875933}, {&quot;x&quot;: 0.8082842493234519, &quot;y&quot;: 0.2941914075799383, &quot;z&quot;: -0.6249414636875933}, {&quot;x&quot;: 0.7449187935598626, &quot;y&quot;: 0.43007906598619783, &quot;z&quot;: -0.6249414636875933}, {&quot;x&quot;: 0.6589193572010543, &quot;y&quot;: 0.5528989896029751, &quot;z&quot;: -0.6249414636875933}, {&quot;x&quot;: 0.5528989896029752, &quot;y&quot;: 0.6589193572010543, &quot;z&quot;: -0.6249414636875933}, {&quot;x&quot;: 0.430079065986198, &quot;y&quot;: 0.7449187935598625, &quot;z&quot;: -0.6249414636875933}, {&quot;x&quot;: 0.2941914075799384, &quot;y&quot;: 0.8082842493234519, &quot;z&quot;: -0.6249414636875933}, {&quot;x&quot;: 0.14936489212239756, &quot;y&quot;: 0.8470903971829133, &quot;z&quot;: -0.6249414636875933}, {&quot;x&quot;: 5.2669495154028056e-17, &quot;y&quot;: 0.8601581319723958, &quot;z&quot;: -0.6249414636875933}, {&quot;x&quot;: -0.14936489212239748, &quot;y&quot;: 0.8470903971829133, &quot;z&quot;: -0.6249414636875933}, {&quot;x&quot;: -0.2941914075799381, &quot;y&quot;: 0.8082842493234519, &quot;z&quot;: -0.6249414636875933}, {&quot;x&quot;: -0.4300790659861977, &quot;y&quot;: 0.7449187935598626, &quot;z&quot;: -0.6249414636875933}, {&quot;x&quot;: -0.5528989896029752, &quot;y&quot;: 0.6589193572010543, &quot;z&quot;: -0.6249414636875933}, {&quot;x&quot;: -0.6589193572010542, &quot;y&quot;: 0.5528989896029752, &quot;z&quot;: -0.6249414636875933}, {&quot;x&quot;: -0.7449187935598625, &quot;y&quot;: 0.43007906598619816, &quot;z&quot;: -0.6249414636875933}, {&quot;x&quot;: -0.8082842493234519, &quot;y&quot;: 0.29419140757993845, &quot;z&quot;: -0.6249414636875933}, {&quot;x&quot;: -0.8470903971829133, &quot;y&quot;: 0.14936489212239745, &quot;z&quot;: -0.6249414636875933}, {&quot;x&quot;: -0.8601581319723958, &quot;y&quot;: 1.0533899030805611e-16, &quot;z&quot;: -0.6249414636875933}, {&quot;x&quot;: -0.8470903971829136, &quot;y&quot;: -0.14936489212239723, &quot;z&quot;: -0.6249414636875933}, {&quot;x&quot;: -0.8082842493234519, &quot;y&quot;: -0.2941914075799382, &quot;z&quot;: -0.6249414636875933}, {&quot;x&quot;: -0.7449187935598625, &quot;y&quot;: -0.430079065986198, &quot;z&quot;: -0.6249414636875933}, {&quot;x&quot;: -0.6589193572010547, &quot;y&quot;: -0.5528989896029748, &quot;z&quot;: -0.6249414636875933}, {&quot;x&quot;: -0.5528989896029752, &quot;y&quot;: -0.6589193572010542, &quot;z&quot;: -0.6249414636875933}, {&quot;x&quot;: -0.4300790659861983, &quot;y&quot;: -0.7449187935598623, &quot;z&quot;: -0.6249414636875933}, {&quot;x&quot;: -0.29419140757993817, &quot;y&quot;: -0.8082842493234519, &quot;z&quot;: -0.6249414636875933}, {&quot;x&quot;: -0.14936489212239748, &quot;y&quot;: -0.8470903971829133, &quot;z&quot;: -0.6249414636875933}, {&quot;x&quot;: -1.5800848546208415e-16, &quot;y&quot;: -0.8601581319723958, &quot;z&quot;: -0.6249414636875933}, {&quot;x&quot;: 0.14936489212239717, &quot;y&quot;: -0.8470903971829136, &quot;z&quot;: -0.6249414636875933}, {&quot;x&quot;: 0.2941914075799385, &quot;y&quot;: -0.8082842493234519, &quot;z&quot;: -0.6249414636875933}, {&quot;x&quot;: 0.4300790659861974, &quot;y&quot;: -0.7449187935598629, &quot;z&quot;: -0.6249414636875933}, {&quot;x&quot;: 0.5528989896029751, &quot;y&quot;: -0.6589193572010544, &quot;z&quot;: -0.6249414636875933}, {&quot;x&quot;: 0.6589193572010542, &quot;y&quot;: -0.5528989896029753, &quot;z&quot;: -0.6249414636875933}, {&quot;x&quot;: 0.7449187935598627, &quot;y&quot;: -0.4300790659861976, &quot;z&quot;: -0.6249414636875933}, {&quot;x&quot;: 0.8082842493234519, &quot;y&quot;: -0.2941914075799382, &quot;z&quot;: -0.6249414636875933}, {&quot;x&quot;: 0.8470903971829133, &quot;y&quot;: -0.14936489212239754, &quot;z&quot;: -0.6249414636875933}, {&quot;x&quot;: 0.9329384620040365, &quot;y&quot;: 0.16450222219197072, &quot;z&quot;: -0.48268902001358943}, {&quot;x&quot;: 0.9473305415706567, &quot;y&quot;: 0.0, &quot;z&quot;: -0.48268902001358943}, {&quot;x&quot;: 0.8901995193590643, &quot;y&quot;: 0.32400612760477937, &quot;z&quot;: -0.48268902001358943}, {&quot;x&quot;: 0.8204123147810589, &quot;y&quot;: 0.4736652707853282, &quot;z&quot;: -0.48268902001358943}, {&quot;x&quot;: 0.7256972971670935, &quot;y&quot;: 0.6089323343992571, &quot;z&quot;: -0.48268902001358943}, {&quot;x&quot;: 0.6089323343992572, &quot;y&quot;: 0.7256972971670935, &quot;z&quot;: -0.48268902001358943}, {&quot;x&quot;: 0.4736652707853284, &quot;y&quot;: 0.8204123147810588, &quot;z&quot;: -0.48268902001358943}, {&quot;x&quot;: 0.3240061276047794, &quot;y&quot;: 0.8901995193590642, &quot;z&quot;: -0.48268902001358943}, {&quot;x&quot;: 0.16450222219197078, &quot;y&quot;: 0.9329384620040365, &quot;z&quot;: -0.48268902001358943}, {&quot;x&quot;: 5.800726577345166e-17, &quot;y&quot;: 0.9473305415706567, &quot;z&quot;: -0.48268902001358943}, {&quot;x&quot;: -0.1645022221919707, &quot;y&quot;: 0.9329384620040365, &quot;z&quot;: -0.48268902001358943}, {&quot;x&quot;: -0.32400612760477915, &quot;y&quot;: 0.8901995193590643, &quot;z&quot;: -0.48268902001358943}, {&quot;x&quot;: -0.4736652707853281, &quot;y&quot;: 0.8204123147810589, &quot;z&quot;: -0.48268902001358943}, {&quot;x&quot;: -0.6089323343992572, &quot;y&quot;: 0.7256972971670935, &quot;z&quot;: -0.48268902001358943}, {&quot;x&quot;: -0.7256972971670934, &quot;y&quot;: 0.6089323343992573, &quot;z&quot;: -0.48268902001358943}, {&quot;x&quot;: -0.8204123147810587, &quot;y&quot;: 0.4736652707853286, &quot;z&quot;: -0.48268902001358943}, {&quot;x&quot;: -0.8901995193590642, &quot;y&quot;: 0.3240061276047795, &quot;z&quot;: -0.48268902001358943}, {&quot;x&quot;: -0.9329384620040365, &quot;y&quot;: 0.16450222219197067, &quot;z&quot;: -0.48268902001358943}, {&quot;x&quot;: -0.9473305415706567, &quot;y&quot;: 1.1601453154690332e-16, &quot;z&quot;: -0.48268902001358943}, {&quot;x&quot;: -0.9329384620040366, &quot;y&quot;: -0.16450222219197042, &quot;z&quot;: -0.48268902001358943}, {&quot;x&quot;: -0.8901995193590643, &quot;y&quot;: -0.3240061276047793, &quot;z&quot;: -0.48268902001358943}, {&quot;x&quot;: -0.8204123147810588, &quot;y&quot;: -0.4736652707853284, &quot;z&quot;: -0.48268902001358943}, {&quot;x&quot;: -0.7256972971670939, &quot;y&quot;: -0.6089323343992568, &quot;z&quot;: -0.48268902001358943}, {&quot;x&quot;: -0.6089323343992573, &quot;y&quot;: -0.7256972971670934, &quot;z&quot;: -0.48268902001358943}, {&quot;x&quot;: -0.4736652707853287, &quot;y&quot;: -0.8204123147810586, &quot;z&quot;: -0.48268902001358943}, {&quot;x&quot;: -0.3240061276047792, &quot;y&quot;: -0.8901995193590643, &quot;z&quot;: -0.48268902001358943}, {&quot;x&quot;: -0.16450222219197072, &quot;y&quot;: -0.9329384620040365, &quot;z&quot;: -0.48268902001358943}, {&quot;x&quot;: -1.7402179732035496e-16, &quot;y&quot;: -0.9473305415706567, &quot;z&quot;: -0.48268902001358943}, {&quot;x&quot;: 0.16450222219197036, &quot;y&quot;: -0.9329384620040366, &quot;z&quot;: -0.48268902001358943}, {&quot;x&quot;: 0.3240061276047796, &quot;y&quot;: -0.8901995193590642, &quot;z&quot;: -0.48268902001358943}, {&quot;x&quot;: 0.4736652707853277, &quot;y&quot;: -0.8204123147810591, &quot;z&quot;: -0.48268902001358943}, {&quot;x&quot;: 0.6089323343992571, &quot;y&quot;: -0.7256972971670936, &quot;z&quot;: -0.48268902001358943}, {&quot;x&quot;: 0.7256972971670933, &quot;y&quot;: -0.6089323343992574, &quot;z&quot;: -0.48268902001358943}, {&quot;x&quot;: 0.820412314781059, &quot;y&quot;: -0.473665270785328, &quot;z&quot;: -0.48268902001358943}, {&quot;x&quot;: 0.8901995193590643, &quot;y&quot;: -0.32400612760477926, &quot;z&quot;: -0.48268902001358943}, {&quot;x&quot;: 0.9329384620040365, &quot;y&quot;: -0.16450222219197075, &quot;z&quot;: -0.48268902001358943}, {&quot;x&quot;: 0.99581448564538, &quot;y&quot;: 0.17558896159960288, &quot;z&quot;: -0.32855117071383755}, {&quot;x&quot;: 1.011176529225634, &quot;y&quot;: 0.0, &quot;z&quot;: -0.32855117071383755}, {&quot;x&quot;: 0.9501951228252348, &quot;y&quot;: 0.3458427414533036, &quot;z&quot;: -0.32855117071383755}, {&quot;x&quot;: 0.875704562019977, &quot;y&quot;: 0.5055882646128169, &quot;z&quot;: -0.32855117071383755}, {&quot;x&quot;: 0.7746061612256319, &quot;y&quot;: 0.6499717441920764, &quot;z&quot;: -0.32855117071383755}, {&quot;x&quot;: 0.6499717441920765, &quot;y&quot;: 0.7746061612256319, &quot;z&quot;: -0.32855117071383755}, {&quot;x&quot;: 0.5055882646128171, &quot;y&quot;: 0.8757045620199769, &quot;z&quot;: -0.32855117071383755}, {&quot;x&quot;: 0.34584274145330374, &quot;y&quot;: 0.9501951228252347, &quot;z&quot;: -0.32855117071383755}, {&quot;x&quot;: 0.17558896159960294, &quot;y&quot;: 0.99581448564538, &quot;z&quot;: -0.32855117071383755}, {&quot;x&quot;: 6.191670499445514e-17, &quot;y&quot;: 1.011176529225634, &quot;z&quot;: -0.32855117071383755}, {&quot;x&quot;: -0.17558896159960286, &quot;y&quot;: 0.99581448564538, &quot;z&quot;: -0.32855117071383755}, {&quot;x&quot;: -0.3458427414533034, &quot;y&quot;: 0.9501951228252348, &quot;z&quot;: -0.32855117071383755}, {&quot;x&quot;: -0.5055882646128168, &quot;y&quot;: 0.875704562019977, &quot;z&quot;: -0.32855117071383755}, {&quot;x&quot;: -0.6499717441920765, &quot;y&quot;: 0.7746061612256319, &quot;z&quot;: -0.32855117071383755}, {&quot;x&quot;: -0.7746061612256318, &quot;y&quot;: 0.6499717441920766, &quot;z&quot;: -0.32855117071383755}, {&quot;x&quot;: -0.8757045620199768, &quot;y&quot;: 0.5055882646128174, &quot;z&quot;: -0.32855117071383755}, {&quot;x&quot;: -0.9501951228252347, &quot;y&quot;: 0.3458427414533038, &quot;z&quot;: -0.32855117071383755}, {&quot;x&quot;: -0.99581448564538, &quot;y&quot;: 0.17558896159960283, &quot;z&quot;: -0.32855117071383755}, {&quot;x&quot;: -1.011176529225634, &quot;y&quot;: 1.2383340998891028e-16, &quot;z&quot;: -0.32855117071383755}, {&quot;x&quot;: -0.9958144856453802, &quot;y&quot;: -0.17558896159960255, &quot;z&quot;: -0.32855117071383755}, {&quot;x&quot;: -0.9501951228252348, &quot;y&quot;: -0.34584274145330357, &quot;z&quot;: -0.32855117071383755}, {&quot;x&quot;: -0.8757045620199769, &quot;y&quot;: -0.5055882646128171, &quot;z&quot;: -0.32855117071383755}, {&quot;x&quot;: -0.7746061612256322, &quot;y&quot;: -0.6499717441920759, &quot;z&quot;: -0.32855117071383755}, {&quot;x&quot;: -0.6499717441920766, &quot;y&quot;: -0.7746061612256318, &quot;z&quot;: -0.32855117071383755}, {&quot;x&quot;: -0.5055882646128175, &quot;y&quot;: -0.8757045620199767, &quot;z&quot;: -0.32855117071383755}, {&quot;x&quot;: -0.34584274145330346, &quot;y&quot;: -0.9501951228252348, &quot;z&quot;: -0.32855117071383755}, {&quot;x&quot;: -0.17558896159960288, &quot;y&quot;: -0.99581448564538, &quot;z&quot;: -0.32855117071383755}, {&quot;x&quot;: -1.857501149833654e-16, &quot;y&quot;: -1.011176529225634, &quot;z&quot;: -0.32855117071383755}, {&quot;x&quot;: 0.1755889615996025, &quot;y&quot;: -0.9958144856453802, &quot;z&quot;: -0.32855117071383755}, {&quot;x&quot;: 0.34584274145330385, &quot;y&quot;: -0.9501951228252347, &quot;z&quot;: -0.32855117071383755}, {&quot;x&quot;: 0.5055882646128164, &quot;y&quot;: -0.8757045620199774, &quot;z&quot;: -0.32855117071383755}, {&quot;x&quot;: 0.6499717441920764, &quot;y&quot;: -0.774606161225632, &quot;z&quot;: -0.32855117071383755}, {&quot;x&quot;: 0.7746061612256316, &quot;y&quot;: -0.6499717441920767, &quot;z&quot;: -0.32855117071383755}, {&quot;x&quot;: 0.8757045620199772, &quot;y&quot;: -0.5055882646128167, &quot;z&quot;: -0.32855117071383755}, {&quot;x&quot;: 0.9501951228252348, &quot;y&quot;: -0.3458427414533035, &quot;z&quot;: -0.32855117071383755}, {&quot;x&quot;: 0.99581448564538, &quot;y&quot;: -0.1755889615996029, &quot;z&quot;: -0.32855117071383755}, {&quot;x&quot;: 1.0341702517313356, &quot;y&quot;: 0.18235211802629955, &quot;z&quot;: -0.16632330119229058}, {&quot;x&quot;: 1.050123994828578, &quot;y&quot;: 0.0, &quot;z&quot;: -0.16632330119229058}, {&quot;x&quot;: 0.9867937688506343, &quot;y&quot;: 0.3591635592209941, &quot;z&quot;: -0.16632330119229058}, {&quot;x&quot;: 0.9094340566451472, &quot;y&quot;: 0.5250619974142889, &quot;z&quot;: -0.16632330119229058}, {&quot;x&quot;: 0.8044416508243347, &quot;y&quot;: 0.6750066925103415, &quot;z&quot;: -0.16632330119229058}, {&quot;x&quot;: 0.6750066925103416, &quot;y&quot;: 0.8044416508243347, &quot;z&quot;: -0.16632330119229058}, {&quot;x&quot;: 0.5250619974142892, &quot;y&quot;: 0.9094340566451471, &quot;z&quot;: -0.16632330119229058}, {&quot;x&quot;: 0.3591635592209942, &quot;y&quot;: 0.9867937688506342, &quot;z&quot;: -0.16632330119229058}, {&quot;x&quot;: 0.18235211802629964, &quot;y&quot;: 1.0341702517313356, &quot;z&quot;: -0.16632330119229058}, {&quot;x&quot;: 6.43015494487325e-17, &quot;y&quot;: 1.050123994828578, &quot;z&quot;: -0.16632330119229058}, {&quot;x&quot;: -0.18235211802629953, &quot;y&quot;: 1.0341702517313356, &quot;z&quot;: -0.16632330119229058}, {&quot;x&quot;: -0.35916355922099386, &quot;y&quot;: 0.9867937688506343, &quot;z&quot;: -0.16632330119229058}, {&quot;x&quot;: -0.5250619974142888, &quot;y&quot;: 0.9094340566451472, &quot;z&quot;: -0.16632330119229058}, {&quot;x&quot;: -0.6750066925103416, &quot;y&quot;: 0.8044416508243347, &quot;z&quot;: -0.16632330119229058}, {&quot;x&quot;: -0.8044416508243346, &quot;y&quot;: 0.6750066925103417, &quot;z&quot;: -0.16632330119229058}, {&quot;x&quot;: -0.909434056645147, &quot;y&quot;: 0.5250619974142894, &quot;z&quot;: -0.16632330119229058}, {&quot;x&quot;: -0.9867937688506342, &quot;y&quot;: 0.35916355922099424, &quot;z&quot;: -0.16632330119229058}, {&quot;x&quot;: -1.0341702517313356, &quot;y&quot;: 0.1823521180262995, &quot;z&quot;: -0.16632330119229058}, {&quot;x&quot;: -1.050123994828578, &quot;y&quot;: 1.28603098897465e-16, &quot;z&quot;: -0.16632330119229058}, {&quot;x&quot;: -1.0341702517313358, &quot;y&quot;: -0.18235211802629922, &quot;z&quot;: -0.16632330119229058}, {&quot;x&quot;: -0.9867937688506343, &quot;y&quot;: -0.359163559220994, &quot;z&quot;: -0.16632330119229058}, {&quot;x&quot;: -0.9094340566451471, &quot;y&quot;: -0.5250619974142892, &quot;z&quot;: -0.16632330119229058}, {&quot;x&quot;: -0.804441650824335, &quot;y&quot;: -0.6750066925103411, &quot;z&quot;: -0.16632330119229058}, {&quot;x&quot;: -0.6750066925103417, &quot;y&quot;: -0.8044416508243346, &quot;z&quot;: -0.16632330119229058}, {&quot;x&quot;: -0.5250619974142895, &quot;y&quot;: -0.9094340566451469, &quot;z&quot;: -0.16632330119229058}, {&quot;x&quot;: -0.3591635592209939, &quot;y&quot;: -0.9867937688506343, &quot;z&quot;: -0.16632330119229058}, {&quot;x&quot;: -0.18235211802629955, &quot;y&quot;: -1.0341702517313356, &quot;z&quot;: -0.16632330119229058}, {&quot;x&quot;: -1.9290464834619748e-16, &quot;y&quot;: -1.050123994828578, &quot;z&quot;: -0.16632330119229058}, {&quot;x&quot;: 0.18235211802629916, &quot;y&quot;: -1.0341702517313358, &quot;z&quot;: -0.16632330119229058}, {&quot;x&quot;: 0.35916355922099436, &quot;y&quot;: -0.9867937688506342, &quot;z&quot;: -0.16632330119229058}, {&quot;x&quot;: 0.5250619974142884, &quot;y&quot;: -0.9094340566451475, &quot;z&quot;: -0.16632330119229058}, {&quot;x&quot;: 0.6750066925103415, &quot;y&quot;: -0.8044416508243348, &quot;z&quot;: -0.16632330119229058}, {&quot;x&quot;: 0.8044416508243345, &quot;y&quot;: -0.6750066925103418, &quot;z&quot;: -0.16632330119229058}, {&quot;x&quot;: 0.9094340566451473, &quot;y&quot;: -0.5250619974142887, &quot;z&quot;: -0.16632330119229058}, {&quot;x&quot;: 0.9867937688506343, &quot;y&quot;: -0.35916355922099397, &quot;z&quot;: -0.16632330119229058}, {&quot;x&quot;: 1.0341702517313356, &quot;y&quot;: -0.1823521180262996, &quot;z&quot;: -0.16632330119229058}, {&quot;x&quot;: 1.0470613140053773, &quot;y&quot;: 0.18462516011520613, &quot;z&quot;: 0.0}, {&quot;x&quot;: 1.0632139225171164, &quot;y&quot;: 0.0, &quot;z&quot;: 0.0}, {&quot;x&quot;: 0.999094277306175, &quot;y&quot;: 0.3636405781651506, &quot;z&quot;: 0.0}, {&quot;x&quot;: 0.9207702665571227, &quot;y&quot;: 0.5316069612585581, &quot;z&quot;: 0.0}, {&quot;x&quot;: 0.8144691171909687, &quot;y&quot;: 0.6834207358402267, &quot;z&quot;: 0.0}, {&quot;x&quot;: 0.6834207358402268, &quot;y&quot;: 0.8144691171909687, &quot;z&quot;: 0.0}, {&quot;x&quot;: 0.5316069612585583, &quot;y&quot;: 0.9207702665571226, &quot;z&quot;: 0.0}, {&quot;x&quot;: 0.3636405781651507, &quot;y&quot;: 0.9990942773061748, &quot;z&quot;: 0.0}, {&quot;x&quot;: 0.18462516011520622, &quot;y&quot;: 1.0470613140053773, &quot;z&quot;: 0.0}, {&quot;x&quot;: 6.510307635097443e-17, &quot;y&quot;: 1.0632139225171164, &quot;z&quot;: 0.0}, {&quot;x&quot;: -0.1846251601152061, &quot;y&quot;: 1.0470613140053773, &quot;z&quot;: 0.0}, {&quot;x&quot;: -0.3636405781651504, &quot;y&quot;: 0.999094277306175, &quot;z&quot;: 0.0}, {&quot;x&quot;: -0.531606961258558, &quot;y&quot;: 0.9207702665571227, &quot;z&quot;: 0.0}, {&quot;x&quot;: -0.6834207358402268, &quot;y&quot;: 0.8144691171909687, &quot;z&quot;: 0.0}, {&quot;x&quot;: -0.8144691171909686, &quot;y&quot;: 0.6834207358402269, &quot;z&quot;: 0.0}, {&quot;x&quot;: -0.9207702665571225, &quot;y&quot;: 0.5316069612585586, &quot;z&quot;: 0.0}, {&quot;x&quot;: -0.9990942773061748, &quot;y&quot;: 0.3636405781651508, &quot;z&quot;: 0.0}, {&quot;x&quot;: -1.0470613140053773, &quot;y&quot;: 0.18462516011520608, &quot;z&quot;: 0.0}, {&quot;x&quot;: -1.0632139225171164, &quot;y&quot;: 1.3020615270194886e-16, &quot;z&quot;: 0.0}, {&quot;x&quot;: -1.0470613140053775, &quot;y&quot;: -0.1846251601152058, &quot;z&quot;: 0.0}, {&quot;x&quot;: -0.999094277306175, &quot;y&quot;: -0.36364057816515055, &quot;z&quot;: 0.0}, {&quot;x&quot;: -0.9207702665571226, &quot;y&quot;: -0.5316069612585583, &quot;z&quot;: 0.0}, {&quot;x&quot;: -0.814469117190969, &quot;y&quot;: -0.6834207358402262, &quot;z&quot;: 0.0}, {&quot;x&quot;: -0.6834207358402269, &quot;y&quot;: -0.8144691171909686, &quot;z&quot;: 0.0}, {&quot;x&quot;: -0.5316069612585587, &quot;y&quot;: -0.9207702665571224, &quot;z&quot;: 0.0}, {&quot;x&quot;: -0.36364057816515044, &quot;y&quot;: -0.999094277306175, &quot;z&quot;: 0.0}, {&quot;x&quot;: -0.18462516011520613, &quot;y&quot;: -1.0470613140053773, &quot;z&quot;: 0.0}, {&quot;x&quot;: -1.9530922905292328e-16, &quot;y&quot;: -1.0632139225171164, &quot;z&quot;: 0.0}, {&quot;x&quot;: 0.18462516011520574, &quot;y&quot;: -1.0470613140053775, &quot;z&quot;: 0.0}, {&quot;x&quot;: 0.3636405781651509, &quot;y&quot;: -0.9990942773061748, &quot;z&quot;: 0.0}, {&quot;x&quot;: 0.5316069612585576, &quot;y&quot;: -0.920770266557123, &quot;z&quot;: 0.0}, {&quot;x&quot;: 0.6834207358402267, &quot;y&quot;: -0.8144691171909688, &quot;z&quot;: 0.0}, {&quot;x&quot;: 0.8144691171909685, &quot;y&quot;: -0.683420735840227, &quot;z&quot;: 0.0}, {&quot;x&quot;: 0.9207702665571228, &quot;y&quot;: -0.5316069612585579, &quot;z&quot;: 0.0}, {&quot;x&quot;: 0.999094277306175, &quot;y&quot;: -0.3636405781651505, &quot;z&quot;: 0.0}, {&quot;x&quot;: 1.0470613140053773, &quot;y&quot;: -0.1846251601152062, &quot;z&quot;: 0.0}, {&quot;x&quot;: 1.0341702517313356, &quot;y&quot;: 0.18235211802629955, &quot;z&quot;: 0.16632330119229036}, {&quot;x&quot;: 1.050123994828578, &quot;y&quot;: 0.0, &quot;z&quot;: 0.16632330119229036}, {&quot;x&quot;: 0.9867937688506343, &quot;y&quot;: 0.3591635592209941, &quot;z&quot;: 0.16632330119229036}, {&quot;x&quot;: 0.9094340566451472, &quot;y&quot;: 0.5250619974142889, &quot;z&quot;: 0.16632330119229036}, {&quot;x&quot;: 0.8044416508243347, &quot;y&quot;: 0.6750066925103415, &quot;z&quot;: 0.16632330119229036}, {&quot;x&quot;: 0.6750066925103416, &quot;y&quot;: 0.8044416508243347, &quot;z&quot;: 0.16632330119229036}, {&quot;x&quot;: 0.5250619974142892, &quot;y&quot;: 0.9094340566451471, &quot;z&quot;: 0.16632330119229036}, {&quot;x&quot;: 0.3591635592209942, &quot;y&quot;: 0.9867937688506342, &quot;z&quot;: 0.16632330119229036}, {&quot;x&quot;: 0.18235211802629964, &quot;y&quot;: 1.0341702517313356, &quot;z&quot;: 0.16632330119229036}, {&quot;x&quot;: 6.43015494487325e-17, &quot;y&quot;: 1.050123994828578, &quot;z&quot;: 0.16632330119229036}, {&quot;x&quot;: -0.18235211802629953, &quot;y&quot;: 1.0341702517313356, &quot;z&quot;: 0.16632330119229036}, {&quot;x&quot;: -0.35916355922099386, &quot;y&quot;: 0.9867937688506343, &quot;z&quot;: 0.16632330119229036}, {&quot;x&quot;: -0.5250619974142888, &quot;y&quot;: 0.9094340566451472, &quot;z&quot;: 0.16632330119229036}, {&quot;x&quot;: -0.6750066925103416, &quot;y&quot;: 0.8044416508243347, &quot;z&quot;: 0.16632330119229036}, {&quot;x&quot;: -0.8044416508243346, &quot;y&quot;: 0.6750066925103417, &quot;z&quot;: 0.16632330119229036}, {&quot;x&quot;: -0.909434056645147, &quot;y&quot;: 0.5250619974142894, &quot;z&quot;: 0.16632330119229036}, {&quot;x&quot;: -0.9867937688506342, &quot;y&quot;: 0.35916355922099424, &quot;z&quot;: 0.16632330119229036}, {&quot;x&quot;: -1.0341702517313356, &quot;y&quot;: 0.1823521180262995, &quot;z&quot;: 0.16632330119229036}, {&quot;x&quot;: -1.050123994828578, &quot;y&quot;: 1.28603098897465e-16, &quot;z&quot;: 0.16632330119229036}, {&quot;x&quot;: -1.0341702517313358, &quot;y&quot;: -0.18235211802629922, &quot;z&quot;: 0.16632330119229036}, {&quot;x&quot;: -0.9867937688506343, &quot;y&quot;: -0.359163559220994, &quot;z&quot;: 0.16632330119229036}, {&quot;x&quot;: -0.9094340566451471, &quot;y&quot;: -0.5250619974142892, &quot;z&quot;: 0.16632330119229036}, {&quot;x&quot;: -0.804441650824335, &quot;y&quot;: -0.6750066925103411, &quot;z&quot;: 0.16632330119229036}, {&quot;x&quot;: -0.6750066925103417, &quot;y&quot;: -0.8044416508243346, &quot;z&quot;: 0.16632330119229036}, {&quot;x&quot;: -0.5250619974142895, &quot;y&quot;: -0.9094340566451469, &quot;z&quot;: 0.16632330119229036}, {&quot;x&quot;: -0.3591635592209939, &quot;y&quot;: -0.9867937688506343, &quot;z&quot;: 0.16632330119229036}, {&quot;x&quot;: -0.18235211802629955, &quot;y&quot;: -1.0341702517313356, &quot;z&quot;: 0.16632330119229036}, {&quot;x&quot;: -1.9290464834619748e-16, &quot;y&quot;: -1.050123994828578, &quot;z&quot;: 0.16632330119229036}, {&quot;x&quot;: 0.18235211802629916, &quot;y&quot;: -1.0341702517313358, &quot;z&quot;: 0.16632330119229036}, {&quot;x&quot;: 0.35916355922099436, &quot;y&quot;: -0.9867937688506342, &quot;z&quot;: 0.16632330119229036}, {&quot;x&quot;: 0.5250619974142884, &quot;y&quot;: -0.9094340566451475, &quot;z&quot;: 0.16632330119229036}, {&quot;x&quot;: 0.6750066925103415, &quot;y&quot;: -0.8044416508243348, &quot;z&quot;: 0.16632330119229036}, {&quot;x&quot;: 0.8044416508243345, &quot;y&quot;: -0.6750066925103418, &quot;z&quot;: 0.16632330119229036}, {&quot;x&quot;: 0.9094340566451473, &quot;y&quot;: -0.5250619974142887, &quot;z&quot;: 0.16632330119229036}, {&quot;x&quot;: 0.9867937688506343, &quot;y&quot;: -0.35916355922099397, &quot;z&quot;: 0.16632330119229036}, {&quot;x&quot;: 1.0341702517313356, &quot;y&quot;: -0.1823521180262996, &quot;z&quot;: 0.16632330119229036}, {&quot;x&quot;: 0.99581448564538, &quot;y&quot;: 0.17558896159960288, &quot;z&quot;: 0.32855117071383755}, {&quot;x&quot;: 1.011176529225634, &quot;y&quot;: 0.0, &quot;z&quot;: 0.32855117071383755}, {&quot;x&quot;: 0.9501951228252348, &quot;y&quot;: 0.3458427414533036, &quot;z&quot;: 0.32855117071383755}, {&quot;x&quot;: 0.875704562019977, &quot;y&quot;: 0.5055882646128169, &quot;z&quot;: 0.32855117071383755}, {&quot;x&quot;: 0.7746061612256319, &quot;y&quot;: 0.6499717441920764, &quot;z&quot;: 0.32855117071383755}, {&quot;x&quot;: 0.6499717441920765, &quot;y&quot;: 0.7746061612256319, &quot;z&quot;: 0.32855117071383755}, {&quot;x&quot;: 0.5055882646128171, &quot;y&quot;: 0.8757045620199769, &quot;z&quot;: 0.32855117071383755}, {&quot;x&quot;: 0.34584274145330374, &quot;y&quot;: 0.9501951228252347, &quot;z&quot;: 0.32855117071383755}, {&quot;x&quot;: 0.17558896159960294, &quot;y&quot;: 0.99581448564538, &quot;z&quot;: 0.32855117071383755}, {&quot;x&quot;: 6.191670499445514e-17, &quot;y&quot;: 1.011176529225634, &quot;z&quot;: 0.32855117071383755}, {&quot;x&quot;: -0.17558896159960286, &quot;y&quot;: 0.99581448564538, &quot;z&quot;: 0.32855117071383755}, {&quot;x&quot;: -0.3458427414533034, &quot;y&quot;: 0.9501951228252348, &quot;z&quot;: 0.32855117071383755}, {&quot;x&quot;: -0.5055882646128168, &quot;y&quot;: 0.875704562019977, &quot;z&quot;: 0.32855117071383755}, {&quot;x&quot;: -0.6499717441920765, &quot;y&quot;: 0.7746061612256319, &quot;z&quot;: 0.32855117071383755}, {&quot;x&quot;: -0.7746061612256318, &quot;y&quot;: 0.6499717441920766, &quot;z&quot;: 0.32855117071383755}, {&quot;x&quot;: -0.8757045620199768, &quot;y&quot;: 0.5055882646128174, &quot;z&quot;: 0.32855117071383755}, {&quot;x&quot;: -0.9501951228252347, &quot;y&quot;: 0.3458427414533038, &quot;z&quot;: 0.32855117071383755}, {&quot;x&quot;: -0.99581448564538, &quot;y&quot;: 0.17558896159960283, &quot;z&quot;: 0.32855117071383755}, {&quot;x&quot;: -1.011176529225634, &quot;y&quot;: 1.2383340998891028e-16, &quot;z&quot;: 0.32855117071383755}, {&quot;x&quot;: -0.9958144856453802, &quot;y&quot;: -0.17558896159960255, &quot;z&quot;: 0.32855117071383755}, {&quot;x&quot;: -0.9501951228252348, &quot;y&quot;: -0.34584274145330357, &quot;z&quot;: 0.32855117071383755}, {&quot;x&quot;: -0.8757045620199769, &quot;y&quot;: -0.5055882646128171, &quot;z&quot;: 0.32855117071383755}, {&quot;x&quot;: -0.7746061612256322, &quot;y&quot;: -0.6499717441920759, &quot;z&quot;: 0.32855117071383755}, {&quot;x&quot;: -0.6499717441920766, &quot;y&quot;: -0.7746061612256318, &quot;z&quot;: 0.32855117071383755}, {&quot;x&quot;: -0.5055882646128175, &quot;y&quot;: -0.8757045620199767, &quot;z&quot;: 0.32855117071383755}, {&quot;x&quot;: -0.34584274145330346, &quot;y&quot;: -0.9501951228252348, &quot;z&quot;: 0.32855117071383755}, {&quot;x&quot;: -0.17558896159960288, &quot;y&quot;: -0.99581448564538, &quot;z&quot;: 0.32855117071383755}, {&quot;x&quot;: -1.857501149833654e-16, &quot;y&quot;: -1.011176529225634, &quot;z&quot;: 0.32855117071383755}, {&quot;x&quot;: 0.1755889615996025, &quot;y&quot;: -0.9958144856453802, &quot;z&quot;: 0.32855117071383755}, {&quot;x&quot;: 0.34584274145330385, &quot;y&quot;: -0.9501951228252347, &quot;z&quot;: 0.32855117071383755}, {&quot;x&quot;: 0.5055882646128164, &quot;y&quot;: -0.8757045620199774, &quot;z&quot;: 0.32855117071383755}, {&quot;x&quot;: 0.6499717441920764, &quot;y&quot;: -0.774606161225632, &quot;z&quot;: 0.32855117071383755}, {&quot;x&quot;: 0.7746061612256316, &quot;y&quot;: -0.6499717441920767, &quot;z&quot;: 0.32855117071383755}, {&quot;x&quot;: 0.8757045620199772, &quot;y&quot;: -0.5055882646128167, &quot;z&quot;: 0.32855117071383755}, {&quot;x&quot;: 0.9501951228252348, &quot;y&quot;: -0.3458427414533035, &quot;z&quot;: 0.32855117071383755}, {&quot;x&quot;: 0.99581448564538, &quot;y&quot;: -0.1755889615996029, &quot;z&quot;: 0.32855117071383755}, {&quot;x&quot;: 0.9329384620040365, &quot;y&quot;: 0.16450222219197072, &quot;z&quot;: 0.48268902001358943}, {&quot;x&quot;: 0.9473305415706567, &quot;y&quot;: 0.0, &quot;z&quot;: 0.48268902001358943}, {&quot;x&quot;: 0.8901995193590643, &quot;y&quot;: 0.32400612760477937, &quot;z&quot;: 0.48268902001358943}, {&quot;x&quot;: 0.8204123147810589, &quot;y&quot;: 0.4736652707853282, &quot;z&quot;: 0.48268902001358943}, {&quot;x&quot;: 0.7256972971670935, &quot;y&quot;: 0.6089323343992571, &quot;z&quot;: 0.48268902001358943}, {&quot;x&quot;: 0.6089323343992572, &quot;y&quot;: 0.7256972971670935, &quot;z&quot;: 0.48268902001358943}, {&quot;x&quot;: 0.4736652707853284, &quot;y&quot;: 0.8204123147810588, &quot;z&quot;: 0.48268902001358943}, {&quot;x&quot;: 0.3240061276047794, &quot;y&quot;: 0.8901995193590642, &quot;z&quot;: 0.48268902001358943}, {&quot;x&quot;: 0.16450222219197078, &quot;y&quot;: 0.9329384620040365, &quot;z&quot;: 0.48268902001358943}, {&quot;x&quot;: 5.800726577345166e-17, &quot;y&quot;: 0.9473305415706567, &quot;z&quot;: 0.48268902001358943}, {&quot;x&quot;: -0.1645022221919707, &quot;y&quot;: 0.9329384620040365, &quot;z&quot;: 0.48268902001358943}, {&quot;x&quot;: -0.32400612760477915, &quot;y&quot;: 0.8901995193590643, &quot;z&quot;: 0.48268902001358943}, {&quot;x&quot;: -0.4736652707853281, &quot;y&quot;: 0.8204123147810589, &quot;z&quot;: 0.48268902001358943}, {&quot;x&quot;: -0.6089323343992572, &quot;y&quot;: 0.7256972971670935, &quot;z&quot;: 0.48268902001358943}, {&quot;x&quot;: -0.7256972971670934, &quot;y&quot;: 0.6089323343992573, &quot;z&quot;: 0.48268902001358943}, {&quot;x&quot;: -0.8204123147810587, &quot;y&quot;: 0.4736652707853286, &quot;z&quot;: 0.48268902001358943}, {&quot;x&quot;: -0.8901995193590642, &quot;y&quot;: 0.3240061276047795, &quot;z&quot;: 0.48268902001358943}, {&quot;x&quot;: -0.9329384620040365, &quot;y&quot;: 0.16450222219197067, &quot;z&quot;: 0.48268902001358943}, {&quot;x&quot;: -0.9473305415706567, &quot;y&quot;: 1.1601453154690332e-16, &quot;z&quot;: 0.48268902001358943}, {&quot;x&quot;: -0.9329384620040366, &quot;y&quot;: -0.16450222219197042, &quot;z&quot;: 0.48268902001358943}, {&quot;x&quot;: -0.8901995193590643, &quot;y&quot;: -0.3240061276047793, &quot;z&quot;: 0.48268902001358943}, {&quot;x&quot;: -0.8204123147810588, &quot;y&quot;: -0.4736652707853284, &quot;z&quot;: 0.48268902001358943}, {&quot;x&quot;: -0.7256972971670939, &quot;y&quot;: -0.6089323343992568, &quot;z&quot;: 0.48268902001358943}, {&quot;x&quot;: -0.6089323343992573, &quot;y&quot;: -0.7256972971670934, &quot;z&quot;: 0.48268902001358943}, {&quot;x&quot;: -0.4736652707853287, &quot;y&quot;: -0.8204123147810586, &quot;z&quot;: 0.48268902001358943}, {&quot;x&quot;: -0.3240061276047792, &quot;y&quot;: -0.8901995193590643, &quot;z&quot;: 0.48268902001358943}, {&quot;x&quot;: -0.16450222219197072, &quot;y&quot;: -0.9329384620040365, &quot;z&quot;: 0.48268902001358943}, {&quot;x&quot;: -1.7402179732035496e-16, &quot;y&quot;: -0.9473305415706567, &quot;z&quot;: 0.48268902001358943}, {&quot;x&quot;: 0.16450222219197036, &quot;y&quot;: -0.9329384620040366, &quot;z&quot;: 0.48268902001358943}, {&quot;x&quot;: 0.3240061276047796, &quot;y&quot;: -0.8901995193590642, &quot;z&quot;: 0.48268902001358943}, {&quot;x&quot;: 0.4736652707853277, &quot;y&quot;: -0.8204123147810591, &quot;z&quot;: 0.48268902001358943}, {&quot;x&quot;: 0.6089323343992571, &quot;y&quot;: -0.7256972971670936, &quot;z&quot;: 0.48268902001358943}, {&quot;x&quot;: 0.7256972971670933, &quot;y&quot;: -0.6089323343992574, &quot;z&quot;: 0.48268902001358943}, {&quot;x&quot;: 0.820412314781059, &quot;y&quot;: -0.473665270785328, &quot;z&quot;: 0.48268902001358943}, {&quot;x&quot;: 0.8901995193590643, &quot;y&quot;: -0.32400612760477926, &quot;z&quot;: 0.48268902001358943}, {&quot;x&quot;: 0.9329384620040365, &quot;y&quot;: -0.16450222219197075, &quot;z&quot;: 0.48268902001358943}, {&quot;x&quot;: 0.8470903971829133, &quot;y&quot;: 0.14936489212239748, &quot;z&quot;: 0.6249414636875933}, {&quot;x&quot;: 0.8601581319723958, &quot;y&quot;: 0.0, &quot;z&quot;: 0.6249414636875933}, {&quot;x&quot;: 0.8082842493234519, &quot;y&quot;: 0.2941914075799383, &quot;z&quot;: 0.6249414636875933}, {&quot;x&quot;: 0.7449187935598626, &quot;y&quot;: 0.43007906598619783, &quot;z&quot;: 0.6249414636875933}, {&quot;x&quot;: 0.6589193572010543, &quot;y&quot;: 0.5528989896029751, &quot;z&quot;: 0.6249414636875933}, {&quot;x&quot;: 0.5528989896029752, &quot;y&quot;: 0.6589193572010543, &quot;z&quot;: 0.6249414636875933}, {&quot;x&quot;: 0.430079065986198, &quot;y&quot;: 0.7449187935598625, &quot;z&quot;: 0.6249414636875933}, {&quot;x&quot;: 0.2941914075799384, &quot;y&quot;: 0.8082842493234519, &quot;z&quot;: 0.6249414636875933}, {&quot;x&quot;: 0.14936489212239756, &quot;y&quot;: 0.8470903971829133, &quot;z&quot;: 0.6249414636875933}, {&quot;x&quot;: 5.2669495154028056e-17, &quot;y&quot;: 0.8601581319723958, &quot;z&quot;: 0.6249414636875933}, {&quot;x&quot;: -0.14936489212239748, &quot;y&quot;: 0.8470903971829133, &quot;z&quot;: 0.6249414636875933}, {&quot;x&quot;: -0.2941914075799381, &quot;y&quot;: 0.8082842493234519, &quot;z&quot;: 0.6249414636875933}, {&quot;x&quot;: -0.4300790659861977, &quot;y&quot;: 0.7449187935598626, &quot;z&quot;: 0.6249414636875933}, {&quot;x&quot;: -0.5528989896029752, &quot;y&quot;: 0.6589193572010543, &quot;z&quot;: 0.6249414636875933}, {&quot;x&quot;: -0.6589193572010542, &quot;y&quot;: 0.5528989896029752, &quot;z&quot;: 0.6249414636875933}, {&quot;x&quot;: -0.7449187935598625, &quot;y&quot;: 0.43007906598619816, &quot;z&quot;: 0.6249414636875933}, {&quot;x&quot;: -0.8082842493234519, &quot;y&quot;: 0.29419140757993845, &quot;z&quot;: 0.6249414636875933}, {&quot;x&quot;: -0.8470903971829133, &quot;y&quot;: 0.14936489212239745, &quot;z&quot;: 0.6249414636875933}, {&quot;x&quot;: -0.8601581319723958, &quot;y&quot;: 1.0533899030805611e-16, &quot;z&quot;: 0.6249414636875933}, {&quot;x&quot;: -0.8470903971829136, &quot;y&quot;: -0.14936489212239723, &quot;z&quot;: 0.6249414636875933}, {&quot;x&quot;: -0.8082842493234519, &quot;y&quot;: -0.2941914075799382, &quot;z&quot;: 0.6249414636875933}, {&quot;x&quot;: -0.7449187935598625, &quot;y&quot;: -0.430079065986198, &quot;z&quot;: 0.6249414636875933}, {&quot;x&quot;: -0.6589193572010547, &quot;y&quot;: -0.5528989896029748, &quot;z&quot;: 0.6249414636875933}, {&quot;x&quot;: -0.5528989896029752, &quot;y&quot;: -0.6589193572010542, &quot;z&quot;: 0.6249414636875933}, {&quot;x&quot;: -0.4300790659861983, &quot;y&quot;: -0.7449187935598623, &quot;z&quot;: 0.6249414636875933}, {&quot;x&quot;: -0.29419140757993817, &quot;y&quot;: -0.8082842493234519, &quot;z&quot;: 0.6249414636875933}, {&quot;x&quot;: -0.14936489212239748, &quot;y&quot;: -0.8470903971829133, &quot;z&quot;: 0.6249414636875933}, {&quot;x&quot;: -1.5800848546208415e-16, &quot;y&quot;: -0.8601581319723958, &quot;z&quot;: 0.6249414636875933}, {&quot;x&quot;: 0.14936489212239717, &quot;y&quot;: -0.8470903971829136, &quot;z&quot;: 0.6249414636875933}, {&quot;x&quot;: 0.2941914075799385, &quot;y&quot;: -0.8082842493234519, &quot;z&quot;: 0.6249414636875933}, {&quot;x&quot;: 0.4300790659861974, &quot;y&quot;: -0.7449187935598629, &quot;z&quot;: 0.6249414636875933}, {&quot;x&quot;: 0.5528989896029751, &quot;y&quot;: -0.6589193572010544, &quot;z&quot;: 0.6249414636875933}, {&quot;x&quot;: 0.6589193572010542, &quot;y&quot;: -0.5528989896029753, &quot;z&quot;: 0.6249414636875933}, {&quot;x&quot;: 0.7449187935598627, &quot;y&quot;: -0.4300790659861976, &quot;z&quot;: 0.6249414636875933}, {&quot;x&quot;: 0.8082842493234519, &quot;y&quot;: -0.2941914075799382, &quot;z&quot;: 0.6249414636875933}, {&quot;x&quot;: 0.8470903971829133, &quot;y&quot;: -0.14936489212239754, &quot;z&quot;: 0.6249414636875933}, {&quot;x&quot;: 0.7403841554512993, &quot;y&quot;: 0.13054970269511437, &quot;z&quot;: 0.7518057744638015}, {&quot;x&quot;: 0.7518057744638016, &quot;y&quot;: 0.0, &quot;z&quot;: 0.7518057744638015}, {&quot;x&quot;: 0.7064663385278693, &quot;y&quot;: 0.2571327187351748, &quot;z&quot;: 0.7518057744638015}, {&quot;x&quot;: 0.6510828993974864, &quot;y&quot;: 0.37590288723190074, &quot;z&quot;: 0.7518057744638015}, {&quot;x&quot;: 0.5759166358327549, &quot;y&quot;: 0.48325143671612447, &quot;z&quot;: 0.7518057744638015}, {&quot;x&quot;: 0.4832514367161246, &quot;y&quot;: 0.5759166358327549, &quot;z&quot;: 0.7518057744638015}, {&quot;x&quot;: 0.37590288723190085, &quot;y&quot;: 0.6510828993974863, &quot;z&quot;: 0.7518057744638015}, {&quot;x&quot;: 0.2571327187351749, &quot;y&quot;: 0.7064663385278692, &quot;z&quot;: 0.7518057744638015}, {&quot;x&quot;: 0.13054970269511443, &quot;y&quot;: 0.7403841554512993, &quot;z&quot;: 0.7518057744638015}, {&quot;x&quot;: 4.603482676387958e-17, &quot;y&quot;: 0.7518057744638016, &quot;z&quot;: 0.7518057744638015}, {&quot;x&quot;: -0.13054970269511434, &quot;y&quot;: 0.7403841554512993, &quot;z&quot;: 0.7518057744638015}, {&quot;x&quot;: -0.2571327187351746, &quot;y&quot;: 0.7064663385278693, &quot;z&quot;: 0.7518057744638015}, {&quot;x&quot;: -0.37590288723190063, &quot;y&quot;: 0.6510828993974864, &quot;z&quot;: 0.7518057744638015}, {&quot;x&quot;: -0.4832514367161246, &quot;y&quot;: 0.5759166358327549, &quot;z&quot;: 0.7518057744638015}, {&quot;x&quot;: -0.5759166358327548, &quot;y&quot;: 0.48325143671612464, &quot;z&quot;: 0.7518057744638015}, {&quot;x&quot;: -0.6510828993974863, &quot;y&quot;: 0.375902887231901, &quot;z&quot;: 0.7518057744638015}, {&quot;x&quot;: -0.7064663385278692, &quot;y&quot;: 0.2571327187351749, &quot;z&quot;: 0.7518057744638015}, {&quot;x&quot;: -0.7403841554512993, &quot;y&quot;: 0.13054970269511434, &quot;z&quot;: 0.7518057744638015}, {&quot;x&quot;: -0.7518057744638016, &quot;y&quot;: 9.206965352775916e-17, &quot;z&quot;: 0.7518057744638015}, {&quot;x&quot;: -0.7403841554512994, &quot;y&quot;: -0.13054970269511415, &quot;z&quot;: 0.7518057744638015}, {&quot;x&quot;: -0.7064663385278693, &quot;y&quot;: -0.25713271873517474, &quot;z&quot;: 0.7518057744638015}, {&quot;x&quot;: -0.6510828993974863, &quot;y&quot;: -0.37590288723190085, &quot;z&quot;: 0.7518057744638015}, {&quot;x&quot;: -0.5759166358327551, &quot;y&quot;: -0.4832514367161242, &quot;z&quot;: 0.7518057744638015}, {&quot;x&quot;: -0.48325143671612464, &quot;y&quot;: -0.5759166358327548, &quot;z&quot;: 0.7518057744638015}, {&quot;x&quot;: -0.37590288723190113, &quot;y&quot;: -0.6510828993974862, &quot;z&quot;: 0.7518057744638015}, {&quot;x&quot;: -0.2571327187351747, &quot;y&quot;: -0.7064663385278693, &quot;z&quot;: 0.7518057744638015}, {&quot;x&quot;: -0.13054970269511437, &quot;y&quot;: -0.7403841554512993, &quot;z&quot;: 0.7518057744638015}, {&quot;x&quot;: -1.3810448029163872e-16, &quot;y&quot;: -0.7518057744638016, &quot;z&quot;: 0.7518057744638015}, {&quot;x&quot;: 0.1305497026951141, &quot;y&quot;: -0.7403841554512994, &quot;z&quot;: 0.7518057744638015}, {&quot;x&quot;: 0.257132718735175, &quot;y&quot;: -0.7064663385278692, &quot;z&quot;: 0.7518057744638015}, {&quot;x&quot;: 0.37590288723190035, &quot;y&quot;: -0.6510828993974866, &quot;z&quot;: 0.7518057744638015}, {&quot;x&quot;: 0.48325143671612447, &quot;y&quot;: -0.575916635832755, &quot;z&quot;: 0.7518057744638015}, {&quot;x&quot;: 0.5759166358327548, &quot;y&quot;: -0.48325143671612475, &quot;z&quot;: 0.7518057744638015}, {&quot;x&quot;: 0.6510828993974865, &quot;y&quot;: -0.3759028872319006, &quot;z&quot;: 0.7518057744638015}, {&quot;x&quot;: 0.7064663385278693, &quot;y&quot;: -0.25713271873517474, &quot;z&quot;: 0.7518057744638015}, {&quot;x&quot;: 0.7403841554512993, &quot;y&quot;: -0.1305497026951144, &quot;z&quot;: 0.7518057744638015}, {&quot;x&quot;: 0.6154471986183391, &quot;y&quot;: 0.10851994631785468, &quot;z&quot;: 0.8601581319723958}, {&quot;x&quot;: 0.6249414636875933, &quot;y&quot;: 0.0, &quot;z&quot;: 0.8601581319723958}, {&quot;x&quot;: 0.5872528818503762, &quot;y&quot;: 0.21374256898058386, &quot;z&quot;: 0.8601581319723958}, {&quot;x&quot;: 0.5412151834316861, &quot;y&quot;: 0.3124707318437966, &quot;z&quot;: 0.8601581319723958}, {&quot;x&quot;: 0.4787329355325214, &quot;y&quot;: 0.4017046296377553, &quot;z&quot;: 0.8601581319723958}, {&quot;x&quot;: 0.40170462963775533, &quot;y&quot;: 0.4787329355325214, &quot;z&quot;: 0.8601581319723958}, {&quot;x&quot;: 0.3124707318437967, &quot;y&quot;: 0.5412151834316861, &quot;z&quot;: 0.8601581319723958}, {&quot;x&quot;: 0.2137425689805839, &quot;y&quot;: 0.587252881850376, &quot;z&quot;: 0.8601581319723958}, {&quot;x&quot;: 0.10851994631785473, &quot;y&quot;: 0.6154471986183391, &quot;z&quot;: 0.8601581319723958}, {&quot;x&quot;: 3.8266628157973647e-17, &quot;y&quot;: 0.6249414636875933, &quot;z&quot;: 0.8601581319723958}, {&quot;x&quot;: -0.10851994631785467, &quot;y&quot;: 0.6154471986183391, &quot;z&quot;: 0.8601581319723958}, {&quot;x&quot;: -0.21374256898058372, &quot;y&quot;: 0.5872528818503762, &quot;z&quot;: 0.8601581319723958}, {&quot;x&quot;: -0.3124707318437965, &quot;y&quot;: 0.5412151834316861, &quot;z&quot;: 0.8601581319723958}, {&quot;x&quot;: -0.40170462963775533, &quot;y&quot;: 0.4787329355325214, &quot;z&quot;: 0.8601581319723958}, {&quot;x&quot;: -0.47873293553252133, &quot;y&quot;: 0.4017046296377554, &quot;z&quot;: 0.8601581319723958}, {&quot;x&quot;: -0.541215183431686, &quot;y&quot;: 0.3124707318437968, &quot;z&quot;: 0.8601581319723958}, {&quot;x&quot;: -0.587252881850376, &quot;y&quot;: 0.21374256898058394, &quot;z&quot;: 0.8601581319723958}, {&quot;x&quot;: -0.6154471986183391, &quot;y&quot;: 0.10851994631785465, &quot;z&quot;: 0.8601581319723958}, {&quot;x&quot;: -0.6249414636875933, &quot;y&quot;: 7.653325631594729e-17, &quot;z&quot;: 0.8601581319723958}, {&quot;x&quot;: -0.6154471986183393, &quot;y&quot;: -0.10851994631785448, &quot;z&quot;: 0.8601581319723958}, {&quot;x&quot;: -0.5872528818503762, &quot;y&quot;: -0.2137425689805838, &quot;z&quot;: 0.8601581319723958}, {&quot;x&quot;: -0.5412151834316861, &quot;y&quot;: -0.3124707318437967, &quot;z&quot;: 0.8601581319723958}, {&quot;x&quot;: -0.4787329355325216, &quot;y&quot;: -0.401704629637755, &quot;z&quot;: 0.8601581319723958}, {&quot;x&quot;: -0.4017046296377554, &quot;y&quot;: -0.47873293553252133, &quot;z&quot;: 0.8601581319723958}, {&quot;x&quot;: -0.3124707318437969, &quot;y&quot;: -0.541215183431686, &quot;z&quot;: 0.8601581319723958}, {&quot;x&quot;: -0.21374256898058375, &quot;y&quot;: -0.5872528818503762, &quot;z&quot;: 0.8601581319723958}, {&quot;x&quot;: -0.10851994631785468, &quot;y&quot;: -0.6154471986183391, &quot;z&quot;: 0.8601581319723958}, {&quot;x&quot;: -1.1479988447392095e-16, &quot;y&quot;: -0.6249414636875933, &quot;z&quot;: 0.8601581319723958}, {&quot;x&quot;: 0.10851994631785446, &quot;y&quot;: -0.6154471986183393, &quot;z&quot;: 0.8601581319723958}, {&quot;x&quot;: 0.21374256898058402, &quot;y&quot;: -0.587252881850376, &quot;z&quot;: 0.8601581319723958}, {&quot;x&quot;: 0.31247073184379626, &quot;y&quot;: -0.5412151834316863, &quot;z&quot;: 0.8601581319723958}, {&quot;x&quot;: 0.4017046296377553, &quot;y&quot;: -0.4787329355325215, &quot;z&quot;: 0.8601581319723958}, {&quot;x&quot;: 0.4787329355325213, &quot;y&quot;: -0.40170462963775544, &quot;z&quot;: 0.8601581319723958}, {&quot;x&quot;: 0.5412151834316862, &quot;y&quot;: -0.3124707318437964, &quot;z&quot;: 0.8601581319723958}, {&quot;x&quot;: 0.5872528818503762, &quot;y&quot;: -0.21374256898058377, &quot;z&quot;: 0.8601581319723958}, {&quot;x&quot;: 0.6154471986183391, &quot;y&quot;: -0.10851994631785472, &quot;z&quot;: 0.8601581319723958}, {&quot;x&quot;: 0.4753558892032478, &quot;y&quot;: 0.08381806870519627, &quot;z&quot;: 0.9473305415706565}, {&quot;x&quot;: 0.4826890200135895, &quot;y&quot;: 0.0, &quot;z&quot;: 0.9473305415706565}, {&quot;x&quot;: 0.4535793102411517, &quot;y&quot;: 0.16508936780677447, &quot;z&quot;: 0.9473305415706565}, {&quot;x&quot;: 0.41802095345958384, &quot;y&quot;: 0.2413445100067947, &quot;z&quot;: 0.9473305415706565}, {&quot;x&quot;: 0.3697612415359554, &quot;y&quot;: 0.3102665213964733, &quot;z&quot;: 0.9473305415706565}, {&quot;x&quot;: 0.31026652139647337, &quot;y&quot;: 0.3697612415359554, &quot;z&quot;: 0.9473305415706565}, {&quot;x&quot;: 0.2413445100067948, &quot;y&quot;: 0.4180209534595838, &quot;z&quot;: 0.9473305415706565}, {&quot;x&quot;: 0.1650893678067745, &quot;y&quot;: 0.45357931024115167, &quot;z&quot;: 0.9473305415706565}, {&quot;x&quot;: 0.08381806870519631, &quot;y&quot;: 0.4753558892032478, &quot;z&quot;: 0.9473305415706565}, {&quot;x&quot;: 2.9556178167160755e-17, &quot;y&quot;: 0.4826890200135895, &quot;z&quot;: 0.9473305415706565}, {&quot;x&quot;: -0.08381806870519626, &quot;y&quot;: 0.4753558892032478, &quot;z&quot;: 0.9473305415706565}, {&quot;x&quot;: -0.16508936780677436, &quot;y&quot;: 0.4535793102411517, &quot;z&quot;: 0.9473305415706565}, {&quot;x&quot;: -0.24134451000679463, &quot;y&quot;: 0.41802095345958384, &quot;z&quot;: 0.9473305415706565}, {&quot;x&quot;: -0.31026652139647337, &quot;y&quot;: 0.3697612415359554, &quot;z&quot;: 0.9473305415706565}, {&quot;x&quot;: -0.36976124153595535, &quot;y&quot;: 0.3102665213964734, &quot;z&quot;: 0.9473305415706565}, {&quot;x&quot;: -0.41802095345958373, &quot;y&quot;: 0.24134451000679488, &quot;z&quot;: 0.9473305415706565}, {&quot;x&quot;: -0.45357931024115167, &quot;y&quot;: 0.16508936780677452, &quot;z&quot;: 0.9473305415706565}, {&quot;x&quot;: -0.4753558892032478, &quot;y&quot;: 0.08381806870519626, &quot;z&quot;: 0.9473305415706565}, {&quot;x&quot;: -0.4826890200135895, &quot;y&quot;: 5.911235633432151e-17, &quot;z&quot;: 0.9473305415706565}, {&quot;x&quot;: -0.4753558892032479, &quot;y&quot;: -0.08381806870519612, &quot;z&quot;: 0.9473305415706565}, {&quot;x&quot;: -0.4535793102411517, &quot;y&quot;: -0.16508936780677444, &quot;z&quot;: 0.9473305415706565}, {&quot;x&quot;: -0.4180209534595838, &quot;y&quot;: -0.2413445100067948, &quot;z&quot;: 0.9473305415706565}, {&quot;x&quot;: -0.3697612415359555, &quot;y&quot;: -0.3102665213964731, &quot;z&quot;: 0.9473305415706565}, {&quot;x&quot;: -0.3102665213964734, &quot;y&quot;: -0.36976124153595535, &quot;z&quot;: 0.9473305415706565}, {&quot;x&quot;: -0.24134451000679494, &quot;y&quot;: -0.4180209534595837, &quot;z&quot;: 0.9473305415706565}, {&quot;x&quot;: -0.16508936780677438, &quot;y&quot;: -0.4535793102411517, &quot;z&quot;: 0.9473305415706565}, {&quot;x&quot;: -0.08381806870519627, &quot;y&quot;: -0.4753558892032478, &quot;z&quot;: 0.9473305415706565}, {&quot;x&quot;: -8.866853450148226e-17, &quot;y&quot;: -0.4826890200135895, &quot;z&quot;: 0.9473305415706565}, {&quot;x&quot;: 0.0838180687051961, &quot;y&quot;: -0.4753558892032479, &quot;z&quot;: 0.9473305415706565}, {&quot;x&quot;: 0.16508936780677458, &quot;y&quot;: -0.45357931024115167, &quot;z&quot;: 0.9473305415706565}, {&quot;x&quot;: 0.24134451000679444, &quot;y&quot;: -0.418020953459584, &quot;z&quot;: 0.9473305415706565}, {&quot;x&quot;: 0.3102665213964733, &quot;y&quot;: -0.36976124153595546, &quot;z&quot;: 0.9473305415706565}, {&quot;x&quot;: 0.3697612415359553, &quot;y&quot;: -0.3102665213964735, &quot;z&quot;: 0.9473305415706565}, {&quot;x&quot;: 0.4180209534595839, &quot;y&quot;: -0.2413445100067946, &quot;z&quot;: 0.9473305415706565}, {&quot;x&quot;: 0.4535793102411517, &quot;y&quot;: -0.1650893678067744, &quot;z&quot;: 0.9473305415706565}, {&quot;x&quot;: 0.4753558892032478, &quot;y&quot;: -0.0838180687051963, &quot;z&quot;: 0.9473305415706565}, {&quot;x&quot;: 0.32355974018022476, &quot;y&quot;: 0.05705231206479443, &quot;z&quot;: 1.011176529225634}, {&quot;x&quot;: 0.3285511707138376, &quot;y&quot;: 0.0, &quot;z&quot;: 1.011176529225634}, {&quot;x&quot;: 0.30873711067036447, &quot;y&quot;: 0.11237111849736299, &quot;z&quot;: 1.011176529225634}, {&quot;x&quot;: 0.2845336602813012, &quot;y&quot;: 0.16427558535691875, &quot;z&quot;: 1.011176529225634}, {&quot;x&quot;: 0.25168479860556997, &quot;y&quot;: 0.21118862168286176, &quot;z&quot;: 1.011176529225634}, {&quot;x&quot;: 0.21118862168286182, &quot;y&quot;: 0.25168479860556997, &quot;z&quot;: 1.011176529225634}, {&quot;x&quot;: 0.16427558535691883, &quot;y&quot;: 0.2845336602813012, &quot;z&quot;: 1.011176529225634}, {&quot;x&quot;: 0.11237111849736302, &quot;y&quot;: 0.3087371106703644, &quot;z&quot;: 1.011176529225634}, {&quot;x&quot;: 0.05705231206479445, &quot;y&quot;: 0.32355974018022476, &quot;z&quot;: 1.011176529225634}, {&quot;x&quot;: 2.011795697854084e-17, &quot;y&quot;: 0.3285511707138376, &quot;z&quot;: 1.011176529225634}, {&quot;x&quot;: -0.05705231206479442, &quot;y&quot;: 0.32355974018022476, &quot;z&quot;: 1.011176529225634}, {&quot;x&quot;: -0.11237111849736292, &quot;y&quot;: 0.30873711067036447, &quot;z&quot;: 1.011176529225634}, {&quot;x&quot;: -0.16427558535691872, &quot;y&quot;: 0.2845336602813012, &quot;z&quot;: 1.011176529225634}, {&quot;x&quot;: -0.21118862168286182, &quot;y&quot;: 0.25168479860556997, &quot;z&quot;: 1.011176529225634}, {&quot;x&quot;: -0.25168479860556997, &quot;y&quot;: 0.21118862168286184, &quot;z&quot;: 1.011176529225634}, {&quot;x&quot;: -0.28453366028130117, &quot;y&quot;: 0.16427558535691889, &quot;z&quot;: 1.011176529225634}, {&quot;x&quot;: -0.3087371106703644, &quot;y&quot;: 0.11237111849736303, &quot;z&quot;: 1.011176529225634}, {&quot;x&quot;: -0.32355974018022476, &quot;y&quot;: 0.05705231206479441, &quot;z&quot;: 1.011176529225634}, {&quot;x&quot;: -0.3285511707138376, &quot;y&quot;: 4.023591395708168e-17, &quot;z&quot;: 1.011176529225634}, {&quot;x&quot;: -0.3235597401802248, &quot;y&quot;: -0.057052312064794324, &quot;z&quot;: 1.011176529225634}, {&quot;x&quot;: -0.30873711067036447, &quot;y&quot;: -0.11237111849736296, &quot;z&quot;: 1.011176529225634}, {&quot;x&quot;: -0.2845336602813012, &quot;y&quot;: -0.16427558535691883, &quot;z&quot;: 1.011176529225634}, {&quot;x&quot;: -0.2516847986055701, &quot;y&quot;: -0.21118862168286162, &quot;z&quot;: 1.011176529225634}, {&quot;x&quot;: -0.21118862168286184, &quot;y&quot;: -0.25168479860556997, &quot;z&quot;: 1.011176529225634}, {&quot;x&quot;: -0.16427558535691894, &quot;y&quot;: -0.28453366028130117, &quot;z&quot;: 1.011176529225634}, {&quot;x&quot;: -0.11237111849736293, &quot;y&quot;: -0.30873711067036447, &quot;z&quot;: 1.011176529225634}, {&quot;x&quot;: -0.05705231206479443, &quot;y&quot;: -0.32355974018022476, &quot;z&quot;: 1.011176529225634}, {&quot;x&quot;: -6.035387093562251e-17, &quot;y&quot;: -0.3285511707138376, &quot;z&quot;: 1.011176529225634}, {&quot;x&quot;: 0.0570523120647943, &quot;y&quot;: -0.3235597401802248, &quot;z&quot;: 1.011176529225634}, {&quot;x&quot;: 0.11237111849736307, &quot;y&quot;: -0.3087371106703644, &quot;z&quot;: 1.011176529225634}, {&quot;x&quot;: 0.16427558535691858, &quot;y&quot;: -0.28453366028130134, &quot;z&quot;: 1.011176529225634}, {&quot;x&quot;: 0.21118862168286176, &quot;y&quot;: -0.25168479860557, &quot;z&quot;: 1.011176529225634}, {&quot;x&quot;: 0.2516847986055699, &quot;y&quot;: -0.21118862168286187, &quot;z&quot;: 1.011176529225634}, {&quot;x&quot;: 0.2845336602813013, &quot;y&quot;: -0.1642755853569187, &quot;z&quot;: 1.011176529225634}, {&quot;x&quot;: 0.30873711067036447, &quot;y&quot;: -0.11237111849736295, &quot;z&quot;: 1.011176529225634}, {&quot;x&quot;: 0.32355974018022476, &quot;y&quot;: -0.05705231206479444, &quot;z&quot;: 1.011176529225634}, {&quot;x&quot;: 0.16379647652075244, &quot;y&quot;: 0.02888173815558925, &quot;z&quot;: 1.050123994828578}, {&quot;x&quot;: 0.16632330119229063, &quot;y&quot;: 0.0, &quot;z&quot;: 1.050123994828578}, {&quot;x&quot;: 0.1562927787951476, &quot;y&quot;: 0.05688591931218561, &quot;z&quot;: 1.050123994828578}, {&quot;x&quot;: 0.14404020407381432, &quot;y&quot;: 0.0831616505961453, &quot;z&quot;: 1.050123994828578}, {&quot;x&quot;: 0.12741104063955833, &quot;y&quot;: 0.10691055720856683, &quot;z&quot;: 1.050123994828578}, {&quot;x&quot;: 0.10691055720856685, &quot;y&quot;: 0.12741104063955833, &quot;z&quot;: 1.050123994828578}, {&quot;x&quot;: 0.08316165059614535, &quot;y&quot;: 0.1440402040738143, &quot;z&quot;: 1.050123994828578}, {&quot;x&quot;: 0.05688591931218563, &quot;y&quot;: 0.15629277879514758, &quot;z&quot;: 1.050123994828578}, {&quot;x&quot;: 0.028881738155589264, &quot;y&quot;: 0.16379647652075244, &quot;z&quot;: 1.050123994828578}, {&quot;x&quot;: 1.0184364921437994e-17, &quot;y&quot;: 0.16632330119229063, &quot;z&quot;: 1.050123994828578}, {&quot;x&quot;: -0.028881738155589247, &quot;y&quot;: 0.16379647652075244, &quot;z&quot;: 1.050123994828578}, {&quot;x&quot;: -0.056885919312185576, &quot;y&quot;: 0.1562927787951476, &quot;z&quot;: 1.050123994828578}, {&quot;x&quot;: -0.08316165059614529, &quot;y&quot;: 0.14404020407381432, &quot;z&quot;: 1.050123994828578}, {&quot;x&quot;: -0.10691055720856685, &quot;y&quot;: 0.12741104063955833, &quot;z&quot;: 1.050123994828578}, {&quot;x&quot;: -0.12741104063955833, &quot;y&quot;: 0.10691055720856686, &quot;z&quot;: 1.050123994828578}, {&quot;x&quot;: -0.1440402040738143, &quot;y&quot;: 0.08316165059614537, &quot;z&quot;: 1.050123994828578}, {&quot;x&quot;: -0.15629277879514758, &quot;y&quot;: 0.05688591931218564, &quot;z&quot;: 1.050123994828578}, {&quot;x&quot;: -0.16379647652075244, &quot;y&quot;: 0.028881738155589243, &quot;z&quot;: 1.050123994828578}, {&quot;x&quot;: -0.16632330119229063, &quot;y&quot;: 2.0368729842875988e-17, &quot;z&quot;: 1.050123994828578}, {&quot;x&quot;: -0.1637964765207525, &quot;y&quot;: -0.0288817381555892, &quot;z&quot;: 1.050123994828578}, {&quot;x&quot;: -0.1562927787951476, &quot;y&quot;: -0.056885919312185604, &quot;z&quot;: 1.050123994828578}, {&quot;x&quot;: -0.1440402040738143, &quot;y&quot;: -0.08316165059614535, &quot;z&quot;: 1.050123994828578}, {&quot;x&quot;: -0.12741104063955838, &quot;y&quot;: -0.10691055720856676, &quot;z&quot;: 1.050123994828578}, {&quot;x&quot;: -0.10691055720856686, &quot;y&quot;: -0.12741104063955833, &quot;z&quot;: 1.050123994828578}, {&quot;x&quot;: -0.08316165059614539, &quot;y&quot;: -0.14404020407381427, &quot;z&quot;: 1.050123994828578}, {&quot;x&quot;: -0.05688591931218559, &quot;y&quot;: -0.1562927787951476, &quot;z&quot;: 1.050123994828578}, {&quot;x&quot;: -0.02888173815558925, &quot;y&quot;: -0.16379647652075244, &quot;z&quot;: 1.050123994828578}, {&quot;x&quot;: -3.055309476431398e-17, &quot;y&quot;: -0.16632330119229063, &quot;z&quot;: 1.050123994828578}, {&quot;x&quot;: 0.02888173815558919, &quot;y&quot;: -0.1637964765207525, &quot;z&quot;: 1.050123994828578}, {&quot;x&quot;: 0.05688591931218566, &quot;y&quot;: -0.15629277879514758, &quot;z&quot;: 1.050123994828578}, {&quot;x&quot;: 0.08316165059614522, &quot;y&quot;: -0.14404020407381438, &quot;z&quot;: 1.050123994828578}, {&quot;x&quot;: 0.10691055720856683, &quot;y&quot;: -0.12741104063955835, &quot;z&quot;: 1.050123994828578}, {&quot;x&quot;: 0.1274110406395583, &quot;y&quot;: -0.10691055720856689, &quot;z&quot;: 1.050123994828578}, {&quot;x&quot;: 0.14404020407381435, &quot;y&quot;: -0.08316165059614528, &quot;z&quot;: 1.050123994828578}, {&quot;x&quot;: 0.1562927787951476, &quot;y&quot;: -0.0568859193121856, &quot;z&quot;: 1.050123994828578}, {&quot;x&quot;: 0.16379647652075244, &quot;y&quot;: -0.02888173815558926, &quot;z&quot;: 1.050123994828578}, {&quot;x&quot;: 0.0, &quot;y&quot;: 0.0, &quot;z&quot;: 1.0632139225171164}], &quot;faces&quot;: [[0, 1, 2], [0, 3, 1], [0, 4, 3], [0, 5, 4], [0, 6, 5], [0, 7, 6], [0, 8, 7], [0, 9, 8], [0, 10, 9], [0, 11, 10], [0, 12, 11], [0, 13, 12], [0, 14, 13], [0, 15, 14], [0, 16, 15], [0, 17, 16], [0, 18, 17], [0, 19, 18], [0, 20, 19], [0, 21, 20], [0, 22, 21], [0, 23, 22], [0, 24, 23], [0, 25, 24], [0, 26, 25], [0, 27, 26], [0, 28, 27], [0, 29, 28], [0, 30, 29], [0, 31, 30], [0, 32, 31], [0, 33, 32], [0, 34, 33], [0, 35, 34], [0, 36, 35], [0, 2, 36], [2, 1, 37, 38], [1, 3, 39, 37], [3, 4, 40, 39], [4, 5, 41, 40], [5, 6, 42, 41], [6, 7, 43, 42], [7, 8, 44, 43], [8, 9, 45, 44], [9, 10, 46, 45], [10, 11, 47, 46], [11, 12, 48, 47], [12, 13, 49, 48], [13, 14, 50, 49], [14, 15, 51, 50], [15, 16, 52, 51], [16, 17, 53, 52], [17, 18, 54, 53], [18, 19, 55, 54], [19, 20, 56, 55], [20, 21, 57, 56], [21, 22, 58, 57], [22, 23, 59, 58], [23, 24, 60, 59], [24, 25, 61, 60], [25, 26, 62, 61], [26, 27, 63, 62], [27, 28, 64, 63], [28, 29, 65, 64], [29, 30, 66, 65], [30, 31, 67, 66], [31, 32, 68, 67], [32, 33, 69, 68], [33, 34, 70, 69], [34, 35, 71, 70], [35, 36, 72, 71], [36, 2, 38, 72], [38, 37, 73, 74], [37, 39, 75, 73], [39, 40, 76, 75], [40, 41, 77, 76], [41, 42, 78, 77], [42, 43, 79, 78], [43, 44, 80, 79], [44, 45, 81, 80], [45, 46, 82, 81], [46, 47, 83, 82], [47, 48, 84, 83], [48, 49, 85, 84], [49, 50, 86, 85], [50, 51, 87, 86], [51, 52, 88, 87], [52, 53, 89, 88], [53, 54, 90, 89], [54, 55, 91, 90], [55, 56, 92, 91], [56, 57, 93, 92], [57, 58, 94, 93], [58, 59, 95, 94], [59, 60, 96, 95], [60, 61, 97, 96], [61, 62, 98, 97], [62, 63, 99, 98], [63, 64, 100, 99], [64, 65, 101, 100], [65, 66, 102, 101], [66, 67, 103, 102], [67, 68, 104, 103], [68, 69, 105, 104], [69, 70, 106, 105], [70, 71, 107, 106], [71, 72, 108, 107], [72, 38, 74, 108], [74, 73, 109, 110], [73, 75, 111, 109], [75, 76, 112, 111], [76, 77, 113, 112], [77, 78, 114, 113], [78, 79, 115, 114], [79, 80, 116, 115], [80, 81, 117, 116], [81, 82, 118, 117], [82, 83, 119, 118], [83, 84, 120, 119], [84, 85, 121, 120], [85, 86, 122, 121], [86, 87, 123, 122], [87, 88, 124, 123], [88, 89, 125, 124], [89, 90, 126, 125], [90, 91, 127, 126], [91, 92, 128, 127], [92, 93, 129, 128], [93, 94, 130, 129], [94, 95, 131, 130], [95, 96, 132, 131], [96, 97, 133, 132], [97, 98, 134, 133], [98, 99, 135, 134], [99, 100, 136, 135], [100, 101, 137, 136], [101, 102, 138, 137], [102, 103, 139, 138], [103, 104, 140, 139], [104, 105, 141, 140], [105, 106, 142, 141], [106, 107, 143, 142], [107, 108, 144, 143], [108, 74, 110, 144], [110, 109, 145, 146], [109, 111, 147, 145], [111, 112, 148, 147], [112, 113, 149, 148], [113, 114, 150, 149], [114, 115, 151, 150], [115, 116, 152, 151], [116, 117, 153, 152], [117, 118, 154, 153], [118, 119, 155, 154], [119, 120, 156, 155], [120, 121, 157, 156], [121, 122, 158, 157], [122, 123, 159, 158], [123, 124, 160, 159], [124, 125, 161, 160], [125, 126, 162, 161], [126, 127, 163, 162], [127, 128, 164, 163], [128, 129, 165, 164], [129, 130, 166, 165], [130, 131, 167, 166], [131, 132, 168, 167], [132, 133, 169, 168], [133, 134, 170, 169], [134, 135, 171, 170], [135, 136, 172, 171], [136, 137, 173, 172], [137, 138, 174, 173], [138, 139, 175, 174], [139, 140, 176, 175], [140, 141, 177, 176], [141, 142, 178, 177], [142, 143, 179, 178], [143, 144, 180, 179], [144, 110, 146, 180], [146, 145, 181, 182], [145, 147, 183, 181], [147, 148, 184, 183], [148, 149, 185, 184], [149, 150, 186, 185], [150, 151, 187, 186], [151, 152, 188, 187], [152, 153, 189, 188], [153, 154, 190, 189], [154, 155, 191, 190], [155, 156, 192, 191], [156, 157, 193, 192], [157, 158, 194, 193], [158, 159, 195, 194], [159, 160, 196, 195], [160, 161, 197, 196], [161, 162, 198, 197], [162, 163, 199, 198], [163, 164, 200, 199], [164, 165, 201, 200], [165, 166, 202, 201], [166, 167, 203, 202], [167, 168, 204, 203], [168, 169, 205, 204], [169, 170, 206, 205], [170, 171, 207, 206], [171, 172, 208, 207], [172, 173, 209, 208], [173, 174, 210, 209], [174, 175, 211, 210], [175, 176, 212, 211], [176, 177, 213, 212], [177, 178, 214, 213], [178, 179, 215, 214], [179, 180, 216, 215], [180, 146, 182, 216], [182, 181, 217, 218], [181, 183, 219, 217], [183, 184, 220, 219], [184, 185, 221, 220], [185, 186, 222, 221], [186, 187, 223, 222], [187, 188, 224, 223], [188, 189, 225, 224], [189, 190, 226, 225], [190, 191, 227, 226], [191, 192, 228, 227], [192, 193, 229, 228], [193, 194, 230, 229], [194, 195, 231, 230], [195, 196, 232, 231], [196, 197, 233, 232], [197, 198, 234, 233], [198, 199, 235, 234], [199, 200, 236, 235], [200, 201, 237, 236], [201, 202, 238, 237], [202, 203, 239, 238], [203, 204, 240, 239], [204, 205, 241, 240], [205, 206, 242, 241], [206, 207, 243, 242], [207, 208, 244, 243], [208, 209, 245, 244], [209, 210, 246, 245], [210, 211, 247, 246], [211, 212, 248, 247], [212, 213, 249, 248], [213, 214, 250, 249], [214, 215, 251, 250], [215, 216, 252, 251], [216, 182, 218, 252], [218, 217, 253, 254], [217, 219, 255, 253], [219, 220, 256, 255], [220, 221, 257, 256], [221, 222, 258, 257], [222, 223, 259, 258], [223, 224, 260, 259], [224, 225, 261, 260], [225, 226, 262, 261], [226, 227, 263, 262], [227, 228, 264, 263], [228, 229, 265, 264], [229, 230, 266, 265], [230, 231, 267, 266], [231, 232, 268, 267], [232, 233, 269, 268], [233, 234, 270, 269], [234, 235, 271, 270], [235, 236, 272, 271], [236, 237, 273, 272], [237, 238, 274, 273], [238, 239, 275, 274], [239, 240, 276, 275], [240, 241, 277, 276], [241, 242, 278, 277], [242, 243, 279, 278], [243, 244, 280, 279], [244, 245, 281, 280], [245, 246, 282, 281], [246, 247, 283, 282], [247, 248, 284, 283], [248, 249, 285, 284], [249, 250, 286, 285], [250, 251, 287, 286], [251, 252, 288, 287], [252, 218, 254, 288], [254, 253, 289, 290], [253, 255, 291, 289], [255, 256, 292, 291], [256, 257, 293, 292], [257, 258, 294, 293], [258, 259, 295, 294], [259, 260, 296, 295], [260, 261, 297, 296], [261, 262, 298, 297], [262, 263, 299, 298], [263, 264, 300, 299], [264, 265, 301, 300], [265, 266, 302, 301], [266, 267, 303, 302], [267, 268, 304, 303], [268, 269, 305, 304], [269, 270, 306, 305], [270, 271, 307, 306], [271, 272, 308, 307], [272, 273, 309, 308], [273, 274, 310, 309], [274, 275, 311, 310], [275, 276, 312, 311], [276, 277, 313, 312], [277, 278, 314, 313], [278, 279, 315, 314], [279, 280, 316, 315], [280, 281, 317, 316], [281, 282, 318, 317], [282, 283, 319, 318], [283, 284, 320, 319], [284, 285, 321, 320], [285, 286, 322, 321], [286, 287, 323, 322], [287, 288, 324, 323], [288, 254, 290, 324], [290, 289, 325, 326], [289, 291, 327, 325], [291, 292, 328, 327], [292, 293, 329, 328], [293, 294, 330, 329], [294, 295, 331, 330], [295, 296, 332, 331], [296, 297, 333, 332], [297, 298, 334, 333], [298, 299, 335, 334], [299, 300, 336, 335], [300, 301, 337, 336], [301, 302, 338, 337], [302, 303, 339, 338], [303, 304, 340, 339], [304, 305, 341, 340], [305, 306, 342, 341], [306, 307, 343, 342], [307, 308, 344, 343], [308, 309, 345, 344], [309, 310, 346, 345], [310, 311, 347, 346], [311, 312, 348, 347], [312, 313, 349, 348], [313, 314, 350, 349], [314, 315, 351, 350], [315, 316, 352, 351], [316, 317, 353, 352], [317, 318, 354, 353], [318, 319, 355, 354], [319, 320, 356, 355], [320, 321, 357, 356], [321, 322, 358, 357], [322, 323, 359, 358], [323, 324, 360, 359], [324, 290, 326, 360], [326, 325, 361, 362], [325, 327, 363, 361], [327, 328, 364, 363], [328, 329, 365, 364], [329, 330, 366, 365], [330, 331, 367, 366], [331, 332, 368, 367], [332, 333, 369, 368], [333, 334, 370, 369], [334, 335, 371, 370], [335, 336, 372, 371], [336, 337, 373, 372], [337, 338, 374, 373], [338, 339, 375, 374], [339, 340, 376, 375], [340, 341, 377, 376], [341, 342, 378, 377], [342, 343, 379, 378], [343, 344, 380, 379], [344, 345, 381, 380], [345, 346, 382, 381], [346, 347, 383, 382], [347, 348, 384, 383], [348, 349, 385, 384], [349, 350, 386, 385], [350, 351, 387, 386], [351, 352, 388, 387], [352, 353, 389, 388], [353, 354, 390, 389], [354, 355, 391, 390], [355, 356, 392, 391], [356, 357, 393, 392], [357, 358, 394, 393], [358, 359, 395, 394], [359, 360, 396, 395], [360, 326, 362, 396], [362, 361, 397, 398], [361, 363, 399, 397], [363, 364, 400, 399], [364, 365, 401, 400], [365, 366, 402, 401], [366, 367, 403, 402], [367, 368, 404, 403], [368, 369, 405, 404], [369, 370, 406, 405], [370, 371, 407, 406], [371, 372, 408, 407], [372, 373, 409, 408], [373, 374, 410, 409], [374, 375, 411, 410], [375, 376, 412, 411], [376, 377, 413, 412], [377, 378, 414, 413], [378, 379, 415, 414], [379, 380, 416, 415], [380, 381, 417, 416], [381, 382, 418, 417], [382, 383, 419, 418], [383, 384, 420, 419], [384, 385, 421, 420], [385, 386, 422, 421], [386, 387, 423, 422], [387, 388, 424, 423], [388, 389, 425, 424], [389, 390, 426, 425], [390, 391, 427, 426], [391, 392, 428, 427], [392, 393, 429, 428], [393, 394, 430, 429], [394, 395, 431, 430], [395, 396, 432, 431], [396, 362, 398, 432], [398, 397, 433, 434], [397, 399, 435, 433], [399, 400, 436, 435], [400, 401, 437, 436], [401, 402, 438, 437], [402, 403, 439, 438], [403, 404, 440, 439], [404, 405, 441, 440], [405, 406, 442, 441], [406, 407, 443, 442], [407, 408, 444, 443], [408, 409, 445, 444], [409, 410, 446, 445], [410, 411, 447, 446], [411, 412, 448, 447], [412, 413, 449, 448], [413, 414, 450, 449], [414, 415, 451, 450], [415, 416, 452, 451], [416, 417, 453, 452], [417, 418, 454, 453], [418, 419, 455, 454], [419, 420, 456, 455], [420, 421, 457, 456], [421, 422, 458, 457], [422, 423, 459, 458], [423, 424, 460, 459], [424, 425, 461, 460], [425, 426, 462, 461], [426, 427, 463, 462], [427, 428, 464, 463], [428, 429, 465, 464], [429, 430, 466, 465], [430, 431, 467, 466], [431, 432, 468, 467], [432, 398, 434, 468], [434, 433, 469, 470], [433, 435, 471, 469], [435, 436, 472, 471], [436, 437, 473, 472], [437, 438, 474, 473], [438, 439, 475, 474], [439, 440, 476, 475], [440, 441, 477, 476], [441, 442, 478, 477], [442, 443, 479, 478], [443, 444, 480, 479], [444, 445, 481, 480], [445, 446, 482, 481], [446, 447, 483, 482], [447, 448, 484, 483], [448, 449, 485, 484], [449, 450, 486, 485], [450, 451, 487, 486], [451, 452, 488, 487], [452, 453, 489, 488], [453, 454, 490, 489], [454, 455, 491, 490], [455, 456, 492, 491], [456, 457, 493, 492], [457, 458, 494, 493], [458, 459, 495, 494], [459, 460, 496, 495], [460, 461, 497, 496], [461, 462, 498, 497], [462, 463, 499, 498], [463, 464, 500, 499], [464, 465, 501, 500], [465, 466, 502, 501], [466, 467, 503, 502], [467, 468, 504, 503], [468, 434, 470, 504], [470, 469, 505, 506], [469, 471, 507, 505], [471, 472, 508, 507], [472, 473, 509, 508], [473, 474, 510, 509], [474, 475, 511, 510], [475, 476, 512, 511], [476, 477, 513, 512], [477, 478, 514, 513], [478, 479, 515, 514], [479, 480, 516, 515], [480, 481, 517, 516], [481, 482, 518, 517], [482, 483, 519, 518], [483, 484, 520, 519], [484, 485, 521, 520], [485, 486, 522, 521], [486, 487, 523, 522], [487, 488, 524, 523], [488, 489, 525, 524], [489, 490, 526, 525], [490, 491, 527, 526], [491, 492, 528, 527], [492, 493, 529, 528], [493, 494, 530, 529], [494, 495, 531, 530], [495, 496, 532, 531], [496, 497, 533, 532], [497, 498, 534, 533], [498, 499, 535, 534], [499, 500, 536, 535], [500, 501, 537, 536], [501, 502, 538, 537], [502, 503, 539, 538], [503, 504, 540, 539], [504, 470, 506, 540], [506, 505, 541, 542], [505, 507, 543, 541], [507, 508, 544, 543], [508, 509, 545, 544], [509, 510, 546, 545], [510, 511, 547, 546], [511, 512, 548, 547], [512, 513, 549, 548], [513, 514, 550, 549], [514, 515, 551, 550], [515, 516, 552, 551], [516, 517, 553, 552], [517, 518, 554, 553], [518, 519, 555, 554], [519, 520, 556, 555], [520, 521, 557, 556], [521, 522, 558, 557], [522, 523, 559, 558], [523, 524, 560, 559], [524, 525, 561, 560], [525, 526, 562, 561], [526, 527, 563, 562], [527, 528, 564, 563], [528, 529, 565, 564], [529, 530, 566, 565], [530, 531, 567, 566], [531, 532, 568, 567], [532, 533, 569, 568], [533, 534, 570, 569], [534, 535, 571, 570], [535, 536, 572, 571], [536, 537, 573, 572], [537, 538, 574, 573], [538, 539, 575, 574], [539, 540, 576, 575], [540, 506, 542, 576], [542, 541, 577, 578], [541, 543, 579, 577], [543, 544, 580, 579], [544, 545, 581, 580], [545, 546, 582, 581], [546, 547, 583, 582], [547, 548, 584, 583], [548, 549, 585, 584], [549, 550, 586, 585], [550, 551, 587, 586], [551, 552, 588, 587], [552, 553, 589, 588], [553, 554, 590, 589], [554, 555, 591, 590], [555, 556, 592, 591], [556, 557, 593, 592], [557, 558, 594, 593], [558, 559, 595, 594], [559, 560, 596, 595], [560, 561, 597, 596], [561, 562, 598, 597], [562, 563, 599, 598], [563, 564, 600, 599], [564, 565, 601, 600], [565, 566, 602, 601], [566, 567, 603, 602], [567, 568, 604, 603], [568, 569, 605, 604], [569, 570, 606, 605], [570, 571, 607, 606], [571, 572, 608, 607], [572, 573, 609, 608], [573, 574, 610, 609], [574, 575, 611, 610], [575, 576, 612, 611], [576, 542, 578, 612], [578, 577, 613, 614], [577, 579, 615, 613], [579, 580, 616, 615], [580, 581, 617, 616], [581, 582, 618, 617], [582, 583, 619, 618], [583, 584, 620, 619], [584, 585, 621, 620], [585, 586, 622, 621], [586, 587, 623, 622], [587, 588, 624, 623], [588, 589, 625, 624], [589, 590, 626, 625], [590, 591, 627, 626], [591, 592, 628, 627], [592, 593, 629, 628], [593, 594, 630, 629], [594, 595, 631, 630], [595, 596, 632, 631], [596, 597, 633, 632], [597, 598, 634, 633], [598, 599, 635, 634], [599, 600, 636, 635], [600, 601, 637, 636], [601, 602, 638, 637], [602, 603, 639, 638], [603, 604, 640, 639], [604, 605, 641, 640], [605, 606, 642, 641], [606, 607, 643, 642], [607, 608, 644, 643], [608, 609, 645, 644], [609, 610, 646, 645], [610, 611, 647, 646], [611, 612, 648, 647], [612, 578, 614, 648], [614, 613, 649, 650], [613, 615, 651, 649], [615, 616, 652, 651], [616, 617, 653, 652], [617, 618, 654, 653], [618, 619, 655, 654], [619, 620, 656, 655], [620, 621, 657, 656], [621, 622, 658, 657], [622, 623, 659, 658], [623, 624, 660, 659], [624, 625, 661, 660], [625, 626, 662, 661], [626, 627, 663, 662], [627, 628, 664, 663], [628, 629, 665, 664], [629, 630, 666, 665], [630, 631, 667, 666], [631, 632, 668, 667], [632, 633, 669, 668], [633, 634, 670, 669], [634, 635, 671, 670], [635, 636, 672, 671], [636, 637, 673, 672], [637, 638, 674, 673], [638, 639, 675, 674], [639, 640, 676, 675], [640, 641, 677, 676], [641, 642, 678, 677], [642, 643, 679, 678], [643, 644, 680, 679], [644, 645, 681, 680], [645, 646, 682, 681], [646, 647, 683, 682], [647, 648, 684, 683], [648, 614, 650, 684], [650, 649, 685], [649, 651, 685], [651, 652, 685], [652, 653, 685], [653, 654, 685], [654, 655, 685], [655, 656, 685], [656, 657, 685], [657, 658, 685], [658, 659, 685], [659, 660, 685], [660, 661, 685], [661, 662, 685], [662, 663, 685], [663, 664, 685], [664, 665, 685], [665, 666, 685], [666, 667, 685], [667, 668, 685], [668, 669, 685], [669, 670, 685], [670, 671, 685], [671, 672, 685], [672, 673, 685], [673, 674, 685], [674, 675, 685], [675, 676, 685], [676, 677, 685], [677, 678, 685], [678, 679, 685], [679, 680, 685], [680, 681, 685], [681, 682, 685], [682, 683, 685], [683, 684, 685], [684, 650, 685]], &quot;color&quot;: &quot;#000000&quot;, &quot;opacity&quot;: 1.0}];\n",
       "    for ( var i=0 ; i < surfaces.length ; i++ ) addSurface( surfaces[i] );\n",
       "\n",
       "    function addSurface( json ) {\n",
       "\n",
       "        var useFaceColors = 'faceColors' in json ? true : false;\n",
       "\n",
       "        var geometry = new THREE.Geometry();\n",
       "        for ( var i=0 ; i < json.vertices.length ; i++ ) {\n",
       "            var v = json.vertices[i];\n",
       "            geometry.vertices.push( new THREE.Vector3( a[0]*v.x, a[1]*v.y, a[2]*v.z ) );\n",
       "        }\n",
       "        for ( var i=0 ; i < json.faces.length ; i++ ) {\n",
       "            var f = json.faces[i];\n",
       "            for ( var j=0 ; j < f.length - 2 ; j++ ) {\n",
       "                var face = new THREE.Face3( f[0], f[j+1], f[j+2] );\n",
       "                if ( useFaceColors ) face.color.set( json.faceColors[i] );\n",
       "                geometry.faces.push( face );\n",
       "            }\n",
       "        }\n",
       "        geometry.computeVertexNormals();\n",
       "\n",
       "        var side = json.singleSide ? THREE.FrontSide : THREE.DoubleSide;\n",
       "        var transparent = json.opacity < 1 ? true : false;\n",
       "        var depthWrite = 'depthWrite' in json ? json.depthWrite : !transparent;\n",
       "        var flatShading = json.useFlatShading ? json.useFlatShading : false;\n",
       "\n",
       "        var material = new THREE.MeshPhongMaterial( { side: side,\n",
       "                                     color: useFaceColors ? 'white' : json.color,\n",
       "                                     vertexColors: useFaceColors ? THREE.FaceColors : THREE.NoColors,\n",
       "                                     transparent: transparent, opacity: json.opacity,\n",
       "                                     shininess: 20, flatShading: flatShading,\n",
       "                                     depthWrite: depthWrite } );\n",
       "\n",
       "        var c = new THREE.Vector3();\n",
       "        geometry.computeBoundingBox();\n",
       "        geometry.boundingBox.getCenter( c );\n",
       "        geometry.translate( -c.x, -c.y, -c.z );\n",
       "\n",
       "        var mesh = new THREE.Mesh( geometry, material );\n",
       "        mesh.position.set( c.x, c.y, c.z );\n",
       "        if ( transparent && json.renderOrder ) mesh.renderOrder = json.renderOrder;\n",
       "        mesh.userData = json;\n",
       "        scene.add( mesh );\n",
       "\n",
       "        if ( json.showMeshGrid ) addSurfaceMeshGrid( json );\n",
       "\n",
       "    }\n",
       "\n",
       "    function addSurfaceMeshGrid( json ) {\n",
       "\n",
       "        var geometry = new THREE.Geometry();\n",
       "\n",
       "        for ( var i=0 ; i < json.faces.length ; i++ ) {\n",
       "            var f = json.faces[i];\n",
       "            for ( var j=0 ; j < f.length ; j++ ) {\n",
       "                var k = j === f.length-1 ? 0 : j+1;\n",
       "                var v1 = json.vertices[f[j]];\n",
       "                var v2 = json.vertices[f[k]];\n",
       "                // vertices in opposite directions on neighboring faces\n",
       "                var nudge = f[j] < f[k] ? .0005*zRange : -.0005*zRange;\n",
       "                geometry.vertices.push( new THREE.Vector3( a[0]*v1.x, a[1]*v1.y, a[2]*(v1.z+nudge) ) );\n",
       "                geometry.vertices.push( new THREE.Vector3( a[0]*v2.x, a[1]*v2.y, a[2]*(v2.z+nudge) ) );\n",
       "            }\n",
       "        }\n",
       "\n",
       "        var c = new THREE.Vector3();\n",
       "        geometry.computeBoundingBox();\n",
       "        geometry.boundingBox.getCenter( c );\n",
       "        geometry.translate( -c.x, -c.y, -c.z );\n",
       "\n",
       "        var gridColor = options.theme === 'dark' ? 'white' : 'black';\n",
       "        var linewidth = json.linewidth || 1;\n",
       "        var materialOptions = { color: gridColor, linewidth: linewidth };\n",
       "\n",
       "        var mesh;\n",
       "        if ( linewidth > 1 && window.createFatLineSegments ) {\n",
       "            mesh = createFatLineSegments( geometry, materialOptions );\n",
       "        } else {\n",
       "            var material = new THREE.LineBasicMaterial( materialOptions );\n",
       "            mesh = new THREE.LineSegments( geometry, material );\n",
       "        }\n",
       "\n",
       "        mesh.position.set( c.x, c.y, c.z );\n",
       "        mesh.userData = json;\n",
       "        scene.add( mesh );\n",
       "\n",
       "    }\n",
       "\n",
       "    function render() {\n",
       "\n",
       "        if ( window.updateAnimation ) animate = updateAnimation();\n",
       "        if ( animate ) requestAnimationFrame( render );\n",
       "\n",
       "        renderer.render( scene, camera );\n",
       "\n",
       "    }\n",
       "\n",
       "    render();\n",
       "    controls.update();\n",
       "    if ( !animate ) render();\n",
       "\n",
       "\n",
       "    // menu functions\n",
       "\n",
       "    function toggleMenu() {\n",
       "\n",
       "        var m = document.getElementById( 'menu-content' );\n",
       "        if ( m.style.display === 'block' ) m.style.display = 'none'\n",
       "        else m.style.display = 'block';\n",
       "\n",
       "    }\n",
       "\n",
       "\n",
       "    function saveAsPNG() {\n",
       "\n",
       "        var a = document.body.appendChild( document.createElement( 'a' ) );\n",
       "        a.href = renderer.domElement.toDataURL( 'image/png' );\n",
       "        a.download = 'screenshot';\n",
       "        a.click();\n",
       "\n",
       "    }\n",
       "\n",
       "    function saveAsHTML() {\n",
       "\n",
       "        toggleMenu(); // otherwise visible in output\n",
       "        event.stopPropagation();\n",
       "\n",
       "        var blob = new Blob( [ '<!DOCTYPE html>\\n' + document.documentElement.outerHTML ] );\n",
       "        var a = document.body.appendChild( document.createElement( 'a' ) );\n",
       "        a.href = window.URL.createObjectURL( blob );\n",
       "        a.download = suggestFilename();\n",
       "        a.click();\n",
       "\n",
       "        function suggestFilename() {\n",
       "            if ( !document.title ) {\n",
       "                return 'graphic.html';\n",
       "            } else if ( /\\.html?$/i.test( document.title ) ) {\n",
       "                return document.title; // already ends in .htm or .html\n",
       "            } else {\n",
       "                return document.title + '.html';\n",
       "            }\n",
       "        }\n",
       "\n",
       "    }\n",
       "\n",
       "    function getViewpoint() {\n",
       "\n",
       "        function roundTo( x, n ) { return +x.toFixed(n); }\n",
       "\n",
       "        var v = camera.quaternion.inverse();\n",
       "        var r = Math.sqrt( v.x*v.x + v.y*v.y + v.z*v.z );\n",
       "        var axis = [ roundTo( v.x / r, 4 ), roundTo( v.y / r, 4 ), roundTo( v.z / r, 4 ) ];\n",
       "        var angle = roundTo( 2 * Math.atan2( r, v.w ) * 180 / Math.PI, 2 );\n",
       "\n",
       "        var textArea = document.createElement( 'textarea' );\n",
       "        textArea.textContent = JSON.stringify( axis ) + ',' + angle;\n",
       "        textArea.style.csstext = 'position: absolute; top: -100%';\n",
       "        document.body.append( textArea );\n",
       "        textArea.select();\n",
       "        document.execCommand( 'copy' );\n",
       "\n",
       "        var m = document.getElementById( 'menu-message' );\n",
       "        m.innerHTML = 'Viewpoint copied to clipboard';\n",
       "        m.style.display = 'block';\n",
       "        setTimeout( function() { m.style.display = 'none'; }, 2000 );\n",
       "\n",
       "    }\n",
       "\n",
       "    function getCamera() {\n",
       "\n",
       "        function roundTo( x, n ) { return +x.toFixed(n); }\n",
       "\n",
       "        var pos = camera.position;\n",
       "        var pos_r = [ roundTo( pos.x, 4 ), roundTo( pos.y, 4 ), roundTo( pos.z, 4 ) ];\n",
       "   //     var up = camera.up; // up is always (0,0,1)\n",
       "        var textArea = document.createElement('textarea');\n",
       "        var cam_position = JSON.stringify(pos_r);\n",
       "        textArea.textContent = ',camera_position=' + cam_position;\n",
       "        textArea.style.csstext = 'position: absolute; top: -100%';\n",
       "        document.body.append( textArea );\n",
       "        textArea.select();\n",
       "        document.execCommand( 'copy' );\n",
       "\n",
       "        var m = document.getElementById( 'menu-message' );\n",
       "        m.innerHTML = 'Camera position '+ cam_position+' copied to clipboard';\n",
       "        m.style.display = 'block';\n",
       "        setTimeout( function() { m.style.display = 'none'; }, 2000 );\n",
       "\n",
       "    }\n",
       "                                       \n",
       "</script>\n",
       "\n",
       "<div id=&quot;menu-container&quot; onclick=&quot;toggleMenu()&quot;>&#x24d8;\n",
       "<div id=&quot;menu-message&quot;></div>\n",
       "<div id=&quot;menu-content&quot;>\n",
       "<div onclick=&quot;saveAsPNG()&quot;>Save as PNG</div>\n",
       "<div onclick=&quot;saveAsHTML()&quot;>Save as HTML</div>\n",
       "<div onclick=&quot;getCamera()&quot;>Get camera</div>\n",
       "<div onclick=&quot;getViewpoint()&quot;>Get viewpoint</div>\n",
       "<div>Close Menu</div>\n",
       "</div></div>\n",
       "\n",
       "\n",
       "</body>\n",
       "</html>\n",
       "\"\n",
       "        width=\"100%\"\n",
       "        height=\"400\"\n",
       "        style=\"border: 0;\">\n",
       "</iframe>\n"
      ],
      "text/plain": [
       "Graphics3d Object"
      ]
     },
     "execution_count": 21,
     "metadata": {},
     "output_type": "execute_result"
    }
   ],
   "source": [
    "Li.plot()"
   ]
  },
  {
   "cell_type": "markdown",
   "metadata": {},
   "source": [
    "Actually, many options can be passed to the method `plot()`. For instance to a get a 3D spacetime diagram:"
   ]
  },
  {
   "cell_type": "code",
   "execution_count": 22,
   "metadata": {},
   "outputs": [
    {
     "data": {
      "text/html": [
       "\n",
       "<iframe srcdoc=\"<!DOCTYPE html>\n",
       "<html>\n",
       "<head>\n",
       "<title></title>\n",
       "<meta charset=&quot;utf-8&quot;>\n",
       "<meta name=viewport content=&quot;width=device-width, user-scalable=no, minimum-scale=1.0, maximum-scale=1.0&quot;>\n",
       "<style>\n",
       "\n",
       "    body { margin: 0px; overflow: hidden; }\n",
       "\n",
       "    #menu-container { position: absolute; bottom: 30px; right: 40px; cursor: default; }\n",
       "\n",
       "    #menu-message { position: absolute; bottom: 0px; right: 0px; white-space: nowrap;\n",
       "                    display: none; background-color: #F5F5F5; padding: 10px; }\n",
       "\n",
       "    #menu-content { position: absolute; bottom: 0px; right: 0px;\n",
       "                    display: none; background-color: #F5F5F5; border-bottom: 1px solid black;\n",
       "                    border-right: 1px solid black; border-left: 1px solid black; }\n",
       "\n",
       "    #menu-content div { border-top: 1px solid black; padding: 10px; white-space: nowrap; }\n",
       "\n",
       "    #menu-content div:hover { background-color: #FEFEFE; }\n",
       "\n",
       "    .dark-theme #menu-container { color: white; }\n",
       "\n",
       "    .dark-theme #menu-message { background-color: #181818; }\n",
       "\n",
       "    .dark-theme #menu-content { background-color: #181818; border-color: white; }\n",
       "\n",
       "    .dark-theme #menu-content div { border-color: white; }\n",
       "\n",
       "    .dark-theme #menu-content div:hover { background-color: #303030; }\n",
       "\n",
       "</style>\n",
       "\n",
       "</head>\n",
       "\n",
       "<body>\n",
       "\n",
       "<script src=&quot;/nbextensions/threejs-sage/r122/three.min.js&quot;></script>\n",
       "<script>\n",
       "  if ( !window.THREE ) document.write(' \\\n",
       "<script src=&quot;https://cdn.jsdelivr.net/gh/sagemath/threejs-sage@r122/build/three.min.js&quot;><\\/script> \\\n",
       "            ');\n",
       "</script>\n",
       "        \n",
       "<script>\n",
       "\n",
       "    var options = {&quot;animate&quot;: false, &quot;animationControls&quot;: true, &quot;aspectRatio&quot;: [1.0, 1.0, 1.0], &quot;autoPlay&quot;: true, &quot;axes&quot;: false, &quot;axesLabels&quot;: [&quot;x&quot;, &quot;y&quot;, &quot;t&quot;], &quot;axesLabelsStyle&quot;: null, &quot;decimals&quot;: 2, &quot;delay&quot;: 20, &quot;frame&quot;: true, &quot;loop&quot;: true, &quot;projection&quot;: &quot;perspective&quot;, &quot;theme&quot;: &quot;light&quot;, &quot;viewpoint&quot;: false};\n",
       "    var animate = options.animate;\n",
       "\n",
       "    if ( options.theme === 'dark' )\n",
       "        document.body.className = 'dark-theme';\n",
       "\n",
       "    var scene = new THREE.Scene();\n",
       "\n",
       "    var renderer = new THREE.WebGLRenderer( { antialias: true, preserveDrawingBuffer: true } );\n",
       "    renderer.setPixelRatio( window.devicePixelRatio );\n",
       "    renderer.setSize( window.innerWidth, window.innerHeight );\n",
       "    renderer.setClearColor( options.theme === 'dark' ? 0 : 0xffffff, 1 );\n",
       "    document.body.appendChild( renderer.domElement );\n",
       "\n",
       "    var b = [{&quot;x&quot;:-5.6883413029991505, &quot;y&quot;:-5.805055430675608, &quot;z&quot;:0.0}, {&quot;x&quot;:6.0, &quot;y&quot;:5.912337987926515, &quot;z&quot;:553.4637326813786}]; // bounds\n",
       "\n",
       "    if ( b[0].x === b[1].x ) {\n",
       "        b[0].x -= 1;\n",
       "        b[1].x += 1;\n",
       "    }\n",
       "    if ( b[0].y === b[1].y ) {\n",
       "        b[0].y -= 1;\n",
       "        b[1].y += 1;\n",
       "    }\n",
       "    if ( b[0].z === b[1].z ) {\n",
       "        b[0].z -= 1;\n",
       "        b[1].z += 1;\n",
       "    }\n",
       "\n",
       "    var rRange = Math.sqrt( Math.pow( b[1].x - b[0].x, 2 )\n",
       "                            + Math.pow( b[1].y - b[0].y, 2 ) );\n",
       "    var xRange = b[1].x - b[0].x;\n",
       "    var yRange = b[1].y - b[0].y;\n",
       "    var zRange = b[1].z - b[0].z;\n",
       "\n",
       "    var ar = options.aspectRatio;\n",
       "    var a = [ ar[0], ar[1], ar[2] ]; // aspect multipliers\n",
       "    var autoAspect = 2.5;\n",
       "    if ( zRange > autoAspect * rRange && a[2] === 1 ) a[2] = autoAspect * rRange / zRange;\n",
       "\n",
       "    // Distance from (xMid,yMid,zMid) to any corner of the bounding box, after applying aspectRatio\n",
       "    var midToCorner = Math.sqrt( a[0]*a[0]*xRange*xRange + a[1]*a[1]*yRange*yRange + a[2]*a[2]*zRange*zRange ) / 2;\n",
       "\n",
       "    var xMid = ( b[0].x + b[1].x ) / 2;\n",
       "    var yMid = ( b[0].y + b[1].y ) / 2;\n",
       "    var zMid = ( b[0].z + b[1].z ) / 2;\n",
       "\n",
       "    var box = new THREE.Geometry();\n",
       "    box.vertices.push( new THREE.Vector3( a[0]*b[0].x, a[1]*b[0].y, a[2]*b[0].z ) );\n",
       "    box.vertices.push( new THREE.Vector3( a[0]*b[1].x, a[1]*b[1].y, a[2]*b[1].z ) );\n",
       "    var boxMesh = new THREE.Line( box );\n",
       "    var boxColor = options.theme === 'dark' ? 'white' : 'black';\n",
       "    if ( options.frame ) scene.add( new THREE.BoxHelper( boxMesh, boxColor ) );\n",
       "\n",
       "    if ( options.axesLabels ) {\n",
       "\n",
       "        var d = options.decimals; // decimals\n",
       "        var offsetRatio = 0.1;\n",
       "        var al = options.axesLabels;\n",
       "        var als = options.axesLabelsStyle || [{}, {}, {}];\n",
       "\n",
       "        var offset = offsetRatio * a[1]*( b[1].y - b[0].y );\n",
       "        var xm = xMid.toFixed(d);\n",
       "        if ( /^-0.?0*$/.test(xm) ) xm = xm.substr(1);\n",
       "        addLabel( al[0] + '=' + xm, a[0]*xMid, a[1]*b[1].y+offset, a[2]*b[0].z, als[0] );\n",
       "        addLabel( ( b[0].x ).toFixed(d), a[0]*b[0].x, a[1]*b[1].y+offset, a[2]*b[0].z, als[0] );\n",
       "        addLabel( ( b[1].x ).toFixed(d), a[0]*b[1].x, a[1]*b[1].y+offset, a[2]*b[0].z, als[0] );\n",
       "\n",
       "        var offset = offsetRatio * a[0]*( b[1].x - b[0].x );\n",
       "        var ym = yMid.toFixed(d);\n",
       "        if ( /^-0.?0*$/.test(ym) ) ym = ym.substr(1);\n",
       "        addLabel( al[1] + '=' + ym, a[0]*b[1].x+offset, a[1]*yMid, a[2]*b[0].z, als[1] );\n",
       "        addLabel( ( b[0].y ).toFixed(d), a[0]*b[1].x+offset, a[1]*b[0].y, a[2]*b[0].z, als[1] );\n",
       "        addLabel( ( b[1].y ).toFixed(d), a[0]*b[1].x+offset, a[1]*b[1].y, a[2]*b[0].z, als[1] );\n",
       "\n",
       "        var offset = offsetRatio * a[1]*( b[1].y - b[0].y );\n",
       "        var zm = zMid.toFixed(d);\n",
       "        if ( /^-0.?0*$/.test(zm) ) zm = zm.substr(1);\n",
       "        addLabel( al[2] + '=' + zm, a[0]*b[1].x, a[1]*b[0].y-offset, a[2]*zMid, als[2] );\n",
       "        addLabel( ( b[0].z ).toFixed(d), a[0]*b[1].x, a[1]*b[0].y-offset, a[2]*b[0].z, als[2] );\n",
       "        addLabel( ( b[1].z ).toFixed(d), a[0]*b[1].x, a[1]*b[0].y-offset, a[2]*b[1].z, als[2] );\n",
       "\n",
       "    }\n",
       "\n",
       "    function addLabel( text, x, y, z, style ) {\n",
       "\n",
       "        var color = style.color || 'black';\n",
       "        var fontSize = style.fontSize || 14;\n",
       "        var fontFamily = style.fontFamily || 'monospace';\n",
       "        var fontStyle = style.fontStyle || 'normal';\n",
       "        var fontWeight = style.fontWeight || 'normal';\n",
       "        var opacity = style.opacity || 1;\n",
       "\n",
       "        if ( options.theme === 'dark' )\n",
       "            if ( color === 'black' || color === '#000000' )\n",
       "                color = 'white';\n",
       "\n",
       "        if ( Array.isArray( fontStyle ) ) {\n",
       "            fontFamily = fontFamily.map( function( f ) {\n",
       "                // Need to put quotes around fonts that have whitespace in their names.\n",
       "                return /\\s/.test( f ) ? '&quot;' + f + '&quot;' : f;\n",
       "            }).join(', ');\n",
       "        }\n",
       "\n",
       "        var canvas = document.createElement( 'canvas' );\n",
       "        var context = canvas.getContext( '2d' );\n",
       "        var pixelRatio = Math.round( window.devicePixelRatio );\n",
       "\n",
       "        // For example: italic bold 20px &quot;Times New Roman&quot;, Georgia, serif\n",
       "        var font = [fontStyle, fontWeight, fontSize + 'px', fontFamily].join(' ');\n",
       "\n",
       "        context.font = font;\n",
       "        var width = context.measureText( text ).width;\n",
       "        var height = fontSize;\n",
       "\n",
       "        // The dimensions of the canvas's underlying image data need to be powers\n",
       "        // of two in order for the resulting texture to support mipmapping.\n",
       "        canvas.width = THREE.MathUtils.ceilPowerOfTwo( width * pixelRatio );\n",
       "        canvas.height = THREE.MathUtils.ceilPowerOfTwo( height * pixelRatio );\n",
       "\n",
       "        // Re-compute the unscaled dimensions after the power of two conversion.\n",
       "        width = canvas.width / pixelRatio;\n",
       "        height = canvas.height / pixelRatio;\n",
       "\n",
       "        canvas.style.width = width + 'px';\n",
       "        canvas.style.height = height + 'px';\n",
       "\n",
       "        context.scale( pixelRatio, pixelRatio );\n",
       "        context.fillStyle = color;\n",
       "        context.font = font; // Must be set again after measureText.\n",
       "        context.textAlign = 'center';\n",
       "        context.textBaseline = 'middle';\n",
       "        context.fillText( text, width/2, height/2 );\n",
       "\n",
       "        var texture = new THREE.Texture( canvas );\n",
       "        texture.needsUpdate = true;\n",
       "\n",
       "        var materialOptions = { map: texture, sizeAttenuation: false, depthWrite: false };\n",
       "        if ( opacity < 1 ) {\n",
       "            // Setting opacity=1 would cause the texture's alpha component to be\n",
       "            // discarded, giving the text a black background instead of the\n",
       "            // background being transparent.\n",
       "            materialOptions.opacity = opacity;\n",
       "        }\n",
       "        var sprite = new THREE.Sprite( new THREE.SpriteMaterial( materialOptions ) );\n",
       "        sprite.position.set( x, y, z );\n",
       "\n",
       "        // Scaling factor, chosen somewhat arbitrarily so that the size of the text\n",
       "        // is consistent with previously generated plots.\n",
       "        var scale = 1/625;\n",
       "        if ( options.projection === 'orthographic' ) {\n",
       "            scale = midToCorner/256; // Needs to scale along with the plot itself.\n",
       "        }\n",
       "        sprite.scale.set( scale * width, scale * height, 1 );\n",
       "\n",
       "        scene.add( sprite );\n",
       "\n",
       "        return sprite;\n",
       "\n",
       "    }\n",
       "\n",
       "    if ( options.axes ) scene.add( new THREE.AxesHelper( Math.min( a[0]*b[1].x, a[1]*b[1].y, a[2]*b[1].z ) ) );\n",
       "\n",
       "    var camera = createCamera();\n",
       "    camera.up.set( 0, 0, 1 );\n",
       "    camera.position.set( a[0]*xMid, a[1]*yMid, a[2]*zMid );\n",
       "\n",
       "    var offset = new THREE.Vector3( a[0]*xRange, a[1]*yRange, a[2]*zRange );\n",
       "\n",
       "    if ( options.viewpoint ) {\n",
       "\n",
       "        var aa = options.viewpoint;\n",
       "        var axis = new THREE.Vector3( aa[0][0], aa[0][1], aa[0][2] ).normalize();\n",
       "        var angle = aa[1] * Math.PI / 180;\n",
       "        var q = new THREE.Quaternion().setFromAxisAngle( axis, angle ).inverse();\n",
       "\n",
       "        offset.set( 0, 0, offset.length() );\n",
       "        offset.applyQuaternion( q );\n",
       "\n",
       "    }\n",
       "\n",
       "    camera.position.add( offset );\n",
       "\n",
       "    function createCamera() {\n",
       "\n",
       "        var aspect = window.innerWidth / window.innerHeight;\n",
       "\n",
       "        // Scale the near and far clipping planes along with the overall plot size.\n",
       "        var nearClip = 0.01 * midToCorner;\n",
       "        var farClip = 100 * midToCorner;\n",
       "\n",
       "        if ( options.projection === 'orthographic' ) {\n",
       "            var camera = new THREE.OrthographicCamera( -1, 1, 1, -1, -farClip, farClip );\n",
       "            updateCameraAspect( camera, aspect );\n",
       "            return camera;\n",
       "        }\n",
       "\n",
       "        return new THREE.PerspectiveCamera( 45, aspect, nearClip, farClip );\n",
       "\n",
       "    }\n",
       "\n",
       "    function updateCameraAspect( camera, aspect ) {\n",
       "\n",
       "        if ( camera.isPerspectiveCamera ) {\n",
       "            camera.aspect = aspect;\n",
       "        } else if ( camera.isOrthographicCamera ) {\n",
       "            // Fit the camera frustum to the bounding box's diagonal so that the entire plot fits\n",
       "            // within at the default zoom level and camera position.\n",
       "            if ( aspect > 1 ) { // Wide window\n",
       "                camera.top = midToCorner;\n",
       "                camera.right = midToCorner * aspect;\n",
       "            } else { // Tall or square window\n",
       "                camera.top = midToCorner / aspect;\n",
       "                camera.right = midToCorner;\n",
       "            }\n",
       "            camera.bottom = -camera.top;\n",
       "            camera.left = -camera.right;\n",
       "        }\n",
       "\n",
       "        camera.updateProjectionMatrix();\n",
       "\n",
       "    }\n",
       "\n",
       "    var lights = [{&quot;x&quot;:-5, &quot;y&quot;:3, &quot;z&quot;:0, &quot;color&quot;:&quot;#7f7f7f&quot;, &quot;parent&quot;:&quot;camera&quot;}];\n",
       "    for ( var i=0 ; i < lights.length ; i++ ) {\n",
       "        var light = new THREE.DirectionalLight( lights[i].color, 1 );\n",
       "        light.position.set( a[0]*lights[i].x, a[1]*lights[i].y, a[2]*lights[i].z );\n",
       "        if ( lights[i].parent === 'camera' ) {\n",
       "            light.target.position.set( a[0]*xMid, a[1]*yMid, a[2]*zMid );\n",
       "            scene.add( light.target );\n",
       "            camera.add( light );\n",
       "        } else scene.add( light );\n",
       "    }\n",
       "    scene.add( camera );\n",
       "\n",
       "    var ambient = {&quot;color&quot;:&quot;#7f7f7f&quot;};\n",
       "    scene.add( new THREE.AmbientLight( ambient.color, 1 ) );\n",
       "\n",
       "    var controls = new THREE.OrbitControls( camera, renderer.domElement );\n",
       "    controls.target.set( a[0]*xMid, a[1]*yMid, a[2]*zMid );\n",
       "    controls.addEventListener( 'change', function() { if ( !animate ) render(); } );\n",
       "\n",
       "    window.addEventListener( 'resize', function() {\n",
       "\n",
       "        renderer.setSize( window.innerWidth, window.innerHeight );\n",
       "        updateCameraAspect( camera, window.innerWidth / window.innerHeight );\n",
       "        if ( window.rescaleFatLines ) rescaleFatLines();\n",
       "        if ( !animate ) render();\n",
       "\n",
       "    } );\n",
       "\n",
       "    var texts = [];\n",
       "    for ( var i=0 ; i < texts.length ; i++ ) addText( texts[i] );\n",
       "\n",
       "    function addText( json ) {\n",
       "        var sprite = addLabel( json.text, a[0]*json.x, a[1]*json.y, a[2]*json.z, json );\n",
       "        sprite.userData = json;\n",
       "    }\n",
       "\n",
       "    var points = [];\n",
       "    for ( var i=0 ; i < points.length ; i++ ) addPoint( points[i] );\n",
       "\n",
       "    function addPoint( json ) {\n",
       "\n",
       "        var geometry = new THREE.Geometry();\n",
       "        var v = json.point;\n",
       "        geometry.vertices.push( new THREE.Vector3( a[0]*v[0], a[1]*v[1], a[2]*v[2] ) );\n",
       "\n",
       "        var canvas = document.createElement( 'canvas' );\n",
       "        canvas.width = 128;\n",
       "        canvas.height = 128;\n",
       "\n",
       "        var context = canvas.getContext( '2d' );\n",
       "        context.arc( 64, 64, 64, 0, 2 * Math.PI );\n",
       "        context.fillStyle = json.color;\n",
       "        context.fill();\n",
       "\n",
       "        var texture = new THREE.Texture( canvas );\n",
       "        texture.needsUpdate = true;\n",
       "\n",
       "        var transparent = json.opacity < 1 ? true : false;\n",
       "        var size = camera.isOrthographicCamera ? json.size : json.size/100;\n",
       "        var material = new THREE.PointsMaterial( { size: size, map: texture,\n",
       "                                                   transparent: transparent, opacity: json.opacity,\n",
       "                                                   alphaTest: .1 } );\n",
       "\n",
       "        var c = new THREE.Vector3();\n",
       "        geometry.computeBoundingBox();\n",
       "        geometry.boundingBox.getCenter( c );\n",
       "        geometry.translate( -c.x, -c.y, -c.z );\n",
       "\n",
       "        var mesh = new THREE.Points( geometry, material );\n",
       "        mesh.position.set( c.x, c.y, c.z );\n",
       "        mesh.userData = json;\n",
       "        scene.add( mesh );\n",
       "\n",
       "    }\n",
       "\n",
       "    var lines = [{&quot;points&quot;: [[6.0, 0.0, 0.0], [5.999629945101917, 0.11640780863946723, 0.3880516578192409], [5.995889952772937, 0.23274757154770725, 0.7760922748417155], [5.988781968212649, 0.3489556868982533, 1.1641466073896973], [5.978307905292911, 0.46496851344969314, 1.5522394291610688], [5.964469650436714, 0.5807222991547647, 1.9403955624209137], [5.947269068386355, 0.6961531077961738, 2.3286399086106186], [5.926708009105573, 0.8111967515617038, 2.716997481875218], [5.902788317395782, 0.9257887130401126, 3.1054934387386846], [5.875511843620224, 1.0398640744839784, 3.494153111607745], [5.844880456622203, 1.1533574429200308, 3.8830020414855584], [5.810896058600079, 1.2662028745396725, 4.272066011520908], [5.773560602170413, 1.3783337969877028, 4.6613710810337965], [5.732876109545955, 1.4896829313026032, 5.050943620880853], [5.688844694129208, 1.600182211214147, 5.4408103494787845], [5.641468584703095, 1.7097627001453604, 5.830998369820471], [5.59075015224582, 1.8183545064778641, 6.221535207919787], [5.536691939602485, 1.9258866964446102, 6.612448852669111], [5.479296694487688, 2.0322872032996364, 7.003767796813043], [5.41856740582909, 2.137482733859283, 7.39552107971899], [5.354507343501694, 2.241398672727777, 7.7877383323584555], [5.287120102464372, 2.3439589813046, 8.180449823606478], [5.21640965141988, 2.4450860925981437, 8.573686508553182], [5.142380385055379, 2.544700805384933, 8.967480080666423], [5.065037183069803, 2.642722168665684, 9.361863024368454], [4.984385473897959, 2.7390673644581387, 9.756868671742714], [4.90043130491662, 2.8336515844131496, 10.152531261902425], [4.8131814195450575, 2.9263879005660054, 10.54888600357394], [4.722643341856943, 3.0171871299983195, 10.945969141258319], [4.6288254694843625, 3.1059576929433796, 11.343818025265985], [4.531737175609527, 3.1926054638977, 11.742471185983131], [4.431388921318669, 3.2770336146648935, 12.14196841244496], [4.327792378096852, 3.359142451220207, 12.542350836776642], [4.220960564546681, 3.4388292382574024, 12.94366102224969], [4.110907995165937, 3.5159880177807996, 13.345943058717534], [3.997650844880705, 3.590509416673828, 13.749242663825552], [3.881207130382015, 3.6622804438853676, 14.153607291156433], [3.761596910076376, 3.731184276614267, 14.559086245977719], [3.6388425049396975, 3.7971000346840227, 14.965730809130866], [3.512968742503041, 3.859902542509516, 15.373594369900545], [3.384003227085401, 3.9194620773230415, 15.782732568224166], [3.2519766380821924, 3.9756441049266273, 16.19320344846265], [3.1169230610054313, 4.028309000016674, 16.60506762420075], [2.9788803550813174, 4.077311750839187, 17.018388455516803], [2.8378905605383493, 4.122501649097854, 17.4332322408308], [2.69400035196612, 4.16372196260595, 17.84966842343939], [2.547261542172387, 4.200809591908836, 18.2677698153927], [2.397731643817475, 4.233594709135019, 18.68761283919427], [2.245474495263911, 4.261900380112976, 19.10927779027534], [2.0905609595517696, 4.285542169014613, 19.532849121254145], [1.9330697053971957, 4.304327726623312, 19.958415750928747], [1.7730880809099168, 4.318056363065847, 20.38607140049325], [1.610713092754631, 4.326518606039583, 20.81591495898428], [1.4460525036586145, 4.329495747902714, 21.24805088262132], [1.279226065392058, 4.32675938367146, 21.68258962975757], [1.1103669045987568, 4.318070945440036, 22.119648136690397], [0.9396230822361867, 4.3031812391670075, 22.55935033858686], [0.7671593518681663, 4.28182999145351, 23.001827739072475], [0.5931591416239417, 4.253745418456783, 23.44722003672633], [0.41782679413788026, 4.218643829619433, 23.89567581141296], [0.2413900984803512, 4.176229285866445, 24.347353279743437], [0.06410315420811322, 4.126193335718575, 24.802421127377244], [-0.1137503836705021, 4.06821485951903, 25.26105942576688], [-0.291853624259383, 4.001960061634435, 25.723460642160415], [-0.4698522704853835, 3.9270826615530607, 26.189830758389032], [-0.6473498830634598, 3.8432243469163168, 26.660390504720347], [-0.8239025062449791, 3.7500155719614985, 27.13537672665911], [-0.9990125691132276, 3.6470768058181022, 27.615043897806622], [-1.172121965866509, 3.5340203639075494, 28.099665795484583], [-1.3426042145880122, 3.410452993114544, 28.589537357400484], [-1.5097555846610862, 3.275979425935265, 29.084976738334184], [-1.6727850794942187, 3.130207179699506, 29.58632758702448], [-1.8308031681901655, 2.972752947858536, 30.09396156446516], [-1.9828091677926962, 2.803251025918186, 30.6082811236245], [-2.127677209375559, 2.6213643292693414, 31.129722569581684], [-2.2641407717039677, 2.426798705679873, 31.658759414670936], [-2.3907758541891293, 2.2193214232347334, 32.19590603640356], [-2.505983001693677, 1.9987849308233365, 32.74172163378044], [-2.6079686117493885, 1.7651572463378413, 33.29681445939567], [-2.6947262851640215, 1.5185606244620211, 33.86184627594796], [-2.7640194694266587, 1.2593204842595018, 34.4375369445121], [-2.813367354769944, 0.9880269090966024, 35.02466899190394], [-2.84003699499673, 0.7056113173364527, 35.62409192090919], [-2.8410460366774744, 0.4134410465822339, 36.23672591065507], [-2.8131823623538543, 0.11343442540608657, 36.863564408557686], [-2.753049471412429, -0.19180183170196244, 37.505674913251084], [-2.6571495881548057, -0.4988128141422864, 38.16419702541192], [-2.5220201694143145, -0.8031164253890597, 38.84033658055473], [-2.3444432816891725, -1.099014181276767, 39.53535444112879], [-2.1217502691191497, -1.379409817069834, 40.250548373973324], [-1.852244460987477, -1.6356669186667938, 40.98722650428243], [-1.5357594915861665, -1.8575543246416368, 41.746671301176555], [-1.174356136356937, -2.0333485164212273, 42.530094119171316], [-0.7731319892453103, -2.1501814147233516, 43.33858215672114], [-0.3410728377839489, -2.1947317212575475, 44.17304226401588], [0.10818602386144834, -2.154346079425657, 45.0341488994597], [0.5558857603822253, -2.01862972301627, 45.92230571087699], [0.9782040937237683, -1.7814572713890375, 46.83763026112913], [1.3471030933766512, -1.4432290768433276, 47.77996796454789], [1.6321595448812007, -1.0130615001622765, 48.74893393358341], [1.8034444283809294, -0.5104874087592388, 49.74397143383733], [1.8353387200122104, 0.03381163203108379, 50.7644058773898], [1.7109720597564673, 0.5787054735272995, 51.80946708189063], [1.4267662946660378, 1.0751337337998275, 52.87825235274226], [0.9963509708300202, 1.470683673645962, 53.969610041705344], [0.45288502210480386, 1.716211021955585, 55.08193855513837], [-0.15137597781840956, 1.7740209026733877, 56.21292084927575], [-0.7493903469477626, 1.6263798261951574, 57.35924949504623], [-1.2680433111593794, 1.282228117592526, 58.51643528599361], [-1.640381758090707, 0.7794098235511691, 59.67881179930364], [-1.8185699628348113, 0.18032580637988302, 60.83981813841896], [-1.7834462010605878, -0.4389352033974831, 61.99254803081139], [-1.5471821879249332, -1.0030352121036892, 63.13043186463564], [-1.1482723998278288, -1.4506944785442935, 64.2478482479384], [-0.641269891666574, -1.7429184160506863, 65.34049768206447], [-0.08526465344698712, -1.8648278849840503, 66.4054853975369], [0.4655395592258861, -1.8223702048583756, 67.44117219294975], [0.9676133521081136, -1.636370310631468, 68.4469033953531], [1.3903636362442406, -1.336156042845936, 69.42271656167136], [1.7158218546522948, -0.9541231583771039, 70.3690903713924], [1.93684719801863, -0.5217670299918937, 71.28675925219366], [2.0547115798082856, -0.06717199844412879, 72.17659306713713], [2.076630630584349, 0.38629603289400055, 73.0395289612767], [2.0135526628881837, 0.8204102730615401, 73.87653909107124], [1.8783452535042449, 1.2219086085412698, 74.68861936973553], [1.684413755702438, 1.5819612822809783, 75.47678780463471], [1.4447262905194664, 1.8954602942425678, 76.24208488652762], [1.1711887401771142, 2.1602584992421483, 76.98557195775172], [0.8743003832454892, 2.376442981849373, 77.70832612747854], [0.5630196791342892, 2.5456923718633866, 78.41143200603285], [0.24477603924205105, 2.670741138859631, 79.09597139011372], [-0.07442609359916548, 2.7549550792239454, 79.7630122569409], [-0.389852532249303, 2.802010258778392, 80.41359825962284], [-0.6978640761649955, 2.8156612809778623, 81.0487395705321], [-0.9957407463968487, 2.7995824208973623, 81.66940554486591], [-1.2815176614963897, 2.7572654801873995, 82.27651935777091], [-1.5538388845322448, 2.6919600084618622, 82.87095453871123], [-1.8118316167230675, 2.6066439521961082, 83.45353318694778], [-2.055000626941848, 2.504015286467593, 84.0250255851313], [-2.283141395215453, 2.3864974540632193, 84.5861509135413], [-2.4962697720807525, 2.256253347402908, 85.1375787855287], [-2.694565748613781, 2.1152040933347114, 85.67993135996339], [-2.8783290005630433, 1.9650500692660664, 86.21378582810236], [-3.0479440841613465, 1.807292444589348, 86.73967711414421], [-3.203853435370831, 1.6432541668338714, 87.2581006659166], [-3.3465366106833128, 1.474099749379667, 87.769515244823], [-3.4764944763214576, 1.3008535183781513, 88.27434565018002], [-3.5942372921540673, 1.1244161756983162, 88.77298533412063], [-3.7002758416194235, 0.9455796629069778, 89.26579887932526], [-3.795114930433608, 0.76504038991012, 89.75312432371109], [-3.8792487174103565, 0.5834109362830711, 90.23527532516904], [-3.9531574546176986, 0.40123035551345243, 90.7125431656973], [-4.017305305267677, 0.21897321995175528, 91.18519859857118], [-4.072138980453321, 0.03705754247806073, 91.65349354499901], [-4.118086993031704, -0.1441482956729954, 92.11766264860715], [-4.155559372408209, -0.3243194918221645, 92.57792469686339], [-4.184947719187998, -0.503169535093199, 93.03448391913479], [-4.206625506526522, -0.6804455892028125, 93.48753117097364], [-4.2209485565935845, -0.8559244589256876, 93.93724501401456], [-4.228255637432827, -1.029409064660225, 94.38379270042924], [-4.228869138552276, -1.2007253592776506, 94.82733107040156], [-4.2230957938670715, -1.3697196286897013, 95.26800737039204], [-4.211227428338821, -1.5362561271006905, 95.7059599995119], [-4.193541710817256, -1.7002150025621887, 96.14131919063274], [-4.170302900318548, -1.861490475563835, 96.57420763233887], [-4.14176257646938, -2.019989237712209, 97.00474103723906], [-4.10816034773603, -2.175629042282292, 97.43302866168338], [-4.069724533085259, -2.3283374621185464, 97.85917378143725], [-4.026672814344192, -2.4780507936619083, 98.28327412743727], [-3.979212857771921, -2.6247130886668697, 98.70542228534428], [-3.9275429041344747, -2.768275297791359, 99.12570606229401], [-3.8718523274444365, -2.9086945120254075, 99.54420882382617], [-3.8123221627801467, -3.0459332901250087, 99.96100980378066], [-3.7491256041113474, -3.1799590614885784, 100.376184389603], [-3.6824284732078088, -3.3107435954432334, 100.7898043853039], [-3.6123896608896464, -3.4382625289941577, 101.20193825407866], [-3.539161541964921, -3.562494946138462, 101.61265134240801], [-3.462890365244586, -3.6834230027096164, 102.02200608728255], [-3.383716620035793, -3.80103159147643, 102.43006220803508], [-3.301775380504551, -3.915308042878917, 102.8368768841247], [-3.217196629278689, -4.026241857341749, 103.2425049200814], [-3.1301055614643927, -4.133824465706239, 103.64699889877807], [-3.0406228707057994, -4.238049014411398, 104.0504093238519], [-2.948865017992252, -4.33891017301184, 104.45278475242534], [-2.854944484762554, -4.436403961343938, 104.85417191874268], [-2.758970011106362, -4.530527594373925, 105.25461584961529], [-2.6610468201629374, -4.621279342792592, 105.6541599723207], [-2.561276829801476, -4.708658407629014, 106.05284621549937], [-2.4597588523512397, -4.792664807481058, 106.45071510368868], [-2.3565887830494483, -4.873299277102278, 106.84780584610381], [-2.2518597789886154, -4.950563175897094, 107.24415641961066], [-2.1456624269070748, -5.024458405993897, 107.6398036475949], [-2.03808490379014, -5.094987338028564, 108.03478327337965], [-1.9292131281617568, -5.162152744624982, 108.42913003003706], [-1.8191309040600885, -5.225957740461474, 108.82287770617789], [-1.7079200582501182, -5.286405728321279, 109.21605920803208], [-1.5956605701631443, -5.343500350707645, 109.6087066186648], [-1.4824306964458647, -5.3972454463284905, 110.00085125384989], [-1.3683070897361207, -5.44764501111774, 110.39252371528704], [-1.2533649118660566, -5.494703163375426, 110.78375394152107], [-1.1376779427591306, -5.538424112610107, 111.174571256308], [-1.0213186853476854, -5.5788121318170445, 111.56500441464794], [-0.9043584649688725, -5.615871532928767, 111.95508164770396], [-0.7868675268540001, -5.649606645109994, 112.34483070499034], [-0.6689151286965171, -5.680021795730354, 112.73427889581717], [-0.5505696318317403, -5.7071212938458, 113.12345312836608], [-0.4318985876275901, -5.7309094159083, 113.51237994855778], [-0.31296882344260163, -5.751390393720152, 113.90108557661821], [-0.1938465245249033, -5.768568404285666, 114.2895959435889], [-0.07459731533643175, -5.782447561699104, 114.67793672613924], [0.04471366185508537, -5.793031910749801, 115.06613338110395], [0.16402166941129387, -5.80032542230721, 115.45421117904884], [0.283262298128421, -5.804331990373366, 115.84219523729018], [0.4023713926730709, -5.805055430675608, 116.23011055270827], [0.5212849761574437, -5.8024994811312025, 116.61798203327079], [0.639939178070945, -5.796667803439138, 117.00583453066895], [0.7582701607448967, -5.787563986504436, 117.3936928717738], [0.8762140462228006, -5.775191551478156, 117.7815818900397], [0.9937068445503625, -5.759553958039639, 118.16952645762466], [1.1106843794409127, -5.740654612863804, 118.55755151633583], [1.227082217356437, -5.718496878845384, 118.94568211063259], [1.3428355914292636, -5.69308408715569, 119.33394341864135], [1.4578793297032324, -5.664419549800229, 119.72236078597612], [1.5721477775317945, -5.632506575310223, 120.11095975773281], [1.6855747234144194, -5.597348485158972, 120.49976611316498], [1.798093319724879, -5.558948633287895, 120.88880589935951], [1.9096360046603404, -5.517310427044328, 121.27810546691722], [2.0201344210753085, -5.472437350831253, 121.66769150599158], [2.1295193325637043, -5.424332992637951, 122.05759108299074], [2.2377205414023735, -5.373001071713005, 122.44783168022057], [2.3446667985074794, -5.3184454711822635, 122.83844123442039], [2.4502857134931992, -5.260670272903039, 123.2294481779274], [2.554503663078341, -5.199679795122425, 123.62088148200486], [2.657245693997093, -5.135478634799398, 124.01277070086408], [2.7584354234383492, -5.068071713564389, 124.40514601805693], [2.8579949357918095, -4.9974643280218025, 124.798038294981], [2.955844675219243, -4.923662204976613, 125.19147912157301], [3.051903333682609, -4.846671561995344, 125.58550086942553], [3.146087734534039, -4.766499173594028, 125.98013674769673], [3.2383127110015786, -4.6831524438200764, 126.37542086190972], [3.328490978858151, -4.596639486054594, 126.77138827576594], [3.416533004020081, -4.506969210038135, 127.16807507668253], [3.5023468634475554, -4.414151417659751, 127.56551844485529], [3.5858380992217693, -4.318196908262074, 127.96375672627936], [3.6669095664269404, -4.219117593626349, 128.36282951048935], [3.7454612727158483, -4.116926624943647, 128.76277771271648], [3.8213902100235044, -4.011638532360591, 129.16364366123477], [3.894590178674903, -3.9032693777644423, 129.5654711906331], [3.9649516014218733, -3.7918369240154877, 129.9683057406689], [4.032361328631676, -3.6773608209101347, 130.3721944619273], [4.096702434133276, -3.559862809616609, 130.77718632886499], [4.157853999327087, -3.4393669496267214, 131.1833322600296], [4.21569088753793, -3.315899868218068, 131.59068524718873], [4.2700835070015986, -3.1894910361232536, 131.9993004936189], [4.320897560821944, -3.060173073981023, 132.40923556176907], [4.367993786563366, -2.9279820894564565, 132.820550532588], [4.411227682354816, -2.7929580520488124, 133.2333081761784], [4.4504492196478544, -2.655145209833705, 133.64757413493066], [4.48550254543677, -2.5145925489918106, 134.06341712178795], [4.516225669699426, -2.3713543075040633, 134.48090913270138], [4.542450140858552, -2.2254905461923675, 134.90012567586166], [4.564000711584323, -2.077067781042527, 135.32114602032593], [4.580694991033946, -1.9261596926855111, 135.7440534628903], [4.592343089099641, -1.772847915848451, 136.16893561732803], [4.598747255423996, -1.6172229168901735, 136.59588472877206], [4.599701511240093, -1.4593849798377394, 137.02499801238608], [4.594991281115471, -1.2994453088529057, 137.45637802067859], [4.584393031098657, -1.1375272580304574, 137.89013304359548], [4.567673916143948, -0.9737677128906499, 138.3263775418408], [4.544591447063853, -0.8083186385968705, 138.7652326182174], [4.514893187386084, -0.6413488173492424, 139.20682653041882], [4.478316493531701, -0.4730457995881497, 139.65129524931132], [4.434588315412167, -0.3036180961513972, 140.09878306751642], [4.383425079150686, -0.13329764247137962, 140.54944326343883], [4.324532678154151, 0.037657427884807075, 141.00343882531936], [4.257606607311052, 0.20895966345572245, 141.4609432425059], [4.1823322826340705, 0.3802887850693749, 141.92214137098017], [4.098385598800977, 0.5512877352810013, 142.38723037987654], [4.0054337910922415, 0.7215582351090313, 142.85642078820902], [3.903136683857135, 0.89065578865495, 143.32993760097852], [3.7911484277979235, 1.0580840727198697, 143.80802155512177], [3.6691198539321235, 1.2232886445182511, 144.2909304879003], [3.536701601003488, 1.3856498981023755, 144.77894083893057], [3.393548213506588, 1.5444752014098018, 145.27234930292198], [3.239323452072352, 1.698990148669814, 145.77147464785418], [3.073707116117151, 1.8483288746896538, 146.27665971763307], [2.8964037491207844, 1.9915233946242739, 146.78827364009788], [2.7071536808219694, 2.1274919676368653, 147.30671426252897], [2.505746964746709, 2.25502653111281, 147.83241084091674], [2.292040892631572, 2.3727793302800575, 148.3658270105901], [2.0659819139770423, 2.479248982261034, 148.90746406882428], [1.8276329601937489, 2.5727663781622505, 149.45786460199085], [1.5772073644283118, 2.6514810709756986, 150.01761648835284], [1.3151107864790335, 2.7133491278234048, 150.58735730813305], [1.0419927699221456, 2.7561239076698323, 151.167779182737], [0.7588097667161732, 2.777351882069728, 151.75963405164478], [0.4669016133093747, 2.774376527710921, 152.36373936693687], [0.16808345387438248, 2.7443545527366053, 152.9809841368713], [-0.13524513238063204, 2.684290373830483, 153.6123351708541], [-0.4399727628244409, 2.5910969259923715, 154.25884324939884], [-0.7421311058114106, 2.4616936463033934, 154.92164874638436], [-1.0367352262442995, 2.2931558258250986, 155.60198593535884], [-1.3176175243679094, 2.0829332983511213, 156.30118478155464], [-1.5772712488426983, 1.8291600875663634, 157.02066842912407], [-1.8067317569886758, 1.531078916337028, 157.76194380567685], [-1.9955414700586023, 1.1896029601736686, 158.5265818207138], [-2.131868448591393, 0.8080276310107981, 159.31618264581684], [-2.202877153722663, 0.39288089831484635, 160.13232084946435], [-2.19547690984378, -0.0451469393912233, 160.9764653245542], [-2.097583929809539, -0.4903320191889589, 161.84987096440784], [-1.899999945718064, -0.9213525455326868, 162.7534441085724], [-1.5988988243576816, -1.3114007334331648, 163.68759274296292], [-1.1986936045429397, -1.629416178514036, 164.6520845506113], [-0.7147447333010747, -1.8428232808150777, 165.64594732387866], [-0.17506522289849524, -1.9218630004132733, 166.66744966440803], [0.379933674288624, -1.8450809987364927, 167.71418753705072], [0.9003486634243427, -1.604931243966705, 168.7832724782897], [1.3323760083770544, -1.2120765463532732, 169.87157994132772], [1.6258043139661609, -0.6970682732120616, 170.9759897213784], [1.7420160114258607, -0.1086624700335686, 172.09354918209732], [1.6609423144493163, 0.49119413299660547, 173.22151417764468], [1.385651629099224, 1.0350161803603213, 174.35725944101932], [0.9436608641523759, 1.4589677785449902, 175.4980858084349], [0.38447885145399097, 1.7122389500054842, 176.6409793300466], [-0.22664663924954792, 1.7650556911421793, 177.7823962764109], [-0.8181446069295669, 1.613640482582719, 178.91815545235477], [-1.323156122126222, 1.2806628805117424, 180.04350550661542], [-1.689788085999859, 0.810606643219066, 181.15339012305006], [-1.887988474539485, 0.2609841817535564, 182.24286392274527], [-1.9113668005639441, -0.30820081536673904, 183.3075478078914], [-1.7740490906641169, -0.8438121990613253, 184.34399436725175], [-1.5043019851641397, -1.3056124714304913, 185.3498756435917], [-1.137302489384282, -1.668365312729696, 186.3239794339521], [-0.7089655049358423, -1.9207728861536209, 187.26606197260745], [-0.25174551444966353, -2.0626159809959064, 188.1766290095759], [0.20755807253912306, -2.101360142589485, 189.05670803268376], [0.6484460084457733, -2.049048786952979, 189.90765023753374], [1.0563846716937795, -1.9198544900897554, 190.73097764565546], [1.4219731883319935, -1.7283511167515122, 191.52827536759617], [1.7399422105657545, -1.4884122387708678, 192.30112152827056], [2.0081769373287863, -1.2125892410253258, 193.05104531925963], [2.2268583552460743, -0.9118263906774382, 193.77950441685073], [2.3977555904164864, -0.5953961658224942, 194.48787484289394], [2.5236688274809578, -0.27096815792479884, 195.1774482930224], [2.6080064618967067, 0.05524884729812942, 195.8494336051967], [2.6544745206763385, 0.3783316085391857, 196.5049602841423], [2.666856080311771, 0.694459205234069, 197.14508286176175], [2.64886057753103, 1.000736829574643, 197.7707854366128], [2.6040259841518556, 1.2950347179464694, 198.38298607918125], [2.535660000447664, 1.5758459048837485, 198.98254098410152], [2.446809337726704, 1.8421637138831741, 199.57024834964167], [2.3402486661389745, 2.0933782607753226, 200.14685200780997], [2.218482868691093, 2.329190358435886, 200.71304484016676], [2.083757896358164, 2.549540807676062, 201.2694720117091], [1.9380768125751449, 2.7545529577043326, 201.81673404680436], [1.7832186075177479, 2.944486496425474, 202.3553897622889], [1.6207581093954342, 3.1197006044121247, 202.88595906559138], [1.4520858734222515, 3.2806248231490867, 203.4089256207985], [1.2784273309758305, 3.4277362160522156, 203.92473938273073], [1.1008607686843312, 3.5615416197096215, 204.43381899799616], [0.9203339081361024, 3.6825639826479164, 204.93655407204557], [0.7376789932143667, 3.7913319653902797, 205.43330730207532], [0.5536263840232335, 3.8883721268079574, 205.92441647674488], [0.36881671240684577, 3.9742031500603803, 206.4101963449235], [0.18381168858717445, 4.049331667911495, 206.89094035689504], [-0.000896333564343076, 4.114249334831187, 207.36692228244067], [-0.18487591835048317, 4.169430864966234, 207.83839771103098], [-0.36774912310253305, 4.215332813023658, 208.30560543998578], [-0.5491849761602147, 4.252392921871304, 208.76876875680622], [-0.7288937556055405, 4.28102989803704, 209.2280966221126], [-0.9066219746302717, 4.301643506310794, 209.6837847596919], [-1.0821479883578642, 4.3146148983290225, 210.13601666005638], [-1.255278145841788, 4.3203071089972696, 210.58496450378868], [-1.4258434193951128, 4.3190656694765215, 211.03079001068636], [-1.5936964512514893, 4.3112192972970735, 211.47364522044646], [-1.7587089651665258, 4.297080633315606, 211.91367321036014], [-1.9207694958656119, 4.276947002829018, 212.35100875501115], [-2.0797813969516814, 4.251101183410236, 212.7857789328553], [-2.235661091272204, 4.219812166887731, 213.21810368402322], [-2.3883365332753286, 4.183335906108986, 213.64809632347294], [-2.537745856441666, 4.1419160399561985, 214.07586401324377], [-2.6838361824688457, 4.095784592136575, 214.501508197292], [-2.8265625720102063, 4.045162640772591, 214.92512500209656], [-2.9658870992710793, 3.990260957140395, 215.3468056059579], [-3.101778035097073, 3.931280612764142, 215.76663657965804], [-3.234209125205952, 3.8684135547682663, 216.18470020092784], [-3.3631589518092992, 3.8018431499704626, 216.60107474493796], [-3.488610368729645, 3.7317446983288316, 217.01583475288848], [-3.610550000841393, 3.658285916986068, 217.4290512805007], [-3.728967800380242, 3.581627395927928, 217.84079212815962], [-3.8438566532099925, 3.501923026698897, 218.25112205420936], [-3.9552120291106188, 3.4193204055907445, 218.66010297279868], [-4.063031671176255, 3.3339612124607045, 219.06779413763508], [-4.1673153195574555, 3.245981566795621, 219.4742523127466], [-4.26806446565683, 3.1555123623344348, 219.87953193133993], [-4.365282133311795, 3.0626795815561514, 220.28368524373272], [-4.458972683945569, 2.967604591260448, 220.68676245527027], [-4.549141642902569, 2.8704044205900585, 221.08881185499894], [-4.6357955447144565, 2.771192022510135, 221.48987993588787], [-4.718941795092127, 2.670076520023676, 221.89001150722507], [-4.798588547930846, 2.5671634379806756, 222.28924979986908], [-4.874744595619846, 2.462554921588985, 222.68763656488707], [-4.947419271249246, 2.356349942514954, 223.08521216611493], [-5.016622361453077, 2.248644493443264, 223.4820156671199], [-5.082364028764492, 2.1395317718920355, 223.87808491301016], [-5.144654742488909, 2.0291023540633986, 224.27345660749424], [-5.203505217206794, 1.9174443594620838, 224.66816638555582], [-5.2589263581754135, 1.8046436068048433, 225.06224888213575], [-5.310929212824098, 1.6907837621732253, 225.45573779703273], [-5.359524927870308, 1.5759464796029872, 225.84866595643885], [-5.4047247113832455, 1.4602115350604907, 226.24106537125365], [-5.446539799480858, 1.3436569536311298, 226.63296729267142], [-5.48498142698604, 1.226359131480618, 227.0244022648685], [-5.520060801920861, 1.1083929518846702, 227.41540017545677], [-5.551789083320666, 0.9898318965222351, 227.8059903036012], [-5.580177362123509, 0.8707481523384121, 228.19620136602174], [-5.605236644923577, 0.7512127138501739, 228.58606156126194], [-5.626977840285953, 0.6312954817730504, 228.97559861217954], [-5.645411747434034, 0.5110653584789028, 229.3648398067322], [-5.660549047192084, 0.390590339348365, 229.75381203773122], [-5.6724002949271215, 0.2699376021232407, 230.14254184095137], [-5.680975915440653, 0.14917359329797536, 230.5310554322391], [-5.6862861996527005, 0.02836411183735082, 230.9193787437528], [-5.6883413029991505, -0.09242560859296214, 231.307537459046], [-5.687151245445001, -0.21313081976498932, 231.69555704760356], [-5.682725913066134, -0.333687180441731, 232.08346279863073], [-5.6750750611576635, -0.45403067914834894, 232.4712798542067], [-5.664208318778505, -0.5740975585289031, 232.85903324218606], [-5.650135194795152, -0.6938242401807244, 233.24674790853504], [-5.632865085336345, -0.8131472505211473, 233.63444874955837], [-5.6124072826938445, -0.9320031471416992, 234.02216064396225], [-5.58877098571078, -1.0503284452984785, 234.40990848477614], [-5.561965311618174, -1.1680595447645046, 234.7977172114397], [-5.531999309413382, -1.2851326564944439, 235.1856118419859], [-5.498881974841533, -1.4014837288821267, 235.57361750540585], [-5.462622266966255, -1.5170483738078688, 235.96175947449566], [-5.423229126510042, -1.6317617917618972, 236.35006319903277], [-5.380711496008593, -1.7455586961019047, 236.7385543395172], [-5.335078341837214, -1.8583732364213448, 237.12725880167886], [-5.286338678359509, -1.9701389203074477, 237.5162027716061], [-5.234501594224975, -2.080788533742849, 237.90541275184887], [-5.179576280993217, -2.1902540598250946, 238.29491559856407], [-5.121572064367569, -2.2984665952484487, 238.68473855966676], [-5.0604984380847595, -2.405356264822629, 239.07490931437695], [-4.996365100779086, -2.5108521334642924, 239.46545601414098], [-4.929181996137551, -2.6148821152660586, 239.85640732500738], [-4.858959356412776, -2.7173728799409904, 240.24779247189608], [-4.785707749846233, -2.818249755726812, 240.63964128460717], [-4.709438132277839, -2.9174366286987032, 241.03198424587055], [-4.630161903125271, -3.014855838599197, 241.42485254183077], [-4.547890966525659, -3.1104280700789992, 241.8182781147777], [-4.462637797972536, -3.2040722394090015, 242.2122937185405], [-4.374415516570587, -3.2957053769985856, 242.60693297712575], [-4.28323796447368, -3.385242503622125, 243.00223044598187], [-4.189119792955617, -3.472596502103749, 243.3982216772457], [-4.092076556876311, -3.5576779822764695, 243.7949432883643], [-3.9921248180004634, -3.6403951395110044, 244.19243303478177], [-3.889282257438571, -3.7206536071881087, 244.59072988745916], [-3.7835677998466495, -3.7983563004594605, 244.989874114472], [-3.67500174852626, -3.873403253527896, 245.38990736851767], [-3.563605934207519, -3.945691447912382, 245.7908727797044], [-3.449403878894838, -4.015114631468502, 246.1928150542601], [-3.3324209745081825, -4.081563129569321, 246.59578058075022], [-3.2126846813313388, -4.14492364450205, 246.9998175425215], [-3.090224745459456, -4.205079045596227, 247.4049760386892], [-2.965073438327028, -4.261908148509535, 247.81130821381421], [-2.837265822795474, -4.315285481637219, 248.2188683961353], [-2.706840044593321, -4.365081042557507, 248.62771324721965], [-2.573837656858289, -4.411160040277578, 249.03790192170828], [-2.4383039793583534, -4.453382624840584, 249.4494962393073], [-2.300288494171626, -4.491603605275287, 249.86256087104113], [-2.15984528889882, -4.525672151548641, 250.27716353825616], [-2.017033545975299, -4.5554314849497715, 250.6933752286725], [-1.8719180873034122, -4.580718554757255, 251.11127042944025], [-1.7245699804009684, -4.6013637019675935, 251.5309273791922], [-1.5750672178154008, -4.617190309168915, 251.95242833927426], [-1.4234954691837818, -4.6280144422180935, 252.37585988978955], [-1.2699489257651793, -4.633644480675611, 252.80131324870317], [-1.1145312436411963, -4.633880742039341, 253.22888461845187], [-0.957356599862602, -4.6285151025455, 253.65867556209733], [-0.7985508748741154, -4.617330619625067, 254.09079341219874], [-0.638252980618612, -4.600101161008943, 254.52535171469876], [-0.4766163514492394, -4.576591049203773, 254.96247071177996], [-0.3138106209672431, -4.546554731267537, 255.40227786692125], [-0.15002350188816138, -4.509736487594808, 255.8449084381198], [0.014537087268535956, -4.465870194664346, 256.2905060991808], [0.17964063483513373, -4.414679165387763, 256.73922361862196], [0.34503134273229097, -4.355876092612607, 257.1912235983041], [0.5104250902070949, -4.289163130237558, 257.64667927795847], [0.6755060108955572, -4.214232155148701, 258.1057754113214], [0.8399226338958469, -4.1307652640240535, 258.5687092196944], [1.0032835350779676, -4.038435572868489, 259.03569142913426], [1.1651524397570752, -3.9369084047278484, 259.5069473974117], [1.3250427190740854, -3.8258429705027446, 259.9827183378259], [1.482411204446109, -3.7048946783968906, 260.4632626439699], [1.6366512679283516, -3.573718233773943, 260.9488573234994], [1.787085096289601, -3.431971736566387, 261.43979954394496], [1.9329551088430745, -3.2793220287428806, 261.93640829508905], [2.0734144791744367, -3.115451604646062, 262.439026169652], [2.2075167495737795, -2.9400674677296657, 262.9480212621858], [2.3342045708896877, -2.7529124011852653, 263.4637891829096], [2.4522976628062665, -2.5537792211075536, 263.98675517999885], [2.5604801916388036, -2.3425286914646595, 264.5173763591044], [2.6572878957762343, -2.1191119118284907, 265.0561439841285], [2.7410954873884776, -1.8835981238597344, 265.6035858380881], [2.8101051248562863, -1.6362090272334626, 266.16026861691086], [2.862337119519187, -1.3773608192485147, 266.7268003258838], [2.895624520487236, -1.1077152755192712, 267.30383264440496], [2.9076138615383096, -0.8282412104457519, 267.8920632265308], [2.8957751640197276, -0.5402875647958002, 268.4922379102496], [2.857425306693216, -0.24566907627858373, 269.10515282132695], [2.789770107335936, 0.053235104790776505, 269.73165637857613], [2.6899719055237843, 0.3533705325231199, 270.37265123580386], [2.5552510457226716, 0.6508866526189295, 271.02909622820346], [2.383031335444577, 0.9410109304168301, 271.70200841684357], [2.1711410909388293, 1.2179264687064653, 272.3924653252492], [1.918082442990128, 1.4746668428997007, 273.1016074029692], [1.6233815940266947, 1.7030489501970747, 273.8306405814697], [1.2880307758481202, 1.8936740373897942, 274.5808384357724], [0.9150272945235294, 2.0360390665256007, 275.35354283810943], [0.5100039647448538, 2.1188151733204283, 276.1501609836869], [0.08192493150413206, 2.130366223633912, 276.9721551863026], [-0.35621355407219124, 2.0595952933470083, 277.8210198490088], [-0.7867923211128864, 1.8972129499424206, 278.69823764152585], [-1.1872825115043921, 1.6375037243528414, 279.60520463485847], [-1.5305578769405304, 1.2806007230454788, 280.5431130934307], [-1.786200726800133, 0.8351274948302443, 281.51278293825607], [-1.9232322262076746, 0.32079897255738266, 282.5144417143866], [-1.9145566932130897, -0.2297999699787317, 283.54747138619643], [-1.7429529563304447, -0.7713981977935336, 284.61016828106165], [-1.4076254517398201, -1.2493836862320504, 285.6995913447384], [-0.9293797157118633, -1.6069051455791836, 286.8115834967828], [-0.3520257680350515, -1.7949299596235504, 287.9410183345941], [0.26168107576289545, -1.7827866690576546, 289.0822467427755], [0.8393379359303794, -1.5658504048078075, 290.2296303219636], [1.3110599648536727, -1.1677712157490274, 291.37800714011604], [1.6210936589745462, -0.6366690822914133, 292.52296895102006], [1.7360188598839852, -0.03676937296125737, 293.6609121833538], [1.6482139484439366, 0.562026861759749, 294.78890484431935], [1.374742227272094, 1.0942691347118945, 295.90445354498326], [0.9526851361279774, 1.5071309131083959, 297.0052584431334], [0.4322372245578208, 1.7657329982225696, 298.08902549852104], [-0.13111896360770384, 1.8552843601947633, 299.15337895772166], [-0.6841160246054646, 1.7801417092644984, 300.1958878390025], [-1.1817830798727353, 1.560303870818631, 301.2141903055937], [-1.591306209775803, 1.2262520451416246, 302.2061740486729], [-1.8933641190731203, 0.8132909826487824, 303.1701575359964], [-2.081211377338534, 0.3564970936480518, 304.10502231648013], [-2.1582273125789606, -0.11297113528416604, 305.010268058066], [-2.1348067703013864, -0.5699428579314366, 305.8859889712564], [-2.0253398427897156, -0.9958622227352121, 306.7327909405595], [-1.8457408424989101, -1.3783914163038233, 307.5516771553534], [-1.611694051122444, -1.7104468263030814, 308.34392767969473], [-1.3375771833622143, -1.9890376126052427, 309.1109904089211], [-1.0359216054259777, -2.214145276263849, 309.8543921514715], [-0.7172457283577451, -2.387765545993309, 310.57567189202905], [-0.390118699279145, -2.51315187560474, 311.2763343069046], [-0.06134746155746612, -2.5942527463207137, 311.95781985019465], [0.26378449799654363, -2.635313556202186, 312.6214874084049], [0.5812703405708137, -2.6406081070332217, 313.26860594181284], [0.8881488412466839, -2.614266928773789, 313.9003522254715], [1.1823001785870433, -2.56017511254089, 314.51781251539404], [1.4622719505192072, -2.481918353262685, 315.12198658193824], [1.7271346166728527, -2.3827613389813576, 315.7137930379939], [1.976363523378103, -2.2656470571939447, 316.29407525028273], [2.209743894823354, -2.133208997851296, 316.8636073792874], [2.4272951005760848, -1.9877907553109297, 317.4231002707157], [2.629210786305076, -1.8314693478023132, 317.97320704029005], [2.815811877871576, -1.666079853433752, 318.5145282712903], [2.9875099269093845, -1.4932398484638083, 319.04761679344597], [3.144778699959798, -1.3143727390885411, 319.57298204219455], [3.2881323011241896, -1.130729482040972, 320.0910940142597], [3.418108447888324, -0.943408456313143, 320.60238684535636], [3.5352557949802548, -0.7533734192361423, 321.1072620399466], [3.640124427130505, -0.5614695853304613, 321.60609138404175], [3.7332588236751993, -0.3684379288339273, 322.09921957141313], [3.815192744611126, -0.17492784365890715, 322.5869665718286], [3.8864456045534626, 0.018491691188349993, 323.06962976776], [3.947519993727451, 0.21132229025735394, 323.5474858835992], [3.998900078676289, 0.4031275388736848, 324.0207927290862], [4.041050673340456, 0.5935254324001318, 324.4897907764055], [4.074416816870767, 0.7821817521984825, 324.95470458830476], [4.099423730568634, 0.9688042648623155, 325.4157441127156], [4.116477054683402, 1.1531376430309328, 325.8731058577134], [4.125963287909547, 1.3349590179282325, 326.3269739589394], [4.128250370107947, 1.5140740836504327, 326.7775211505504], [4.123688362258441, 1.6903136834699792, 327.2249096493101], [4.112610188516437, 1.8635308167703084, 327.66929196051615], [4.09533241358279, 2.03359801311592, 328.1108116134637], [4.072156035186711, 2.2004050267247406, 328.54960383334054], [4.043367276594041, 2.3638568106746574, 328.98579615570645], [4.009238368043079, 2.5238717354260776, 329.4195089890603], [3.9700283091050883, 2.680380020858515, 329.8508561304244], [3.9259836063516382, 2.833322355026309, 330.2799452383761], [3.8773389825769162, 2.9826486763177136, 330.7068782674797], [3.8243180552773355, 3.1283170987040716, 331.13175186763164], [3.7671339830093924, 3.270292962497569, 331.5546577516275], [3.705990079179092, 3.408547995230199, 331.97568303379336], [3.6410803934908396, 3.5430595691881983, 332.3949105422211], [3.572590261575788, 3.673810043971117, 332.81241910700334], [3.5006968237073455, 3.800786183868906, 333.2282838265747], [3.425569513721842, 3.9239786411513022, 333.6425763140711], [3.3473705193999086, 4.043381497489767, 334.0553649254414], [3.2662552156908733, 4.158991856677339, 334.46671497086305], [3.1823725721500282, 4.270809482697944, 334.8766889108981], [3.0958655360163374, 4.378836477901076, 335.2853465386649], [3.006871392284916, 4.483076996715118, 335.69274514921705], [2.9155221020841, 4.583536990890745, 336.0989396972109], [2.8219446220659954, 4.680223982009505, 336.503982943323], [2.7262612014383585, 4.773146860584653, 336.9079255920168], [2.6285896653138905, 4.862315705040155, 337.31081641868974], [2.5290436785624024, 4.947741621849659, 337.7127023895362], [2.4277329961192193, 5.029436602240675, 338.1136287730177], [2.3247636971760812, 5.10741339520307, 338.51363924481467], [2.220238406771048, 5.181685394035669, 338.9127759859528], [2.114256504669768, 5.252266535474561, 339.31107977500045], [2.0069143224895707, 5.319171209903286, 339.7085900747183], [1.8983053299219796, 5.382414181581259, 340.10534511362584], [1.7885203109238947, 5.442010517779564, 340.5013819628328], [1.67764753042674, 5.497975525976823, 340.8967366085524], [1.5657728921172573, 5.550324698318362, 341.29144402066873], [1.4529800885752606, 5.599073662449229, 341.6855382174692], [1.339350743327296, 5.6442381383549005, 342.07905232714097], [1.2249645461773948, 5.685833900415674, 342.47201864605023], [1.1098993820874823, 5.723876744248892, 342.8644686941238], [0.9942314538490983, 5.758382457929579, 343.2564332676341], [0.8780353994398473, 5.7893667971114695, 343.64794248946976], [0.7613844040218057, 5.816845463769622, 344.039025857224], [0.6443503073374741, 5.840834088195475, 344.4297122891838], [0.5270037067206127, 5.861348214003126, 344.82003016844], [0.40941405599180397, 5.8784032858960025, 345.21000738530097], [0.2916497608254178, 5.892014639961782, 345.5996713780918], [0.17377827058764744, 5.902197496336069, 345.9890491725728], [0.0558661671851891, 5.908966954049324, 346.37816742004355], [-0.06202074888882196, 5.912337987926515, 346.76705243429], [-0.179817375105787, 5.9123254474147915, 347.1557302275133], [-0.2974592256302568, 5.908944057239799, 347.54422654531305], [-0.41488235215905345, 5.902208419803001, 347.9325669008879], [-0.5320232665970052, 5.892133019244125, 348.32077660854725], [-0.6488188651874189, 5.878732227135419, 348.7088808166048], [-0.7652063539990628, 5.862020309752164, 349.09690453975526], [-0.8811231758485778, 5.842011436879566, 349.4848726911961], [-0.9965069375367664, 5.818719692216976, 349.87281011418577], [-1.111295338846909, 5.792159085210477, 350.26074161382115], [-1.2254261009162402, 5.762343564585157, 350.6486919882351], [-1.338836895987472, 5.729287033323227, 351.0366860601992], [-1.4514652766633536, 5.693003365354342, 351.4247487085436], [-1.5632486053906647, 5.653506423878509, 351.81290489984997], [-1.6741239839365112, 5.610810081385519, 352.2011797205234], [-1.7840281818620698, 5.564928241599696, 352.58959840895056], [-1.892897565348207, 5.515874863145127, 352.9781863885714], [-2.0006680245029256, 5.463663985358302, 353.36696930117756], [-2.1072748997571233, 5.4083097562464, 353.7559730409162], [-2.2126529076254275, 5.349826462572902, 354.14522378933435], [-2.316736064629946, 5.288228562487343, 354.5347480511005], [-2.4194576098527225, 5.2235307207149475, 354.924572690848], [-2.5207499257862738, 5.155747846515112, 355.3147249712017], [-2.6205444570342578, 5.084895134703509, 355.70523259200314], [-2.7187716269720386, 5.01098810988529, 356.0961237310485], [-2.8153607519554424, 4.934042674218658, 356.4874270863932], [-2.9102399528697567, 4.854075158996414, 356.8791719203963], [-3.0033360635425033, 4.771102380462829, 357.27138810553583], [-3.0945745357046235, 4.685141700295712, 357.66410617212927], [-3.183879342331148, 4.5962110903114075, 358.05735735943193], [-3.2711728748550932, 4.504329203434526, 358.45117366776907], [-3.356375837429266, 4.409515450257384, 358.84558791402964], [-3.4394071373074593, 4.311790081737479, 359.2406337903469], [-3.520183769622228, 4.211174279463497, 359.6363459254285], [-3.5986206977674895, 4.107690253370161, 360.0327599497006], [-3.674630728621299, 4.001361347940103, 360.4299125643735], [-3.7481243814852796, 3.8922121580356484, 360.82784161423626], [-3.819009751495635, 3.780268654743323, 361.2265861653017], [-3.887192366236624, 3.665558322780445, 361.626186587107], [-3.9525750355201112, 3.5481103104462357, 362.0266846403205], [-4.015057694222101, 3.4279555931911028, 362.42812357037536], [-4.0745372366144625, 3.30512715303226, 362.83054820682173], [-4.130907343800526, 3.179660174034953, 363.2340050704188], [-4.184058300781043, 3.0515922579604897, 363.6385424863848], [-4.233876806662995, 2.920963659016382, 364.0442107073589], [-4.280245773836045, 2.787817543024946, 364.4510620440981], [-4.323044117373968, 2.6522002723507, 364.85915100586897], [-4.362146534963916, 2.5141617188509584, 365.2685344520046], [-4.3974232759494765, 2.373755609065986, 365.67927175479616], [-4.428739899480757, 2.2310399050736245, 366.0914249749697], [-4.455957021522417, 2.086077225493429, 366.5050590509167], [-4.478930051258796, 1.9389353103541782, 366.92024200356514], [-4.497508916028558, 1.7896875367542255, 367.337045157395], [-4.511537776217752, 1.6384134897038303, 367.7555433802688], [-4.520854729710253, 1.4851995962032611, 368.17581534313535], [-4.525291507213819, 1.330139830273085, 368.59794380177505], [-4.524673160455932, 1.1733364962461696, 369.02201590351854], [-4.518817743780715, 1.0149011035546343, 369.4481235199193], [-4.507535993623762, 0.8549553400781323, 369.8763636102047], [-4.490631007723224, 0.6936321617532734, 370.3068386164075], [-4.467897930157012, 0.5310770096119675, 370.73965689533225], [-4.439123647794397, 0.3674491723198435, 371.1749331904714], [-4.404086506024647, 0.20292331649210527, 371.61278914713864], [-4.362556055213914, 0.037691197900359505, 372.0533538786993], [-4.3142928393641995, -0.1280364091516923, 372.4967645846308], [-4.259048245710371, -0.2940275442003116, 372.94316722929597], [-4.196564436202452, -0.46002662332580585, 373.3927172881171], [-4.1265743877696055, -0.6257516889845466, 373.84558056575383], [-4.048802076665909, -0.7908913114303737, 374.3019340965501], [-3.9629628509023926, -0.9551010935888985, 374.76196713461724], [-3.8687640455059187, -1.1179997260966539, 375.2258822431223], [-3.7659059114564295, -1.2791645366123938, 375.69389649311745], [-3.6540829459811532, -1.4381264689088995, 376.1662427826087], [-3.5329857357359646, -1.594364422972864, 376.643171287433], [-3.402303453014192, -1.747298882927058, 377.12495105590085], [-3.261727180870028, -1.896284757480148, 377.61187175933986], [-3.1109542886843857, -2.040603357626417, 378.1042456103295], [-2.949694135429226, -2.179453443665659, 378.60240945942866], [-2.7776754477186585, -2.311941287442356, 379.1067270792055], [-2.5946558052950723, -2.437069723687967, 379.6175916409487], [-2.4004337712454924, -2.5537262101285165, 380.1354283840268], [-2.1948643302287625, -2.660669989909666, 380.660697469811], [-1.977878447425629, -2.756518562782547, 381.19389700031326], [-1.749507733662121, -2.8397338403700436, 381.7355661652705], [-1.5099153949085837, -2.9086086073922113, 382.2862884587809], [-1.2594348472598949, -2.961254264029894, 382.84669487649234], [-0.9986175717384531, -2.995591320825251, 383.41746696447103], [-0.7282919302370633, -3.0093448020733535, 383.9993395411329], [-0.44963469834511377, -3.0000476362469493, 384.5931028539096], [-0.16425690143634866, -2.9650563198923656, 385.19960385952606], [0.12569499894197367, -2.9015846758112853, 385.81974624305644], [0.4174226304237175, -2.8067633757631203, 386.4544887176192], [0.7073460145996017, -2.6777349879200365, 387.1048410988261], [0.9909659402881021, -2.5117964030843285, 387.7718576413946], [1.2627285850694179, -2.3066021523862514, 388.4566272085537], [1.5159094098487775, -2.0604425764572056, 389.160260051935], [1.7425422661819052, -1.7726089025289484, 389.88387135675606], [1.9334302035182735, -1.443851520584274, 390.6285622681808], [2.0782853718560217, -1.0769264487708496, 391.39539982360856], [2.166054311394695, -0.6772067244508524, 392.1853979401839], [2.185488292236667, -0.2533097687108861, 392.99950208501804], [2.126011996626139, 0.18234022589703636, 393.83858014542704], [1.9789236570631408, 0.6131310090266348, 394.7034208991403], [1.7389227738587645, 1.0182117644179707, 395.59473909324925], [1.4059060026443064, 1.3729493966239035, 396.513182456008], [0.9868961133735438, 1.6500807676552354, 397.45933136614406], [0.49786969845790735, 1.8217416069746086, 398.43367718597415], [-0.034878323929482466, 1.862506130189845, 399.43656165154056], [-0.5743498332431547, 1.753452789080892, 400.468059032415], [-1.074106217224099, 1.4870266438566297, 401.5277878453699], [-1.4819015013491146, 1.0720415297516337, 402.61465372245624], [-1.7461811066525545, 0.537565653683355, 403.72655335374435], [-1.8251978024370916, -0.06613719823371549, 404.86010985466004], [-1.6971651962956054, -0.6714956842459137, 406.0105477386866], [-1.3683943650069204, -1.2031677261914575, 407.1718193664425], [-0.8758277204190709, -1.591744760199784, 408.3370325074253], [-0.2818474366273673, -1.7876566356037142, 409.49910712416835], [0.33758153155915743, -1.7704984014724565, 410.65147577188856], [0.9074276302074461, -1.5508307894529376, 411.7886192206248], [1.366064895063539, -1.164823098841825, 412.90631489513066], [1.6726974310940883, -0.6646606823130708, 414.00160418536433], [1.809253880242962, -0.10819353733062971, 415.0725740873274], [1.778045114499561, 0.4496943726963776, 416.11806911254286], [1.5970432736857227, 0.9629263125056727, 417.1374220930819], [1.2943833154036906, 1.3972691235314718, 418.1302512608323], [0.9031554693178652, 1.731073563634979, 419.0963365889039], [0.45707481794064986, 1.9543751307150017, 420.03556653554665], [-0.01272393156448608, 2.066978103629006, 420.9479353065961], [-0.47973555429145287, 2.0760509563507727, 421.8335675090973], [-0.923086658916322, 1.993651734363201, 422.69274925718486], [-1.3276898848574528, 1.8344862986654649, 423.52595049580685], [-1.68379345438279, 1.6140840406791281, 424.3338305253479], [-1.986171668907951, 1.3474650227137404, 425.1172254426429], [-2.2331683426710462, 1.048283417238487, 425.8771209952767], [-2.4257502624302973, 0.7283742201639665, 426.61461663782], [-2.566668038367579, 0.39760436521387066, 427.33088671796384], [-2.6597699499258667, 0.06392885781052174, 428.02714351868343], [-2.709476937847734, -0.26643262538519585, 428.7046051795024], [-2.7204043332162615, -0.5887623061282432, 429.36446991447167], [-2.6971054160340313, -0.8995970497053121, 430.00789673158255], [-2.643909534526244, -1.196493242519051, 430.63599209785167], [-2.564829741968508, -1.477817256533496, 431.24980161883997], [-2.463519136276598, -1.7425666482484277, 431.85030569407326], [-2.3432597258626595, -1.9902222281284028, 432.43841816539947], [-2.2069718657573643, -2.2206284541225356, 433.01498711033753], [-2.0572357844354747, -2.43389842876943, 433.58079709269447], [-1.8963194059327546, -2.630339507201647, 434.1365723384406], [-1.726208652277072, -2.8103957374632187, 434.6829804404474], [-1.548637820403847, -2.9746037949665967, 435.2206363069034], [-1.3651186007734673, -3.1235595853811935, 435.7501061550118], [-1.1769669575268846, -3.257893191710445, 436.2719114174708], [-0.9853275152466139, -3.3782502917641377, 436.7865324776228], [-0.7911953647609575, -3.48527855727178, 437.29441218377735], [-0.5954353610014199, -3.5796178640775493, 437.79595911806257], [-0.39879907574873524, -3.6618934010824975, 438.29155061106246], [-0.20193961180972142, -3.732710970760983, 438.7815355050109], [-0.005424500406817497, -3.792653936091683, 439.26623667520994], [0.19025309857186007, -3.842281395268674, 439.7459533233777], [0.3846646865360654, -3.8821272640692888, 440.22096305879984], [0.5774380153282521, -3.912700021448266, 440.69152378422774], [0.7682498056798608, -3.9344829331132667, 441.1578754030529], [0.9568194427202618, -3.947934612326712, 441.6202413642026], [1.1429035159993128, -3.9534898121906394, 442.0788300599244], [1.3262910880509884, -3.9515603698451165, 442.53383609079043], [1.506799591166964, -3.9425362434236826, 442.98544141100126], [1.6842712656869647, -3.9267865979211654, 443.43381636595643], [1.8585700651390293, -3.9046609079384784, 443.8791206329377], [2.029578964033949, -3.8764900541586003, 444.32150407469305], [2.1971976131685, -3.8425873971765423, 444.76110751473027], [2.3613402950985725, -3.8032498173995597, 445.1980634422228], [2.5219341391432315, -3.758758713564277, 445.6324966536131], [2.678917561031874, -3.7093809552761448, 446.06452483725144], [2.832238897222552, -3.655369787095485, 446.4942591067418], [2.981855208131609, -3.596965683247334, 446.92180448806556], [3.1277312281080416, -3.534397153159864, 447.34726036501525], [3.269838443062378, -3.467881498838008, 447.7707208869903], [3.408154279351107, -3.397625525565343, 448.1922753428222], [3.5426613895668373, -3.323826208008736, 448.61200850377634], [3.6733470231689127, -3.24667131366039, 449.0300009387741], [3.8002024711577405, -3.166339986061573, 449.4463293043356], [3.9232225757084827, -3.083003290028305, 449.8610666116509], [4.042405296717341, -2.996824721233245, 450.2742824728457], [4.157751328358756, -2.9079606824002386, 450.68604332834923], [4.2692637596123415, -2.816560928307994, 451.09641265705864], [4.376947773507269, -2.722768981709208, 451.50545117083146], [4.480810380531106, -2.6267225220817148, 451.91321699475026], [4.580860182113476, -2.528553749385345, 452.3197658342119], [4.677107160799304, -2.4283897242741586, 452.7251511302045], [4.7695624940074435, -2.3263526864935082, 453.1294242037489], [4.858238388646242, -2.2225603532608664, 453.5326343902753], [4.9431479342804, -2.117126198880451, 453.93482916491917], [5.024304972758505, -2.0101597170305507, 454.3360542594444], [5.101723982491132, -1.901766666887236, 454.73635377155273], [5.17541997575229, -1.7920493045005297, 455.13577026706344], [5.245408407598897, -1.6811066006518385, 455.53434487545906], [5.311705095243992, -1.5690344445070308, 455.9321173803668], [5.374326146579774, -1.4559258376363104, 456.32912630321175], [5.433287897107897, -1.3418710752396286, 456.7254089829904], [5.4886068542766315, -1.2269579183132244, 457.12100165074906], [5.540299648492896, -1.1112717557193073, 457.5159395002346], [5.588382990141546, -0.9948957579135286, 457.9102567544207], [5.632873632049827, -0.8779110225251006, 458.3039867284987], [5.673788336793584, -0.7603967124895432, 458.69716188955596], [5.711143848432838, -0.6424301873002826, 459.0898139132084], [5.744956868261299, -0.5240871279286334, 459.48197373741834], [5.775244034184542, -0.4054416558640733, 459.8736716137456], [5.802021903383255, -0.2865664465699743, 460.26493715633967], [5.825306938023974, -0.1675328381008246, 460.6557993886759], [5.845115493818282, -0.048410935416670645, 461.0462867881307], [5.861463810957581, 0.07073029037461388, 461.436427329268], [5.8743680076530165, 0.1898229055430982, 461.8262485248068], [5.883844075606921, 0.3087999219623314, 462.21577746578583], [5.889907877794697, 0.4275952075004483, 462.60504085973184], [5.892575147953986, 0.5461434002281397, 462.99406506812585], [5.891861492061013, 0.664379824716356, 463.38287614243353], [5.887782391451289, 0.7822404110545262, 463.771499859347], [5.880353207624899, 0.8996616159497767, 464.1599617551233], [5.86958918871047, 1.0165803456247218, 464.5482871591044], [5.855505477395711, 1.132933880702322, 464.9365012267717], [5.838117120550653, 1.248659802187313, 465.3246289720329], [5.817439080205129, 1.363695919127478, 465.71269529932755], [5.793486246226636, 1.4779801969673105, 466.1007250351557], [5.766273450389165, 1.5914506870731022, 466.48874295956387], [5.735815482121504, 1.7040454567347012, 466.87677383733586], [5.702127105760038, 1.8157025197988492, 467.2648424492428], [5.6652230794989284, 1.9263597675552826, 467.6529736232737], [5.625118176085055, 2.035954899708195, 468.0411922659596], [5.58182720518935, 2.1444253554030244, 468.4295233940412], [5.535365037730269, 2.2517082440353033, 468.81799216636625], [5.485746632131471, 2.3577402755453263, 469.2066239162444], [5.432987062663996, 2.4624576902969433, 469.5954441843185], [5.377101550018449, 2.565796188112318, 469.9844787520423], [5.318105494247788, 2.667690856338158, 470.37375367588646], [5.256014510150887, 2.7680760971240637, 470.7632953224461], [5.190844465549041, 2.866885552874374, 471.15313040435467], [5.1226115222476345, 2.9640520308673657, 471.54328601744453], [5.0513321803514355, 3.059507425706905, 471.93378967894205], [4.9770233259014365, 3.153182640140658, 472.3246693670527], [4.899702282039635, 3.245007504134585, 472.7159535621035], [4.819386864570073, 3.334910690904136, 473.10767128901654], [4.736095441239724, 3.422819631666421, 473.49985216195694], [4.649846996387007, 3.508660426526186, 473.8925264304686], [4.560661200207629, 3.5923577534059694, 474.285725028056], [4.468558483731713, 3.673834773624492, 474.679479622966], [4.373560120293038, 3.7530130335642062, 475.07382267123154], [4.275688312686204, 3.829812364229381, 475.46878747302105], [4.17496628894254, 3.9041507750289393, 475.8644082311231], [4.071418404702178, 3.975944345489885, 476.26072011346946], [3.965070255248542, 4.045107111328587, 476.65775931856354], [3.8559487969995834, 4.111550946196008, 477.05556314477315], [3.744082478484124, 4.175185439839286, 477.4541700642973], [3.629501384888465, 4.235917768723451, 477.8536198004112], [3.5122373926802117, 4.293652564464987, 478.2539534110565], [3.3923243406586447, 4.348291773780099, 478.6552133762321], [3.2697982148397835, 4.3997345144638365, 479.0574436920091], [3.1446973502389586, 4.447876925283227, 479.460689970738], [3.0170626535150076, 4.492612007483235, 479.8649995467667], [2.8869378426158905, 4.533829463637178, 480.27042159163284], [2.7543697118811137, 4.571415527169815, 480.6770072356684], [2.6194084230234855, 4.6052527848690135, 481.0848096980465], [2.4821078227894513, 4.635219994071909, 481.49388442702], [2.3425257910234976, 4.66119189376191, 481.90428925088924], [2.2007246253404387, 4.683039007377278, 482.316084539078], [2.0567714631264535, 4.700627440453487, 482.72933337614455], [1.9107387463090062, 4.71381867240784, 483.1441017491713], [1.7627047341274678, 4.722469342904756, 483.5604587495835], [1.6127540684795714, 4.726431034638701, 483.97847679152875], [1.4609783992653425, 4.725550052412954, 484.3982318471718], [1.3074770749807225, 4.719667201637706, 484.81980370224227], [1.1523579085081752, 4.708617566669287, 485.2432762316159], [0.9957380242468382, 4.692230293953425, 485.6687376997594], [0.8377447995807261, 4.67032838070041, 486.0962810851412], [0.6785169088048195, 4.642728476286652, 486.52600443470186], [0.5182054849803533, 4.6092406994157775, 486.95801124794724], [0.3569754116723956, 4.569668479996523, 487.3924108967662], [0.1950067624557875, 4.523808432992326, 487.8293190826704], [0.03249640536800073, 4.471450275674001, 488.26885833614205], [-0.13034020684994546, 4.412376801934855, 488.7111585637001], [-0.2932670372460622, 4.346363929180727, 489.15635764463264], [-0.4560252306619697, 4.2731808404997755, 489.60460208837776], [-0.6183306153557095, 4.1925902459179865, 490.056047754098], [-0.7798709072493759, 4.104348794661348, 490.51086064003044], [-0.9403025818438767, 4.008207679667809, 490.96921775550015], [-1.0992473718687137, 3.903913481095747, 491.4313080791415], [-1.2562883465816785, 3.7912093102960003, 491.8973336165715], [-1.4109655250510018, 3.6698363293106633, 492.3675105686664], [-1.5627709696623597, 3.5395357388772455, 492.8420706218887], [-1.7111433061464407, 3.4000513494018447, 493.32126237942754], [-1.855461611462903, 3.2511328794264043, 493.80535294231987], [-1.995038613943932, 3.0925401577765657, 494.2946296658713], [-2.1291131528850307, 2.92404844966522, 494.78940210694174], [-2.256841853626206, 2.7454551797518874, 495.2900041849186], [-2.3772899934511287, 2.556588387543738, 495.79679658115055], [-2.4894215593544318, 2.357317336443413, 496.310169399795], [-2.5920885512693532, 2.1475657862445967, 496.83054511811577], [-2.6840196510017464, 1.9273285640229039, 497.3583818505556], [-2.763808489397778, 1.6966922059121283, 497.8941769500812], [-2.8299019032237682, 1.45586060768786, 498.4384709651906], [-2.880588806426187, 1.205186812041018, 498.9918519605374], [-2.9139906354532945, 0.9452122704103622, 499.5549601929605], [-2.9280548038533363, 0.6767151271649511, 500.1284931072267], [-2.920553268102093, 0.4007692691008677, 500.7132105743851], [-2.8890892292687766, 0.118816000499939, 501.30994023222837], [-2.8311162503157328, -0.16724984008846439, 501.91958269349857], [-2.7439757419300843, -0.4549778553583321, 502.5431162585327], [-2.624960927654603, -0.7412435981583342, 503.1816005792751], [-2.471418070325478, -1.0221148639393185, 503.8361784766087], [-2.2808988183635304, -1.292707272202231, 504.5080747880481], [-2.0513806547948428, -1.5470390593889227, 505.1985907371661], [-1.7815747688353154, -1.7779034564453982, 505.90909188513695], [-1.4713406169029197, -1.9767893729659285, 506.64098734194357], [-1.1222212675412313, -2.133897752410068, 507.39569773043434], [-0.7380992824302651, -2.2383209467467564, 508.1746096768815], [-0.3259443242695765, -2.278472052946392, 508.9790157186909], [0.10342352644662092, -2.242862072254471, 509.81004086474763], [0.5346968254697995, -2.1213111095224098, 510.6685608376329], [0.9477874855836222, -1.9066278654145992, 511.5551219084749], [1.3181538318554937, -1.5966850928902752, 512.469876879505], [1.6180285552428002, -1.196660157579371, 513.4125537595057], [1.8187358666878866, -0.7210328308067893, 514.3824702447923], [1.8940827109828662, -0.19480178658233024, 515.3785968634027], [1.8245292415613923, 0.34663172477404136, 516.3996562730005], [1.601569086387111, 0.8593248974171065, 517.4442308564055], [1.231565594815138, 1.2945473525337852, 518.5108416463099], [0.7382336494181226, 1.6042607986447164, 519.5979626514642], [0.16300515986918354, 1.7478453520026935, 520.7039459359352], [-0.43736261158805523, 1.6992796474407441, 521.8268521911418], [-0.9963479973223522, 1.4536209068375996, 522.964207549798], [-1.4463339583926906, 1.0312410974091475, 524.1127391861315], [-1.7294536390391193, 0.4780666935613243, 525.2681749776511], [-1.8084818205412696, -0.13953022391347933, 526.4252105595178], [-1.6746614161397284, -0.745154075099475, 527.5777252158873], [-1.349520072463796, -1.265937476441737, 528.7192507931661], [-0.8795915181242481, -1.6452810921341865, 529.8435891132708], [-0.32578505538520686, -1.8508696079948448, 530.9453983189578], [0.24882258453600106, -1.8761236865438657, 532.0205830900987], [0.7890317181163036, -1.7360058307464639, 533.06641778045], [1.2533839348426636, -1.45981748303601, 534.0814383171344], [1.6158354351863118, -1.0836925800268944, 535.0651983536324], [1.8644391465105865, -0.6445132039114154, 536.0179867852469], [1.99848654246856, -0.17585224579247277, 536.9405723534938], [2.0252437133741528, 0.2942020674644026, 537.834005103486], [1.9569552972412154, 0.7438033347943144, 538.69947866984], [1.8084132924106904, 1.1571834010970181, 539.5382439838531], [1.5951524901866319, 1.5239735769166995, 540.3515606442966], [1.332215249662181, 1.8382969418410497, 541.140672824735], [1.033382551916117, 2.097814712059956, 541.9067992980343], [0.7107612212368705, 2.3028332387819916, 542.6511302983911], [0.37462762776636255, 2.455526137859222, 543.3748267273746], [0.03344488855715865, 2.5592923649137447, 544.0790193490582], [-0.30601172328661463, 2.6182502856106447, 544.7648070741973], [-0.6384700810153942, 2.636855895891155, 545.4332542955459], [-0.9599520375895071, 2.6196274776949253, 546.0853876491536], [-1.2675630955373878, 2.5709571079736557, 546.7221926902516], [-1.559295275352608, 2.4949900879400313, 547.3446109158722], [-1.8338509495229405, 2.395555429060713, 547.9535374360918], [-2.0904908166027094, 2.276133237759075, 548.5498194535465], [-2.328906201992416, 2.139847656988719, 549.1342555895357], [-2.54911409528544, 1.989476634073491, 549.7075960073323], [-2.7513724183277968, 1.8274720318078828, 550.2705432295697], [-2.9361126775684707, 1.655985432314665, 550.823753520944], [-3.1038871703486026, 1.4768964155115916, 551.3678387024497], [-3.255328132205777, 1.2918411732039135, 551.9033682712585], [-3.391116524168079, 1.1022401094032335, 552.430871715832], [-3.5119585001115587, 0.9093236366446332, 552.9508409341316], [-3.6175699227909686, 0.7161155445486194, 553.4586373075846]], &quot;color&quot;: &quot;#ff0000&quot;, &quot;opacity&quot;: 1.0, &quot;linewidth&quot;: 1.0}];\n",
       "    for ( var i=0 ; i < lines.length ; i++ ) addLine( lines[i] );\n",
       "\n",
       "    function addLine( json ) {\n",
       "\n",
       "        var geometry = new THREE.Geometry();\n",
       "        for ( var i=0 ; i < json.points.length ; i++ ) {\n",
       "            var v = json.points[i];\n",
       "            geometry.vertices.push( new THREE.Vector3( a[0]*v[0], a[1]*v[1], a[2]*v[2] ) );\n",
       "        }\n",
       "\n",
       "        var c = new THREE.Vector3();\n",
       "        geometry.computeBoundingBox();\n",
       "        geometry.boundingBox.getCenter( c );\n",
       "        geometry.translate( -c.x, -c.y, -c.z );\n",
       "\n",
       "        var transparent = json.opacity < 1 ? true : false;\n",
       "        var materialOptions = { color: json.color, linewidth: json.linewidth,\n",
       "                                transparent: transparent, opacity: json.opacity };\n",
       "\n",
       "        var mesh;\n",
       "        if ( json.linewidth > 1 && window.createFatLineStrip ) {\n",
       "            mesh = createFatLineStrip( geometry, materialOptions );\n",
       "        } else {\n",
       "            var material = new THREE.LineBasicMaterial( materialOptions );\n",
       "            mesh = new THREE.Line( geometry, material );\n",
       "        }\n",
       "\n",
       "        mesh.position.set( c.x, c.y, c.z );\n",
       "        mesh.userData = json;\n",
       "        scene.add( mesh );\n",
       "\n",
       "    }\n",
       "\n",
       "    var surfaces = [{&quot;vertices&quot;: [{&quot;x&quot;: 0.0, &quot;y&quot;: 0.0, &quot;z&quot;: 553.4637326813786}, {&quot;x&quot;: 0.17968402508300355, &quot;y&quot;: 1.0479205581360658, &quot;z&quot;: 553.4637326813786}, {&quot;x&quot;: 0.0, &quot;y&quot;: 1.0632139225171164, &quot;z&quot;: 553.4637326813786}, {&quot;x&quot;: 0.3541988679142501, &quot;y&quot;: 1.002480427241598, &quot;z&quot;: 553.4637326813786}, {&quot;x&quot;: 0.518524054203859, &quot;y&quot;: 0.9282007596669086, &quot;z&quot;: 553.4637326813786}, {&quot;x&quot;: 0.6679322475283921, &quot;y&quot;: 0.8272184462074716, &quot;z&quot;: 553.4637326813786}, {&quot;x&quot;: 0.7981252461927152, &quot;y&quot;: 0.7024385641634794, &quot;z&quot;: 553.4637326813786}, {&quot;x&quot;: 0.9053576346670518, &quot;y&quot;: 0.5574508035551783, &quot;z&quot;: 553.4637326813786}, {&quot;x&quot;: 0.9865445323725134, &quot;y&quot;: 0.396426198276718, &quot;z&quot;: 553.4637326813786}, {&quot;x&quot;: 1.0393503400787265, &quot;y&quot;: 0.22399713304519892, &quot;z&quot;: 553.4637326813786}, {&quot;x&quot;: 1.0622559308412753, &quot;y&quot;: 0.045124078126522985, &quot;z&quot;: 553.4637326813786}, {&quot;x&quot;: 1.0546023525180255, &quot;y&quot;: -0.13504711436265102, &quot;z&quot;: 553.4637326813786}, {&quot;x&quot;: 1.0166097846225024, &quot;y&quot;: -0.31133324725127326, &quot;z&quot;: 553.4637326813786}, {&quot;x&quot;: 0.949371204160165, &quot;y&quot;: -0.4786628894594935, &quot;z&quot;: 553.4637326813786}, {&quot;x&quot;: 0.8548209426699402, &quot;y&quot;: -0.6322222718372926, &quot;z&quot;: 553.4637326813786}, {&quot;x&quot;: 0.735679039027674, &quot;y&quot;: -0.7675937705385257, &quot;z&quot;: 553.4637326813786}, {&quot;x&quot;: 0.5953729888800362, &quot;y&quot;: -0.8808829940158256, &quot;z&quot;: 553.4637326813786}, {&quot;x&quot;: 0.4379391418351921, &quot;y&quot;: -0.9688308175749202, &quot;z&quot;: 553.4637326813786}, {&quot;x&quot;: 0.26790658303353754, &quot;y&quot;: -1.028907142458214, &quot;z&quot;: 553.4637326813786}, {&quot;x&quot;: 0.09016683961429678, &quot;y&quot;: -1.0593836821795033, &quot;z&quot;: 553.4637326813786}, {&quot;x&quot;: -0.09016683961429606, &quot;y&quot;: -1.0593836821795033, &quot;z&quot;: 553.4637326813786}, {&quot;x&quot;: -0.2679065830335377, &quot;y&quot;: -1.028907142458214, &quot;z&quot;: 553.4637326813786}, {&quot;x&quot;: -0.4379391418351919, &quot;y&quot;: -0.9688308175749203, &quot;z&quot;: 553.4637326813786}, {&quot;x&quot;: -0.5953729888800356, &quot;y&quot;: -0.8808829940158259, &quot;z&quot;: 553.4637326813786}, {&quot;x&quot;: -0.7356790390276738, &quot;y&quot;: -0.767593770538526, &quot;z&quot;: 553.4637326813786}, {&quot;x&quot;: -0.8548209426699404, &quot;y&quot;: -0.6322222718372925, &quot;z&quot;: 553.4637326813786}, {&quot;x&quot;: -0.9493712041601648, &quot;y&quot;: -0.4786628894594937, &quot;z&quot;: 553.4637326813786}, {&quot;x&quot;: -1.0166097846225022, &quot;y&quot;: -0.3113332472512735, &quot;z&quot;: 553.4637326813786}, {&quot;x&quot;: -1.0546023525180255, &quot;y&quot;: -0.1350471143626515, &quot;z&quot;: 553.4637326813786}, {&quot;x&quot;: -1.0622559308412753, &quot;y&quot;: 0.04512407812652273, &quot;z&quot;: 553.4637326813786}, {&quot;x&quot;: -1.0393503400787265, &quot;y&quot;: 0.22399713304519914, &quot;z&quot;: 553.4637326813786}, {&quot;x&quot;: -0.9865445323725136, &quot;y&quot;: 0.39642619827671777, &quot;z&quot;: 553.4637326813786}, {&quot;x&quot;: -0.9053576346670523, &quot;y&quot;: 0.5574508035551777, &quot;z&quot;: 553.4637326813786}, {&quot;x&quot;: -0.7981252461927154, &quot;y&quot;: 0.702438564163479, &quot;z&quot;: 553.4637326813786}, {&quot;x&quot;: -0.6679322475283921, &quot;y&quot;: 0.8272184462074716, &quot;z&quot;: 553.4637326813786}, {&quot;x&quot;: -0.5185240542038587, &quot;y&quot;: 0.9282007596669088, &quot;z&quot;: 553.4637326813786}, {&quot;x&quot;: -0.3541988679142502, &quot;y&quot;: 1.0024804272415977, &quot;z&quot;: 553.4637326813786}, {&quot;x&quot;: -0.1796840250830042, &quot;y&quot;: 1.0479205581360655, &quot;z&quot;: 553.4637326813786}, {&quot;x&quot;: 0.17968402508300355, &quot;y&quot;: 1.0479205581360658, &quot;z&quot;: 0.0}, {&quot;x&quot;: 0.0, &quot;y&quot;: 1.0632139225171164, &quot;z&quot;: 0.0}, {&quot;x&quot;: 0.3541988679142501, &quot;y&quot;: 1.002480427241598, &quot;z&quot;: 0.0}, {&quot;x&quot;: 0.518524054203859, &quot;y&quot;: 0.9282007596669086, &quot;z&quot;: 0.0}, {&quot;x&quot;: 0.6679322475283921, &quot;y&quot;: 0.8272184462074716, &quot;z&quot;: 0.0}, {&quot;x&quot;: 0.7981252461927152, &quot;y&quot;: 0.7024385641634794, &quot;z&quot;: 0.0}, {&quot;x&quot;: 0.9053576346670518, &quot;y&quot;: 0.5574508035551783, &quot;z&quot;: 0.0}, {&quot;x&quot;: 0.9865445323725134, &quot;y&quot;: 0.396426198276718, &quot;z&quot;: 0.0}, {&quot;x&quot;: 1.0393503400787265, &quot;y&quot;: 0.22399713304519892, &quot;z&quot;: 0.0}, {&quot;x&quot;: 1.0622559308412753, &quot;y&quot;: 0.045124078126522985, &quot;z&quot;: 0.0}, {&quot;x&quot;: 1.0546023525180255, &quot;y&quot;: -0.13504711436265102, &quot;z&quot;: 0.0}, {&quot;x&quot;: 1.0166097846225024, &quot;y&quot;: -0.31133324725127326, &quot;z&quot;: 0.0}, {&quot;x&quot;: 0.949371204160165, &quot;y&quot;: -0.4786628894594935, &quot;z&quot;: 0.0}, {&quot;x&quot;: 0.8548209426699402, &quot;y&quot;: -0.6322222718372926, &quot;z&quot;: 0.0}, {&quot;x&quot;: 0.735679039027674, &quot;y&quot;: -0.7675937705385257, &quot;z&quot;: 0.0}, {&quot;x&quot;: 0.5953729888800362, &quot;y&quot;: -0.8808829940158256, &quot;z&quot;: 0.0}, {&quot;x&quot;: 0.4379391418351921, &quot;y&quot;: -0.9688308175749202, &quot;z&quot;: 0.0}, {&quot;x&quot;: 0.26790658303353754, &quot;y&quot;: -1.028907142458214, &quot;z&quot;: 0.0}, {&quot;x&quot;: 0.09016683961429678, &quot;y&quot;: -1.0593836821795033, &quot;z&quot;: 0.0}, {&quot;x&quot;: -0.09016683961429606, &quot;y&quot;: -1.0593836821795033, &quot;z&quot;: 0.0}, {&quot;x&quot;: -0.2679065830335377, &quot;y&quot;: -1.028907142458214, &quot;z&quot;: 0.0}, {&quot;x&quot;: -0.4379391418351919, &quot;y&quot;: -0.9688308175749203, &quot;z&quot;: 0.0}, {&quot;x&quot;: -0.5953729888800356, &quot;y&quot;: -0.8808829940158259, &quot;z&quot;: 0.0}, {&quot;x&quot;: -0.7356790390276738, &quot;y&quot;: -0.767593770538526, &quot;z&quot;: 0.0}, {&quot;x&quot;: -0.8548209426699404, &quot;y&quot;: -0.6322222718372925, &quot;z&quot;: 0.0}, {&quot;x&quot;: -0.9493712041601648, &quot;y&quot;: -0.4786628894594937, &quot;z&quot;: 0.0}, {&quot;x&quot;: -1.0166097846225022, &quot;y&quot;: -0.3113332472512735, &quot;z&quot;: 0.0}, {&quot;x&quot;: -1.0546023525180255, &quot;y&quot;: -0.1350471143626515, &quot;z&quot;: 0.0}, {&quot;x&quot;: -1.0622559308412753, &quot;y&quot;: 0.04512407812652273, &quot;z&quot;: 0.0}, {&quot;x&quot;: -1.0393503400787265, &quot;y&quot;: 0.22399713304519914, &quot;z&quot;: 0.0}, {&quot;x&quot;: -0.9865445323725136, &quot;y&quot;: 0.39642619827671777, &quot;z&quot;: 0.0}, {&quot;x&quot;: -0.9053576346670523, &quot;y&quot;: 0.5574508035551777, &quot;z&quot;: 0.0}, {&quot;x&quot;: -0.7981252461927154, &quot;y&quot;: 0.702438564163479, &quot;z&quot;: 0.0}, {&quot;x&quot;: -0.6679322475283921, &quot;y&quot;: 0.8272184462074716, &quot;z&quot;: 0.0}, {&quot;x&quot;: -0.5185240542038587, &quot;y&quot;: 0.9282007596669088, &quot;z&quot;: 0.0}, {&quot;x&quot;: -0.3541988679142502, &quot;y&quot;: 1.0024804272415977, &quot;z&quot;: 0.0}, {&quot;x&quot;: -0.1796840250830042, &quot;y&quot;: 1.0479205581360655, &quot;z&quot;: 0.0}, {&quot;x&quot;: 0.0, &quot;y&quot;: 0.0, &quot;z&quot;: 0.0}], &quot;faces&quot;: [[0, 1, 2], [0, 3, 1], [0, 4, 3], [0, 5, 4], [0, 6, 5], [0, 7, 6], [0, 8, 7], [0, 9, 8], [0, 10, 9], [0, 11, 10], [0, 12, 11], [0, 13, 12], [0, 14, 13], [0, 15, 14], [0, 16, 15], [0, 17, 16], [0, 18, 17], [0, 19, 18], [0, 20, 19], [0, 21, 20], [0, 22, 21], [0, 23, 22], [0, 24, 23], [0, 25, 24], [0, 26, 25], [0, 27, 26], [0, 28, 27], [0, 29, 28], [0, 30, 29], [0, 31, 30], [0, 32, 31], [0, 33, 32], [0, 34, 33], [0, 35, 34], [0, 36, 35], [0, 37, 36], [0, 2, 37], [2, 1, 38, 39], [1, 3, 40, 38], [3, 4, 41, 40], [4, 5, 42, 41], [5, 6, 43, 42], [6, 7, 44, 43], [7, 8, 45, 44], [8, 9, 46, 45], [9, 10, 47, 46], [10, 11, 48, 47], [11, 12, 49, 48], [12, 13, 50, 49], [13, 14, 51, 50], [14, 15, 52, 51], [15, 16, 53, 52], [16, 17, 54, 53], [17, 18, 55, 54], [18, 19, 56, 55], [19, 20, 57, 56], [20, 21, 58, 57], [21, 22, 59, 58], [22, 23, 60, 59], [23, 24, 61, 60], [24, 25, 62, 61], [25, 26, 63, 62], [26, 27, 64, 63], [27, 28, 65, 64], [28, 29, 66, 65], [29, 30, 67, 66], [30, 31, 68, 67], [31, 32, 69, 68], [32, 33, 70, 69], [33, 34, 71, 70], [34, 35, 72, 71], [35, 36, 73, 72], [36, 37, 74, 73], [37, 2, 39, 74], [39, 38, 75], [38, 40, 75], [40, 41, 75], [41, 42, 75], [42, 43, 75], [43, 44, 75], [44, 45, 75], [45, 46, 75], [46, 47, 75], [47, 48, 75], [48, 49, 75], [49, 50, 75], [50, 51, 75], [51, 52, 75], [52, 53, 75], [53, 54, 75], [54, 55, 75], [55, 56, 75], [56, 57, 75], [57, 58, 75], [58, 59, 75], [59, 60, 75], [60, 61, 75], [61, 62, 75], [62, 63, 75], [63, 64, 75], [64, 65, 75], [65, 66, 75], [66, 67, 75], [67, 68, 75], [68, 69, 75], [69, 70, 75], [70, 71, 75], [71, 72, 75], [72, 73, 75], [73, 74, 75], [74, 39, 75]], &quot;color&quot;: &quot;#000000&quot;, &quot;opacity&quot;: 1.0}];\n",
       "    for ( var i=0 ; i < surfaces.length ; i++ ) addSurface( surfaces[i] );\n",
       "\n",
       "    function addSurface( json ) {\n",
       "\n",
       "        var useFaceColors = 'faceColors' in json ? true : false;\n",
       "\n",
       "        var geometry = new THREE.Geometry();\n",
       "        for ( var i=0 ; i < json.vertices.length ; i++ ) {\n",
       "            var v = json.vertices[i];\n",
       "            geometry.vertices.push( new THREE.Vector3( a[0]*v.x, a[1]*v.y, a[2]*v.z ) );\n",
       "        }\n",
       "        for ( var i=0 ; i < json.faces.length ; i++ ) {\n",
       "            var f = json.faces[i];\n",
       "            for ( var j=0 ; j < f.length - 2 ; j++ ) {\n",
       "                var face = new THREE.Face3( f[0], f[j+1], f[j+2] );\n",
       "                if ( useFaceColors ) face.color.set( json.faceColors[i] );\n",
       "                geometry.faces.push( face );\n",
       "            }\n",
       "        }\n",
       "        geometry.computeVertexNormals();\n",
       "\n",
       "        var side = json.singleSide ? THREE.FrontSide : THREE.DoubleSide;\n",
       "        var transparent = json.opacity < 1 ? true : false;\n",
       "        var depthWrite = 'depthWrite' in json ? json.depthWrite : !transparent;\n",
       "        var flatShading = json.useFlatShading ? json.useFlatShading : false;\n",
       "\n",
       "        var material = new THREE.MeshPhongMaterial( { side: side,\n",
       "                                     color: useFaceColors ? 'white' : json.color,\n",
       "                                     vertexColors: useFaceColors ? THREE.FaceColors : THREE.NoColors,\n",
       "                                     transparent: transparent, opacity: json.opacity,\n",
       "                                     shininess: 20, flatShading: flatShading,\n",
       "                                     depthWrite: depthWrite } );\n",
       "\n",
       "        var c = new THREE.Vector3();\n",
       "        geometry.computeBoundingBox();\n",
       "        geometry.boundingBox.getCenter( c );\n",
       "        geometry.translate( -c.x, -c.y, -c.z );\n",
       "\n",
       "        var mesh = new THREE.Mesh( geometry, material );\n",
       "        mesh.position.set( c.x, c.y, c.z );\n",
       "        if ( transparent && json.renderOrder ) mesh.renderOrder = json.renderOrder;\n",
       "        mesh.userData = json;\n",
       "        scene.add( mesh );\n",
       "\n",
       "        if ( json.showMeshGrid ) addSurfaceMeshGrid( json );\n",
       "\n",
       "    }\n",
       "\n",
       "    function addSurfaceMeshGrid( json ) {\n",
       "\n",
       "        var geometry = new THREE.Geometry();\n",
       "\n",
       "        for ( var i=0 ; i < json.faces.length ; i++ ) {\n",
       "            var f = json.faces[i];\n",
       "            for ( var j=0 ; j < f.length ; j++ ) {\n",
       "                var k = j === f.length-1 ? 0 : j+1;\n",
       "                var v1 = json.vertices[f[j]];\n",
       "                var v2 = json.vertices[f[k]];\n",
       "                // vertices in opposite directions on neighboring faces\n",
       "                var nudge = f[j] < f[k] ? .0005*zRange : -.0005*zRange;\n",
       "                geometry.vertices.push( new THREE.Vector3( a[0]*v1.x, a[1]*v1.y, a[2]*(v1.z+nudge) ) );\n",
       "                geometry.vertices.push( new THREE.Vector3( a[0]*v2.x, a[1]*v2.y, a[2]*(v2.z+nudge) ) );\n",
       "            }\n",
       "        }\n",
       "\n",
       "        var c = new THREE.Vector3();\n",
       "        geometry.computeBoundingBox();\n",
       "        geometry.boundingBox.getCenter( c );\n",
       "        geometry.translate( -c.x, -c.y, -c.z );\n",
       "\n",
       "        var gridColor = options.theme === 'dark' ? 'white' : 'black';\n",
       "        var linewidth = json.linewidth || 1;\n",
       "        var materialOptions = { color: gridColor, linewidth: linewidth };\n",
       "\n",
       "        var mesh;\n",
       "        if ( linewidth > 1 && window.createFatLineSegments ) {\n",
       "            mesh = createFatLineSegments( geometry, materialOptions );\n",
       "        } else {\n",
       "            var material = new THREE.LineBasicMaterial( materialOptions );\n",
       "            mesh = new THREE.LineSegments( geometry, material );\n",
       "        }\n",
       "\n",
       "        mesh.position.set( c.x, c.y, c.z );\n",
       "        mesh.userData = json;\n",
       "        scene.add( mesh );\n",
       "\n",
       "    }\n",
       "\n",
       "    function render() {\n",
       "\n",
       "        if ( window.updateAnimation ) animate = updateAnimation();\n",
       "        if ( animate ) requestAnimationFrame( render );\n",
       "\n",
       "        renderer.render( scene, camera );\n",
       "\n",
       "    }\n",
       "\n",
       "    render();\n",
       "    controls.update();\n",
       "    if ( !animate ) render();\n",
       "\n",
       "\n",
       "    // menu functions\n",
       "\n",
       "    function toggleMenu() {\n",
       "\n",
       "        var m = document.getElementById( 'menu-content' );\n",
       "        if ( m.style.display === 'block' ) m.style.display = 'none'\n",
       "        else m.style.display = 'block';\n",
       "\n",
       "    }\n",
       "\n",
       "\n",
       "    function saveAsPNG() {\n",
       "\n",
       "        var a = document.body.appendChild( document.createElement( 'a' ) );\n",
       "        a.href = renderer.domElement.toDataURL( 'image/png' );\n",
       "        a.download = 'screenshot';\n",
       "        a.click();\n",
       "\n",
       "    }\n",
       "\n",
       "    function saveAsHTML() {\n",
       "\n",
       "        toggleMenu(); // otherwise visible in output\n",
       "        event.stopPropagation();\n",
       "\n",
       "        var blob = new Blob( [ '<!DOCTYPE html>\\n' + document.documentElement.outerHTML ] );\n",
       "        var a = document.body.appendChild( document.createElement( 'a' ) );\n",
       "        a.href = window.URL.createObjectURL( blob );\n",
       "        a.download = suggestFilename();\n",
       "        a.click();\n",
       "\n",
       "        function suggestFilename() {\n",
       "            if ( !document.title ) {\n",
       "                return 'graphic.html';\n",
       "            } else if ( /\\.html?$/i.test( document.title ) ) {\n",
       "                return document.title; // already ends in .htm or .html\n",
       "            } else {\n",
       "                return document.title + '.html';\n",
       "            }\n",
       "        }\n",
       "\n",
       "    }\n",
       "\n",
       "    function getViewpoint() {\n",
       "\n",
       "        function roundTo( x, n ) { return +x.toFixed(n); }\n",
       "\n",
       "        var v = camera.quaternion.inverse();\n",
       "        var r = Math.sqrt( v.x*v.x + v.y*v.y + v.z*v.z );\n",
       "        var axis = [ roundTo( v.x / r, 4 ), roundTo( v.y / r, 4 ), roundTo( v.z / r, 4 ) ];\n",
       "        var angle = roundTo( 2 * Math.atan2( r, v.w ) * 180 / Math.PI, 2 );\n",
       "\n",
       "        var textArea = document.createElement( 'textarea' );\n",
       "        textArea.textContent = JSON.stringify( axis ) + ',' + angle;\n",
       "        textArea.style.csstext = 'position: absolute; top: -100%';\n",
       "        document.body.append( textArea );\n",
       "        textArea.select();\n",
       "        document.execCommand( 'copy' );\n",
       "\n",
       "        var m = document.getElementById( 'menu-message' );\n",
       "        m.innerHTML = 'Viewpoint copied to clipboard';\n",
       "        m.style.display = 'block';\n",
       "        setTimeout( function() { m.style.display = 'none'; }, 2000 );\n",
       "\n",
       "    }\n",
       "\n",
       "    function getCamera() {\n",
       "\n",
       "        function roundTo( x, n ) { return +x.toFixed(n); }\n",
       "\n",
       "        var pos = camera.position;\n",
       "        var pos_r = [ roundTo( pos.x, 4 ), roundTo( pos.y, 4 ), roundTo( pos.z, 4 ) ];\n",
       "   //     var up = camera.up; // up is always (0,0,1)\n",
       "        var textArea = document.createElement('textarea');\n",
       "        var cam_position = JSON.stringify(pos_r);\n",
       "        textArea.textContent = ',camera_position=' + cam_position;\n",
       "        textArea.style.csstext = 'position: absolute; top: -100%';\n",
       "        document.body.append( textArea );\n",
       "        textArea.select();\n",
       "        document.execCommand( 'copy' );\n",
       "\n",
       "        var m = document.getElementById( 'menu-message' );\n",
       "        m.innerHTML = 'Camera position '+ cam_position+' copied to clipboard';\n",
       "        m.style.display = 'block';\n",
       "        setTimeout( function() { m.style.display = 'none'; }, 2000 );\n",
       "\n",
       "    }\n",
       "                                       \n",
       "</script>\n",
       "\n",
       "<div id=&quot;menu-container&quot; onclick=&quot;toggleMenu()&quot;>&#x24d8;\n",
       "<div id=&quot;menu-message&quot;></div>\n",
       "<div id=&quot;menu-content&quot;>\n",
       "<div onclick=&quot;saveAsPNG()&quot;>Save as PNG</div>\n",
       "<div onclick=&quot;saveAsHTML()&quot;>Save as HTML</div>\n",
       "<div onclick=&quot;getCamera()&quot;>Get camera</div>\n",
       "<div onclick=&quot;getViewpoint()&quot;>Get viewpoint</div>\n",
       "<div>Close Menu</div>\n",
       "</div></div>\n",
       "\n",
       "\n",
       "</body>\n",
       "</html>\n",
       "\"\n",
       "        width=\"100%\"\n",
       "        height=\"400\"\n",
       "        style=\"border: 0;\">\n",
       "</iframe>\n"
      ],
      "text/plain": [
       "Graphics3d Object"
      ]
     },
     "execution_count": 22,
     "metadata": {},
     "output_type": "execute_result"
    }
   ],
   "source": [
    "Li.plot(coordinates='txy')"
   ]
  },
  {
   "cell_type": "markdown",
   "metadata": {},
   "source": [
    "or to get the trace of the geodesic in the $(x,y)$ plane:"
   ]
  },
  {
   "cell_type": "code",
   "execution_count": 23,
   "metadata": {},
   "outputs": [
    {
     "data": {
      "image/png": "[encoded data removed]",
      "text/plain": [
       "Graphics object consisting of 2 graphics primitives"
      ]
     },
     "execution_count": 23,
     "metadata": {},
     "output_type": "execute_result"
    }
   ],
   "source": [
    "Li.plot(coordinates='xy', plot_points=2000)"
   ]
  },
  {
   "cell_type": "markdown",
   "metadata": {},
   "source": [
    "or else to get the trace in the $(x,z)$ plane:"
   ]
  },
  {
   "cell_type": "code",
   "execution_count": 24,
   "metadata": {},
   "outputs": [
    {
     "data": {
      "image/png": "[encoded data removed]",
      "text/plain": [
       "Graphics object consisting of 2 graphics primitives"
      ]
     },
     "execution_count": 24,
     "metadata": {},
     "output_type": "execute_result"
    }
   ],
   "source": [
    "Li.plot(coordinates='xz')"
   ]
  },
  {
   "cell_type": "markdown",
   "metadata": {},
   "source": [
    "As a curve, the geodesic $\\mathcal{L}$ is a map from an interval of $\\mathbb{R}$ to the spacetime $M$:"
   ]
  },
  {
   "cell_type": "code",
   "execution_count": 25,
   "metadata": {},
   "outputs": [
    {
     "data": {
      "text/html": [
       "<html>\\[\\newcommand{\\Bold}[1]{\\mathbf{#1}}\\begin{array}{llcl} \\mathcal{L}:& \\left(0, 300\\right) & \\longrightarrow & M \\end{array}\\]</html>"
      ],
      "text/latex": [
       "$$\\newcommand{\\Bold}[1]{\\mathbf{#1}}\\begin{array}{llcl} \\mathcal{L}:& \\left(0, 300\\right) & \\longrightarrow & M \\end{array}$$"
      ],
      "text/plain": [
       "Li: (0, 300) → M"
      ]
     },
     "execution_count": 25,
     "metadata": {},
     "output_type": "execute_result"
    }
   ],
   "source": [
    "Li.display()"
   ]
  },
  {
   "cell_type": "code",
   "execution_count": 26,
   "metadata": {},
   "outputs": [
    {
     "data": {
      "text/html": [
       "<html>\\[\\newcommand{\\Bold}[1]{\\mathbf{#1}}\\left(0, 300\\right)\\]</html>"
      ],
      "text/latex": [
       "$$\\newcommand{\\Bold}[1]{\\mathbf{#1}}\\left(0, 300\\right)$$"
      ],
      "text/plain": [
       "Real interval (0, 300)"
      ]
     },
     "execution_count": 26,
     "metadata": {},
     "output_type": "execute_result"
    }
   ],
   "source": [
    "Li.domain()"
   ]
  },
  {
   "cell_type": "code",
   "execution_count": 27,
   "metadata": {},
   "outputs": [
    {
     "data": {
      "text/html": [
       "<html>\\[\\newcommand{\\Bold}[1]{\\mathbf{#1}}M\\]</html>"
      ],
      "text/latex": [
       "$$\\newcommand{\\Bold}[1]{\\mathbf{#1}}M$$"
      ],
      "text/plain": [
       "Kerr spacetime M"
      ]
     },
     "execution_count": 27,
     "metadata": {},
     "output_type": "execute_result"
    }
   ],
   "source": [
    "Li.codomain()"
   ]
  },
  {
   "cell_type": "markdown",
   "metadata": {},
   "source": [
    "It maps values of $\\lambda$ to spacetime points:"
   ]
  },
  {
   "cell_type": "code",
   "execution_count": 28,
   "metadata": {},
   "outputs": [
    {
     "data": {
      "text/html": [
       "<html>\\[\\newcommand{\\Bold}[1]{\\mathbf{#1}}\\mbox{Point on the Kerr spacetime M}\\]</html>"
      ],
      "text/latex": [
       "$$\\newcommand{\\Bold}[1]{\\mathbf{#1}}\\mbox{Point on the Kerr spacetime M}$$"
      ],
      "text/plain": [
       "Point on the Kerr spacetime M"
      ]
     },
     "execution_count": 28,
     "metadata": {},
     "output_type": "execute_result"
    }
   ],
   "source": [
    "Li(0)"
   ]
  },
  {
   "cell_type": "code",
   "execution_count": 29,
   "metadata": {},
   "outputs": [
    {
     "data": {
      "text/html": [
       "<html>\\[\\newcommand{\\Bold}[1]{\\mathbf{#1}}\\left(0.0, 6.0, 1.5707963267948966, 0.0\\right)\\]</html>"
      ],
      "text/latex": [
       "$$\\newcommand{\\Bold}[1]{\\mathbf{#1}}\\left(0.0, 6.0, 1.5707963267948966, 0.0\\right)$$"
      ],
      "text/plain": [
       "(0.0, 6.0, 1.5707963267948966, 0.0)"
      ]
     },
     "execution_count": 29,
     "metadata": {},
     "output_type": "execute_result"
    }
   ],
   "source": [
    "Li(0).coordinates()  # coordinates in the default chart (BL)"
   ]
  },
  {
   "cell_type": "code",
   "execution_count": 30,
   "metadata": {},
   "outputs": [
    {
     "data": {
      "text/html": [
       "<html>\\[\\newcommand{\\Bold}[1]{\\mathbf{#1}}\\left(0.0, 6.0, 1.5707963267948966, 0.0\\right)\\]</html>"
      ],
      "text/latex": [
       "$$\\newcommand{\\Bold}[1]{\\mathbf{#1}}\\left(0.0, 6.0, 1.5707963267948966, 0.0\\right)$$"
      ],
      "text/plain": [
       "(0.0, 6.0, 1.5707963267948966, 0.0)"
      ]
     },
     "execution_count": 30,
     "metadata": {},
     "output_type": "execute_result"
    }
   ],
   "source": [
    "BL(Li(0))  # equivalent to above"
   ]
  },
  {
   "cell_type": "code",
   "execution_count": 31,
   "metadata": {},
   "outputs": [
    {
     "data": {
      "text/html": [
       "<html>\\[\\newcommand{\\Bold}[1]{\\mathbf{#1}}\\left(553.4637326813786, 3.703552505462962, 1.6613834863942039, 84.62814710987239\\right)\\]</html>"
      ],
      "text/latex": [
       "$$\\newcommand{\\Bold}[1]{\\mathbf{#1}}\\left(553.4637326813786, 3.703552505462962, 1.6613834863942039, 84.62814710987239\\right)$$"
      ],
      "text/plain": [
       "(553.4637326813786, 3.703552505462962, 1.6613834863942039, 84.62814710987239)"
      ]
     },
     "execution_count": 31,
     "metadata": {},
     "output_type": "execute_result"
    }
   ],
   "source": [
    "Li(300).coordinates()"
   ]
  },
  {
   "cell_type": "markdown",
   "metadata": {},
   "source": [
    "The initial 4-momentum vector $p_0$ is returned by the method `initial_tangent_vector()`:"
   ]
  },
  {
   "cell_type": "code",
   "execution_count": 32,
   "metadata": {},
   "outputs": [
    {
     "name": "stdout",
     "output_type": "stream",
     "text": [
      "Tangent vector p at Point P on the Kerr spacetime M\n"
     ]
    }
   ],
   "source": [
    "p0 = Li.initial_tangent_vector()\n",
    "print(p0)"
   ]
  },
  {
   "cell_type": "code",
   "execution_count": 33,
   "metadata": {},
   "outputs": [
    {
     "data": {
      "text/html": [
       "<html>\\[\\newcommand{\\Bold}[1]{\\mathbf{#1}}\\mathrm{True}\\]</html>"
      ],
      "text/latex": [
       "$$\\newcommand{\\Bold}[1]{\\mathbf{#1}}\\mathrm{True}$$"
      ],
      "text/plain": [
       "True"
      ]
     },
     "execution_count": 33,
     "metadata": {},
     "output_type": "execute_result"
    }
   ],
   "source": [
    "p0 in M.tangent_space(P)"
   ]
  },
  {
   "cell_type": "code",
   "execution_count": 34,
   "metadata": {},
   "outputs": [
    {
     "data": {
      "text/html": [
       "<html>\\[\\newcommand{\\Bold}[1]{\\mathbf{#1}}p = 1.29225788954106 \\frac{\\partial}{\\partial t } + 0.00438084990626460 \\frac{\\partial}{\\partial r } + 0.0189826106258554 \\frac{\\partial}{\\partial {\\theta} } + 0.0646134478134985 \\frac{\\partial}{\\partial {\\phi} }\\]</html>"
      ],
      "text/latex": [
       "$$\\newcommand{\\Bold}[1]{\\mathbf{#1}}p = 1.29225788954106 \\frac{\\partial}{\\partial t } + 0.00438084990626460 \\frac{\\partial}{\\partial r } + 0.0189826106258554 \\frac{\\partial}{\\partial {\\theta} } + 0.0646134478134985 \\frac{\\partial}{\\partial {\\phi} }$$"
      ],
      "text/plain": [
       "p = 1.29225788954106 ∂/∂t + 0.00438084990626460 ∂/∂r + 0.0189826106258554 ∂/∂th + 0.0646134478134985 ∂/∂ph"
      ]
     },
     "execution_count": 34,
     "metadata": {},
     "output_type": "execute_result"
    }
   ],
   "source": [
    "p0.display()"
   ]
  },
  {
   "cell_type": "code",
   "execution_count": 35,
   "metadata": {},
   "outputs": [
    {
     "data": {
      "text/html": [
       "<html>\\[\\newcommand{\\Bold}[1]{\\mathbf{#1}}\\left[1.29225788954106, 0.00438084990626460, 0.0189826106258554, 0.0646134478134985\\right]\\]</html>"
      ],
      "text/latex": [
       "$$\\newcommand{\\Bold}[1]{\\mathbf{#1}}\\left[1.29225788954106, 0.00438084990626460, 0.0189826106258554, 0.0646134478134985\\right]$$"
      ],
      "text/plain": [
       "[1.29225788954106, 0.00438084990626460, 0.0189826106258554, 0.0646134478134985]"
      ]
     },
     "execution_count": 35,
     "metadata": {},
     "output_type": "execute_result"
    }
   ],
   "source": [
    "p0[:]"
   ]
  },
  {
   "cell_type": "markdown",
   "metadata": {},
   "source": [
    "For instance, the components $p^t_0$ and $p^\\phi_0$ are recovered by"
   ]
  },
  {
   "cell_type": "code",
   "execution_count": 36,
   "metadata": {},
   "outputs": [
    {
     "data": {
      "text/html": [
       "<html>\\[\\newcommand{\\Bold}[1]{\\mathbf{#1}}\\left(1.29225788954106, 0.0646134478134985\\right)\\]</html>"
      ],
      "text/latex": [
       "$$\\newcommand{\\Bold}[1]{\\mathbf{#1}}\\left(1.29225788954106, 0.0646134478134985\\right)$$"
      ],
      "text/plain": [
       "(1.29225788954106, 0.0646134478134985)"
      ]
     },
     "execution_count": 36,
     "metadata": {},
     "output_type": "execute_result"
    }
   ],
   "source": [
    "p0[0], p0[3]"
   ]
  },
  {
   "cell_type": "markdown",
   "metadata": {},
   "source": [
    "Let us check that the scalar square of $p_0$ is $-1$, i.e. is consistent with the mass parameter $\\mu = 1$ used in the construction of the geodesic:"
   ]
  },
  {
   "cell_type": "code",
   "execution_count": 37,
   "metadata": {},
   "outputs": [
    {
     "data": {
      "text/html": [
       "<html>\\[\\newcommand{\\Bold}[1]{\\mathbf{#1}}-1.00000000000000\\]</html>"
      ],
      "text/latex": [
       "$$\\newcommand{\\Bold}[1]{\\mathbf{#1}}-1.00000000000000$$"
      ],
      "text/plain": [
       "-1.00000000000000"
      ]
     },
     "execution_count": 37,
     "metadata": {},
     "output_type": "execute_result"
    }
   ],
   "source": [
    "g = M.metric()\n",
    "g.at(P)(p0, p0).subs(a=0.998)"
   ]
  },
  {
   "cell_type": "markdown",
   "metadata": {},
   "source": [
    "The 4-momentum vector $p$ at any value of the affine parameter $\\lambda$ is obtained by\n",
    "the method `evaluate_tangent_vector()`; for instance, for $\\lambda=200\\,m$: "
   ]
  },
  {
   "cell_type": "code",
   "execution_count": 38,
   "metadata": {},
   "outputs": [
    {
     "data": {
      "text/html": [
       "<html>\\[\\newcommand{\\Bold}[1]{\\mathbf{#1}}1.316592599498746 \\frac{\\partial}{\\partial t } -0.07370434215844164 \\frac{\\partial}{\\partial r } -0.01091195426423706 \\frac{\\partial}{\\partial {\\theta} } + 0.07600209768075264 \\frac{\\partial}{\\partial {\\phi} }\\]</html>"
      ],
      "text/latex": [
       "$$\\newcommand{\\Bold}[1]{\\mathbf{#1}}1.316592599498746 \\frac{\\partial}{\\partial t } -0.07370434215844164 \\frac{\\partial}{\\partial r } -0.01091195426423706 \\frac{\\partial}{\\partial {\\theta} } + 0.07600209768075264 \\frac{\\partial}{\\partial {\\phi} }$$"
      ],
      "text/plain": [
       "1.316592599498746 ∂/∂t - 0.07370434215844164 ∂/∂r - 0.01091195426423706 ∂/∂th + 0.07600209768075264 ∂/∂ph"
      ]
     },
     "execution_count": 38,
     "metadata": {},
     "output_type": "execute_result"
    }
   ],
   "source": [
    "p = Li.evaluate_tangent_vector(200)\n",
    "p.display()"
   ]
  },
  {
   "cell_type": "code",
   "execution_count": 39,
   "metadata": {},
   "outputs": [
    {
     "data": {
      "text/html": [
       "<html>\\[\\newcommand{\\Bold}[1]{\\mathbf{#1}}\\mathrm{True}\\]</html>"
      ],
      "text/latex": [
       "$$\\newcommand{\\Bold}[1]{\\mathbf{#1}}\\mathrm{True}$$"
      ],
      "text/plain": [
       "True"
      ]
     },
     "execution_count": 39,
     "metadata": {},
     "output_type": "execute_result"
    }
   ],
   "source": [
    "p in M.tangent_space(Li(200))"
   ]
  },
  {
   "cell_type": "markdown",
   "metadata": {},
   "source": [
    "The particle mass $\\mu$ computed at a given value of $\\lambda$ is returned by the method `evaluate_mu()`:"
   ]
  },
  {
   "cell_type": "code",
   "execution_count": 40,
   "metadata": {},
   "outputs": [
    {
     "data": {
      "text/html": [
       "<html>\\[\\newcommand{\\Bold}[1]{\\mathbf{#1}}1.00000000000000\\]</html>"
      ],
      "text/latex": [
       "$$\\newcommand{\\Bold}[1]{\\mathbf{#1}}1.00000000000000$$"
      ],
      "text/plain": [
       "1.00000000000000"
      ]
     },
     "execution_count": 40,
     "metadata": {},
     "output_type": "execute_result"
    }
   ],
   "source": [
    "Li.evaluate_mu(0)"
   ]
  },
  {
   "cell_type": "markdown",
   "metadata": {},
   "source": [
    "Of course, it should be conserved along $\\mathcal{L}$; actually it is, up to the numerical accuracy::"
   ]
  },
  {
   "cell_type": "code",
   "execution_count": 41,
   "metadata": {},
   "outputs": [
    {
     "data": {
      "text/html": [
       "<html>\\[\\newcommand{\\Bold}[1]{\\mathbf{#1}}1.0000117978600134\\]</html>"
      ],
      "text/latex": [
       "$$\\newcommand{\\Bold}[1]{\\mathbf{#1}}1.0000117978600134$$"
      ],
      "text/plain": [
       "1.0000117978600134"
      ]
     },
     "execution_count": 41,
     "metadata": {},
     "output_type": "execute_result"
    }
   ],
   "source": [
    "Li.evaluate_mu(300)"
   ]
  },
  {
   "cell_type": "markdown",
   "metadata": {},
   "source": [
    "Similarly, the conserved energy $E$, conserved angular momentum $L$ and Carter constant $Q$ are computed at any value of $\\lambda$ by respectively `evaluate_E()`, `evaluate_L()` and `evaluate_Q()`:"
   ]
  },
  {
   "cell_type": "code",
   "execution_count": 42,
   "metadata": {},
   "outputs": [
    {
     "data": {
      "text/html": [
       "<html>\\[\\newcommand{\\Bold}[1]{\\mathbf{#1}}0.883000000000000\\]</html>"
      ],
      "text/latex": [
       "$$\\newcommand{\\Bold}[1]{\\mathbf{#1}}0.883000000000000$$"
      ],
      "text/plain": [
       "0.883000000000000"
      ]
     },
     "execution_count": 42,
     "metadata": {},
     "output_type": "execute_result"
    }
   ],
   "source": [
    "Li.evaluate_E(0)"
   ]
  },
  {
   "cell_type": "code",
   "execution_count": 43,
   "metadata": {},
   "outputs": [
    {
     "data": {
      "text/html": [
       "<html>\\[\\newcommand{\\Bold}[1]{\\mathbf{#1}}1.98200000000000\\]</html>"
      ],
      "text/latex": [
       "$$\\newcommand{\\Bold}[1]{\\mathbf{#1}}1.98200000000000$$"
      ],
      "text/plain": [
       "1.98200000000000"
      ]
     },
     "execution_count": 43,
     "metadata": {},
     "output_type": "execute_result"
    }
   ],
   "source": [
    "Li.evaluate_L(0)"
   ]
  },
  {
   "cell_type": "code",
   "execution_count": 44,
   "metadata": {},
   "outputs": [
    {
     "data": {
      "text/html": [
       "<html>\\[\\newcommand{\\Bold}[1]{\\mathbf{#1}}0.467000000000000\\]</html>"
      ],
      "text/latex": [
       "$$\\newcommand{\\Bold}[1]{\\mathbf{#1}}0.467000000000000$$"
      ],
      "text/plain": [
       "0.467000000000000"
      ]
     },
     "execution_count": 44,
     "metadata": {},
     "output_type": "execute_result"
    }
   ],
   "source": [
    "Li.evaluate_Q(0)"
   ]
  },
  {
   "cell_type": "markdown",
   "metadata": {},
   "source": [
    "Let us check that the values of $\\mu$, $E$, $L$ and $Q$ evaluated at $\\lambda=300 \\, m$ are equal to those at $\\lambda=0$ up to the numerical accuracy of the integration scheme:"
   ]
  },
  {
   "cell_type": "code",
   "execution_count": 45,
   "metadata": {},
   "outputs": [
    {
     "data": {
      "text/html": [
       "<div class=\"notruncate\">\n",
       "<table  class=\"table_form\">\n",
       "<tbody>\n",
       "<tr class =\"row-a\">\n",
       "<td style=\"text-align:center\">quantity</td>\n",
       "<td style=\"text-align:center\">value</td>\n",
       "<td style=\"text-align:center\">initial value</td>\n",
       "<td style=\"text-align:center\">diff.</td>\n",
       "<td style=\"text-align:center\">relative diff.</td>\n",
       "</tr>\n",
       "<tr class =\"row-b\">\n",
       "<td style=\"text-align:center\">\\(\\mu^2\\)</td>\n",
       "<td style=\"text-align:center\">\\(1.0000235958592163\\)</td>\n",
       "<td style=\"text-align:center\">\\(1.00000000000000\\)</td>\n",
       "<td style=\"text-align:center\">\\(0.00002360\\)</td>\n",
       "<td style=\"text-align:center\">\\(0.00002360\\)</td>\n",
       "</tr>\n",
       "<tr class =\"row-a\">\n",
       "<td style=\"text-align:center\">\\(E\\)</td>\n",
       "<td style=\"text-align:center\">\\(0.883067996080701\\)</td>\n",
       "<td style=\"text-align:center\">\\(0.883000000000000\\)</td>\n",
       "<td style=\"text-align:center\">\\(0.00006800\\)</td>\n",
       "<td style=\"text-align:center\">\\(0.00007701\\)</td>\n",
       "</tr>\n",
       "<tr class =\"row-b\">\n",
       "<td style=\"text-align:center\">\\(L\\)</td>\n",
       "<td style=\"text-align:center\">\\(1.98248080818931\\)</td>\n",
       "<td style=\"text-align:center\">\\(1.98200000000000\\)</td>\n",
       "<td style=\"text-align:center\">\\(0.0004808\\)</td>\n",
       "<td style=\"text-align:center\">\\(0.0002426\\)</td>\n",
       "</tr>\n",
       "<tr class =\"row-a\">\n",
       "<td style=\"text-align:center\">\\(Q\\)</td>\n",
       "<td style=\"text-align:center\">\\(0.467214137649741\\)</td>\n",
       "<td style=\"text-align:center\">\\(0.467000000000000\\)</td>\n",
       "<td style=\"text-align:center\">\\(0.0002141\\)</td>\n",
       "<td style=\"text-align:center\">\\(0.0004585\\)</td>\n",
       "</tr>\n",
       "</tbody>\n",
       "</table>\n",
       "</div>"
      ],
      "text/plain": [
       "  quantity         value            initial value       diff.      relative diff.\n",
       "  $\\mu^2$    1.0000235958592163   1.00000000000000    0.00002360     0.00002360\n",
       "    $E$      0.883067996080701    0.883000000000000   0.00006800     0.00007701\n",
       "    $L$       1.98248080818931    1.98200000000000    0.0004808      0.0002426\n",
       "    $Q$      0.467214137649741    0.467000000000000   0.0002141      0.0004585"
      ]
     },
     "execution_count": 45,
     "metadata": {},
     "output_type": "execute_result"
    }
   ],
   "source": [
    "Li.check_integrals_of_motion(300)"
   ]
  },
  {
   "cell_type": "markdown",
   "metadata": {},
   "source": [
    "Decreasing the integration step leads to smaller errors:"
   ]
  },
  {
   "cell_type": "code",
   "execution_count": 46,
   "metadata": {},
   "outputs": [
    {
     "data": {
      "text/html": [
       "<div class=\"notruncate\">\n",
       "<table  class=\"table_form\">\n",
       "<tbody>\n",
       "<tr class =\"row-a\">\n",
       "<td style=\"text-align:center\">quantity</td>\n",
       "<td style=\"text-align:center\">value</td>\n",
       "<td style=\"text-align:center\">initial value</td>\n",
       "<td style=\"text-align:center\">diff.</td>\n",
       "<td style=\"text-align:center\">relative diff.</td>\n",
       "</tr>\n",
       "<tr class =\"row-b\">\n",
       "<td style=\"text-align:center\">\\(\\mu^2\\)</td>\n",
       "<td style=\"text-align:center\">\\(1.0000047183936422\\)</td>\n",
       "<td style=\"text-align:center\">\\(1.00000000000000\\)</td>\n",
       "<td style=\"text-align:center\">\\(4.718 \\times 10^{-6}\\)</td>\n",
       "<td style=\"text-align:center\">\\(4.718 \\times 10^{-6}\\)</td>\n",
       "</tr>\n",
       "<tr class =\"row-a\">\n",
       "<td style=\"text-align:center\">\\(E\\)</td>\n",
       "<td style=\"text-align:center\">\\(0.883013604456676\\)</td>\n",
       "<td style=\"text-align:center\">\\(0.883000000000000\\)</td>\n",
       "<td style=\"text-align:center\">\\(0.00001360\\)</td>\n",
       "<td style=\"text-align:center\">\\(0.00001541\\)</td>\n",
       "</tr>\n",
       "<tr class =\"row-b\">\n",
       "<td style=\"text-align:center\">\\(L\\)</td>\n",
       "<td style=\"text-align:center\">\\(1.98209626120918\\)</td>\n",
       "<td style=\"text-align:center\">\\(1.98200000000000\\)</td>\n",
       "<td style=\"text-align:center\">\\(0.00009626\\)</td>\n",
       "<td style=\"text-align:center\">\\(0.00004857\\)</td>\n",
       "</tr>\n",
       "<tr class =\"row-a\">\n",
       "<td style=\"text-align:center\">\\(Q\\)</td>\n",
       "<td style=\"text-align:center\">\\(0.467042771975860\\)</td>\n",
       "<td style=\"text-align:center\">\\(0.467000000000000\\)</td>\n",
       "<td style=\"text-align:center\">\\(0.00004277\\)</td>\n",
       "<td style=\"text-align:center\">\\(0.00009159\\)</td>\n",
       "</tr>\n",
       "</tbody>\n",
       "</table>\n",
       "</div>"
      ],
      "text/plain": [
       "  quantity         value            initial value       diff.      relative diff.\n",
       "  $\\mu^2$    1.0000047183936422   1.00000000000000     4.718e-6       4.718e-6\n",
       "    $E$      0.883013604456676    0.883000000000000   0.00001360     0.00001541\n",
       "    $L$       1.98209626120918    1.98200000000000    0.00009626     0.00004857\n",
       "    $Q$      0.467042771975860    0.467000000000000   0.00004277     0.00009159"
      ]
     },
     "execution_count": 46,
     "metadata": {},
     "output_type": "execute_result"
    }
   ],
   "source": [
    "Li.integrate(step=0.001)\n",
    "Li.check_integrals_of_motion(300)"
   ]
  },
  {
   "cell_type": "markdown",
   "metadata": {},
   "source": [
    "## Various ways to initialize a geodesic"
   ]
  },
  {
   "cell_type": "markdown",
   "metadata": {},
   "source": [
    "Instead of providing the integral of motions, as for ``Li`` above, one can initialize a geodesic by providing the Boyer-Lindquist components $(p^t_0, p^r_0, p^\\theta_0, p^\\phi_0)$ of the initial 4-momentum vector $p_0$. For instance:"
   ]
  },
  {
   "cell_type": "code",
   "execution_count": 47,
   "metadata": {},
   "outputs": [
    {
     "name": "stdout",
     "output_type": "stream",
     "text": [
      "Tangent vector p at Point P on the Kerr spacetime M\n"
     ]
    }
   ],
   "source": [
    "print(p0)"
   ]
  },
  {
   "cell_type": "code",
   "execution_count": 48,
   "metadata": {},
   "outputs": [
    {
     "data": {
      "text/html": [
       "<html>\\[\\newcommand{\\Bold}[1]{\\mathbf{#1}}\\left[1.29225788954106, 0.00438084990626460, 0.0189826106258554, 0.0646134478134985\\right]\\]</html>"
      ],
      "text/latex": [
       "$$\\newcommand{\\Bold}[1]{\\mathbf{#1}}\\left[1.29225788954106, 0.00438084990626460, 0.0189826106258554, 0.0646134478134985\\right]$$"
      ],
      "text/plain": [
       "[1.29225788954106, 0.00438084990626460, 0.0189826106258554, 0.0646134478134985]"
      ]
     },
     "execution_count": 48,
     "metadata": {},
     "output_type": "execute_result"
    }
   ],
   "source": [
    "p0[:]"
   ]
  },
  {
   "cell_type": "code",
   "execution_count": 49,
   "metadata": {},
   "outputs": [
    {
     "data": {
      "text/html": [
       "<html>\\[\\newcommand{\\Bold}[1]{\\mathbf{#1}}\\mathrm{True}\\]</html>"
      ],
      "text/latex": [
       "$$\\newcommand{\\Bold}[1]{\\mathbf{#1}}\\mathrm{True}$$"
      ],
      "text/plain": [
       "True"
      ]
     },
     "execution_count": 49,
     "metadata": {},
     "output_type": "execute_result"
    }
   ],
   "source": [
    "Li2 = M.geodesic([0, 300], P, pt0=p0[0], pr0=p0[1], pth0=p0[2], pph0=p0[3], \n",
    "                 a_num=0.998)\n",
    "Li2.initial_tangent_vector() == p0"
   ]
  },
  {
   "cell_type": "markdown",
   "metadata": {},
   "source": [
    "As a check, we recover the same values of $(\\mu, E, L, Q)$ as those that were used to initialize ``Li``:"
   ]
  },
  {
   "cell_type": "code",
   "execution_count": 50,
   "metadata": {},
   "outputs": [
    {
     "data": {
      "text/html": [
       "<html>\\[\\newcommand{\\Bold}[1]{\\mathbf{#1}}1.00000000000000\\]</html>"
      ],
      "text/latex": [
       "$$\\newcommand{\\Bold}[1]{\\mathbf{#1}}1.00000000000000$$"
      ],
      "text/plain": [
       "1.00000000000000"
      ]
     },
     "execution_count": 50,
     "metadata": {},
     "output_type": "execute_result"
    }
   ],
   "source": [
    "Li2.evaluate_mu(0)"
   ]
  },
  {
   "cell_type": "code",
   "execution_count": 51,
   "metadata": {},
   "outputs": [
    {
     "data": {
      "text/html": [
       "<html>\\[\\newcommand{\\Bold}[1]{\\mathbf{#1}}0.883000000000000\\]</html>"
      ],
      "text/latex": [
       "$$\\newcommand{\\Bold}[1]{\\mathbf{#1}}0.883000000000000$$"
      ],
      "text/plain": [
       "0.883000000000000"
      ]
     },
     "execution_count": 51,
     "metadata": {},
     "output_type": "execute_result"
    }
   ],
   "source": [
    "Li2.evaluate_E(0)"
   ]
  },
  {
   "cell_type": "code",
   "execution_count": 52,
   "metadata": {},
   "outputs": [
    {
     "data": {
      "text/html": [
       "<html>\\[\\newcommand{\\Bold}[1]{\\mathbf{#1}}1.98200000000000\\]</html>"
      ],
      "text/latex": [
       "$$\\newcommand{\\Bold}[1]{\\mathbf{#1}}1.98200000000000$$"
      ],
      "text/plain": [
       "1.98200000000000"
      ]
     },
     "execution_count": 52,
     "metadata": {},
     "output_type": "execute_result"
    }
   ],
   "source": [
    "Li2.evaluate_L(0)"
   ]
  },
  {
   "cell_type": "code",
   "execution_count": 53,
   "metadata": {},
   "outputs": [
    {
     "data": {
      "text/html": [
       "<html>\\[\\newcommand{\\Bold}[1]{\\mathbf{#1}}0.467000000000000\\]</html>"
      ],
      "text/latex": [
       "$$\\newcommand{\\Bold}[1]{\\mathbf{#1}}0.467000000000000$$"
      ],
      "text/plain": [
       "0.467000000000000"
      ]
     },
     "execution_count": 53,
     "metadata": {},
     "output_type": "execute_result"
    }
   ],
   "source": [
    "Li2.evaluate_Q(0)"
   ]
  },
  {
   "cell_type": "markdown",
   "metadata": {},
   "source": [
    "We may also initialize a geodesic by providing the mass $\\mu$ and the three spatial components $(p^r_0, p^\\theta_0, p^\\phi_0)$ of the initial 4-momentum vector:"
   ]
  },
  {
   "cell_type": "code",
   "execution_count": 54,
   "metadata": {},
   "outputs": [],
   "source": [
    "Li3 = M.geodesic([0, 300], P, mu=1, pr0=p0[1], pth0=p0[2], pph0=p0[3], \n",
    "                 a_num=0.998)"
   ]
  },
  {
   "cell_type": "markdown",
   "metadata": {},
   "source": [
    "The component $p^t_0$ is then automatically computed:"
   ]
  },
  {
   "cell_type": "code",
   "execution_count": 55,
   "metadata": {},
   "outputs": [
    {
     "data": {
      "text/html": [
       "<html>\\[\\newcommand{\\Bold}[1]{\\mathbf{#1}}\\left[1.29225788954106, 0.00438084990626460, 0.0189826106258554, 0.0646134478134985\\right]\\]</html>"
      ],
      "text/latex": [
       "$$\\newcommand{\\Bold}[1]{\\mathbf{#1}}\\left[1.29225788954106, 0.00438084990626460, 0.0189826106258554, 0.0646134478134985\\right]$$"
      ],
      "text/plain": [
       "[1.29225788954106, 0.00438084990626460, 0.0189826106258554, 0.0646134478134985]"
      ]
     },
     "execution_count": 55,
     "metadata": {},
     "output_type": "execute_result"
    }
   ],
   "source": [
    "Li3.initial_tangent_vector()[:]  "
   ]
  },
  {
   "cell_type": "markdown",
   "metadata": {},
   "source": [
    "and we check the identity with the initial vector of ``Li``, up to numerical errors:"
   ]
  },
  {
   "cell_type": "code",
   "execution_count": 56,
   "metadata": {},
   "outputs": [
    {
     "data": {
      "text/html": [
       "<html>\\[\\newcommand{\\Bold}[1]{\\mathbf{#1}}\\left[2.22044604925031 \\times 10^{-16}, 0, 0, 0\\right]\\]</html>"
      ],
      "text/latex": [
       "$$\\newcommand{\\Bold}[1]{\\mathbf{#1}}\\left[2.22044604925031 \\times 10^{-16}, 0, 0, 0\\right]$$"
      ],
      "text/plain": [
       "[2.22044604925031e-16, 0, 0, 0]"
      ]
     },
     "execution_count": 56,
     "metadata": {},
     "output_type": "execute_result"
    }
   ],
   "source": [
    "(Li3.initial_tangent_vector() - p0)[:] "
   ]
  },
  {
   "cell_type": "markdown",
   "metadata": {},
   "source": [
    "Another way to initialize a geodesic is to provide the conserved energy $E$, the conserved angular momentum $L$ and the two components $(p^r_0, p^\\theta_0)$ of the initial 4-momentum vector:"
   ]
  },
  {
   "cell_type": "code",
   "execution_count": 57,
   "metadata": {},
   "outputs": [
    {
     "data": {
      "text/html": [
       "<html>\\[\\newcommand{\\Bold}[1]{\\mathbf{#1}}\\left[1.29225788954106, 0.00438084990626460, 0.0189826106258554, 0.0646134478134985\\right]\\]</html>"
      ],
      "text/latex": [
       "$$\\newcommand{\\Bold}[1]{\\mathbf{#1}}\\left[1.29225788954106, 0.00438084990626460, 0.0189826106258554, 0.0646134478134985\\right]$$"
      ],
      "text/plain": [
       "[1.29225788954106, 0.00438084990626460, 0.0189826106258554, 0.0646134478134985]"
      ]
     },
     "execution_count": 57,
     "metadata": {},
     "output_type": "execute_result"
    }
   ],
   "source": [
    "Li4 = M.geodesic([0, 300], P, E=0.8830, L=1.982, pr0=p0[1], pth0=p0[2], \n",
    "                 a_num=0.998)\n",
    "Li4.initial_tangent_vector()[:]"
   ]
  },
  {
   "cell_type": "markdown",
   "metadata": {},
   "source": [
    "Again, we get a geodesic equivalent to ``Li``:"
   ]
  },
  {
   "cell_type": "code",
   "execution_count": 58,
   "metadata": {},
   "outputs": [
    {
     "data": {
      "text/html": [
       "<html>\\[\\newcommand{\\Bold}[1]{\\mathbf{#1}}\\left[0, 0, 0, 0\\right]\\]</html>"
      ],
      "text/latex": [
       "$$\\newcommand{\\Bold}[1]{\\mathbf{#1}}\\left[0, 0, 0, 0\\right]$$"
      ],
      "text/plain": [
       "[0, 0, 0, 0]"
      ]
     },
     "execution_count": 58,
     "metadata": {},
     "output_type": "execute_result"
    }
   ],
   "source": [
    "(Li4.initial_tangent_vector() - p0)[:] "
   ]
  },
  {
   "cell_type": "markdown",
   "metadata": {},
   "source": [
    "## Ingoing null geodesic with negative angular momentum"
   ]
  },
  {
   "cell_type": "markdown",
   "metadata": {},
   "source": [
    "We choose a ingoing null geodesic in the equatorial plane with $L = -6 E < 0$, starting at the point of Boyer-Lindquist coordinates $(t,r,\\theta,\\phi) = (0, 12, \\pi/2, 0)$:"
   ]
  },
  {
   "cell_type": "code",
   "execution_count": 59,
   "metadata": {},
   "outputs": [
    {
     "name": "stdout",
     "output_type": "stream",
     "text": [
      "Initial tangent vector: \n"
     ]
    },
    {
     "data": {
      "text/html": [
       "<html>\\[\\newcommand{\\Bold}[1]{\\mathbf{#1}}p = 1.20797381595070 \\frac{\\partial}{\\partial t } -0.901996260873419 \\frac{\\partial}{\\partial r } -0.0399489777089388 \\frac{\\partial}{\\partial {\\phi} }\\]</html>"
      ],
      "text/latex": [
       "$$\\newcommand{\\Bold}[1]{\\mathbf{#1}}p = 1.20797381595070 \\frac{\\partial}{\\partial t } -0.901996260873419 \\frac{\\partial}{\\partial r } -0.0399489777089388 \\frac{\\partial}{\\partial {\\phi} }$$"
      ],
      "text/plain": [
       "p = 1.20797381595070 ∂/∂t - 0.901996260873419 ∂/∂r - 0.0399489777089388 ∂/∂ph"
      ]
     },
     "metadata": {},
     "output_type": "display_data"
    },
    {
     "name": "stdout",
     "output_type": "stream",
     "text": [
      "The curve was correctly set.\n",
      "Parameters appearing in the differential system defining the curve are [a].\n"
     ]
    }
   ],
   "source": [
    "lambda_max = 13.063\n",
    "Li = M.geodesic([0, lambda_max], M((0,12,pi/2,0)), mu=0, E=1, L=-6, Q=0,\n",
    "                r_increase=False, a_num=a0, name='Li', latex_name=r'\\mathcal{L}', \n",
    "                verbose=True)"
   ]
  },
  {
   "cell_type": "code",
   "execution_count": 60,
   "metadata": {},
   "outputs": [],
   "source": [
    "Li.integrate(step=0.00002)"
   ]
  },
  {
   "cell_type": "markdown",
   "metadata": {},
   "source": [
    "We plot the trajectory of the geodesic in the equatorial plane with the tangent vector at 6 points:"
   ]
  },
  {
   "cell_type": "code",
   "execution_count": 61,
   "metadata": {},
   "outputs": [
    {
     "data": {
      "image/png": "[encoded data removed]",
      "text/plain": [
       "Graphics object consisting of 8 graphics primitives"
      ]
     },
     "execution_count": 61,
     "metadata": {},
     "output_type": "execute_result"
    }
   ],
   "source": [
    "Li.plot(coordinates='xy', color='green', prange=[0, lambda_max], plot_points=40000, \n",
    "        display_tangent=True, scale=0.002, color_tangent='brown',\n",
    "        plot_points_tangent=6, axes_labels=[r'$x/m$', r'$y/m$'])"
   ]
  },
  {
   "cell_type": "markdown",
   "metadata": {},
   "source": [
    "Note the turning point in $\\phi$ and the final winding in the direction of the black\n",
    "rotation (counterclockwise in the figure)."
   ]
  },
  {
   "cell_type": "code",
   "execution_count": 62,
   "metadata": {},
   "outputs": [
    {
     "data": {
      "text/html": [
       "<div class=\"notruncate\">\n",
       "<table  class=\"table_form\">\n",
       "<tbody>\n",
       "<tr class =\"row-a\">\n",
       "<td style=\"text-align:center\">quantity</td>\n",
       "<td style=\"text-align:center\">value</td>\n",
       "<td style=\"text-align:center\">initial value</td>\n",
       "<td style=\"text-align:center\">diff.</td>\n",
       "<td style=\"text-align:center\">relative diff.</td>\n",
       "</tr>\n",
       "<tr class =\"row-b\">\n",
       "<td style=\"text-align:center\">\\(\\mu^2\\)</td>\n",
       "<td style=\"text-align:center\">\\(0.000211815000511706\\)</td>\n",
       "<td style=\"text-align:center\">\\(0.000000000000000\\)</td>\n",
       "<td style=\"text-align:center\">\\(0.0002118\\)</td>\n",
       "<td style=\"text-align:center\">-</td>\n",
       "</tr>\n",
       "<tr class =\"row-a\">\n",
       "<td style=\"text-align:center\">\\(E\\)</td>\n",
       "<td style=\"text-align:center\">\\(1.00000186057173\\)</td>\n",
       "<td style=\"text-align:center\">\\(1.00000000000000\\)</td>\n",
       "<td style=\"text-align:center\">\\(1.861 \\times 10^{-6}\\)</td>\n",
       "<td style=\"text-align:center\">\\(1.861 \\times 10^{-6}\\)</td>\n",
       "</tr>\n",
       "<tr class =\"row-b\">\n",
       "<td style=\"text-align:center\">\\(L\\)</td>\n",
       "<td style=\"text-align:center\">\\(-5.99999596865291\\)</td>\n",
       "<td style=\"text-align:center\">\\(-6.00000000000000\\)</td>\n",
       "<td style=\"text-align:center\">\\(4.031 \\times 10^{-6}\\)</td>\n",
       "<td style=\"text-align:center\">\\(-6.719 \\times 10^{-7}\\)</td>\n",
       "</tr>\n",
       "<tr class =\"row-a\">\n",
       "<td style=\"text-align:center\">\\(Q\\)</td>\n",
       "<td style=\"text-align:center\">\\(1.31244559310830 \\times 10^{-31}\\)</td>\n",
       "<td style=\"text-align:center\">\\(0\\)</td>\n",
       "<td style=\"text-align:center\">\\(1.312 \\times 10^{-31}\\)</td>\n",
       "<td style=\"text-align:center\">-</td>\n",
       "</tr>\n",
       "</tbody>\n",
       "</table>\n",
       "</div>"
      ],
      "text/plain": [
       "  quantity          value             initial value       diff.     relative diff.\n",
       "  $\\mu^2$    0.000211815000511706   0.000000000000000   0.0002118         -\n",
       "    $E$        1.00000186057173     1.00000000000000    1.861e-6       1.861e-6\n",
       "    $L$       -5.99999596865291     -6.00000000000000   4.031e-6      -6.719e-7\n",
       "    $Q$      1.31244559310830e-31           0           1.312e-31         -"
      ]
     },
     "execution_count": 62,
     "metadata": {},
     "output_type": "execute_result"
    }
   ],
   "source": [
    "Li.check_integrals_of_motion(0.99999*lambda_max)"
   ]
  }
 ],
 "metadata": {
  "kernelspec": {
   "display_name": "SageMath 9.4",
   "language": "sage",
   "name": "sagemath"
  },
  "language_info": {
   "codemirror_mode": {
    "name": "ipython",
    "version": 3
   },
   "file_extension": ".py",
   "mimetype": "text/x-python",
   "name": "python",
   "nbconvert_exporter": "python",
   "pygments_lexer": "ipython3",
   "version": "3.8.10"
  }
 },
 "nbformat": 4,
 "nbformat_minor": 2
}
