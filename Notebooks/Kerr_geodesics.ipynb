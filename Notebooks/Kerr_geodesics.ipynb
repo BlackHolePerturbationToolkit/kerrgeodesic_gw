{
 "cells": [
  {
   "cell_type": "markdown",
   "metadata": {},
   "source": [
    "# Geodesics in Kerr spacetime\n",
    "## Computation with `kerrgeodesic_gw`\n",
    "\n",
    "This Jupyter notebook requires [SageMath](http://www.sagemath.org/) (version $\\geq$ 8.2), with the package [kerrgeodesic_gw](https://github.com/BlackHolePerturbationToolkit/kerrgeodesic_gw) (version $\\geq$ 0.3). To install the latter, simply run \n",
    "```\n",
    "sage -pip install kerrgeodesic_gw\n",
    "```\n",
    "in a terminal."
   ]
  },
  {
   "cell_type": "markdown",
   "metadata": {},
   "source": [
    "First, we set up the notebook to use LaTeX-formatted display:"
   ]
  },
  {
   "cell_type": "code",
   "execution_count": 1,
   "metadata": {},
   "outputs": [],
   "source": [
    "%display latex"
   ]
  },
  {
   "cell_type": "markdown",
   "metadata": {},
   "source": [
    "and we ask for CPU demanding computations to be performed in parallel on 8 processes:"
   ]
  },
  {
   "cell_type": "code",
   "execution_count": 2,
   "metadata": {},
   "outputs": [],
   "source": [
    "Parallelism().set(nproc=8)"
   ]
  },
  {
   "cell_type": "markdown",
   "metadata": {},
   "source": [
    "A Kerr black bole is entirely defined by two parameters $(m, a)$, where $m$ is the black hole mass and $a$ is the black hole angular momentum divided by $m$.\n",
    "In this notebook, we shall set $m=1$ and we denote the angular momentum parameter $a$ by the symbolic variable `a`, using `a0` for a specific numerical value:"
   ]
  },
  {
   "cell_type": "code",
   "execution_count": 3,
   "metadata": {},
   "outputs": [],
   "source": [
    "a = var('a')\n",
    "a0 = 0.998"
   ]
  },
  {
   "cell_type": "markdown",
   "metadata": {},
   "source": [
    "The spacetime object is created as an instance of the class `KerrBH`:"
   ]
  },
  {
   "cell_type": "code",
   "execution_count": 4,
   "metadata": {},
   "outputs": [
    {
     "name": "stdout",
     "output_type": "stream",
     "text": [
      "Kerr spacetime M\n"
     ]
    }
   ],
   "source": [
    "from kerrgeodesic_gw import KerrBH\n",
    "M = KerrBH(a)\n",
    "print(M)"
   ]
  },
  {
   "cell_type": "markdown",
   "metadata": {},
   "source": [
    "The object `M` is endowed with many methods, which can be discovered via the TAB key:"
   ]
  },
  {
   "cell_type": "code",
   "execution_count": 5,
   "metadata": {},
   "outputs": [],
   "source": [
    "# M.<TAB>"
   ]
  },
  {
   "cell_type": "markdown",
   "metadata": {},
   "source": [
    "One of them returns the Boyer-Lindquist coordinate $r$ of the event horizon:"
   ]
  },
  {
   "cell_type": "code",
   "execution_count": 6,
   "metadata": {},
   "outputs": [
    {
     "data": {
      "text/html": [
       "<html><script type=\"math/tex; mode=display\">\\newcommand{\\Bold}[1]{\\mathbf{#1}}\\sqrt{-a^{2} + 1} + 1</script></html>"
      ],
      "text/plain": [
       "sqrt(-a^2 + 1) + 1"
      ]
     },
     "execution_count": 6,
     "metadata": {},
     "output_type": "execute_result"
    }
   ],
   "source": [
    "rH = M.event_horizon_radius()\n",
    "rH"
   ]
  },
  {
   "cell_type": "code",
   "execution_count": 7,
   "metadata": {},
   "outputs": [
    {
     "data": {
      "text/html": [
       "<html><script type=\"math/tex; mode=display\">\\newcommand{\\Bold}[1]{\\mathbf{#1}}1.06321392251712</script></html>"
      ],
      "text/plain": [
       "1.06321392251712"
      ]
     },
     "execution_count": 7,
     "metadata": {},
     "output_type": "execute_result"
    }
   ],
   "source": [
    "rH0 = rH.subs({a: a0})\n",
    "rH0"
   ]
  },
  {
   "cell_type": "markdown",
   "metadata": {},
   "source": [
    "Another one returns the chart of Boyer-Lindquist coordinates and allows the user to instanciate the Python variables `(t, r, th, ph)` to the coordinates $(t,r,\\theta,\\phi)$:"
   ]
  },
  {
   "cell_type": "code",
   "execution_count": 8,
   "metadata": {},
   "outputs": [
    {
     "data": {
      "text/html": [
       "<html><script type=\"math/tex; mode=display\">\\newcommand{\\Bold}[1]{\\mathbf{#1}}\\left(M,(t, r, {\\theta}, {\\phi})\\right)</script></html>"
      ],
      "text/plain": [
       "Chart (M, (t, r, th, ph))"
      ]
     },
     "execution_count": 8,
     "metadata": {},
     "output_type": "execute_result"
    }
   ],
   "source": [
    "BL.<t, r, th, ph> = M.boyer_lindquist_coordinates()\n",
    "BL"
   ]
  },
  {
   "cell_type": "markdown",
   "metadata": {},
   "source": [
    "The metric tensor is naturally returned by the method `metric()`:"
   ]
  },
  {
   "cell_type": "code",
   "execution_count": 9,
   "metadata": {
    "scrolled": true
   },
   "outputs": [
    {
     "data": {
      "text/html": [
       "<html><script type=\"math/tex; mode=display\">\\newcommand{\\Bold}[1]{\\mathbf{#1}}g = \\left( -\\frac{a^{2} \\cos\\left({\\theta}\\right)^{2} + r^{2} - 2 \\, r}{a^{2} \\cos\\left({\\theta}\\right)^{2} + r^{2}} \\right) \\mathrm{d} t\\otimes \\mathrm{d} t + \\left( -\\frac{2 \\, a r \\sin\\left({\\theta}\\right)^{2}}{a^{2} \\cos\\left({\\theta}\\right)^{2} + r^{2}} \\right) \\mathrm{d} t\\otimes \\mathrm{d} {\\phi} + \\left( \\frac{a^{2} \\cos\\left({\\theta}\\right)^{2} + r^{2}}{a^{2} + r^{2} - 2 \\, r} \\right) \\mathrm{d} r\\otimes \\mathrm{d} r + \\left( a^{2} \\cos\\left({\\theta}\\right)^{2} + r^{2} \\right) \\mathrm{d} {\\theta}\\otimes \\mathrm{d} {\\theta} + \\left( -\\frac{2 \\, a r \\sin\\left({\\theta}\\right)^{2}}{a^{2} \\cos\\left({\\theta}\\right)^{2} + r^{2}} \\right) \\mathrm{d} {\\phi}\\otimes \\mathrm{d} t + \\left( \\frac{2 \\, a^{2} r \\sin\\left({\\theta}\\right)^{4} + {\\left(a^{2} r^{2} + r^{4} + {\\left(a^{4} + a^{2} r^{2}\\right)} \\cos\\left({\\theta}\\right)^{2}\\right)} \\sin\\left({\\theta}\\right)^{2}}{a^{2} \\cos\\left({\\theta}\\right)^{2} + r^{2}} \\right) \\mathrm{d} {\\phi}\\otimes \\mathrm{d} {\\phi}</script></html>"
      ],
      "text/plain": [
       "g = -(a^2*cos(th)^2 + r^2 - 2*r)/(a^2*cos(th)^2 + r^2) dt*dt - 2*a*r*sin(th)^2/(a^2*cos(th)^2 + r^2) dt*dph + (a^2*cos(th)^2 + r^2)/(a^2 + r^2 - 2*r) dr*dr + (a^2*cos(th)^2 + r^2) dth*dth - 2*a*r*sin(th)^2/(a^2*cos(th)^2 + r^2) dph*dt + (2*a^2*r*sin(th)^4 + (a^2*r^2 + r^4 + (a^4 + a^2*r^2)*cos(th)^2)*sin(th)^2)/(a^2*cos(th)^2 + r^2) dph*dph"
      ]
     },
     "execution_count": 9,
     "metadata": {},
     "output_type": "execute_result"
    }
   ],
   "source": [
    "g = M.metric()\n",
    "g.display()"
   ]
  },
  {
   "cell_type": "markdown",
   "metadata": {},
   "source": [
    "Again many methods are available on metric objects and one can discover them via the TAB key:"
   ]
  },
  {
   "cell_type": "code",
   "execution_count": 10,
   "metadata": {},
   "outputs": [],
   "source": [
    "# g.<TAB>"
   ]
  },
  {
   "cell_type": "markdown",
   "metadata": {},
   "source": [
    "For instance `christoffel_symbols_display()` computes the Christofell symbols with respect to the default chart (Boyer-Lindquist) and displays them:"
   ]
  },
  {
   "cell_type": "code",
   "execution_count": 11,
   "metadata": {},
   "outputs": [
    {
     "data": {
      "text/html": [
       "<html><script type=\"math/tex; mode=display\">\\newcommand{\\Bold}[1]{\\mathbf{#1}}\\begin{array}{lcl} \\Gamma_{ \\phantom{\\, t} \\, t \\, r }^{ \\, t \\phantom{\\, t} \\phantom{\\, r} } & = & -\\frac{a^{4} - r^{4} - {\\left(a^{4} + a^{2} r^{2}\\right)} \\sin\\left({\\theta}\\right)^{2}}{a^{2} r^{4} + r^{6} - 2 \\, r^{5} + {\\left(a^{6} + a^{4} r^{2} - 2 \\, a^{4} r\\right)} \\cos\\left({\\theta}\\right)^{4} + 2 \\, {\\left(a^{4} r^{2} + a^{2} r^{4} - 2 \\, a^{2} r^{3}\\right)} \\cos\\left({\\theta}\\right)^{2}} \\\\ \\Gamma_{ \\phantom{\\, t} \\, t \\, {\\theta} }^{ \\, t \\phantom{\\, t} \\phantom{\\, {\\theta}} } & = & -\\frac{2 \\, a^{2} r \\cos\\left({\\theta}\\right) \\sin\\left({\\theta}\\right)}{a^{4} \\cos\\left({\\theta}\\right)^{4} + 2 \\, a^{2} r^{2} \\cos\\left({\\theta}\\right)^{2} + r^{4}} \\\\ \\Gamma_{ \\phantom{\\, t} \\, r \\, {\\phi} }^{ \\, t \\phantom{\\, r} \\phantom{\\, {\\phi}} } & = & -\\frac{{\\left(a^{3} r^{2} + 3 \\, a r^{4} - {\\left(a^{5} - a^{3} r^{2}\\right)} \\cos\\left({\\theta}\\right)^{2}\\right)} \\sin\\left({\\theta}\\right)^{2}}{a^{2} r^{4} + r^{6} - 2 \\, r^{5} + {\\left(a^{6} + a^{4} r^{2} - 2 \\, a^{4} r\\right)} \\cos\\left({\\theta}\\right)^{4} + 2 \\, {\\left(a^{4} r^{2} + a^{2} r^{4} - 2 \\, a^{2} r^{3}\\right)} \\cos\\left({\\theta}\\right)^{2}} \\\\ \\Gamma_{ \\phantom{\\, t} \\, {\\theta} \\, {\\phi} }^{ \\, t \\phantom{\\, {\\theta}} \\phantom{\\, {\\phi}} } & = & -\\frac{2 \\, {\\left(a^{5} r \\cos\\left({\\theta}\\right) \\sin\\left({\\theta}\\right)^{5} - {\\left(a^{5} r + a^{3} r^{3}\\right)} \\cos\\left({\\theta}\\right) \\sin\\left({\\theta}\\right)^{3}\\right)}}{a^{6} \\cos\\left({\\theta}\\right)^{6} + 3 \\, a^{4} r^{2} \\cos\\left({\\theta}\\right)^{4} + 3 \\, a^{2} r^{4} \\cos\\left({\\theta}\\right)^{2} + r^{6}} \\\\ \\Gamma_{ \\phantom{\\, r} \\, t \\, t }^{ \\, r \\phantom{\\, t} \\phantom{\\, t} } & = & \\frac{a^{2} r^{2} + r^{4} - 2 \\, r^{3} - {\\left(a^{4} + a^{2} r^{2} - 2 \\, a^{2} r\\right)} \\cos\\left({\\theta}\\right)^{2}}{a^{6} \\cos\\left({\\theta}\\right)^{6} + 3 \\, a^{4} r^{2} \\cos\\left({\\theta}\\right)^{4} + 3 \\, a^{2} r^{4} \\cos\\left({\\theta}\\right)^{2} + r^{6}} \\\\ \\Gamma_{ \\phantom{\\, r} \\, t \\, {\\phi} }^{ \\, r \\phantom{\\, t} \\phantom{\\, {\\phi}} } & = & -\\frac{{\\left(a^{3} r^{2} + a r^{4} - 2 \\, a r^{3} - {\\left(a^{5} + a^{3} r^{2} - 2 \\, a^{3} r\\right)} \\cos\\left({\\theta}\\right)^{2}\\right)} \\sin\\left({\\theta}\\right)^{2}}{a^{6} \\cos\\left({\\theta}\\right)^{6} + 3 \\, a^{4} r^{2} \\cos\\left({\\theta}\\right)^{4} + 3 \\, a^{2} r^{4} \\cos\\left({\\theta}\\right)^{2} + r^{6}} \\\\ \\Gamma_{ \\phantom{\\, r} \\, r \\, r }^{ \\, r \\phantom{\\, r} \\phantom{\\, r} } & = & \\frac{{\\left(a^{2} r - a^{2}\\right)} \\sin\\left({\\theta}\\right)^{2} + a^{2} - r^{2}}{a^{2} r^{2} + r^{4} - 2 \\, r^{3} + {\\left(a^{4} + a^{2} r^{2} - 2 \\, a^{2} r\\right)} \\cos\\left({\\theta}\\right)^{2}} \\\\ \\Gamma_{ \\phantom{\\, r} \\, r \\, {\\theta} }^{ \\, r \\phantom{\\, r} \\phantom{\\, {\\theta}} } & = & -\\frac{a^{2} \\cos\\left({\\theta}\\right) \\sin\\left({\\theta}\\right)}{a^{2} \\cos\\left({\\theta}\\right)^{2} + r^{2}} \\\\ \\Gamma_{ \\phantom{\\, r} \\, {\\theta} \\, {\\theta} }^{ \\, r \\phantom{\\, {\\theta}} \\phantom{\\, {\\theta}} } & = & -\\frac{a^{2} r + r^{3} - 2 \\, r^{2}}{a^{2} \\cos\\left({\\theta}\\right)^{2} + r^{2}} \\\\ \\Gamma_{ \\phantom{\\, r} \\, {\\phi} \\, {\\phi} }^{ \\, r \\phantom{\\, {\\phi}} \\phantom{\\, {\\phi}} } & = & \\frac{{\\left(a^{4} r^{2} + a^{2} r^{4} - 2 \\, a^{2} r^{3} - {\\left(a^{6} + a^{4} r^{2} - 2 \\, a^{4} r\\right)} \\cos\\left({\\theta}\\right)^{2}\\right)} \\sin\\left({\\theta}\\right)^{4} - {\\left(a^{2} r^{5} + r^{7} - 2 \\, r^{6} + {\\left(a^{6} r + a^{4} r^{3} - 2 \\, a^{4} r^{2}\\right)} \\cos\\left({\\theta}\\right)^{4} + 2 \\, {\\left(a^{4} r^{3} + a^{2} r^{5} - 2 \\, a^{2} r^{4}\\right)} \\cos\\left({\\theta}\\right)^{2}\\right)} \\sin\\left({\\theta}\\right)^{2}}{a^{6} \\cos\\left({\\theta}\\right)^{6} + 3 \\, a^{4} r^{2} \\cos\\left({\\theta}\\right)^{4} + 3 \\, a^{2} r^{4} \\cos\\left({\\theta}\\right)^{2} + r^{6}} \\\\ \\Gamma_{ \\phantom{\\, {\\theta}} \\, t \\, t }^{ \\, {\\theta} \\phantom{\\, t} \\phantom{\\, t} } & = & -\\frac{2 \\, a^{2} r \\cos\\left({\\theta}\\right) \\sin\\left({\\theta}\\right)}{a^{6} \\cos\\left({\\theta}\\right)^{6} + 3 \\, a^{4} r^{2} \\cos\\left({\\theta}\\right)^{4} + 3 \\, a^{2} r^{4} \\cos\\left({\\theta}\\right)^{2} + r^{6}} \\\\ \\Gamma_{ \\phantom{\\, {\\theta}} \\, t \\, {\\phi} }^{ \\, {\\theta} \\phantom{\\, t} \\phantom{\\, {\\phi}} } & = & \\frac{2 \\, {\\left(a^{3} r + a r^{3}\\right)} \\cos\\left({\\theta}\\right) \\sin\\left({\\theta}\\right)}{a^{6} \\cos\\left({\\theta}\\right)^{6} + 3 \\, a^{4} r^{2} \\cos\\left({\\theta}\\right)^{4} + 3 \\, a^{2} r^{4} \\cos\\left({\\theta}\\right)^{2} + r^{6}} \\\\ \\Gamma_{ \\phantom{\\, {\\theta}} \\, r \\, r }^{ \\, {\\theta} \\phantom{\\, r} \\phantom{\\, r} } & = & \\frac{a^{2} \\cos\\left({\\theta}\\right) \\sin\\left({\\theta}\\right)}{a^{2} r^{2} + r^{4} - 2 \\, r^{3} + {\\left(a^{4} + a^{2} r^{2} - 2 \\, a^{2} r\\right)} \\cos\\left({\\theta}\\right)^{2}} \\\\ \\Gamma_{ \\phantom{\\, {\\theta}} \\, r \\, {\\theta} }^{ \\, {\\theta} \\phantom{\\, r} \\phantom{\\, {\\theta}} } & = & \\frac{r}{a^{2} \\cos\\left({\\theta}\\right)^{2} + r^{2}} \\\\ \\Gamma_{ \\phantom{\\, {\\theta}} \\, {\\theta} \\, {\\theta} }^{ \\, {\\theta} \\phantom{\\, {\\theta}} \\phantom{\\, {\\theta}} } & = & -\\frac{a^{2} \\cos\\left({\\theta}\\right) \\sin\\left({\\theta}\\right)}{a^{2} \\cos\\left({\\theta}\\right)^{2} + r^{2}} \\\\ \\Gamma_{ \\phantom{\\, {\\theta}} \\, {\\phi} \\, {\\phi} }^{ \\, {\\theta} \\phantom{\\, {\\phi}} \\phantom{\\, {\\phi}} } & = & -\\frac{{\\left({\\left(a^{6} + a^{4} r^{2} - 2 \\, a^{4} r\\right)} \\cos\\left({\\theta}\\right)^{5} + 2 \\, {\\left(a^{4} r^{2} + a^{2} r^{4} - 2 \\, a^{2} r^{3}\\right)} \\cos\\left({\\theta}\\right)^{3} + {\\left(a^{2} r^{4} + r^{6} + 2 \\, a^{4} r + 4 \\, a^{2} r^{3}\\right)} \\cos\\left({\\theta}\\right)\\right)} \\sin\\left({\\theta}\\right)}{a^{6} \\cos\\left({\\theta}\\right)^{6} + 3 \\, a^{4} r^{2} \\cos\\left({\\theta}\\right)^{4} + 3 \\, a^{2} r^{4} \\cos\\left({\\theta}\\right)^{2} + r^{6}} \\\\ \\Gamma_{ \\phantom{\\, {\\phi}} \\, t \\, r }^{ \\, {\\phi} \\phantom{\\, t} \\phantom{\\, r} } & = & -\\frac{a^{3} \\cos\\left({\\theta}\\right)^{2} - a r^{2}}{a^{2} r^{4} + r^{6} - 2 \\, r^{5} + {\\left(a^{6} + a^{4} r^{2} - 2 \\, a^{4} r\\right)} \\cos\\left({\\theta}\\right)^{4} + 2 \\, {\\left(a^{4} r^{2} + a^{2} r^{4} - 2 \\, a^{2} r^{3}\\right)} \\cos\\left({\\theta}\\right)^{2}} \\\\ \\Gamma_{ \\phantom{\\, {\\phi}} \\, t \\, {\\theta} }^{ \\, {\\phi} \\phantom{\\, t} \\phantom{\\, {\\theta}} } & = & -\\frac{2 \\, a r \\cos\\left({\\theta}\\right)}{{\\left(a^{4} \\cos\\left({\\theta}\\right)^{4} + 2 \\, a^{2} r^{2} \\cos\\left({\\theta}\\right)^{2} + r^{4}\\right)} \\sin\\left({\\theta}\\right)} \\\\ \\Gamma_{ \\phantom{\\, {\\phi}} \\, r \\, {\\phi} }^{ \\, {\\phi} \\phantom{\\, r} \\phantom{\\, {\\phi}} } & = & \\frac{r^{5} + {\\left(a^{4} r - a^{4}\\right)} \\cos\\left({\\theta}\\right)^{4} - a^{2} r^{2} - 2 \\, r^{4} + {\\left(2 \\, a^{2} r^{3} + a^{4} - a^{2} r^{2}\\right)} \\cos\\left({\\theta}\\right)^{2}}{a^{2} r^{4} + r^{6} - 2 \\, r^{5} + {\\left(a^{6} + a^{4} r^{2} - 2 \\, a^{4} r\\right)} \\cos\\left({\\theta}\\right)^{4} + 2 \\, {\\left(a^{4} r^{2} + a^{2} r^{4} - 2 \\, a^{2} r^{3}\\right)} \\cos\\left({\\theta}\\right)^{2}} \\\\ \\Gamma_{ \\phantom{\\, {\\phi}} \\, {\\theta} \\, {\\phi} }^{ \\, {\\phi} \\phantom{\\, {\\theta}} \\phantom{\\, {\\phi}} } & = & \\frac{a^{4} \\cos\\left({\\theta}\\right)^{5} + 2 \\, {\\left(a^{2} r^{2} - a^{2} r\\right)} \\cos\\left({\\theta}\\right)^{3} + {\\left(r^{4} + 2 \\, a^{2} r\\right)} \\cos\\left({\\theta}\\right)}{{\\left(a^{4} \\cos\\left({\\theta}\\right)^{4} + 2 \\, a^{2} r^{2} \\cos\\left({\\theta}\\right)^{2} + r^{4}\\right)} \\sin\\left({\\theta}\\right)} \\end{array}</script></html>"
      ],
      "text/plain": [
       "Gam^t_t,r = -(a^4 - r^4 - (a^4 + a^2*r^2)*sin(th)^2)/(a^2*r^4 + r^6 - 2*r^5 + (a^6 + a^4*r^2 - 2*a^4*r)*cos(th)^4 + 2*(a^4*r^2 + a^2*r^4 - 2*a^2*r^3)*cos(th)^2) \n",
       "Gam^t_t,th = -2*a^2*r*cos(th)*sin(th)/(a^4*cos(th)^4 + 2*a^2*r^2*cos(th)^2 + r^4) \n",
       "Gam^t_r,ph = -(a^3*r^2 + 3*a*r^4 - (a^5 - a^3*r^2)*cos(th)^2)*sin(th)^2/(a^2*r^4 + r^6 - 2*r^5 + (a^6 + a^4*r^2 - 2*a^4*r)*cos(th)^4 + 2*(a^4*r^2 + a^2*r^4 - 2*a^2*r^3)*cos(th)^2) \n",
       "Gam^t_th,ph = -2*(a^5*r*cos(th)*sin(th)^5 - (a^5*r + a^3*r^3)*cos(th)*sin(th)^3)/(a^6*cos(th)^6 + 3*a^4*r^2*cos(th)^4 + 3*a^2*r^4*cos(th)^2 + r^6) \n",
       "Gam^r_t,t = (a^2*r^2 + r^4 - 2*r^3 - (a^4 + a^2*r^2 - 2*a^2*r)*cos(th)^2)/(a^6*cos(th)^6 + 3*a^4*r^2*cos(th)^4 + 3*a^2*r^4*cos(th)^2 + r^6) \n",
       "Gam^r_t,ph = -(a^3*r^2 + a*r^4 - 2*a*r^3 - (a^5 + a^3*r^2 - 2*a^3*r)*cos(th)^2)*sin(th)^2/(a^6*cos(th)^6 + 3*a^4*r^2*cos(th)^4 + 3*a^2*r^4*cos(th)^2 + r^6) \n",
       "Gam^r_r,r = ((a^2*r - a^2)*sin(th)^2 + a^2 - r^2)/(a^2*r^2 + r^4 - 2*r^3 + (a^4 + a^2*r^2 - 2*a^2*r)*cos(th)^2) \n",
       "Gam^r_r,th = -a^2*cos(th)*sin(th)/(a^2*cos(th)^2 + r^2) \n",
       "Gam^r_th,th = -(a^2*r + r^3 - 2*r^2)/(a^2*cos(th)^2 + r^2) \n",
       "Gam^r_ph,ph = ((a^4*r^2 + a^2*r^4 - 2*a^2*r^3 - (a^6 + a^4*r^2 - 2*a^4*r)*cos(th)^2)*sin(th)^4 - (a^2*r^5 + r^7 - 2*r^6 + (a^6*r + a^4*r^3 - 2*a^4*r^2)*cos(th)^4 + 2*(a^4*r^3 + a^2*r^5 - 2*a^2*r^4)*cos(th)^2)*sin(th)^2)/(a^6*cos(th)^6 + 3*a^4*r^2*cos(th)^4 + 3*a^2*r^4*cos(th)^2 + r^6) \n",
       "Gam^th_t,t = -2*a^2*r*cos(th)*sin(th)/(a^6*cos(th)^6 + 3*a^4*r^2*cos(th)^4 + 3*a^2*r^4*cos(th)^2 + r^6) \n",
       "Gam^th_t,ph = 2*(a^3*r + a*r^3)*cos(th)*sin(th)/(a^6*cos(th)^6 + 3*a^4*r^2*cos(th)^4 + 3*a^2*r^4*cos(th)^2 + r^6) \n",
       "Gam^th_r,r = a^2*cos(th)*sin(th)/(a^2*r^2 + r^4 - 2*r^3 + (a^4 + a^2*r^2 - 2*a^2*r)*cos(th)^2) \n",
       "Gam^th_r,th = r/(a^2*cos(th)^2 + r^2) \n",
       "Gam^th_th,th = -a^2*cos(th)*sin(th)/(a^2*cos(th)^2 + r^2) \n",
       "Gam^th_ph,ph = -((a^6 + a^4*r^2 - 2*a^4*r)*cos(th)^5 + 2*(a^4*r^2 + a^2*r^4 - 2*a^2*r^3)*cos(th)^3 + (a^2*r^4 + r^6 + 2*a^4*r + 4*a^2*r^3)*cos(th))*sin(th)/(a^6*cos(th)^6 + 3*a^4*r^2*cos(th)^4 + 3*a^2*r^4*cos(th)^2 + r^6) \n",
       "Gam^ph_t,r = -(a^3*cos(th)^2 - a*r^2)/(a^2*r^4 + r^6 - 2*r^5 + (a^6 + a^4*r^2 - 2*a^4*r)*cos(th)^4 + 2*(a^4*r^2 + a^2*r^4 - 2*a^2*r^3)*cos(th)^2) \n",
       "Gam^ph_t,th = -2*a*r*cos(th)/((a^4*cos(th)^4 + 2*a^2*r^2*cos(th)^2 + r^4)*sin(th)) \n",
       "Gam^ph_r,ph = (r^5 + (a^4*r - a^4)*cos(th)^4 - a^2*r^2 - 2*r^4 + (2*a^2*r^3 + a^4 - a^2*r^2)*cos(th)^2)/(a^2*r^4 + r^6 - 2*r^5 + (a^6 + a^4*r^2 - 2*a^4*r)*cos(th)^4 + 2*(a^4*r^2 + a^2*r^4 - 2*a^2*r^3)*cos(th)^2) \n",
       "Gam^ph_th,ph = (a^4*cos(th)^5 + 2*(a^2*r^2 - a^2*r)*cos(th)^3 + (r^4 + 2*a^2*r)*cos(th))/((a^4*cos(th)^4 + 2*a^2*r^2*cos(th)^2 + r^4)*sin(th)) "
      ]
     },
     "execution_count": 11,
     "metadata": {},
     "output_type": "execute_result"
    }
   ],
   "source": [
    "g.christoffel_symbols_display()"
   ]
  },
  {
   "cell_type": "markdown",
   "metadata": {},
   "source": [
    "The Riemann curvature tensor is naturally returned by the method `riemann()`"
   ]
  },
  {
   "cell_type": "code",
   "execution_count": 12,
   "metadata": {},
   "outputs": [
    {
     "name": "stdout",
     "output_type": "stream",
     "text": [
      "Tensor field Riem(g) of type (1,3) on the Kerr spacetime M\n"
     ]
    }
   ],
   "source": [
    "Riem = g.riemann()\n",
    "print(Riem)"
   ]
  },
  {
   "cell_type": "markdown",
   "metadata": {},
   "source": [
    "The $R^t_{rtr}$ and $R^t_{r\\theta\\phi}$ components:"
   ]
  },
  {
   "cell_type": "code",
   "execution_count": 13,
   "metadata": {},
   "outputs": [
    {
     "data": {
      "text/html": [
       "<html><script type=\"math/tex; mode=display\">\\newcommand{\\Bold}[1]{\\mathbf{#1}}\\frac{3 \\, a^{4} r \\cos\\left({\\theta}\\right)^{4} + 3 \\, a^{2} r^{3} + 2 \\, r^{5} - {\\left(9 \\, a^{4} r + 7 \\, a^{2} r^{3}\\right)} \\cos\\left({\\theta}\\right)^{2}}{a^{2} r^{6} + r^{8} - 2 \\, r^{7} + {\\left(a^{8} + a^{6} r^{2} - 2 \\, a^{6} r\\right)} \\cos\\left({\\theta}\\right)^{6} + 3 \\, {\\left(a^{6} r^{2} + a^{4} r^{4} - 2 \\, a^{4} r^{3}\\right)} \\cos\\left({\\theta}\\right)^{4} + 3 \\, {\\left(a^{4} r^{4} + a^{2} r^{6} - 2 \\, a^{2} r^{5}\\right)} \\cos\\left({\\theta}\\right)^{2}}</script></html>"
      ],
      "text/plain": [
       "(3*a^4*r*cos(th)^4 + 3*a^2*r^3 + 2*r^5 - (9*a^4*r + 7*a^2*r^3)*cos(th)^2)/(a^2*r^6 + r^8 - 2*r^7 + (a^8 + a^6*r^2 - 2*a^6*r)*cos(th)^6 + 3*(a^6*r^2 + a^4*r^4 - 2*a^4*r^3)*cos(th)^4 + 3*(a^4*r^4 + a^2*r^6 - 2*a^2*r^5)*cos(th)^2)"
      ]
     },
     "execution_count": 13,
     "metadata": {},
     "output_type": "execute_result"
    }
   ],
   "source": [
    "Riem[0,1,0,1]"
   ]
  },
  {
   "cell_type": "code",
   "execution_count": 14,
   "metadata": {},
   "outputs": [
    {
     "data": {
      "text/html": [
       "<html><script type=\"math/tex; mode=display\">\\newcommand{\\Bold}[1]{\\mathbf{#1}}-\\frac{{\\left({\\left(a^{7} + a^{5} r^{2} - 2 \\, a^{5} r\\right)} \\cos\\left({\\theta}\\right)^{5} - {\\left(3 \\, a^{7} + 8 \\, a^{5} r^{2} + 5 \\, a^{3} r^{4} - 2 \\, a^{5} r - 6 \\, a^{3} r^{3}\\right)} \\cos\\left({\\theta}\\right)^{3} + 3 \\, {\\left(3 \\, a^{5} r^{2} + 5 \\, a^{3} r^{4} + 2 \\, a r^{6} - 2 \\, a^{3} r^{3}\\right)} \\cos\\left({\\theta}\\right)\\right)} \\sin\\left({\\theta}\\right)}{a^{2} r^{6} + r^{8} - 2 \\, r^{7} + {\\left(a^{8} + a^{6} r^{2} - 2 \\, a^{6} r\\right)} \\cos\\left({\\theta}\\right)^{6} + 3 \\, {\\left(a^{6} r^{2} + a^{4} r^{4} - 2 \\, a^{4} r^{3}\\right)} \\cos\\left({\\theta}\\right)^{4} + 3 \\, {\\left(a^{4} r^{4} + a^{2} r^{6} - 2 \\, a^{2} r^{5}\\right)} \\cos\\left({\\theta}\\right)^{2}}</script></html>"
      ],
      "text/plain": [
       "-((a^7 + a^5*r^2 - 2*a^5*r)*cos(th)^5 - (3*a^7 + 8*a^5*r^2 + 5*a^3*r^4 - 2*a^5*r - 6*a^3*r^3)*cos(th)^3 + 3*(3*a^5*r^2 + 5*a^3*r^4 + 2*a*r^6 - 2*a^3*r^3)*cos(th))*sin(th)/(a^2*r^6 + r^8 - 2*r^7 + (a^8 + a^6*r^2 - 2*a^6*r)*cos(th)^6 + 3*(a^6*r^2 + a^4*r^4 - 2*a^4*r^3)*cos(th)^4 + 3*(a^4*r^4 + a^2*r^6 - 2*a^2*r^5)*cos(th)^2)"
      ]
     },
     "execution_count": 14,
     "metadata": {},
     "output_type": "execute_result"
    }
   ],
   "source": [
    "Riem[0,1,2,3]"
   ]
  },
  {
   "cell_type": "markdown",
   "metadata": {},
   "source": [
    "Of course, since the Kerr metric is a solution of the **vacuum Einstein equation**, the Ricci tensor identically vanishes:"
   ]
  },
  {
   "cell_type": "code",
   "execution_count": 15,
   "metadata": {},
   "outputs": [
    {
     "data": {
      "text/html": [
       "<html><script type=\"math/tex; mode=display\">\\newcommand{\\Bold}[1]{\\mathbf{#1}}\\mathrm{Ric}\\left(g\\right) = 0</script></html>"
      ],
      "text/plain": [
       "Ric(g) = 0"
      ]
     },
     "execution_count": 15,
     "metadata": {},
     "output_type": "execute_result"
    }
   ],
   "source": [
    "g.ricci().display()"
   ]
  },
  {
   "cell_type": "markdown",
   "metadata": {},
   "source": [
    "## Bound timelike geodesic"
   ]
  },
  {
   "cell_type": "markdown",
   "metadata": {},
   "source": [
    "Let us choose the initial point $P$ for the geodesic:"
   ]
  },
  {
   "cell_type": "code",
   "execution_count": 16,
   "metadata": {},
   "outputs": [
    {
     "name": "stdout",
     "output_type": "stream",
     "text": [
      "Point P on the Kerr spacetime M\n"
     ]
    }
   ],
   "source": [
    "P = M.point((0, 6, pi/2, 0), name='P')\n",
    "print(P)"
   ]
  },
  {
   "cell_type": "markdown",
   "metadata": {},
   "source": [
    "A geodesic is constructed by providing the range $[\\lambda_{\\rm min},\\lambda_{\\rm max}]$ of the affine parameter $\\lambda$, the initial point and either \n",
    " - (i) the Boyer-Lindquist components $(p^t_0, p^r_0, p^\\theta_0, p^\\phi_0)$ of the initial 4-momentum vector\n",
    "   $p_0 = \\left. \\frac{\\mathrm{d}x}{\\mathrm{d}\\lambda}\\right| _{\\lambda_{\\rm min}}$,\n",
    " - (ii) the four integral of motions $(\\mu, E, L, Q)$\n",
    " - or (iii) some of the components of $p_0$ along with with some integrals of motion. \n",
    "We shall also specify some numerical value for the Kerr spin parameter $a$.\n",
    "\n",
    "Examples of (i) and (iii) are provided below. Here, we choose $\\lambda\\in[0, 300\\, m]$, the option (ii) and \n",
    "$a=0.998 \\,m$, where $m$ in the black hole mass::\n"
   ]
  },
  {
   "cell_type": "code",
   "execution_count": 17,
   "metadata": {},
   "outputs": [
    {
     "name": "stdout",
     "output_type": "stream",
     "text": [
      "Initial tangent vector: \n"
     ]
    },
    {
     "data": {
      "text/html": [
       "<html><script type=\"math/tex; mode=display\">\\newcommand{\\Bold}[1]{\\mathbf{#1}}p = 1.29225788954106 \\frac{\\partial}{\\partial t } + 0.00438084990626460 \\frac{\\partial}{\\partial r } + 0.0189826106258554 \\frac{\\partial}{\\partial {\\theta} } + 0.0646134478134985 \\frac{\\partial}{\\partial {\\phi} }</script></html>"
      ],
      "text/plain": [
       "p = 1.29225788954106 d/dt + 0.00438084990626460 d/dr + 0.0189826106258554 d/dth + 0.0646134478134985 d/dph"
      ]
     },
     "metadata": {},
     "output_type": "display_data"
    },
    {
     "name": "stdout",
     "output_type": "stream",
     "text": [
      "The curve was correctly set.\n",
      "Parameters appearing in the differential system defining the curve are [a].\n"
     ]
    }
   ],
   "source": [
    "Li = M.geodesic([0, 300], P, mu=1, E=0.883, L=1.982, Q=0.467, a_num=0.998,\n",
    "                name='Li', latex_name=r'\\mathcal{L}', verbose=True)"
   ]
  },
  {
   "cell_type": "code",
   "execution_count": 18,
   "metadata": {},
   "outputs": [
    {
     "name": "stdout",
     "output_type": "stream",
     "text": [
      "Geodesic Li of the Kerr spacetime M\n"
     ]
    }
   ],
   "source": [
    "print(Li)"
   ]
  },
  {
   "cell_type": "markdown",
   "metadata": {},
   "source": [
    "The numerical integration of the geodesic equation is performed via `integrate()`, by providing the integration step $\\delta\\lambda$ in units of $m$:"
   ]
  },
  {
   "cell_type": "code",
   "execution_count": 19,
   "metadata": {},
   "outputs": [],
   "source": [
    "Li.integrate(step=0.005)"
   ]
  },
  {
   "cell_type": "markdown",
   "metadata": {},
   "source": [
    "We can then plot the geodesic:"
   ]
  },
  {
   "cell_type": "code",
   "execution_count": 20,
   "metadata": {},
   "outputs": [
    {
     "data": {
      "text/html": [
       "\n",
       "<iframe srcdoc=\"<!DOCTYPE html>\n",
       "<html>\n",
       "<head>\n",
       "<title></title>\n",
       "<meta charset=&quot;utf-8&quot;>\n",
       "<meta name=viewport content=&quot;width=device-width, user-scalable=no, minimum-scale=1.0, maximum-scale=1.0&quot;>\n",
       "<style>\n",
       "\n",
       "    body { margin: 0px; overflow: hidden; }\n",
       "\n",
       "    #menu-container { position: absolute; bottom: 30px; right: 40px; cursor: default; }\n",
       "\n",
       "    #menu-message { position: absolute; bottom: 0px; right: 0px; white-space: nowrap;\n",
       "                    display: none; background-color: #F5F5F5; padding: 10px; }\n",
       "\n",
       "    #menu-content { position: absolute; bottom: 0px; right: 0px;\n",
       "                    display: none; background-color: #F5F5F5; border-bottom: 1px solid black;\n",
       "                    border-right: 1px solid black; border-left: 1px solid black; }\n",
       "\n",
       "    #menu-content div { border-top: 1px solid black; padding: 10px; white-space: nowrap; }\n",
       "\n",
       "    #menu-content div:hover { background-color: #FEFEFE;; }\n",
       "  \n",
       "</style>\n",
       "</head>\n",
       "\n",
       "<body>\n",
       "\n",
       "<script src=&quot;/nbextensions/threejs/build/three.min.js&quot;></script>\n",
       "<script src=&quot;/nbextensions/threejs/examples/js/controls/OrbitControls.js&quot;></script>\n",
       "<script>\n",
       "  if ( !window.THREE ) document.write(' \\\n",
       "<script src=&quot;https://cdn.jsdelivr.net/gh/mrdoob/three.js@r110/build/three.min.js&quot;><\\/script> \\\n",
       "<script src=&quot;https://cdn.jsdelivr.net/gh/mrdoob/three.js@r110/examples/js/controls/OrbitControls.js&quot;><\\/script> \\\n",
       "            ');\n",
       "</script>\n",
       "        \n",
       "<script>\n",
       "\n",
       "    var scene = new THREE.Scene();\n",
       "\n",
       "    var renderer = new THREE.WebGLRenderer( { antialias: true, preserveDrawingBuffer: true } );\n",
       "    renderer.setPixelRatio( window.devicePixelRatio );\n",
       "    renderer.setSize( window.innerWidth, window.innerHeight );\n",
       "    renderer.setClearColor( 0xffffff, 1 );\n",
       "    document.body.appendChild( renderer.domElement );\n",
       "\n",
       "    var options = {&quot;aspectRatio&quot;: [1.0, 1.0, 1.0], &quot;axes&quot;: false, &quot;axesLabels&quot;: [&quot;x&quot;, &quot;y&quot;, &quot;z&quot;], &quot;decimals&quot;: 2, &quot;frame&quot;: true, &quot;projection&quot;: &quot;perspective&quot;};\n",
       "\n",
       "    // When animations are supported by the viewer, the value 'false'\n",
       "    // will be replaced with an option set in Python by the user\n",
       "    var animate = false; // options.animate;\n",
       "\n",
       "    var b = [{&quot;x&quot;:-5.688341303035549, &quot;y&quot;:-5.805055430675176, &quot;z&quot;:-1.4843350218245968}, {&quot;x&quot;:6.0, &quot;y&quot;:5.912337946916549, &quot;z&quot;:1.909405355958283}]; // bounds\n",
       "\n",
       "    if ( b[0].x === b[1].x ) {\n",
       "        b[0].x -= 1;\n",
       "        b[1].x += 1;\n",
       "    }\n",
       "    if ( b[0].y === b[1].y ) {\n",
       "        b[0].y -= 1;\n",
       "        b[1].y += 1;\n",
       "    }\n",
       "    if ( b[0].z === b[1].z ) {\n",
       "        b[0].z -= 1;\n",
       "        b[1].z += 1;\n",
       "    }\n",
       "\n",
       "    var rRange = Math.sqrt( Math.pow( b[1].x - b[0].x, 2 )\n",
       "                            + Math.pow( b[1].y - b[0].y, 2 ) );\n",
       "    var xRange = b[1].x - b[0].x;\n",
       "    var yRange = b[1].y - b[0].y;\n",
       "    var zRange = b[1].z - b[0].z;\n",
       "\n",
       "    var ar = options.aspectRatio;\n",
       "    var a = [ ar[0], ar[1], ar[2] ]; // aspect multipliers\n",
       "    var autoAspect = 2.5;\n",
       "    if ( zRange > autoAspect * rRange && a[2] === 1 ) a[2] = autoAspect * rRange / zRange;\n",
       "\n",
       "    // Distance from (xMid,yMid,zMid) to any corner of the bounding box, after applying aspectRatio\n",
       "    var midToCorner = Math.sqrt( a[0]*a[0]*xRange*xRange + a[1]*a[1]*yRange*yRange + a[2]*a[2]*zRange*zRange ) / 2;\n",
       "\n",
       "    var xMid = ( b[0].x + b[1].x ) / 2;\n",
       "    var yMid = ( b[0].y + b[1].y ) / 2;\n",
       "    var zMid = ( b[0].z + b[1].z ) / 2;\n",
       "\n",
       "    var box = new THREE.Geometry();\n",
       "    box.vertices.push( new THREE.Vector3( a[0]*b[0].x, a[1]*b[0].y, a[2]*b[0].z ) );\n",
       "    box.vertices.push( new THREE.Vector3( a[0]*b[1].x, a[1]*b[1].y, a[2]*b[1].z ) );\n",
       "    var boxMesh = new THREE.Line( box );\n",
       "    if ( options.frame ) scene.add( new THREE.BoxHelper( boxMesh, 'black' ) );\n",
       "\n",
       "    if ( options.axesLabels ) {\n",
       "\n",
       "        var d = options.decimals; // decimals\n",
       "        var offsetRatio = 0.1;\n",
       "        var al = options.axesLabels;\n",
       "\n",
       "        var offset = offsetRatio * a[1]*( b[1].y - b[0].y );\n",
       "        var xm = xMid.toFixed(d);\n",
       "        if ( /^-0.?0*$/.test(xm) ) xm = xm.substr(1);\n",
       "        addLabel( al[0] + '=' + xm, a[0]*xMid, a[1]*b[1].y+offset, a[2]*b[0].z );\n",
       "        addLabel( ( b[0].x ).toFixed(d), a[0]*b[0].x, a[1]*b[1].y+offset, a[2]*b[0].z );\n",
       "        addLabel( ( b[1].x ).toFixed(d), a[0]*b[1].x, a[1]*b[1].y+offset, a[2]*b[0].z );\n",
       "\n",
       "        var offset = offsetRatio * a[0]*( b[1].x - b[0].x );\n",
       "        var ym = yMid.toFixed(d);\n",
       "        if ( /^-0.?0*$/.test(ym) ) ym = ym.substr(1);\n",
       "        addLabel( al[1] + '=' + ym, a[0]*b[1].x+offset, a[1]*yMid, a[2]*b[0].z );\n",
       "        addLabel( ( b[0].y ).toFixed(d), a[0]*b[1].x+offset, a[1]*b[0].y, a[2]*b[0].z );\n",
       "        addLabel( ( b[1].y ).toFixed(d), a[0]*b[1].x+offset, a[1]*b[1].y, a[2]*b[0].z );\n",
       "\n",
       "        var offset = offsetRatio * a[1]*( b[1].y - b[0].y );\n",
       "        var zm = zMid.toFixed(d);\n",
       "        if ( /^-0.?0*$/.test(zm) ) zm = zm.substr(1);\n",
       "        addLabel( al[2] + '=' + zm, a[0]*b[1].x, a[1]*b[0].y-offset, a[2]*zMid );\n",
       "        addLabel( ( b[0].z ).toFixed(d), a[0]*b[1].x, a[1]*b[0].y-offset, a[2]*b[0].z );\n",
       "        addLabel( ( b[1].z ).toFixed(d), a[0]*b[1].x, a[1]*b[0].y-offset, a[2]*b[1].z );\n",
       "\n",
       "    }\n",
       "\n",
       "    function addLabel( text, x, y, z, color='black', fontsize=14  ) {\n",
       "\n",
       "        var canvas = document.createElement( 'canvas' );\n",
       "        var pixelRatio = Math.round( window.devicePixelRatio );\n",
       "        canvas.width = 128 * pixelRatio;\n",
       "        canvas.height = 32 * pixelRatio; // powers of two\n",
       "        canvas.style.width = '128px';\n",
       "        canvas.style.height = '32px';\n",
       "\n",
       "        var context = canvas.getContext( '2d' );\n",
       "        context.scale( pixelRatio, pixelRatio );\n",
       "        context.fillStyle = color;\n",
       "        context.font = fontsize + 'px monospace';\n",
       "        context.textAlign = 'center';\n",
       "        context.textBaseline = 'middle';\n",
       "        context.fillText( text, canvas.width/2/pixelRatio, canvas.height/2/pixelRatio );\n",
       "\n",
       "        var texture = new THREE.Texture( canvas );\n",
       "        texture.needsUpdate = true;\n",
       "\n",
       "        var sprite = new THREE.Sprite( new THREE.SpriteMaterial( { map: texture } ) );\n",
       "        sprite.position.set( x, y, z );\n",
       "\n",
       "        // Set the initial scale based on plot size to accomodate orthographic projection.\n",
       "        // For other projections, the scale will get reset each frame based on camera distance.\n",
       "        var scale = midToCorner/2;\n",
       "        sprite.scale.set( scale, scale*.25, 1 ); // ratio of canvas width to height\n",
       "\n",
       "        scene.add( sprite );\n",
       "\n",
       "    }\n",
       "\n",
       "    if ( options.axes ) scene.add( new THREE.AxesHelper( Math.min( a[0]*b[1].x, a[1]*b[1].y, a[2]*b[1].z ) ) );\n",
       "\n",
       "    var camera = createCamera();\n",
       "    camera.up.set( 0, 0, 1 );\n",
       "    camera.position.set( a[0]*(xMid+xRange), a[1]*(yMid+yRange), a[2]*(zMid+zRange) );\n",
       "\n",
       "    function createCamera() {\n",
       "\n",
       "        var aspect = window.innerWidth / window.innerHeight;\n",
       "\n",
       "        if ( options.projection === 'orthographic' ) {\n",
       "            var camera = new THREE.OrthographicCamera( -1, 1, 1, -1, -1000, 1000 );\n",
       "            updateCameraAspect( camera, aspect );\n",
       "            return camera;\n",
       "        }\n",
       "\n",
       "        return new THREE.PerspectiveCamera( 45, aspect, 0.1, 1000 );\n",
       "\n",
       "    }\n",
       "\n",
       "    function updateCameraAspect( camera, aspect ) {\n",
       "\n",
       "        if ( camera.isPerspectiveCamera ) {\n",
       "            camera.aspect = aspect;\n",
       "        } else if ( camera.isOrthographicCamera ) {\n",
       "            // Fit the camera frustum to the bounding box's diagonal so that the entire plot fits\n",
       "            // within at the default zoom level and camera position.\n",
       "            if ( aspect > 1 ) { // Wide window\n",
       "                camera.top = midToCorner;\n",
       "                camera.right = midToCorner * aspect;\n",
       "            } else { // Tall or square window\n",
       "                camera.top = midToCorner / aspect;\n",
       "                camera.right = midToCorner;\n",
       "            }\n",
       "            camera.bottom = -camera.top;\n",
       "            camera.left = -camera.right;\n",
       "        }\n",
       "\n",
       "        camera.updateProjectionMatrix();\n",
       "\n",
       "    }\n",
       "\n",
       "    var lights = [{&quot;x&quot;:-5, &quot;y&quot;:3, &quot;z&quot;:0, &quot;color&quot;:&quot;#7f7f7f&quot;, &quot;parent&quot;:&quot;camera&quot;}];\n",
       "    for ( var i=0 ; i < lights.length ; i++ ) {\n",
       "        var light = new THREE.DirectionalLight( lights[i].color, 1 );\n",
       "        light.position.set( a[0]*lights[i].x, a[1]*lights[i].y, a[2]*lights[i].z );\n",
       "        if ( lights[i].parent === 'camera' ) {\n",
       "            light.target.position.set( a[0]*xMid, a[1]*yMid, a[2]*zMid );\n",
       "            scene.add( light.target );\n",
       "            camera.add( light );\n",
       "        } else scene.add( light );\n",
       "    }\n",
       "    scene.add( camera );\n",
       "\n",
       "    var ambient = {&quot;color&quot;:&quot;#7f7f7f&quot;};\n",
       "    scene.add( new THREE.AmbientLight( ambient.color, 1 ) );\n",
       "\n",
       "    var controls = new THREE.OrbitControls( camera, renderer.domElement );\n",
       "    controls.target.set( a[0]*xMid, a[1]*yMid, a[2]*zMid );\n",
       "    controls.addEventListener( 'change', function() { if ( !animate ) render(); } );\n",
       "\n",
       "    window.addEventListener( 'resize', function() {\n",
       "        \n",
       "        renderer.setSize( window.innerWidth, window.innerHeight );\n",
       "        updateCameraAspect( camera, window.innerWidth / window.innerHeight );\n",
       "        if ( !animate ) render();\n",
       "        \n",
       "    } );\n",
       "\n",
       "    var texts = [];\n",
       "    for ( var i=0 ; i < texts.length ; i++ )\n",
       "        addLabel( texts[i].text, a[0]*texts[i].x, a[1]*texts[i].y, a[2]*texts[i].z, texts[i].color );\n",
       "\n",
       "    var points = [];\n",
       "    for ( var i=0 ; i < points.length ; i++ ) addPoint( points[i] );\n",
       "\n",
       "    function addPoint( json ) {\n",
       "\n",
       "        var geometry = new THREE.Geometry();\n",
       "        var v = json.point;\n",
       "        geometry.vertices.push( new THREE.Vector3( a[0]*v[0], a[1]*v[1], a[2]*v[2] ) );\n",
       "\n",
       "        var canvas = document.createElement( 'canvas' );\n",
       "        canvas.width = 128;\n",
       "        canvas.height = 128;\n",
       "\n",
       "        var context = canvas.getContext( '2d' );\n",
       "        context.arc( 64, 64, 64, 0, 2 * Math.PI );\n",
       "        context.fillStyle = json.color;\n",
       "        context.fill();\n",
       "\n",
       "        var texture = new THREE.Texture( canvas );\n",
       "        texture.needsUpdate = true;\n",
       "\n",
       "        var transparent = json.opacity < 1 ? true : false;\n",
       "        var size = camera.isOrthographicCamera ? json.size : json.size/100;\n",
       "        var material = new THREE.PointsMaterial( { size: size, map: texture,\n",
       "                                                   transparent: transparent, opacity: json.opacity,\n",
       "                                                   alphaTest: .1 } );\n",
       "\n",
       "        var c = new THREE.Vector3();\n",
       "        geometry.computeBoundingBox();\n",
       "        geometry.boundingBox.getCenter( c );\n",
       "        geometry.translate( -c.x, -c.y, -c.z );\n",
       "\n",
       "        var mesh = new THREE.Points( geometry, material );\n",
       "        mesh.position.set( c.x, c.y, c.z );\n",
       "        scene.add( mesh );\n",
       "\n",
       "    }\n",
       "\n",
       "    var lines = [{&quot;points&quot;: [[6.0, 0.0, 3.6739403974420594e-16], [5.999629945101916, 0.1164078086394673, -0.03420018996671642], [5.995889952772937, 0.23274757154770795, -0.06838411204928307], [5.98878196821265, 0.3489556868982546, -0.10253550366353682], [5.97830790529291, 0.46496851344969425, -0.13663809335395372], [5.964469650436713, 0.5807222991547678, -0.17067558479214856], [5.947269068386355, 0.696153107796176, -0.2046316410751297], [5.926708009105574, 0.8111967515617058, -0.23848986768949101], [5.902788317395783, 0.9257887130401143, -0.27223379730432173], [5.875511843620223, 1.0398640744839798, -0.3058468728383242], [5.844880456622202, 1.1533574429200322, -0.33931243093834246], [5.810896058600079, 1.2662028745396738, -0.37261368510752074], [5.773560602170414, 1.3783337969877039, -0.4057337088729581], [5.732876109545954, 1.489682931302604, -0.4386554181056656], [5.688844694129207, 1.600182211214148, -0.4713615533332165], [5.6414685847030945, 1.7097627001453606, -0.5038346617654546], [5.5907501522458185, 1.8183545064778641, -0.5360570786506267], [5.536691939602485, 1.9258866964446106, -0.5680109080744287], [5.4792966944876875, 2.0322872032996364, -0.5996780036472826], [5.418567405829089, 2.137482733859282, -0.6310399484469623], [5.354507343501691, 2.241398672727777, -0.6620780338642662], [5.287120102464372, 2.3439589813045996, -0.6927732384992967], [5.216409651419879, 2.4450860925981437, -0.7231062064992113], [5.142380385055378, 2.5447008053849327, -0.7530572233687439], [5.065037183069801, 2.642722168665683, -0.7826061933812342], [4.984385473897959, 2.7390673644581383, -0.8117326145340965], [4.900431304916619, 2.833651584413149, -0.8404155529323512], [4.813181419545057, 2.926387900566005, -0.8686336162043337], [4.722643341856944, 3.017187129998318, -0.8963649257920188], [4.628825469484362, 3.1059576929433783, -0.9235870880418002], [4.531737175609527, 3.1926054638976984, -0.9502771639967367], [4.4313889213186695, 3.2770336146648895, -0.9764116381396956], [4.327792378096852, 3.3591424512202033, -1.0019663846392026], [4.220960564546682, 3.4388292382573984, -1.0269166341661495], [4.110907995165938, 3.515988017780795, -1.0512369372941754], [3.997650844880707, 3.590509416673824, -1.0749011268974755], [3.881207130382016, 3.6622804438853622, -1.0978822787367521], [3.761596910076379, 3.7311842766142616, -1.1201526700650766], [3.638842504939701, 3.7971000346840182, -1.141683736307527], [3.5129687425030443, 3.8599025425095115, -1.1624460255981446], [3.384003227085403, 3.919462077323039, -1.1824091516916426], [3.251976638082195, 3.975644104926624, -1.201541743271576], [3.116923061005434, 4.0283090000166695, -1.2198113917201947], [2.97888035508132, 4.077311750839183, -1.2371845967056352], [2.8378905605383524, 4.122501649097851, -1.253626708274979], [2.6940003519661233, 4.163721962605946, -1.2691018670168515], [2.547261542172391, 4.2008095919088335, -1.2835729406197907], [2.3977316438174783, 4.233594709135015, -1.2970014582916702], [2.245474495263915, 4.261900380112971, -1.3093475416093823], [2.090560959551773, 4.285542169014608, -1.3205698329215723], [1.9330697053971977, 4.304327726623307, -1.3306254205014538], [1.773088080909919, 4.318056363065842, -1.3394697606658454], [1.6107130927546336, 4.326518606039578, -1.347056597568948], [1.446052503658617, 4.329495747902708, -1.3533378795643112], [1.279226065392061, 4.3267593836714555, -1.3582636739079452], [1.1103669045987605, 4.31807094544003, -1.361782078938351], [0.9396230822361898, 4.303181239167002, -1.3638391347183465], [0.7671593518681701, 4.281829991453503, -1.3643787331520876], [0.5931591416239449, 4.253745418456779, -1.3633425274914601], [0.4178267941378844, 4.218643829619427, -1.3606698436236895], [0.24139009848035103, 4.176229285866442, -1.3562975934231163], [0.06410315420811316, 4.126193335718572, -1.350160193069522], [-0.11375038367050379, 4.068214859519026, -1.3421894883249499], [-0.29185362425938705, 4.001960061634428, -1.3323146896855662], [-0.46985227048538974, 3.927082661553053, -1.32046232170918], [-0.647349883063467, 3.8432243469163083, -1.3065561917077195], [-0.8239025062449862, 3.750015571961491, -1.290517383167748], [-0.9990125691132355, 3.6470768058180933, -1.2722642832293092], [-1.172121965866518, 3.534020363907539, -1.2517126529602702], [-1.3426042145880204, 3.410452993114534, -1.2287757539290736], [-1.509755584661094, 3.275979425935254, -1.2033645471629455], [-1.6727850794942256, 3.1302071796994952, -1.1753879834452539], [-1.8308031681901706, 2.972752947858527, -1.1447534121209477], [-1.9828091677927004, 2.803251025918176, -1.1113671391651898], [-2.127677209375563, 2.621364329269332, -1.075135175690023], [-2.264140771703971, 2.426798705679864, -1.0359642278297423], [-2.390775854189132, 2.2193214232347267, -0.993762992266187], [-2.505983001693679, 1.9987849308233308, -0.9484438385176689], [-2.6079686117493917, 1.7651572463378347, -0.8999249786472727], [-2.6947262851640237, 1.5185606244620142, -0.8481332509256068], [-2.7640194694266604, 1.2593204842594967, -0.7930076726442019], [-2.813367354769946, 0.9880269090965974, -0.7345039520489326], [-2.8400369949967303, 0.705611317336446, -0.6726001868863123], [-2.841046036677476, 0.41344104658222514, -0.6073040176432779], [-2.813182362353854, 0.1134344254060778, -0.5386615319569461], [-2.7530494714124276, -0.1918018317019722, -0.4667682442869368], [-2.657149588154803, -0.49881281414230055, -0.3917824515478102], [-2.5220201694143087, -0.8031164253890766, -0.3139411983317002], [-2.344443281689165, -1.0990141812767842, -0.2335789098266368], [-2.12175026911914, -1.3794098170698506, -0.15114843274659046], [-1.852244460987465, -1.6356669186668094, -0.06724370738908883], [-1.535759491586153, -1.8575543246416508, 0.017377460317155178], [-1.1743561363569255, -2.0333485164212366, 0.10177302800993608], [-0.7731319892453001, -2.150181414723359, 0.18480230956012106], [-0.3410728377839398, -2.1947317212575532, 0.26512196191927245], [0.10818602386145817, -2.1543460794256615, 0.3411970198228729], [0.555885760382231, -2.018629723016277, 0.4113307060872609], [0.9782040937237663, -1.781457271389052, 0.4737143847197456], [1.347103093376645, -1.4432290768433542, 0.5264955249205653], [1.6321595448811947, -1.0130615001623269, 0.5678579963100178], [1.8034444283809388, -0.5104874087593089, 0.5961070358136037], [1.8353387200122468, 0.03381163203099803, 0.6097521814653423], [1.7109720597565423, 0.5787054735272065, 0.6075855112897539], [1.4267662946661652, 1.0751337337997406, 0.5887581671502478], [0.9963509708302067, 1.4706836736459055, 0.5528625792644777], [0.4528850221050492, 1.7162110219555882, 0.5000277378019852], [-0.1513759778181181, 1.7740209026734874, 0.43102741877170475], [-0.7493903469474685, 1.6263798261953861, 0.34738542004992407], [-1.2680433111591227, 1.282228117592913, 0.2514410332129992], [-1.6403817580905469, 0.7794098235517501, 0.14632312403135486], [-1.8185699628348522, 0.1803258063806602, 0.03578914252996531], [-1.7834462010609362, -0.4389352033966112, -0.07607367533258338], [-1.5471821879256318, -1.0030352121028734, -0.18522781438404598], [-1.1482723998288757, -1.4506944785436626, -0.28804777516962343], [-0.6412698916679137, -1.7429184160503723, -0.38157612228323445], [-0.08526465344849911, -1.8648278849841582, -0.4636352194548518], [0.4655395592243253, -1.8223702048589614, -0.5328123534024922], [0.9676133521066533, -1.636370310632541, -0.5883659290502445], [1.390363636243016, -1.3361560428474628, -0.6301007647509517], [1.7158218546514232, -0.9541231583790134, -0.6582449276157123], [1.9368471980181916, -0.5217670299941153, -0.6733432507322722], [2.0547115798083477, -0.06717199844654598, -0.6761706693934371], [2.0766306305849453, 0.3862960328914857, -0.6676626677623684], [2.013552662889321, 0.8204102730590381, -0.6488586409170303], [1.8783452535059064, 1.2219086085388837, -0.6208547239860152], [1.6844137557045809, 1.581961282278807, -0.584764060056616], [1.4447262905220457, 1.895460294240679, -0.5416836950407491], [1.1711887401800691, 2.160258499240602, -0.4926679631709815], [0.8743003832487821, 2.3764429818482014, -0.4387083720056925], [0.5630196791378452, 2.54569237186263, -0.3807197925399408], [0.2447760392458105, 2.6707411388593085, -0.3195324250466961], [-0.0744260935952509, 2.7549550792240676, -0.2558887111250243], [-0.3898525322453082, 2.802010258778963, -0.19044418607943087], [-0.6978640761609779, 2.8156612809788744, -0.12377122981885183], [-0.995740746392846, 2.799582420898804, -0.056364752291436976], [-1.2815176614924448, 2.757265480189253, 0.011351002849038432], [-1.553838884528381, 2.6919600084641147, 0.07901517621763943], [-1.8118316167193225, 2.6066439521987332, 0.1463230000659454], [-2.0550006269382424, 2.5040152864705743, 0.21301881083436527], [-2.2831413952120134, 2.386497454066533, 0.2788895607122116], [-2.496269772077492, 2.256253347406535, 0.3437589298811623], [-2.69456574861072, 2.115204093338629, 0.40748207565415673], [-2.878329000560194, 1.9650500692702528, 0.46994101091051294], [-3.0479440841587224, 1.8072924445937784, 0.53104057770614], [-3.2038534353684365, 1.6432541668385372, 0.5907049662372837], [-3.3465366106811625, 1.474099749384533, 0.6488747234963659], [-3.476494476319556, 1.3008535183832055, 0.7055041942021598], [-3.5942372921524193, 1.1244161757035414, 0.7605593390677396], [-3.70027584161803, 0.9455796629123495, 0.81401587971154], [-3.795114930432472, 0.7650403899156295, 0.8658577240510391], [-3.8792487174094776, 0.5834109362886961, 0.916075631626766], [-3.9531574546170773, 0.40123035551918557, 0.9646660833654432], [-4.0173053052673104, 0.2189732199575829, 1.0116303251292014], [-4.072138980453211, 0.0370575424839628, 1.0569735584178834], [-4.118086993031844, -0.14414829566702378, 1.1007042561658493], [-4.1555593724085975, -0.3243194918161347, 1.1428335839652062], [-4.184947719188632, -0.5031695350871365, 1.1833749108210907], [-4.206625506527397, -0.6804455891967278, 1.222343395537949], [-4.220948556594698, -0.855924458919606, 1.2597556371523442], [-4.228255637434178, -1.0294090646541256, 1.2956293796091916], [-4.228869138553863, -1.2007253592715343, 1.3299832621891532], [-4.223095793868882, -1.3697196286836062, 1.3628366092846986], [-4.2112274283408535, -1.536256127094617, 1.3942092527872494], [-4.193541710819504, -1.7002150025561442, 1.4241213827658552], [-4.170302900321008, -1.8614904755578259, 1.4525934218091243], [-4.141762576472048, -2.0199892377062416, 1.4796459196785527], [-4.1081603477389, -2.1756290422763733, 1.5052994651616507], [-4.069724533088326, -2.3283374621126818, 1.5295746125747103], [-4.02667281434745, -2.4780507936561023, 1.5524918207380973], [-3.9792128577753587, -2.624713088661144, 1.5740714025876352], [-3.927542904138094, -2.7682752977857032, 1.594333483813052], [-3.8718523274482344, -2.908694512019825, 1.6132979692485832], [-3.812322162784118, -3.045933290119505, 1.6309845158141156], [-3.7491256041154983, -3.1799590614831446, 1.647412511079728], [-3.6824284732121115, -3.310743595437899, 1.6626010566012794], [-3.6123896608940953, -3.4382625289889255, 1.676568955329897], [-3.539161541969523, -3.5624949461333233, 1.689334702487212], [-3.462890365249338, -3.683423002704575, 1.7009164793895277], [-3.3837166200407034, -3.8010315914714776, 1.7113321497789267], [-3.3017753805095733, -3.91530804287409, 1.720599258281836], [-3.217196629283832, -4.026241857337039, 1.7287350306716724], [-3.130105561469682, -4.133824465701628, 1.73575637566527], [-3.040622870711231, -4.238049014406887, 1.7416798879862492], [-2.948865017997788, -4.338910173007451, 1.7465218525395858], [-2.85494448476819, -4.436403961339673, 1.7502982494700767], [-2.7589700111121296, -4.530527594369772, 1.7530247600040347], [-2.661046820168796, -4.621279342788568, 1.754716772940067], [-2.5612768298073876, -4.708658407625137, 1.75538939163858], [-2.4597588523572322, -4.79266480747731, 1.75505744145033], [-2.3565887830555927, -4.8732992770986385, 1.753735477563334], [-2.251859778994794, -4.950563175893597, 1.751437792884753], [-2.1456624269132645, -5.024458405990551, 1.7481784266659572], [-2.0380849037964506, -5.094987338025338, 1.7439711727708858], [-1.9292131281681237, -5.162152744621886, 1.738829588453969], [-1.8191309040664896, -5.225957740458515, 1.7327670031434343], [-1.7079200582565897, -5.286405728318456, 1.7257965272020233], [-1.595660570169641, -5.343500350704959, 1.7179310610308256], [-1.482430696452402, -5.397245446325941, 1.7091833039811886], [-1.368307089742695, -5.447645011115325, 1.699565763369828], [-1.2533649118726433, -5.49470316337315, 1.6890907636942178], [-1.1376779427658263, -5.538424112607961, 1.6777704557014022], [-1.0213186853543228, -5.578812131815035, 1.6656168253221246], [-0.9043584649755505, -5.615871532926892, 1.6526417032320209], [-0.7868675268606932, -5.649606645108248, 1.6388567737333393], [-0.668915128703202, -5.680021795728744, 1.6242735843020497], [-0.5505696318384531, -5.70712129384432, 1.6089035544974208], [-0.4318985876342658, -5.730909415906948, 1.5927579857309726], [-0.31296882344929833, -5.751390393718936, 1.575848070266065], [-0.1938465245315757, -5.768568404284573, 1.5581849010184081], [-0.07459731534311767, -5.782447561698148, 1.539779480865895], [0.04471366184841028, -5.793031910748965, 1.5206427324510021], [0.16402166940461263, -5.800325422306507, 1.500785507890338], [0.2832622981217578, -5.80433199037279, 1.4802185986557235], [0.40237139266632677, -5.805055430675176, 1.4589527457761995], [0.5212849761508878, -5.802499481130861, 1.43699864961972], [0.6399391780642945, -5.79666780343894, 1.4143669807717165], [0.7582701607384406, -5.787563986504327, 1.3910683904992598], [0.8762140462162572, -5.775191551478192, 1.3671135214375534], [0.9937068445439582, -5.75955395803977, 1.3425130190083723], [1.1106843794345291, -5.7406546128640565, 1.3172775423506091], [1.2270822173500977, -5.718496878845751, 1.2914177766593453], [1.3428355914230103, -5.693084087156153, 1.2649444445780165], [1.4578793296969694, -5.664419549800821, 1.2378683192877777], [1.5721477775257031, -5.632506575310886, 1.21020023680661], [1.685574723408264, -5.597348485159779, 1.1819511097922328], [1.798093319718998, -5.558948633288734, 1.1531319410179273], [1.909636004654363, -5.517310427045322, 1.1237538379494565], [2.020134421069686, -5.472437350832239, 1.0938280276570351], [2.129519332558279, -5.4243329926389725, 1.063365872183332], [2.237720541396839, -5.373001071714182, 1.0323788854186626], [2.3446667985021272, -5.318445471183484, 1.0008787496313354], [2.4502857134879177, -5.260670272904346, 0.96887733335542], [2.55450366307317, -5.199679795123802, 0.9363867104228658], [2.657245693992069, -5.135478634800819, 0.9034191794780382], [2.758435423433364, -5.068071713565907, 0.8699872847337692], [2.85799493578694, -4.997464328023381, 0.8361038378656933], [2.9558446752145233, -4.923662204978225, 0.8017819410784274], [3.0519033336779513, -4.846671561997036, 0.7670350114516015], [3.146087734529483, -4.766499173595781, 0.7318768067623551], [3.2383127109972096, -4.6831524438218315, 0.6963214528260144], [3.328490978853799, -4.596639486056457, 0.6603834723924255], [3.416533004015916, -4.5069692100399905, 0.6240778160132096], [3.5023468634435093, -4.414151417661641, 0.5874198947331861], [3.585838099217781, -4.318196908264044, 0.5504256147941226], [3.6669095664231497, -4.219117593628285, 0.5131114148658147], [3.7454612727121335, -4.116926624945647, 0.475494305495754], [3.821390210019866, -4.0116385323626504, 0.4375919112130269], [3.8945901786715016, -3.903269377766414, 0.39942251583177546], [3.96495160141848, -3.791836924017582, 0.36100511045973704], [4.032361328628418, -3.6773608209122273, 0.32235944506067554], [4.0967024341303, -3.5598628096185436, 0.2835060839832908], [4.1578539993240335, -3.4393669496288726, 0.2444664648634193], [4.215690887535097, -3.315899868220107, 0.20526296232721308], [4.270083506999089, -3.1894910361250424, 0.16591895647056287], [4.320897560819277, -3.0601730739831443, 0.12645890567729348], [4.367993786560952, -2.927982089458393, 0.08690842597444978], [4.411227682352582, -2.792958052050648, 0.04729437588556147], [4.450449219645533, -2.6551452098358146, 0.007644947165246366], [4.485502545434796, -2.514592548993553, -0.03201023574617879], [4.51622566969747, -2.371354307505923, -0.07164001008302037], [4.542450140856625, -2.2254905461943446, -0.11121156082537918], [4.564000711582821, -2.0770677810439184, -0.15069029563319367], [4.580694991032272, -1.9261596926873734, -0.19003971266319122], [4.592343089098521, -1.7728479158493868, -0.22922125695624554], [4.598747255422805, -1.6172229168913703, -0.2681941624768966], [4.599701511239121, -1.4593849798386185, -0.3069152850409015], [4.5949912811145, -1.2994453088539537, -0.3453389214696544], [4.5843930310977345, -1.1375272580315774, -0.38341661145712036], [4.567673916143149, -0.973767712891616, -0.42109692525779224], [4.5445914470632225, -0.8083186385975745, -0.4583252340606094], [4.514893187385533, -0.6413488173499167, -0.4950434617212785], [4.478316493531112, -0.47304579958911713, -0.5311898168020875], [4.434588315411829, -0.30361809615176977, -0.5666985029499263], [4.383425079150351, -0.13329764247193057, -0.6014994057041047], [4.324532678153921, 0.03765742788446705, -0.6355177571512999], [4.257606607310896, 0.2089596634554722, -0.6686737744371978], [4.182332282633984, 0.38028878506921726, -0.7008822703728532], [4.098385598800958, 0.5512877352809689, -0.7320522375351951], [4.005433791092288, 0.7215582351090837, -0.7620864032166109], [3.9031366838572628, 0.8906557886551105, -0.7908807554202785], [3.791148427798033, 1.0580840727201326, -0.8183240404630846], [3.6691198539322096, 1.2232886445186857, -0.8442972306797385], [3.5367016010035033, 1.385649898103019, -0.868672969479963], [3.3935482135064876, 1.5444752014107315, -0.8913149904698238], [3.2393234520720786, 1.698990148671094, -0.912077520321639], [3.073707116116729, 1.8483288746912436, -0.9308046706163434], [2.8964037491202834, 1.9915233946261124, -0.9473298287173947], [2.707153680821396, 2.1274919676389508, -0.9614750628821916], [2.505746964746087, 2.2550265311150857, -0.9730505586408638], [2.2920408926308755, 2.372779330282559, -0.9818541123129718], [2.065981913976299, 2.479248982263742, -0.9876707129799334], [1.8276329601929817, 2.5727663781651398, -0.990272257809321], [1.5772073644275564, 2.651481070978759, -0.9894174525815237], [1.3151107864783014, 2.713349127826659, -0.9848519733884649], [1.041992769921487, 2.756123907673271, -0.9763089801884037], [0.7588097667156589, 2.7773518820733956, -0.9635101072632234], [0.46690161330902563, 2.7743765277148693, -0.9461670879838194], [0.16808345387425427, 2.744354552740903, -0.923984227858985], [-0.13524513238049893, 2.6842903738352413, -0.8966619959657366], [-0.4399727628240178, 2.5910969259977437, -0.8639021028625572], [-0.7421311058106822, 2.4616936463095853, -0.8254145382528508], [-1.0367352262433178, 2.2931558258323683, -0.7809271877401635], [-1.3176175243668293, 2.082933298359765, -0.7301988218734309], [-1.5772712488417244, 1.8291600875767577, -0.6730364405218301], [-1.8067317569881969, 1.5310789163495806, -0.6093181402137147], [-1.9955414700592462, 1.1896029601887448, -0.5390227687927468], [-2.1318684485940205, 0.8080276310287194, -0.46226751661832505], [-2.2028771537284406, 0.39288089833578194, -0.37935404046187704], [-2.1954769098542246, -0.04514693936749007, -0.29082241002143694], [-2.09758392982646, -0.4903320191631197, -0.19750975561259498], [-1.8999999457434364, -0.9213525455062547, -0.10060678934706979], [-1.5988988243933038, -1.3114007334087536, -0.0017007374264991926], [-1.198693604589906, -1.6294161784954837, 0.09721089781095799], [-0.714744733359221, -1.842823280807272, 0.19375221211045404], [-0.17506522296559965, -1.9218630004218284, 0.28525739625890995], [0.3799336742173447, -1.8450809987669003, 0.3689138585070189], [0.9003486633566231, -1.6049312440231118, 0.4419410837419546], [1.3323760083231841, -1.2120765464369978, 0.5017737546896088], [1.6258043139378764, -0.6970682733202254, 0.5462174011688249], [1.7420160114345578, -0.10866247015825857, 0.5735581711663172], [1.6609423145038436, 0.4911941328685105, 0.5826279925192943], [1.3856516292035237, 1.0350161802462083, 0.5728417942862236], [0.9436608643035216, 1.4589677784645187, 0.5442274059989607], [0.3844788516410386, 1.7122389499777046, 0.4974602221557552], [-0.22664663904534, 1.7650556911820408, 0.43389747939415924], [-0.8181446067328026, 1.613640482697754, 0.3555879991267256], [-1.3231561219639727, 1.2806628806998375, 0.26522216203850185], [-1.689788085897544, 0.8106066434678295, 0.1659937068352767], [-1.8879884745166466, 0.2609841820419673, 0.06137280558269901], [-1.911366800631457, -0.30820081506513014, -0.04517257552461946], [-1.7740490908232724, -0.8438121987742856, -0.15044514793621228], [-1.5043019854075972, -1.3056124711836197, -0.2517188494469587], [-1.1373024896981005, -1.6683653125439566, -0.34684265680919446], [-0.7089655053019551, -1.9207728860440965, -0.4342528746934091], [-0.2517455148482545, -2.0626159809716147, -0.5129207074227203], [0.20755807212776106, -2.1013601426539656, -0.5822666146953775], [0.6484460080400222, -2.0490487871052117, -0.6420664555149665], [1.0563846713097134, -1.919854490325325, -0.6923645013129889], [1.421973187983177, -1.7283511170635835, -0.7333999605725421], [1.7399422102632558, -1.4884122391509618, -0.7655482651108191], [2.008176937081216, -1.2125892414640704, -0.7892756781878212], [2.2268583550597687, -0.9118263911650947, -0.8051048558873968], [2.397755590295891, -0.595396166349194, -0.8135889903322092], [2.5236688274287564, -0.2709681584809605, -0.8152925332499829], [2.60800646191411, 0.05524884672148967, -0.8107769438370876], [2.6544745207633866, 0.3783316079504674, -0.8005902960364266], [2.66685608046754, 0.6944592046409606, -0.78525988009005], [2.6488605777538465, 1.000736828983944, -0.765287147145697], [2.604025984439471, 1.2950347173643426, -0.7411444937710207], [2.5356600007974204, 1.5758459043156667, -0.7132734862832306], [2.4468093381355724, 1.8421637133340216, -0.6820841991600378], [2.340248666603871, 2.093378260249222, -0.6479553996042821], [2.218482869208696, 2.3291903579363997, -0.61123535671495], [2.083757896925211, 2.5495408072062746, -0.5722430938870914], [1.9380768131878747, 2.7545529572671086, -0.5312699378224227], [1.783218608173374, 2.944486496022749, -0.48858124768595407], [1.6207581100902608, 3.1197006040459643, -0.44441823414462284], [1.452085874153118, 3.2806248228209816, -0.3989997997077873], [1.2784273317407528, 3.4277362157630216, -0.3525243503570397], [1.100860769478862, 3.561541619460768, -0.30517154312197803], [0.9203339089571818, 3.6825639824402017, -0.2571039460800706], [0.737678994060013, 3.7913319652240345, -0.20846859621275637], [0.5536263848905727, 3.888372126683647, -0.15939844768394268], [0.36881671329294413, 3.974203149978206, -0.1100137080710294], [0.1838116894901209, 4.049331667871502, -0.0604230637704586], [-0.0008963326471424407, 4.114249334833315, -0.010724798351839444], [-0.18487591742113865, 4.169430865010349, 0.038992190650909836], [-0.36774912216334665, 4.215332813109518, 0.08864747038282977], [-0.5491849752130561, 4.252392921998569, 0.13816823953220472], [-0.7288937546523638, 4.281029898205326, 0.18748857656758766], [-0.9066219736729361, 4.301643506519639, 0.2365487622897132], [-1.0821479873980142, 4.314614898577929, 0.2852946700285209], [-1.2552781448811046, 4.320307109285676, 0.33367721713534576], [-1.425843418435101, 4.319065669803845, 0.38165187182917265], [-1.5936964502940794, 4.311219297662564, 0.429178210007771], [-1.7587089642120763, 4.297080633718871, 0.4762195164584945], [-1.9207694949158671, 4.276947003269341, 0.5227424272794293], [-2.079781396008497, 4.251101183886733, 0.568716607521925], [-2.235661090336715, 4.219812167399659, 0.6141144616100942], [-2.388336532348421, 4.18333590665568, 0.658910872689118], [-2.5377458555244057, 4.141916040536936, 0.7030829678785498], [-2.6838361815623197, 4.09578459275055, 0.7466099069848418], [-2.826562571115438, 4.04516264141903, 0.7894726918817702], [-2.965887098389061, 3.990260957818486, 0.8316539945785033], [-3.1017780342286283, 3.931280613473138, 0.8731380020058223], [-3.2342091243518016, 3.8684135555074626, 0.9139102757572625], [-3.3631589509704707, 3.801843150738905, 0.953957625374177], [-3.488610367907213, 3.731744699125485, 0.9932679935022383], [-3.610550000035584, 3.6582859178105718, 1.0318303520366199], [-3.7289677995922306, 3.581627396779004, 1.0696346078942183], [-3.843856652440148, 3.501923027575999, 1.1066715175619901], [-3.955212028359194, 3.4193204064934632, 1.1429326095784478], [-4.063031670443942, 3.333961213388166, 1.1784101139872123], [-4.167315318845331, 3.245981567746416, 1.2130968982301669], [-4.268064464965147, 3.1555123633081, 1.246986408805401], [-4.3652821326408695, 3.0626795825521604, 1.280072618112897], [-4.458972683296073, 2.967604592277761, 1.312349975980111], [-4.549141642275125, 2.8704044216276214, 1.343813365461658], [-4.635795544109355, 2.7711920235673757, 1.3744580624492457], [-4.718941794509801, 2.670076521099771, 1.4042796987974688], [-4.798588547371639, 2.5671634390748994, 1.4332742285716464], [-4.874744595084179, 2.4625549227004524, 1.461437897171177], [-4.947419270737509, 2.3563499436427744, 1.488767213053123], [-5.016622360965533, 2.248644494586762, 1.5152589218143189], [-5.082364028301415, 2.1395317730505083, 1.5409099824213681], [-5.144654742050618, 2.0291023552359646, 1.5657175453974166], [-5.2035052167936895, 1.9174443606475633, 1.5896789327956886], [-5.2589263577873915, 1.804643608003561, 1.6127916197835142], [-5.310929212461626, 1.6907837633835865, 1.635053217740826], [-5.359524927533235, 1.5759464808257417, 1.6564614586843724], [-5.404724711072198, 1.4602115362929455, 1.6770141809588248], [-5.446539799196132, 1.3436569548718653, 1.6967093160491724], [-5.484981426727354, 1.2263591327314058, 1.715544876439846], [-5.520060801688701, 1.1083929531427132, 1.7335189444376067], [-5.5517890831151515, 0.989831897786504, 1.7506296618735169], [-5.580177361944522, 0.8707481536102434, 1.7668752206070948], [-5.605236644771347, 0.7512127151276328, 1.7822538537923445], [-5.626977840160576, 0.631295483054717, 1.7967638278294364], [-5.645411747335506, 0.5110653597655768, 1.8104034349370515], [-5.660549047120497, 0.3905903406375429, 1.8231709863616816], [-5.672400294882517, 0.2699376034158132, 1.8350648060948762], [-5.680975915423046, 0.14917359459224888, 1.8460832251209105], [-5.68628619966205, 0.0283641131319576, 1.8562245761599674], [-5.688341303035549, -0.09242560729684131, 1.8654871888320026], [-5.687151245508332, -0.2131308184697674, 1.873869385273123], [-5.682725913156404, -0.33368717914755697, 1.881369476138678], [-5.675075061274856, -0.45403067785557233, 1.887985756985515], [-5.6642083189224355, -0.5740975572393598, 1.8937165050316471], [-5.6501351949659, -0.6938242388938786, 1.8985599762475376], [-5.632865085533738, -0.8131472492383467, 1.9025144027975727], [-5.612407282917696, -0.9320031458641667, 1.905577990800055], [-5.588770985961186, -1.0503284440256413, 1.9077489184102965], [-5.561965311894833, -1.1680595434980596, 1.9090253342192531], [-5.531999309716153, -1.2851326552350901, 1.909405355958283], [-5.498881975170423, -1.4014837276297727, 1.908887069526185], [-5.462622267320893, -1.5170483725641586, 1.9074685283166568], [-5.423229126890373, -1.6317617905269775, 1.9051477528728065], [-5.380711496414404, -1.7455586948765478, 1.9019227308719069], [-5.335078342268116, -1.8583732352069064, 1.8977914174237014], [-5.286338678815603, -1.9701389191035006, 1.8927517357422303], [-5.234501594705789, -2.0807885325508546, 1.8868015781664353], [-5.179576281498381, -2.1902540586461265, 1.8799388075490506], [-5.121572064897258, -2.298466594081868, 1.872161259079207], [-5.060498438638289, -2.4053562636703, 1.8634667424998086], [-4.996365101356153, -2.510852132326902, 1.853853044786436], [-4.9291819967382855, -2.614882114143185, 1.8433179333424623], [-4.858959357036268, -2.7173728788347185, 1.831859159666846], [-4.785707750492529, -2.8182497546369625, 1.8194744636289304], [-4.709438132946656, -2.917436627625824, 1.8061615783603386], [-4.630161903815699, -3.0148558375450394, 1.7919182357598782], [-4.547890967238429, -3.110428069042172, 1.7767421727858228], [-4.462637798706189, -3.204072238392137, 1.7606311385383393], [-4.374415517324449, -3.2957053760027235, 1.7435829021211786], [-4.283237965249041, -3.385242502645177, 1.7255952615981909], [-4.189119793749885, -3.4725965011496687, 1.7066660538461382], [-4.092076557690962, -3.5576779813431068, 1.6867931656610216], [-3.9921248188339153, -3.6403951386006206, 1.6659745461078104], [-3.8892822582889295, -3.7206536063030557, 1.6442082201864185], [-3.7835678007172597, -3.798356299595642, 1.6214923041852778], [-3.6750017494127993, -3.8734032526905042, 1.5978250225862043], [-3.5636059351120117, -3.9456914470991427, 1.5732047269541671], [-3.44940387981518, -4.015114630681742, 1.547629916911603], [-3.3324209754417535, -4.081563128811525, 1.521099263350009], [-3.212684682282986, -4.1449236437687205, 1.4936116343378278], [-3.0902247464236705, -4.205079044892453, 1.465166123803154], [-2.965073439303328, -4.26190814783564, 1.4357620834473588], [-2.837265823787939, -4.3152854809901555, 1.405399158194956], [-2.7068400455940393, -4.365081041943238, 1.3740773256143648], [-2.5738376578733413, -4.411160039691874, 1.3417969397813179], [-2.4383039803839366, -4.45338262428626, 1.3085587799906828], [-2.300288495200209, -4.491603604756783, 1.2743641051957857], [-2.1598452899448515, -4.525672151057872, 1.2392147143831467], [-2.017033547017475, -4.555431484498151, 1.2031130140128836], [-1.8719180883533553, -4.580718554338449, 1.1660620933276453], [-1.7245699814589888, -4.601363701581962, 1.128065808379836], [-1.5750672188786594, -4.617190308818272, 1.0891288755096644], [-1.4234954702491616, -4.628014441903755, 1.049256976421471], [-1.269948926829914, -4.633644480398281, 1.0084568753442036], [-1.1145312447100377, -4.633880741797938, 0.9667365502508014], [-0.9573566009349693, -4.6285151023407805, 0.924105339802678], [-0.7985508759433945, -4.617330619458683, 0.8805741084453921], [-0.6382529816809954, -4.600101160881713, 0.8361554312901001], [-0.47661635251181367, -4.576591049114848, 0.790863801776447], [-0.3138106220169015, -4.546554731218564, 0.7447158645842137], [-0.15002350293665548, -4.509736487584859, 0.6977306797628783], [0.014537086230736409, -4.465870194694748, 0.649930016556755], [0.1796406338076636, -4.414679165458782, 0.6013386867183019], [0.3450313417172007, -4.355876092724324, 0.5519849193402989], [0.5104250892067157, -4.289163130390426, 0.5019007832418368], [0.6755060099118333, -4.214232155342749, 0.45112266336926454], [0.8399226329309786, -4.130765264259385, 0.39969179810413363], [1.0032835341363315, -4.0384355731445405, 0.34765488519578397], [1.165152438835679, -3.9369084050457435, 0.29506476438167667], [1.325042718177773, -3.825842970861895, 0.2419811901874741], [1.4824112035763872, -3.70489467879747, 0.18847169673005087], [1.6366512670880986, -3.5737182342154843, 0.13461257604022522], [1.7870850954820716, -3.431971737048316, 0.08048997481773786], [1.9329551080715064, -3.279322029264301, 0.026201125228185327], [2.073414478442267, -3.115451605205904, -0.02814427844910903], [2.207516748883235, -2.9400674683275323, -0.08242254572125718], [2.3342045702445122, -2.752912401819498, -0.1364942833506672], [2.452297662209237, -2.553779221777255, -0.19020251705939042], [2.5604801910943147, -2.3425286921671065, -0.24337062589284236], [2.6572878952883356, -2.119111912561011, -0.2958000984366417], [2.7410954869593978, -1.8835981246223366, -0.34726811955889764], [2.810105124491106, -1.6362090280213328, -0.3975250075071165], [2.8623371192227913, -1.3773608200566427, -0.4462915468366987], [2.89562452026276, -1.1077152763450764, -0.493256271999646], [2.9076138613909115, -0.8282412112818907, -0.5380727934455819], [2.895775163953654, -0.5402875656353648, -0.580357285441707], [2.857425306711501, -0.2456690771181482, -0.6196862955441], [2.789770107442592, 0.053235103960815884, -0.6555950792523169], [2.68997190572209, 0.3533705317128585, -0.6875767087839918], [2.555251046015002, 0.6508866518391114, -0.715082254809076], [2.383031335832317, 0.9410109296795577, -0.7375223873149933], [2.171141091420857, 1.2179264680258095, -0.7542707899264951], [1.9180824435652066, 1.4746668422909106, -0.7646698367199977], [1.6233815946891186, 1.7030489496778884, -0.7680390439803599], [1.2880307765907515, 1.893674036977762, -0.7636869210517632], [0.915027295332706, 2.036039066240677, -0.7509270184516219], [0.5100039656029783, 2.1188151731817646, -0.7290992577001767], [0.08192493238617746, 2.130366223659988, -0.697598057143841], [-0.35621355319776365, 2.0595952935528916, -0.6559093243936281], [-0.7867923202851458, 1.8972129503378932, -0.6036589595585246], [-1.1872825107705045, 1.6375037249387665, -0.5406757810811669], [-1.5305578763533363, 1.2806007238099546, -0.4670711077111709], [-1.7862007264154156, 0.8351274957442425, -0.3833345701084488], [-1.923232226078088, 0.3207989735709981, -0.29043981473864644], [-1.9145566933795037, -0.22979996893862467, -0.189943911352317], [-1.7429529568104343, -0.7713981968208802, -0.08405203263781601], [-1.4076254525162655, -1.2493836854329388, 0.024389832230110507], [-0.929379716725673, -1.6069051450565177, 0.13200691443576315], [-0.3520257691882013, -1.7949299594573305, 0.23511980556460324], [0.26168107459808976, -1.782786669289319, 0.330046793542434], [0.8393379348940915, -1.5658504054289162, 0.4134154609068391], [1.3110599640764524, -1.167771216699331, 0.4824105060983121], [1.6210936585584181, -0.6366690834653651, 0.5349157912704665], [1.736018859886113, -0.03676937420946446, 0.5695534101082022], [1.6482139488639191, 0.5620268605833585, 0.5856539908477528], [1.374742228082331, 1.0942691337054293, 0.5831987692671681], [0.9526851372771282, 1.5071309123657533, 0.5627609893281323], [0.4322372259556041, 1.765732997830432, 0.5254543800148544], [-0.1311189621235642, 1.85528436020811, 0.4728799982759362], [-0.6841160231866571, 1.7801417096655114, 0.4070552748832238], [-1.181783078628251, 1.560303871543027, 0.3303123947936369], [-1.5913062087673087, 1.2262520461047854, 0.24516502895212405], [-1.8933641183661214, 0.8132909836850066, 0.15415690307260257], [-2.0812113768732803, 0.356497094737406, 0.05971521889608564], [-2.1582273123217974, -0.11297113419933319, -0.03596814203433566], [-2.1348067701979763, -0.5699428568994394, -0.13101338462485343], [-2.02533984272322, -0.9958622218556477, -0.22388521101443398], [-1.8457408423340185, -1.37839141559045, -0.31338815235969364], [-1.6116940507610822, -1.7104468256857703, -0.3986367023493296], [-1.3375771827835936, -1.9890376119658666, -0.47901216738767577], [-1.035921604642859, -2.2141452754977275, -0.5541155691686662], [-0.7172457273732387, -2.3877655450226998, -0.6237226401341407], [-0.3901186981002028, -2.513151874356718, -0.6877440872218633], [-0.061347460219157095, -2.5942527447223713, -0.7461922759137201], [0.2637844994687312, -2.635313554188122, -0.7991542718372662], [0.581270342184486, -2.6406081045283645, -0.846770568271292], [0.8881488428935169, -2.6142669257373727, -0.8892186046845195], [1.1823001801906714, -2.560175108933196, -0.9267001733813145], [1.4622719520823593, -2.4819183490111016, -0.9594319052070389], [1.7271346181396001, -2.3827613340402185, -0.9876381546623332], [1.976363524706587, -2.265647051505263, -1.0115457354393669], [2.209743895957614, -2.1332089913724364, -1.0313800730838407], [2.427295101456133, -1.9877907480009753, -1.0473624381888857], [2.62921078685516, -1.8314693396367145, -1.0597080006535224], [2.8158118780748476, -1.6660798443399403, -1.0686245061582214], [2.9875099266663465, -1.4932398384521683, -1.074311422627238], [3.1447786991366633, -1.3143727282141195, -1.0769594402041829], [3.288132299635492, -1.1307294703194857, -1.0767502355024865], [3.4181084456317286, -0.943408443793054, -1.0738564320199775], [3.5352557918735945, -0.7533734059531381, -1.0684417040480687], [3.640124423096974, -0.56146957132217, -1.0606609840692016], [3.733258818636184, -0.3684379141427616, -1.0506607427485972], [3.815192738503151, -0.17492782832228637, -1.0385793179293104], [3.886445597313529, 0.018491707129983475, -1.02454727474829], [3.947519985294398, 0.21132230676201974, -1.0086877830961676], [3.998900068994068, 0.40312755589654065, -0.9911170022402294], [4.041050662349694, 0.593525449911855, -0.9719444649340584], [4.074416804513141, 0.7821817701397644, -0.9512734553745732], [4.099423716793795, 0.9688042831352497, -0.9292013769838722], [4.116477039428712, 1.1531376616157185, -0.9058201071578061], [4.125963271123177, 1.334959036805253, -0.8812163372424334], [4.128250351740367, 1.5140741028009344, -0.8554718964382952], [4.123688342248658, 1.6903137028702517, -0.8286640591308494], [4.112610166821262, 1.8635308363953147, -0.8008658352010511], [4.0953323901640015, 2.033598032924952, -0.7721462440286722], [4.072156010014412, 2.2004050466722336, -0.7425705718606465], [4.043367249637451, 2.3638568307078653, -0.7122006135078823], [4.00923833927549, 2.523871755489272, -0.6810948987711775], [3.9700282784929675, 2.6803800408980516, -0.6493089044157738], [3.925983573751144, 2.8333223750783434, -0.6168952525187337], [3.8773389480362543, 2.9826486962657484, -0.5839038949628534], [3.824318018809031, 3.128317118457305, -0.5503822872575258], [3.767133944632381, 3.2702929819659396, -0.5163755494072739], [3.7059900388930753, 3.4085480143357696, -0.4819266167478598], [3.641080351293976, 3.543059587857128, -0.44707638040014713], [3.5725902174674586, 3.673810062130299, -0.4118638184237434], [3.5006967776738493, 3.800786201455753, -0.3763261182015928], [3.425569465657782, 3.923978658167347, -0.3404987906970354], [3.3473704697727356, 4.0433815135612585, -0.30441577638333606], [3.2662551643885753, 4.158991871817568, -0.2681095465573588], [3.1823725191579384, 4.270809496853874, -0.23161119446648792], [3.0958654812721944, 4.378836491051053, -0.19495052307159524], [3.0068713357612094, 4.483077008823081, -0.15815612613830304], [2.9155220440308076, 4.583537001764349, -0.12125546417422461], [2.8219445619921344, 4.680223991848204, -0.08427493570568038], [2.726261139360838, 4.773146869314618, -0.047239943848858754], [2.628589601140203, 4.862315712644284, -0.010174958748538252], [2.5290436125475932, 4.947741628162318, 0.026896423923146517], [2.4277329283868916, 5.0294366071473995, 0.0639514280154438], [2.324763627674103, 5.1074133986579815, 0.10096804508331322], [2.220238335553594, 5.181685395967152, 0.13792498629771766], [2.1142564317783035, 5.252266535811842, 0.17480163652175668], [2.0069142478966175, 5.3191712086027065, 0.2115780113980602], [1.8983052536908471, 5.3824141785693564, 0.24823471700198507], [1.7885202330391436, 5.442010513007091, 0.2847529114969551], [1.6776474508868666, 5.4979755193905255, 0.3211142692456308], [1.5657728110028832, 5.550324689845797, 0.3573009466271202], [1.452980005889804, 5.599073652037326, 0.39329554986217086], [1.3393506591188373, 5.644238125939416, 0.4290811045086563], [1.2249644604720198, 5.68583388593825, 0.4646410264464555], [1.1098992949234552, 5.723876727648999, 0.499959094490787], [0.9942313652814054, 5.7583824391462555, 0.5350194241996263], [0.8780353094922838, 5.789366776088591, 0.5698064430532651], [0.7613843127520167, 5.816845440446108, 0.6043048667687317], [0.6443502147821389, 5.840834062514724, 0.6384996766608096], [0.5270036129253749, 5.8613481859080325, 0.67237609808156], [0.4094139610143045, 5.878403255328955, 0.7059195797004334], [0.2916496647066507, 5.892014606867003, 0.7391157737041704], [0.17377817338705714, 5.902197460657738, 0.7719505167603593], [0.05586606895185075, 5.9089669157324485, 0.8044098116998595], [-0.062020848099091974, 5.912337946916549, 0.8364798099036065], [-0.1798174752090514, 5.912325403659343, 0.8681467942696958], [-0.2974593265785093, 5.908944010685837, 0.8993971627504951], [-0.41488245397208146, 5.902208370392727, 0.9302174124194825], [-0.5320233691954886, 5.892132966924424, 0.9605941240408169], [-0.6488189685751422, 5.878732171847068, 0.9905139469530805], [-0.7652064580126106, 5.862020251454714, 1.0199635845490649], [-0.8811232804179417, 5.842011375524029, 1.0489297797743762], [-0.996507042560457, 5.818719627756573, 1.0773993013502248], [-1.11129544425788, 5.792159017594778, 1.1053589298360256], [-1.2254262066277066, 5.762343493768038, 1.132795444348333], [-1.3388370019307774, 5.729286959256765, 1.1596956091439532], [-1.4514653827499362, 5.693003287995325, 1.1860461606173545], [-1.5632487115333704, 5.653506343183436, 1.2118337943505861], [-1.67412408992009, 5.610809997338852, 1.2370451522705022], [-1.7840282877532838, 5.564928154126621, 1.2616668098873058], [-1.8928976710974603, 5.515874772194231, 1.285685263728863], [-2.0006681299454923, 5.463663890909956, 1.3090869186770493], [-2.107275004816513, 5.408309658256443, 1.3318580753739224], [-2.212653012215134, 5.34982636099988, 1.3539849175947045], [-2.3167361686517083, 5.28822845729512, 1.3754534996492402], [-2.4194577131981547, 5.223530611870186, 1.3962497336921038], [-2.520750028352617, 5.155747733983467, 1.4163593769145022], [-2.620544558718771, 5.084895018451023, 1.4357680187476416], [-2.718771727701264, 5.010987989868968, 1.4544610678458791], [-2.8153608518744364, 4.934042550318298, 1.4724237388701125], [-2.91024005154081, 4.854075031288262, 1.4896410397373137], [-3.0033361604648894, 4.771102249073835, 1.5060977575704637], [-3.0945746311036335, 4.685141565074388, 1.5217784451972733], [-3.1838794361095193, 4.59621095121873, 1.5366674075460196], [-3.2711729668256266, 4.5043290604947, 1.5507486874635572], [-3.3563759276782927, 4.409515303350277, 1.5640060513703753], [-3.439407225639747, 4.311789930873538, 1.5764229749466079], [-3.5201838557817022, 4.211174124657446, 1.5879826282270442], [-3.59862078171168, 4.107690094561357, 1.598667860423257], [-3.674630810083464, 4.001361185195007, 1.6084611848907244], [-3.748124460404936, 3.8922119913013207, 1.61734476321599], [-3.81900982764381, 3.780268484054012, 1.6253003896923732], [-3.8871924394716304, 3.6655581481224466, 1.6323094749163445], [-3.952575105705211, 3.548110131806625, 1.6383530296341273], [-4.015057761088719, 3.427955410643586, 1.6434116480317136], [-4.074537300154374, 3.3051269664619762, 1.6474654908963398], [-4.130907403449176, 3.179659983773384, 1.6504942688823416], [-4.18405835655861, 3.0515920638745087, 1.6524772249079416], [-4.233876858570243, 2.920963460965564, 1.6533931172661482], [-4.280245821514187, 2.7878173411668756, 1.6532202025216691], [-4.323044160569146, 2.6522000667495322, 1.6519362181507897], [-4.362146573461249, 2.5141615095607492, 1.6495183656284527], [-4.397423309603727, 2.3737553960434172, 1.6459432937725285], [-4.428739927979988, 2.231039688509617, 1.64118708265511], [-4.4559570447206065, 2.0860770053037196, 1.635225227914546], [-4.478930068775316, 1.9389350867760382, 1.628032626283309], [-4.4975089276866305, 1.7896873097715134, 1.6195835619162329], [-4.511537781752323, 1.6384132594121432, 1.609851694534416], [-4.520854728778935, 1.485199362824556, 1.5988100492299664], [-4.525291499620989, 1.3301395936970943, 1.5864310087343412], [-4.5246731457772045, 1.1733362569358907, 1.5726863085843417], [-4.518817721847448, 1.0149008612222559, 1.5575470358721206], [-4.507535963975544, 0.8549550953182781, 1.5409836324445698], [-4.490630970116956, 0.6936319143715658, 1.5229659034641887], [-4.467897884176231, 0.5310767600510169, 1.5034630324645613], [-4.439123593081331, 0.3674489207959529, 1.4824436044502256], [-4.404086442165679, 0.20292306389357484, 1.4598756382348383], [-4.36255598196183, 0.037690943510238994, 1.4357266311538581], [-4.3142927562126445, -0.1280366642138911, 1.409963616583137], [-4.259048152279027, -0.2940277998214269, 1.3825532390871136], [-4.196564332099126, -0.46002687909383705, 1.3534618495230901], [-4.126574272541446, -0.6257519443833762, 1.3226556243792489], [-4.048801949875817, -0.7908915659664241, 1.2901007144040335], [-3.962962712109565, -0.9551013467342346, 1.2557634285604624], [-3.8687638942389815, -1.1179999771967752, 1.2196104601214837], [-3.765905747316142, -1.2791647848785974, 1.1816091638089465], [-3.6540827684546358, -1.4381267136825227, 1.141727894645092], [-3.5329855443997906, -1.5943646633342046, 1.099936419992076], [-3.402303247413376, -1.747299117952288, 1.056206421298499], [-3.2617269605748187, -1.896284986117813, 1.0105121027283108], [-3.1109540532863367, -2.0406035787163677, 0.9628309290578517], [-2.949693884552616, -2.1794536559217956, 0.9131445192116375], [-2.7776751810317406, -2.3119414894419155, 0.8614397269522658], [-2.5946555225313643, -2.4370699138509138, 0.8077099466891488], [-2.4004334722230394, -2.553726386705816, 0.7519566893343961], [-2.194864014877622, -2.6606701509667063, 0.6941914814003302], [-1.9778781158168024, -2.756518706186015, 0.6344381495475351], [-1.7495073860438377, -2.839733963776011, 0.572735562473552], [-1.509915031745443, -2.9086087082346714, 0.5091409117431278], [-1.2594344693643444, -2.9612543394387827, 0.4437336218357668], [-0.9986171801890817, -2.995591367820425, 0.3766199851902042], [-0.7282915267223544, -3.0093448172613875, 0.30793862164862745], [-0.4496342849553592, -3.000047616164397, 0.23786684461457747], [-0.16425648096252737, -2.9650562608432023, 0.16662800490664145], [0.12569542260021146, -2.9015845740229933, 0.09449982443468476], [0.41742305273640223, -2.806763227502839, 0.02182366126726302], [0.7073464297749995, -2.6777347896530217, -0.05098547874548865], [0.9909663411616318, -2.511796151726969, -0.12342853911361944], [1.2627289631358007, -2.3066018456350674, -0.19491220665490386], [1.5159097550145948, -2.0604422132487095, -0.2647397707816066], [1.7425425668285413, -1.772608483585289, -0.3321042226597794], [1.9334304467176444, -1.4438510490359713, -0.3960850457055763], [2.0782855436839234, -1.0769259308833814, -0.455650316872989], [2.1660543976542974, -0.677206170377767, -0.5096657002201748], [2.185488279441192, -0.2533091931251547, -0.556911571995077], [2.1260118733637694, 0.18234080329795005, -0.5961088950219005], [1.9789234157764777, 0.6131315634922372, -0.6259536395760443], [1.738922412896841, 1.0182122665989777, -0.6451588433935311], [1.4059055284620154, 1.3729498138598768, -0.6525031977172943], [0.9868955426134285, 1.6500810662099734, -0.6468856950364478], [0.49786905952614746, 1.8217417553594064, -0.627387466752023], [-0.03487899030701035, 1.8625061035798711, -0.5933440562390514], [-0.5743504751919739, 1.75345257460764, -0.5444329042845015], [-1.074106775298207, 1.4870262461461912, -0.48077988909086095], [-1.4819019151291062, 1.0720409755357077, -0.40308291843984007], [-1.7461813242759425, 0.5375649937638375, -0.3127378153828295], [-1.8251977920648828, -0.0661378923387143, -0.21193305141493582], [-1.697164955910682, -0.6714963292606895, -0.10366297272495374], [-1.3683939269122163, -1.2031682423006655, 0.008390468784165734], [-0.8758271470277567, -1.591745087027381, 0.12012525177519943], [-0.28184680811585927, -1.7876567441101134, 0.2273946827966198], [0.33758213397793446, -1.770498297537611, 0.32639653496833504], [0.9074281395770615, -1.5508305083658447, 0.4139746055699312], [1.3660652676901883, -1.1648226941589315, 0.48777569893628625], [1.6726976489755079, -0.6646602133259323, 0.5462671714053761], [1.8092539478458207, -0.10819305869054507, 0.5886611316564639], [1.7780450525237654, 0.44969481760277247, 0.6147983448567464], [1.5970431121065922, 0.9629266943926978, 0.6250295043537087], [1.2943830872700446, 1.39726942716911, 0.6201110147582909], [0.9031552059783524, 1.7310737859342211, 0.6011172028411531], [0.4570745458826879, 1.9543752778309131, 0.5693636184572864], [-0.0127241923606894, 2.066978187773394, 0.5263352832475331], [-0.47973579077085965, 2.0760509928046775, 0.4736165887781625], [-0.9230868643747489, 1.9936517390231192, 0.41282335802172115], [-1.3276900578635442, 1.8344862862578466, 0.34554040802033326], [-1.6837935974406717, 1.6140840236570124, 0.2732688528316292], [-1.9861717871317737, 1.3474650107371424, 0.19738645874316801], [-2.233168442605788, 1.0482834171240054, 0.11912238629530983], [-2.425750351135237, 0.7283742361132751, 0.03954556476920363], [-2.566668122753738, 0.39760439920826324, -0.040435585694306844], [-2.659770036324818, 0.06392891005892498, -0.12006509509767903], [-2.7094770317707866, -0.26643255598885346, -0.19872607381778828], [-2.7204044392624787, -0.5887622215936931, -0.2759246186809292], [-2.697105537900299, -0.8995969526167757, -0.3512729491079825], [-2.6439096750333952, -1.196493135871044, -0.42447309085413837], [-2.564829903136348, -1.477817143514737, -0.4953018904693341], [-2.463519319460681, -1.7425665320008692, -0.5635977402130026], [-2.343259931824004, -1.9902221117136087, -0.6292491213925371], [-2.206972094745559, -2.2206283404629996, -0.6921849056934454], [-2.057236036313739, -2.4338983205712768, -0.7523662620929867], [-1.8963196802322495, -2.6303394069504686, -0.8097799763743249], [-1.7262089482835994, -2.8103956474013128, -0.8644329822526787], [-1.5486381372054772, -2.9746037170974224, -0.9163479128401124], [-1.3651189373210406, -3.1235595214745335, -0.965559500184732], [-1.1769673126748823, -3.257893143319777, -1.0121116730886306], [-0.985327887758652, -3.3782502602570177, -1.0560552259089766], [-0.7911957533482774, -3.4852785438089917, -1.0974459518457071], [-0.5954357643654294, -3.579617869640677, -1.1363431530333319], [-0.3987994925940597, -3.661893426496929, -1.172808455168948], [-0.2019400408777433, -3.732711016704906, -1.206904868120309], [-0.005424940415350119, -3.7926540031398606, -1.2386960446974333], [0.19025264896102478, -3.842281483896425, -1.2682456995075844], [0.38466422854009247, -3.88212737461494, -1.29561715617345], [0.5774375501684559, -3.9127001541685393, -1.3208729980913319], [0.7682493345193303, -3.9344830881700203, -1.3440748023589788], [0.9568189666745106, -3.947934789816104, -1.3652829405077243], [1.142903036087294, -3.9534900121479684, -1.3845564328177327], [1.32629060539201, -3.9515605922306887, -1.4019528453930432], [1.5067991067826714, -3.942536488150931, -1.4175282218542553], [1.6842707805943085, -3.926786864855093, -1.4313370419085927], [1.858569580294285, -3.9046611968913276, -1.4434322018628394], [2.029578480360967, -3.8764903649113642, -1.4538650120556664], [2.1971971315480143, -3.842587729467826, -1.4626852077719426], [2.3613398163755415, -3.803250170938953, -1.4699409705253943], [2.5219336641236816, -3.7587590880319306, -1.4756789573451703], [2.67891709048577, -3.7093813503277637, -1.4799443360936788], [2.832238431884649, -3.655370202364336, -1.48278082525043], [2.981854748700578, -3.5969661183490698, -1.4842307368884824], [3.127730775254727, -3.5343976076884385, -1.4843350218245968], [3.269837997435364, -3.467881972361544, -1.4831333161304185], [3.4081538415481103, -3.397626017659751, -1.480663988347347], [3.542660960166366, -3.323826718227839, -1.4769641868940846], [3.6733466027145822, -3.2466718415531854, -1.472069887259238], [3.800202060171385, -3.166340531165199, -1.4660159386611056], [3.923222174685143, -3.0830038518706857, -1.45883610993322], [4.042404906127386, -2.9968252993361753, -1.4505631344484784], [4.15775094864133, -2.907961276295638, -1.441228753943722], [4.2692633912062, -2.8165615374633908, -1.4308637611960517], [4.376947416827046, -2.722769605583948, -1.4194980413329987], [4.480810035945622, -2.6267231602108914, -1.407160611934942], [4.580859849971359, -2.52855440130592, -1.39387966181658], [4.677106841438189, -2.4283903894791665, -1.379682588459129], [4.769562187744184, -2.3263533644821845, -1.3645960341408667], [4.858238095779148, -2.2225610435434944, -1.348645920767533], [4.943147655101877, -2.117126900879023, -1.3318574835296912], [5.024304707541479, -2.010160430150988, -1.3142553031155797], [5.101723731476716, -1.9017673906662178, -1.2958633368709902], [5.1754197391600405, -1.792050038564377, -1.2767049488957776], [5.245408185657243, -1.6811073441831785, -1.2568029390555844], [5.311704888142124, -1.5690351970502174, -1.2361795706262708], [5.374325954499259, -1.4559265987339718, -1.214856597153829], [5.433287720218643, -1.3418718444640434, -1.1928552885449961], [5.488606692728287, -1.2269586951464346, -1.1701964558347275], [5.540299502421332, -1.1112725397362662, -1.1469004752696885], [5.588382859677747, -0.9948965486047167, -1.122987311784328], [5.632873517301598, -0.8779118192596943, -1.0984765414068731], [5.673788237874352, -0.7603975149803408, -1.0733873727009786], [5.711143765462562, -0.6424309953100357, -1.0477386683766314], [5.744956801299839, -0.5240879407671062, -1.0215489658983514], [5.775243983295203, -0.4054424730475, -0.9948364964538322], [5.802021868593307, -0.2865672674362462, -0.9676192051202998], [5.825306919396286, -0.16753366224185973, -0.9399147690286179], [5.845115491370597, -0.04841176222477485, -0.9117406160831177], [5.861463824729408, 0.07072946131100415, -0.8831139425904545], [5.874368037635978, 0.18982207477010907, -0.854051730820862], [5.8838441218145485, 0.30879908991001204, -0.8245707660942155], [5.889907940208754, 0.4275943746721612, -0.7946876535033661], [5.892575226555766, 0.5461425670911242, -0.7644188344434858], [5.891861586820703, 0.6643789917440898, -0.7337806027631633], [5.887782502332441, 0.7822395787061329, -0.7027891207870842], [5.880353334608594, 0.8996607846086622, -0.6714604350911902], [5.869589331694529, 1.0165795158657225, -0.6398104923503667], [5.855505636323882, 1.1329330529582946, -0.6078551544625153], [5.838117295329971, 1.2486589769463745, -0.5756102142927354], [5.817439270731305, 1.3636950968793944, -0.5430914109998425], [5.793486452408434, 1.4779793781547166, -0.5103144452179643], [5.766273672095887, 1.5914498721990393, -0.47729499472642295], [5.735815719225229, 1.7040446462767165, -0.444048729545448], [5.70212735812624, 1.8157017142177065, -0.41059132762479056], [5.66522334698694, 1.926358967299329, -0.3769384904111675], [5.625118458544509, 2.0359541052297185, -0.34310595852249726], [5.5818275024525414, 2.1444245671645, -0.30910952781551515], [5.5353653496200765, 2.251707462495961, -0.2749650654387403], [5.4857469584633005, 2.3577395011554545, -0.24068852631313958], [5.432987403246714, 2.4624569234841824, -0.20629596985945642], [5.377101904644244, 2.5657954293311516, -0.17180357705153046], [5.318105862702378, 2.6676901060280622, -0.1372276678583419], [5.256014892214165, 2.7680753557123166, -0.10258471918545718], [5.190844860972003, 2.866884820824663, -0.06789138315246805], [5.122611930816172, 2.964051308536243, -0.0331645060163128], [5.051332601815548, 3.0595067135186005, 0.0015788523406773244], [4.977023759930215, 3.1531819386508877, 0.03632139836696039], [4.899702728326261, 3.245006813803925, 0.07104558407938562], [4.81938732278704, 3.3349100121945447, 0.10573358566043484], [4.736095910954403, 3.4228189651727585, 0.14036728086013397], [4.649847477418199, 3.508659772433073, 0.17492822639754413], [4.5606616919622605, 3.592357112498592, 0.20939763297964115], [4.468558986161811, 3.673834145862303, 0.2437563413263494], [4.373560632632445, 3.7530124199131567, 0.2779847946363571], [4.275688834960323, 3.8298117645254597, 0.3120630127795408], [4.174966820309754, 3.9041501902510123, 0.345970561924789], [4.0714189451539635, 3.9759437755140987, 0.3796865265680425], [3.9650708039682714, 4.04510655701143, 0.41318947592439953], [3.8559493538525644, 4.111550407558048, 0.4464574334429936], [3.744083042654298, 4.175184917647462, 0.47946783949552396], [3.629501956249251, 4.235917262967513, 0.5121975179842666], [3.5122379702408586, 4.293652076023444, 0.5446226348180685], [3.392324924714889, 4.348291302179535, 0.5767186613063432], [3.269798805084759, 4.399734059896755, 0.6084603281847282], [3.1446979462263958, 4.447876488051045, 0.6398215823642054], [3.0170632540567137, 4.49261158857747, 0.6707755399374047], [2.8869384470308384, 4.533829063481851, 0.7012944361614077], [2.754370320002871, 4.571415145657569, 0.731349572231067], [2.619409034165113, 4.60525242235033, 0.7609112593108739], [2.482108436410329, 4.6352196508136565, 0.7899487607889993], [2.3425264061628153, 4.661191570319883, 0.81843022784774], [2.2007252416021137, 4.683038703818309, 0.8463226355440437], [2.0567720798024, 4.70062715704649, 0.8735917110323643], [1.9107393624926656, 4.7138184095211, 0.9002018600861856], [1.7627053497141858, 4.722469100355448, 0.9261160897987489], [1.6127546831522177, 4.726430812400042, 0.951295922965464], [1.460979011780249, 4.7255498510327545, 0.9757013107753472], [1.3074776849997558, 4.719667021000192, 0.9992905414023934], [1.1523585151707385, 4.708617407018065, 1.0220201387274552], [0.9957386267571313, 4.692230155397596, 1.0438447589087787], [0.8377453972281461, 4.670328263328816, 1.0647170800770487], [0.678517500882449, 4.642728380093045, 1.0845876845857085], [0.5182060704959129, 4.60924062455422, 1.1034049359107507], [0.35697598984256723, 4.569668426464261, 1.1211148490241336], [0.19500733257104974, 4.523808400670758, 1.1376609529420174], [0.03249696645237559, 4.471450264618302, 1.1529841462114758], [-0.1303396551603162, 4.412376811715415, 1.167022547721314], [-0.2932664962071392, 4.346363959996938, 1.1797113355682012], [-0.45602470109606963, 4.273180892259899, 1.1909825866358623], [-0.618330098091307, 4.192590318317608, 1.2007651034906284], [-0.7798704032704684, 4.1043488875427325, 1.2089842396088608], [-0.9403020921283307, 4.008207792803292, 1.2155617192684174], [-1.0992468973249772, 3.903913614170232, 1.2204154548458543], [-1.256287888254067, 3.7912094629764206, 1.2234593634982254], [-1.410965083929426, 3.6698365012279153, 1.2246031860894917], [-1.5627705468595492, 3.539535929405507, 1.223752311924635], [-1.7111429027186669, 3.4000515579206683, 1.2208076142606827], [-1.8554612282855787, 3.2511331053330323, 1.2156653030277327], [-1.9950382520277405, 3.0925404004768025, 1.2082168028252438], [-2.129112813410641, 2.924048708365982, 1.1983486673782384], [-2.2568415378270785, 2.7454554532330127, 1.1859425430834516], [-2.3772897023632367, 2.5565886748562163, 1.1708752007930978], [-2.48942129380669, 2.3573176369719295, 1.1530186569424599], [-2.592088312555181, 2.1475660986811245, 1.132240416734048], [-2.6840194402128636, 1.9273288871794714, 1.1084038714958897], [-2.7638083076971265, 1.6966925383777265, 1.0813689047460886], [-2.8299017517819056, 1.4558609475331932, 1.0509927661095884], [-2.8805886863528887, 1.2051871573628519, 1.0171312941313737], [-2.9139905477703945, 0.9452126199517589, 0.9796405910955103], [-2.928054749737559, 0.6767154786585041, 0.9383792858801184], [-2.920553248641021, 0.4007696202434834, 0.8932115462744624], [-2.889089245398633, 0.11881634843719159, 0.8440110636050324], [-2.8311163030340385, -0.16724949817177714, 0.7906662740534213], [-2.743975832115831, -0.4549775227913047, 0.7330871527638576], [-2.624961056042689, -0.7412432787392025, 0.6712139830286263], [-2.4714182374385922, -1.0221145617991847, 0.6050285741773695], [-2.280899024564335, -1.292706992029933, 0.5345684514849279], [-2.051380899800902, -1.5470388071083119, 0.45994454689224085], [-1.7815750518081217, -1.7779032384415376, 0.3813628318783877], [-1.4713409360833616, -1.976789196594431, 0.29915007366246055], [-1.1222216200752504, -2.133897625903484, 0.2137833847597709], [-0.7380996634444988, -2.238320879519307, 0.12592234389592458], [-0.32594472621392767, -2.2784720552202873, 0.036441140262422234], [0.10342311439246779, -2.2428621545585337, -0.05354352728583548], [0.5346964186422118, -2.1213112818763658, -0.1426548836157246], [0.9477871042615545, -1.9066281358771031, -0.22925620373964267], [1.3181535022613646, -1.596685465276423, -0.3114757411223906], [1.6180283090969185, -1.1966606284085826, -0.387260891593656], [1.8187357392891252, -0.7210333863476501, -0.45446072615569505], [1.8940827380247356, -0.19480239965078394, -0.5109294114091858], [1.8245294539717987, 0.34663109702431544, -0.5546378386373129], [1.601569503351604, 0.8593243140075395, -0.5837799360636052], [1.231566215733582, 1.2945468859480331, -0.5968648299792976], [0.7382344468916244, 1.6042605271291188, -0.5927944880409061], [0.16300607469985814, 1.747845349554437, -0.5709346563523967], [-0.43736167090511274, 1.699279970264729, -0.5311902755873562], [-0.9963471491902447, 1.453621578625355, -0.47409183879793687], [-1.446333335772911, 1.0312420959145145, -0.40088533949520094], [-1.729453369943231, 0.47806794180429146, -0.313598346168469], [-1.8084820027793442, -0.13952885590825512, -0.2150371931725759], [-1.674662093647749, -0.7451527552037145, -0.10867003082870033], [-1.3495212216340544, -1.2659363835196298, 0.0016204046091063415], [-0.8795930485255031, -1.6452803865012273, 0.11187813570540002], [-0.32578682458739755, -1.8508694058695092, 0.2184276060763055], [0.24882074668049023, -1.876124045515287, 0.3181513851266274], [0.789029984298772, -1.7360067483344153, 0.408640399107038], [1.2533824595085858, -1.4598189054333772, 0.4882173791195854], [1.615834341754527, -1.0836944160118114, 0.5558702642929952], [1.8644385217274866, -0.6445153397985246, 0.611141144467136], [1.9984864363537578, -0.17585455891064344, 0.6540063438566216], [2.025244142850999, 0.2941996982427424, 0.6847677151372387], [1.9569562516419219, 0.7438010216831364, 0.7039625369917695], [1.8084147396486567, 1.157181242634625, 0.7122919924116253], [1.5951543827982775, 1.5239716555456055, 0.7105651467979357], [1.3322175302069492, 1.838295323251919, 0.6996548835662728], [1.0333851574794337, 2.0978134457732107, 0.6804629317735094], [0.7107640871041775, 2.302832359433786, 0.6538920422129701], [0.3746306901797385, 2.455525666971622, 0.6208241132040806], [0.033448086699629224, 2.559292312851584, 0.5821035154635752], [-0.30600844596924887, 2.618250653548188, 0.5385250545139582], [-0.6384667761156203, 2.636856677651543, 0.49082603507838796], [-0.9599487513049108, 2.619628661427828, 0.43968185001118826], [-1.267559868652523, 2.5709586775961406, 0.385704473231546], [-1.5592921434211338, 2.4949920243481327, 0.329443226615048], [-1.8338479431781016, 2.39555771112336, 0.2713872227188569], [-2.0904879619387517, 2.276135843118654, 0.21196895081906186], [-2.328903520989351, 2.139850562686413, 0.15156855942418893], [-2.549111606244109, 1.989479817024666, 0.09051848050855463], [-2.751370136278876, 1.82747546917433, 0.029108128647401584], [-2.936110614671323, 1.6559891017649608, -0.032411514161467044], [-3.103885336278432, 1.4769002953547883, -0.09382355375301972], [-3.255326534446212, 1.291845242573724, -0.1549411540980172], [-3.391115168316272, 1.102244348310946, -0.21560386056518918], [-3.5119573901354326, 0.909328026018041, -0.27567428738036953], [-3.6175690587581477, 0.7161200650283461, -0.33444537869009316]], &quot;color&quot;: &quot;#ff0000&quot;, &quot;opacity&quot;: 1.0, &quot;linewidth&quot;: 1.0}];\n",
       "    for ( var i=0 ; i < lines.length ; i++ ) addLine( lines[i] );\n",
       "\n",
       "    function addLine( json ) {\n",
       "\n",
       "        var geometry = new THREE.Geometry();\n",
       "        for ( var i=0 ; i < json.points.length ; i++ ) {\n",
       "            var v = json.points[i];\n",
       "            geometry.vertices.push( new THREE.Vector3( a[0]*v[0], a[1]*v[1], a[2]*v[2] ) );\n",
       "        }\n",
       "\n",
       "        var transparent = json.opacity < 1 ? true : false;\n",
       "        var material = new THREE.LineBasicMaterial( { color: json.color, linewidth: json.linewidth,\n",
       "                                                      transparent: transparent, opacity: json.opacity } );\n",
       "\n",
       "        var c = new THREE.Vector3();\n",
       "        geometry.computeBoundingBox();\n",
       "        geometry.boundingBox.getCenter( c );\n",
       "        geometry.translate( -c.x, -c.y, -c.z );\n",
       "\n",
       "        var mesh = new THREE.Line( geometry, material );\n",
       "        mesh.position.set( c.x, c.y, c.z );\n",
       "        scene.add( mesh );\n",
       "\n",
       "    }\n",
       "\n",
       "    var surfaces = [{&quot;vertices&quot;: [{&quot;x&quot;: 0.0, &quot;y&quot;: 0.0, &quot;z&quot;: -1.0632139225171164}, {&quot;x&quot;: 0.16379647652075244, &quot;y&quot;: 0.02888173815558925, &quot;z&quot;: -1.050123994828578}, {&quot;x&quot;: 0.16632330119229063, &quot;y&quot;: 0.0, &quot;z&quot;: -1.050123994828578}, {&quot;x&quot;: 0.1562927787951476, &quot;y&quot;: 0.05688591931218561, &quot;z&quot;: -1.050123994828578}, {&quot;x&quot;: 0.14404020407381432, &quot;y&quot;: 0.0831616505961453, &quot;z&quot;: -1.050123994828578}, {&quot;x&quot;: 0.12741104063955833, &quot;y&quot;: 0.10691055720856683, &quot;z&quot;: -1.050123994828578}, {&quot;x&quot;: 0.10691055720856685, &quot;y&quot;: 0.12741104063955833, &quot;z&quot;: -1.050123994828578}, {&quot;x&quot;: 0.08316165059614535, &quot;y&quot;: 0.1440402040738143, &quot;z&quot;: -1.050123994828578}, {&quot;x&quot;: 0.05688591931218563, &quot;y&quot;: 0.15629277879514758, &quot;z&quot;: -1.050123994828578}, {&quot;x&quot;: 0.028881738155589264, &quot;y&quot;: 0.16379647652075244, &quot;z&quot;: -1.050123994828578}, {&quot;x&quot;: 1.0184364921437994e-17, &quot;y&quot;: 0.16632330119229063, &quot;z&quot;: -1.050123994828578}, {&quot;x&quot;: -0.028881738155589247, &quot;y&quot;: 0.16379647652075244, &quot;z&quot;: -1.050123994828578}, {&quot;x&quot;: -0.056885919312185576, &quot;y&quot;: 0.1562927787951476, &quot;z&quot;: -1.050123994828578}, {&quot;x&quot;: -0.08316165059614529, &quot;y&quot;: 0.14404020407381432, &quot;z&quot;: -1.050123994828578}, {&quot;x&quot;: -0.10691055720856685, &quot;y&quot;: 0.12741104063955833, &quot;z&quot;: -1.050123994828578}, {&quot;x&quot;: -0.12741104063955833, &quot;y&quot;: 0.10691055720856686, &quot;z&quot;: -1.050123994828578}, {&quot;x&quot;: -0.1440402040738143, &quot;y&quot;: 0.08316165059614537, &quot;z&quot;: -1.050123994828578}, {&quot;x&quot;: -0.15629277879514758, &quot;y&quot;: 0.05688591931218564, &quot;z&quot;: -1.050123994828578}, {&quot;x&quot;: -0.16379647652075244, &quot;y&quot;: 0.028881738155589243, &quot;z&quot;: -1.050123994828578}, {&quot;x&quot;: -0.16632330119229063, &quot;y&quot;: 2.0368729842875988e-17, &quot;z&quot;: -1.050123994828578}, {&quot;x&quot;: -0.1637964765207525, &quot;y&quot;: -0.0288817381555892, &quot;z&quot;: -1.050123994828578}, {&quot;x&quot;: -0.1562927787951476, &quot;y&quot;: -0.056885919312185604, &quot;z&quot;: -1.050123994828578}, {&quot;x&quot;: -0.1440402040738143, &quot;y&quot;: -0.08316165059614535, &quot;z&quot;: -1.050123994828578}, {&quot;x&quot;: -0.12741104063955838, &quot;y&quot;: -0.10691055720856676, &quot;z&quot;: -1.050123994828578}, {&quot;x&quot;: -0.10691055720856686, &quot;y&quot;: -0.12741104063955833, &quot;z&quot;: -1.050123994828578}, {&quot;x&quot;: -0.08316165059614539, &quot;y&quot;: -0.14404020407381427, &quot;z&quot;: -1.050123994828578}, {&quot;x&quot;: -0.05688591931218559, &quot;y&quot;: -0.1562927787951476, &quot;z&quot;: -1.050123994828578}, {&quot;x&quot;: -0.02888173815558925, &quot;y&quot;: -0.16379647652075244, &quot;z&quot;: -1.050123994828578}, {&quot;x&quot;: -3.055309476431398e-17, &quot;y&quot;: -0.16632330119229063, &quot;z&quot;: -1.050123994828578}, {&quot;x&quot;: 0.02888173815558919, &quot;y&quot;: -0.1637964765207525, &quot;z&quot;: -1.050123994828578}, {&quot;x&quot;: 0.05688591931218566, &quot;y&quot;: -0.15629277879514758, &quot;z&quot;: -1.050123994828578}, {&quot;x&quot;: 0.08316165059614522, &quot;y&quot;: -0.14404020407381438, &quot;z&quot;: -1.050123994828578}, {&quot;x&quot;: 0.10691055720856683, &quot;y&quot;: -0.12741104063955835, &quot;z&quot;: -1.050123994828578}, {&quot;x&quot;: 0.1274110406395583, &quot;y&quot;: -0.10691055720856689, &quot;z&quot;: -1.050123994828578}, {&quot;x&quot;: 0.14404020407381435, &quot;y&quot;: -0.08316165059614528, &quot;z&quot;: -1.050123994828578}, {&quot;x&quot;: 0.1562927787951476, &quot;y&quot;: -0.0568859193121856, &quot;z&quot;: -1.050123994828578}, {&quot;x&quot;: 0.16379647652075244, &quot;y&quot;: -0.02888173815558926, &quot;z&quot;: -1.050123994828578}, {&quot;x&quot;: 0.32355974018022476, &quot;y&quot;: 0.05705231206479443, &quot;z&quot;: -1.011176529225634}, {&quot;x&quot;: 0.3285511707138376, &quot;y&quot;: 0.0, &quot;z&quot;: -1.011176529225634}, {&quot;x&quot;: 0.30873711067036447, &quot;y&quot;: 0.11237111849736299, &quot;z&quot;: -1.011176529225634}, {&quot;x&quot;: 0.2845336602813012, &quot;y&quot;: 0.16427558535691875, &quot;z&quot;: -1.011176529225634}, {&quot;x&quot;: 0.25168479860556997, &quot;y&quot;: 0.21118862168286176, &quot;z&quot;: -1.011176529225634}, {&quot;x&quot;: 0.21118862168286182, &quot;y&quot;: 0.25168479860556997, &quot;z&quot;: -1.011176529225634}, {&quot;x&quot;: 0.16427558535691883, &quot;y&quot;: 0.2845336602813012, &quot;z&quot;: -1.011176529225634}, {&quot;x&quot;: 0.11237111849736302, &quot;y&quot;: 0.3087371106703644, &quot;z&quot;: -1.011176529225634}, {&quot;x&quot;: 0.05705231206479445, &quot;y&quot;: 0.32355974018022476, &quot;z&quot;: -1.011176529225634}, {&quot;x&quot;: 2.011795697854084e-17, &quot;y&quot;: 0.3285511707138376, &quot;z&quot;: -1.011176529225634}, {&quot;x&quot;: -0.05705231206479442, &quot;y&quot;: 0.32355974018022476, &quot;z&quot;: -1.011176529225634}, {&quot;x&quot;: -0.11237111849736292, &quot;y&quot;: 0.30873711067036447, &quot;z&quot;: -1.011176529225634}, {&quot;x&quot;: -0.16427558535691872, &quot;y&quot;: 0.2845336602813012, &quot;z&quot;: -1.011176529225634}, {&quot;x&quot;: -0.21118862168286182, &quot;y&quot;: 0.25168479860556997, &quot;z&quot;: -1.011176529225634}, {&quot;x&quot;: -0.25168479860556997, &quot;y&quot;: 0.21118862168286184, &quot;z&quot;: -1.011176529225634}, {&quot;x&quot;: -0.28453366028130117, &quot;y&quot;: 0.16427558535691889, &quot;z&quot;: -1.011176529225634}, {&quot;x&quot;: -0.3087371106703644, &quot;y&quot;: 0.11237111849736303, &quot;z&quot;: -1.011176529225634}, {&quot;x&quot;: -0.32355974018022476, &quot;y&quot;: 0.05705231206479441, &quot;z&quot;: -1.011176529225634}, {&quot;x&quot;: -0.3285511707138376, &quot;y&quot;: 4.023591395708168e-17, &quot;z&quot;: -1.011176529225634}, {&quot;x&quot;: -0.3235597401802248, &quot;y&quot;: -0.057052312064794324, &quot;z&quot;: -1.011176529225634}, {&quot;x&quot;: -0.30873711067036447, &quot;y&quot;: -0.11237111849736296, &quot;z&quot;: -1.011176529225634}, {&quot;x&quot;: -0.2845336602813012, &quot;y&quot;: -0.16427558535691883, &quot;z&quot;: -1.011176529225634}, {&quot;x&quot;: -0.2516847986055701, &quot;y&quot;: -0.21118862168286162, &quot;z&quot;: -1.011176529225634}, {&quot;x&quot;: -0.21118862168286184, &quot;y&quot;: -0.25168479860556997, &quot;z&quot;: -1.011176529225634}, {&quot;x&quot;: -0.16427558535691894, &quot;y&quot;: -0.28453366028130117, &quot;z&quot;: -1.011176529225634}, {&quot;x&quot;: -0.11237111849736293, &quot;y&quot;: -0.30873711067036447, &quot;z&quot;: -1.011176529225634}, {&quot;x&quot;: -0.05705231206479443, &quot;y&quot;: -0.32355974018022476, &quot;z&quot;: -1.011176529225634}, {&quot;x&quot;: -6.035387093562251e-17, &quot;y&quot;: -0.3285511707138376, &quot;z&quot;: -1.011176529225634}, {&quot;x&quot;: 0.0570523120647943, &quot;y&quot;: -0.3235597401802248, &quot;z&quot;: -1.011176529225634}, {&quot;x&quot;: 0.11237111849736307, &quot;y&quot;: -0.3087371106703644, &quot;z&quot;: -1.011176529225634}, {&quot;x&quot;: 0.16427558535691858, &quot;y&quot;: -0.28453366028130134, &quot;z&quot;: -1.011176529225634}, {&quot;x&quot;: 0.21118862168286176, &quot;y&quot;: -0.25168479860557, &quot;z&quot;: -1.011176529225634}, {&quot;x&quot;: 0.2516847986055699, &quot;y&quot;: -0.21118862168286187, &quot;z&quot;: -1.011176529225634}, {&quot;x&quot;: 0.2845336602813013, &quot;y&quot;: -0.1642755853569187, &quot;z&quot;: -1.011176529225634}, {&quot;x&quot;: 0.30873711067036447, &quot;y&quot;: -0.11237111849736295, &quot;z&quot;: -1.011176529225634}, {&quot;x&quot;: 0.32355974018022476, &quot;y&quot;: -0.05705231206479444, &quot;z&quot;: -1.011176529225634}, {&quot;x&quot;: 0.4753558892032478, &quot;y&quot;: 0.08381806870519627, &quot;z&quot;: -0.9473305415706565}, {&quot;x&quot;: 0.4826890200135895, &quot;y&quot;: 0.0, &quot;z&quot;: -0.9473305415706565}, {&quot;x&quot;: 0.4535793102411517, &quot;y&quot;: 0.16508936780677447, &quot;z&quot;: -0.9473305415706565}, {&quot;x&quot;: 0.41802095345958384, &quot;y&quot;: 0.2413445100067947, &quot;z&quot;: -0.9473305415706565}, {&quot;x&quot;: 0.3697612415359554, &quot;y&quot;: 0.3102665213964733, &quot;z&quot;: -0.9473305415706565}, {&quot;x&quot;: 0.31026652139647337, &quot;y&quot;: 0.3697612415359554, &quot;z&quot;: -0.9473305415706565}, {&quot;x&quot;: 0.2413445100067948, &quot;y&quot;: 0.4180209534595838, &quot;z&quot;: -0.9473305415706565}, {&quot;x&quot;: 0.1650893678067745, &quot;y&quot;: 0.45357931024115167, &quot;z&quot;: -0.9473305415706565}, {&quot;x&quot;: 0.08381806870519631, &quot;y&quot;: 0.4753558892032478, &quot;z&quot;: -0.9473305415706565}, {&quot;x&quot;: 2.9556178167160755e-17, &quot;y&quot;: 0.4826890200135895, &quot;z&quot;: -0.9473305415706565}, {&quot;x&quot;: -0.08381806870519626, &quot;y&quot;: 0.4753558892032478, &quot;z&quot;: -0.9473305415706565}, {&quot;x&quot;: -0.16508936780677436, &quot;y&quot;: 0.4535793102411517, &quot;z&quot;: -0.9473305415706565}, {&quot;x&quot;: -0.24134451000679463, &quot;y&quot;: 0.41802095345958384, &quot;z&quot;: -0.9473305415706565}, {&quot;x&quot;: -0.31026652139647337, &quot;y&quot;: 0.3697612415359554, &quot;z&quot;: -0.9473305415706565}, {&quot;x&quot;: -0.36976124153595535, &quot;y&quot;: 0.3102665213964734, &quot;z&quot;: -0.9473305415706565}, {&quot;x&quot;: -0.41802095345958373, &quot;y&quot;: 0.24134451000679488, &quot;z&quot;: -0.9473305415706565}, {&quot;x&quot;: -0.45357931024115167, &quot;y&quot;: 0.16508936780677452, &quot;z&quot;: -0.9473305415706565}, {&quot;x&quot;: -0.4753558892032478, &quot;y&quot;: 0.08381806870519626, &quot;z&quot;: -0.9473305415706565}, {&quot;x&quot;: -0.4826890200135895, &quot;y&quot;: 5.911235633432151e-17, &quot;z&quot;: -0.9473305415706565}, {&quot;x&quot;: -0.4753558892032479, &quot;y&quot;: -0.08381806870519612, &quot;z&quot;: -0.9473305415706565}, {&quot;x&quot;: -0.4535793102411517, &quot;y&quot;: -0.16508936780677444, &quot;z&quot;: -0.9473305415706565}, {&quot;x&quot;: -0.4180209534595838, &quot;y&quot;: -0.2413445100067948, &quot;z&quot;: -0.9473305415706565}, {&quot;x&quot;: -0.3697612415359555, &quot;y&quot;: -0.3102665213964731, &quot;z&quot;: -0.9473305415706565}, {&quot;x&quot;: -0.3102665213964734, &quot;y&quot;: -0.36976124153595535, &quot;z&quot;: -0.9473305415706565}, {&quot;x&quot;: -0.24134451000679494, &quot;y&quot;: -0.4180209534595837, &quot;z&quot;: -0.9473305415706565}, {&quot;x&quot;: -0.16508936780677438, &quot;y&quot;: -0.4535793102411517, &quot;z&quot;: -0.9473305415706565}, {&quot;x&quot;: -0.08381806870519627, &quot;y&quot;: -0.4753558892032478, &quot;z&quot;: -0.9473305415706565}, {&quot;x&quot;: -8.866853450148226e-17, &quot;y&quot;: -0.4826890200135895, &quot;z&quot;: -0.9473305415706565}, {&quot;x&quot;: 0.0838180687051961, &quot;y&quot;: -0.4753558892032479, &quot;z&quot;: -0.9473305415706565}, {&quot;x&quot;: 0.16508936780677458, &quot;y&quot;: -0.45357931024115167, &quot;z&quot;: -0.9473305415706565}, {&quot;x&quot;: 0.24134451000679444, &quot;y&quot;: -0.418020953459584, &quot;z&quot;: -0.9473305415706565}, {&quot;x&quot;: 0.3102665213964733, &quot;y&quot;: -0.36976124153595546, &quot;z&quot;: -0.9473305415706565}, {&quot;x&quot;: 0.3697612415359553, &quot;y&quot;: -0.3102665213964735, &quot;z&quot;: -0.9473305415706565}, {&quot;x&quot;: 0.4180209534595839, &quot;y&quot;: -0.2413445100067946, &quot;z&quot;: -0.9473305415706565}, {&quot;x&quot;: 0.4535793102411517, &quot;y&quot;: -0.1650893678067744, &quot;z&quot;: -0.9473305415706565}, {&quot;x&quot;: 0.4753558892032478, &quot;y&quot;: -0.0838180687051963, &quot;z&quot;: -0.9473305415706565}, {&quot;x&quot;: 0.6154471986183391, &quot;y&quot;: 0.10851994631785468, &quot;z&quot;: -0.8601581319723958}, {&quot;x&quot;: 0.6249414636875933, &quot;y&quot;: 0.0, &quot;z&quot;: -0.8601581319723958}, {&quot;x&quot;: 0.5872528818503762, &quot;y&quot;: 0.21374256898058386, &quot;z&quot;: -0.8601581319723958}, {&quot;x&quot;: 0.5412151834316861, &quot;y&quot;: 0.3124707318437966, &quot;z&quot;: -0.8601581319723958}, {&quot;x&quot;: 0.4787329355325214, &quot;y&quot;: 0.4017046296377553, &quot;z&quot;: -0.8601581319723958}, {&quot;x&quot;: 0.40170462963775533, &quot;y&quot;: 0.4787329355325214, &quot;z&quot;: -0.8601581319723958}, {&quot;x&quot;: 0.3124707318437967, &quot;y&quot;: 0.5412151834316861, &quot;z&quot;: -0.8601581319723958}, {&quot;x&quot;: 0.2137425689805839, &quot;y&quot;: 0.587252881850376, &quot;z&quot;: -0.8601581319723958}, {&quot;x&quot;: 0.10851994631785473, &quot;y&quot;: 0.6154471986183391, &quot;z&quot;: -0.8601581319723958}, {&quot;x&quot;: 3.8266628157973647e-17, &quot;y&quot;: 0.6249414636875933, &quot;z&quot;: -0.8601581319723958}, {&quot;x&quot;: -0.10851994631785467, &quot;y&quot;: 0.6154471986183391, &quot;z&quot;: -0.8601581319723958}, {&quot;x&quot;: -0.21374256898058372, &quot;y&quot;: 0.5872528818503762, &quot;z&quot;: -0.8601581319723958}, {&quot;x&quot;: -0.3124707318437965, &quot;y&quot;: 0.5412151834316861, &quot;z&quot;: -0.8601581319723958}, {&quot;x&quot;: -0.40170462963775533, &quot;y&quot;: 0.4787329355325214, &quot;z&quot;: -0.8601581319723958}, {&quot;x&quot;: -0.47873293553252133, &quot;y&quot;: 0.4017046296377554, &quot;z&quot;: -0.8601581319723958}, {&quot;x&quot;: -0.541215183431686, &quot;y&quot;: 0.3124707318437968, &quot;z&quot;: -0.8601581319723958}, {&quot;x&quot;: -0.587252881850376, &quot;y&quot;: 0.21374256898058394, &quot;z&quot;: -0.8601581319723958}, {&quot;x&quot;: -0.6154471986183391, &quot;y&quot;: 0.10851994631785465, &quot;z&quot;: -0.8601581319723958}, {&quot;x&quot;: -0.6249414636875933, &quot;y&quot;: 7.653325631594729e-17, &quot;z&quot;: -0.8601581319723958}, {&quot;x&quot;: -0.6154471986183393, &quot;y&quot;: -0.10851994631785448, &quot;z&quot;: -0.8601581319723958}, {&quot;x&quot;: -0.5872528818503762, &quot;y&quot;: -0.2137425689805838, &quot;z&quot;: -0.8601581319723958}, {&quot;x&quot;: -0.5412151834316861, &quot;y&quot;: -0.3124707318437967, &quot;z&quot;: -0.8601581319723958}, {&quot;x&quot;: -0.4787329355325216, &quot;y&quot;: -0.401704629637755, &quot;z&quot;: -0.8601581319723958}, {&quot;x&quot;: -0.4017046296377554, &quot;y&quot;: -0.47873293553252133, &quot;z&quot;: -0.8601581319723958}, {&quot;x&quot;: -0.3124707318437969, &quot;y&quot;: -0.541215183431686, &quot;z&quot;: -0.8601581319723958}, {&quot;x&quot;: -0.21374256898058375, &quot;y&quot;: -0.5872528818503762, &quot;z&quot;: -0.8601581319723958}, {&quot;x&quot;: -0.10851994631785468, &quot;y&quot;: -0.6154471986183391, &quot;z&quot;: -0.8601581319723958}, {&quot;x&quot;: -1.1479988447392095e-16, &quot;y&quot;: -0.6249414636875933, &quot;z&quot;: -0.8601581319723958}, {&quot;x&quot;: 0.10851994631785446, &quot;y&quot;: -0.6154471986183393, &quot;z&quot;: -0.8601581319723958}, {&quot;x&quot;: 0.21374256898058402, &quot;y&quot;: -0.587252881850376, &quot;z&quot;: -0.8601581319723958}, {&quot;x&quot;: 0.31247073184379626, &quot;y&quot;: -0.5412151834316863, &quot;z&quot;: -0.8601581319723958}, {&quot;x&quot;: 0.4017046296377553, &quot;y&quot;: -0.4787329355325215, &quot;z&quot;: -0.8601581319723958}, {&quot;x&quot;: 0.4787329355325213, &quot;y&quot;: -0.40170462963775544, &quot;z&quot;: -0.8601581319723958}, {&quot;x&quot;: 0.5412151834316862, &quot;y&quot;: -0.3124707318437964, &quot;z&quot;: -0.8601581319723958}, {&quot;x&quot;: 0.5872528818503762, &quot;y&quot;: -0.21374256898058377, &quot;z&quot;: -0.8601581319723958}, {&quot;x&quot;: 0.6154471986183391, &quot;y&quot;: -0.10851994631785472, &quot;z&quot;: -0.8601581319723958}, {&quot;x&quot;: 0.7403841554512993, &quot;y&quot;: 0.13054970269511437, &quot;z&quot;: -0.7518057744638015}, {&quot;x&quot;: 0.7518057744638016, &quot;y&quot;: 0.0, &quot;z&quot;: -0.7518057744638015}, {&quot;x&quot;: 0.7064663385278693, &quot;y&quot;: 0.2571327187351748, &quot;z&quot;: -0.7518057744638015}, {&quot;x&quot;: 0.6510828993974864, &quot;y&quot;: 0.37590288723190074, &quot;z&quot;: -0.7518057744638015}, {&quot;x&quot;: 0.5759166358327549, &quot;y&quot;: 0.48325143671612447, &quot;z&quot;: -0.7518057744638015}, {&quot;x&quot;: 0.4832514367161246, &quot;y&quot;: 0.5759166358327549, &quot;z&quot;: -0.7518057744638015}, {&quot;x&quot;: 0.37590288723190085, &quot;y&quot;: 0.6510828993974863, &quot;z&quot;: -0.7518057744638015}, {&quot;x&quot;: 0.2571327187351749, &quot;y&quot;: 0.7064663385278692, &quot;z&quot;: -0.7518057744638015}, {&quot;x&quot;: 0.13054970269511443, &quot;y&quot;: 0.7403841554512993, &quot;z&quot;: -0.7518057744638015}, {&quot;x&quot;: 4.603482676387958e-17, &quot;y&quot;: 0.7518057744638016, &quot;z&quot;: -0.7518057744638015}, {&quot;x&quot;: -0.13054970269511434, &quot;y&quot;: 0.7403841554512993, &quot;z&quot;: -0.7518057744638015}, {&quot;x&quot;: -0.2571327187351746, &quot;y&quot;: 0.7064663385278693, &quot;z&quot;: -0.7518057744638015}, {&quot;x&quot;: -0.37590288723190063, &quot;y&quot;: 0.6510828993974864, &quot;z&quot;: -0.7518057744638015}, {&quot;x&quot;: -0.4832514367161246, &quot;y&quot;: 0.5759166358327549, &quot;z&quot;: -0.7518057744638015}, {&quot;x&quot;: -0.5759166358327548, &quot;y&quot;: 0.48325143671612464, &quot;z&quot;: -0.7518057744638015}, {&quot;x&quot;: -0.6510828993974863, &quot;y&quot;: 0.375902887231901, &quot;z&quot;: -0.7518057744638015}, {&quot;x&quot;: -0.7064663385278692, &quot;y&quot;: 0.2571327187351749, &quot;z&quot;: -0.7518057744638015}, {&quot;x&quot;: -0.7403841554512993, &quot;y&quot;: 0.13054970269511434, &quot;z&quot;: -0.7518057744638015}, {&quot;x&quot;: -0.7518057744638016, &quot;y&quot;: 9.206965352775916e-17, &quot;z&quot;: -0.7518057744638015}, {&quot;x&quot;: -0.7403841554512994, &quot;y&quot;: -0.13054970269511415, &quot;z&quot;: -0.7518057744638015}, {&quot;x&quot;: -0.7064663385278693, &quot;y&quot;: -0.25713271873517474, &quot;z&quot;: -0.7518057744638015}, {&quot;x&quot;: -0.6510828993974863, &quot;y&quot;: -0.37590288723190085, &quot;z&quot;: -0.7518057744638015}, {&quot;x&quot;: -0.5759166358327551, &quot;y&quot;: -0.4832514367161242, &quot;z&quot;: -0.7518057744638015}, {&quot;x&quot;: -0.48325143671612464, &quot;y&quot;: -0.5759166358327548, &quot;z&quot;: -0.7518057744638015}, {&quot;x&quot;: -0.37590288723190113, &quot;y&quot;: -0.6510828993974862, &quot;z&quot;: -0.7518057744638015}, {&quot;x&quot;: -0.2571327187351747, &quot;y&quot;: -0.7064663385278693, &quot;z&quot;: -0.7518057744638015}, {&quot;x&quot;: -0.13054970269511437, &quot;y&quot;: -0.7403841554512993, &quot;z&quot;: -0.7518057744638015}, {&quot;x&quot;: -1.3810448029163872e-16, &quot;y&quot;: -0.7518057744638016, &quot;z&quot;: -0.7518057744638015}, {&quot;x&quot;: 0.1305497026951141, &quot;y&quot;: -0.7403841554512994, &quot;z&quot;: -0.7518057744638015}, {&quot;x&quot;: 0.257132718735175, &quot;y&quot;: -0.7064663385278692, &quot;z&quot;: -0.7518057744638015}, {&quot;x&quot;: 0.37590288723190035, &quot;y&quot;: -0.6510828993974866, &quot;z&quot;: -0.7518057744638015}, {&quot;x&quot;: 0.48325143671612447, &quot;y&quot;: -0.575916635832755, &quot;z&quot;: -0.7518057744638015}, {&quot;x&quot;: 0.5759166358327548, &quot;y&quot;: -0.48325143671612475, &quot;z&quot;: -0.7518057744638015}, {&quot;x&quot;: 0.6510828993974865, &quot;y&quot;: -0.3759028872319006, &quot;z&quot;: -0.7518057744638015}, {&quot;x&quot;: 0.7064663385278693, &quot;y&quot;: -0.25713271873517474, &quot;z&quot;: -0.7518057744638015}, {&quot;x&quot;: 0.7403841554512993, &quot;y&quot;: -0.1305497026951144, &quot;z&quot;: -0.7518057744638015}, {&quot;x&quot;: 0.8470903971829133, &quot;y&quot;: 0.14936489212239748, &quot;z&quot;: -0.6249414636875933}, {&quot;x&quot;: 0.8601581319723958, &quot;y&quot;: 0.0, &quot;z&quot;: -0.6249414636875933}, {&quot;x&quot;: 0.8082842493234519, &quot;y&quot;: 0.2941914075799383, &quot;z&quot;: -0.6249414636875933}, {&quot;x&quot;: 0.7449187935598626, &quot;y&quot;: 0.43007906598619783, &quot;z&quot;: -0.6249414636875933}, {&quot;x&quot;: 0.6589193572010543, &quot;y&quot;: 0.5528989896029751, &quot;z&quot;: -0.6249414636875933}, {&quot;x&quot;: 0.5528989896029752, &quot;y&quot;: 0.6589193572010543, &quot;z&quot;: -0.6249414636875933}, {&quot;x&quot;: 0.430079065986198, &quot;y&quot;: 0.7449187935598625, &quot;z&quot;: -0.6249414636875933}, {&quot;x&quot;: 0.2941914075799384, &quot;y&quot;: 0.8082842493234519, &quot;z&quot;: -0.6249414636875933}, {&quot;x&quot;: 0.14936489212239756, &quot;y&quot;: 0.8470903971829133, &quot;z&quot;: -0.6249414636875933}, {&quot;x&quot;: 5.2669495154028056e-17, &quot;y&quot;: 0.8601581319723958, &quot;z&quot;: -0.6249414636875933}, {&quot;x&quot;: -0.14936489212239748, &quot;y&quot;: 0.8470903971829133, &quot;z&quot;: -0.6249414636875933}, {&quot;x&quot;: -0.2941914075799381, &quot;y&quot;: 0.8082842493234519, &quot;z&quot;: -0.6249414636875933}, {&quot;x&quot;: -0.4300790659861977, &quot;y&quot;: 0.7449187935598626, &quot;z&quot;: -0.6249414636875933}, {&quot;x&quot;: -0.5528989896029752, &quot;y&quot;: 0.6589193572010543, &quot;z&quot;: -0.6249414636875933}, {&quot;x&quot;: -0.6589193572010542, &quot;y&quot;: 0.5528989896029752, &quot;z&quot;: -0.6249414636875933}, {&quot;x&quot;: -0.7449187935598625, &quot;y&quot;: 0.43007906598619816, &quot;z&quot;: -0.6249414636875933}, {&quot;x&quot;: -0.8082842493234519, &quot;y&quot;: 0.29419140757993845, &quot;z&quot;: -0.6249414636875933}, {&quot;x&quot;: -0.8470903971829133, &quot;y&quot;: 0.14936489212239745, &quot;z&quot;: -0.6249414636875933}, {&quot;x&quot;: -0.8601581319723958, &quot;y&quot;: 1.0533899030805611e-16, &quot;z&quot;: -0.6249414636875933}, {&quot;x&quot;: -0.8470903971829136, &quot;y&quot;: -0.14936489212239723, &quot;z&quot;: -0.6249414636875933}, {&quot;x&quot;: -0.8082842493234519, &quot;y&quot;: -0.2941914075799382, &quot;z&quot;: -0.6249414636875933}, {&quot;x&quot;: -0.7449187935598625, &quot;y&quot;: -0.430079065986198, &quot;z&quot;: -0.6249414636875933}, {&quot;x&quot;: -0.6589193572010547, &quot;y&quot;: -0.5528989896029748, &quot;z&quot;: -0.6249414636875933}, {&quot;x&quot;: -0.5528989896029752, &quot;y&quot;: -0.6589193572010542, &quot;z&quot;: -0.6249414636875933}, {&quot;x&quot;: -0.4300790659861983, &quot;y&quot;: -0.7449187935598623, &quot;z&quot;: -0.6249414636875933}, {&quot;x&quot;: -0.29419140757993817, &quot;y&quot;: -0.8082842493234519, &quot;z&quot;: -0.6249414636875933}, {&quot;x&quot;: -0.14936489212239748, &quot;y&quot;: -0.8470903971829133, &quot;z&quot;: -0.6249414636875933}, {&quot;x&quot;: -1.5800848546208415e-16, &quot;y&quot;: -0.8601581319723958, &quot;z&quot;: -0.6249414636875933}, {&quot;x&quot;: 0.14936489212239717, &quot;y&quot;: -0.8470903971829136, &quot;z&quot;: -0.6249414636875933}, {&quot;x&quot;: 0.2941914075799385, &quot;y&quot;: -0.8082842493234519, &quot;z&quot;: -0.6249414636875933}, {&quot;x&quot;: 0.4300790659861974, &quot;y&quot;: -0.7449187935598629, &quot;z&quot;: -0.6249414636875933}, {&quot;x&quot;: 0.5528989896029751, &quot;y&quot;: -0.6589193572010544, &quot;z&quot;: -0.6249414636875933}, {&quot;x&quot;: 0.6589193572010542, &quot;y&quot;: -0.5528989896029753, &quot;z&quot;: -0.6249414636875933}, {&quot;x&quot;: 0.7449187935598627, &quot;y&quot;: -0.4300790659861976, &quot;z&quot;: -0.6249414636875933}, {&quot;x&quot;: 0.8082842493234519, &quot;y&quot;: -0.2941914075799382, &quot;z&quot;: -0.6249414636875933}, {&quot;x&quot;: 0.8470903971829133, &quot;y&quot;: -0.14936489212239754, &quot;z&quot;: -0.6249414636875933}, {&quot;x&quot;: 0.9329384620040365, &quot;y&quot;: 0.16450222219197072, &quot;z&quot;: -0.48268902001358943}, {&quot;x&quot;: 0.9473305415706567, &quot;y&quot;: 0.0, &quot;z&quot;: -0.48268902001358943}, {&quot;x&quot;: 0.8901995193590643, &quot;y&quot;: 0.32400612760477937, &quot;z&quot;: -0.48268902001358943}, {&quot;x&quot;: 0.8204123147810589, &quot;y&quot;: 0.4736652707853282, &quot;z&quot;: -0.48268902001358943}, {&quot;x&quot;: 0.7256972971670935, &quot;y&quot;: 0.6089323343992571, &quot;z&quot;: -0.48268902001358943}, {&quot;x&quot;: 0.6089323343992572, &quot;y&quot;: 0.7256972971670935, &quot;z&quot;: -0.48268902001358943}, {&quot;x&quot;: 0.4736652707853284, &quot;y&quot;: 0.8204123147810588, &quot;z&quot;: -0.48268902001358943}, {&quot;x&quot;: 0.3240061276047794, &quot;y&quot;: 0.8901995193590642, &quot;z&quot;: -0.48268902001358943}, {&quot;x&quot;: 0.16450222219197078, &quot;y&quot;: 0.9329384620040365, &quot;z&quot;: -0.48268902001358943}, {&quot;x&quot;: 5.800726577345166e-17, &quot;y&quot;: 0.9473305415706567, &quot;z&quot;: -0.48268902001358943}, {&quot;x&quot;: -0.1645022221919707, &quot;y&quot;: 0.9329384620040365, &quot;z&quot;: -0.48268902001358943}, {&quot;x&quot;: -0.32400612760477915, &quot;y&quot;: 0.8901995193590643, &quot;z&quot;: -0.48268902001358943}, {&quot;x&quot;: -0.4736652707853281, &quot;y&quot;: 0.8204123147810589, &quot;z&quot;: -0.48268902001358943}, {&quot;x&quot;: -0.6089323343992572, &quot;y&quot;: 0.7256972971670935, &quot;z&quot;: -0.48268902001358943}, {&quot;x&quot;: -0.7256972971670934, &quot;y&quot;: 0.6089323343992573, &quot;z&quot;: -0.48268902001358943}, {&quot;x&quot;: -0.8204123147810587, &quot;y&quot;: 0.4736652707853286, &quot;z&quot;: -0.48268902001358943}, {&quot;x&quot;: -0.8901995193590642, &quot;y&quot;: 0.3240061276047795, &quot;z&quot;: -0.48268902001358943}, {&quot;x&quot;: -0.9329384620040365, &quot;y&quot;: 0.16450222219197067, &quot;z&quot;: -0.48268902001358943}, {&quot;x&quot;: -0.9473305415706567, &quot;y&quot;: 1.1601453154690332e-16, &quot;z&quot;: -0.48268902001358943}, {&quot;x&quot;: -0.9329384620040366, &quot;y&quot;: -0.16450222219197042, &quot;z&quot;: -0.48268902001358943}, {&quot;x&quot;: -0.8901995193590643, &quot;y&quot;: -0.3240061276047793, &quot;z&quot;: -0.48268902001358943}, {&quot;x&quot;: -0.8204123147810588, &quot;y&quot;: -0.4736652707853284, &quot;z&quot;: -0.48268902001358943}, {&quot;x&quot;: -0.7256972971670939, &quot;y&quot;: -0.6089323343992568, &quot;z&quot;: -0.48268902001358943}, {&quot;x&quot;: -0.6089323343992573, &quot;y&quot;: -0.7256972971670934, &quot;z&quot;: -0.48268902001358943}, {&quot;x&quot;: -0.4736652707853287, &quot;y&quot;: -0.8204123147810586, &quot;z&quot;: -0.48268902001358943}, {&quot;x&quot;: -0.3240061276047792, &quot;y&quot;: -0.8901995193590643, &quot;z&quot;: -0.48268902001358943}, {&quot;x&quot;: -0.16450222219197072, &quot;y&quot;: -0.9329384620040365, &quot;z&quot;: -0.48268902001358943}, {&quot;x&quot;: -1.7402179732035496e-16, &quot;y&quot;: -0.9473305415706567, &quot;z&quot;: -0.48268902001358943}, {&quot;x&quot;: 0.16450222219197036, &quot;y&quot;: -0.9329384620040366, &quot;z&quot;: -0.48268902001358943}, {&quot;x&quot;: 0.3240061276047796, &quot;y&quot;: -0.8901995193590642, &quot;z&quot;: -0.48268902001358943}, {&quot;x&quot;: 0.4736652707853277, &quot;y&quot;: -0.8204123147810591, &quot;z&quot;: -0.48268902001358943}, {&quot;x&quot;: 0.6089323343992571, &quot;y&quot;: -0.7256972971670936, &quot;z&quot;: -0.48268902001358943}, {&quot;x&quot;: 0.7256972971670933, &quot;y&quot;: -0.6089323343992574, &quot;z&quot;: -0.48268902001358943}, {&quot;x&quot;: 0.820412314781059, &quot;y&quot;: -0.473665270785328, &quot;z&quot;: -0.48268902001358943}, {&quot;x&quot;: 0.8901995193590643, &quot;y&quot;: -0.32400612760477926, &quot;z&quot;: -0.48268902001358943}, {&quot;x&quot;: 0.9329384620040365, &quot;y&quot;: -0.16450222219197075, &quot;z&quot;: -0.48268902001358943}, {&quot;x&quot;: 0.99581448564538, &quot;y&quot;: 0.17558896159960288, &quot;z&quot;: -0.32855117071383755}, {&quot;x&quot;: 1.011176529225634, &quot;y&quot;: 0.0, &quot;z&quot;: -0.32855117071383755}, {&quot;x&quot;: 0.9501951228252348, &quot;y&quot;: 0.3458427414533036, &quot;z&quot;: -0.32855117071383755}, {&quot;x&quot;: 0.875704562019977, &quot;y&quot;: 0.5055882646128169, &quot;z&quot;: -0.32855117071383755}, {&quot;x&quot;: 0.7746061612256319, &quot;y&quot;: 0.6499717441920764, &quot;z&quot;: -0.32855117071383755}, {&quot;x&quot;: 0.6499717441920765, &quot;y&quot;: 0.7746061612256319, &quot;z&quot;: -0.32855117071383755}, {&quot;x&quot;: 0.5055882646128171, &quot;y&quot;: 0.8757045620199769, &quot;z&quot;: -0.32855117071383755}, {&quot;x&quot;: 0.34584274145330374, &quot;y&quot;: 0.9501951228252347, &quot;z&quot;: -0.32855117071383755}, {&quot;x&quot;: 0.17558896159960294, &quot;y&quot;: 0.99581448564538, &quot;z&quot;: -0.32855117071383755}, {&quot;x&quot;: 6.191670499445514e-17, &quot;y&quot;: 1.011176529225634, &quot;z&quot;: -0.32855117071383755}, {&quot;x&quot;: -0.17558896159960286, &quot;y&quot;: 0.99581448564538, &quot;z&quot;: -0.32855117071383755}, {&quot;x&quot;: -0.3458427414533034, &quot;y&quot;: 0.9501951228252348, &quot;z&quot;: -0.32855117071383755}, {&quot;x&quot;: -0.5055882646128168, &quot;y&quot;: 0.875704562019977, &quot;z&quot;: -0.32855117071383755}, {&quot;x&quot;: -0.6499717441920765, &quot;y&quot;: 0.7746061612256319, &quot;z&quot;: -0.32855117071383755}, {&quot;x&quot;: -0.7746061612256318, &quot;y&quot;: 0.6499717441920766, &quot;z&quot;: -0.32855117071383755}, {&quot;x&quot;: -0.8757045620199768, &quot;y&quot;: 0.5055882646128174, &quot;z&quot;: -0.32855117071383755}, {&quot;x&quot;: -0.9501951228252347, &quot;y&quot;: 0.3458427414533038, &quot;z&quot;: -0.32855117071383755}, {&quot;x&quot;: -0.99581448564538, &quot;y&quot;: 0.17558896159960283, &quot;z&quot;: -0.32855117071383755}, {&quot;x&quot;: -1.011176529225634, &quot;y&quot;: 1.2383340998891028e-16, &quot;z&quot;: -0.32855117071383755}, {&quot;x&quot;: -0.9958144856453802, &quot;y&quot;: -0.17558896159960255, &quot;z&quot;: -0.32855117071383755}, {&quot;x&quot;: -0.9501951228252348, &quot;y&quot;: -0.34584274145330357, &quot;z&quot;: -0.32855117071383755}, {&quot;x&quot;: -0.8757045620199769, &quot;y&quot;: -0.5055882646128171, &quot;z&quot;: -0.32855117071383755}, {&quot;x&quot;: -0.7746061612256322, &quot;y&quot;: -0.6499717441920759, &quot;z&quot;: -0.32855117071383755}, {&quot;x&quot;: -0.6499717441920766, &quot;y&quot;: -0.7746061612256318, &quot;z&quot;: -0.32855117071383755}, {&quot;x&quot;: -0.5055882646128175, &quot;y&quot;: -0.8757045620199767, &quot;z&quot;: -0.32855117071383755}, {&quot;x&quot;: -0.34584274145330346, &quot;y&quot;: -0.9501951228252348, &quot;z&quot;: -0.32855117071383755}, {&quot;x&quot;: -0.17558896159960288, &quot;y&quot;: -0.99581448564538, &quot;z&quot;: -0.32855117071383755}, {&quot;x&quot;: -1.857501149833654e-16, &quot;y&quot;: -1.011176529225634, &quot;z&quot;: -0.32855117071383755}, {&quot;x&quot;: 0.1755889615996025, &quot;y&quot;: -0.9958144856453802, &quot;z&quot;: -0.32855117071383755}, {&quot;x&quot;: 0.34584274145330385, &quot;y&quot;: -0.9501951228252347, &quot;z&quot;: -0.32855117071383755}, {&quot;x&quot;: 0.5055882646128164, &quot;y&quot;: -0.8757045620199774, &quot;z&quot;: -0.32855117071383755}, {&quot;x&quot;: 0.6499717441920764, &quot;y&quot;: -0.774606161225632, &quot;z&quot;: -0.32855117071383755}, {&quot;x&quot;: 0.7746061612256316, &quot;y&quot;: -0.6499717441920767, &quot;z&quot;: -0.32855117071383755}, {&quot;x&quot;: 0.8757045620199772, &quot;y&quot;: -0.5055882646128167, &quot;z&quot;: -0.32855117071383755}, {&quot;x&quot;: 0.9501951228252348, &quot;y&quot;: -0.3458427414533035, &quot;z&quot;: -0.32855117071383755}, {&quot;x&quot;: 0.99581448564538, &quot;y&quot;: -0.1755889615996029, &quot;z&quot;: -0.32855117071383755}, {&quot;x&quot;: 1.0341702517313356, &quot;y&quot;: 0.18235211802629955, &quot;z&quot;: -0.16632330119229058}, {&quot;x&quot;: 1.050123994828578, &quot;y&quot;: 0.0, &quot;z&quot;: -0.16632330119229058}, {&quot;x&quot;: 0.9867937688506343, &quot;y&quot;: 0.3591635592209941, &quot;z&quot;: -0.16632330119229058}, {&quot;x&quot;: 0.9094340566451472, &quot;y&quot;: 0.5250619974142889, &quot;z&quot;: -0.16632330119229058}, {&quot;x&quot;: 0.8044416508243347, &quot;y&quot;: 0.6750066925103415, &quot;z&quot;: -0.16632330119229058}, {&quot;x&quot;: 0.6750066925103416, &quot;y&quot;: 0.8044416508243347, &quot;z&quot;: -0.16632330119229058}, {&quot;x&quot;: 0.5250619974142892, &quot;y&quot;: 0.9094340566451471, &quot;z&quot;: -0.16632330119229058}, {&quot;x&quot;: 0.3591635592209942, &quot;y&quot;: 0.9867937688506342, &quot;z&quot;: -0.16632330119229058}, {&quot;x&quot;: 0.18235211802629964, &quot;y&quot;: 1.0341702517313356, &quot;z&quot;: -0.16632330119229058}, {&quot;x&quot;: 6.43015494487325e-17, &quot;y&quot;: 1.050123994828578, &quot;z&quot;: -0.16632330119229058}, {&quot;x&quot;: -0.18235211802629953, &quot;y&quot;: 1.0341702517313356, &quot;z&quot;: -0.16632330119229058}, {&quot;x&quot;: -0.35916355922099386, &quot;y&quot;: 0.9867937688506343, &quot;z&quot;: -0.16632330119229058}, {&quot;x&quot;: -0.5250619974142888, &quot;y&quot;: 0.9094340566451472, &quot;z&quot;: -0.16632330119229058}, {&quot;x&quot;: -0.6750066925103416, &quot;y&quot;: 0.8044416508243347, &quot;z&quot;: -0.16632330119229058}, {&quot;x&quot;: -0.8044416508243346, &quot;y&quot;: 0.6750066925103417, &quot;z&quot;: -0.16632330119229058}, {&quot;x&quot;: -0.909434056645147, &quot;y&quot;: 0.5250619974142894, &quot;z&quot;: -0.16632330119229058}, {&quot;x&quot;: -0.9867937688506342, &quot;y&quot;: 0.35916355922099424, &quot;z&quot;: -0.16632330119229058}, {&quot;x&quot;: -1.0341702517313356, &quot;y&quot;: 0.1823521180262995, &quot;z&quot;: -0.16632330119229058}, {&quot;x&quot;: -1.050123994828578, &quot;y&quot;: 1.28603098897465e-16, &quot;z&quot;: -0.16632330119229058}, {&quot;x&quot;: -1.0341702517313358, &quot;y&quot;: -0.18235211802629922, &quot;z&quot;: -0.16632330119229058}, {&quot;x&quot;: -0.9867937688506343, &quot;y&quot;: -0.359163559220994, &quot;z&quot;: -0.16632330119229058}, {&quot;x&quot;: -0.9094340566451471, &quot;y&quot;: -0.5250619974142892, &quot;z&quot;: -0.16632330119229058}, {&quot;x&quot;: -0.804441650824335, &quot;y&quot;: -0.6750066925103411, &quot;z&quot;: -0.16632330119229058}, {&quot;x&quot;: -0.6750066925103417, &quot;y&quot;: -0.8044416508243346, &quot;z&quot;: -0.16632330119229058}, {&quot;x&quot;: -0.5250619974142895, &quot;y&quot;: -0.9094340566451469, &quot;z&quot;: -0.16632330119229058}, {&quot;x&quot;: -0.3591635592209939, &quot;y&quot;: -0.9867937688506343, &quot;z&quot;: -0.16632330119229058}, {&quot;x&quot;: -0.18235211802629955, &quot;y&quot;: -1.0341702517313356, &quot;z&quot;: -0.16632330119229058}, {&quot;x&quot;: -1.9290464834619748e-16, &quot;y&quot;: -1.050123994828578, &quot;z&quot;: -0.16632330119229058}, {&quot;x&quot;: 0.18235211802629916, &quot;y&quot;: -1.0341702517313358, &quot;z&quot;: -0.16632330119229058}, {&quot;x&quot;: 0.35916355922099436, &quot;y&quot;: -0.9867937688506342, &quot;z&quot;: -0.16632330119229058}, {&quot;x&quot;: 0.5250619974142884, &quot;y&quot;: -0.9094340566451475, &quot;z&quot;: -0.16632330119229058}, {&quot;x&quot;: 0.6750066925103415, &quot;y&quot;: -0.8044416508243348, &quot;z&quot;: -0.16632330119229058}, {&quot;x&quot;: 0.8044416508243345, &quot;y&quot;: -0.6750066925103418, &quot;z&quot;: -0.16632330119229058}, {&quot;x&quot;: 0.9094340566451473, &quot;y&quot;: -0.5250619974142887, &quot;z&quot;: -0.16632330119229058}, {&quot;x&quot;: 0.9867937688506343, &quot;y&quot;: -0.35916355922099397, &quot;z&quot;: -0.16632330119229058}, {&quot;x&quot;: 1.0341702517313356, &quot;y&quot;: -0.1823521180262996, &quot;z&quot;: -0.16632330119229058}, {&quot;x&quot;: 1.0470613140053773, &quot;y&quot;: 0.18462516011520613, &quot;z&quot;: 0.0}, {&quot;x&quot;: 1.0632139225171164, &quot;y&quot;: 0.0, &quot;z&quot;: 0.0}, {&quot;x&quot;: 0.999094277306175, &quot;y&quot;: 0.3636405781651506, &quot;z&quot;: 0.0}, {&quot;x&quot;: 0.9207702665571227, &quot;y&quot;: 0.5316069612585581, &quot;z&quot;: 0.0}, {&quot;x&quot;: 0.8144691171909687, &quot;y&quot;: 0.6834207358402267, &quot;z&quot;: 0.0}, {&quot;x&quot;: 0.6834207358402268, &quot;y&quot;: 0.8144691171909687, &quot;z&quot;: 0.0}, {&quot;x&quot;: 0.5316069612585583, &quot;y&quot;: 0.9207702665571226, &quot;z&quot;: 0.0}, {&quot;x&quot;: 0.3636405781651507, &quot;y&quot;: 0.9990942773061748, &quot;z&quot;: 0.0}, {&quot;x&quot;: 0.18462516011520622, &quot;y&quot;: 1.0470613140053773, &quot;z&quot;: 0.0}, {&quot;x&quot;: 6.510307635097443e-17, &quot;y&quot;: 1.0632139225171164, &quot;z&quot;: 0.0}, {&quot;x&quot;: -0.1846251601152061, &quot;y&quot;: 1.0470613140053773, &quot;z&quot;: 0.0}, {&quot;x&quot;: -0.3636405781651504, &quot;y&quot;: 0.999094277306175, &quot;z&quot;: 0.0}, {&quot;x&quot;: -0.531606961258558, &quot;y&quot;: 0.9207702665571227, &quot;z&quot;: 0.0}, {&quot;x&quot;: -0.6834207358402268, &quot;y&quot;: 0.8144691171909687, &quot;z&quot;: 0.0}, {&quot;x&quot;: -0.8144691171909686, &quot;y&quot;: 0.6834207358402269, &quot;z&quot;: 0.0}, {&quot;x&quot;: -0.9207702665571225, &quot;y&quot;: 0.5316069612585586, &quot;z&quot;: 0.0}, {&quot;x&quot;: -0.9990942773061748, &quot;y&quot;: 0.3636405781651508, &quot;z&quot;: 0.0}, {&quot;x&quot;: -1.0470613140053773, &quot;y&quot;: 0.18462516011520608, &quot;z&quot;: 0.0}, {&quot;x&quot;: -1.0632139225171164, &quot;y&quot;: 1.3020615270194886e-16, &quot;z&quot;: 0.0}, {&quot;x&quot;: -1.0470613140053775, &quot;y&quot;: -0.1846251601152058, &quot;z&quot;: 0.0}, {&quot;x&quot;: -0.999094277306175, &quot;y&quot;: -0.36364057816515055, &quot;z&quot;: 0.0}, {&quot;x&quot;: -0.9207702665571226, &quot;y&quot;: -0.5316069612585583, &quot;z&quot;: 0.0}, {&quot;x&quot;: -0.814469117190969, &quot;y&quot;: -0.6834207358402262, &quot;z&quot;: 0.0}, {&quot;x&quot;: -0.6834207358402269, &quot;y&quot;: -0.8144691171909686, &quot;z&quot;: 0.0}, {&quot;x&quot;: -0.5316069612585587, &quot;y&quot;: -0.9207702665571224, &quot;z&quot;: 0.0}, {&quot;x&quot;: -0.36364057816515044, &quot;y&quot;: -0.999094277306175, &quot;z&quot;: 0.0}, {&quot;x&quot;: -0.18462516011520613, &quot;y&quot;: -1.0470613140053773, &quot;z&quot;: 0.0}, {&quot;x&quot;: -1.9530922905292328e-16, &quot;y&quot;: -1.0632139225171164, &quot;z&quot;: 0.0}, {&quot;x&quot;: 0.18462516011520574, &quot;y&quot;: -1.0470613140053775, &quot;z&quot;: 0.0}, {&quot;x&quot;: 0.3636405781651509, &quot;y&quot;: -0.9990942773061748, &quot;z&quot;: 0.0}, {&quot;x&quot;: 0.5316069612585576, &quot;y&quot;: -0.920770266557123, &quot;z&quot;: 0.0}, {&quot;x&quot;: 0.6834207358402267, &quot;y&quot;: -0.8144691171909688, &quot;z&quot;: 0.0}, {&quot;x&quot;: 0.8144691171909685, &quot;y&quot;: -0.683420735840227, &quot;z&quot;: 0.0}, {&quot;x&quot;: 0.9207702665571228, &quot;y&quot;: -0.5316069612585579, &quot;z&quot;: 0.0}, {&quot;x&quot;: 0.999094277306175, &quot;y&quot;: -0.3636405781651505, &quot;z&quot;: 0.0}, {&quot;x&quot;: 1.0470613140053773, &quot;y&quot;: -0.1846251601152062, &quot;z&quot;: 0.0}, {&quot;x&quot;: 1.0341702517313356, &quot;y&quot;: 0.18235211802629955, &quot;z&quot;: 0.16632330119229036}, {&quot;x&quot;: 1.050123994828578, &quot;y&quot;: 0.0, &quot;z&quot;: 0.16632330119229036}, {&quot;x&quot;: 0.9867937688506343, &quot;y&quot;: 0.3591635592209941, &quot;z&quot;: 0.16632330119229036}, {&quot;x&quot;: 0.9094340566451472, &quot;y&quot;: 0.5250619974142889, &quot;z&quot;: 0.16632330119229036}, {&quot;x&quot;: 0.8044416508243347, &quot;y&quot;: 0.6750066925103415, &quot;z&quot;: 0.16632330119229036}, {&quot;x&quot;: 0.6750066925103416, &quot;y&quot;: 0.8044416508243347, &quot;z&quot;: 0.16632330119229036}, {&quot;x&quot;: 0.5250619974142892, &quot;y&quot;: 0.9094340566451471, &quot;z&quot;: 0.16632330119229036}, {&quot;x&quot;: 0.3591635592209942, &quot;y&quot;: 0.9867937688506342, &quot;z&quot;: 0.16632330119229036}, {&quot;x&quot;: 0.18235211802629964, &quot;y&quot;: 1.0341702517313356, &quot;z&quot;: 0.16632330119229036}, {&quot;x&quot;: 6.43015494487325e-17, &quot;y&quot;: 1.050123994828578, &quot;z&quot;: 0.16632330119229036}, {&quot;x&quot;: -0.18235211802629953, &quot;y&quot;: 1.0341702517313356, &quot;z&quot;: 0.16632330119229036}, {&quot;x&quot;: -0.35916355922099386, &quot;y&quot;: 0.9867937688506343, &quot;z&quot;: 0.16632330119229036}, {&quot;x&quot;: -0.5250619974142888, &quot;y&quot;: 0.9094340566451472, &quot;z&quot;: 0.16632330119229036}, {&quot;x&quot;: -0.6750066925103416, &quot;y&quot;: 0.8044416508243347, &quot;z&quot;: 0.16632330119229036}, {&quot;x&quot;: -0.8044416508243346, &quot;y&quot;: 0.6750066925103417, &quot;z&quot;: 0.16632330119229036}, {&quot;x&quot;: -0.909434056645147, &quot;y&quot;: 0.5250619974142894, &quot;z&quot;: 0.16632330119229036}, {&quot;x&quot;: -0.9867937688506342, &quot;y&quot;: 0.35916355922099424, &quot;z&quot;: 0.16632330119229036}, {&quot;x&quot;: -1.0341702517313356, &quot;y&quot;: 0.1823521180262995, &quot;z&quot;: 0.16632330119229036}, {&quot;x&quot;: -1.050123994828578, &quot;y&quot;: 1.28603098897465e-16, &quot;z&quot;: 0.16632330119229036}, {&quot;x&quot;: -1.0341702517313358, &quot;y&quot;: -0.18235211802629922, &quot;z&quot;: 0.16632330119229036}, {&quot;x&quot;: -0.9867937688506343, &quot;y&quot;: -0.359163559220994, &quot;z&quot;: 0.16632330119229036}, {&quot;x&quot;: -0.9094340566451471, &quot;y&quot;: -0.5250619974142892, &quot;z&quot;: 0.16632330119229036}, {&quot;x&quot;: -0.804441650824335, &quot;y&quot;: -0.6750066925103411, &quot;z&quot;: 0.16632330119229036}, {&quot;x&quot;: -0.6750066925103417, &quot;y&quot;: -0.8044416508243346, &quot;z&quot;: 0.16632330119229036}, {&quot;x&quot;: -0.5250619974142895, &quot;y&quot;: -0.9094340566451469, &quot;z&quot;: 0.16632330119229036}, {&quot;x&quot;: -0.3591635592209939, &quot;y&quot;: -0.9867937688506343, &quot;z&quot;: 0.16632330119229036}, {&quot;x&quot;: -0.18235211802629955, &quot;y&quot;: -1.0341702517313356, &quot;z&quot;: 0.16632330119229036}, {&quot;x&quot;: -1.9290464834619748e-16, &quot;y&quot;: -1.050123994828578, &quot;z&quot;: 0.16632330119229036}, {&quot;x&quot;: 0.18235211802629916, &quot;y&quot;: -1.0341702517313358, &quot;z&quot;: 0.16632330119229036}, {&quot;x&quot;: 0.35916355922099436, &quot;y&quot;: -0.9867937688506342, &quot;z&quot;: 0.16632330119229036}, {&quot;x&quot;: 0.5250619974142884, &quot;y&quot;: -0.9094340566451475, &quot;z&quot;: 0.16632330119229036}, {&quot;x&quot;: 0.6750066925103415, &quot;y&quot;: -0.8044416508243348, &quot;z&quot;: 0.16632330119229036}, {&quot;x&quot;: 0.8044416508243345, &quot;y&quot;: -0.6750066925103418, &quot;z&quot;: 0.16632330119229036}, {&quot;x&quot;: 0.9094340566451473, &quot;y&quot;: -0.5250619974142887, &quot;z&quot;: 0.16632330119229036}, {&quot;x&quot;: 0.9867937688506343, &quot;y&quot;: -0.35916355922099397, &quot;z&quot;: 0.16632330119229036}, {&quot;x&quot;: 1.0341702517313356, &quot;y&quot;: -0.1823521180262996, &quot;z&quot;: 0.16632330119229036}, {&quot;x&quot;: 0.99581448564538, &quot;y&quot;: 0.17558896159960288, &quot;z&quot;: 0.32855117071383755}, {&quot;x&quot;: 1.011176529225634, &quot;y&quot;: 0.0, &quot;z&quot;: 0.32855117071383755}, {&quot;x&quot;: 0.9501951228252348, &quot;y&quot;: 0.3458427414533036, &quot;z&quot;: 0.32855117071383755}, {&quot;x&quot;: 0.875704562019977, &quot;y&quot;: 0.5055882646128169, &quot;z&quot;: 0.32855117071383755}, {&quot;x&quot;: 0.7746061612256319, &quot;y&quot;: 0.6499717441920764, &quot;z&quot;: 0.32855117071383755}, {&quot;x&quot;: 0.6499717441920765, &quot;y&quot;: 0.7746061612256319, &quot;z&quot;: 0.32855117071383755}, {&quot;x&quot;: 0.5055882646128171, &quot;y&quot;: 0.8757045620199769, &quot;z&quot;: 0.32855117071383755}, {&quot;x&quot;: 0.34584274145330374, &quot;y&quot;: 0.9501951228252347, &quot;z&quot;: 0.32855117071383755}, {&quot;x&quot;: 0.17558896159960294, &quot;y&quot;: 0.99581448564538, &quot;z&quot;: 0.32855117071383755}, {&quot;x&quot;: 6.191670499445514e-17, &quot;y&quot;: 1.011176529225634, &quot;z&quot;: 0.32855117071383755}, {&quot;x&quot;: -0.17558896159960286, &quot;y&quot;: 0.99581448564538, &quot;z&quot;: 0.32855117071383755}, {&quot;x&quot;: -0.3458427414533034, &quot;y&quot;: 0.9501951228252348, &quot;z&quot;: 0.32855117071383755}, {&quot;x&quot;: -0.5055882646128168, &quot;y&quot;: 0.875704562019977, &quot;z&quot;: 0.32855117071383755}, {&quot;x&quot;: -0.6499717441920765, &quot;y&quot;: 0.7746061612256319, &quot;z&quot;: 0.32855117071383755}, {&quot;x&quot;: -0.7746061612256318, &quot;y&quot;: 0.6499717441920766, &quot;z&quot;: 0.32855117071383755}, {&quot;x&quot;: -0.8757045620199768, &quot;y&quot;: 0.5055882646128174, &quot;z&quot;: 0.32855117071383755}, {&quot;x&quot;: -0.9501951228252347, &quot;y&quot;: 0.3458427414533038, &quot;z&quot;: 0.32855117071383755}, {&quot;x&quot;: -0.99581448564538, &quot;y&quot;: 0.17558896159960283, &quot;z&quot;: 0.32855117071383755}, {&quot;x&quot;: -1.011176529225634, &quot;y&quot;: 1.2383340998891028e-16, &quot;z&quot;: 0.32855117071383755}, {&quot;x&quot;: -0.9958144856453802, &quot;y&quot;: -0.17558896159960255, &quot;z&quot;: 0.32855117071383755}, {&quot;x&quot;: -0.9501951228252348, &quot;y&quot;: -0.34584274145330357, &quot;z&quot;: 0.32855117071383755}, {&quot;x&quot;: -0.8757045620199769, &quot;y&quot;: -0.5055882646128171, &quot;z&quot;: 0.32855117071383755}, {&quot;x&quot;: -0.7746061612256322, &quot;y&quot;: -0.6499717441920759, &quot;z&quot;: 0.32855117071383755}, {&quot;x&quot;: -0.6499717441920766, &quot;y&quot;: -0.7746061612256318, &quot;z&quot;: 0.32855117071383755}, {&quot;x&quot;: -0.5055882646128175, &quot;y&quot;: -0.8757045620199767, &quot;z&quot;: 0.32855117071383755}, {&quot;x&quot;: -0.34584274145330346, &quot;y&quot;: -0.9501951228252348, &quot;z&quot;: 0.32855117071383755}, {&quot;x&quot;: -0.17558896159960288, &quot;y&quot;: -0.99581448564538, &quot;z&quot;: 0.32855117071383755}, {&quot;x&quot;: -1.857501149833654e-16, &quot;y&quot;: -1.011176529225634, &quot;z&quot;: 0.32855117071383755}, {&quot;x&quot;: 0.1755889615996025, &quot;y&quot;: -0.9958144856453802, &quot;z&quot;: 0.32855117071383755}, {&quot;x&quot;: 0.34584274145330385, &quot;y&quot;: -0.9501951228252347, &quot;z&quot;: 0.32855117071383755}, {&quot;x&quot;: 0.5055882646128164, &quot;y&quot;: -0.8757045620199774, &quot;z&quot;: 0.32855117071383755}, {&quot;x&quot;: 0.6499717441920764, &quot;y&quot;: -0.774606161225632, &quot;z&quot;: 0.32855117071383755}, {&quot;x&quot;: 0.7746061612256316, &quot;y&quot;: -0.6499717441920767, &quot;z&quot;: 0.32855117071383755}, {&quot;x&quot;: 0.8757045620199772, &quot;y&quot;: -0.5055882646128167, &quot;z&quot;: 0.32855117071383755}, {&quot;x&quot;: 0.9501951228252348, &quot;y&quot;: -0.3458427414533035, &quot;z&quot;: 0.32855117071383755}, {&quot;x&quot;: 0.99581448564538, &quot;y&quot;: -0.1755889615996029, &quot;z&quot;: 0.32855117071383755}, {&quot;x&quot;: 0.9329384620040365, &quot;y&quot;: 0.16450222219197072, &quot;z&quot;: 0.48268902001358943}, {&quot;x&quot;: 0.9473305415706567, &quot;y&quot;: 0.0, &quot;z&quot;: 0.48268902001358943}, {&quot;x&quot;: 0.8901995193590643, &quot;y&quot;: 0.32400612760477937, &quot;z&quot;: 0.48268902001358943}, {&quot;x&quot;: 0.8204123147810589, &quot;y&quot;: 0.4736652707853282, &quot;z&quot;: 0.48268902001358943}, {&quot;x&quot;: 0.7256972971670935, &quot;y&quot;: 0.6089323343992571, &quot;z&quot;: 0.48268902001358943}, {&quot;x&quot;: 0.6089323343992572, &quot;y&quot;: 0.7256972971670935, &quot;z&quot;: 0.48268902001358943}, {&quot;x&quot;: 0.4736652707853284, &quot;y&quot;: 0.8204123147810588, &quot;z&quot;: 0.48268902001358943}, {&quot;x&quot;: 0.3240061276047794, &quot;y&quot;: 0.8901995193590642, &quot;z&quot;: 0.48268902001358943}, {&quot;x&quot;: 0.16450222219197078, &quot;y&quot;: 0.9329384620040365, &quot;z&quot;: 0.48268902001358943}, {&quot;x&quot;: 5.800726577345166e-17, &quot;y&quot;: 0.9473305415706567, &quot;z&quot;: 0.48268902001358943}, {&quot;x&quot;: -0.1645022221919707, &quot;y&quot;: 0.9329384620040365, &quot;z&quot;: 0.48268902001358943}, {&quot;x&quot;: -0.32400612760477915, &quot;y&quot;: 0.8901995193590643, &quot;z&quot;: 0.48268902001358943}, {&quot;x&quot;: -0.4736652707853281, &quot;y&quot;: 0.8204123147810589, &quot;z&quot;: 0.48268902001358943}, {&quot;x&quot;: -0.6089323343992572, &quot;y&quot;: 0.7256972971670935, &quot;z&quot;: 0.48268902001358943}, {&quot;x&quot;: -0.7256972971670934, &quot;y&quot;: 0.6089323343992573, &quot;z&quot;: 0.48268902001358943}, {&quot;x&quot;: -0.8204123147810587, &quot;y&quot;: 0.4736652707853286, &quot;z&quot;: 0.48268902001358943}, {&quot;x&quot;: -0.8901995193590642, &quot;y&quot;: 0.3240061276047795, &quot;z&quot;: 0.48268902001358943}, {&quot;x&quot;: -0.9329384620040365, &quot;y&quot;: 0.16450222219197067, &quot;z&quot;: 0.48268902001358943}, {&quot;x&quot;: -0.9473305415706567, &quot;y&quot;: 1.1601453154690332e-16, &quot;z&quot;: 0.48268902001358943}, {&quot;x&quot;: -0.9329384620040366, &quot;y&quot;: -0.16450222219197042, &quot;z&quot;: 0.48268902001358943}, {&quot;x&quot;: -0.8901995193590643, &quot;y&quot;: -0.3240061276047793, &quot;z&quot;: 0.48268902001358943}, {&quot;x&quot;: -0.8204123147810588, &quot;y&quot;: -0.4736652707853284, &quot;z&quot;: 0.48268902001358943}, {&quot;x&quot;: -0.7256972971670939, &quot;y&quot;: -0.6089323343992568, &quot;z&quot;: 0.48268902001358943}, {&quot;x&quot;: -0.6089323343992573, &quot;y&quot;: -0.7256972971670934, &quot;z&quot;: 0.48268902001358943}, {&quot;x&quot;: -0.4736652707853287, &quot;y&quot;: -0.8204123147810586, &quot;z&quot;: 0.48268902001358943}, {&quot;x&quot;: -0.3240061276047792, &quot;y&quot;: -0.8901995193590643, &quot;z&quot;: 0.48268902001358943}, {&quot;x&quot;: -0.16450222219197072, &quot;y&quot;: -0.9329384620040365, &quot;z&quot;: 0.48268902001358943}, {&quot;x&quot;: -1.7402179732035496e-16, &quot;y&quot;: -0.9473305415706567, &quot;z&quot;: 0.48268902001358943}, {&quot;x&quot;: 0.16450222219197036, &quot;y&quot;: -0.9329384620040366, &quot;z&quot;: 0.48268902001358943}, {&quot;x&quot;: 0.3240061276047796, &quot;y&quot;: -0.8901995193590642, &quot;z&quot;: 0.48268902001358943}, {&quot;x&quot;: 0.4736652707853277, &quot;y&quot;: -0.8204123147810591, &quot;z&quot;: 0.48268902001358943}, {&quot;x&quot;: 0.6089323343992571, &quot;y&quot;: -0.7256972971670936, &quot;z&quot;: 0.48268902001358943}, {&quot;x&quot;: 0.7256972971670933, &quot;y&quot;: -0.6089323343992574, &quot;z&quot;: 0.48268902001358943}, {&quot;x&quot;: 0.820412314781059, &quot;y&quot;: -0.473665270785328, &quot;z&quot;: 0.48268902001358943}, {&quot;x&quot;: 0.8901995193590643, &quot;y&quot;: -0.32400612760477926, &quot;z&quot;: 0.48268902001358943}, {&quot;x&quot;: 0.9329384620040365, &quot;y&quot;: -0.16450222219197075, &quot;z&quot;: 0.48268902001358943}, {&quot;x&quot;: 0.8470903971829133, &quot;y&quot;: 0.14936489212239748, &quot;z&quot;: 0.6249414636875933}, {&quot;x&quot;: 0.8601581319723958, &quot;y&quot;: 0.0, &quot;z&quot;: 0.6249414636875933}, {&quot;x&quot;: 0.8082842493234519, &quot;y&quot;: 0.2941914075799383, &quot;z&quot;: 0.6249414636875933}, {&quot;x&quot;: 0.7449187935598626, &quot;y&quot;: 0.43007906598619783, &quot;z&quot;: 0.6249414636875933}, {&quot;x&quot;: 0.6589193572010543, &quot;y&quot;: 0.5528989896029751, &quot;z&quot;: 0.6249414636875933}, {&quot;x&quot;: 0.5528989896029752, &quot;y&quot;: 0.6589193572010543, &quot;z&quot;: 0.6249414636875933}, {&quot;x&quot;: 0.430079065986198, &quot;y&quot;: 0.7449187935598625, &quot;z&quot;: 0.6249414636875933}, {&quot;x&quot;: 0.2941914075799384, &quot;y&quot;: 0.8082842493234519, &quot;z&quot;: 0.6249414636875933}, {&quot;x&quot;: 0.14936489212239756, &quot;y&quot;: 0.8470903971829133, &quot;z&quot;: 0.6249414636875933}, {&quot;x&quot;: 5.2669495154028056e-17, &quot;y&quot;: 0.8601581319723958, &quot;z&quot;: 0.6249414636875933}, {&quot;x&quot;: -0.14936489212239748, &quot;y&quot;: 0.8470903971829133, &quot;z&quot;: 0.6249414636875933}, {&quot;x&quot;: -0.2941914075799381, &quot;y&quot;: 0.8082842493234519, &quot;z&quot;: 0.6249414636875933}, {&quot;x&quot;: -0.4300790659861977, &quot;y&quot;: 0.7449187935598626, &quot;z&quot;: 0.6249414636875933}, {&quot;x&quot;: -0.5528989896029752, &quot;y&quot;: 0.6589193572010543, &quot;z&quot;: 0.6249414636875933}, {&quot;x&quot;: -0.6589193572010542, &quot;y&quot;: 0.5528989896029752, &quot;z&quot;: 0.6249414636875933}, {&quot;x&quot;: -0.7449187935598625, &quot;y&quot;: 0.43007906598619816, &quot;z&quot;: 0.6249414636875933}, {&quot;x&quot;: -0.8082842493234519, &quot;y&quot;: 0.29419140757993845, &quot;z&quot;: 0.6249414636875933}, {&quot;x&quot;: -0.8470903971829133, &quot;y&quot;: 0.14936489212239745, &quot;z&quot;: 0.6249414636875933}, {&quot;x&quot;: -0.8601581319723958, &quot;y&quot;: 1.0533899030805611e-16, &quot;z&quot;: 0.6249414636875933}, {&quot;x&quot;: -0.8470903971829136, &quot;y&quot;: -0.14936489212239723, &quot;z&quot;: 0.6249414636875933}, {&quot;x&quot;: -0.8082842493234519, &quot;y&quot;: -0.2941914075799382, &quot;z&quot;: 0.6249414636875933}, {&quot;x&quot;: -0.7449187935598625, &quot;y&quot;: -0.430079065986198, &quot;z&quot;: 0.6249414636875933}, {&quot;x&quot;: -0.6589193572010547, &quot;y&quot;: -0.5528989896029748, &quot;z&quot;: 0.6249414636875933}, {&quot;x&quot;: -0.5528989896029752, &quot;y&quot;: -0.6589193572010542, &quot;z&quot;: 0.6249414636875933}, {&quot;x&quot;: -0.4300790659861983, &quot;y&quot;: -0.7449187935598623, &quot;z&quot;: 0.6249414636875933}, {&quot;x&quot;: -0.29419140757993817, &quot;y&quot;: -0.8082842493234519, &quot;z&quot;: 0.6249414636875933}, {&quot;x&quot;: -0.14936489212239748, &quot;y&quot;: -0.8470903971829133, &quot;z&quot;: 0.6249414636875933}, {&quot;x&quot;: -1.5800848546208415e-16, &quot;y&quot;: -0.8601581319723958, &quot;z&quot;: 0.6249414636875933}, {&quot;x&quot;: 0.14936489212239717, &quot;y&quot;: -0.8470903971829136, &quot;z&quot;: 0.6249414636875933}, {&quot;x&quot;: 0.2941914075799385, &quot;y&quot;: -0.8082842493234519, &quot;z&quot;: 0.6249414636875933}, {&quot;x&quot;: 0.4300790659861974, &quot;y&quot;: -0.7449187935598629, &quot;z&quot;: 0.6249414636875933}, {&quot;x&quot;: 0.5528989896029751, &quot;y&quot;: -0.6589193572010544, &quot;z&quot;: 0.6249414636875933}, {&quot;x&quot;: 0.6589193572010542, &quot;y&quot;: -0.5528989896029753, &quot;z&quot;: 0.6249414636875933}, {&quot;x&quot;: 0.7449187935598627, &quot;y&quot;: -0.4300790659861976, &quot;z&quot;: 0.6249414636875933}, {&quot;x&quot;: 0.8082842493234519, &quot;y&quot;: -0.2941914075799382, &quot;z&quot;: 0.6249414636875933}, {&quot;x&quot;: 0.8470903971829133, &quot;y&quot;: -0.14936489212239754, &quot;z&quot;: 0.6249414636875933}, {&quot;x&quot;: 0.7403841554512993, &quot;y&quot;: 0.13054970269511437, &quot;z&quot;: 0.7518057744638015}, {&quot;x&quot;: 0.7518057744638016, &quot;y&quot;: 0.0, &quot;z&quot;: 0.7518057744638015}, {&quot;x&quot;: 0.7064663385278693, &quot;y&quot;: 0.2571327187351748, &quot;z&quot;: 0.7518057744638015}, {&quot;x&quot;: 0.6510828993974864, &quot;y&quot;: 0.37590288723190074, &quot;z&quot;: 0.7518057744638015}, {&quot;x&quot;: 0.5759166358327549, &quot;y&quot;: 0.48325143671612447, &quot;z&quot;: 0.7518057744638015}, {&quot;x&quot;: 0.4832514367161246, &quot;y&quot;: 0.5759166358327549, &quot;z&quot;: 0.7518057744638015}, {&quot;x&quot;: 0.37590288723190085, &quot;y&quot;: 0.6510828993974863, &quot;z&quot;: 0.7518057744638015}, {&quot;x&quot;: 0.2571327187351749, &quot;y&quot;: 0.7064663385278692, &quot;z&quot;: 0.7518057744638015}, {&quot;x&quot;: 0.13054970269511443, &quot;y&quot;: 0.7403841554512993, &quot;z&quot;: 0.7518057744638015}, {&quot;x&quot;: 4.603482676387958e-17, &quot;y&quot;: 0.7518057744638016, &quot;z&quot;: 0.7518057744638015}, {&quot;x&quot;: -0.13054970269511434, &quot;y&quot;: 0.7403841554512993, &quot;z&quot;: 0.7518057744638015}, {&quot;x&quot;: -0.2571327187351746, &quot;y&quot;: 0.7064663385278693, &quot;z&quot;: 0.7518057744638015}, {&quot;x&quot;: -0.37590288723190063, &quot;y&quot;: 0.6510828993974864, &quot;z&quot;: 0.7518057744638015}, {&quot;x&quot;: -0.4832514367161246, &quot;y&quot;: 0.5759166358327549, &quot;z&quot;: 0.7518057744638015}, {&quot;x&quot;: -0.5759166358327548, &quot;y&quot;: 0.48325143671612464, &quot;z&quot;: 0.7518057744638015}, {&quot;x&quot;: -0.6510828993974863, &quot;y&quot;: 0.375902887231901, &quot;z&quot;: 0.7518057744638015}, {&quot;x&quot;: -0.7064663385278692, &quot;y&quot;: 0.2571327187351749, &quot;z&quot;: 0.7518057744638015}, {&quot;x&quot;: -0.7403841554512993, &quot;y&quot;: 0.13054970269511434, &quot;z&quot;: 0.7518057744638015}, {&quot;x&quot;: -0.7518057744638016, &quot;y&quot;: 9.206965352775916e-17, &quot;z&quot;: 0.7518057744638015}, {&quot;x&quot;: -0.7403841554512994, &quot;y&quot;: -0.13054970269511415, &quot;z&quot;: 0.7518057744638015}, {&quot;x&quot;: -0.7064663385278693, &quot;y&quot;: -0.25713271873517474, &quot;z&quot;: 0.7518057744638015}, {&quot;x&quot;: -0.6510828993974863, &quot;y&quot;: -0.37590288723190085, &quot;z&quot;: 0.7518057744638015}, {&quot;x&quot;: -0.5759166358327551, &quot;y&quot;: -0.4832514367161242, &quot;z&quot;: 0.7518057744638015}, {&quot;x&quot;: -0.48325143671612464, &quot;y&quot;: -0.5759166358327548, &quot;z&quot;: 0.7518057744638015}, {&quot;x&quot;: -0.37590288723190113, &quot;y&quot;: -0.6510828993974862, &quot;z&quot;: 0.7518057744638015}, {&quot;x&quot;: -0.2571327187351747, &quot;y&quot;: -0.7064663385278693, &quot;z&quot;: 0.7518057744638015}, {&quot;x&quot;: -0.13054970269511437, &quot;y&quot;: -0.7403841554512993, &quot;z&quot;: 0.7518057744638015}, {&quot;x&quot;: -1.3810448029163872e-16, &quot;y&quot;: -0.7518057744638016, &quot;z&quot;: 0.7518057744638015}, {&quot;x&quot;: 0.1305497026951141, &quot;y&quot;: -0.7403841554512994, &quot;z&quot;: 0.7518057744638015}, {&quot;x&quot;: 0.257132718735175, &quot;y&quot;: -0.7064663385278692, &quot;z&quot;: 0.7518057744638015}, {&quot;x&quot;: 0.37590288723190035, &quot;y&quot;: -0.6510828993974866, &quot;z&quot;: 0.7518057744638015}, {&quot;x&quot;: 0.48325143671612447, &quot;y&quot;: -0.575916635832755, &quot;z&quot;: 0.7518057744638015}, {&quot;x&quot;: 0.5759166358327548, &quot;y&quot;: -0.48325143671612475, &quot;z&quot;: 0.7518057744638015}, {&quot;x&quot;: 0.6510828993974865, &quot;y&quot;: -0.3759028872319006, &quot;z&quot;: 0.7518057744638015}, {&quot;x&quot;: 0.7064663385278693, &quot;y&quot;: -0.25713271873517474, &quot;z&quot;: 0.7518057744638015}, {&quot;x&quot;: 0.7403841554512993, &quot;y&quot;: -0.1305497026951144, &quot;z&quot;: 0.7518057744638015}, {&quot;x&quot;: 0.6154471986183391, &quot;y&quot;: 0.10851994631785468, &quot;z&quot;: 0.8601581319723958}, {&quot;x&quot;: 0.6249414636875933, &quot;y&quot;: 0.0, &quot;z&quot;: 0.8601581319723958}, {&quot;x&quot;: 0.5872528818503762, &quot;y&quot;: 0.21374256898058386, &quot;z&quot;: 0.8601581319723958}, {&quot;x&quot;: 0.5412151834316861, &quot;y&quot;: 0.3124707318437966, &quot;z&quot;: 0.8601581319723958}, {&quot;x&quot;: 0.4787329355325214, &quot;y&quot;: 0.4017046296377553, &quot;z&quot;: 0.8601581319723958}, {&quot;x&quot;: 0.40170462963775533, &quot;y&quot;: 0.4787329355325214, &quot;z&quot;: 0.8601581319723958}, {&quot;x&quot;: 0.3124707318437967, &quot;y&quot;: 0.5412151834316861, &quot;z&quot;: 0.8601581319723958}, {&quot;x&quot;: 0.2137425689805839, &quot;y&quot;: 0.587252881850376, &quot;z&quot;: 0.8601581319723958}, {&quot;x&quot;: 0.10851994631785473, &quot;y&quot;: 0.6154471986183391, &quot;z&quot;: 0.8601581319723958}, {&quot;x&quot;: 3.8266628157973647e-17, &quot;y&quot;: 0.6249414636875933, &quot;z&quot;: 0.8601581319723958}, {&quot;x&quot;: -0.10851994631785467, &quot;y&quot;: 0.6154471986183391, &quot;z&quot;: 0.8601581319723958}, {&quot;x&quot;: -0.21374256898058372, &quot;y&quot;: 0.5872528818503762, &quot;z&quot;: 0.8601581319723958}, {&quot;x&quot;: -0.3124707318437965, &quot;y&quot;: 0.5412151834316861, &quot;z&quot;: 0.8601581319723958}, {&quot;x&quot;: -0.40170462963775533, &quot;y&quot;: 0.4787329355325214, &quot;z&quot;: 0.8601581319723958}, {&quot;x&quot;: -0.47873293553252133, &quot;y&quot;: 0.4017046296377554, &quot;z&quot;: 0.8601581319723958}, {&quot;x&quot;: -0.541215183431686, &quot;y&quot;: 0.3124707318437968, &quot;z&quot;: 0.8601581319723958}, {&quot;x&quot;: -0.587252881850376, &quot;y&quot;: 0.21374256898058394, &quot;z&quot;: 0.8601581319723958}, {&quot;x&quot;: -0.6154471986183391, &quot;y&quot;: 0.10851994631785465, &quot;z&quot;: 0.8601581319723958}, {&quot;x&quot;: -0.6249414636875933, &quot;y&quot;: 7.653325631594729e-17, &quot;z&quot;: 0.8601581319723958}, {&quot;x&quot;: -0.6154471986183393, &quot;y&quot;: -0.10851994631785448, &quot;z&quot;: 0.8601581319723958}, {&quot;x&quot;: -0.5872528818503762, &quot;y&quot;: -0.2137425689805838, &quot;z&quot;: 0.8601581319723958}, {&quot;x&quot;: -0.5412151834316861, &quot;y&quot;: -0.3124707318437967, &quot;z&quot;: 0.8601581319723958}, {&quot;x&quot;: -0.4787329355325216, &quot;y&quot;: -0.401704629637755, &quot;z&quot;: 0.8601581319723958}, {&quot;x&quot;: -0.4017046296377554, &quot;y&quot;: -0.47873293553252133, &quot;z&quot;: 0.8601581319723958}, {&quot;x&quot;: -0.3124707318437969, &quot;y&quot;: -0.541215183431686, &quot;z&quot;: 0.8601581319723958}, {&quot;x&quot;: -0.21374256898058375, &quot;y&quot;: -0.5872528818503762, &quot;z&quot;: 0.8601581319723958}, {&quot;x&quot;: -0.10851994631785468, &quot;y&quot;: -0.6154471986183391, &quot;z&quot;: 0.8601581319723958}, {&quot;x&quot;: -1.1479988447392095e-16, &quot;y&quot;: -0.6249414636875933, &quot;z&quot;: 0.8601581319723958}, {&quot;x&quot;: 0.10851994631785446, &quot;y&quot;: -0.6154471986183393, &quot;z&quot;: 0.8601581319723958}, {&quot;x&quot;: 0.21374256898058402, &quot;y&quot;: -0.587252881850376, &quot;z&quot;: 0.8601581319723958}, {&quot;x&quot;: 0.31247073184379626, &quot;y&quot;: -0.5412151834316863, &quot;z&quot;: 0.8601581319723958}, {&quot;x&quot;: 0.4017046296377553, &quot;y&quot;: -0.4787329355325215, &quot;z&quot;: 0.8601581319723958}, {&quot;x&quot;: 0.4787329355325213, &quot;y&quot;: -0.40170462963775544, &quot;z&quot;: 0.8601581319723958}, {&quot;x&quot;: 0.5412151834316862, &quot;y&quot;: -0.3124707318437964, &quot;z&quot;: 0.8601581319723958}, {&quot;x&quot;: 0.5872528818503762, &quot;y&quot;: -0.21374256898058377, &quot;z&quot;: 0.8601581319723958}, {&quot;x&quot;: 0.6154471986183391, &quot;y&quot;: -0.10851994631785472, &quot;z&quot;: 0.8601581319723958}, {&quot;x&quot;: 0.4753558892032478, &quot;y&quot;: 0.08381806870519627, &quot;z&quot;: 0.9473305415706565}, {&quot;x&quot;: 0.4826890200135895, &quot;y&quot;: 0.0, &quot;z&quot;: 0.9473305415706565}, {&quot;x&quot;: 0.4535793102411517, &quot;y&quot;: 0.16508936780677447, &quot;z&quot;: 0.9473305415706565}, {&quot;x&quot;: 0.41802095345958384, &quot;y&quot;: 0.2413445100067947, &quot;z&quot;: 0.9473305415706565}, {&quot;x&quot;: 0.3697612415359554, &quot;y&quot;: 0.3102665213964733, &quot;z&quot;: 0.9473305415706565}, {&quot;x&quot;: 0.31026652139647337, &quot;y&quot;: 0.3697612415359554, &quot;z&quot;: 0.9473305415706565}, {&quot;x&quot;: 0.2413445100067948, &quot;y&quot;: 0.4180209534595838, &quot;z&quot;: 0.9473305415706565}, {&quot;x&quot;: 0.1650893678067745, &quot;y&quot;: 0.45357931024115167, &quot;z&quot;: 0.9473305415706565}, {&quot;x&quot;: 0.08381806870519631, &quot;y&quot;: 0.4753558892032478, &quot;z&quot;: 0.9473305415706565}, {&quot;x&quot;: 2.9556178167160755e-17, &quot;y&quot;: 0.4826890200135895, &quot;z&quot;: 0.9473305415706565}, {&quot;x&quot;: -0.08381806870519626, &quot;y&quot;: 0.4753558892032478, &quot;z&quot;: 0.9473305415706565}, {&quot;x&quot;: -0.16508936780677436, &quot;y&quot;: 0.4535793102411517, &quot;z&quot;: 0.9473305415706565}, {&quot;x&quot;: -0.24134451000679463, &quot;y&quot;: 0.41802095345958384, &quot;z&quot;: 0.9473305415706565}, {&quot;x&quot;: -0.31026652139647337, &quot;y&quot;: 0.3697612415359554, &quot;z&quot;: 0.9473305415706565}, {&quot;x&quot;: -0.36976124153595535, &quot;y&quot;: 0.3102665213964734, &quot;z&quot;: 0.9473305415706565}, {&quot;x&quot;: -0.41802095345958373, &quot;y&quot;: 0.24134451000679488, &quot;z&quot;: 0.9473305415706565}, {&quot;x&quot;: -0.45357931024115167, &quot;y&quot;: 0.16508936780677452, &quot;z&quot;: 0.9473305415706565}, {&quot;x&quot;: -0.4753558892032478, &quot;y&quot;: 0.08381806870519626, &quot;z&quot;: 0.9473305415706565}, {&quot;x&quot;: -0.4826890200135895, &quot;y&quot;: 5.911235633432151e-17, &quot;z&quot;: 0.9473305415706565}, {&quot;x&quot;: -0.4753558892032479, &quot;y&quot;: -0.08381806870519612, &quot;z&quot;: 0.9473305415706565}, {&quot;x&quot;: -0.4535793102411517, &quot;y&quot;: -0.16508936780677444, &quot;z&quot;: 0.9473305415706565}, {&quot;x&quot;: -0.4180209534595838, &quot;y&quot;: -0.2413445100067948, &quot;z&quot;: 0.9473305415706565}, {&quot;x&quot;: -0.3697612415359555, &quot;y&quot;: -0.3102665213964731, &quot;z&quot;: 0.9473305415706565}, {&quot;x&quot;: -0.3102665213964734, &quot;y&quot;: -0.36976124153595535, &quot;z&quot;: 0.9473305415706565}, {&quot;x&quot;: -0.24134451000679494, &quot;y&quot;: -0.4180209534595837, &quot;z&quot;: 0.9473305415706565}, {&quot;x&quot;: -0.16508936780677438, &quot;y&quot;: -0.4535793102411517, &quot;z&quot;: 0.9473305415706565}, {&quot;x&quot;: -0.08381806870519627, &quot;y&quot;: -0.4753558892032478, &quot;z&quot;: 0.9473305415706565}, {&quot;x&quot;: -8.866853450148226e-17, &quot;y&quot;: -0.4826890200135895, &quot;z&quot;: 0.9473305415706565}, {&quot;x&quot;: 0.0838180687051961, &quot;y&quot;: -0.4753558892032479, &quot;z&quot;: 0.9473305415706565}, {&quot;x&quot;: 0.16508936780677458, &quot;y&quot;: -0.45357931024115167, &quot;z&quot;: 0.9473305415706565}, {&quot;x&quot;: 0.24134451000679444, &quot;y&quot;: -0.418020953459584, &quot;z&quot;: 0.9473305415706565}, {&quot;x&quot;: 0.3102665213964733, &quot;y&quot;: -0.36976124153595546, &quot;z&quot;: 0.9473305415706565}, {&quot;x&quot;: 0.3697612415359553, &quot;y&quot;: -0.3102665213964735, &quot;z&quot;: 0.9473305415706565}, {&quot;x&quot;: 0.4180209534595839, &quot;y&quot;: -0.2413445100067946, &quot;z&quot;: 0.9473305415706565}, {&quot;x&quot;: 0.4535793102411517, &quot;y&quot;: -0.1650893678067744, &quot;z&quot;: 0.9473305415706565}, {&quot;x&quot;: 0.4753558892032478, &quot;y&quot;: -0.0838180687051963, &quot;z&quot;: 0.9473305415706565}, {&quot;x&quot;: 0.32355974018022476, &quot;y&quot;: 0.05705231206479443, &quot;z&quot;: 1.011176529225634}, {&quot;x&quot;: 0.3285511707138376, &quot;y&quot;: 0.0, &quot;z&quot;: 1.011176529225634}, {&quot;x&quot;: 0.30873711067036447, &quot;y&quot;: 0.11237111849736299, &quot;z&quot;: 1.011176529225634}, {&quot;x&quot;: 0.2845336602813012, &quot;y&quot;: 0.16427558535691875, &quot;z&quot;: 1.011176529225634}, {&quot;x&quot;: 0.25168479860556997, &quot;y&quot;: 0.21118862168286176, &quot;z&quot;: 1.011176529225634}, {&quot;x&quot;: 0.21118862168286182, &quot;y&quot;: 0.25168479860556997, &quot;z&quot;: 1.011176529225634}, {&quot;x&quot;: 0.16427558535691883, &quot;y&quot;: 0.2845336602813012, &quot;z&quot;: 1.011176529225634}, {&quot;x&quot;: 0.11237111849736302, &quot;y&quot;: 0.3087371106703644, &quot;z&quot;: 1.011176529225634}, {&quot;x&quot;: 0.05705231206479445, &quot;y&quot;: 0.32355974018022476, &quot;z&quot;: 1.011176529225634}, {&quot;x&quot;: 2.011795697854084e-17, &quot;y&quot;: 0.3285511707138376, &quot;z&quot;: 1.011176529225634}, {&quot;x&quot;: -0.05705231206479442, &quot;y&quot;: 0.32355974018022476, &quot;z&quot;: 1.011176529225634}, {&quot;x&quot;: -0.11237111849736292, &quot;y&quot;: 0.30873711067036447, &quot;z&quot;: 1.011176529225634}, {&quot;x&quot;: -0.16427558535691872, &quot;y&quot;: 0.2845336602813012, &quot;z&quot;: 1.011176529225634}, {&quot;x&quot;: -0.21118862168286182, &quot;y&quot;: 0.25168479860556997, &quot;z&quot;: 1.011176529225634}, {&quot;x&quot;: -0.25168479860556997, &quot;y&quot;: 0.21118862168286184, &quot;z&quot;: 1.011176529225634}, {&quot;x&quot;: -0.28453366028130117, &quot;y&quot;: 0.16427558535691889, &quot;z&quot;: 1.011176529225634}, {&quot;x&quot;: -0.3087371106703644, &quot;y&quot;: 0.11237111849736303, &quot;z&quot;: 1.011176529225634}, {&quot;x&quot;: -0.32355974018022476, &quot;y&quot;: 0.05705231206479441, &quot;z&quot;: 1.011176529225634}, {&quot;x&quot;: -0.3285511707138376, &quot;y&quot;: 4.023591395708168e-17, &quot;z&quot;: 1.011176529225634}, {&quot;x&quot;: -0.3235597401802248, &quot;y&quot;: -0.057052312064794324, &quot;z&quot;: 1.011176529225634}, {&quot;x&quot;: -0.30873711067036447, &quot;y&quot;: -0.11237111849736296, &quot;z&quot;: 1.011176529225634}, {&quot;x&quot;: -0.2845336602813012, &quot;y&quot;: -0.16427558535691883, &quot;z&quot;: 1.011176529225634}, {&quot;x&quot;: -0.2516847986055701, &quot;y&quot;: -0.21118862168286162, &quot;z&quot;: 1.011176529225634}, {&quot;x&quot;: -0.21118862168286184, &quot;y&quot;: -0.25168479860556997, &quot;z&quot;: 1.011176529225634}, {&quot;x&quot;: -0.16427558535691894, &quot;y&quot;: -0.28453366028130117, &quot;z&quot;: 1.011176529225634}, {&quot;x&quot;: -0.11237111849736293, &quot;y&quot;: -0.30873711067036447, &quot;z&quot;: 1.011176529225634}, {&quot;x&quot;: -0.05705231206479443, &quot;y&quot;: -0.32355974018022476, &quot;z&quot;: 1.011176529225634}, {&quot;x&quot;: -6.035387093562251e-17, &quot;y&quot;: -0.3285511707138376, &quot;z&quot;: 1.011176529225634}, {&quot;x&quot;: 0.0570523120647943, &quot;y&quot;: -0.3235597401802248, &quot;z&quot;: 1.011176529225634}, {&quot;x&quot;: 0.11237111849736307, &quot;y&quot;: -0.3087371106703644, &quot;z&quot;: 1.011176529225634}, {&quot;x&quot;: 0.16427558535691858, &quot;y&quot;: -0.28453366028130134, &quot;z&quot;: 1.011176529225634}, {&quot;x&quot;: 0.21118862168286176, &quot;y&quot;: -0.25168479860557, &quot;z&quot;: 1.011176529225634}, {&quot;x&quot;: 0.2516847986055699, &quot;y&quot;: -0.21118862168286187, &quot;z&quot;: 1.011176529225634}, {&quot;x&quot;: 0.2845336602813013, &quot;y&quot;: -0.1642755853569187, &quot;z&quot;: 1.011176529225634}, {&quot;x&quot;: 0.30873711067036447, &quot;y&quot;: -0.11237111849736295, &quot;z&quot;: 1.011176529225634}, {&quot;x&quot;: 0.32355974018022476, &quot;y&quot;: -0.05705231206479444, &quot;z&quot;: 1.011176529225634}, {&quot;x&quot;: 0.16379647652075244, &quot;y&quot;: 0.02888173815558925, &quot;z&quot;: 1.050123994828578}, {&quot;x&quot;: 0.16632330119229063, &quot;y&quot;: 0.0, &quot;z&quot;: 1.050123994828578}, {&quot;x&quot;: 0.1562927787951476, &quot;y&quot;: 0.05688591931218561, &quot;z&quot;: 1.050123994828578}, {&quot;x&quot;: 0.14404020407381432, &quot;y&quot;: 0.0831616505961453, &quot;z&quot;: 1.050123994828578}, {&quot;x&quot;: 0.12741104063955833, &quot;y&quot;: 0.10691055720856683, &quot;z&quot;: 1.050123994828578}, {&quot;x&quot;: 0.10691055720856685, &quot;y&quot;: 0.12741104063955833, &quot;z&quot;: 1.050123994828578}, {&quot;x&quot;: 0.08316165059614535, &quot;y&quot;: 0.1440402040738143, &quot;z&quot;: 1.050123994828578}, {&quot;x&quot;: 0.05688591931218563, &quot;y&quot;: 0.15629277879514758, &quot;z&quot;: 1.050123994828578}, {&quot;x&quot;: 0.028881738155589264, &quot;y&quot;: 0.16379647652075244, &quot;z&quot;: 1.050123994828578}, {&quot;x&quot;: 1.0184364921437994e-17, &quot;y&quot;: 0.16632330119229063, &quot;z&quot;: 1.050123994828578}, {&quot;x&quot;: -0.028881738155589247, &quot;y&quot;: 0.16379647652075244, &quot;z&quot;: 1.050123994828578}, {&quot;x&quot;: -0.056885919312185576, &quot;y&quot;: 0.1562927787951476, &quot;z&quot;: 1.050123994828578}, {&quot;x&quot;: -0.08316165059614529, &quot;y&quot;: 0.14404020407381432, &quot;z&quot;: 1.050123994828578}, {&quot;x&quot;: -0.10691055720856685, &quot;y&quot;: 0.12741104063955833, &quot;z&quot;: 1.050123994828578}, {&quot;x&quot;: -0.12741104063955833, &quot;y&quot;: 0.10691055720856686, &quot;z&quot;: 1.050123994828578}, {&quot;x&quot;: -0.1440402040738143, &quot;y&quot;: 0.08316165059614537, &quot;z&quot;: 1.050123994828578}, {&quot;x&quot;: -0.15629277879514758, &quot;y&quot;: 0.05688591931218564, &quot;z&quot;: 1.050123994828578}, {&quot;x&quot;: -0.16379647652075244, &quot;y&quot;: 0.028881738155589243, &quot;z&quot;: 1.050123994828578}, {&quot;x&quot;: -0.16632330119229063, &quot;y&quot;: 2.0368729842875988e-17, &quot;z&quot;: 1.050123994828578}, {&quot;x&quot;: -0.1637964765207525, &quot;y&quot;: -0.0288817381555892, &quot;z&quot;: 1.050123994828578}, {&quot;x&quot;: -0.1562927787951476, &quot;y&quot;: -0.056885919312185604, &quot;z&quot;: 1.050123994828578}, {&quot;x&quot;: -0.1440402040738143, &quot;y&quot;: -0.08316165059614535, &quot;z&quot;: 1.050123994828578}, {&quot;x&quot;: -0.12741104063955838, &quot;y&quot;: -0.10691055720856676, &quot;z&quot;: 1.050123994828578}, {&quot;x&quot;: -0.10691055720856686, &quot;y&quot;: -0.12741104063955833, &quot;z&quot;: 1.050123994828578}, {&quot;x&quot;: -0.08316165059614539, &quot;y&quot;: -0.14404020407381427, &quot;z&quot;: 1.050123994828578}, {&quot;x&quot;: -0.05688591931218559, &quot;y&quot;: -0.1562927787951476, &quot;z&quot;: 1.050123994828578}, {&quot;x&quot;: -0.02888173815558925, &quot;y&quot;: -0.16379647652075244, &quot;z&quot;: 1.050123994828578}, {&quot;x&quot;: -3.055309476431398e-17, &quot;y&quot;: -0.16632330119229063, &quot;z&quot;: 1.050123994828578}, {&quot;x&quot;: 0.02888173815558919, &quot;y&quot;: -0.1637964765207525, &quot;z&quot;: 1.050123994828578}, {&quot;x&quot;: 0.05688591931218566, &quot;y&quot;: -0.15629277879514758, &quot;z&quot;: 1.050123994828578}, {&quot;x&quot;: 0.08316165059614522, &quot;y&quot;: -0.14404020407381438, &quot;z&quot;: 1.050123994828578}, {&quot;x&quot;: 0.10691055720856683, &quot;y&quot;: -0.12741104063955835, &quot;z&quot;: 1.050123994828578}, {&quot;x&quot;: 0.1274110406395583, &quot;y&quot;: -0.10691055720856689, &quot;z&quot;: 1.050123994828578}, {&quot;x&quot;: 0.14404020407381435, &quot;y&quot;: -0.08316165059614528, &quot;z&quot;: 1.050123994828578}, {&quot;x&quot;: 0.1562927787951476, &quot;y&quot;: -0.0568859193121856, &quot;z&quot;: 1.050123994828578}, {&quot;x&quot;: 0.16379647652075244, &quot;y&quot;: -0.02888173815558926, &quot;z&quot;: 1.050123994828578}, {&quot;x&quot;: 0.0, &quot;y&quot;: 0.0, &quot;z&quot;: 1.0632139225171164}], &quot;faces&quot;: [[0, 1, 2], [0, 3, 1], [0, 4, 3], [0, 5, 4], [0, 6, 5], [0, 7, 6], [0, 8, 7], [0, 9, 8], [0, 10, 9], [0, 11, 10], [0, 12, 11], [0, 13, 12], [0, 14, 13], [0, 15, 14], [0, 16, 15], [0, 17, 16], [0, 18, 17], [0, 19, 18], [0, 20, 19], [0, 21, 20], [0, 22, 21], [0, 23, 22], [0, 24, 23], [0, 25, 24], [0, 26, 25], [0, 27, 26], [0, 28, 27], [0, 29, 28], [0, 30, 29], [0, 31, 30], [0, 32, 31], [0, 33, 32], [0, 34, 33], [0, 35, 34], [0, 36, 35], [0, 2, 36], [2, 1, 37, 38], [1, 3, 39, 37], [3, 4, 40, 39], [4, 5, 41, 40], [5, 6, 42, 41], [6, 7, 43, 42], [7, 8, 44, 43], [8, 9, 45, 44], [9, 10, 46, 45], [10, 11, 47, 46], [11, 12, 48, 47], [12, 13, 49, 48], [13, 14, 50, 49], [14, 15, 51, 50], [15, 16, 52, 51], [16, 17, 53, 52], [17, 18, 54, 53], [18, 19, 55, 54], [19, 20, 56, 55], [20, 21, 57, 56], [21, 22, 58, 57], [22, 23, 59, 58], [23, 24, 60, 59], [24, 25, 61, 60], [25, 26, 62, 61], [26, 27, 63, 62], [27, 28, 64, 63], [28, 29, 65, 64], [29, 30, 66, 65], [30, 31, 67, 66], [31, 32, 68, 67], [32, 33, 69, 68], [33, 34, 70, 69], [34, 35, 71, 70], [35, 36, 72, 71], [36, 2, 38, 72], [38, 37, 73, 74], [37, 39, 75, 73], [39, 40, 76, 75], [40, 41, 77, 76], [41, 42, 78, 77], [42, 43, 79, 78], [43, 44, 80, 79], [44, 45, 81, 80], [45, 46, 82, 81], [46, 47, 83, 82], [47, 48, 84, 83], [48, 49, 85, 84], [49, 50, 86, 85], [50, 51, 87, 86], [51, 52, 88, 87], [52, 53, 89, 88], [53, 54, 90, 89], [54, 55, 91, 90], [55, 56, 92, 91], [56, 57, 93, 92], [57, 58, 94, 93], [58, 59, 95, 94], [59, 60, 96, 95], [60, 61, 97, 96], [61, 62, 98, 97], [62, 63, 99, 98], [63, 64, 100, 99], [64, 65, 101, 100], [65, 66, 102, 101], [66, 67, 103, 102], [67, 68, 104, 103], [68, 69, 105, 104], [69, 70, 106, 105], [70, 71, 107, 106], [71, 72, 108, 107], [72, 38, 74, 108], [74, 73, 109, 110], [73, 75, 111, 109], [75, 76, 112, 111], [76, 77, 113, 112], [77, 78, 114, 113], [78, 79, 115, 114], [79, 80, 116, 115], [80, 81, 117, 116], [81, 82, 118, 117], [82, 83, 119, 118], [83, 84, 120, 119], [84, 85, 121, 120], [85, 86, 122, 121], [86, 87, 123, 122], [87, 88, 124, 123], [88, 89, 125, 124], [89, 90, 126, 125], [90, 91, 127, 126], [91, 92, 128, 127], [92, 93, 129, 128], [93, 94, 130, 129], [94, 95, 131, 130], [95, 96, 132, 131], [96, 97, 133, 132], [97, 98, 134, 133], [98, 99, 135, 134], [99, 100, 136, 135], [100, 101, 137, 136], [101, 102, 138, 137], [102, 103, 139, 138], [103, 104, 140, 139], [104, 105, 141, 140], [105, 106, 142, 141], [106, 107, 143, 142], [107, 108, 144, 143], [108, 74, 110, 144], [110, 109, 145, 146], [109, 111, 147, 145], [111, 112, 148, 147], [112, 113, 149, 148], [113, 114, 150, 149], [114, 115, 151, 150], [115, 116, 152, 151], [116, 117, 153, 152], [117, 118, 154, 153], [118, 119, 155, 154], [119, 120, 156, 155], [120, 121, 157, 156], [121, 122, 158, 157], [122, 123, 159, 158], [123, 124, 160, 159], [124, 125, 161, 160], [125, 126, 162, 161], [126, 127, 163, 162], [127, 128, 164, 163], [128, 129, 165, 164], [129, 130, 166, 165], [130, 131, 167, 166], [131, 132, 168, 167], [132, 133, 169, 168], [133, 134, 170, 169], [134, 135, 171, 170], [135, 136, 172, 171], [136, 137, 173, 172], [137, 138, 174, 173], [138, 139, 175, 174], [139, 140, 176, 175], [140, 141, 177, 176], [141, 142, 178, 177], [142, 143, 179, 178], [143, 144, 180, 179], [144, 110, 146, 180], [146, 145, 181, 182], [145, 147, 183, 181], [147, 148, 184, 183], [148, 149, 185, 184], [149, 150, 186, 185], [150, 151, 187, 186], [151, 152, 188, 187], [152, 153, 189, 188], [153, 154, 190, 189], [154, 155, 191, 190], [155, 156, 192, 191], [156, 157, 193, 192], [157, 158, 194, 193], [158, 159, 195, 194], [159, 160, 196, 195], [160, 161, 197, 196], [161, 162, 198, 197], [162, 163, 199, 198], [163, 164, 200, 199], [164, 165, 201, 200], [165, 166, 202, 201], [166, 167, 203, 202], [167, 168, 204, 203], [168, 169, 205, 204], [169, 170, 206, 205], [170, 171, 207, 206], [171, 172, 208, 207], [172, 173, 209, 208], [173, 174, 210, 209], [174, 175, 211, 210], [175, 176, 212, 211], [176, 177, 213, 212], [177, 178, 214, 213], [178, 179, 215, 214], [179, 180, 216, 215], [180, 146, 182, 216], [182, 181, 217, 218], [181, 183, 219, 217], [183, 184, 220, 219], [184, 185, 221, 220], [185, 186, 222, 221], [186, 187, 223, 222], [187, 188, 224, 223], [188, 189, 225, 224], [189, 190, 226, 225], [190, 191, 227, 226], [191, 192, 228, 227], [192, 193, 229, 228], [193, 194, 230, 229], [194, 195, 231, 230], [195, 196, 232, 231], [196, 197, 233, 232], [197, 198, 234, 233], [198, 199, 235, 234], [199, 200, 236, 235], [200, 201, 237, 236], [201, 202, 238, 237], [202, 203, 239, 238], [203, 204, 240, 239], [204, 205, 241, 240], [205, 206, 242, 241], [206, 207, 243, 242], [207, 208, 244, 243], [208, 209, 245, 244], [209, 210, 246, 245], [210, 211, 247, 246], [211, 212, 248, 247], [212, 213, 249, 248], [213, 214, 250, 249], [214, 215, 251, 250], [215, 216, 252, 251], [216, 182, 218, 252], [218, 217, 253, 254], [217, 219, 255, 253], [219, 220, 256, 255], [220, 221, 257, 256], [221, 222, 258, 257], [222, 223, 259, 258], [223, 224, 260, 259], [224, 225, 261, 260], [225, 226, 262, 261], [226, 227, 263, 262], [227, 228, 264, 263], [228, 229, 265, 264], [229, 230, 266, 265], [230, 231, 267, 266], [231, 232, 268, 267], [232, 233, 269, 268], [233, 234, 270, 269], [234, 235, 271, 270], [235, 236, 272, 271], [236, 237, 273, 272], [237, 238, 274, 273], [238, 239, 275, 274], [239, 240, 276, 275], [240, 241, 277, 276], [241, 242, 278, 277], [242, 243, 279, 278], [243, 244, 280, 279], [244, 245, 281, 280], [245, 246, 282, 281], [246, 247, 283, 282], [247, 248, 284, 283], [248, 249, 285, 284], [249, 250, 286, 285], [250, 251, 287, 286], [251, 252, 288, 287], [252, 218, 254, 288], [254, 253, 289, 290], [253, 255, 291, 289], [255, 256, 292, 291], [256, 257, 293, 292], [257, 258, 294, 293], [258, 259, 295, 294], [259, 260, 296, 295], [260, 261, 297, 296], [261, 262, 298, 297], [262, 263, 299, 298], [263, 264, 300, 299], [264, 265, 301, 300], [265, 266, 302, 301], [266, 267, 303, 302], [267, 268, 304, 303], [268, 269, 305, 304], [269, 270, 306, 305], [270, 271, 307, 306], [271, 272, 308, 307], [272, 273, 309, 308], [273, 274, 310, 309], [274, 275, 311, 310], [275, 276, 312, 311], [276, 277, 313, 312], [277, 278, 314, 313], [278, 279, 315, 314], [279, 280, 316, 315], [280, 281, 317, 316], [281, 282, 318, 317], [282, 283, 319, 318], [283, 284, 320, 319], [284, 285, 321, 320], [285, 286, 322, 321], [286, 287, 323, 322], [287, 288, 324, 323], [288, 254, 290, 324], [290, 289, 325, 326], [289, 291, 327, 325], [291, 292, 328, 327], [292, 293, 329, 328], [293, 294, 330, 329], [294, 295, 331, 330], [295, 296, 332, 331], [296, 297, 333, 332], [297, 298, 334, 333], [298, 299, 335, 334], [299, 300, 336, 335], [300, 301, 337, 336], [301, 302, 338, 337], [302, 303, 339, 338], [303, 304, 340, 339], [304, 305, 341, 340], [305, 306, 342, 341], [306, 307, 343, 342], [307, 308, 344, 343], [308, 309, 345, 344], [309, 310, 346, 345], [310, 311, 347, 346], [311, 312, 348, 347], [312, 313, 349, 348], [313, 314, 350, 349], [314, 315, 351, 350], [315, 316, 352, 351], [316, 317, 353, 352], [317, 318, 354, 353], [318, 319, 355, 354], [319, 320, 356, 355], [320, 321, 357, 356], [321, 322, 358, 357], [322, 323, 359, 358], [323, 324, 360, 359], [324, 290, 326, 360], [326, 325, 361, 362], [325, 327, 363, 361], [327, 328, 364, 363], [328, 329, 365, 364], [329, 330, 366, 365], [330, 331, 367, 366], [331, 332, 368, 367], [332, 333, 369, 368], [333, 334, 370, 369], [334, 335, 371, 370], [335, 336, 372, 371], [336, 337, 373, 372], [337, 338, 374, 373], [338, 339, 375, 374], [339, 340, 376, 375], [340, 341, 377, 376], [341, 342, 378, 377], [342, 343, 379, 378], [343, 344, 380, 379], [344, 345, 381, 380], [345, 346, 382, 381], [346, 347, 383, 382], [347, 348, 384, 383], [348, 349, 385, 384], [349, 350, 386, 385], [350, 351, 387, 386], [351, 352, 388, 387], [352, 353, 389, 388], [353, 354, 390, 389], [354, 355, 391, 390], [355, 356, 392, 391], [356, 357, 393, 392], [357, 358, 394, 393], [358, 359, 395, 394], [359, 360, 396, 395], [360, 326, 362, 396], [362, 361, 397, 398], [361, 363, 399, 397], [363, 364, 400, 399], [364, 365, 401, 400], [365, 366, 402, 401], [366, 367, 403, 402], [367, 368, 404, 403], [368, 369, 405, 404], [369, 370, 406, 405], [370, 371, 407, 406], [371, 372, 408, 407], [372, 373, 409, 408], [373, 374, 410, 409], [374, 375, 411, 410], [375, 376, 412, 411], [376, 377, 413, 412], [377, 378, 414, 413], [378, 379, 415, 414], [379, 380, 416, 415], [380, 381, 417, 416], [381, 382, 418, 417], [382, 383, 419, 418], [383, 384, 420, 419], [384, 385, 421, 420], [385, 386, 422, 421], [386, 387, 423, 422], [387, 388, 424, 423], [388, 389, 425, 424], [389, 390, 426, 425], [390, 391, 427, 426], [391, 392, 428, 427], [392, 393, 429, 428], [393, 394, 430, 429], [394, 395, 431, 430], [395, 396, 432, 431], [396, 362, 398, 432], [398, 397, 433, 434], [397, 399, 435, 433], [399, 400, 436, 435], [400, 401, 437, 436], [401, 402, 438, 437], [402, 403, 439, 438], [403, 404, 440, 439], [404, 405, 441, 440], [405, 406, 442, 441], [406, 407, 443, 442], [407, 408, 444, 443], [408, 409, 445, 444], [409, 410, 446, 445], [410, 411, 447, 446], [411, 412, 448, 447], [412, 413, 449, 448], [413, 414, 450, 449], [414, 415, 451, 450], [415, 416, 452, 451], [416, 417, 453, 452], [417, 418, 454, 453], [418, 419, 455, 454], [419, 420, 456, 455], [420, 421, 457, 456], [421, 422, 458, 457], [422, 423, 459, 458], [423, 424, 460, 459], [424, 425, 461, 460], [425, 426, 462, 461], [426, 427, 463, 462], [427, 428, 464, 463], [428, 429, 465, 464], [429, 430, 466, 465], [430, 431, 467, 466], [431, 432, 468, 467], [432, 398, 434, 468], [434, 433, 469, 470], [433, 435, 471, 469], [435, 436, 472, 471], [436, 437, 473, 472], [437, 438, 474, 473], [438, 439, 475, 474], [439, 440, 476, 475], [440, 441, 477, 476], [441, 442, 478, 477], [442, 443, 479, 478], [443, 444, 480, 479], [444, 445, 481, 480], [445, 446, 482, 481], [446, 447, 483, 482], [447, 448, 484, 483], [448, 449, 485, 484], [449, 450, 486, 485], [450, 451, 487, 486], [451, 452, 488, 487], [452, 453, 489, 488], [453, 454, 490, 489], [454, 455, 491, 490], [455, 456, 492, 491], [456, 457, 493, 492], [457, 458, 494, 493], [458, 459, 495, 494], [459, 460, 496, 495], [460, 461, 497, 496], [461, 462, 498, 497], [462, 463, 499, 498], [463, 464, 500, 499], [464, 465, 501, 500], [465, 466, 502, 501], [466, 467, 503, 502], [467, 468, 504, 503], [468, 434, 470, 504], [470, 469, 505, 506], [469, 471, 507, 505], [471, 472, 508, 507], [472, 473, 509, 508], [473, 474, 510, 509], [474, 475, 511, 510], [475, 476, 512, 511], [476, 477, 513, 512], [477, 478, 514, 513], [478, 479, 515, 514], [479, 480, 516, 515], [480, 481, 517, 516], [481, 482, 518, 517], [482, 483, 519, 518], [483, 484, 520, 519], [484, 485, 521, 520], [485, 486, 522, 521], [486, 487, 523, 522], [487, 488, 524, 523], [488, 489, 525, 524], [489, 490, 526, 525], [490, 491, 527, 526], [491, 492, 528, 527], [492, 493, 529, 528], [493, 494, 530, 529], [494, 495, 531, 530], [495, 496, 532, 531], [496, 497, 533, 532], [497, 498, 534, 533], [498, 499, 535, 534], [499, 500, 536, 535], [500, 501, 537, 536], [501, 502, 538, 537], [502, 503, 539, 538], [503, 504, 540, 539], [504, 470, 506, 540], [506, 505, 541, 542], [505, 507, 543, 541], [507, 508, 544, 543], [508, 509, 545, 544], [509, 510, 546, 545], [510, 511, 547, 546], [511, 512, 548, 547], [512, 513, 549, 548], [513, 514, 550, 549], [514, 515, 551, 550], [515, 516, 552, 551], [516, 517, 553, 552], [517, 518, 554, 553], [518, 519, 555, 554], [519, 520, 556, 555], [520, 521, 557, 556], [521, 522, 558, 557], [522, 523, 559, 558], [523, 524, 560, 559], [524, 525, 561, 560], [525, 526, 562, 561], [526, 527, 563, 562], [527, 528, 564, 563], [528, 529, 565, 564], [529, 530, 566, 565], [530, 531, 567, 566], [531, 532, 568, 567], [532, 533, 569, 568], [533, 534, 570, 569], [534, 535, 571, 570], [535, 536, 572, 571], [536, 537, 573, 572], [537, 538, 574, 573], [538, 539, 575, 574], [539, 540, 576, 575], [540, 506, 542, 576], [542, 541, 577, 578], [541, 543, 579, 577], [543, 544, 580, 579], [544, 545, 581, 580], [545, 546, 582, 581], [546, 547, 583, 582], [547, 548, 584, 583], [548, 549, 585, 584], [549, 550, 586, 585], [550, 551, 587, 586], [551, 552, 588, 587], [552, 553, 589, 588], [553, 554, 590, 589], [554, 555, 591, 590], [555, 556, 592, 591], [556, 557, 593, 592], [557, 558, 594, 593], [558, 559, 595, 594], [559, 560, 596, 595], [560, 561, 597, 596], [561, 562, 598, 597], [562, 563, 599, 598], [563, 564, 600, 599], [564, 565, 601, 600], [565, 566, 602, 601], [566, 567, 603, 602], [567, 568, 604, 603], [568, 569, 605, 604], [569, 570, 606, 605], [570, 571, 607, 606], [571, 572, 608, 607], [572, 573, 609, 608], [573, 574, 610, 609], [574, 575, 611, 610], [575, 576, 612, 611], [576, 542, 578, 612], [578, 577, 613, 614], [577, 579, 615, 613], [579, 580, 616, 615], [580, 581, 617, 616], [581, 582, 618, 617], [582, 583, 619, 618], [583, 584, 620, 619], [584, 585, 621, 620], [585, 586, 622, 621], [586, 587, 623, 622], [587, 588, 624, 623], [588, 589, 625, 624], [589, 590, 626, 625], [590, 591, 627, 626], [591, 592, 628, 627], [592, 593, 629, 628], [593, 594, 630, 629], [594, 595, 631, 630], [595, 596, 632, 631], [596, 597, 633, 632], [597, 598, 634, 633], [598, 599, 635, 634], [599, 600, 636, 635], [600, 601, 637, 636], [601, 602, 638, 637], [602, 603, 639, 638], [603, 604, 640, 639], [604, 605, 641, 640], [605, 606, 642, 641], [606, 607, 643, 642], [607, 608, 644, 643], [608, 609, 645, 644], [609, 610, 646, 645], [610, 611, 647, 646], [611, 612, 648, 647], [612, 578, 614, 648], [614, 613, 649, 650], [613, 615, 651, 649], [615, 616, 652, 651], [616, 617, 653, 652], [617, 618, 654, 653], [618, 619, 655, 654], [619, 620, 656, 655], [620, 621, 657, 656], [621, 622, 658, 657], [622, 623, 659, 658], [623, 624, 660, 659], [624, 625, 661, 660], [625, 626, 662, 661], [626, 627, 663, 662], [627, 628, 664, 663], [628, 629, 665, 664], [629, 630, 666, 665], [630, 631, 667, 666], [631, 632, 668, 667], [632, 633, 669, 668], [633, 634, 670, 669], [634, 635, 671, 670], [635, 636, 672, 671], [636, 637, 673, 672], [637, 638, 674, 673], [638, 639, 675, 674], [639, 640, 676, 675], [640, 641, 677, 676], [641, 642, 678, 677], [642, 643, 679, 678], [643, 644, 680, 679], [644, 645, 681, 680], [645, 646, 682, 681], [646, 647, 683, 682], [647, 648, 684, 683], [648, 614, 650, 684], [650, 649, 685], [649, 651, 685], [651, 652, 685], [652, 653, 685], [653, 654, 685], [654, 655, 685], [655, 656, 685], [656, 657, 685], [657, 658, 685], [658, 659, 685], [659, 660, 685], [660, 661, 685], [661, 662, 685], [662, 663, 685], [663, 664, 685], [664, 665, 685], [665, 666, 685], [666, 667, 685], [667, 668, 685], [668, 669, 685], [669, 670, 685], [670, 671, 685], [671, 672, 685], [672, 673, 685], [673, 674, 685], [674, 675, 685], [675, 676, 685], [676, 677, 685], [677, 678, 685], [678, 679, 685], [679, 680, 685], [680, 681, 685], [681, 682, 685], [682, 683, 685], [683, 684, 685], [684, 650, 685]], &quot;color&quot;: &quot;#000000&quot;, &quot;opacity&quot;: 1.0}];\n",
       "    for ( var i=0 ; i < surfaces.length ; i++ ) addSurface( surfaces[i] );\n",
       "\n",
       "    function addSurface( json ) {\n",
       "\n",
       "        var useFaceColors = 'faceColors' in json ? true : false;\n",
       "\n",
       "        var geometry = new THREE.Geometry();\n",
       "        for ( var i=0 ; i < json.vertices.length ; i++ ) {\n",
       "            var v = json.vertices[i];\n",
       "            geometry.vertices.push( new THREE.Vector3( a[0]*v.x, a[1]*v.y, a[2]*v.z ) );\n",
       "        }\n",
       "        for ( var i=0 ; i < json.faces.length ; i++ ) {\n",
       "            var f = json.faces[i];\n",
       "            for ( var j=0 ; j < f.length - 2 ; j++ ) {\n",
       "                var face = new THREE.Face3( f[0], f[j+1], f[j+2] );\n",
       "                if ( useFaceColors ) face.color.set( json.faceColors[i] );\n",
       "                geometry.faces.push( face );\n",
       "            }\n",
       "        }\n",
       "        geometry.computeVertexNormals();\n",
       "\n",
       "        var side = json.singleSide ? THREE.FrontSide : THREE.DoubleSide;\n",
       "        var transparent = json.opacity < 1 ? true : false;\n",
       "\n",
       "        var material = new THREE.MeshPhongMaterial( { side: side,\n",
       "                                     color: useFaceColors ? 'white' : json.color,\n",
       "                                     vertexColors: useFaceColors ? THREE.FaceColors : THREE.NoColors,\n",
       "                                     transparent: transparent, opacity: json.opacity,\n",
       "                                     shininess: 20, flatShading: json.useFlatShading } );\n",
       "\n",
       "        var c = new THREE.Vector3();\n",
       "        geometry.computeBoundingBox();\n",
       "        geometry.boundingBox.getCenter( c );\n",
       "        geometry.translate( -c.x, -c.y, -c.z );\n",
       "\n",
       "        var mesh = new THREE.Mesh( geometry, material );\n",
       "        mesh.position.set( c.x, c.y, c.z );\n",
       "        if ( transparent && json.renderOrder ) mesh.renderOrder = json.renderOrder;\n",
       "        scene.add( mesh );\n",
       "\n",
       "        if ( json.showMeshGrid ) {\n",
       "\n",
       "            var geometry = new THREE.Geometry();\n",
       "\n",
       "            for ( var i=0 ; i < json.faces.length ; i++ ) {\n",
       "                var f = json.faces[i];\n",
       "                for ( var j=0 ; j < f.length ; j++ ) {\n",
       "                    var k = j === f.length-1 ? 0 : j+1;\n",
       "                    var v1 = json.vertices[f[j]];\n",
       "                    var v2 = json.vertices[f[k]];\n",
       "                    // vertices in opposite directions on neighboring faces\n",
       "                    var nudge = f[j] < f[k] ? .0005*zRange : -.0005*zRange;\n",
       "                    geometry.vertices.push( new THREE.Vector3( a[0]*v1.x, a[1]*v1.y, a[2]*(v1.z+nudge) ) );\n",
       "                    geometry.vertices.push( new THREE.Vector3( a[0]*v2.x, a[1]*v2.y, a[2]*(v2.z+nudge) ) );\n",
       "                }\n",
       "            }\n",
       "\n",
       "            var material = new THREE.LineBasicMaterial( { color: 'black', linewidth: 1 } );\n",
       "\n",
       "            var c = new THREE.Vector3();\n",
       "            geometry.computeBoundingBox();\n",
       "            geometry.boundingBox.getCenter( c );\n",
       "            geometry.translate( -c.x, -c.y, -c.z );\n",
       "\n",
       "            var mesh = new THREE.LineSegments( geometry, material );\n",
       "            mesh.position.set( c.x, c.y, c.z );\n",
       "            scene.add( mesh );\n",
       "\n",
       "        }\n",
       "\n",
       "    }\n",
       "\n",
       "    var scratch = new THREE.Vector3();\n",
       "\n",
       "    function render() {\n",
       "\n",
       "        if ( animate ) requestAnimationFrame( render );\n",
       "        renderer.render( scene, camera );\n",
       "\n",
       "        // Resize text based on distance from camera.\n",
       "        // Not neccessary for orthographic due to the nature of the projection (preserves sizes).\n",
       "        if ( !camera.isOrthographicCamera ) {\n",
       "            for ( var i=0 ; i < scene.children.length ; i++ ) {\n",
       "                if ( scene.children[i].type === 'Sprite' ) {\n",
       "                    var sprite = scene.children[i];\n",
       "                    var adjust = scratch.addVectors( sprite.position, scene.position )\n",
       "                                    .sub( camera.position ).length() / 5;\n",
       "                    sprite.scale.set( adjust, .25*adjust, 1 ); // ratio of canvas width to height\n",
       "                }\n",
       "            }\n",
       "        }\n",
       "    }\n",
       "    \n",
       "    render();\n",
       "    controls.update();\n",
       "    if ( !animate ) render();\n",
       "\n",
       "\n",
       "    // menu functions\n",
       "\n",
       "    function toggleMenu() {\n",
       "\n",
       "        var m = document.getElementById( 'menu-content' );\n",
       "        if ( m.style.display === 'block' ) m.style.display = 'none'\n",
       "        else m.style.display = 'block';\n",
       "\n",
       "    }\n",
       "\n",
       "\n",
       "    function saveAsPNG() {\n",
       "\n",
       "        var a = document.body.appendChild( document.createElement( 'a' ) );\n",
       "        a.href = renderer.domElement.toDataURL( 'image/png' );\n",
       "        a.download = 'screenshot';\n",
       "        a.click();\n",
       "\n",
       "    }\n",
       "\n",
       "    function saveAsHTML() {\n",
       "\n",
       "        toggleMenu(); // otherwise visible in output\n",
       "        event.stopPropagation();\n",
       "\n",
       "        var blob = new Blob( [ '<!DOCTYPE html>\\n' + document.documentElement.outerHTML ] );\n",
       "        var a = document.body.appendChild( document.createElement( 'a' ) );\n",
       "        a.href = window.URL.createObjectURL( blob );\n",
       "        a.download = 'graphic.html';\n",
       "        a.click();\n",
       "\n",
       "    }\n",
       "\n",
       "    function getViewpoint() {\n",
       "\n",
       "        function roundTo( x, n ) { return +x.toFixed(n); }\n",
       "\n",
       "        var v = camera.quaternion.inverse();\n",
       "        var r = Math.sqrt( v.x*v.x + v.y*v.y + v.z*v.z );\n",
       "        var axis = [ roundTo( v.x / r, 4 ), roundTo( v.y / r, 4 ), roundTo( v.z / r, 4 ) ];\n",
       "        var angle = roundTo( 2 * Math.atan2( r, v.w ) * 180 / Math.PI, 2 );\n",
       "\n",
       "        var textArea = document.createElement( 'textarea' );\n",
       "        textArea.textContent = JSON.stringify( axis ) + ',' + angle;\n",
       "        textArea.style.csstext = 'position: absolute; top: -100%';\n",
       "        document.body.append( textArea );\n",
       "        textArea.select();\n",
       "        document.execCommand( 'copy' );\n",
       "\n",
       "        var m = document.getElementById( 'menu-message' );\n",
       "        m.innerHTML = 'Viewpoint copied to clipboard';\n",
       "        m.style.display = 'block';\n",
       "        setTimeout( function() { m.style.display = 'none'; }, 2000 );\n",
       "\n",
       "    }\n",
       "\n",
       "</script>\n",
       "\n",
       "<div id=&quot;menu-container&quot; onclick=&quot;toggleMenu()&quot;>&#x24d8;\n",
       "<div id=&quot;menu-message&quot;></div>\n",
       "<div id=&quot;menu-content&quot;>\n",
       "<div onclick=&quot;saveAsPNG()&quot;>Save as PNG</div>\n",
       "<div onclick=&quot;saveAsHTML()&quot;>Save as HTML</div>\n",
       "<div onclick=&quot;getViewpoint()&quot;>Get Viewpoint</div>\n",
       "<div>Close Menu</div>\n",
       "</div></div>\n",
       "\n",
       "</body>\n",
       "</html>\n",
       "\"\n",
       "        width=\"100%\"\n",
       "        height=\"400\"\n",
       "        style=\"border: 0;\">\n",
       "</iframe>\n"
      ],
      "text/plain": [
       "Graphics3d Object"
      ]
     },
     "execution_count": 20,
     "metadata": {},
     "output_type": "execute_result"
    }
   ],
   "source": [
    "Li.plot()"
   ]
  },
  {
   "cell_type": "markdown",
   "metadata": {},
   "source": [
    "Actually, many options can be passed to the method `plot()`. For instance to a get a 3D spacetime diagram:"
   ]
  },
  {
   "cell_type": "code",
   "execution_count": 21,
   "metadata": {},
   "outputs": [
    {
     "data": {
      "text/html": [
       "\n",
       "<iframe srcdoc=\"<!DOCTYPE html>\n",
       "<html>\n",
       "<head>\n",
       "<title></title>\n",
       "<meta charset=&quot;utf-8&quot;>\n",
       "<meta name=viewport content=&quot;width=device-width, user-scalable=no, minimum-scale=1.0, maximum-scale=1.0&quot;>\n",
       "<style>\n",
       "\n",
       "    body { margin: 0px; overflow: hidden; }\n",
       "\n",
       "    #menu-container { position: absolute; bottom: 30px; right: 40px; cursor: default; }\n",
       "\n",
       "    #menu-message { position: absolute; bottom: 0px; right: 0px; white-space: nowrap;\n",
       "                    display: none; background-color: #F5F5F5; padding: 10px; }\n",
       "\n",
       "    #menu-content { position: absolute; bottom: 0px; right: 0px;\n",
       "                    display: none; background-color: #F5F5F5; border-bottom: 1px solid black;\n",
       "                    border-right: 1px solid black; border-left: 1px solid black; }\n",
       "\n",
       "    #menu-content div { border-top: 1px solid black; padding: 10px; white-space: nowrap; }\n",
       "\n",
       "    #menu-content div:hover { background-color: #FEFEFE;; }\n",
       "  \n",
       "</style>\n",
       "</head>\n",
       "\n",
       "<body>\n",
       "\n",
       "<script src=&quot;/nbextensions/threejs/build/three.min.js&quot;></script>\n",
       "<script src=&quot;/nbextensions/threejs/examples/js/controls/OrbitControls.js&quot;></script>\n",
       "<script>\n",
       "  if ( !window.THREE ) document.write(' \\\n",
       "<script src=&quot;https://cdn.jsdelivr.net/gh/mrdoob/three.js@r110/build/three.min.js&quot;><\\/script> \\\n",
       "<script src=&quot;https://cdn.jsdelivr.net/gh/mrdoob/three.js@r110/examples/js/controls/OrbitControls.js&quot;><\\/script> \\\n",
       "            ');\n",
       "</script>\n",
       "        \n",
       "<script>\n",
       "\n",
       "    var scene = new THREE.Scene();\n",
       "\n",
       "    var renderer = new THREE.WebGLRenderer( { antialias: true, preserveDrawingBuffer: true } );\n",
       "    renderer.setPixelRatio( window.devicePixelRatio );\n",
       "    renderer.setSize( window.innerWidth, window.innerHeight );\n",
       "    renderer.setClearColor( 0xffffff, 1 );\n",
       "    document.body.appendChild( renderer.domElement );\n",
       "\n",
       "    var options = {&quot;aspectRatio&quot;: [1.0, 1.0, 1.0], &quot;axes&quot;: false, &quot;axesLabels&quot;: [&quot;x&quot;, &quot;y&quot;, &quot;t&quot;], &quot;decimals&quot;: 2, &quot;frame&quot;: true, &quot;projection&quot;: &quot;perspective&quot;};\n",
       "\n",
       "    // When animations are supported by the viewer, the value 'false'\n",
       "    // will be replaced with an option set in Python by the user\n",
       "    var animate = false; // options.animate;\n",
       "\n",
       "    var b = [{&quot;x&quot;:-5.688341303035549, &quot;y&quot;:-5.805055430675176, &quot;z&quot;:0.0}, {&quot;x&quot;:6.0, &quot;y&quot;:5.912337946916549, &quot;z&quot;:553.4637298235969}]; // bounds\n",
       "\n",
       "    if ( b[0].x === b[1].x ) {\n",
       "        b[0].x -= 1;\n",
       "        b[1].x += 1;\n",
       "    }\n",
       "    if ( b[0].y === b[1].y ) {\n",
       "        b[0].y -= 1;\n",
       "        b[1].y += 1;\n",
       "    }\n",
       "    if ( b[0].z === b[1].z ) {\n",
       "        b[0].z -= 1;\n",
       "        b[1].z += 1;\n",
       "    }\n",
       "\n",
       "    var rRange = Math.sqrt( Math.pow( b[1].x - b[0].x, 2 )\n",
       "                            + Math.pow( b[1].y - b[0].y, 2 ) );\n",
       "    var xRange = b[1].x - b[0].x;\n",
       "    var yRange = b[1].y - b[0].y;\n",
       "    var zRange = b[1].z - b[0].z;\n",
       "\n",
       "    var ar = options.aspectRatio;\n",
       "    var a = [ ar[0], ar[1], ar[2] ]; // aspect multipliers\n",
       "    var autoAspect = 2.5;\n",
       "    if ( zRange > autoAspect * rRange && a[2] === 1 ) a[2] = autoAspect * rRange / zRange;\n",
       "\n",
       "    // Distance from (xMid,yMid,zMid) to any corner of the bounding box, after applying aspectRatio\n",
       "    var midToCorner = Math.sqrt( a[0]*a[0]*xRange*xRange + a[1]*a[1]*yRange*yRange + a[2]*a[2]*zRange*zRange ) / 2;\n",
       "\n",
       "    var xMid = ( b[0].x + b[1].x ) / 2;\n",
       "    var yMid = ( b[0].y + b[1].y ) / 2;\n",
       "    var zMid = ( b[0].z + b[1].z ) / 2;\n",
       "\n",
       "    var box = new THREE.Geometry();\n",
       "    box.vertices.push( new THREE.Vector3( a[0]*b[0].x, a[1]*b[0].y, a[2]*b[0].z ) );\n",
       "    box.vertices.push( new THREE.Vector3( a[0]*b[1].x, a[1]*b[1].y, a[2]*b[1].z ) );\n",
       "    var boxMesh = new THREE.Line( box );\n",
       "    if ( options.frame ) scene.add( new THREE.BoxHelper( boxMesh, 'black' ) );\n",
       "\n",
       "    if ( options.axesLabels ) {\n",
       "\n",
       "        var d = options.decimals; // decimals\n",
       "        var offsetRatio = 0.1;\n",
       "        var al = options.axesLabels;\n",
       "\n",
       "        var offset = offsetRatio * a[1]*( b[1].y - b[0].y );\n",
       "        var xm = xMid.toFixed(d);\n",
       "        if ( /^-0.?0*$/.test(xm) ) xm = xm.substr(1);\n",
       "        addLabel( al[0] + '=' + xm, a[0]*xMid, a[1]*b[1].y+offset, a[2]*b[0].z );\n",
       "        addLabel( ( b[0].x ).toFixed(d), a[0]*b[0].x, a[1]*b[1].y+offset, a[2]*b[0].z );\n",
       "        addLabel( ( b[1].x ).toFixed(d), a[0]*b[1].x, a[1]*b[1].y+offset, a[2]*b[0].z );\n",
       "\n",
       "        var offset = offsetRatio * a[0]*( b[1].x - b[0].x );\n",
       "        var ym = yMid.toFixed(d);\n",
       "        if ( /^-0.?0*$/.test(ym) ) ym = ym.substr(1);\n",
       "        addLabel( al[1] + '=' + ym, a[0]*b[1].x+offset, a[1]*yMid, a[2]*b[0].z );\n",
       "        addLabel( ( b[0].y ).toFixed(d), a[0]*b[1].x+offset, a[1]*b[0].y, a[2]*b[0].z );\n",
       "        addLabel( ( b[1].y ).toFixed(d), a[0]*b[1].x+offset, a[1]*b[1].y, a[2]*b[0].z );\n",
       "\n",
       "        var offset = offsetRatio * a[1]*( b[1].y - b[0].y );\n",
       "        var zm = zMid.toFixed(d);\n",
       "        if ( /^-0.?0*$/.test(zm) ) zm = zm.substr(1);\n",
       "        addLabel( al[2] + '=' + zm, a[0]*b[1].x, a[1]*b[0].y-offset, a[2]*zMid );\n",
       "        addLabel( ( b[0].z ).toFixed(d), a[0]*b[1].x, a[1]*b[0].y-offset, a[2]*b[0].z );\n",
       "        addLabel( ( b[1].z ).toFixed(d), a[0]*b[1].x, a[1]*b[0].y-offset, a[2]*b[1].z );\n",
       "\n",
       "    }\n",
       "\n",
       "    function addLabel( text, x, y, z, color='black', fontsize=14  ) {\n",
       "\n",
       "        var canvas = document.createElement( 'canvas' );\n",
       "        var pixelRatio = Math.round( window.devicePixelRatio );\n",
       "        canvas.width = 128 * pixelRatio;\n",
       "        canvas.height = 32 * pixelRatio; // powers of two\n",
       "        canvas.style.width = '128px';\n",
       "        canvas.style.height = '32px';\n",
       "\n",
       "        var context = canvas.getContext( '2d' );\n",
       "        context.scale( pixelRatio, pixelRatio );\n",
       "        context.fillStyle = color;\n",
       "        context.font = fontsize + 'px monospace';\n",
       "        context.textAlign = 'center';\n",
       "        context.textBaseline = 'middle';\n",
       "        context.fillText( text, canvas.width/2/pixelRatio, canvas.height/2/pixelRatio );\n",
       "\n",
       "        var texture = new THREE.Texture( canvas );\n",
       "        texture.needsUpdate = true;\n",
       "\n",
       "        var sprite = new THREE.Sprite( new THREE.SpriteMaterial( { map: texture } ) );\n",
       "        sprite.position.set( x, y, z );\n",
       "\n",
       "        // Set the initial scale based on plot size to accomodate orthographic projection.\n",
       "        // For other projections, the scale will get reset each frame based on camera distance.\n",
       "        var scale = midToCorner/2;\n",
       "        sprite.scale.set( scale, scale*.25, 1 ); // ratio of canvas width to height\n",
       "\n",
       "        scene.add( sprite );\n",
       "\n",
       "    }\n",
       "\n",
       "    if ( options.axes ) scene.add( new THREE.AxesHelper( Math.min( a[0]*b[1].x, a[1]*b[1].y, a[2]*b[1].z ) ) );\n",
       "\n",
       "    var camera = createCamera();\n",
       "    camera.up.set( 0, 0, 1 );\n",
       "    camera.position.set( a[0]*(xMid+xRange), a[1]*(yMid+yRange), a[2]*(zMid+zRange) );\n",
       "\n",
       "    function createCamera() {\n",
       "\n",
       "        var aspect = window.innerWidth / window.innerHeight;\n",
       "\n",
       "        if ( options.projection === 'orthographic' ) {\n",
       "            var camera = new THREE.OrthographicCamera( -1, 1, 1, -1, -1000, 1000 );\n",
       "            updateCameraAspect( camera, aspect );\n",
       "            return camera;\n",
       "        }\n",
       "\n",
       "        return new THREE.PerspectiveCamera( 45, aspect, 0.1, 1000 );\n",
       "\n",
       "    }\n",
       "\n",
       "    function updateCameraAspect( camera, aspect ) {\n",
       "\n",
       "        if ( camera.isPerspectiveCamera ) {\n",
       "            camera.aspect = aspect;\n",
       "        } else if ( camera.isOrthographicCamera ) {\n",
       "            // Fit the camera frustum to the bounding box's diagonal so that the entire plot fits\n",
       "            // within at the default zoom level and camera position.\n",
       "            if ( aspect > 1 ) { // Wide window\n",
       "                camera.top = midToCorner;\n",
       "                camera.right = midToCorner * aspect;\n",
       "            } else { // Tall or square window\n",
       "                camera.top = midToCorner / aspect;\n",
       "                camera.right = midToCorner;\n",
       "            }\n",
       "            camera.bottom = -camera.top;\n",
       "            camera.left = -camera.right;\n",
       "        }\n",
       "\n",
       "        camera.updateProjectionMatrix();\n",
       "\n",
       "    }\n",
       "\n",
       "    var lights = [{&quot;x&quot;:-5, &quot;y&quot;:3, &quot;z&quot;:0, &quot;color&quot;:&quot;#7f7f7f&quot;, &quot;parent&quot;:&quot;camera&quot;}];\n",
       "    for ( var i=0 ; i < lights.length ; i++ ) {\n",
       "        var light = new THREE.DirectionalLight( lights[i].color, 1 );\n",
       "        light.position.set( a[0]*lights[i].x, a[1]*lights[i].y, a[2]*lights[i].z );\n",
       "        if ( lights[i].parent === 'camera' ) {\n",
       "            light.target.position.set( a[0]*xMid, a[1]*yMid, a[2]*zMid );\n",
       "            scene.add( light.target );\n",
       "            camera.add( light );\n",
       "        } else scene.add( light );\n",
       "    }\n",
       "    scene.add( camera );\n",
       "\n",
       "    var ambient = {&quot;color&quot;:&quot;#7f7f7f&quot;};\n",
       "    scene.add( new THREE.AmbientLight( ambient.color, 1 ) );\n",
       "\n",
       "    var controls = new THREE.OrbitControls( camera, renderer.domElement );\n",
       "    controls.target.set( a[0]*xMid, a[1]*yMid, a[2]*zMid );\n",
       "    controls.addEventListener( 'change', function() { if ( !animate ) render(); } );\n",
       "\n",
       "    window.addEventListener( 'resize', function() {\n",
       "        \n",
       "        renderer.setSize( window.innerWidth, window.innerHeight );\n",
       "        updateCameraAspect( camera, window.innerWidth / window.innerHeight );\n",
       "        if ( !animate ) render();\n",
       "        \n",
       "    } );\n",
       "\n",
       "    var texts = [];\n",
       "    for ( var i=0 ; i < texts.length ; i++ )\n",
       "        addLabel( texts[i].text, a[0]*texts[i].x, a[1]*texts[i].y, a[2]*texts[i].z, texts[i].color );\n",
       "\n",
       "    var points = [];\n",
       "    for ( var i=0 ; i < points.length ; i++ ) addPoint( points[i] );\n",
       "\n",
       "    function addPoint( json ) {\n",
       "\n",
       "        var geometry = new THREE.Geometry();\n",
       "        var v = json.point;\n",
       "        geometry.vertices.push( new THREE.Vector3( a[0]*v[0], a[1]*v[1], a[2]*v[2] ) );\n",
       "\n",
       "        var canvas = document.createElement( 'canvas' );\n",
       "        canvas.width = 128;\n",
       "        canvas.height = 128;\n",
       "\n",
       "        var context = canvas.getContext( '2d' );\n",
       "        context.arc( 64, 64, 64, 0, 2 * Math.PI );\n",
       "        context.fillStyle = json.color;\n",
       "        context.fill();\n",
       "\n",
       "        var texture = new THREE.Texture( canvas );\n",
       "        texture.needsUpdate = true;\n",
       "\n",
       "        var transparent = json.opacity < 1 ? true : false;\n",
       "        var size = camera.isOrthographicCamera ? json.size : json.size/100;\n",
       "        var material = new THREE.PointsMaterial( { size: size, map: texture,\n",
       "                                                   transparent: transparent, opacity: json.opacity,\n",
       "                                                   alphaTest: .1 } );\n",
       "\n",
       "        var c = new THREE.Vector3();\n",
       "        geometry.computeBoundingBox();\n",
       "        geometry.boundingBox.getCenter( c );\n",
       "        geometry.translate( -c.x, -c.y, -c.z );\n",
       "\n",
       "        var mesh = new THREE.Points( geometry, material );\n",
       "        mesh.position.set( c.x, c.y, c.z );\n",
       "        scene.add( mesh );\n",
       "\n",
       "    }\n",
       "\n",
       "    var lines = [{&quot;points&quot;: [[6.0, 0.0, 0.0], [5.999629945101916, 0.1164078086394673, 0.3880516578192411], [5.995889952772937, 0.23274757154770795, 0.7760922748417161], [5.98878196821265, 0.3489556868982546, 1.164146607389698], [5.97830790529291, 0.46496851344969425, 1.552239429161069], [5.964469650436713, 0.5807222991547678, 1.9403955624209148], [5.947269068386355, 0.696153107796176, 2.32863990861062], [5.926708009105574, 0.8111967515617058, 2.7169974818752194], [5.902788317395783, 0.9257887130401143, 3.1054934387386854], [5.875511843620223, 1.0398640744839798, 3.494153111607746], [5.844880456622202, 1.1533574429200322, 3.8830020414855584], [5.810896058600079, 1.2662028745396738, 4.272066011520908], [5.773560602170414, 1.3783337969877039, 4.661371081033796], [5.732876109545954, 1.489682931302604, 5.050943620880853], [5.688844694129207, 1.600182211214148, 5.4408103494787845], [5.6414685847030945, 1.7097627001453606, 5.83099836982047], [5.5907501522458185, 1.8183545064778641, 6.2215352079197865], [5.536691939602485, 1.9258866964446106, 6.61244885266911], [5.4792966944876875, 2.0322872032996364, 7.003767796813042], [5.418567405829089, 2.137482733859282, 7.395521079718989], [5.354507343501691, 2.241398672727777, 7.787738332358455], [5.287120102464372, 2.3439589813045996, 8.180449823606478], [5.216409651419879, 2.4450860925981437, 8.57368650855318], [5.142380385055378, 2.5447008053849327, 8.967480080666421], [5.065037183069801, 2.642722168665683, 9.36186302436845], [4.984385473897959, 2.7390673644581383, 9.756868671742712], [4.900431304916619, 2.833651584413149, 10.152531261902423], [4.813181419545057, 2.926387900566005, 10.548886003573939], [4.722643341856944, 3.017187129998318, 10.945969141258317], [4.628825469484362, 3.1059576929433783, 11.343818025265984], [4.531737175609527, 3.1926054638976984, 11.742471185983128], [4.4313889213186695, 3.2770336146648895, 12.141968412444957], [4.327792378096852, 3.3591424512202033, 12.542350836776638], [4.220960564546682, 3.4388292382573984, 12.943661022249685], [4.110907995165938, 3.515988017780795, 13.345943058717527], [3.997650844880707, 3.590509416673824, 13.749242663825544], [3.881207130382016, 3.6622804438853622, 14.153607291156424], [3.761596910076379, 3.7311842766142616, 14.559086245977712], [3.638842504939701, 3.7971000346840182, 14.965730809130859], [3.5129687425030443, 3.8599025425095115, 15.373594369900538], [3.384003227085403, 3.919462077323039, 15.78273256822416], [3.251976638082195, 3.975644104926624, 16.193203448462647], [3.116923061005434, 4.0283090000166695, 16.605067624200743], [2.97888035508132, 4.077311750839183, 17.0183884555168], [2.8378905605383524, 4.122501649097851, 17.433232240830797], [2.6940003519661233, 4.163721962605946, 17.849668423439386], [2.547261542172391, 4.2008095919088335, 18.267769815392697], [2.3977316438174783, 4.233594709135015, 18.687612839194266], [2.245474495263915, 4.261900380112971, 19.109277790275335], [2.090560959551773, 4.285542169014608, 19.53284912125414], [1.9330697053971977, 4.304327726623307, 19.958415750928747], [1.773088080909919, 4.318056363065842, 20.386071400493247], [1.6107130927546336, 4.326518606039578, 20.815914958984276], [1.446052503658617, 4.329495747902708, 21.248050882621317], [1.279226065392061, 4.3267593836714555, 21.682589629757565], [1.1103669045987605, 4.31807094544003, 22.119648136690394], [0.9396230822361898, 4.303181239167002, 22.559350338586853], [0.7671593518681701, 4.281829991453503, 23.001827739072468], [0.5931591416239449, 4.253745418456779, 23.447220036726325], [0.4178267941378844, 4.218643829619427, 23.895675811412953], [0.24139009848035103, 4.176229285866442, 24.347353279743434], [0.06410315420811316, 4.126193335718572, 24.80242112737724], [-0.11375038367050379, 4.068214859519026, 25.26105942576688], [-0.29185362425938705, 4.001960061634428, 25.72346064216042], [-0.46985227048538974, 3.927082661553053, 26.189830758389043], [-0.647349883063467, 3.8432243469163083, 26.660390504720358], [-0.8239025062449862, 3.750015571961491, 27.13537672665912], [-0.9990125691132355, 3.6470768058180933, 27.615043897806633], [-1.172121965866518, 3.534020363907539, 28.099665795484604], [-1.3426042145880204, 3.410452993114534, 28.58953735740051], [-1.509755584661094, 3.275979425935254, 29.084976738334205], [-1.6727850794942256, 3.1302071796994952, 29.5863275870245], [-1.8308031681901706, 2.972752947858527, 30.093961564465182], [-1.9828091677927004, 2.803251025918176, 30.608281123624522], [-2.127677209375563, 2.621364329269332, 31.129722569581702], [-2.264140771703971, 2.426798705679864, 31.658759414670953], [-2.390775854189132, 2.2193214232347267, 32.19590603640358], [-2.505983001693679, 1.9987849308233308, 32.741721633780465], [-2.6079686117493917, 1.7651572463378347, 33.296814459395705], [-2.6947262851640237, 1.5185606244620142, 33.86184627594799], [-2.7640194694266604, 1.2593204842594967, 34.437536944512125], [-2.813367354769946, 0.9880269090965974, 35.02466899190396], [-2.8400369949967303, 0.705611317336446, 35.624091920909216], [-2.841046036677476, 0.41344104658222514, 36.236725910655096], [-2.813182362353854, 0.1134344254060778, 36.86356440855771], [-2.7530494714124276, -0.1918018317019722, 37.505674913251106], [-2.657149588154803, -0.49881281414230055, 38.16419702541196], [-2.5220201694143087, -0.8031164253890766, 38.840336580554755], [-2.344443281689165, -1.0990141812767842, 39.53535444112882], [-2.12175026911914, -1.3794098170698506, 40.25054837397335], [-1.852244460987465, -1.6356669186668094, 40.98722650428247], [-1.535759491586153, -1.8575543246416508, 41.74667130117659], [-1.1743561363569255, -2.0333485164212366, 42.530094119171345], [-0.7731319892453001, -2.150181414723359, 43.338582156721166], [-0.3410728377839398, -2.1947317212575532, 44.17304226401591], [0.10818602386145817, -2.1543460794256615, 45.03414889945973], [0.555885760382231, -2.018629723016277, 45.922305710877], [0.9782040937237663, -1.781457271389052, 46.83763026112911], [1.347103093376645, -1.4432290768433542, 47.77996796454784], [1.6321595448811947, -1.0130615001623269, 48.74893393358331], [1.8034444283809388, -0.5104874087593089, 49.74397143383719], [1.8353387200122468, 0.03381163203099803, 50.76440587738963], [1.7109720597565423, 0.5787054735272065, 51.809467081890425], [1.4267662946661652, 1.0751337337997406, 52.87825235274201], [0.9963509708302067, 1.4706836736459055, 53.969610041705046], [0.4528850221050492, 1.7162110219555882, 55.08193855513801], [-0.1513759778181181, 1.7740209026734874, 56.21292084927529], [-0.7493903469474685, 1.6263798261953861, 57.35924949504572], [-1.2680433111591227, 1.282228117592913, 58.51643528599297], [-1.6403817580905469, 0.7794098235517501, 59.67881179930279], [-1.8185699628348522, 0.1803258063806602, 60.83981813841789], [-1.7834462010609362, -0.4389352033966112, 61.9925480308101], [-1.5471821879256318, -1.0030352121028734, 63.1304318646342], [-1.1482723998288757, -1.4506944785436626, 64.24784824793682], [-0.6412698916679137, -1.7429184160503723, 65.34049768206269], [-0.08526465344849911, -1.8648278849841582, 66.40548539753497], [0.4655395592243253, -1.8223702048589614, 67.4411721929477], [0.9676133521066533, -1.636370310632541, 68.44690339535093], [1.390363636243016, -1.3361560428474628, 69.42271656166906], [1.7158218546514232, -0.9541231583790134, 70.36909037138997], [1.9368471980181916, -0.5217670299941153, 71.28675925219112], [2.0547115798083477, -0.06717199844654598, 72.17659306713445], [2.0766306305849453, 0.3862960328914857, 73.03952896127389], [2.013552662889321, 0.8204102730590381, 73.8765390910683], [1.8783452535059064, 1.2219086085388837, 74.68861936973249], [1.6844137557045809, 1.581961282278807, 75.47678780463157], [1.4447262905220457, 1.895460294240679, 76.24208488652441], [1.1711887401800691, 2.160258499240602, 76.98557195774845], [0.8743003832487821, 2.3764429818482014, 77.70832612747517], [0.5630196791378452, 2.54569237186263, 78.41143200602941], [0.2447760392458105, 2.6707411388593085, 79.09597139011022], [-0.0744260935952509, 2.7549550792240676, 79.76301225693733], [-0.3898525322453082, 2.802010258778963, 80.41359825961923], [-0.6978640761609779, 2.8156612809788744, 81.04873957052851], [-0.995740746392846, 2.799582420898804, 81.6694055448623], [-1.2815176614924448, 2.757265480189253, 82.2765193577673], [-1.553838884528381, 2.6919600084641147, 82.8709545387076], [-1.8118316167193225, 2.6066439521987332, 83.45353318694411], [-2.0550006269382424, 2.5040152864705743, 84.02502558512761], [-2.2831413952120134, 2.386497454066533, 84.58615091353761], [-2.496269772077492, 2.256253347406535, 85.137578785525], [-2.69456574861072, 2.115204093338629, 85.67993135995965], [-2.878329000560194, 1.9650500692702528, 86.2137858280986], [-3.0479440841587224, 1.8072924445937784, 86.73967711414043], [-3.2038534353684365, 1.6432541668385372, 87.25810066591279], [-3.3465366106811625, 1.474099749384533, 87.76951524481919], [-3.476494476319556, 1.3008535183832055, 88.27434565017622], [-3.5942372921524193, 1.1244161757035414, 88.77298533411683], [-3.70027584161803, 0.9455796629123495, 89.2657988793215], [-3.795114930432472, 0.7650403899156295, 89.75312432370731], [-3.8792487174094776, 0.5834109362886961, 90.23527532516526], [-3.9531574546170773, 0.40123035551918557, 90.71254316569353], [-4.0173053052673104, 0.2189732199575829, 91.1851985985674], [-4.072138980453211, 0.0370575424839628, 91.65349354499523], [-4.118086993031844, -0.14414829566702378, 92.11766264860336], [-4.1555593724085975, -0.3243194918161347, 92.57792469685958], [-4.184947719188632, -0.5031695350871365, 93.03448391913098], [-4.206625506527397, -0.6804455891967278, 93.4875311709698], [-4.220948556594698, -0.855924458919606, 93.93724501401071], [-4.228255637434178, -1.0294090646541256, 94.3837927004254], [-4.228869138553863, -1.2007253592715343, 94.82733107039773], [-4.223095793868882, -1.3697196286836062, 95.26800737038822], [-4.2112274283408535, -1.536256127094617, 95.70595999950808], [-4.193541710819504, -1.7002150025561442, 96.14131919062893], [-4.170302900321008, -1.8614904755578259, 96.57420763233507], [-4.141762576472048, -2.0199892377062416, 97.00474103723525], [-4.1081603477389, -2.1756290422763733, 97.43302866167957], [-4.069724533088326, -2.3283374621126818, 97.85917378143347], [-4.02667281434745, -2.4780507936561023, 98.28327412743346], [-3.9792128577753587, -2.624713088661144, 98.70542228534045], [-3.927542904138094, -2.7682752977857032, 99.12570606229019], [-3.8718523274482344, -2.908694512019825, 99.54420882382234], [-3.812322162784118, -3.045933290119505, 99.96100980377682], [-3.7491256041154983, -3.1799590614831446, 100.37618438959916], [-3.6824284732121115, -3.310743595437899, 100.78980438530009], [-3.6123896608940953, -3.4382625289889255, 101.20193825407483], [-3.539161541969523, -3.5624949461333233, 101.6126513424042], [-3.462890365249338, -3.683423002704575, 102.02200608727874], [-3.3837166200407034, -3.8010315914714776, 102.43006220803129], [-3.3017753805095733, -3.91530804287409, 102.83687688412093], [-3.217196629283832, -4.026241857337039, 103.24250492007764], [-3.130105561469682, -4.133824465701628, 103.6469988987743], [-3.040622870711231, -4.238049014406887, 104.05040932384811], [-2.948865017997788, -4.338910173007451, 104.45278475242159], [-2.85494448476819, -4.436403961339673, 104.85417191873894], [-2.7589700111121296, -4.530527594369772, 105.25461584961155], [-2.661046820168796, -4.621279342788568, 105.65415997231696], [-2.5612768298073876, -4.708658407625137, 106.05284621549563], [-2.4597588523572322, -4.79266480747731, 106.45071510368494], [-2.3565887830555927, -4.8732992770986385, 106.84780584610004], [-2.251859778994794, -4.950563175893597, 107.24415641960692], [-2.1456624269132645, -5.024458405990551, 107.63980364759121], [-2.0380849037964506, -5.094987338025338, 108.03478327337592], [-1.9292131281681237, -5.162152744621886, 108.42913003003336], [-1.8191309040664896, -5.225957740458515, 108.82287770617421], [-1.7079200582565897, -5.286405728318456, 109.2160592080284], [-1.595660570169641, -5.343500350704959, 109.60870661866116], [-1.482430696452402, -5.397245446325941, 110.00085125384626], [-1.368307089742695, -5.447645011115325, 110.3925237152834], [-1.2533649118726433, -5.49470316337315, 110.78375394151745], [-1.1376779427658263, -5.538424112607961, 111.17457125630435], [-1.0213186853543228, -5.578812131815035, 111.56500441464435], [-0.9043584649755505, -5.615871532926892, 111.95508164770037], [-0.7868675268606932, -5.649606645108248, 112.34483070498675], [-0.668915128703202, -5.680021795728744, 112.73427889581359], [-0.5505696318384531, -5.70712129384432, 113.1234531283625], [-0.4318985876342658, -5.730909415906948, 113.51237994855424], [-0.31296882344929833, -5.751390393718936, 113.90108557661466], [-0.1938465245315757, -5.768568404284573, 114.28959594358538], [-0.07459731534311767, -5.782447561698148, 114.67793672613571], [0.04471366184841028, -5.793031910748965, 115.06613338110044], [0.16402166940461263, -5.800325422306507, 115.45421117904532], [0.2832622981217578, -5.80433199037279, 115.84219523728667], [0.40237139266632677, -5.805055430675176, 116.23011055270472], [0.5212849761508878, -5.802499481130861, 116.61798203326735], [0.6399391780642945, -5.79666780343894, 117.00583453066545], [0.7582701607384406, -5.787563986504327, 117.39369287177038], [0.8762140462162572, -5.775191551478192, 117.78158189003625], [0.9937068445439582, -5.75955395803977, 118.16952645762125], [1.1106843794345291, -5.7406546128640565, 118.55755151633241], [1.2270822173500977, -5.718496878845751, 118.94568211062919], [1.3428355914230103, -5.693084087156153, 119.333943418638], [1.4578793296969694, -5.664419549800821, 119.72236078597274], [1.5721477775257031, -5.632506575310886, 120.11095975772952], [1.685574723408264, -5.597348485159779, 120.49976611316163], [1.798093319718998, -5.558948633288734, 120.88880589935626], [1.909636004654363, -5.517310427045322, 121.27810546691391], [2.020134421069686, -5.472437350832239, 121.66769150598842], [2.129519332558279, -5.4243329926389725, 122.05759108298764], [2.237720541396839, -5.373001071714182, 122.4478316802174], [2.3446667985021272, -5.318445471183484, 122.83844123441727], [2.4502857134879177, -5.260670272904346, 123.22944817792431], [2.55450366307317, -5.199679795123802, 123.62088148200179], [2.657245693992069, -5.135478634800819, 124.01277070086105], [2.758435423433364, -5.068071713565907, 124.40514601805391], [2.85799493578694, -4.997464328023381, 124.79803829497801], [2.9558446752145233, -4.923662204978225, 125.19147912157007], [3.0519033336779513, -4.846671561997036, 125.5855008694226], [3.146087734529483, -4.766499173595781, 125.9801367476938], [3.2383127109972096, -4.6831524438218315, 126.37542086190685], [3.328490978853799, -4.596639486056457, 126.77138827576306], [3.416533004015916, -4.5069692100399905, 127.16807507667968], [3.5023468634435093, -4.414151417661641, 127.56551844485249], [3.585838099217781, -4.318196908264044, 127.96375672627656], [3.6669095664231497, -4.219117593628285, 128.3628295104866], [3.7454612727121335, -4.116926624945647, 128.7627777127137], [3.821390210019866, -4.0116385323626504, 129.16364366123204], [3.8945901786715016, -3.903269377766414, 129.56547119063043], [3.96495160141848, -3.791836924017582, 129.9683057406662], [4.032361328628418, -3.6773608209122273, 130.37219446192464], [4.0967024341303, -3.5598628096185436, 130.7771863288624], [4.1578539993240335, -3.4393669496288726, 131.183332260027], [4.215690887535097, -3.315899868220107, 131.59068524718617], [4.270083506999089, -3.1894910361250424, 131.99930049361646], [4.320897560819277, -3.0601730739831443, 132.40923556176654], [4.367993786560952, -2.927982089458393, 132.82055053258557], [4.411227682352582, -2.792958052050648, 133.23330817617605], [4.450449219645533, -2.6551452098358146, 133.64757413492825], [4.485502545434796, -2.514592548993553, 134.06341712178568], [4.51622566969747, -2.371354307505923, 134.48090913269908], [4.542450140856625, -2.2254905461943446, 134.90012567585936], [4.564000711582821, -2.0770677810439184, 135.32114602032382], [4.580694991032272, -1.9261596926873734, 135.74405346288805], [4.592343089098521, -1.7728479158493868, 136.16893561732616], [4.598747255422805, -1.6172229168913703, 136.59588472877013], [4.599701511239121, -1.4593849798386185, 137.02499801238426], [4.5949912811145, -1.2994453088539537, 137.45637802067674], [4.5843930310977345, -1.1375272580315774, 137.89013304359358], [4.567673916143149, -0.973767712891616, 138.32637754183895], [4.5445914470632225, -0.8083186385975745, 138.7652326182156], [4.514893187385533, -0.6413488173499167, 139.2068265304171], [4.478316493531112, -0.47304579958911713, 139.65129524930944], [4.434588315411829, -0.30361809615176977, 140.09878306751483], [4.383425079150351, -0.13329764247193057, 140.54944326343713], [4.324532678153921, 0.03765742788446705, 141.00343882531774], [4.257606607310896, 0.2089596634554722, 141.46094324250424], [4.182332282633984, 0.38028878506921726, 141.92214137097855], [4.098385598800958, 0.5512877352809689, 142.38723037987495], [4.005433791092288, 0.7215582351090837, 142.8564207882075], [3.9031366838572628, 0.8906557886551105, 143.32993760097702], [3.791148427798033, 1.0580840727201326, 143.80802155512015], [3.6691198539322096, 1.2232886445186857, 144.2909304878986], [3.5367016010035033, 1.385649898103019, 144.77894083892878], [3.3935482135064876, 1.5444752014107315, 145.27234930292002], [3.2393234520720786, 1.698990148671094, 145.77147464785207], [3.073707116116729, 1.8483288746912436, 146.27665971763085], [2.8964037491202834, 1.9915233946261124, 146.78827364009553], [2.707153680821396, 2.1274919676389508, 147.30671426252647], [2.505746964746087, 2.2550265311150857, 147.8324108409141], [2.2920408926308755, 2.372779330282559, 148.3658270105872], [2.065981913976299, 2.479248982263742, 148.90746406882116], [1.8276329601929817, 2.5727663781651398, 149.45786460198738], [1.5772073644275564, 2.651481070978759, 150.01761648834895], [1.3151107864783014, 2.713349127826659, 150.5873573081287], [1.041992769921487, 2.756123907673271, 151.16777918273212], [0.7588097667156589, 2.7773518820733956, 151.75963405163918], [0.46690161330902563, 2.7743765277148693, 152.3637393669305], [0.16808345387425427, 2.744354552740903, 152.98098413686398], [-0.13524513238049893, 2.6842903738352413, 153.61233517084565], [-0.4399727628240178, 2.5910969259977437, 154.25884324938912], [-0.7421311058106822, 2.4616936463095853, 154.92164874637305], [-1.0367352262433178, 2.2931558258323683, 155.60198593534577], [-1.3176175243668293, 2.082933298359765, 156.30118478153943], [-1.5772712488417244, 1.8291600875767577, 157.0206684291063], [-1.8067317569881969, 1.5310789163495806, 157.76194380565616], [-1.9955414700592462, 1.1896029601887448, 158.52658182068964], [-2.1318684485940205, 0.8080276310287194, 159.31618264578864], [-2.2028771537284406, 0.39288089833578194, 160.13232084943127], [-2.1954769098542246, -0.04514693936749007, 160.97646532451554], [-2.09758392982646, -0.4903320191631197, 161.84987096436257], [-1.8999999457434364, -0.9213525455062547, 162.75344410851943], [-1.5988988243933038, -1.3114007334087536, 163.68759274290116], [-1.198693604589906, -1.6294161784954837, 164.65208455053963], [-0.714744733359221, -1.842823280807272, 165.64594732379604], [-0.17506522296559965, -1.9218630004218284, 166.66744966431324], [0.3799336742173447, -1.8450809987669003, 167.71418753694252], [0.9003486633566231, -1.6049312440231118, 168.7832724781669], [1.3323760083231841, -1.2120765464369978, 169.8715799411893], [1.6258043139378764, -0.6970682733202254, 170.9759897212234], [1.7420160114345578, -0.10866247015825857, 172.09354918192474], [1.6609423145038436, 0.4911941328685105, 173.2215141774535], [1.3856516292035237, 1.0350161802462083, 174.3572594408087], [0.9436608643035216, 1.4589677784645187, 175.49808580820394], [0.3844788516410386, 1.7122389499777046, 176.6409793297947], [-0.22664663904534, 1.7650556911820408, 177.78239627613758], [-0.8181446067328026, 1.613640482697754, 178.91815545205992], [-1.3231561219639727, 1.2806628806998375, 180.04350550629934], [-1.689788085897544, 0.8106066434678295, 181.1533901227136], [-1.8879884745166466, 0.2609841820419673, 182.24286392238972], [-1.911366800631457, -0.30820081506513014, 183.3075478075182], [-1.7740490908232724, -0.8438121987742856, 184.34399436686252], [-1.5043019854075972, -1.3056124711836197, 185.34987564318797], [-1.1373024896981005, -1.6683653125439566, 186.3239794335353], [-0.7089655053019551, -1.9207728860440965, 187.26606197217913], [-0.2517455148482545, -2.0626159809716147, 188.1766290091372], [0.20755807212776106, -2.1013601426539656, 189.05670803223575], [0.6484460080400222, -2.0490487871052117, 189.9076502370774], [1.0563846713097134, -1.919854490325325, 190.73097764519142], [1.421973187983177, -1.7283511170635835, 191.52827536712505], [1.7399422102632558, -1.4884122391509618, 192.30112152779287], [2.008176937081216, -1.2125892414640704, 193.05104531877592], [2.2268583550597687, -0.9118263911650947, 193.77950441636153], [2.397755590295891, -0.595396166349194, 194.48787484239972], [2.5236688274287564, -0.2709681584809605, 195.17744829252356], [2.60800646191411, 0.05524884672148967, 195.84943360469376], [2.6544745207633866, 0.3783316079504674, 196.50496028363557], [2.66685608046754, 0.6944592046409606, 197.1450828612516], [2.6488605777538465, 1.000736828983944, 197.77078543609966], [2.604025984439471, 1.2950347173643426, 198.38298607866534], [2.5356600007974204, 1.5758459043156667, 198.98254098358322], [2.4468093381355724, 1.8421637133340216, 199.57024834912121], [2.340248666603871, 2.093378260249222, 200.14685200728763], [2.218482869208696, 2.3291903579363997, 200.71304483964272], [2.083757896925211, 2.5495408072062746, 201.26947201118355], [1.9380768131878747, 2.7545529572671086, 201.81673404627747], [1.783218608173374, 2.944486496022749, 202.35538976176085], [1.6207581100902608, 3.1197006040459643, 202.88595906506225], [1.452085874153118, 3.2806248228209816, 203.4089256202685], [1.2784273317407528, 3.4277362157630216, 203.92473938219993], [1.100860769478862, 3.561541619460768, 204.43381899746456], [0.9203339089571818, 3.6825639824402017, 204.93655407151343], [0.737678994060013, 3.7913319652240345, 205.43330730154264], [0.5536263848905727, 3.888372126683647, 205.92441647621177], [0.36881671329294413, 3.974203149978206, 206.41019634439002], [0.1838116894901209, 4.049331667871502, 206.89094035636123], [-0.0008963326471424407, 4.114249334833315, 207.36692228190654], [-0.18487591742113865, 4.169430865010349, 207.83839771049662], [-0.36774912216334665, 4.215332813109518, 208.3056054394512], [-0.5491849752130561, 4.252392921998569, 208.76876875627147], [-0.7288937546523638, 4.281029898205326, 209.22809662157775], [-0.9066219736729361, 4.301643506519639, 209.683784759157], [-1.0821479873980142, 4.314614898577929, 210.1360166595214], [-1.2552781448811046, 4.320307109285676, 210.5849645032537], [-1.425843418435101, 4.319065669803845, 211.03079001015135], [-1.5936964502940794, 4.311219297662564, 211.4736452199115], [-1.7587089642120763, 4.297080633718871, 211.9136732098251], [-1.9207694949158671, 4.276947003269341, 212.35100875447606], [-2.079781396008497, 4.251101183886733, 212.78577893232026], [-2.235661090336715, 4.219812167399659, 213.21810368348824], [-2.388336532348421, 4.18333590665568, 213.648096322938], [-2.5377458555244057, 4.141916040536936, 214.0758640127089], [-2.6838361815623197, 4.09578459275055, 214.50150819675716], [-2.826562571115438, 4.04516264141903, 214.9251250015618], [-2.965887098389061, 3.990260957818486, 215.3468056054232], [-3.1017780342286283, 3.931280613473138, 215.7666365791234], [-3.2342091243518016, 3.8684135555074626, 216.18470020039325], [-3.3631589509704707, 3.801843150738905, 216.60107474440346], [-3.488610367907213, 3.731744699125485, 217.0158347523541], [-3.610550000035584, 3.6582859178105718, 217.42905127996636], [-3.7289677995922306, 3.581627396779004, 217.84079212762543], [-3.843856652440148, 3.501923027575999, 218.25112205367523], [-3.955212028359194, 3.4193204064934632, 218.66010297226453], [-4.063031670443942, 3.333961213388166, 219.0677941371009], [-4.167315318845331, 3.245981567746416, 219.47425231221254], [-4.268064464965147, 3.1555123633081, 219.87953193080588], [-4.3652821326408695, 3.0626795825521604, 220.28368524319865], [-4.458972683296073, 2.967604592277761, 220.68676245473623], [-4.549141642275125, 2.8704044216276214, 221.088811854465], [-4.635795544109355, 2.7711920235673757, 221.48987993535394], [-4.718941794509801, 2.670076521099771, 221.89001150669117], [-4.798588547371639, 2.5671634390748994, 222.2892497993352], [-4.874744595084179, 2.4625549227004524, 222.6876365643532], [-4.947419270737509, 2.3563499436427744, 223.08521216558114], [-5.016622360965533, 2.248644494586762, 223.4820156665861], [-5.082364028301415, 2.1395317730505083, 223.87808491247634], [-5.144654742050618, 2.0291023552359646, 224.27345660696042], [-5.2035052167936895, 1.9174443606475633, 224.66816638502212], [-5.2589263577873915, 1.804643608003561, 225.0622488816018], [-5.310929212461626, 1.6907837633835865, 225.4557377964988], [-5.359524927533235, 1.5759464808257417, 225.84866595590438], [-5.404724711072198, 1.4602115362929455, 226.2410653707194], [-5.446539799196132, 1.3436569548718653, 226.63296729213764], [-5.484981426727354, 1.2263591327314058, 227.02440226433413], [-5.520060801688701, 1.1083929531427132, 227.41540017492264], [-5.5517890831151515, 0.989831897786504, 227.8059903030674], [-5.580177361944522, 0.8707481536102434, 228.1962013654874], [-5.605236644771347, 0.7512127151276328, 228.58606156072761], [-5.626977840160576, 0.631295483054717, 228.97559861164544], [-5.645411747335506, 0.5110653597655768, 229.36483980619764], [-5.660549047120497, 0.3905903406375429, 229.75381203719698], [-5.672400294882517, 0.2699376034158132, 230.1425418404167], [-5.680975915423046, 0.14917359459224888, 230.53105543170446], [-5.68628619966205, 0.0283641131319576, 230.91937874321846], [-5.688341303035549, -0.09242560729684131, 231.30753745851106], [-5.687151245508332, -0.2131308184697674, 231.69555704706883], [-5.682725913156404, -0.33368717914755697, 232.08346279809587], [-5.675075061274856, -0.45403067785557233, 232.47127985367155], [-5.6642083189224355, -0.5740975572393598, 232.8590332416511], [-5.6501351949659, -0.6938242388938786, 233.24674790799972], [-5.632865085533738, -0.8131472492383467, 233.6344487490229], [-5.612407282917696, -0.9320031458641667, 234.0221606434269], [-5.588770985961186, -1.0503284440256413, 234.40990848424028], [-5.561965311894833, -1.1680595434980596, 234.79771721090384], [-5.531999309716153, -1.2851326552350901, 235.18561184144997], [-5.498881975170423, -1.4014837276297727, 235.57361750486947], [-5.462622267320893, -1.5170483725641586, 235.9617594739593], [-5.423229126890373, -1.6317617905269775, 236.35006319849603], [-5.380711496414404, -1.7455586948765478, 236.73855433898018], [-5.335078342268116, -1.8583732352069064, 237.12725880114186], [-5.286338678815603, -1.9701389191035006, 237.51620277106855], [-5.234501594705789, -2.0807885325508546, 237.90541275131113], [-5.179576281498381, -2.1902540586461265, 238.29491559802636], [-5.121572064897258, -2.298466594081868, 238.6847385591283], [-5.060498438638289, -2.4053562636703, 239.07490931383836], [-4.996365101356153, -2.510852132326902, 239.46545601360222], [-4.9291819967382855, -2.614882114143185, 239.85640732446788], [-4.858959357036268, -2.7173728788347185, 240.2477924713565], [-4.785707750492529, -2.8182497546369625, 240.63964128406707], [-4.709438132946656, -2.917436627625824, 241.0319842453298], [-4.630161903815699, -3.0148558375450394, 241.42485254128985], [-4.547890967238429, -3.110428069042172, 241.81827811423557], [-4.462637798706189, -3.204072238392137, 242.2122937179982], [-4.374415517324449, -3.2957053760027235, 242.60693297658335], [-4.283237965249041, -3.385242502645177, 243.00223044543796], [-4.189119793749885, -3.4725965011496687, 243.39822167670187], [-4.092076557690962, -3.5576779813431068, 243.7949432878191], [-3.9921248188339153, -3.6403951386006206, 244.19243303423602], [-3.8892822582889295, -3.7206536063030557, 244.5907298869137], [-3.7835678007172597, -3.798356299595642, 244.98987411392423], [-3.6750017494127993, -3.8734032526905042, 245.38990736796998], [-3.5636059351120117, -3.9456914470991427, 245.79087277915514], [-3.44940387981518, -4.015114630681742, 246.1928150537102], [-3.3324209754417535, -4.081563128811525, 246.5957805802006], [-3.212684682282986, -4.1449236437687205, 246.99981754196924], [-3.0902247464236705, -4.205079044892453, 247.40497603813677], [-2.965073439303328, -4.26190814783564, 247.8113082132614], [-2.837265823787939, -4.3152854809901555, 248.21886839557976], [-2.7068400455940393, -4.365081041943238, 248.6277132466647], [-2.5738376578733413, -4.411160039691874, 249.03790192115073], [-2.4383039803839366, -4.45338262428626, 249.44949623874848], [-2.300288495200209, -4.491603604756783, 249.8625608704837], [-2.1598452899448515, -4.525672151057872, 250.2771635376938], [-2.017033547017475, -4.555431484498151, 250.69337522811327], [-1.8719180883533553, -4.580718554338449, 251.11127042887898], [-1.7245699814589888, -4.601363701581962, 251.5309273786285], [-1.5750672188786594, -4.617190308818272, 251.95242833870887], [-1.4234954702491616, -4.628014441903755, 252.3758598892229], [-1.269948926829914, -4.633644480398281, 252.8013132481357], [-1.1145312447100377, -4.633880741797938, 253.2288846178816], [-0.9573566009349693, -4.6285151023407805, 253.65867556152398], [-0.7985508759433945, -4.617330619458683, 254.09079341162393], [-0.6382529816809954, -4.600101160881713, 254.525351714123], [-0.47661635251181367, -4.576591049114848, 254.96247071120067], [-0.3138106220169015, -4.546554731218564, 255.40227786634165], [-0.15002350293665548, -4.509736487584859, 255.84490843753608], [0.014537086230736409, -4.465870194694748, 256.2905060985951], [0.1796406338076636, -4.414679165458782, 256.73922361803335], [0.3450313417172007, -4.355876092724324, 257.1912235977127], [0.5104250892067157, -4.289163130390426, 257.6466792773641], [0.6755060099118333, -4.214232155342749, 258.1057754107239], [0.8399226329309786, -4.130765264259385, 258.56870921909353], [1.0032835341363315, -4.0384355731445405, 259.03569142853024], [1.165152438835679, -3.9369084050457435, 259.5069473968034], [1.325042718177773, -3.825842970861895, 259.98271833721356], [1.4824112035763872, -3.70489467879747, 260.4632626433531], [1.6366512670880986, -3.5737182342154843, 260.94885732287787], [1.7870850954820716, -3.431971737048316, 261.4397995433184], [1.9329551080715064, -3.279322029264301, 261.9364082944572], [2.073414478442267, -3.115451605205904, 262.43902616901437], [2.207516748883235, -2.9400674683275323, 262.948021261542], [2.3342045702445122, -2.752912401819498, 263.46378918225923], [2.452297662209237, -2.553779221777255, 263.9867551793412], [2.5604801910943147, -2.3425286921671065, 264.51737635843915], [2.6572878952883356, -2.119111912561011, 265.0561439834552], [2.7410954869593978, -1.8835981246223366, 265.6035858374057], [2.810105124491106, -1.6362090280213328, 266.1602686162189], [2.8623371192227913, -1.3773608200566427, 266.7268003251818], [2.89562452026276, -1.1077152763450764, 267.303832643692], [2.9076138613909115, -0.8282412112818907, 267.89206322580594], [2.895775163953654, -0.5402875656353648, 268.492237909512], [2.857425306711501, -0.2456690771181482, 269.1051528205755], [2.789770107442592, 0.053235103960815884, 269.73165637780954], [2.68997190572209, 0.3533705317128585, 270.3726512350208], [2.555251046015002, 0.6508866518391114, 271.02909622740253], [2.383031335832317, 0.9410109296795577, 271.7020084160234], [2.171141091420857, 1.2179264680258095, 272.39246532440796], [1.9180824435652066, 1.4746668422909106, 273.1016074021052], [1.6233815946891186, 1.7030489496778884, 273.83064058058056], [1.2880307765907515, 1.893674036977762, 274.5808384348567], [0.915027295332706, 2.036039066240677, 275.3535428371642], [0.5100039656029783, 2.1188151731817646, 276.1501609827104], [0.08192493238617746, 2.130366223659988, 276.9721551852907], [-0.35621355319776365, 2.0595952935528916, 277.82101984795895], [-0.7867923202851458, 1.8972129503378932, 278.69823764043457], [-1.1872825107705045, 1.6375037249387665, 279.6052046337225], [-1.5305578763533363, 1.2806007238099546, 280.5431130922466], [-1.7862007264154156, 0.8351274957442425, 281.51278293702114], [-1.923232226078088, 0.3207989735709981, 282.5144417130983], [-1.9145566933795037, -0.22979996893862467, 283.5474713848542], [-1.7429529568104343, -0.7713981968208802, 284.61016827966677], [-1.4076254525162655, -1.2493836854329388, 285.69959134329486], [-0.929379716725673, -1.6069051450565177, 286.8115834952968], [-0.3520257691882013, -1.7949299594573305, 287.9410183330691], [0.26168107459808976, -1.782786669289319, 289.0822467412148], [0.8393379348940915, -1.5658504054289162, 290.22963032037165], [1.3110599640764524, -1.167771216699331, 291.3780071384957], [1.6210936585584181, -0.6366690834653651, 292.52296894937905], [1.736018859886113, -0.03676937420946446, 293.6609121816963], [1.6482139488639191, 0.5620268605833585, 294.78890484266066], [1.374742228082331, 1.0942691337054293, 295.90445354332894], [0.9526851372771282, 1.5071309123657533, 297.0052584414864], [0.4322372259556041, 1.765732997830432, 298.08902549689617], [-0.1311189621235642, 1.85528436020811, 299.1533789561274], [-0.6841160231866571, 1.7801417096655114, 300.1958878374676], [-1.181783078628251, 1.560303871543027, 301.2141903041311], [-1.5913062087673087, 1.2262520461047854, 302.20617404736237], [-1.8933641183661214, 0.8132909836850066, 303.1701575347328], [-2.0812113768732803, 0.356497094737406, 304.10502231525834], [-2.1582273123217974, -0.11297113419933319, 305.0102680568825], [-2.1348067701979763, -0.5699428568994394, 305.885988970065], [-2.02533984272322, -0.9958622218556477, 306.7327909396709], [-1.8457408423340185, -1.37839141559045, 307.55167715498635], [-1.6116940507610822, -1.7104468256857703, 308.34392767994893], [-1.3375771827835936, -1.9890376119658666, 309.1109904097443], [-1.035921604642859, -2.2141452754977275, 309.8543921527885], [-0.7172457273732387, -2.3877655450226998, 310.5756718937737], [-0.3901186981002028, -2.513151874356718, 311.27633430906513], [-0.061347460219157095, -2.5942527447223713, 311.9578198527667], [0.2637844994687312, -2.635313554188122, 312.62148741138407], [0.581270342184486, -2.6406081045283645, 313.26860594522634], [0.8881488428935169, -2.6142669257373727, 313.9003522293154], [1.1823001801906714, -2.560175108933196, 314.5178125196499], [1.4622719520823593, -2.4819183490111016, 315.1219865866431], [1.7271346181396001, -2.3827613340402185, 315.7137930431624], [1.976363524706587, -2.265647051505263, 316.2940752559401], [2.209743895957614, -2.1332089913724364, 316.8636073854471], [2.427295101456133, -1.9877907480009753, 317.42310027741127], [2.62921078685516, -1.8314693396367145, 317.9732070475364], [2.8158118780748476, -1.6660798443399403, 318.51452827907696], [2.9875099266663465, -1.4932398384521683, 319.0476168018028], [3.1447786991366633, -1.3143727282141195, 319.5729820511483], [3.288132299635492, -1.1307294703194857, 320.09109402381984], [3.4181084456317286, -0.943408443793054, 320.6023868555323], [3.5352557918735945, -0.7533734059531381, 321.107262050745], [3.640124423096974, -0.56146957132217, 321.60609139546824], [3.733258818636184, -0.3684379141427616, 322.09921958347053], [3.815192738503151, -0.17492782832228637, 322.58696658452317], [3.886445597313529, 0.018491707129983475, 323.0696297810966], [3.947519985294398, 0.21132230676201974, 323.54748589758213], [3.998900068994068, 0.40312755589654065, 324.0207927437213], [4.041050662349694, 0.593525449911855, 324.48979079169186], [4.074416804513141, 0.7821817701397644, 324.9547046042723], [4.099423716793795, 0.9688042831352497, 325.4157441294169], [4.116477039428712, 1.1531376616157185, 325.87310587514855], [4.125963271123177, 1.334959036805253, 326.32697397710433], [4.128250351740367, 1.5140741028009344, 326.77752116943833], [4.123688342248658, 1.6903137028702517, 327.22490966893974], [4.112610166821262, 1.8635308363953147, 327.6692919808718], [4.0953323901640015, 2.033598032924952, 328.11081163453815], [4.072156010014412, 2.2004050466722336, 328.54960385512277], [4.043367249637451, 2.3638568307078653, 328.98579617819104], [4.00923833927549, 2.523871755489272, 329.41950901224396], [3.9700282784929675, 2.6803800408980516, 329.8508561543128], [3.925983573751144, 2.8333223750783434, 330.279945263053], [3.8773389480362543, 2.9826486962657484, 330.7068782928788], [3.824318018809031, 3.128317118457305, 331.1317518937315], [3.767133944632381, 3.2702929819659396, 331.5546577784076], [3.7059900388930753, 3.4085480143357696, 331.97568306124913], [3.641080351293976, 3.543059587857128, 332.39491057035144], [3.5725902174674586, 3.673810062130299, 332.8124191358081], [3.5006967776738493, 3.800786201455753, 333.22828385606095], [3.425569465657782, 3.923978658167347, 333.6425763442873], [3.3473704697727356, 4.0433815135612585, 334.05536495618327], [3.2662551643885753, 4.158991871817568, 334.4667150021961], [3.1823725191579384, 4.270809496853874, 334.87668894283865], [3.0958654812721944, 4.378836491051053, 335.285346571249], [3.0068713357612094, 4.483077008823081, 335.6927451824743], [2.9155220440308076, 4.583537001764349, 336.0989397310592], [2.8219445619921344, 4.680223991848204, 336.5039829779549], [2.726261139360838, 4.773146869314618, 336.90792562743496], [2.628589601140203, 4.862315712644284, 337.31081645493816], [2.5290436125475932, 4.947741628162318, 337.7127024265404], [2.4277329283868916, 5.0294366071473995, 338.11362881074535], [2.324763627674103, 5.1074133986579815, 338.51363928329334], [2.220238335553594, 5.181685395967152, 338.91277602518085], [2.1142564317783035, 5.252266535811842, 339.31107981497837], [2.0069142478966175, 5.3191712086027065, 339.7085901154708], [1.8983052536908471, 5.3824141785693564, 340.1053451551499], [1.7885202330391436, 5.442010513007091, 340.5013820051495], [1.6776474508868666, 5.4979755193905255, 340.8967366516795], [1.5657728110028832, 5.550324689845797, 341.2914440646003], [1.452980005889804, 5.599073652037326, 341.68553826222285], [1.3393506591188373, 5.644238125939416, 342.07905237272155], [1.2249644604720198, 5.68583388593825, 342.47201869246976], [1.1098992949234552, 5.723876727648999, 342.8644687413914], [0.9942313652814054, 5.7583824391462555, 343.2564333157552], [0.8780353094922838, 5.789366776088591, 343.64794253845946], [0.7613843127520167, 5.816845440446108, 344.039025907088], [0.6443502147821389, 5.840834062514724, 344.42971233993507], [0.5270036129253749, 5.8613481859080325, 344.82003022008973], [0.4094139610143045, 5.878403255328955, 345.21000743785754], [0.2916496647066507, 5.892014606867003, 345.59967143156916], [0.17377817338705714, 5.902197460657738, 345.9890492269806], [0.05586606895185075, 5.9089669157324485, 346.37816747539534], [-0.062020848099091974, 5.912337946916549, 346.7670524905982], [-0.1798174752090514, 5.912325403659343, 347.15573028478354], [-0.2974593265785093, 5.908944010685837, 347.5442266035623], [-0.41488245397208146, 5.902208370392727, 347.93256696015794], [-0.5320233691954886, 5.892132966924424, 348.3207766688461], [-0.6488189685751422, 5.878732171847068, 348.70888087797243], [-0.7652064580126106, 5.862020251454714, 349.09690460217234], [-0.8811232804179417, 5.842011375524029, 349.4848727546781], [-0.996507042560457, 5.818719627756573, 349.87281017873767], [-1.11129544425788, 5.792159017594778, 350.26074167946194], [-1.2254262066277066, 5.762343493768038, 350.64869205497774], [-1.3388370019307774, 5.729286959256765, 351.03668612806507], [-1.4514653827499362, 5.693003287995325, 351.42474877754734], [-1.5632487115333704, 5.653506343183436, 351.8129049700079], [-1.67412408992009, 5.610809997338852, 352.2011797917943], [-1.7840282877532838, 5.564928154126621, 352.5895984814242], [-1.8928976710974603, 5.515874772194231, 352.9781864622877], [-2.0006681299454923, 5.463663890909956, 353.3669693761254], [-2.107275004816513, 5.408309658256443, 353.7559731171249], [-2.212653012215134, 5.34982636099988, 354.1452238668317], [-2.3167361686517083, 5.28822845729512, 354.53474812991254], [-2.4194577131981547, 5.223530611870186, 354.924572770996], [-2.520750028352617, 5.155747733983467, 355.31472505271273], [-2.620544558718771, 5.084895018451023, 355.70523267490717], [-2.718771727701264, 5.010987989868968, 356.0961238153953], [-2.8153608518744364, 4.934042550318298, 356.4874271723643], [-2.91024005154081, 4.854075031288262, 356.8791720078368], [-3.0033361604648894, 4.771102249073835, 357.2713881942527], [-3.0945746311036335, 4.685141565074388, 357.664106262359], [-3.1838794361095193, 4.59621095121873, 358.0573574512201], [-3.2711729668256266, 4.5043290604947, 358.45117376111875], [-3.3563759276782927, 4.409515303350277, 358.8455880091091], [-3.439407225639747, 4.311789930873538, 359.2406338871668], [-3.5201838557817022, 4.211174124657446, 359.6363460239583], [-3.59862078171168, 4.107690094561357, 360.0327600500533], [-3.674630810083464, 4.001361185195007, 360.42991266651075], [-3.748124460404936, 3.8922119913013207, 360.8278417182659], [-3.81900982764381, 3.780268484054012, 361.2265862712281], [-3.8871924394716304, 3.6655581481224466, 361.6261866949953], [-3.952575105705211, 3.548110131806625, 362.0266847502468], [-4.015057761088719, 3.427955410643586, 362.42812368232677], [-4.074537300154374, 3.3051269664619762, 362.8305483209811], [-4.130907403449176, 3.179659983773384, 363.2340051865653], [-4.18405835655861, 3.0515920638745087, 363.63854260472846], [-4.233876858570243, 2.920963460965564, 364.0442108281169], [-4.280245821514187, 2.7878173411668756, 364.45106216722564], [-4.323044160569146, 2.6522000667495322, 364.85915113140936], [-4.362146573461249, 2.5141615095607492, 365.26853458004564], [-4.397423309603727, 2.3737553960434172, 365.6792718854808], [-4.428739927979988, 2.231039688509617, 366.0914251082979], [-4.4559570447206065, 2.0860770053037196, 366.50505918707125], [-4.478930068775316, 1.9389350867760382, 366.92024214254235], [-4.4975089276866305, 1.7896873097715134, 367.3370452993566], [-4.511537781752323, 1.6384132594121432, 367.7555435253152], [-4.520854728778935, 1.485199362824556, 368.17581549132257], [-4.525291499620989, 1.3301395936970943, 368.59794395332665], [-4.5246731457772045, 1.1733362569358907, 369.0220160584065], [-4.518817721847448, 1.0149008612222559, 369.44812367846805], [-4.507535963975544, 0.8549550953182781, 369.8763637723609], [-4.490630970116956, 0.6936319143715658, 370.30683878247856], [-4.467897884176231, 0.5310767600510169, 370.73965706536535], [-4.439123593081331, 0.3674489207959529, 371.17493336464355], [-4.404086442165679, 0.20292306389357484, 371.61278932536993], [-4.36255598196183, 0.037690943510238994, 372.0533540615505], [-4.3142927562126445, -0.1280366642138911, 372.4967647719837], [-4.259048152279027, -0.2940277998214269, 372.943167421466], [-4.196564332099126, -0.46002687909383705, 373.39271748528904], [-4.126574272541446, -0.6257519443833762, 373.84558076814164], [-4.048801949875817, -0.7908915659664241, 374.30193430439226], [-3.962962712109565, -0.9551013467342346, 374.7619673481677], [-3.8687638942389815, -1.1179999771967752, 375.2258824626395], [-3.765905747316142, -1.2791647848785974, 375.6938967188714], [-3.6540827684546358, -1.4381267136825227, 376.16624301491976], [-3.5329855443997906, -1.5943646633342046, 376.64317152661795], [-3.402303247413376, -1.747299117952288, 377.1249513023122], [-3.2617269605748187, -1.896284986117813, 377.6118720133516], [-3.1109540532863367, -2.0406035787163677, 378.1042458723454], [-2.949693884552616, -2.1794536559217956, 378.60240972988123], [-2.7776751810317406, -2.3119414894419155, 379.10672735856065], [-2.5946555225313643, -2.4370699138509138, 379.6175919297057], [-2.4004334722230394, -2.553726386705816, 380.1354286827255], [-2.194864014877622, -2.6606701509667063, 380.660697779033], [-1.9778781158168024, -2.756518706186015, 381.19389732068936], [-1.7495073860438377, -2.839733963776011, 381.73556649748707], [-1.509915031745443, -2.9086087082346714, 382.28628880358485], [-1.2594344693643444, -2.9612543394387827, 382.8466952345733], [-0.9986171801890817, -2.995591367820425, 383.4174673367698], [-0.7282915267223544, -3.0093448172613875, 383.9993399283824], [-0.4496342849553592, -3.000047616164397, 384.59310325710453], [-0.16425648096252737, -2.9650562608432023, 385.1996042796496], [0.12569542260021146, -2.9015845740229933, 385.81974668106216], [0.41742305273640223, -2.806763227502839, 386.45448917457566], [0.7073464297749995, -2.6777347896530217, 387.1048415758072], [0.9909663411616318, -2.511796151726969, 387.7718581394838], [1.2627289631358007, -2.3066018456350674, 388.4566277287824], [1.5159097550145948, -2.0604422132487095, 389.16026059531293], [1.7425425668285413, -1.772608483585289, 389.8838719242533], [1.9334304467176444, -1.4438510490359713, 390.62856286061617], [2.0782855436839234, -1.0769259308833814, 391.39540044176874], [2.1660543976542974, -0.677206170377767, 392.18539858462384], [2.185488279441192, -0.2533091931251547, 392.9995027561349], [2.1260118733637694, 0.18234080329795005, 393.83858084345275], [1.9789234157764777, 0.6131315634922372, 394.7034216241167], [1.738922412896841, 1.0182122665989777, 395.5947398450597], [1.4059055284620154, 1.3729498138598768, 396.5131832343746], [0.9868955426134285, 1.6500810662099734, 397.4593321706173], [0.49786905952614746, 1.8217417553594064, 398.4336780158826], [-0.03487899030701035, 1.8625061035798711, 399.43656250588526], [-0.5743504751919739, 1.75345257460764, 400.4680599096816], [-1.074106775298207, 1.4870262461461912, 401.52778874327464], [-1.4819019151291062, 1.0720409755357077, 402.6146546376104], [-1.7461813242759425, 0.5375649937638375, 403.7265542812643], [-1.8251977920648828, -0.0661378923387143, 404.8601107881732], [-1.697164955910682, -0.6714963292606895, 406.0105486699845], [-1.3683939269122163, -1.2031682423006655, 407.1718202867011], [-0.8758271470277567, -1.591745087027381, 408.3370334076101], [-0.28184680811585927, -1.7876567441101134, 409.49910799572353], [0.33758213397793446, -1.770498297537611, 410.6514766075792], [0.9074281395770615, -1.5508305083658447, 411.7886200152324], [1.3660652676901883, -1.1648226941589315, 412.9063156449755], [1.6726976489755079, -0.6646602133259323, 414.00160488831114], [1.8092539478458207, -0.10819305869054507, 415.07257474241834], [1.7780450525237654, 0.44969481760277247, 416.1180697196236], [1.5970431121065922, 0.9629266943926978, 417.1374226524843], [1.2943830872700446, 1.39726942716911, 418.1302517731798], [0.9031552059783524, 1.7310737859342211, 419.09633705501494], [0.4570745458826879, 1.9543752778309131, 420.0355669564087], [-0.0127241923606894, 2.066978187773394, 420.947935683379], [-0.47973579077085965, 2.0760509928046775, 421.83356784316], [-0.9230868643747489, 1.9936517390231192, 422.6927495501144], [-1.3276900578635442, 1.8344862862578466, 423.52595074939444], [-1.6837935974406717, 1.6140840236570124, 424.33383074155785], [-1.9861717871317737, 1.3474650107371424, 425.11722562356243], [-2.233168442605788, 1.0482834171240054, 425.87712114307004], [-2.425750351135237, 0.7283742361132751, 426.61461675467046], [-2.566668122753738, 0.39760439920826324, 427.3308868060235], [-2.659770036324818, 0.06392891005892498, 428.0271435800384], [-2.7094770317707866, -0.26643255598885346, 428.7046052161616], [-2.7204044392624787, -0.5887622215936931, 429.3644699283344], [-2.697105537900299, -0.8995969526167757, 430.00789672442664], [-2.6439096750333952, -1.196493135871044, 430.6359920712579], [-2.564829903136348, -1.477817143514737, 431.2498015742711], [-2.463519319460681, -1.7425665320008692, 431.8503056328927], [-2.343259931824004, -1.9902221117136087, 432.43841808887873], [-2.206972094745559, -2.2206283404629996, 433.01498701962686], [-2.057236036313739, -2.4338983205712768, 433.5807969888573], [-1.8963196802322495, -2.6303394069504686, 434.13657222245], [-1.7262089482835994, -2.8103956474013128, 434.6829803132004], [-1.5486381372054772, -2.9746037170974224, 435.22063616922503], [-1.3651189373210406, -3.1235595214745335, 435.7501060076533], [-1.1769673126748823, -3.257893143319777, 436.2719112611114], [-0.985327887758652, -3.3782502602570177, 436.7865323128663], [-0.7911957533482774, -3.4852785438089917, 437.2944120112099], [-0.5954357643654294, -3.579617869640677, 437.79595893822966], [-0.3987994925940597, -3.661893426496929, 438.291550424453], [-0.2019400408777433, -3.732711016704906, 438.78153531207533], [-0.005424940415350119, -3.7926540031398606, 439.266236476339], [0.19025264896102478, -3.842281483896425, 439.7459531189263], [0.38466422854009247, -3.88212737461494, 440.22096284912146], [0.5774375501684559, -3.9127001541685393, 440.6915235696361], [0.7682493345193303, -3.9344830881700203, 441.15787518384553], [0.9568189666745106, -3.947934789816104, 441.620241140648], [1.142903036087294, -3.9534900121479684, 442.0788298322606], [1.32629060539201, -3.9515605922306887, 442.5338358592508], [1.5067991067826714, -3.942536488150931, 442.9854411758039], [1.6842707805943085, -3.926786864855093, 443.43381612730644], [1.858569580294285, -3.9046611968913276, 443.8791203910256], [2.029578480360967, -3.8764903649113642, 444.32150382969957], [2.1971971315480143, -3.842587729467826, 444.76110726682197], [2.3613398163755415, -3.803250170938953, 445.198063191558], [2.5219336641236816, -3.7587590880319306, 445.63249640033916], [2.67891709048577, -3.7093813503277637, 446.06452458150704], [2.832238431884649, -3.655370202364336, 446.4942588486572], [2.981854748700578, -3.5969661183490698, 446.92180422776147], [3.127730775254727, -3.5343976076884385, 447.34726010260823], [3.269837997435364, -3.467881972361544, 447.7707206225974], [3.4081538415481103, -3.397626017659751, 448.1922750765409], [3.542660960166366, -3.323826718227839, 448.61200823570385], [3.6733466027145822, -3.2466718415531854, 449.030000668998], [3.800202060171385, -3.166340531165199, 449.4463290329413], [3.923222174685143, -3.0830038518706857, 449.8610663387189], [4.042404906127386, -2.9968252993361753, 450.274282198452], [4.15775094864133, -2.907961276295638, 450.6860430525545], [4.2692633912062, -2.8165615374633908, 451.096412379961], [4.376947416827046, -2.722769605583948, 451.50545089252756], [4.480810035945622, -2.6267231602108914, 451.91321671527857], [4.580859849971359, -2.52855440130592, 452.3197655536051], [4.677106841438189, -2.4283903894791665, 452.72515084851943], [4.769562187744184, -2.3263533644821845, 453.1294239210343], [4.858238095779148, -2.2225610435434944, 453.53263410657036], [4.943147655101877, -2.117126900879023, 453.93482888031673], [5.024304707541479, -2.010160430150988, 454.33605397404284], [5.101723731476716, -1.9017673906662178, 454.7363534853638], [5.1754197391600405, -1.792050038564377, 455.135769980045], [5.245408185657243, -1.6811073441831785, 455.5343445878389], [5.311704888142124, -1.5690351970502174, 455.93211709214296], [5.374325954499259, -1.4559265987339718, 456.3291260143893], [5.433287720218643, -1.3418718444640434, 456.7254086935537], [5.488606692728287, -1.2269586951464346, 457.12100136073366], [5.540299502421332, -1.1112725397362662, 457.51593920962404], [5.588382859677747, -0.9948965486047167, 457.91025646324715], [5.632873517301598, -0.8779118192596943, 458.3039864368584], [5.673788237874352, -0.7603975149803408, 458.69716159736043], [5.711143765462562, -0.6424309953100357, 459.08981362033984], [5.744956801299839, -0.5240879407671062, 459.4819734440135], [5.775243983295203, -0.4054424730475, 459.87367131982734], [5.802021868593307, -0.2865672674362462, 460.2649368620262], [5.825306919396286, -0.16753366224185973, 460.6557990939387], [5.845115491370597, -0.04841176222477485, 461.04628649306125], [5.861463824729408, 0.07072946131100415, 461.4364270338416], [5.874368037635978, 0.18982207477010907, 461.82624822908025], [5.8838441218145485, 0.30879908991001204, 462.21577716974684], [5.889907940208754, 0.4275943746721612, 462.60504056341233], [5.892575226555766, 0.5461425670911242, 462.9940647715378], [5.891861586820703, 0.6643789917440898, 463.3828758455934], [5.887782502332441, 0.7822395787061329, 463.7714995622632], [5.880353334608594, 0.8996607846086622, 464.1599614577597], [5.869589331694529, 1.0165795158657225, 464.548286861541], [5.855505636323882, 1.1329330529582946, 464.93650092900253], [5.838117295329971, 1.2486589769463745, 465.3246286740884], [5.817439270731305, 1.3636950968793944, 465.71269500123947], [5.793486452408434, 1.4779793781547166, 466.1007247369268], [5.766273672095887, 1.5914498721990393, 466.488742661238], [5.735815719225229, 1.7040446462767165, 466.8767735389405], [5.70212735812624, 1.8157017142177065, 467.26484215079773], [5.66522334698694, 1.926358967299329, 467.6529733247924], [5.625118458544509, 2.0359541052297185, 468.0411919674572], [5.5818275024525414, 2.1444245671645, 468.42952309554335], [5.5353653496200765, 2.251707462495961, 468.81799186789624], [5.4857469584633005, 2.3577395011554545, 469.20662361782024], [5.432987403246714, 2.4624569234841824, 469.5954438859546], [5.377101904644244, 2.5657954293311516, 469.9844784537598], [5.318105862702378, 2.6676901060280622, 470.3737533777057], [5.256014892214165, 2.7680753557123166, 470.7632950243832], [5.190844860972003, 2.866884820824663, 471.1531301064379], [5.122611930816172, 2.964051308536243, 471.5432857196696], [5.051332601815548, 3.0595067135186005, 471.93378938132605], [4.977023759930215, 3.1531819386508877, 472.3246690696626], [4.899702728326261, 3.245006813803925, 472.7159532649778], [4.81938732278704, 3.3349100121945447, 473.10767099219674], [4.736095910954403, 3.4228189651727585, 473.49985186554477], [4.649847477418199, 3.508659772433073, 473.89252613439214], [4.5606616919622605, 3.592357112498592, 474.2857247325002], [4.468558986161811, 3.673834145862303, 474.67947932776747], [4.373560632632445, 3.7530124199131567, 475.0738223766606], [4.275688834960323, 3.8298117645254597, 475.46878717886096], [4.174966820309754, 3.9041501902510123, 475.86440793766633], [4.0714189451539635, 3.9759437755140987, 476.26071982051343], [3.9650708039682714, 4.04510655701143, 476.6577590263628], [3.8559493538525644, 4.111550407558048, 477.05556285319113], [3.744083042654298, 4.175184917647462, 477.4541697735635], [3.629501956249251, 4.235917262967513, 477.8536195103781], [3.5122379702408586, 4.293652076023444, 478.25395312202875], [3.392324924714889, 4.348291302179535, 478.6552130878189], [3.269798805084759, 4.399734059896755, 479.0574434041487], [3.1446979462263958, 4.447876488051045, 479.4606896834102], [3.0170632540567137, 4.49261158857747, 479.86499926038107], [2.8869384470308384, 4.533829063481851, 480.2704213063122], [2.754370320002871, 4.571415145657569, 480.67700695123074], [2.619409034165113, 4.60525242235033, 481.08480941458487], [2.482108436410329, 4.6352196508136565, 481.49388414454586], [2.3425264061628153, 4.661191570319883, 481.9042889696368], [2.2007252416021137, 4.683038703818309, 482.3160842589772], [2.0567720798024, 4.70062715704649, 482.7293330972746], [1.9107393624926656, 4.7138184095211, 483.14410147171805], [1.7627053497141858, 4.722469100355448, 483.5604584732656], [1.6127546831522177, 4.726430812400042, 483.9784765161437], [1.460979011780249, 4.7255498510327545, 484.39823157309456], [1.3074776849997558, 4.719667021000192, 484.81980342923714], [1.1523585151707385, 4.708617407018065, 485.24327595983675], [0.9957386267571313, 4.692230155397596, 485.6687374292163], [0.8377453972281461, 4.670328263328816, 486.09628081586663], [0.678517500882449, 4.642728380093045, 486.5260041666137], [0.5182060704959129, 4.60924062455422, 486.9580109812361], [0.35697598984256723, 4.569668426464261, 487.39241063144567], [0.19500733257104974, 4.523808400670758, 487.8293188185626], [0.03249696645237559, 4.471450264618302, 488.268858073468], [-0.1303396551603162, 4.412376811715415, 488.7111583017103], [-0.2932664962071392, 4.346363959996938, 489.15635738400096], [-0.45602470109606963, 4.273180892259899, 489.6046018292452], [-0.618330098091307, 4.192590318317608, 490.05604749608887], [-0.7798704032704684, 4.1043488875427325, 490.5108603832589], [-0.9403020921283307, 4.008207792803292, 490.96921749999825], [-1.0992468973249772, 3.903913614170232, 491.4313078249334], [-1.256287888254067, 3.7912094629764206, 491.89733336373797], [-1.410965083929426, 3.6698365012279153, 492.36751031708644], [-1.5627705468595492, 3.539535929405507, 492.8420703719456], [-1.7111429027186669, 3.4000515579206683, 493.32126213089924], [-1.8554612282855787, 3.2511331053330323, 493.8053526949267], [-1.9950382520277405, 3.0925404004768025, 494.2946294194234], [-2.129112813410641, 2.924048708365982, 494.7894018613806], [-2.2568415378270785, 2.7454554532330127, 495.2900039402061], [-2.3772897023632367, 2.5565886748562163, 495.7967963370536], [-2.48942129380669, 2.3573176369719295, 496.31016915584325], [-2.592088312555181, 2.1475660986811245, 496.8305448742041], [-2.6840194402128636, 1.9273288871794714, 497.3583816063926], [-2.7638083076971265, 1.6966925383777265, 497.8941767053758], [-2.8299017517819056, 1.4558609475331932, 498.43847071958146], [-2.8805886863528887, 1.2051871573628519, 498.9918517135617], [-2.9139905477703945, 0.9452126199517589, 499.5549599441911], [-2.928054749737559, 0.6767154786585041, 500.12849285611816], [-2.920553248641021, 0.4007696202434834, 500.7132103203473], [-2.889089245398633, 0.11881634843719159, 501.3099399742671], [-2.8311163030340385, -0.16724949817177714, 501.9195824308105], [-2.743975832115831, -0.4549775227913047, 502.5431159901472], [-2.624961056042689, -0.7412432787392025, 503.18160030406546], [-2.4714182374385922, -1.0221145617991847, 503.83617819290396], [-2.280899024564335, -1.292706992029933, 504.5080744940063], [-2.051380899800902, -1.5470388071083119, 505.1985904312456], [-1.7815750518081217, -1.7779032384415376, 505.90909156500356], [-1.4713409360833616, -1.976789196594431, 506.6409870049143], [-1.1222216200752504, -2.133897625903484, 507.3956973733593], [-0.7380996634444988, -2.238320879519307, 508.1746092962775], [-0.32594472621392767, -2.2784720552202873, 508.97901531046557], [0.10342311439246779, -2.2428621545585337, 509.81004042435154], [0.5346964186422118, -2.1213112818763658, 510.6685603593977], [0.9477871042615545, -1.9066281358771031, 511.5551213869126], [1.3181535022613646, -1.596685465276423, 512.4698763095291], [1.6180283090969185, -1.1966606284085826, 513.4125531357056], [1.8187357392891252, -0.7210333863476501, 514.3824695620065], [1.8940827380247356, -0.19480239965078394, 515.3785961161836], [1.8245294539717987, 0.34663109702431544, 516.3996554556994], [1.601569503351604, 0.8593243140075395, 517.4442299630291], [1.231566215733582, 1.2945468859480331, 518.5108406703441], [0.7382344468916244, 1.6042605271291188, 519.5979615866077], [0.16300607469985814, 1.747845349554437, 520.7039447757578], [-0.43736167090511274, 1.699279970264729, 521.8268509292611], [-0.9963471491902447, 1.453621578625355, 522.9642061802987], [-1.446333335772911, 1.0312420959145145, 524.1127377043122], [-1.729453369943231, 0.47806794180429146, 525.268173381089], [-1.8084820027793442, -0.13952885590825512, 526.4252088485351], [-1.674662093647749, -0.7451527552037145, 527.5777233933895], [-1.3495212216340544, -1.2659363835196298, 528.7192488640043], [-0.8795930485255031, -1.6452803865012273, 529.8435870844042], [-0.32578682458739755, -1.8508694058695092, 530.9453961988955], [0.24882074668049023, -1.876124045515287, 532.0205808874158], [0.789029984298772, -1.7360067483344153, 533.0664155034484], [1.2533824595085858, -1.4598189054333772, 534.0814359729941], [1.615834341754527, -1.0836944160118114, 535.0651959486808], [1.8644385217274866, -0.6445153397985246, 536.0179843250895], [1.9984864363537578, -0.17585455891064344, 536.9405698430829], [2.025244142850999, 0.2941996982427424, 537.8340025472882], [1.9569562516419219, 0.7438010216831364, 538.6994760720269], [1.8084147396486567, 1.157181242634625, 539.5382413483532], [1.5951543827982775, 1.5239716555456055, 540.3515579748413], [1.3322175302069492, 1.838295323251919, 541.1406701248874], [1.0333851574794337, 2.0978134457732107, 541.9067965712021], [0.7107640871041775, 2.302832359433786, 542.6511275478131], [0.3746306901797385, 2.455525666971622, 543.3748239560977], [0.033448086699629224, 2.559292312851584, 544.0790165599215], [-0.30600844596924887, 2.618250653548188, 544.7648042698162], [-0.6384667761156203, 2.636856677651543, 545.4332514782877], [-0.9599487513049108, 2.619628661427828, 546.0853848211589], [-1.267559868652523, 2.5709586775961406, 546.7221898534299], [-1.5592921434211338, 2.4949920243481327, 547.3446080719114], [-1.8338479431781016, 2.39555771112336, 547.9535345864728], [-2.0904879619387517, 2.276135843118654, 548.5498165995621], [-2.328903520989351, 2.139850562686413, 549.1342527323076], [-2.549111606244109, 1.989479817024666, 549.7075931478287], [-2.751370136278876, 1.82747546917433, 550.2705403686269], [-2.936110614671323, 1.6559891017649608, 550.8237506592775], [-3.103885336278432, 1.4769002953547883, 551.3678358406645], [-3.255326534446212, 1.291845242573724, 551.9033654098746], [-3.391115168316272, 1.102244348310946, 552.4308688552915], [-3.5119573901354326, 0.909328026018041, 552.9508380748109], [-3.6175690587581477, 0.7161200650283461, 553.458634449786]], &quot;color&quot;: &quot;#ff0000&quot;, &quot;opacity&quot;: 1.0, &quot;linewidth&quot;: 1.0}];\n",
       "    for ( var i=0 ; i < lines.length ; i++ ) addLine( lines[i] );\n",
       "\n",
       "    function addLine( json ) {\n",
       "\n",
       "        var geometry = new THREE.Geometry();\n",
       "        for ( var i=0 ; i < json.points.length ; i++ ) {\n",
       "            var v = json.points[i];\n",
       "            geometry.vertices.push( new THREE.Vector3( a[0]*v[0], a[1]*v[1], a[2]*v[2] ) );\n",
       "        }\n",
       "\n",
       "        var transparent = json.opacity < 1 ? true : false;\n",
       "        var material = new THREE.LineBasicMaterial( { color: json.color, linewidth: json.linewidth,\n",
       "                                                      transparent: transparent, opacity: json.opacity } );\n",
       "\n",
       "        var c = new THREE.Vector3();\n",
       "        geometry.computeBoundingBox();\n",
       "        geometry.boundingBox.getCenter( c );\n",
       "        geometry.translate( -c.x, -c.y, -c.z );\n",
       "\n",
       "        var mesh = new THREE.Line( geometry, material );\n",
       "        mesh.position.set( c.x, c.y, c.z );\n",
       "        scene.add( mesh );\n",
       "\n",
       "    }\n",
       "\n",
       "    var surfaces = [{&quot;vertices&quot;: [{&quot;x&quot;: 0.0, &quot;y&quot;: 0.0, &quot;z&quot;: 553.4637298235969}, {&quot;x&quot;: 0.17968402508300355, &quot;y&quot;: 1.0479205581360658, &quot;z&quot;: 553.4637298235969}, {&quot;x&quot;: 0.0, &quot;y&quot;: 1.0632139225171164, &quot;z&quot;: 553.4637298235969}, {&quot;x&quot;: 0.3541988679142501, &quot;y&quot;: 1.002480427241598, &quot;z&quot;: 553.4637298235969}, {&quot;x&quot;: 0.518524054203859, &quot;y&quot;: 0.9282007596669086, &quot;z&quot;: 553.4637298235969}, {&quot;x&quot;: 0.6679322475283921, &quot;y&quot;: 0.8272184462074716, &quot;z&quot;: 553.4637298235969}, {&quot;x&quot;: 0.7981252461927152, &quot;y&quot;: 0.7024385641634794, &quot;z&quot;: 553.4637298235969}, {&quot;x&quot;: 0.9053576346670518, &quot;y&quot;: 0.5574508035551783, &quot;z&quot;: 553.4637298235969}, {&quot;x&quot;: 0.9865445323725134, &quot;y&quot;: 0.396426198276718, &quot;z&quot;: 553.4637298235969}, {&quot;x&quot;: 1.0393503400787265, &quot;y&quot;: 0.22399713304519892, &quot;z&quot;: 553.4637298235969}, {&quot;x&quot;: 1.0622559308412753, &quot;y&quot;: 0.045124078126522985, &quot;z&quot;: 553.4637298235969}, {&quot;x&quot;: 1.0546023525180255, &quot;y&quot;: -0.13504711436265102, &quot;z&quot;: 553.4637298235969}, {&quot;x&quot;: 1.0166097846225024, &quot;y&quot;: -0.31133324725127326, &quot;z&quot;: 553.4637298235969}, {&quot;x&quot;: 0.949371204160165, &quot;y&quot;: -0.4786628894594935, &quot;z&quot;: 553.4637298235969}, {&quot;x&quot;: 0.8548209426699402, &quot;y&quot;: -0.6322222718372926, &quot;z&quot;: 553.4637298235969}, {&quot;x&quot;: 0.735679039027674, &quot;y&quot;: -0.7675937705385257, &quot;z&quot;: 553.4637298235969}, {&quot;x&quot;: 0.5953729888800362, &quot;y&quot;: -0.8808829940158256, &quot;z&quot;: 553.4637298235969}, {&quot;x&quot;: 0.4379391418351921, &quot;y&quot;: -0.9688308175749202, &quot;z&quot;: 553.4637298235969}, {&quot;x&quot;: 0.26790658303353754, &quot;y&quot;: -1.028907142458214, &quot;z&quot;: 553.4637298235969}, {&quot;x&quot;: 0.09016683961429678, &quot;y&quot;: -1.0593836821795033, &quot;z&quot;: 553.4637298235969}, {&quot;x&quot;: -0.09016683961429606, &quot;y&quot;: -1.0593836821795033, &quot;z&quot;: 553.4637298235969}, {&quot;x&quot;: -0.2679065830335377, &quot;y&quot;: -1.028907142458214, &quot;z&quot;: 553.4637298235969}, {&quot;x&quot;: -0.4379391418351919, &quot;y&quot;: -0.9688308175749203, &quot;z&quot;: 553.4637298235969}, {&quot;x&quot;: -0.5953729888800356, &quot;y&quot;: -0.8808829940158259, &quot;z&quot;: 553.4637298235969}, {&quot;x&quot;: -0.7356790390276738, &quot;y&quot;: -0.767593770538526, &quot;z&quot;: 553.4637298235969}, {&quot;x&quot;: -0.8548209426699404, &quot;y&quot;: -0.6322222718372925, &quot;z&quot;: 553.4637298235969}, {&quot;x&quot;: -0.9493712041601648, &quot;y&quot;: -0.4786628894594937, &quot;z&quot;: 553.4637298235969}, {&quot;x&quot;: -1.0166097846225022, &quot;y&quot;: -0.3113332472512735, &quot;z&quot;: 553.4637298235969}, {&quot;x&quot;: -1.0546023525180255, &quot;y&quot;: -0.1350471143626515, &quot;z&quot;: 553.4637298235969}, {&quot;x&quot;: -1.0622559308412753, &quot;y&quot;: 0.04512407812652273, &quot;z&quot;: 553.4637298235969}, {&quot;x&quot;: -1.0393503400787265, &quot;y&quot;: 0.22399713304519914, &quot;z&quot;: 553.4637298235969}, {&quot;x&quot;: -0.9865445323725136, &quot;y&quot;: 0.39642619827671777, &quot;z&quot;: 553.4637298235969}, {&quot;x&quot;: -0.9053576346670523, &quot;y&quot;: 0.5574508035551777, &quot;z&quot;: 553.4637298235969}, {&quot;x&quot;: -0.7981252461927154, &quot;y&quot;: 0.702438564163479, &quot;z&quot;: 553.4637298235969}, {&quot;x&quot;: -0.6679322475283921, &quot;y&quot;: 0.8272184462074716, &quot;z&quot;: 553.4637298235969}, {&quot;x&quot;: -0.5185240542038587, &quot;y&quot;: 0.9282007596669088, &quot;z&quot;: 553.4637298235969}, {&quot;x&quot;: -0.3541988679142502, &quot;y&quot;: 1.0024804272415977, &quot;z&quot;: 553.4637298235969}, {&quot;x&quot;: -0.1796840250830042, &quot;y&quot;: 1.0479205581360655, &quot;z&quot;: 553.4637298235969}, {&quot;x&quot;: 0.17968402508300355, &quot;y&quot;: 1.0479205581360658, &quot;z&quot;: 0.0}, {&quot;x&quot;: 0.0, &quot;y&quot;: 1.0632139225171164, &quot;z&quot;: 0.0}, {&quot;x&quot;: 0.3541988679142501, &quot;y&quot;: 1.002480427241598, &quot;z&quot;: 0.0}, {&quot;x&quot;: 0.518524054203859, &quot;y&quot;: 0.9282007596669086, &quot;z&quot;: 0.0}, {&quot;x&quot;: 0.6679322475283921, &quot;y&quot;: 0.8272184462074716, &quot;z&quot;: 0.0}, {&quot;x&quot;: 0.7981252461927152, &quot;y&quot;: 0.7024385641634794, &quot;z&quot;: 0.0}, {&quot;x&quot;: 0.9053576346670518, &quot;y&quot;: 0.5574508035551783, &quot;z&quot;: 0.0}, {&quot;x&quot;: 0.9865445323725134, &quot;y&quot;: 0.396426198276718, &quot;z&quot;: 0.0}, {&quot;x&quot;: 1.0393503400787265, &quot;y&quot;: 0.22399713304519892, &quot;z&quot;: 0.0}, {&quot;x&quot;: 1.0622559308412753, &quot;y&quot;: 0.045124078126522985, &quot;z&quot;: 0.0}, {&quot;x&quot;: 1.0546023525180255, &quot;y&quot;: -0.13504711436265102, &quot;z&quot;: 0.0}, {&quot;x&quot;: 1.0166097846225024, &quot;y&quot;: -0.31133324725127326, &quot;z&quot;: 0.0}, {&quot;x&quot;: 0.949371204160165, &quot;y&quot;: -0.4786628894594935, &quot;z&quot;: 0.0}, {&quot;x&quot;: 0.8548209426699402, &quot;y&quot;: -0.6322222718372926, &quot;z&quot;: 0.0}, {&quot;x&quot;: 0.735679039027674, &quot;y&quot;: -0.7675937705385257, &quot;z&quot;: 0.0}, {&quot;x&quot;: 0.5953729888800362, &quot;y&quot;: -0.8808829940158256, &quot;z&quot;: 0.0}, {&quot;x&quot;: 0.4379391418351921, &quot;y&quot;: -0.9688308175749202, &quot;z&quot;: 0.0}, {&quot;x&quot;: 0.26790658303353754, &quot;y&quot;: -1.028907142458214, &quot;z&quot;: 0.0}, {&quot;x&quot;: 0.09016683961429678, &quot;y&quot;: -1.0593836821795033, &quot;z&quot;: 0.0}, {&quot;x&quot;: -0.09016683961429606, &quot;y&quot;: -1.0593836821795033, &quot;z&quot;: 0.0}, {&quot;x&quot;: -0.2679065830335377, &quot;y&quot;: -1.028907142458214, &quot;z&quot;: 0.0}, {&quot;x&quot;: -0.4379391418351919, &quot;y&quot;: -0.9688308175749203, &quot;z&quot;: 0.0}, {&quot;x&quot;: -0.5953729888800356, &quot;y&quot;: -0.8808829940158259, &quot;z&quot;: 0.0}, {&quot;x&quot;: -0.7356790390276738, &quot;y&quot;: -0.767593770538526, &quot;z&quot;: 0.0}, {&quot;x&quot;: -0.8548209426699404, &quot;y&quot;: -0.6322222718372925, &quot;z&quot;: 0.0}, {&quot;x&quot;: -0.9493712041601648, &quot;y&quot;: -0.4786628894594937, &quot;z&quot;: 0.0}, {&quot;x&quot;: -1.0166097846225022, &quot;y&quot;: -0.3113332472512735, &quot;z&quot;: 0.0}, {&quot;x&quot;: -1.0546023525180255, &quot;y&quot;: -0.1350471143626515, &quot;z&quot;: 0.0}, {&quot;x&quot;: -1.0622559308412753, &quot;y&quot;: 0.04512407812652273, &quot;z&quot;: 0.0}, {&quot;x&quot;: -1.0393503400787265, &quot;y&quot;: 0.22399713304519914, &quot;z&quot;: 0.0}, {&quot;x&quot;: -0.9865445323725136, &quot;y&quot;: 0.39642619827671777, &quot;z&quot;: 0.0}, {&quot;x&quot;: -0.9053576346670523, &quot;y&quot;: 0.5574508035551777, &quot;z&quot;: 0.0}, {&quot;x&quot;: -0.7981252461927154, &quot;y&quot;: 0.702438564163479, &quot;z&quot;: 0.0}, {&quot;x&quot;: -0.6679322475283921, &quot;y&quot;: 0.8272184462074716, &quot;z&quot;: 0.0}, {&quot;x&quot;: -0.5185240542038587, &quot;y&quot;: 0.9282007596669088, &quot;z&quot;: 0.0}, {&quot;x&quot;: -0.3541988679142502, &quot;y&quot;: 1.0024804272415977, &quot;z&quot;: 0.0}, {&quot;x&quot;: -0.1796840250830042, &quot;y&quot;: 1.0479205581360655, &quot;z&quot;: 0.0}, {&quot;x&quot;: 0.0, &quot;y&quot;: 0.0, &quot;z&quot;: 0.0}], &quot;faces&quot;: [[0, 1, 2], [0, 3, 1], [0, 4, 3], [0, 5, 4], [0, 6, 5], [0, 7, 6], [0, 8, 7], [0, 9, 8], [0, 10, 9], [0, 11, 10], [0, 12, 11], [0, 13, 12], [0, 14, 13], [0, 15, 14], [0, 16, 15], [0, 17, 16], [0, 18, 17], [0, 19, 18], [0, 20, 19], [0, 21, 20], [0, 22, 21], [0, 23, 22], [0, 24, 23], [0, 25, 24], [0, 26, 25], [0, 27, 26], [0, 28, 27], [0, 29, 28], [0, 30, 29], [0, 31, 30], [0, 32, 31], [0, 33, 32], [0, 34, 33], [0, 35, 34], [0, 36, 35], [0, 37, 36], [0, 2, 37], [2, 1, 38, 39], [1, 3, 40, 38], [3, 4, 41, 40], [4, 5, 42, 41], [5, 6, 43, 42], [6, 7, 44, 43], [7, 8, 45, 44], [8, 9, 46, 45], [9, 10, 47, 46], [10, 11, 48, 47], [11, 12, 49, 48], [12, 13, 50, 49], [13, 14, 51, 50], [14, 15, 52, 51], [15, 16, 53, 52], [16, 17, 54, 53], [17, 18, 55, 54], [18, 19, 56, 55], [19, 20, 57, 56], [20, 21, 58, 57], [21, 22, 59, 58], [22, 23, 60, 59], [23, 24, 61, 60], [24, 25, 62, 61], [25, 26, 63, 62], [26, 27, 64, 63], [27, 28, 65, 64], [28, 29, 66, 65], [29, 30, 67, 66], [30, 31, 68, 67], [31, 32, 69, 68], [32, 33, 70, 69], [33, 34, 71, 70], [34, 35, 72, 71], [35, 36, 73, 72], [36, 37, 74, 73], [37, 2, 39, 74], [39, 38, 75], [38, 40, 75], [40, 41, 75], [41, 42, 75], [42, 43, 75], [43, 44, 75], [44, 45, 75], [45, 46, 75], [46, 47, 75], [47, 48, 75], [48, 49, 75], [49, 50, 75], [50, 51, 75], [51, 52, 75], [52, 53, 75], [53, 54, 75], [54, 55, 75], [55, 56, 75], [56, 57, 75], [57, 58, 75], [58, 59, 75], [59, 60, 75], [60, 61, 75], [61, 62, 75], [62, 63, 75], [63, 64, 75], [64, 65, 75], [65, 66, 75], [66, 67, 75], [67, 68, 75], [68, 69, 75], [69, 70, 75], [70, 71, 75], [71, 72, 75], [72, 73, 75], [73, 74, 75], [74, 39, 75]], &quot;color&quot;: &quot;#000000&quot;, &quot;opacity&quot;: 1.0}];\n",
       "    for ( var i=0 ; i < surfaces.length ; i++ ) addSurface( surfaces[i] );\n",
       "\n",
       "    function addSurface( json ) {\n",
       "\n",
       "        var useFaceColors = 'faceColors' in json ? true : false;\n",
       "\n",
       "        var geometry = new THREE.Geometry();\n",
       "        for ( var i=0 ; i < json.vertices.length ; i++ ) {\n",
       "            var v = json.vertices[i];\n",
       "            geometry.vertices.push( new THREE.Vector3( a[0]*v.x, a[1]*v.y, a[2]*v.z ) );\n",
       "        }\n",
       "        for ( var i=0 ; i < json.faces.length ; i++ ) {\n",
       "            var f = json.faces[i];\n",
       "            for ( var j=0 ; j < f.length - 2 ; j++ ) {\n",
       "                var face = new THREE.Face3( f[0], f[j+1], f[j+2] );\n",
       "                if ( useFaceColors ) face.color.set( json.faceColors[i] );\n",
       "                geometry.faces.push( face );\n",
       "            }\n",
       "        }\n",
       "        geometry.computeVertexNormals();\n",
       "\n",
       "        var side = json.singleSide ? THREE.FrontSide : THREE.DoubleSide;\n",
       "        var transparent = json.opacity < 1 ? true : false;\n",
       "\n",
       "        var material = new THREE.MeshPhongMaterial( { side: side,\n",
       "                                     color: useFaceColors ? 'white' : json.color,\n",
       "                                     vertexColors: useFaceColors ? THREE.FaceColors : THREE.NoColors,\n",
       "                                     transparent: transparent, opacity: json.opacity,\n",
       "                                     shininess: 20, flatShading: json.useFlatShading } );\n",
       "\n",
       "        var c = new THREE.Vector3();\n",
       "        geometry.computeBoundingBox();\n",
       "        geometry.boundingBox.getCenter( c );\n",
       "        geometry.translate( -c.x, -c.y, -c.z );\n",
       "\n",
       "        var mesh = new THREE.Mesh( geometry, material );\n",
       "        mesh.position.set( c.x, c.y, c.z );\n",
       "        if ( transparent && json.renderOrder ) mesh.renderOrder = json.renderOrder;\n",
       "        scene.add( mesh );\n",
       "\n",
       "        if ( json.showMeshGrid ) {\n",
       "\n",
       "            var geometry = new THREE.Geometry();\n",
       "\n",
       "            for ( var i=0 ; i < json.faces.length ; i++ ) {\n",
       "                var f = json.faces[i];\n",
       "                for ( var j=0 ; j < f.length ; j++ ) {\n",
       "                    var k = j === f.length-1 ? 0 : j+1;\n",
       "                    var v1 = json.vertices[f[j]];\n",
       "                    var v2 = json.vertices[f[k]];\n",
       "                    // vertices in opposite directions on neighboring faces\n",
       "                    var nudge = f[j] < f[k] ? .0005*zRange : -.0005*zRange;\n",
       "                    geometry.vertices.push( new THREE.Vector3( a[0]*v1.x, a[1]*v1.y, a[2]*(v1.z+nudge) ) );\n",
       "                    geometry.vertices.push( new THREE.Vector3( a[0]*v2.x, a[1]*v2.y, a[2]*(v2.z+nudge) ) );\n",
       "                }\n",
       "            }\n",
       "\n",
       "            var material = new THREE.LineBasicMaterial( { color: 'black', linewidth: 1 } );\n",
       "\n",
       "            var c = new THREE.Vector3();\n",
       "            geometry.computeBoundingBox();\n",
       "            geometry.boundingBox.getCenter( c );\n",
       "            geometry.translate( -c.x, -c.y, -c.z );\n",
       "\n",
       "            var mesh = new THREE.LineSegments( geometry, material );\n",
       "            mesh.position.set( c.x, c.y, c.z );\n",
       "            scene.add( mesh );\n",
       "\n",
       "        }\n",
       "\n",
       "    }\n",
       "\n",
       "    var scratch = new THREE.Vector3();\n",
       "\n",
       "    function render() {\n",
       "\n",
       "        if ( animate ) requestAnimationFrame( render );\n",
       "        renderer.render( scene, camera );\n",
       "\n",
       "        // Resize text based on distance from camera.\n",
       "        // Not neccessary for orthographic due to the nature of the projection (preserves sizes).\n",
       "        if ( !camera.isOrthographicCamera ) {\n",
       "            for ( var i=0 ; i < scene.children.length ; i++ ) {\n",
       "                if ( scene.children[i].type === 'Sprite' ) {\n",
       "                    var sprite = scene.children[i];\n",
       "                    var adjust = scratch.addVectors( sprite.position, scene.position )\n",
       "                                    .sub( camera.position ).length() / 5;\n",
       "                    sprite.scale.set( adjust, .25*adjust, 1 ); // ratio of canvas width to height\n",
       "                }\n",
       "            }\n",
       "        }\n",
       "    }\n",
       "    \n",
       "    render();\n",
       "    controls.update();\n",
       "    if ( !animate ) render();\n",
       "\n",
       "\n",
       "    // menu functions\n",
       "\n",
       "    function toggleMenu() {\n",
       "\n",
       "        var m = document.getElementById( 'menu-content' );\n",
       "        if ( m.style.display === 'block' ) m.style.display = 'none'\n",
       "        else m.style.display = 'block';\n",
       "\n",
       "    }\n",
       "\n",
       "\n",
       "    function saveAsPNG() {\n",
       "\n",
       "        var a = document.body.appendChild( document.createElement( 'a' ) );\n",
       "        a.href = renderer.domElement.toDataURL( 'image/png' );\n",
       "        a.download = 'screenshot';\n",
       "        a.click();\n",
       "\n",
       "    }\n",
       "\n",
       "    function saveAsHTML() {\n",
       "\n",
       "        toggleMenu(); // otherwise visible in output\n",
       "        event.stopPropagation();\n",
       "\n",
       "        var blob = new Blob( [ '<!DOCTYPE html>\\n' + document.documentElement.outerHTML ] );\n",
       "        var a = document.body.appendChild( document.createElement( 'a' ) );\n",
       "        a.href = window.URL.createObjectURL( blob );\n",
       "        a.download = 'graphic.html';\n",
       "        a.click();\n",
       "\n",
       "    }\n",
       "\n",
       "    function getViewpoint() {\n",
       "\n",
       "        function roundTo( x, n ) { return +x.toFixed(n); }\n",
       "\n",
       "        var v = camera.quaternion.inverse();\n",
       "        var r = Math.sqrt( v.x*v.x + v.y*v.y + v.z*v.z );\n",
       "        var axis = [ roundTo( v.x / r, 4 ), roundTo( v.y / r, 4 ), roundTo( v.z / r, 4 ) ];\n",
       "        var angle = roundTo( 2 * Math.atan2( r, v.w ) * 180 / Math.PI, 2 );\n",
       "\n",
       "        var textArea = document.createElement( 'textarea' );\n",
       "        textArea.textContent = JSON.stringify( axis ) + ',' + angle;\n",
       "        textArea.style.csstext = 'position: absolute; top: -100%';\n",
       "        document.body.append( textArea );\n",
       "        textArea.select();\n",
       "        document.execCommand( 'copy' );\n",
       "\n",
       "        var m = document.getElementById( 'menu-message' );\n",
       "        m.innerHTML = 'Viewpoint copied to clipboard';\n",
       "        m.style.display = 'block';\n",
       "        setTimeout( function() { m.style.display = 'none'; }, 2000 );\n",
       "\n",
       "    }\n",
       "\n",
       "</script>\n",
       "\n",
       "<div id=&quot;menu-container&quot; onclick=&quot;toggleMenu()&quot;>&#x24d8;\n",
       "<div id=&quot;menu-message&quot;></div>\n",
       "<div id=&quot;menu-content&quot;>\n",
       "<div onclick=&quot;saveAsPNG()&quot;>Save as PNG</div>\n",
       "<div onclick=&quot;saveAsHTML()&quot;>Save as HTML</div>\n",
       "<div onclick=&quot;getViewpoint()&quot;>Get Viewpoint</div>\n",
       "<div>Close Menu</div>\n",
       "</div></div>\n",
       "\n",
       "</body>\n",
       "</html>\n",
       "\"\n",
       "        width=\"100%\"\n",
       "        height=\"400\"\n",
       "        style=\"border: 0;\">\n",
       "</iframe>\n"
      ],
      "text/plain": [
       "Graphics3d Object"
      ]
     },
     "execution_count": 21,
     "metadata": {},
     "output_type": "execute_result"
    }
   ],
   "source": [
    "Li.plot(coordinates='txy')"
   ]
  },
  {
   "cell_type": "markdown",
   "metadata": {},
   "source": [
    "or to get the trace of the geodesic in the $(x,y)$ plane:"
   ]
  },
  {
   "cell_type": "code",
   "execution_count": 22,
   "metadata": {},
   "outputs": [
    {
     "data": {
      "image/png": "[encoded data removed]",
      "text/plain": [
       "Graphics object consisting of 2 graphics primitives"
      ]
     },
     "execution_count": 22,
     "metadata": {},
     "output_type": "execute_result"
    }
   ],
   "source": [
    "Li.plot(coordinates='xy', plot_points=2000)"
   ]
  },
  {
   "cell_type": "markdown",
   "metadata": {},
   "source": [
    "or else to get the trace in the $(x,z)$ plane:"
   ]
  },
  {
   "cell_type": "code",
   "execution_count": 23,
   "metadata": {},
   "outputs": [
    {
     "data": {
      "image/png": "[encoded data removed]",
      "text/plain": [
       "Graphics object consisting of 2 graphics primitives"
      ]
     },
     "execution_count": 23,
     "metadata": {},
     "output_type": "execute_result"
    }
   ],
   "source": [
    "Li.plot(coordinates='xz')"
   ]
  },
  {
   "cell_type": "markdown",
   "metadata": {},
   "source": [
    "As a curve, the geodesic $\\mathcal{L}$ is a map from an interval of $\\mathbb{R}$ to the spacetime $M$:"
   ]
  },
  {
   "cell_type": "code",
   "execution_count": 24,
   "metadata": {},
   "outputs": [
    {
     "data": {
      "text/html": [
       "<html><script type=\"math/tex; mode=display\">\\newcommand{\\Bold}[1]{\\mathbf{#1}}\\begin{array}{llcl} \\mathcal{L}:& \\left(0, 300\\right) & \\longrightarrow & M \\end{array}</script></html>"
      ],
      "text/plain": [
       "Li: (0, 300) --> M"
      ]
     },
     "execution_count": 24,
     "metadata": {},
     "output_type": "execute_result"
    }
   ],
   "source": [
    "Li.display()"
   ]
  },
  {
   "cell_type": "code",
   "execution_count": 25,
   "metadata": {},
   "outputs": [
    {
     "data": {
      "text/html": [
       "<html><script type=\"math/tex; mode=display\">\\newcommand{\\Bold}[1]{\\mathbf{#1}}\\left(0, 300\\right)</script></html>"
      ],
      "text/plain": [
       "Real interval (0, 300)"
      ]
     },
     "execution_count": 25,
     "metadata": {},
     "output_type": "execute_result"
    }
   ],
   "source": [
    "Li.domain()"
   ]
  },
  {
   "cell_type": "code",
   "execution_count": 26,
   "metadata": {},
   "outputs": [
    {
     "data": {
      "text/html": [
       "<html><script type=\"math/tex; mode=display\">\\newcommand{\\Bold}[1]{\\mathbf{#1}}M</script></html>"
      ],
      "text/plain": [
       "Kerr spacetime M"
      ]
     },
     "execution_count": 26,
     "metadata": {},
     "output_type": "execute_result"
    }
   ],
   "source": [
    "Li.codomain()"
   ]
  },
  {
   "cell_type": "markdown",
   "metadata": {},
   "source": [
    "It maps values of $\\lambda$ to spacetime points:"
   ]
  },
  {
   "cell_type": "code",
   "execution_count": 27,
   "metadata": {},
   "outputs": [
    {
     "data": {
      "text/html": [
       "<html><script type=\"math/tex; mode=display\">\\newcommand{\\Bold}[1]{\\mathbf{#1}}\\mbox{Point on the Kerr spacetime M}</script></html>"
      ],
      "text/plain": [
       "Point on the Kerr spacetime M"
      ]
     },
     "execution_count": 27,
     "metadata": {},
     "output_type": "execute_result"
    }
   ],
   "source": [
    "Li(0)"
   ]
  },
  {
   "cell_type": "code",
   "execution_count": 28,
   "metadata": {},
   "outputs": [
    {
     "data": {
      "text/html": [
       "<html><script type=\"math/tex; mode=display\">\\newcommand{\\Bold}[1]{\\mathbf{#1}}\\left(0.0, 6.0, 1.5707963267948966, 0.0\\right)</script></html>"
      ],
      "text/plain": [
       "(0.0, 6.0, 1.5707963267948966, 0.0)"
      ]
     },
     "execution_count": 28,
     "metadata": {},
     "output_type": "execute_result"
    }
   ],
   "source": [
    "Li(0).coordinates()  # coordinates in the default chart (BL)"
   ]
  },
  {
   "cell_type": "code",
   "execution_count": 29,
   "metadata": {},
   "outputs": [
    {
     "data": {
      "text/html": [
       "<html><script type=\"math/tex; mode=display\">\\newcommand{\\Bold}[1]{\\mathbf{#1}}\\left(0.0, 6.0, 1.5707963267948966, 0.0\\right)</script></html>"
      ],
      "text/plain": [
       "(0.0, 6.0, 1.5707963267948966, 0.0)"
      ]
     },
     "execution_count": 29,
     "metadata": {},
     "output_type": "execute_result"
    }
   ],
   "source": [
    "BL(Li(0))  # equivalent to above"
   ]
  },
  {
   "cell_type": "code",
   "execution_count": 30,
   "metadata": {},
   "outputs": [
    {
     "data": {
      "text/html": [
       "<html><script type=\"math/tex; mode=display\">\\newcommand{\\Bold}[1]{\\mathbf{#1}}\\left(553.4637298235969, 3.7035524920469878, 1.6613833561392117, 84.62814586190511\\right)</script></html>"
      ],
      "text/plain": [
       "(553.4637298235969, 3.7035524920469878, 1.6613833561392117, 84.62814586190511)"
      ]
     },
     "execution_count": 30,
     "metadata": {},
     "output_type": "execute_result"
    }
   ],
   "source": [
    "Li(300).coordinates()"
   ]
  },
  {
   "cell_type": "markdown",
   "metadata": {},
   "source": [
    "The initial 4-momentum vector $p_0$ is returned by the method `initial_tangent_vector()`:"
   ]
  },
  {
   "cell_type": "code",
   "execution_count": 31,
   "metadata": {},
   "outputs": [
    {
     "name": "stdout",
     "output_type": "stream",
     "text": [
      "Tangent vector p at Point P on the Kerr spacetime M\n"
     ]
    }
   ],
   "source": [
    "p0 = Li.initial_tangent_vector()\n",
    "print(p0)"
   ]
  },
  {
   "cell_type": "code",
   "execution_count": 32,
   "metadata": {},
   "outputs": [
    {
     "data": {
      "text/html": [
       "<html><script type=\"math/tex; mode=display\">\\newcommand{\\Bold}[1]{\\mathbf{#1}}\\mathrm{True}</script></html>"
      ],
      "text/plain": [
       "True"
      ]
     },
     "execution_count": 32,
     "metadata": {},
     "output_type": "execute_result"
    }
   ],
   "source": [
    "p0 in M.tangent_space(P)"
   ]
  },
  {
   "cell_type": "code",
   "execution_count": 33,
   "metadata": {},
   "outputs": [
    {
     "data": {
      "text/html": [
       "<html><script type=\"math/tex; mode=display\">\\newcommand{\\Bold}[1]{\\mathbf{#1}}p = 1.29225788954106 \\frac{\\partial}{\\partial t } + 0.00438084990626460 \\frac{\\partial}{\\partial r } + 0.0189826106258554 \\frac{\\partial}{\\partial {\\theta} } + 0.0646134478134985 \\frac{\\partial}{\\partial {\\phi} }</script></html>"
      ],
      "text/plain": [
       "p = 1.29225788954106 d/dt + 0.00438084990626460 d/dr + 0.0189826106258554 d/dth + 0.0646134478134985 d/dph"
      ]
     },
     "execution_count": 33,
     "metadata": {},
     "output_type": "execute_result"
    }
   ],
   "source": [
    "p0.display()"
   ]
  },
  {
   "cell_type": "code",
   "execution_count": 34,
   "metadata": {},
   "outputs": [
    {
     "data": {
      "text/html": [
       "<html><script type=\"math/tex; mode=display\">\\newcommand{\\Bold}[1]{\\mathbf{#1}}\\left[1.29225788954106, 0.00438084990626460, 0.0189826106258554, 0.0646134478134985\\right]</script></html>"
      ],
      "text/plain": [
       "[1.29225788954106, 0.00438084990626460, 0.0189826106258554, 0.0646134478134985]"
      ]
     },
     "execution_count": 34,
     "metadata": {},
     "output_type": "execute_result"
    }
   ],
   "source": [
    "p0[:]"
   ]
  },
  {
   "cell_type": "markdown",
   "metadata": {},
   "source": [
    "For instance, the components $p^t_0$ and $p^\\phi_0$ are recovered by"
   ]
  },
  {
   "cell_type": "code",
   "execution_count": 35,
   "metadata": {},
   "outputs": [
    {
     "data": {
      "text/html": [
       "<html><script type=\"math/tex; mode=display\">\\newcommand{\\Bold}[1]{\\mathbf{#1}}\\left(1.29225788954106, 0.0646134478134985\\right)</script></html>"
      ],
      "text/plain": [
       "(1.29225788954106, 0.0646134478134985)"
      ]
     },
     "execution_count": 35,
     "metadata": {},
     "output_type": "execute_result"
    }
   ],
   "source": [
    "p0[0], p0[3]"
   ]
  },
  {
   "cell_type": "markdown",
   "metadata": {},
   "source": [
    "Let us check that the scalar square of $p_0$ is $-1$, i.e. is consistent with the mass parameter $\\mu = 1$ used in the construction of the geodesic:"
   ]
  },
  {
   "cell_type": "code",
   "execution_count": 36,
   "metadata": {},
   "outputs": [
    {
     "data": {
      "text/html": [
       "<html><script type=\"math/tex; mode=display\">\\newcommand{\\Bold}[1]{\\mathbf{#1}}-1.00000000000000</script></html>"
      ],
      "text/plain": [
       "-1.00000000000000"
      ]
     },
     "execution_count": 36,
     "metadata": {},
     "output_type": "execute_result"
    }
   ],
   "source": [
    "g = M.metric()\n",
    "g.at(P)(p0, p0).subs(a=0.998)"
   ]
  },
  {
   "cell_type": "markdown",
   "metadata": {},
   "source": [
    "The 4-momentum vector $p$ at any value of the affine parameter $\\lambda$ is obtained by\n",
    "the method `evaluate_tangent_vector()`; for instance, for $\\lambda=200\\,m$: "
   ]
  },
  {
   "cell_type": "code",
   "execution_count": 37,
   "metadata": {},
   "outputs": [
    {
     "data": {
      "text/html": [
       "<html><script type=\"math/tex; mode=display\">\\newcommand{\\Bold}[1]{\\mathbf{#1}}1.3165926052039156 \\frac{\\partial}{\\partial t } -0.07370434461768362 \\frac{\\partial}{\\partial r } -0.010911954123803514 \\frac{\\partial}{\\partial {\\theta} } + 0.07600209953046694 \\frac{\\partial}{\\partial {\\phi} }</script></html>"
      ],
      "text/plain": [
       "1.3165926052039156 d/dt - 0.07370434461768362 d/dr - 0.010911954123803514 d/dth + 0.07600209953046694 d/dph"
      ]
     },
     "execution_count": 37,
     "metadata": {},
     "output_type": "execute_result"
    }
   ],
   "source": [
    "p = Li.evaluate_tangent_vector(200)\n",
    "p.display()"
   ]
  },
  {
   "cell_type": "code",
   "execution_count": 38,
   "metadata": {},
   "outputs": [
    {
     "data": {
      "text/html": [
       "<html><script type=\"math/tex; mode=display\">\\newcommand{\\Bold}[1]{\\mathbf{#1}}\\mathrm{True}</script></html>"
      ],
      "text/plain": [
       "True"
      ]
     },
     "execution_count": 38,
     "metadata": {},
     "output_type": "execute_result"
    }
   ],
   "source": [
    "p in M.tangent_space(Li(200))"
   ]
  },
  {
   "cell_type": "markdown",
   "metadata": {},
   "source": [
    "The particle mass $\\mu$ computed at a given value of $\\lambda$ is returned by the method `evaluate_mu()`:"
   ]
  },
  {
   "cell_type": "code",
   "execution_count": 39,
   "metadata": {},
   "outputs": [
    {
     "data": {
      "text/html": [
       "<html><script type=\"math/tex; mode=display\">\\newcommand{\\Bold}[1]{\\mathbf{#1}}1.00000000000000</script></html>"
      ],
      "text/plain": [
       "1.00000000000000"
      ]
     },
     "execution_count": 39,
     "metadata": {},
     "output_type": "execute_result"
    }
   ],
   "source": [
    "Li.evaluate_mu(0)"
   ]
  },
  {
   "cell_type": "markdown",
   "metadata": {},
   "source": [
    "Of course, it should be conserved along $\\mathcal{L}$; actually it is, up to the numerical accuracy::"
   ]
  },
  {
   "cell_type": "code",
   "execution_count": 40,
   "metadata": {},
   "outputs": [
    {
     "data": {
      "text/html": [
       "<html><script type=\"math/tex; mode=display\">\\newcommand{\\Bold}[1]{\\mathbf{#1}}1.0000117991483337</script></html>"
      ],
      "text/plain": [
       "1.0000117991483337"
      ]
     },
     "execution_count": 40,
     "metadata": {},
     "output_type": "execute_result"
    }
   ],
   "source": [
    "Li.evaluate_mu(300)"
   ]
  },
  {
   "cell_type": "markdown",
   "metadata": {},
   "source": [
    "Similarly, the conserved energy $E$, conserved angular momentum $L$ and Carter constant $Q$ are computed at any value of $\\lambda$ by respectively `evaluate_E()`, `evaluate_L()` and `evaluate_Q()`:"
   ]
  },
  {
   "cell_type": "code",
   "execution_count": 41,
   "metadata": {},
   "outputs": [
    {
     "data": {
      "text/html": [
       "<html><script type=\"math/tex; mode=display\">\\newcommand{\\Bold}[1]{\\mathbf{#1}}0.883000000000000</script></html>"
      ],
      "text/plain": [
       "0.883000000000000"
      ]
     },
     "execution_count": 41,
     "metadata": {},
     "output_type": "execute_result"
    }
   ],
   "source": [
    "Li.evaluate_E(0)"
   ]
  },
  {
   "cell_type": "code",
   "execution_count": 42,
   "metadata": {},
   "outputs": [
    {
     "data": {
      "text/html": [
       "<html><script type=\"math/tex; mode=display\">\\newcommand{\\Bold}[1]{\\mathbf{#1}}1.98200000000000</script></html>"
      ],
      "text/plain": [
       "1.98200000000000"
      ]
     },
     "execution_count": 42,
     "metadata": {},
     "output_type": "execute_result"
    }
   ],
   "source": [
    "Li.evaluate_L(0)"
   ]
  },
  {
   "cell_type": "code",
   "execution_count": 43,
   "metadata": {},
   "outputs": [
    {
     "data": {
      "text/html": [
       "<html><script type=\"math/tex; mode=display\">\\newcommand{\\Bold}[1]{\\mathbf{#1}}0.467000000000000</script></html>"
      ],
      "text/plain": [
       "0.467000000000000"
      ]
     },
     "execution_count": 43,
     "metadata": {},
     "output_type": "execute_result"
    }
   ],
   "source": [
    "Li.evaluate_Q(0)"
   ]
  },
  {
   "cell_type": "markdown",
   "metadata": {},
   "source": [
    "Let us check that the values of $\\mu$, $E$, $L$ and $Q$ evaluated at $\\lambda=300 \\, m$ are equal to those at $\\lambda=0$ up to the numerical accuracy of the integration scheme:"
   ]
  },
  {
   "cell_type": "code",
   "execution_count": 44,
   "metadata": {},
   "outputs": [
    {
     "data": {
      "text/html": [
       "<div class=\"notruncate\">\n",
       "<table  class=\"table_form\">\n",
       "<tbody>\n",
       "<tr class =\"row-a\">\n",
       "<td>quantity</td>\n",
       "<td>value</td>\n",
       "<td>initial value</td>\n",
       "<td>diff.</td>\n",
       "<td>relative diff.</td>\n",
       "</tr>\n",
       "<tr class =\"row-b\">\n",
       "<td><script type=\"math/tex\">\\mu</script></td>\n",
       "<td><script type=\"math/tex\">1.0000117991483337</script></td>\n",
       "<td><script type=\"math/tex\">1.00000000000000</script></td>\n",
       "<td><script type=\"math/tex\">0.00001180</script></td>\n",
       "<td><script type=\"math/tex\">0.00001180</script></td>\n",
       "</tr>\n",
       "<tr class =\"row-a\">\n",
       "<td><script type=\"math/tex\">E</script></td>\n",
       "<td><script type=\"math/tex\">0.883067996752519</script></td>\n",
       "<td><script type=\"math/tex\">0.883000000000000</script></td>\n",
       "<td><script type=\"math/tex\">0.00006800</script></td>\n",
       "<td><script type=\"math/tex\">0.00007701</script></td>\n",
       "</tr>\n",
       "<tr class =\"row-b\">\n",
       "<td><script type=\"math/tex\">L</script></td>\n",
       "<td><script type=\"math/tex\">1.98248083176764</script></td>\n",
       "<td><script type=\"math/tex\">1.98200000000000</script></td>\n",
       "<td><script type=\"math/tex\">0.0004808</script></td>\n",
       "<td><script type=\"math/tex\">0.0002426</script></td>\n",
       "</tr>\n",
       "<tr class =\"row-a\">\n",
       "<td><script type=\"math/tex\">Q</script></td>\n",
       "<td><script type=\"math/tex\">0.467214121733873</script></td>\n",
       "<td><script type=\"math/tex\">0.467000000000000</script></td>\n",
       "<td><script type=\"math/tex\">0.0002141</script></td>\n",
       "<td><script type=\"math/tex\">0.0004585</script></td>\n",
       "</tr>\n",
       "</tbody>\n",
       "</table>\n",
       "</div>"
      ],
      "text/plain": [
       "  quantity         value            initial value       diff.      relative diff.\n",
       "   $\\mu$     1.0000117991483337   1.00000000000000    0.00001180     0.00001180\n",
       "    $E$      0.883067996752519    0.883000000000000   0.00006800     0.00007701\n",
       "    $L$       1.98248083176764    1.98200000000000    0.0004808      0.0002426\n",
       "    $Q$      0.467214121733873    0.467000000000000   0.0002141      0.0004585"
      ]
     },
     "execution_count": 44,
     "metadata": {},
     "output_type": "execute_result"
    }
   ],
   "source": [
    "Li.check_integrals_of_motion(300)"
   ]
  },
  {
   "cell_type": "markdown",
   "metadata": {},
   "source": [
    "Decreasing the integration step leads to smaller errors:"
   ]
  },
  {
   "cell_type": "code",
   "execution_count": 45,
   "metadata": {},
   "outputs": [
    {
     "data": {
      "text/html": [
       "<div class=\"notruncate\">\n",
       "<table  class=\"table_form\">\n",
       "<tbody>\n",
       "<tr class =\"row-a\">\n",
       "<td>quantity</td>\n",
       "<td>value</td>\n",
       "<td>initial value</td>\n",
       "<td>diff.</td>\n",
       "<td>relative diff.</td>\n",
       "</tr>\n",
       "<tr class =\"row-b\">\n",
       "<td><script type=\"math/tex\">\\mu</script></td>\n",
       "<td><script type=\"math/tex\">1.0000023592012068</script></td>\n",
       "<td><script type=\"math/tex\">1.00000000000000</script></td>\n",
       "<td><script type=\"math/tex\">2.359 \\times 10^{-6}</script></td>\n",
       "<td><script type=\"math/tex\">2.359 \\times 10^{-6}</script></td>\n",
       "</tr>\n",
       "<tr class =\"row-a\">\n",
       "<td><script type=\"math/tex\">E</script></td>\n",
       "<td><script type=\"math/tex\">0.883013605582177</script></td>\n",
       "<td><script type=\"math/tex\">0.883000000000000</script></td>\n",
       "<td><script type=\"math/tex\">0.00001361</script></td>\n",
       "<td><script type=\"math/tex\">0.00001541</script></td>\n",
       "</tr>\n",
       "<tr class =\"row-b\">\n",
       "<td><script type=\"math/tex\">L</script></td>\n",
       "<td><script type=\"math/tex\">1.98209628664691</script></td>\n",
       "<td><script type=\"math/tex\">1.98200000000000</script></td>\n",
       "<td><script type=\"math/tex\">0.00009629</script></td>\n",
       "<td><script type=\"math/tex\">0.00004858</script></td>\n",
       "</tr>\n",
       "<tr class =\"row-a\">\n",
       "<td><script type=\"math/tex\">Q</script></td>\n",
       "<td><script type=\"math/tex\">0.467042767529623</script></td>\n",
       "<td><script type=\"math/tex\">0.467000000000000</script></td>\n",
       "<td><script type=\"math/tex\">0.00004277</script></td>\n",
       "<td><script type=\"math/tex\">0.00009158</script></td>\n",
       "</tr>\n",
       "</tbody>\n",
       "</table>\n",
       "</div>"
      ],
      "text/plain": [
       "  quantity         value            initial value       diff.      relative diff.\n",
       "   $\\mu$     1.0000023592012068   1.00000000000000     2.359e-6       2.359e-6\n",
       "    $E$      0.883013605582177    0.883000000000000   0.00001361     0.00001541\n",
       "    $L$       1.98209628664691    1.98200000000000    0.00009629     0.00004858\n",
       "    $Q$      0.467042767529623    0.467000000000000   0.00004277     0.00009158"
      ]
     },
     "execution_count": 45,
     "metadata": {},
     "output_type": "execute_result"
    }
   ],
   "source": [
    "Li.integrate(step=0.001)\n",
    "Li.check_integrals_of_motion(300)"
   ]
  },
  {
   "cell_type": "markdown",
   "metadata": {},
   "source": [
    "## Various ways to initialize a geodesic"
   ]
  },
  {
   "cell_type": "markdown",
   "metadata": {},
   "source": [
    "Instead of providing the integral of motions, as for ``Li`` above, one can initialize a geodesic by providing the Boyer-Lindquist components $(p^t_0, p^r_0, p^\\theta_0, p^\\phi_0)$ of the initial 4-momentum vector $p_0$. For instance:"
   ]
  },
  {
   "cell_type": "code",
   "execution_count": 46,
   "metadata": {},
   "outputs": [
    {
     "name": "stdout",
     "output_type": "stream",
     "text": [
      "Tangent vector p at Point P on the Kerr spacetime M\n"
     ]
    }
   ],
   "source": [
    "print(p0)"
   ]
  },
  {
   "cell_type": "code",
   "execution_count": 47,
   "metadata": {},
   "outputs": [
    {
     "data": {
      "text/html": [
       "<html><script type=\"math/tex; mode=display\">\\newcommand{\\Bold}[1]{\\mathbf{#1}}\\left[1.29225788954106, 0.00438084990626460, 0.0189826106258554, 0.0646134478134985\\right]</script></html>"
      ],
      "text/plain": [
       "[1.29225788954106, 0.00438084990626460, 0.0189826106258554, 0.0646134478134985]"
      ]
     },
     "execution_count": 47,
     "metadata": {},
     "output_type": "execute_result"
    }
   ],
   "source": [
    "p0[:]"
   ]
  },
  {
   "cell_type": "code",
   "execution_count": 48,
   "metadata": {},
   "outputs": [
    {
     "data": {
      "text/html": [
       "<html><script type=\"math/tex; mode=display\">\\newcommand{\\Bold}[1]{\\mathbf{#1}}\\mathrm{True}</script></html>"
      ],
      "text/plain": [
       "True"
      ]
     },
     "execution_count": 48,
     "metadata": {},
     "output_type": "execute_result"
    }
   ],
   "source": [
    "Li2 = M.geodesic([0, 300], P, pt0=p0[0], pr0=p0[1], pth0=p0[2], pph0=p0[3], \n",
    "                 a_num=0.998)\n",
    "Li2.initial_tangent_vector() == p0"
   ]
  },
  {
   "cell_type": "markdown",
   "metadata": {},
   "source": [
    "As a check, we recover the same values of $(\\mu, E, L, Q)$ as those that were used to initialize ``Li``:"
   ]
  },
  {
   "cell_type": "code",
   "execution_count": 49,
   "metadata": {},
   "outputs": [
    {
     "data": {
      "text/html": [
       "<html><script type=\"math/tex; mode=display\">\\newcommand{\\Bold}[1]{\\mathbf{#1}}1.00000000000000</script></html>"
      ],
      "text/plain": [
       "1.00000000000000"
      ]
     },
     "execution_count": 49,
     "metadata": {},
     "output_type": "execute_result"
    }
   ],
   "source": [
    "Li2.evaluate_mu(0)"
   ]
  },
  {
   "cell_type": "code",
   "execution_count": 50,
   "metadata": {},
   "outputs": [
    {
     "data": {
      "text/html": [
       "<html><script type=\"math/tex; mode=display\">\\newcommand{\\Bold}[1]{\\mathbf{#1}}0.883000000000000</script></html>"
      ],
      "text/plain": [
       "0.883000000000000"
      ]
     },
     "execution_count": 50,
     "metadata": {},
     "output_type": "execute_result"
    }
   ],
   "source": [
    "Li2.evaluate_E(0)"
   ]
  },
  {
   "cell_type": "code",
   "execution_count": 51,
   "metadata": {},
   "outputs": [
    {
     "data": {
      "text/html": [
       "<html><script type=\"math/tex; mode=display\">\\newcommand{\\Bold}[1]{\\mathbf{#1}}1.98200000000000</script></html>"
      ],
      "text/plain": [
       "1.98200000000000"
      ]
     },
     "execution_count": 51,
     "metadata": {},
     "output_type": "execute_result"
    }
   ],
   "source": [
    "Li2.evaluate_L(0)"
   ]
  },
  {
   "cell_type": "code",
   "execution_count": 52,
   "metadata": {},
   "outputs": [
    {
     "data": {
      "text/html": [
       "<html><script type=\"math/tex; mode=display\">\\newcommand{\\Bold}[1]{\\mathbf{#1}}0.467000000000000</script></html>"
      ],
      "text/plain": [
       "0.467000000000000"
      ]
     },
     "execution_count": 52,
     "metadata": {},
     "output_type": "execute_result"
    }
   ],
   "source": [
    "Li2.evaluate_Q(0)"
   ]
  },
  {
   "cell_type": "markdown",
   "metadata": {},
   "source": [
    "We may also initialize a geodesic by providing the mass $\\mu$ and the three spatial components $(p^r_0, p^\\theta_0, p^\\phi_0)$ of the initial 4-momentum vector:"
   ]
  },
  {
   "cell_type": "code",
   "execution_count": 53,
   "metadata": {},
   "outputs": [],
   "source": [
    "Li3 = M.geodesic([0, 300], P, mu=1, pr0=p0[1], pth0=p0[2], pph0=p0[3], \n",
    "                 a_num=0.998)"
   ]
  },
  {
   "cell_type": "markdown",
   "metadata": {},
   "source": [
    "The component $p^t_0$ is then automatically computed:"
   ]
  },
  {
   "cell_type": "code",
   "execution_count": 54,
   "metadata": {},
   "outputs": [
    {
     "data": {
      "text/html": [
       "<html><script type=\"math/tex; mode=display\">\\newcommand{\\Bold}[1]{\\mathbf{#1}}\\left[1.29225788954106, 0.00438084990626460, 0.0189826106258554, 0.0646134478134985\\right]</script></html>"
      ],
      "text/plain": [
       "[1.29225788954106, 0.00438084990626460, 0.0189826106258554, 0.0646134478134985]"
      ]
     },
     "execution_count": 54,
     "metadata": {},
     "output_type": "execute_result"
    }
   ],
   "source": [
    "Li3.initial_tangent_vector()[:]  "
   ]
  },
  {
   "cell_type": "markdown",
   "metadata": {},
   "source": [
    "and we check the identity with the initial vector of ``Li``, up to numerical errors:"
   ]
  },
  {
   "cell_type": "code",
   "execution_count": 55,
   "metadata": {},
   "outputs": [
    {
     "data": {
      "text/html": [
       "<html><script type=\"math/tex; mode=display\">\\newcommand{\\Bold}[1]{\\mathbf{#1}}\\left[2.22044604925031 \\times 10^{-16}, 0, 0, 0\\right]</script></html>"
      ],
      "text/plain": [
       "[2.22044604925031e-16, 0, 0, 0]"
      ]
     },
     "execution_count": 55,
     "metadata": {},
     "output_type": "execute_result"
    }
   ],
   "source": [
    "(Li3.initial_tangent_vector() - p0)[:] "
   ]
  },
  {
   "cell_type": "markdown",
   "metadata": {},
   "source": [
    "Another way to initialize a geodesic is to provide the conserved energy $E$, the conserved angular momentum $L$ and the two components $(p^r_0, p^\\theta_0)$ of the initial 4-momentum vector:"
   ]
  },
  {
   "cell_type": "code",
   "execution_count": 56,
   "metadata": {},
   "outputs": [
    {
     "data": {
      "text/html": [
       "<html><script type=\"math/tex; mode=display\">\\newcommand{\\Bold}[1]{\\mathbf{#1}}\\left[1.29225788954106, 0.00438084990626460, 0.0189826106258554, 0.0646134478134985\\right]</script></html>"
      ],
      "text/plain": [
       "[1.29225788954106, 0.00438084990626460, 0.0189826106258554, 0.0646134478134985]"
      ]
     },
     "execution_count": 56,
     "metadata": {},
     "output_type": "execute_result"
    }
   ],
   "source": [
    "Li4 = M.geodesic([0, 300], P, E=0.8830, L=1.982, pr0=p0[1], pth0=p0[2], \n",
    "                 a_num=0.998)\n",
    "Li4.initial_tangent_vector()[:]"
   ]
  },
  {
   "cell_type": "markdown",
   "metadata": {},
   "source": [
    "Again, we get a geodesic equivalent to ``Li``:"
   ]
  },
  {
   "cell_type": "code",
   "execution_count": 57,
   "metadata": {},
   "outputs": [
    {
     "data": {
      "text/html": [
       "<html><script type=\"math/tex; mode=display\">\\newcommand{\\Bold}[1]{\\mathbf{#1}}\\left[0, 0, 0, 0\\right]</script></html>"
      ],
      "text/plain": [
       "[0, 0, 0, 0]"
      ]
     },
     "execution_count": 57,
     "metadata": {},
     "output_type": "execute_result"
    }
   ],
   "source": [
    "(Li4.initial_tangent_vector() - p0)[:] "
   ]
  },
  {
   "cell_type": "markdown",
   "metadata": {},
   "source": [
    "## Ingoing null geodesic with negative angular momentum"
   ]
  },
  {
   "cell_type": "markdown",
   "metadata": {},
   "source": [
    "We choose a ingoing null geodesic in the equatorial plane with $L = -6 E < 0$, starting at the point of Boyer-Lindquist coordinates $(t,r,\\theta,\\phi) = (0, 12, \\pi/2, 0)$:"
   ]
  },
  {
   "cell_type": "code",
   "execution_count": 58,
   "metadata": {},
   "outputs": [
    {
     "name": "stdout",
     "output_type": "stream",
     "text": [
      "Initial tangent vector: \n"
     ]
    },
    {
     "data": {
      "text/html": [
       "<html><script type=\"math/tex; mode=display\">\\newcommand{\\Bold}[1]{\\mathbf{#1}}p = 1.20797381595070 \\frac{\\partial}{\\partial t } -0.901996260873419 \\frac{\\partial}{\\partial r } -0.0399489777089388 \\frac{\\partial}{\\partial {\\phi} }</script></html>"
      ],
      "text/plain": [
       "p = 1.20797381595070 d/dt - 0.901996260873419 d/dr - 0.0399489777089388 d/dph"
      ]
     },
     "metadata": {},
     "output_type": "display_data"
    },
    {
     "name": "stdout",
     "output_type": "stream",
     "text": [
      "The curve was correctly set.\n",
      "Parameters appearing in the differential system defining the curve are [a].\n"
     ]
    }
   ],
   "source": [
    "lambda_max = 13.063\n",
    "Li = M.geodesic([0, lambda_max], M((0,12,pi/2,0)), mu=0, E=1, L=-6, Q=0,\n",
    "                r_increase=False, a_num=a0, name='Li', latex_name=r'\\mathcal{L}', \n",
    "                verbose=True)"
   ]
  },
  {
   "cell_type": "code",
   "execution_count": 59,
   "metadata": {},
   "outputs": [],
   "source": [
    "Li.integrate(step=0.00002)"
   ]
  },
  {
   "cell_type": "markdown",
   "metadata": {},
   "source": [
    "We plot the trajectory of the geodesic in the equatorial plane with the tangent vector at 6 points:"
   ]
  },
  {
   "cell_type": "code",
   "execution_count": 60,
   "metadata": {},
   "outputs": [
    {
     "data": {
      "image/png": "[encoded data removed]",
      "text/plain": [
       "Graphics object consisting of 8 graphics primitives"
      ]
     },
     "execution_count": 60,
     "metadata": {},
     "output_type": "execute_result"
    }
   ],
   "source": [
    "Li.plot(coordinates='xy', color='green', prange=[0, lambda_max], plot_points=40000, \n",
    "        display_tangent=True, scale=0.002, color_tangent='brown',\n",
    "        plot_points_tangent=6, axes_labels=[r'$x/m$', r'$y/m$'])"
   ]
  },
  {
   "cell_type": "markdown",
   "metadata": {},
   "source": [
    "Note the turning point in $\\phi$ and the final winding in the direction of the black\n",
    "rotation (counterclockwise in the figure)."
   ]
  },
  {
   "cell_type": "code",
   "execution_count": 61,
   "metadata": {},
   "outputs": [
    {
     "data": {
      "text/html": [
       "<div class=\"notruncate\">\n",
       "<table  class=\"table_form\">\n",
       "<tbody>\n",
       "<tr class =\"row-a\">\n",
       "<td>quantity</td>\n",
       "<td>value</td>\n",
       "<td>initial value</td>\n",
       "<td>diff.</td>\n",
       "<td>relative diff.</td>\n",
       "</tr>\n",
       "<tr class =\"row-b\">\n",
       "<td><script type=\"math/tex\">\\mu</script></td>\n",
       "<td><script type=\"math/tex\">0.014553409443719141</script></td>\n",
       "<td><script type=\"math/tex\">0</script></td>\n",
       "<td><script type=\"math/tex\">0.01455</script></td>\n",
       "<td>-</td>\n",
       "</tr>\n",
       "<tr class =\"row-a\">\n",
       "<td><script type=\"math/tex\">E</script></td>\n",
       "<td><script type=\"math/tex\">1.00000186070196</script></td>\n",
       "<td><script type=\"math/tex\">1.00000000000000</script></td>\n",
       "<td><script type=\"math/tex\">1.861 \\times 10^{-6}</script></td>\n",
       "<td><script type=\"math/tex\">1.861 \\times 10^{-6}</script></td>\n",
       "</tr>\n",
       "<tr class =\"row-b\">\n",
       "<td><script type=\"math/tex\">L</script></td>\n",
       "<td><script type=\"math/tex\">-5.99999596833300</script></td>\n",
       "<td><script type=\"math/tex\">-6.00000000000000</script></td>\n",
       "<td><script type=\"math/tex\">4.032 \\times 10^{-6}</script></td>\n",
       "<td><script type=\"math/tex\">-6.719 \\times 10^{-7}</script></td>\n",
       "</tr>\n",
       "<tr class =\"row-a\">\n",
       "<td><script type=\"math/tex\">Q</script></td>\n",
       "<td><script type=\"math/tex\">1.31244559245892 \\times 10^{-31}</script></td>\n",
       "<td><script type=\"math/tex\">0</script></td>\n",
       "<td><script type=\"math/tex\">1.312 \\times 10^{-31}</script></td>\n",
       "<td>-</td>\n",
       "</tr>\n",
       "</tbody>\n",
       "</table>\n",
       "</div>"
      ],
      "text/plain": [
       "  quantity          value             initial value       diff.     relative diff.\n",
       "   $\\mu$     0.014553409443719141           0            0.01455          -\n",
       "    $E$        1.00000186070196     1.00000000000000    1.861e-6       1.861e-6\n",
       "    $L$       -5.99999596833300     -6.00000000000000   4.032e-6      -6.719e-7\n",
       "    $Q$      1.31244559245892e-31           0           1.312e-31         -"
      ]
     },
     "execution_count": 61,
     "metadata": {},
     "output_type": "execute_result"
    }
   ],
   "source": [
    "Li.check_integrals_of_motion(0.99999*lambda_max)"
   ]
  },
  {
   "cell_type": "code",
   "execution_count": null,
   "metadata": {},
   "outputs": [],
   "source": []
  }
 ],
 "metadata": {
  "kernelspec": {
   "display_name": "SageMath 9.1",
   "language": "sage",
   "name": "sagemath"
  },
  "language_info": {
   "codemirror_mode": {
    "name": "ipython",
    "version": 3
   },
   "file_extension": ".py",
   "mimetype": "text/x-python",
   "name": "python",
   "nbconvert_exporter": "python",
   "pygments_lexer": "ipython3",
   "version": "3.7.3"
  }
 },
 "nbformat": 4,
 "nbformat_minor": 2
}
